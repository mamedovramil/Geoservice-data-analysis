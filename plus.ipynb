{
 "cells": [
  {
   "cell_type": "code",
   "execution_count": 1,
   "id": "c7200ded-0a2f-4bd5-9e34-b805b8c435c4",
   "metadata": {
    "execution": {
     "iopub.execute_input": "2023-06-15T21:07:30.778046Z",
     "iopub.status.busy": "2023-06-15T21:07:30.778046Z",
     "iopub.status.idle": "2023-06-15T21:07:42.987551Z",
     "shell.execute_reply": "2023-06-15T21:07:42.986630Z",
     "shell.execute_reply.started": "2023-06-15T21:07:30.778046Z"
    },
    "tags": []
   },
   "outputs": [
    {
     "name": "stdout",
     "output_type": "stream",
     "text": [
      "Ready: 2023-06-16 00:07:42\n"
     ]
    }
   ],
   "source": [
    "%run functions.ipynb"
   ]
  },
  {
   "cell_type": "code",
   "execution_count": 130,
   "id": "4114d5bc-a46f-4715-83b0-8c18e7e3b15f",
   "metadata": {
    "execution": {
     "iopub.execute_input": "2023-06-14T05:02:06.352062Z",
     "iopub.status.busy": "2023-06-14T05:02:06.351067Z",
     "iopub.status.idle": "2023-06-14T05:02:06.368757Z",
     "shell.execute_reply": "2023-06-14T05:02:06.367682Z",
     "shell.execute_reply.started": "2023-06-14T05:02:06.352062Z"
    }
   },
   "outputs": [],
   "source": [
    "def make_hse_image2(df, output_file_name=None, cols_without_color=[0], dedup_cols=None, col_width=1.0, row_height=0.625, font_size=28,\n",
    "                     header_color='#249FD8', row_colors=['#D2DDF1', 'w'], edge_color='w',\n",
    "                     bbox=[0, 0, 1, 1], header_columns=0,\n",
    "                     ax=None, show=False, **kwargs):\n",
    "    rating_col = df.columns[-1]\n",
    "    data = df\n",
    "    data['Население'] = data['Население'].apply(make_sep)\n",
    "    if ax is None:\n",
    "        size = (np.array([6.3*4, 3.94*4]))\n",
    "        fig, ax = plt.subplots(figsize=size, dpi=2**8)\n",
    "        ax.axis('off')\n",
    "\n",
    "    mpl_table = ax.table(cellText=data.values, bbox=bbox, colLabels=data.columns, colLoc='center', loc='bottom')\n",
    "    mpl_table.auto_set_font_size(False)\n",
    "    cells_dict = dict(six.iteritems(mpl_table._cells))\n",
    "    \n",
    "    #im = plt.imread(r\"C:\\Users\\Mamed\\YandexDisk\\_Documents\\Проекты\\2ГИС 2023\\Лого\\01_Logo_HSE_full_rus_PANTONE_for_dark_2.png\")\n",
    "    #ax.figure.figimage(im, 60, 2820, zorder=1, alpha=1)\n",
    "    \n",
    "    fpath = Path(mpl.get_data_path(), r\"C:\\Users\\Mamed\\YandexDisk\\_Documents\\Проекты\\2ГИС 2023\\Лого\\arialnarrow.ttf\")\n",
    "    #colors_dict = colorize_column(df, cols_not_to_color=cols_without_color)\n",
    "    #colors_dict.update(colorize_column(data, cols_not_to_color=list(range(data.shape[1]-1))), filter_zero=True)\n",
    "    colors = ([color_list_full[i] for i in range(0, len(color_list_full), len(color_list_full) % 20)] + [color_list_full[-1]]) \n",
    "    \n",
    "    for k in sorted(cells_dict.keys()): #k[0] - строка, k[1] - столбец\n",
    "        cell = cells_dict[k]\n",
    "        cell.set_edgecolor(edge_color)\n",
    "        row_index = k[0]\n",
    "        column_index = k[1]\n",
    "        \n",
    "        # Высота и цвет заголовков\n",
    "        if row_index == 0:\n",
    "            rotation='horizontal' if k == (0,0) else 'vertical' \n",
    "            cell.set_text_props(color='w', ha='center')\n",
    "            cell.set_facecolor(header_color)\n",
    "            cell.set_height(0.04)\n",
    "            \n",
    "        # Высота и цвет остальных строк\n",
    "        else:\n",
    "            ha = 'left' if column_index in (0,1,2) else 'right'\n",
    "            cell.set_facecolor(row_colors[k[0]%len(row_colors)])\n",
    "            cell.set_height(0.008)\n",
    "            cell.set_text_props(wrap=True, ha=ha)\n",
    "        \n",
    "        # Ширина столбцов\n",
    "        if column_index == 0:\n",
    "            cell.set_width(0.0001)\n",
    "            cell.set_text_props(ha='right')\n",
    "        else:\n",
    "            cell.set_width(0.0006)\n",
    "            \n",
    "        if row_index == 0 and column_index == 0:\n",
    "            cell.set_text_props(ha='center')\n",
    "\n",
    "        # Цветвоая шкала\n",
    "        if row_index > 0 and column_index == 3:\n",
    "            cell.set_facecolor(colors.pop(0).upper())       \n",
    "            \n",
    "        if row_index == 18:\n",
    "            cell.set_text_props(color='w')\n",
    "            cell.set_facecolor(header_color) \n",
    "            if column_index == 1 or column_index == 2:\n",
    "                cell.set_text_props(color=header_color)\n",
    "            \n",
    "        # Шрифт\n",
    "        cell.set_text_props(font=fpath, fontsize=font_size)\n",
    "    if output_file_name:\n",
    "        fig.savefig(f'{output_file_name}', bbox_inches='tight')\n",
    "    if show:\n",
    "        plt.show()\n",
    "    plt.close()    \n"
   ]
  },
  {
   "cell_type": "code",
   "execution_count": null,
   "id": "ba3e013d-26ee-4518-a0d4-4e9c2f67af39",
   "metadata": {
    "execution": {
     "iopub.execute_input": "2023-06-14T05:03:16.824887Z",
     "iopub.status.busy": "2023-06-14T05:03:16.824887Z",
     "iopub.status.idle": "2023-06-14T05:03:18.438952Z",
     "shell.execute_reply": "2023-06-14T05:03:18.437943Z",
     "shell.execute_reply.started": "2023-06-14T05:03:16.824887Z"
    },
    "tags": []
   },
   "outputs": [],
   "source": [
    "now = str(datetime.datetime.now())[:-9].replace('-','').replace(' ','_').replace(':','')\n",
    "dfn = pd.read_excel(r\"C:\\Users\\Mamed\\YandexDisk\\_Documents\\Проекты\\ВШЭ\\_Backups\\Таблица_Население_230425_0030.xlsx\")\n",
    "make_hse_image2(dfn, f'table_{now}.png', show=True)"
   ]
  },
  {
   "cell_type": "code",
   "execution_count": 123,
   "id": "731d6b13-cb75-4634-b5ec-8e601d675834",
   "metadata": {
    "execution": {
     "iopub.execute_input": "2023-06-14T04:58:32.623947Z",
     "iopub.status.busy": "2023-06-14T04:58:32.623947Z",
     "iopub.status.idle": "2023-06-14T04:58:32.642940Z",
     "shell.execute_reply": "2023-06-14T04:58:32.641940Z",
     "shell.execute_reply.started": "2023-06-14T04:58:32.623947Z"
    },
    "tags": []
   },
   "outputs": [],
   "source": [
    "def make_hse_image(df, output_file_name=None, cols_without_color=[0], dedup_cols=None, col_width=1.0, row_height=0.625, font_size=28,\n",
    "                     header_color='#249FD8', row_colors=['#D2DDF1', 'w'], edge_color='w',\n",
    "                     bbox=[0, 0, 1, 1], header_columns=0,\n",
    "                     ax=None, show=False, **kwargs):\n",
    "    rating_col = df.columns[-1]\n",
    "    data = df.sort_values(rating_col, ascending=False)\n",
    "    data_separeted_numbers = data.copy()\n",
    "    for col in data.columns[1:]:\n",
    "        data_separeted_numbers[col] = data[col].apply(make_sep)\n",
    "        if col in ['Пользователи, %', 'Запросы, %', 'Запросов на пользователя,\\nитого']:\n",
    "            data_separeted_numbers[col] = data[col].apply(lambda x: str(x).replace('.',','))\n",
    "        \n",
    "    if ax is None:\n",
    "        size = (np.array([6.3*4, 3.94*4]))\n",
    "        fig, ax = plt.subplots(figsize=size, dpi=2**8)\n",
    "        ax.axis('off')\n",
    "\n",
    "    mpl_table = ax.table(cellText=data_separeted_numbers.values, bbox=bbox, colLabels=data.columns, colLoc='center', loc='bottom')\n",
    "    mpl_table.auto_set_font_size(False)\n",
    "    cells_dict = dict(six.iteritems(mpl_table._cells))\n",
    "    \n",
    "    #im = plt.imread(r\"C:\\Users\\Mamed\\YandexDisk\\_Documents\\Проекты\\2ГИС 2023\\Лого\\Лого_2ГИС_230401_1600.png\")\n",
    "    #ax.figure.figimage(im, 43, 44, zorder=1, alpha=0.5)\n",
    "#\n",
    "    #im = plt.imread(r\"C:\\Users\\Mamed\\YandexDisk\\_Documents\\Проекты\\2ГИС 2023\\Лого\\лого_ШТ_230401_1600.png\")\n",
    "    #ax.figure.figimage(im, 43, 1068, zorder=1, alpha=0.5)\n",
    "    \n",
    "    fpath = Path(mpl.get_data_path(), r\"C:\\Users\\Mamed\\YandexDisk\\_Documents\\Проекты\\2ГИС 2023\\Лого\\arialnarrow.ttf\")\n",
    "    colors_dict = colorize_column(df, cols_not_to_color=cols_without_color)\n",
    "    colors_dict.update(colorize_column(data, cols_not_to_color=list(range(data.shape[1]-1))), filter_zero=True)\n",
    "    colors = ([color_list_full[i] for i in range(0, len(color_list_full), len(color_list_full) % 15)] + [color_list_full[-1]]) \n",
    "    \n",
    "    #im = plt.imread(r\"C:\\Users\\Mamed\\YandexDisk\\_Documents\\Проекты\\2ГИС 2023\\Лого\\01_Logo_HSE_full_rus_PANTONE_for_dark_2.png\")\n",
    "    #ax.figure.figimage(im, 100, 2800, zorder=1, alpha=1)\n",
    "\n",
    "    for k in sorted(cells_dict.keys()): #k[0] - строка, k[1] - столбец\n",
    "        cell = cells_dict[k]\n",
    "        cell.set_edgecolor(edge_color)\n",
    "        row_index = k[0]\n",
    "        column_index = k[1]\n",
    "        \n",
    "        # Высота и цвет заголовков\n",
    "        if row_index == 0:\n",
    "            rotation='horizontal' if k == (0,0) else 'vertical' \n",
    "            cell.set_text_props(color='w', rotation=rotation, ha='center')\n",
    "            cell.set_facecolor(header_color)\n",
    "            cell.set_height(0.05)\n",
    "            \n",
    "        # Высота и цвет остальных строк\n",
    "        else:\n",
    "            ha = 'left' if column_index ==0 else 'right'\n",
    "            cell.set_facecolor(row_colors[k[0]%len(row_colors)])\n",
    "            cell.set_height(0.008)\n",
    "            cell.set_text_props(wrap=True, ha=ha)\n",
    "        \n",
    "        # Ширина столбцов\n",
    "        if column_index == 0:\n",
    "            cell.set_width(0.006)\n",
    "        elif column_index == 6:\n",
    "            cell.set_width(0.0008)\n",
    "        else:\n",
    "            cell.set_width(0.0016)\n",
    "                        \n",
    "        # Цветвоая шкала\n",
    "        if row_index > 0 and column_index not in cols_without_color and row_index<16:\n",
    "            cell.set_facecolor(colors.pop(0).upper())       \n",
    "            \n",
    "        if row_index == 16:\n",
    "            cell.set_text_props(color='w')\n",
    "            cell.set_facecolor(header_color) \n",
    "            if column_index == 6:\n",
    "                cell.set_text_props(color=header_color)\n",
    "            \n",
    "        # Шрифт\n",
    "        cell.set_text_props(font=fpath, fontsize=font_size)\n",
    "    if output_file_name:\n",
    "        fig.savefig(f'{output_file_name}', bbox_inches='tight')\n",
    "    if show:\n",
    "        plt.show()\n",
    "    plt.close()    \n"
   ]
  },
  {
   "cell_type": "code",
   "execution_count": 119,
   "id": "9b7eac65-ef16-401e-9e64-6c3fa20c68b6",
   "metadata": {
    "execution": {
     "iopub.execute_input": "2023-06-14T04:46:22.210328Z",
     "iopub.status.busy": "2023-06-14T04:46:22.210328Z",
     "iopub.status.idle": "2023-06-14T04:46:22.508742Z",
     "shell.execute_reply": "2023-06-14T04:46:22.507719Z",
     "shell.execute_reply.started": "2023-06-14T04:46:22.210328Z"
    },
    "tags": []
   },
   "outputs": [
    {
     "data": {
      "text/plain": [
       "Index(['№', 'Рубрика', 'Пользователи 2020', 'Пользователи 2021',\n",
       "       'Пользователи 2022', 'Пользователи 2023', 'Пользователи, итого',\n",
       "       'Пользователи, %', 'Запросы 2020', 'Запросы 2021', 'Запросы 2022',\n",
       "       'Запросы 2023', 'Запросы, итого', 'Запросы, %',\n",
       "       'Запросов на пользователя 2020', 'Запросов на пользователя 2021',\n",
       "       'Запросов на пользователя 2022', 'Запросов на пользователя 2023',\n",
       "       'Запросов на пользователя, итого'],\n",
       "      dtype='object')"
      ]
     },
     "execution_count": 119,
     "metadata": {},
     "output_type": "execute_result"
    }
   ],
   "source": [
    "pd.read_excel('files/ten_city/ratings_df.xlsx').columns"
   ]
  },
  {
   "cell_type": "code",
   "execution_count": 120,
   "id": "b3b4b314-cd01-4589-ba6c-9d15ad0f0d65",
   "metadata": {
    "execution": {
     "iopub.execute_input": "2023-06-14T04:47:32.346581Z",
     "iopub.status.busy": "2023-06-14T04:47:32.345596Z",
     "iopub.status.idle": "2023-06-14T04:47:32.660428Z",
     "shell.execute_reply": "2023-06-14T04:47:32.660428Z",
     "shell.execute_reply.started": "2023-06-14T04:47:32.346581Z"
    },
    "tags": []
   },
   "outputs": [],
   "source": [
    "bank_list = ['Банки',\n",
    "'Банкоматы',\n",
    "'Бюро кредитных историй',\n",
    "'Инвестиционные компании',\n",
    "'Ипотечное / жилищное кредитование',\n",
    "'Кредитные потребительские кооперативы',\n",
    "'Лизинговые услуги',\n",
    "'Ломбарды',\n",
    "'Микрофинансирование',\n",
    "'Обмен валюты',\n",
    "'Операции на фондовом рынке',\n",
    "'Паевые инвестиционные фонды (ПИФы)',\n",
    "'Продажа инвестиционных драгоценных металлов / бриллиантов',\n",
    "'Системы денежных переводов',\n",
    "'Услуги факторинга',\n",
    "'Негосударственные пенсионные фонды',\n",
    "'Сельскохозяйственные кредитные потребительские кооперативы',\n",
    "'Банковское оборудование',\n",
    "'Ремонт банковского оборудования',\n",
    "]\n",
    "\n",
    "df = pd.read_excel('files/ten_city/ratings_df.xlsx').fillna(0).astype(\n",
    "    {'Рубрика':str, \n",
    "'Пользователи 2020':int,\n",
    "'Пользователи 2021':int,\n",
    "'Пользователи 2022':int,\n",
    "'Пользователи 2023':int,\n",
    "'Пользователи, итого':int,\n",
    "'Запросы 2020':int,\n",
    "'Запросы 2021':int,\n",
    "'Запросы 2022':int,\n",
    "'Запросы 2023':int,\n",
    "'Запросы, итого':int,   \n",
    "'Запросов на пользователя 2020': float, \n",
    "'Запросов на пользователя 2021': float,\n",
    "'Запросов на пользователя 2022': float, \n",
    "'Запросов на пользователя 2023': float,\n",
    "'Запросов на пользователя, итого': float\n",
    "})\n",
    "\n",
    "df = df[df['Рубрика'].apply(lambda x: x in bank_list)].reset_index().drop(['index','№'], axis=1)\n",
    "\n",
    "df.to_excel('files/plus/Таблица_Плас_таблицы_2_4.xlsx')"
   ]
  },
  {
   "cell_type": "code",
   "execution_count": 128,
   "id": "327418a2-e027-411d-baa1-6ef5c3e71c50",
   "metadata": {
    "execution": {
     "iopub.execute_input": "2023-06-14T05:00:05.528883Z",
     "iopub.status.busy": "2023-06-14T05:00:05.527884Z",
     "iopub.status.idle": "2023-06-14T05:00:05.540974Z",
     "shell.execute_reply": "2023-06-14T05:00:05.539988Z",
     "shell.execute_reply.started": "2023-06-14T05:00:05.527884Z"
    },
    "tags": []
   },
   "outputs": [],
   "source": [
    "df['Запросов\\nна пользователя 2020'] = df['Запросов на пользователя 2020'].round(1)\n",
    "df['Запросов\\nна пользователя 2021'] = df['Запросов на пользователя 2021'].round(1)\n",
    "df['Запросов\\nна пользователя 2022'] = df['Запросов на пользователя 2022'].round(1)\n",
    "df['Запросов\\nна пользователя 2023'] = df['Запросов на пользователя 2023'].round(1)\n",
    "df['Запросов\\nна пользователя, итого'] = df['Запросов на пользователя, итого'].round(1)\n",
    "\n",
    "df_users = df[[\n",
    "    'Рубрика',\n",
    "    'Пользователи 2020',\n",
    "    'Пользователи 2021',\n",
    "    'Пользователи 2022',\n",
    "    'Пользователи 2023',\n",
    "    'Пользователи, итого',\n",
    "]].iloc[list(range(15))].sort_values('Пользователи, итого', ascending=False)\n",
    "\n",
    "df_requests = df[[\n",
    "    'Рубрика',\n",
    "    'Запросы 2020',\n",
    "    'Запросы 2021',\n",
    "    'Запросы 2022',\n",
    "    'Запросы 2023',\n",
    "    'Запросы, итого',\n",
    "]].iloc[list(range(15))].sort_values('Запросы, итого', ascending=False)\n",
    "\n",
    "df_users_requests = df[[\n",
    "    'Рубрика',\n",
    "    'Запросов\\nна пользователя 2020', \n",
    "    'Запросов\\nна пользователя 2021', \n",
    "    'Запросов\\nна пользователя 2022', \n",
    "    'Запросов\\nна пользователя 2023', \n",
    "    'Запросов\\nна пользователя, итого'\n",
    "]].iloc[list(range(15))].sort_values('Запросов\\nна пользователя, итого', ascending=False)\n"
   ]
  },
  {
   "cell_type": "markdown",
   "id": "342c9891-9120-4741-8391-e4c31189319b",
   "metadata": {
    "execution": {
     "iopub.execute_input": "2023-06-14T04:58:49.656711Z",
     "iopub.status.busy": "2023-06-14T04:58:49.655721Z",
     "iopub.status.idle": "2023-06-14T04:58:51.533670Z",
     "shell.execute_reply": "2023-06-14T04:58:51.532674Z",
     "shell.execute_reply.started": "2023-06-14T04:58:49.655721Z"
    },
    "jupyter": {
     "outputs_hidden": true
    },
    "tags": []
   },
   "source": [
    "now = str(datetime.datetime.now())[:-9].replace('-','').replace(' ','_').replace(':','')\n",
    "make_hse_image(df_requests, f'requests_{now}.png', show=True)"
   ]
  },
  {
   "cell_type": "markdown",
   "id": "206b6c08-3daf-439d-9e15-54e6e7eee7c7",
   "metadata": {
    "execution": {
     "iopub.execute_input": "2023-06-14T04:58:51.534672Z",
     "iopub.status.busy": "2023-06-14T04:58:51.534672Z",
     "iopub.status.idle": "2023-06-14T04:58:53.570765Z",
     "shell.execute_reply": "2023-06-14T04:58:53.569876Z",
     "shell.execute_reply.started": "2023-06-14T04:58:51.534672Z"
    },
    "tags": []
   },
   "source": [
    "now = str(datetime.datetime.now())[:-9].replace('-','').replace(' ','_').replace(':','')\n",
    "make_hse_image(df_users, f'users_{now}.png', show=True)"
   ]
  },
  {
   "cell_type": "markdown",
   "id": "54320463-989e-4974-a698-4cde213b56f1",
   "metadata": {
    "execution": {
     "iopub.execute_input": "2023-06-14T05:00:13.064536Z",
     "iopub.status.busy": "2023-06-14T05:00:13.064536Z",
     "iopub.status.idle": "2023-06-14T05:00:14.899575Z",
     "shell.execute_reply": "2023-06-14T05:00:14.898578Z",
     "shell.execute_reply.started": "2023-06-14T05:00:13.064536Z"
    },
    "tags": []
   },
   "source": [
    "now = str(datetime.datetime.now())[:-9].replace('-','').replace(' ','_').replace(':','')\n",
    "make_hse_image(df_users_requests, f'users_req_{now}.png', show=True)"
   ]
  },
  {
   "cell_type": "code",
   "execution_count": null,
   "id": "7197b49a-ac51-404f-acb3-52091b05508f",
   "metadata": {},
   "outputs": [],
   "source": []
  },
  {
   "cell_type": "code",
   "execution_count": 58,
   "id": "261a0a62-d80d-45dd-b2e5-0f65f74041bf",
   "metadata": {
    "execution": {
     "iopub.execute_input": "2023-06-12T19:44:22.769869Z",
     "iopub.status.busy": "2023-06-12T19:44:22.768843Z",
     "iopub.status.idle": "2023-06-12T19:44:22.784843Z",
     "shell.execute_reply": "2023-06-12T19:44:22.783842Z",
     "shell.execute_reply.started": "2023-06-12T19:44:22.769869Z"
    },
    "tags": []
   },
   "outputs": [],
   "source": []
  },
  {
   "cell_type": "code",
   "execution_count": 10,
   "id": "52518d02-1a3c-4c61-9345-8ee88cc241fa",
   "metadata": {
    "execution": {
     "iopub.execute_input": "2023-06-13T08:03:53.896411Z",
     "iopub.status.busy": "2023-06-13T08:03:53.896411Z",
     "iopub.status.idle": "2023-06-13T08:03:54.191713Z",
     "shell.execute_reply": "2023-06-13T08:03:54.190724Z",
     "shell.execute_reply.started": "2023-06-13T08:03:53.896411Z"
    },
    "tags": []
   },
   "outputs": [
    {
     "name": "stdout",
     "output_type": "stream",
     "text": [
      "Ready: 2023-06-13 11:03:54\n"
     ]
    }
   ],
   "source": [
    "%run functions.ipynb\n",
    "spark = get_spark()"
   ]
  },
  {
   "cell_type": "code",
   "execution_count": 11,
   "id": "c7a1c948-1f4a-4aac-add7-4dadfbcf613d",
   "metadata": {
    "execution": {
     "iopub.execute_input": "2023-06-13T08:03:55.787899Z",
     "iopub.status.busy": "2023-06-13T08:03:55.787899Z",
     "iopub.status.idle": "2023-06-13T08:03:55.798418Z",
     "shell.execute_reply": "2023-06-13T08:03:55.797512Z",
     "shell.execute_reply.started": "2023-06-13T08:03:55.787899Z"
    },
    "tags": []
   },
   "outputs": [
    {
     "data": {
      "text/html": [
       "\n",
       "            <div>\n",
       "                <p><b>SparkSession - in-memory</b></p>\n",
       "                \n",
       "        <div>\n",
       "            <p><b>SparkContext</b></p>\n",
       "\n",
       "            <p><a href=\"http://LAPTOP-6654GP8D:4040\">Spark UI</a></p>\n",
       "\n",
       "            <dl>\n",
       "              <dt>Version</dt>\n",
       "                <dd><code>v3.3.1</code></dd>\n",
       "              <dt>Master</dt>\n",
       "                <dd><code>local[*]</code></dd>\n",
       "              <dt>AppName</dt>\n",
       "                <dd><code>PySpark_Tutorial</code></dd>\n",
       "            </dl>\n",
       "        </div>\n",
       "        \n",
       "            </div>\n",
       "        "
      ],
      "text/plain": [
       "<pyspark.sql.session.SparkSession at 0x149031804c0>"
      ]
     },
     "execution_count": 11,
     "metadata": {},
     "output_type": "execute_result"
    }
   ],
   "source": [
    "spark"
   ]
  },
  {
   "cell_type": "code",
   "execution_count": 63,
   "id": "0de5631e-a3b7-459a-8fbc-105969216b0c",
   "metadata": {
    "execution": {
     "iopub.execute_input": "2023-06-12T19:45:09.568526Z",
     "iopub.status.busy": "2023-06-12T19:45:09.568526Z",
     "iopub.status.idle": "2023-06-12T19:45:13.694264Z",
     "shell.execute_reply": "2023-06-12T19:45:13.694264Z",
     "shell.execute_reply.started": "2023-06-12T19:45:09.568526Z"
    },
    "tags": []
   },
   "outputs": [],
   "source": [
    "df_schema = StructType([StructField('user', StringType(), True), StructField('proj', StringType(), True), StructField('rubricName', StringType(), True), StructField('rubricID', IntegerType(), True), StructField('time', StringType(), True), StructField('date', StringType(), True), StructField('org', StringType(), True), StructField('branch', StringType(), True), StructField('prod', StringType(), True), StructField('tx', StringType(), True), StructField('fl', StringType(), True), StructField('devmod', StringType(), True), StructField('lat', StringType(), True), StructField('lon', StringType(), True)])\n",
    "file = files_list_chain[0]\n",
    "final_df = spark.read.option(\"header\",\"true\").csv(file, schema=df_schema)\n",
    "\n",
    "for file in files_list_chain[1:]:\n",
    "    one_df = spark.read.option(\"header\",\"true\").csv(file, schema=df_schema)\n",
    "    final_df = final_df.union(one_df)\n",
    "\n",
    "final_df.createOrReplaceTempView('final_df')"
   ]
  },
  {
   "cell_type": "code",
   "execution_count": 72,
   "id": "eb434046-e9a5-47ef-a134-d997406ca152",
   "metadata": {
    "execution": {
     "iopub.execute_input": "2023-06-12T19:50:03.639258Z",
     "iopub.status.busy": "2023-06-12T19:50:03.639258Z",
     "iopub.status.idle": "2023-06-12T19:50:03.649258Z",
     "shell.execute_reply": "2023-06-12T19:50:03.648257Z",
     "shell.execute_reply.started": "2023-06-12T19:50:03.639258Z"
    },
    "tags": []
   },
   "outputs": [],
   "source": [
    "bank_cond = '(\"' + '\", \"'.join(bank_list) + '\")'"
   ]
  },
  {
   "cell_type": "code",
   "execution_count": 74,
   "id": "455fafac-bab8-4b5d-92e4-a7ec79d37082",
   "metadata": {
    "execution": {
     "iopub.execute_input": "2023-06-12T20:44:45.770345Z",
     "iopub.status.busy": "2023-06-12T20:44:45.770345Z",
     "iopub.status.idle": "2023-06-12T20:44:45.788342Z",
     "shell.execute_reply": "2023-06-12T20:44:45.787341Z",
     "shell.execute_reply.started": "2023-06-12T20:44:45.770345Z"
    },
    "tags": []
   },
   "outputs": [
    {
     "data": {
      "text/plain": [
       "'\\n\\nselect \\n    f.rubricName\\n    ,f.time\\n    ,f.date\\n    ,f.tx\\nfrom final_df as f\\nwhere f.rubricName in (\"Банки\", \"Банкоматы\", \"Бюро кредитных историй\", \"Инвестиционные компании\", \"Ипотечное / жилищное кредитование\", \"Кредитные потребительские кооперативы\", \"Лизинговые услуги\", \"Ломбарды\", \"Микрофинансирование\", \"Обмен валюты\", \"Операции на фондовом рынке\", \"Паевые инвестиционные фонды (ПИФы)\", \"Продажа инвестиционных драгоценных металлов / бриллиантов\", \"Системы денежных переводов\", \"Услуги факторинга\", \"Негосударственные пенсионные фонды\", \"Сельскохозяйственные кредитные потребительские кооперативы\", \"Банковское оборудование\", \"Ремонт банковского оборудования\")\\n'"
      ]
     },
     "execution_count": 74,
     "metadata": {},
     "output_type": "execute_result"
    }
   ],
   "source": [
    "f'''\n",
    "\n",
    "select \n",
    "    f.rubricName\n",
    "    ,f.time\n",
    "    ,f.date\n",
    "    ,f.tx\n",
    "from final_df as f\n",
    "where f.rubricName in {bank_cond}\n",
    "'''"
   ]
  },
  {
   "cell_type": "code",
   "execution_count": 84,
   "id": "ec0cd964-c493-4851-a0db-a09a14bf4d2d",
   "metadata": {
    "execution": {
     "iopub.execute_input": "2023-06-13T01:48:25.516451Z",
     "iopub.status.busy": "2023-06-13T01:48:25.516451Z",
     "iopub.status.idle": "2023-06-13T03:25:48.662597Z",
     "shell.execute_reply": "2023-06-13T03:25:48.661611Z",
     "shell.execute_reply.started": "2023-06-13T01:48:25.516451Z"
    },
    "tags": []
   },
   "outputs": [],
   "source": [
    "bank_requests = spark.sql(f'''\n",
    "\n",
    "select \n",
    "    f.rubricName\n",
    "    ,f.time\n",
    "    ,f.date\n",
    "    ,f.tx\n",
    "from final_df as f\n",
    "where f.rubricName in {bank_cond}\n",
    "''')\n",
    "\n",
    "bank_requests.write.mode('overwrite').parquet(f'files/bank_requests')"
   ]
  },
  {
   "cell_type": "code",
   "execution_count": 12,
   "id": "5930131a-95c2-4c59-bd7e-294965a2b2ab",
   "metadata": {
    "execution": {
     "iopub.execute_input": "2023-06-13T08:04:02.458388Z",
     "iopub.status.busy": "2023-06-13T08:04:02.458388Z",
     "iopub.status.idle": "2023-06-13T08:04:02.612065Z",
     "shell.execute_reply": "2023-06-13T08:04:02.611059Z",
     "shell.execute_reply.started": "2023-06-13T08:04:02.458388Z"
    },
    "tags": []
   },
   "outputs": [],
   "source": [
    "import string\n",
    "import pymorphy2\n",
    "morph = pymorphy2.MorphAnalyzer()\n",
    "from nltk.corpus import stopwords\n",
    "russian_stopwords = stopwords.words(\"russian\")\n",
    "\n",
    "def normalize_word(word):\n",
    "    return (sorted([morph.normal_forms(str(i))[0].strip(string.punctuation + string.whitespace) for i in word.split(' ')]))\n",
    "\n",
    "normalize_word_udf = udf(normalize_word, ArrayType(StringType()))\n",
    "\n",
    "def check_stopwords(word, russian_stopwords = russian_stopwords):\n",
    "    if word not in russian_stopwords and len(word)>1:\n",
    "        for letter in word:\n",
    "            if letter in string.punctuation or letter in string.digits:\n",
    "                return 0\n",
    "        return 1\n",
    "    return 0\n",
    "\n",
    "check_stopwords_udf = udf(check_stopwords, StringType())"
   ]
  },
  {
   "cell_type": "code",
   "execution_count": 13,
   "id": "db14ca16-b613-4212-8e4b-1c2b67a0f46e",
   "metadata": {
    "execution": {
     "iopub.execute_input": "2023-06-13T08:04:03.210983Z",
     "iopub.status.busy": "2023-06-13T08:04:03.210983Z",
     "iopub.status.idle": "2023-06-13T08:04:33.280844Z",
     "shell.execute_reply": "2023-06-13T08:04:33.280106Z",
     "shell.execute_reply.started": "2023-06-13T08:04:03.210983Z"
    },
    "tags": []
   },
   "outputs": [],
   "source": [
    "df = spark.read.parquet(f'files/bank_requests')\n",
    "\n",
    "df.createOrReplaceTempView('df')\n",
    "\n",
    "grouped_df = spark.sql('''\n",
    "\n",
    "select\n",
    "    rubricName\n",
    "    ,year\n",
    "    ,tx\n",
    "    ,cnt\n",
    "    ,row_number() over(partition by rubricName ,year order by cnt desc) rn\n",
    "from (\n",
    "    select\n",
    "        rubricName\n",
    "        ,year(date) year\n",
    "        ,lower(tx) tx\n",
    "        ,count(*) cnt\n",
    "    from df\n",
    "    group by \n",
    "        rubricName\n",
    "        ,year(date)\n",
    "        ,lower(tx)\n",
    "        ) t\n",
    "''').where('tx is not null and year in (2020,2021,2022,2023)')#.where('rn < 16')\n",
    "\n",
    "\n",
    "grouped_df.write.mode('overwrite').parquet(f'files/bank_requests_grouped')"
   ]
  },
  {
   "cell_type": "code",
   "execution_count": 14,
   "id": "5284a63f-7184-4e80-a3ad-0fb06b0e1507",
   "metadata": {
    "execution": {
     "iopub.execute_input": "2023-06-13T08:04:33.283857Z",
     "iopub.status.busy": "2023-06-13T08:04:33.282912Z",
     "iopub.status.idle": "2023-06-13T08:04:33.906216Z",
     "shell.execute_reply": "2023-06-13T08:04:33.905217Z",
     "shell.execute_reply.started": "2023-06-13T08:04:33.283857Z"
    },
    "tags": []
   },
   "outputs": [],
   "source": [
    "df_tx_grouped_filtered = spark.read.parquet(f\"files/bank_requests_grouped\")\n",
    "df_tx_grouped_filtered.createOrReplaceTempView('bank_requests_grouped')\n",
    "\n",
    "rubrics = spark.sql('''select distinct rubricName from bank_requests_grouped''').collect()\n",
    "rubrics = [i.asDict()['rubricName'] for i in rubrics]"
   ]
  },
  {
   "cell_type": "code",
   "execution_count": 36,
   "id": "585abf18-22cd-4483-b2bc-7a721be2b237",
   "metadata": {
    "execution": {
     "iopub.execute_input": "2023-06-13T08:19:01.784129Z",
     "iopub.status.busy": "2023-06-13T08:19:01.783101Z",
     "iopub.status.idle": "2023-06-13T08:19:02.079524Z",
     "shell.execute_reply": "2023-06-13T08:19:02.079524Z",
     "shell.execute_reply.started": "2023-06-13T08:19:01.784129Z"
    },
    "tags": []
   },
   "outputs": [],
   "source": [
    "df = pd.read_parquet((f'files/bank_requests_grouped'))"
   ]
  },
  {
   "cell_type": "code",
   "execution_count": 39,
   "id": "d941a49c-fa84-4a85-9ed4-57f844e65f2a",
   "metadata": {
    "execution": {
     "iopub.execute_input": "2023-06-13T08:26:51.111215Z",
     "iopub.status.busy": "2023-06-13T08:26:51.110215Z",
     "iopub.status.idle": "2023-06-13T08:26:51.140781Z",
     "shell.execute_reply": "2023-06-13T08:26:51.139782Z",
     "shell.execute_reply.started": "2023-06-13T08:26:51.111215Z"
    }
   },
   "outputs": [],
   "source": [
    "from tqdm.auto import tqdm\n",
    "tqdm.pandas()"
   ]
  },
  {
   "cell_type": "code",
   "execution_count": 40,
   "id": "8ee47e74-d9d1-46ff-8475-08f064a15569",
   "metadata": {
    "execution": {
     "iopub.execute_input": "2023-06-13T08:26:52.303214Z",
     "iopub.status.busy": "2023-06-13T08:26:52.303214Z",
     "iopub.status.idle": "2023-06-13T08:36:23.599876Z",
     "shell.execute_reply": "2023-06-13T08:36:23.599876Z",
     "shell.execute_reply.started": "2023-06-13T08:26:52.303214Z"
    },
    "tags": []
   },
   "outputs": [
    {
     "data": {
      "application/vnd.jupyter.widget-view+json": {
       "model_id": "0c93cc11f85c42bdb178c1845d62cc6f",
       "version_major": 2,
       "version_minor": 0
      },
      "text/plain": [
       "  0%|          | 0/700278 [00:00<?, ?it/s]"
      ]
     },
     "metadata": {},
     "output_type": "display_data"
    }
   ],
   "source": [
    "df['new_tx'] = df.tx.progress_apply(normalize_word)"
   ]
  },
  {
   "cell_type": "code",
   "execution_count": 47,
   "id": "48663c19-ed21-4392-a465-adcf0fe4ce59",
   "metadata": {
    "execution": {
     "iopub.execute_input": "2023-06-13T15:01:42.870214Z",
     "iopub.status.busy": "2023-06-13T15:01:42.869319Z",
     "iopub.status.idle": "2023-06-13T15:01:42.891532Z",
     "shell.execute_reply": "2023-06-13T15:01:42.890629Z",
     "shell.execute_reply.started": "2023-06-13T15:01:42.870214Z"
    },
    "tags": []
   },
   "outputs": [
    {
     "data": {
      "text/html": [
       "<div>\n",
       "<style scoped>\n",
       "    .dataframe tbody tr th:only-of-type {\n",
       "        vertical-align: middle;\n",
       "    }\n",
       "\n",
       "    .dataframe tbody tr th {\n",
       "        vertical-align: top;\n",
       "    }\n",
       "\n",
       "    .dataframe thead th {\n",
       "        text-align: right;\n",
       "    }\n",
       "</style>\n",
       "<table border=\"1\" class=\"dataframe\">\n",
       "  <thead>\n",
       "    <tr style=\"text-align: right;\">\n",
       "      <th></th>\n",
       "      <th>rubricName</th>\n",
       "      <th>year</th>\n",
       "      <th>tx</th>\n",
       "      <th>cnt</th>\n",
       "      <th>rn</th>\n",
       "      <th>new_tx</th>\n",
       "    </tr>\n",
       "  </thead>\n",
       "  <tbody>\n",
       "    <tr>\n",
       "      <th>0</th>\n",
       "      <td>Банковское оборудование</td>\n",
       "      <td>2020</td>\n",
       "      <td>калейдоскоп</td>\n",
       "      <td>802</td>\n",
       "      <td>2</td>\n",
       "      <td>[калейдоскоп]</td>\n",
       "    </tr>\n",
       "    <tr>\n",
       "      <th>1</th>\n",
       "      <td>Банковское оборудование</td>\n",
       "      <td>2020</td>\n",
       "      <td>визит</td>\n",
       "      <td>155</td>\n",
       "      <td>3</td>\n",
       "      <td>[визит]</td>\n",
       "    </tr>\n",
       "    <tr>\n",
       "      <th>2</th>\n",
       "      <td>Банковское оборудование</td>\n",
       "      <td>2020</td>\n",
       "      <td>калейдоскоп, центр технического обслуживания</td>\n",
       "      <td>115</td>\n",
       "      <td>4</td>\n",
       "      <td>[калейдоскоп, обслуживание, технический, центр]</td>\n",
       "    </tr>\n",
       "    <tr>\n",
       "      <th>3</th>\n",
       "      <td>Банковское оборудование</td>\n",
       "      <td>2020</td>\n",
       "      <td>трофи</td>\n",
       "      <td>104</td>\n",
       "      <td>5</td>\n",
       "      <td>[трофи]</td>\n",
       "    </tr>\n",
       "    <tr>\n",
       "      <th>4</th>\n",
       "      <td>Банковское оборудование</td>\n",
       "      <td>2020</td>\n",
       "      <td>монеты</td>\n",
       "      <td>96</td>\n",
       "      <td>6</td>\n",
       "      <td>[монета]</td>\n",
       "    </tr>\n",
       "  </tbody>\n",
       "</table>\n",
       "</div>"
      ],
      "text/plain": [
       "                rubricName  year  \\\n",
       "0  Банковское оборудование  2020   \n",
       "1  Банковское оборудование  2020   \n",
       "2  Банковское оборудование  2020   \n",
       "3  Банковское оборудование  2020   \n",
       "4  Банковское оборудование  2020   \n",
       "\n",
       "                                             tx  cnt  rn  \\\n",
       "0                                   калейдоскоп  802   2   \n",
       "1                                         визит  155   3   \n",
       "2  калейдоскоп, центр технического обслуживания  115   4   \n",
       "3                                         трофи  104   5   \n",
       "4                                        монеты   96   6   \n",
       "\n",
       "                                            new_tx  \n",
       "0                                    [калейдоскоп]  \n",
       "1                                          [визит]  \n",
       "2  [калейдоскоп, обслуживание, технический, центр]  \n",
       "3                                          [трофи]  \n",
       "4                                         [монета]  "
      ]
     },
     "execution_count": 47,
     "metadata": {},
     "output_type": "execute_result"
    }
   ],
   "source": [
    "df.head()"
   ]
  },
  {
   "cell_type": "code",
   "execution_count": 42,
   "id": "2f74b9cf-74dc-4434-8d43-e0c0baf8079c",
   "metadata": {
    "execution": {
     "iopub.execute_input": "2023-06-13T09:20:00.738957Z",
     "iopub.status.busy": "2023-06-13T09:20:00.738957Z",
     "iopub.status.idle": "2023-06-13T09:20:02.952856Z",
     "shell.execute_reply": "2023-06-13T09:20:02.951960Z",
     "shell.execute_reply.started": "2023-06-13T09:20:00.738957Z"
    }
   },
   "outputs": [],
   "source": [
    "df.to_parquet('files/bank_requests_normalized', index=False)"
   ]
  },
  {
   "cell_type": "code",
   "execution_count": 53,
   "id": "99a0a874-aec2-4192-aa6c-96731d4260ad",
   "metadata": {
    "execution": {
     "iopub.execute_input": "2023-06-13T17:55:11.952565Z",
     "iopub.status.busy": "2023-06-13T17:55:11.951565Z",
     "iopub.status.idle": "2023-06-13T17:55:14.268111Z",
     "shell.execute_reply": "2023-06-13T17:55:14.267223Z",
     "shell.execute_reply.started": "2023-06-13T17:55:11.952565Z"
    }
   },
   "outputs": [],
   "source": [
    "spark.read.parquet('files/bank_requests_normalized').write.mode('overwrite').parquet(f'files/df_tx_grouped_normalize_{name}')"
   ]
  },
  {
   "cell_type": "code",
   "execution_count": 54,
   "id": "f38fba2b-be0f-4f47-a616-35916cc347ae",
   "metadata": {
    "execution": {
     "iopub.execute_input": "2023-06-13T17:55:15.956210Z",
     "iopub.status.busy": "2023-06-13T17:55:15.956210Z",
     "iopub.status.idle": "2023-06-13T17:55:15.960745Z",
     "shell.execute_reply": "2023-06-13T17:55:15.960076Z",
     "shell.execute_reply.started": "2023-06-13T17:55:15.956210Z"
    },
    "tags": []
   },
   "outputs": [],
   "source": [
    "name = 'bank'"
   ]
  },
  {
   "cell_type": "code",
   "execution_count": 55,
   "id": "253be8c9-eeee-4137-9211-670a1b7176d3",
   "metadata": {
    "execution": {
     "iopub.execute_input": "2023-06-13T17:55:16.159392Z",
     "iopub.status.busy": "2023-06-13T17:55:16.159392Z",
     "iopub.status.idle": "2023-06-13T17:55:35.565270Z",
     "shell.execute_reply": "2023-06-13T17:55:35.565270Z",
     "shell.execute_reply.started": "2023-06-13T17:55:16.159392Z"
    },
    "tags": []
   },
   "outputs": [],
   "source": [
    "df_tx_grouped_normalize_agg_str = (\n",
    "    spark.read.parquet('files/bank_requests_normalized')\n",
    "    .withColumn(\"new_tx_str1\", f.trim(f.concat_ws(\" \",col(\"new_tx\")))).withColumn(\"new_tx_str\", f.expr('''BTRIM(new_tx_str1, '—!\"#$%&\\()*+,-./:;<=>?@[\\\\]^_`{|}~')'''))\n",
    "    .where('coalesce(new_tx_str, \"\") !=\"\" ')\n",
    "    .groupBy(f.col(\"rubricName\"),f.col(\"new_tx_str\"),f.col(\"year\")) \n",
    "    .agg(f.sum(\"cnt\").alias(\"count\"))\n",
    "    .sort(desc('count'))\n",
    "    #.show()\n",
    ")\n",
    "\n",
    "df_tx_grouped_normalize_agg_str.write.mode('overwrite').parquet(f'files/df_tx_grouped_normalize_agg_str_{name}')\n",
    "\n",
    "df_tx_str = spark.read.parquet(f\"files/df_tx_grouped_normalize_agg_str_{name}\")\n",
    "\n",
    "df_tx_str.createOrReplaceTempView('df_tx_str')\n",
    "\n",
    "df_tx_grouped_normalize_final_str = spark.sql('''\n",
    "with t as\n",
    "    (\n",
    "    select\n",
    "        rubricName\n",
    "        ,new_tx_str\n",
    "        ,case when year=2020 then sum(count) else 0 end cnt_2020\n",
    "        ,case when year=2021 then sum(count) else 0 end cnt_2021\n",
    "        ,case when year=2022 then sum(count) else 0 end cnt_2022\n",
    "        ,case when year=2023 then sum(count) else 0 end cnt_2023\n",
    "    from df_tx_str\n",
    "    group by \n",
    "        rubricName\n",
    "        ,new_tx_str\n",
    "        ,year\n",
    "    )\n",
    ", t1 as \n",
    "    (        \n",
    "    select\n",
    "        rubricName\n",
    "        ,new_tx_str\n",
    "        ,max(cnt_2020) cnt_2020\n",
    "        ,max(cnt_2021) cnt_2021\n",
    "        ,max(cnt_2022) cnt_2022\n",
    "        ,max(cnt_2023) cnt_2023\n",
    "    from t\n",
    "    group by new_tx_str, rubricName\n",
    "    )\n",
    ", t2 as \n",
    "    (\n",
    "    select\n",
    "        'Вся отрасль' as rubricName\n",
    "        ,new_tx_str\n",
    "        ,max(cnt_2020) cnt_2020\n",
    "        ,max(cnt_2021) cnt_2021\n",
    "        ,max(cnt_2022) cnt_2022\n",
    "        ,max(cnt_2023) cnt_2023\n",
    "    from t\n",
    "    group by 'Вся отрасль', new_tx_str\n",
    "    )\n",
    ", t3 as \n",
    "    (\n",
    "    select * from t1\n",
    "    union all\n",
    "    select * from t2\n",
    "    )\n",
    "\n",
    "select *, cnt_2020+cnt_2021+cnt_2022+cnt_2023 as cnt_total, row_number() over(partition by rubricName order by cnt_2020+cnt_2021+cnt_2022+cnt_2023 desc) rn\n",
    "from t3\n",
    "\n",
    "''').where('rn < 71')\n",
    "\n",
    "df_tx_grouped_normalize_final_str.write.mode('overwrite').parquet(f'files/df_tx_grouped_normalize_final_str_{name}')\n",
    "\n",
    "df_tx_str = (spark.read.parquet(f'files/df_tx_grouped_normalize_{name}').withColumn(\"new_tx_str1\", f.trim(f.concat_ws(\" \",col(\"new_tx\")))).withColumn(\"new_tx_str\", f.expr('''BTRIM(new_tx_str1, '—!\"#$%&\\()*+,-./:;<=>?@[\\\\]^_`{|}~')'''))\n",
    "        .where('coalesce(new_tx_str, \"\") !=\"\" and rn <= 100')\n",
    "        .select('rubricName', 'tx', 'year', 'new_tx_str'))\n",
    "\n",
    "df_tx_str.createOrReplaceTempView('df_tx_str')\n",
    "\n",
    "df_tx_str_collect = spark.sql('''\n",
    "\n",
    "select \n",
    "    new_tx_str\n",
    "    , rubricName\n",
    "    , concat_ws('',slice(collect_set(tx),1,1)) tx_1\n",
    "    , concat_ws('',slice(collect_set(tx),2,1)) tx_2\n",
    "    , concat_ws('',slice(collect_set(tx),3,1)) tx_3\n",
    "    , concat_ws('',slice(collect_set(tx),4,1)) tx_4\n",
    "    , concat_ws('',slice(collect_set(tx),5,1)) tx_5\n",
    "from df_tx_str\n",
    "group by new_tx_str, rubricName\n",
    "\n",
    "''')\n",
    "\n",
    "df_tx_str_collect.write.mode('overwrite').parquet(f'files/df_tx_str_collect_{name}')\n",
    "\n",
    "df_tx_grouped_normalize_final_str = spark.read.parquet(f\"files/df_tx_grouped_normalize_final_str_{name}\")\n",
    "df_tx_grouped_normalize_final_str.createOrReplaceTempView('df_tx_grouped_normalize_final_str')\n",
    "\n",
    "df_tx_str_collect = spark.read.parquet(f\"files/df_tx_str_collect_{name}\")\n",
    "df_tx_str_collect.createOrReplaceTempView('df_tx_str_collect')\n",
    "\n",
    "df_final = spark.sql('''\n",
    "\n",
    "select f.*,tx_1 ,tx_2 ,tx_3 ,tx_4 ,tx_5\n",
    "from df_tx_grouped_normalize_final_str f\n",
    "left join df_tx_str_collect c\n",
    "on f.rubricName = c.rubricName and f.new_tx_str = c.new_tx_str\n",
    "\n",
    "''')\n",
    "\n",
    "df_final.write.mode('overwrite').parquet(f'files/df_final_{name}')"
   ]
  },
  {
   "cell_type": "code",
   "execution_count": 106,
   "id": "7bb5c559-e50c-443d-8725-633ad7ae4717",
   "metadata": {
    "execution": {
     "iopub.execute_input": "2023-06-14T04:36:59.741058Z",
     "iopub.status.busy": "2023-06-14T04:36:59.740024Z",
     "iopub.status.idle": "2023-06-14T04:37:00.036794Z",
     "shell.execute_reply": "2023-06-14T04:37:00.036794Z",
     "shell.execute_reply.started": "2023-06-14T04:36:59.740024Z"
    },
    "tags": []
   },
   "outputs": [],
   "source": [
    "pdf_str = spark.read.parquet(f'files/df_final_{name}').toPandas()\n",
    "\n",
    "cols = ['Рубрика', 'Поисковый запрос', 'Количество запросов 2020', 'Количество запросов 2021'\n",
    "        , 'Количество запросов 2022', 'Количество запросов 2023', 'Количество запросов, итого'\n",
    "        , 'Рейтинг по запросам, итого','tx_1' ,'tx_2' ,'tx_3' ,'tx_4' ,'tx_5']\n",
    "\n",
    "pdf_str.columns = cols\n",
    "rubrics = spark.sql('''select distinct rubricName from bank_requests_grouped''').collect()\n",
    "rubrics = [i.asDict()['rubricName'] for i in rubrics]\n",
    "rubrics = pd.DataFrame(rubrics)\n",
    "rubrics['Рейтинг рубрики'] = rubrics.index + 1\n",
    "cols.append('Рейтинг рубрики')"
   ]
  },
  {
   "cell_type": "code",
   "execution_count": 109,
   "id": "ca38101c-e8a8-4020-bcb1-e39d531f8286",
   "metadata": {
    "execution": {
     "iopub.execute_input": "2023-06-14T04:37:50.132332Z",
     "iopub.status.busy": "2023-06-14T04:37:50.132332Z",
     "iopub.status.idle": "2023-06-14T04:37:50.367999Z",
     "shell.execute_reply": "2023-06-14T04:37:50.366998Z",
     "shell.execute_reply.started": "2023-06-14T04:37:50.132332Z"
    },
    "tags": []
   },
   "outputs": [
    {
     "name": "stdout",
     "output_type": "stream",
     "text": [
      "files/requests_text_bank_230614_0737.xlsx\n"
     ]
    }
   ],
   "source": [
    "pdf_new_str = rubrics.merge(pdf_str, left_on=0, right_on='Рубрика', how='outer')[cols]\n",
    "pdf_new_str.loc[pdf_new_str['Рубрика'] == 'Топ-70 рубрик', ['Рейтинг рубрики']] = 0\n",
    "pdf_new_str = pdf_new_str.sort_values(['Рейтинг рубрики', 'Рейтинг по запросам, итого'])\n",
    "#pdf_new.to_excel('df_tx_grouped_normalize_final_rated.xlsx')\n",
    "\n",
    "dt_now = str(datetime.datetime.now())[2:-9].replace('-','').replace(':','').replace(' ','_')\n",
    "excel_file = f'files/requests_text_{name}_{dt_now}.xlsx'\n",
    "print(excel_file)\n",
    "\n",
    "pdf_new_str.to_excel(excel_file, index=False)"
   ]
  },
  {
   "cell_type": "code",
   "execution_count": 110,
   "id": "2ea95331-a71e-4f03-b2f7-ec34497b0718",
   "metadata": {
    "execution": {
     "iopub.execute_input": "2023-06-14T04:37:50.783239Z",
     "iopub.status.busy": "2023-06-14T04:37:50.783239Z",
     "iopub.status.idle": "2023-06-14T04:38:17.441724Z",
     "shell.execute_reply": "2023-06-14T04:38:17.440768Z",
     "shell.execute_reply.started": "2023-06-14T04:37:50.783239Z"
    },
    "tags": []
   },
   "outputs": [
    {
     "name": "stdout",
     "output_type": "stream",
     "text": [
      "files/requests_text_bank_230614_0737_report_230614_0737.docx\n"
     ]
    },
    {
     "data": {
      "application/vnd.jupyter.widget-view+json": {
       "model_id": "9ddbb1177e5949e5bb5932358a1c61b5",
       "version_major": 2,
       "version_minor": 0
      },
      "text/plain": [
       "  0%|          | 0/16 [00:00<?, ?it/s]"
      ]
     },
     "metadata": {},
     "output_type": "display_data"
    },
    {
     "name": "stderr",
     "output_type": "stream",
     "text": [
      "C:\\Users\\Mamed\\AppData\\Local\\Temp\\ipykernel_8780\\1590116544.py:104: UserWarning: Glyph 774 (\\N{COMBINING BREVE}) missing from current font.\n",
      "  fig.savefig(f'{file_name}', bbox_inches='tight')\n"
     ]
    }
   ],
   "source": [
    "rt = make_images(excel_file, \"\", '#013BA6', '#BDD5FF', cnt=16)"
   ]
  },
  {
   "cell_type": "code",
   "execution_count": null,
   "id": "2a79522e-61af-411a-a58e-2696964fbcd2",
   "metadata": {},
   "outputs": [],
   "source": []
  },
  {
   "cell_type": "code",
   "execution_count": null,
   "id": "d2440ad3-9f21-401a-9766-ba6461c82b02",
   "metadata": {},
   "outputs": [],
   "source": []
  },
  {
   "cell_type": "markdown",
   "id": "8afc38b1-f120-497b-80d5-b2a14c59ecee",
   "metadata": {
    "tags": []
   },
   "source": [
    "# Матрицы"
   ]
  },
  {
   "cell_type": "markdown",
   "id": "ae1b67e7-a8f6-45db-8bdd-ea9fd11b6a15",
   "metadata": {
    "tags": []
   },
   "source": [
    "### 1.9.\tАнализ Матриц BCG по видам бизнеса"
   ]
  },
  {
   "cell_type": "code",
   "execution_count": 35,
   "id": "ea9d5d4b-5d3a-4b9e-8634-6f08f8976205",
   "metadata": {
    "execution": {
     "iopub.execute_input": "2023-06-15T21:33:11.811488Z",
     "iopub.status.busy": "2023-06-15T21:33:11.811488Z",
     "iopub.status.idle": "2023-06-15T21:33:11.836534Z",
     "shell.execute_reply": "2023-06-15T21:33:11.835535Z",
     "shell.execute_reply.started": "2023-06-15T21:33:11.811488Z"
    },
    "tags": []
   },
   "outputs": [],
   "source": [
    "def plot_matrix(file, city, cnt_graphics=50, cnt_shars=12, step=1, size_x=6.89*4, size_y=4.25*4, font_size=16, img_w=17.5, img_h=10.8, blank=False, word_sample='files/report.docx'):\n",
    "    shar_nums = list(range(1,16))*500\n",
    "    start_range = 1\n",
    "    stop_range = cnt_shars*step+1\n",
    "    time = str(datetime.datetime.now())[2:16].replace('-','').replace(' ','_').replace(':','')\n",
    "    print(f'files/{city}/{city}_shars_{time}.docx')\n",
    "    df_list = []\n",
    "    \n",
    "    for graphic_num in tqdm(range(cnt_graphics)):\n",
    "        shar_num = 3\n",
    "\n",
    "        df = pd.read_excel(file)[['Рубрика','Запросы 2022', 'Запросы 2023', 'Запросы, итого']].iloc[range(start_range, stop_range, step)].set_index('Рубрика').fillna(0)\n",
    "        start_range = stop_range\n",
    "        stop_range = (graphic_num+2)*cnt_shars*step+1\n",
    "\n",
    "        df['Запросы, итого'] = (df['Запросы, итого'] - min(df['Запросы, итого'])) / (max(df['Запросы, итого']) - min(df['Запросы, итого']))*300\n",
    "        requests_total = pd.read_excel(file)['Запросы 2023'].sum()\n",
    "        df['Рост/Падение, %'] = df['Запросы 2023'] / df['Запросы 2022']\n",
    "        df['Доля рынка, %'] = df['Запросы 2023'] / requests_total\n",
    "        x = (df['Доля рынка, %']) * 10\n",
    "        x.loc[x.index=='Банкоматы'] = x.loc[x.index=='Банкоматы'] / 15\n",
    "        x.loc[x.index=='Ломбарды'] = x.loc[x.index=='Ломбарды'] / 15\n",
    "        y = (df['Рост/Падение, %']) * 10\n",
    "        sizes = (df['Запросы, итого']/50) \n",
    "        sizes.loc[sizes.index=='Банкоматы'] = sizes.loc[sizes.index=='Банкоматы'] / 30\n",
    "        sizes.loc[sizes.index=='Микрофинансирование'] = sizes.loc[sizes.index=='Микрофинансирование'] / 5\n",
    "        sizes.loc[sizes.index=='Ломбарды'] = sizes.loc[sizes.index=='Ломбарды'] / 10\n",
    "        \n",
    "        \n",
    "        \n",
    "        x_avg = (x.min()+x.max())/2\n",
    "        y_avg = (y.min()+y.max())/2\n",
    "        xi, yi = df['Доля рынка, %'], df['Рост/Падение, %']\n",
    "        df.loc[(xi > x_avg) & (yi > y_avg), 'group'] = 'Звёзды:'\n",
    "        df.loc[(xi > x_avg)  & (yi <= y_avg), 'group'] = 'Коровы:'\n",
    "        df.loc[(xi <= x_avg)  & (yi > y_avg), 'group'] = 'Дети:'\n",
    "        df.loc[(xi <= x_avg)  & (yi <= y_avg), 'group'] = 'Собаки:'\n",
    "        df = df.sort_values(['Доля рынка, %', 'Рост/Падение, %'], ascending=[False, False])\n",
    "\n",
    "        plt.rcParams['figure.figsize'] = size_x, size_y\n",
    "        plt.rcParams['figure.dpi'] = 2**8\n",
    "        plt.rcParams['font.size'] = '18'\n",
    "        fpath = Path(mpl.get_data_path(), r\"C:\\Users\\Mamed\\YandexDisk\\_Documents\\Проекты\\2ГИС 2023\\Лого\\arialnarrow.ttf\")\n",
    "        fig, ax = plt.subplots()\n",
    "        ax.scatter(x, y, sizes, c='#C0504D', alpha=0.7)\n",
    "\n",
    "        n = 0.02\n",
    "        m = 0.02\n",
    "        ax.set_ylim(ax.get_ylim()[0] * (1 - n), ax.get_ylim()[1] * (1 + n))\n",
    "        ax.set_xlim(ax.get_xlim()[0] * (1 - m), ax.get_xlim()[1] * (1 + m))\n",
    "        ax.spines['top'].set_visible(False)\n",
    "        ax.spines['bottom'].set_visible(False)\n",
    "        ax.spines['left'].set_visible(False)\n",
    "        ax.spines['right'].set_visible(False)\n",
    "        ax.set_xticklabels('')\n",
    "        ax.set_yticklabels('')\n",
    "        plt.tick_params(bottom = False, left=False)\n",
    "\n",
    "        for xi, yi, rubric, size in zip(x, y, x.index, sizes):\n",
    "            rs = rubric.split(' ')\n",
    "            if len(rs) > 1:\n",
    "                rsl = len(rs) // 2\n",
    "                rubric = ' '.join(rs[:rsl] + ['\\n'] + rs[rsl:])\n",
    "\n",
    "            shar_path = [r\"C:\\Users\\Mamed\\YandexDisk\\_Documents\\Проекты\\2ГИС 2023\\Лого\\Шар_{:02}.png\".format(shar_num)]\n",
    "            shar_img = OffsetImage(plt.imread(shar_path[0], format=\"png\"), zoom=size)\n",
    "            ab = AnnotationBbox(shar_img, (xi, yi), frameon=False)\n",
    "            ax.add_artist(ab)\n",
    "            plt.annotate(rubric, (xi, yi), ha='center', va='center', font=fpath, color='#404040')\n",
    "\n",
    "        ax.hlines((y.min()+y.max())/2, x.min(), x.max(), colors='gray', linewidth=1)\n",
    "        ax.vlines((x.min()+x.max())/2, y.min(), y.max(), colors='gray', linewidth=1)\n",
    "        \n",
    "        #im = plt.imread(r\"C:\\Users\\Mamed\\YandexDisk\\_Documents\\Проекты\\2ГИС 2023\\Лого\\01_Logo_HSE_full_rus_PANTONE_for_dark_2.png\")\n",
    "        #newax = fig.add_axes([0.1, 0.8, 0.1, 0.1], zorder=1, alpha=1)\n",
    "        #newax.imshow(im)\n",
    "        #newax.axis('off')\n",
    "        fig.savefig(f'pictures/{city}_shar_{shar_num}.png', bbox_inches='tight', transparent=False)\n",
    "        \n",
    "        txt = ''\n",
    "        for cat in ['Звёзды:','Коровы:','Дети:','Собаки:']:\n",
    "            txt +=  cat + ' ' + ', '.join([word[::-1].replace('/', 'и', 1)[::-1].replace('/', ',').replace(' ,', ',').lower() for word in df[df['group'] == cat].index]) + \"\\n\"\n",
    "        txt = txt[::-1].replace('\\n',':', 1)[::-1]\n",
    "        add_image(f'files/{city}/{city}_shars_{time}.docx', f'pictures/{city}_shar_{shar_num}.png', word=txt, img_w=img_w, img_h=img_h, blank=blank,word_sample=word_sample)\n",
    "        plt.show()\n",
    "        plt.close()\n",
    "        df_list.append(df)\n",
    "    return pd.concat(df_list)"
   ]
  },
  {
   "cell_type": "code",
   "execution_count": null,
   "id": "0ab4cd28-5ca5-4564-ae5b-2bc3e973b925",
   "metadata": {
    "execution": {
     "iopub.execute_input": "2023-06-15T21:34:29.925185Z",
     "iopub.status.busy": "2023-06-15T21:34:29.924186Z",
     "iopub.status.idle": "2023-06-15T21:34:40.280348Z",
     "shell.execute_reply": "2023-06-15T21:34:40.279437Z",
     "shell.execute_reply.started": "2023-06-15T21:34:29.925185Z"
    },
    "tags": []
   },
   "outputs": [],
   "source": [
    "file = r\"files/plus/Таблица_Плас_таблицы_2_4.xlsx\"\n",
    "city = 'plus'\n",
    "\n",
    "x = plot_matrix(file, city, cnt_graphics=1, cnt_shars=15, step=1, size_x=6.3*4, size_y=3.94*4, font_size=28, img_w=16.5, img_h=10, blank=False)"
   ]
  },
  {
   "cell_type": "markdown",
   "id": "9661524a-7b50-4385-8bcd-0a37f1825453",
   "metadata": {
    "tags": []
   },
   "source": [
    "### 1.10.\tАнализ Матриц BCG по городам"
   ]
  },
  {
   "cell_type": "code",
   "execution_count": 80,
   "id": "d8c53f85-3497-4ce8-b796-2c9f3a91ede9",
   "metadata": {
    "execution": {
     "iopub.execute_input": "2023-06-13T21:41:53.242033Z",
     "iopub.status.busy": "2023-06-13T21:41:53.242033Z",
     "iopub.status.idle": "2023-06-13T21:41:53.495329Z",
     "shell.execute_reply": "2023-06-13T21:41:53.494328Z",
     "shell.execute_reply.started": "2023-06-13T21:41:53.242033Z"
    },
    "tags": []
   },
   "outputs": [],
   "source": [
    "df_tx_grouped_filtered = spark.read.parquet(f\"files/bank_requests_grouped\")\n",
    "df_tx_grouped_filtered.createOrReplaceTempView('bank_requests_grouped')\n",
    "rubrics = spark.sql('''select distinct rubricName from bank_requests_grouped''').collect()\n",
    "rubrics = [i.asDict()['rubricName'] for i in rubrics]\n",
    "rubrics = '(\"' + '\",\"'.join(rubrics) + '\")'"
   ]
  },
  {
   "cell_type": "code",
   "execution_count": 82,
   "id": "c2cf09c1-0d89-4175-93fa-01eacfc7e188",
   "metadata": {
    "execution": {
     "iopub.execute_input": "2023-06-13T21:42:32.642234Z",
     "iopub.status.busy": "2023-06-13T21:42:32.642234Z",
     "iopub.status.idle": "2023-06-13T23:19:00.235771Z",
     "shell.execute_reply": "2023-06-13T23:19:00.234780Z",
     "shell.execute_reply.started": "2023-06-13T21:42:32.642234Z"
    },
    "tags": []
   },
   "outputs": [
    {
     "data": {
      "application/vnd.jupyter.widget-view+json": {
       "model_id": "",
       "version_major": 2,
       "version_minor": 0
      },
      "text/plain": [
       "  0%|          | 0/40 [00:00<?, ?it/s]"
      ]
     },
     "metadata": {},
     "output_type": "display_data"
    }
   ],
   "source": [
    "df_schema = StructType([StructField('user', StringType(), True), StructField('proj', StringType(), True), StructField('rubricName', StringType(), True), StructField('rubricID', IntegerType(), True), StructField('time', StringType(), True), StructField('date', StringType(), True), StructField('org', StringType(), True), StructField('branch', StringType(), True), StructField('prod', StringType(), True), StructField('tx', StringType(), True), StructField('fl', StringType(), True), StructField('devmod', StringType(), True), StructField('lat', StringType(), True), StructField('lon', StringType(), True)])\n",
    "spark.read.option(\"header\",\"true\").csv(files_list_chain[0], schema=df_schema).where('1=0').write.mode('overwrite').parquet(f'files/bank_requests_grouped_cities')\n",
    "\n",
    "for file in tqdm(files_list_chain):\n",
    "    city = file.split('\\\\')[2]\n",
    "    final_df = spark.read.option(\"header\",\"true\").csv(file, schema=df_schema)\n",
    "    final_df.createOrReplaceTempView('df')\n",
    "    final_df = spark.sql(f'''\n",
    "        select rubricName, year(time) as year_r, \"{city}\" as city, count(*) cnt_requests\n",
    "        from df\n",
    "        where rubricName in {rubrics}\n",
    "        group by rubricName, year(time), \"{city}\"\n",
    "    ''')\n",
    "    \n",
    "    final_df.write.mode('append').parquet(f'files/bank_requests_grouped_cities')"
   ]
  },
  {
   "cell_type": "code",
   "execution_count": 94,
   "id": "45492f2e-7232-4283-901e-15b359b7fefc",
   "metadata": {
    "execution": {
     "iopub.execute_input": "2023-06-14T04:24:22.894053Z",
     "iopub.status.busy": "2023-06-14T04:24:22.894053Z",
     "iopub.status.idle": "2023-06-14T04:24:22.916549Z",
     "shell.execute_reply": "2023-06-14T04:24:22.915550Z",
     "shell.execute_reply.started": "2023-06-14T04:24:22.894053Z"
    },
    "tags": []
   },
   "outputs": [],
   "source": [
    "def plot_matrix_cities(cnt_graphics=100, show=False, size_x=6.89*4, size_y=4.25*4, font_size=16, img_w=17.5, img_h=10.8, blank=False, word_sample='files/report.docx'):\n",
    "    folder='plus'\n",
    "    shar_nums = list(range(1,16))*500\n",
    "    time = str(datetime.datetime.now())[2:16].replace('-','').replace(' ','_').replace(':','')\n",
    "    print(f'files/{folder}/{folder}_shars_{time}.docx')\n",
    "    df_src = pd.read_parquet(f'files/bank_requests_grouped_cities')\n",
    "    df_new = df_src[['rubricName','city']].drop_duplicates().set_index(['rubricName','city'])\n",
    "    df_new['Запросы 2020'] = df_src[df_src['year_r'] == 2020].groupby(['rubricName', 'city']).sum('cnt_requests')[['cnt_requests']]\n",
    "    df_new['Запросы 2021'] = df_src[df_src['year_r'] == 2021].groupby(['rubricName', 'city']).sum('cnt_requests')[['cnt_requests']]\n",
    "    df_new['Запросы 2022'] = df_src[df_src['year_r'] == 2022].groupby(['rubricName', 'city']).sum('cnt_requests')[['cnt_requests']]\n",
    "    df_new['Запросы 2023'] = df_src[df_src['year_r'] == 2023].groupby(['rubricName', 'city']).sum('cnt_requests')[['cnt_requests']]\n",
    "    df_new = df_new.fillna(0).astype(int)\n",
    "    df_new['Запросы, итого'] =  df_new['Запросы 2020'] + df_new['Запросы 2021'] + df_new['Запросы 2022'] + df_new['Запросы 2023']\n",
    "    df_new = df_new.reset_index().set_index('city')\n",
    "\n",
    "    rubrics = dd.read_parquet(f\"files/bank_requests_grouped_cities\")['rubricName'].unique().compute()\n",
    "    rubrics = [i for i in rubrics.to_dict().values()]\n",
    "    df_list = []\n",
    "    \n",
    "    for rubric in tqdm(rubrics[:cnt_graphics]):\n",
    "        shar_num = shar_nums.pop()\n",
    "        df = df_new.loc[df_new['rubricName']==rubric]\n",
    "        df['Запросы, итого'] = (df['Запросы, итого'] - min(df['Запросы, итого'])) / (max(df['Запросы, итого']) - min(df['Запросы, итого']))*300\n",
    "        requests_total = df_new['Запросы 2023'].sum()\n",
    "        df['Рост/Падение, %'] = df['Запросы 2023'] / df['Запросы 2022']\n",
    "        df['Доля рынка, %'] = df['Запросы 2023'] / requests_total\n",
    "        x = (df['Доля рынка, %'])\n",
    "        y = (df['Рост/Падение, %'])\n",
    "        sizes = (df['Запросы, итого']/1000)\n",
    "        x_avg = (x.min()+x.max())/2\n",
    "        y_avg = (y.min()+y.max())/2\n",
    "        xi, yi = df['Доля рынка, %'], df['Рост/Падение, %']\n",
    "        df.loc[(xi > x_avg) & (yi > y_avg), 'group'] = 'Звёзды:'\n",
    "        df.loc[(xi > x_avg)  & (yi <= y_avg), 'group'] = 'Коровы:'\n",
    "        df.loc[(xi <= x_avg)  & (yi > y_avg), 'group'] = 'Дети:'\n",
    "        df.loc[(xi <= x_avg)  & (yi <= y_avg), 'group'] = 'Собаки:'\n",
    "        df = df.sort_values(['Доля рынка, %', 'Рост/Падение, %'], ascending=[False, False])\n",
    "\n",
    "        plt.rcParams['figure.figsize'] = size_x, size_y\n",
    "        plt.rcParams['figure.dpi'] = 2**8\n",
    "        plt.rcParams['font.size'] = '18'\n",
    "        fpath = Path(mpl.get_data_path(), r\"C:\\Users\\Mamed\\YandexDisk\\_Documents\\Проекты\\2ГИС 2023\\Лого\\arialnarrow.ttf\")\n",
    "        fig, ax = plt.subplots()\n",
    "        ax.scatter(x, y, sizes, c='#C0504D', alpha=0.7)\n",
    "\n",
    "        n = 0.02\n",
    "        m = 0.02\n",
    "        ax.set_ylim(ax.get_ylim()[0] * (1 - n), ax.get_ylim()[1] * (1 + n))\n",
    "        ax.set_xlim(ax.get_xlim()[0] * (1 - m), ax.get_xlim()[1] * (1 + m))\n",
    "        ax.spines['top'].set_visible(False)\n",
    "        ax.spines['bottom'].set_visible(False)\n",
    "        ax.spines['left'].set_visible(False)\n",
    "        ax.spines['right'].set_visible(False)\n",
    "        ax.set_xticklabels('')\n",
    "        ax.set_yticklabels('')\n",
    "        plt.tick_params(bottom = False, left=False)\n",
    "        plt.title(rubric, font=fpath, fontsize=40, fontweight=1000)\n",
    "\n",
    "        for xi, yi, city, size in zip(x, y, x.index, sizes):\n",
    "            rs = city.split(' ')\n",
    "            if len(rs) > 1:\n",
    "                rsl = len(rs) // 2\n",
    "                city = ' '.join(rs[:rsl] + ['\\n'] + rs[rsl:])\n",
    "\n",
    "            shar_path = [r\"C:\\Users\\Mamed\\YandexDisk\\_Documents\\Проекты\\2ГИС 2023\\Лого\\Шар_{:02}.png\".format(shar_num)]\n",
    "            shar_img = OffsetImage(plt.imread(shar_path[0], format=\"png\"), zoom=size)\n",
    "            ab = AnnotationBbox(shar_img, (xi, yi), frameon=False)\n",
    "            ax.add_artist(ab)\n",
    "            plt.annotate(city, (xi, yi), ha='center', va='center', font=fpath, color='#404040')\n",
    "\n",
    "        ax.hlines((y.min()+y.max())/2, x.min(), x.max(), colors='gray', linewidth=1)\n",
    "        ax.vlines((x.min()+x.max())/2, y.min(), y.max(), colors='gray', linewidth=1)\n",
    "        \n",
    "        #im = plt.imread(r\"C:\\Users\\Mamed\\YandexDisk\\_Documents\\Проекты\\2ГИС 2023\\Лого\\01_Logo_HSE_full_rus_PANTONE_for_dark_2.png\")\n",
    "        #newax = fig.add_axes([0.1, 0.8, 0.1, 0.1], zorder=1, alpha=0.5)\n",
    "        #newax.imshow(im)\n",
    "        #newax.axis('off')\n",
    "        fig.savefig(f'pictures/{folder}_shar_{shar_num}.png', bbox_inches='tight', transparent=False)\n",
    "        \n",
    "        txt = f'{rubric} '\n",
    "        for cat in ['Звёзды:','Коровы:','Дети:','Собаки:']:\n",
    "            txt +=  cat + ' ' + ', '.join([word[::-1].replace('/', 'и', 1)[::-1].replace('/', ',').replace(' ,', ',') for word in df[df['group'] == cat].index]) + \"\\n\"\n",
    "        txt = txt[::-1].replace('\\n',':', 1)[::-1]\n",
    "        add_image(f'files/{folder}/{folder}_shars_{time}.docx', f'pictures/{folder}_shar_{shar_num}.png', word=txt, img_w=img_w, img_h=img_h, blank=blank,word_sample=word_sample)\n",
    "        #plt.show()\n",
    "        plt.close()\n",
    "        df_list.append(df)\n",
    "    return pd.concat(df_list)"
   ]
  },
  {
   "cell_type": "code",
   "execution_count": 96,
   "id": "a5cf6f74-d8a6-43ed-bd7b-dd726260e89d",
   "metadata": {
    "execution": {
     "iopub.execute_input": "2023-06-14T04:25:36.112818Z",
     "iopub.status.busy": "2023-06-14T04:25:36.112818Z",
     "iopub.status.idle": "2023-06-14T04:26:35.578121Z",
     "shell.execute_reply": "2023-06-14T04:26:35.577124Z",
     "shell.execute_reply.started": "2023-06-14T04:25:36.112818Z"
    },
    "tags": []
   },
   "outputs": [
    {
     "name": "stdout",
     "output_type": "stream",
     "text": [
      "files/plus/plus_shars_230614_0725.docx\n",
      "[########################################] | 100% Completed | 220.09 ms\n",
      "[########################################] | 100% Completed | 327.43 ms\n"
     ]
    },
    {
     "data": {
      "application/vnd.jupyter.widget-view+json": {
       "model_id": "34c5a7064475415bac2125d843ccf8dc",
       "version_major": 2,
       "version_minor": 0
      },
      "text/plain": [
       "  0%|          | 0/16 [00:00<?, ?it/s]"
      ]
     },
     "metadata": {},
     "output_type": "display_data"
    },
    {
     "name": "stderr",
     "output_type": "stream",
     "text": [
      "C:\\Users\\Mamed\\Anaconda\\lib\\site-packages\\matplotlib\\axes\\_base.py:2475: UserWarning: Warning: converting a masked element to nan.\n",
      "  xys = np.asarray(xys)\n",
      "C:\\Users\\Mamed\\Anaconda\\lib\\site-packages\\matplotlib\\axes\\_base.py:2475: UserWarning: Warning: converting a masked element to nan.\n",
      "  xys = np.asarray(xys)\n",
      "C:\\Users\\Mamed\\Anaconda\\lib\\site-packages\\matplotlib\\axes\\_base.py:2475: UserWarning: Warning: converting a masked element to nan.\n",
      "  xys = np.asarray(xys)\n",
      "C:\\Users\\Mamed\\Anaconda\\lib\\site-packages\\matplotlib\\axes\\_base.py:2475: UserWarning: Warning: converting a masked element to nan.\n",
      "  xys = np.asarray(xys)\n",
      "C:\\Users\\Mamed\\Anaconda\\lib\\site-packages\\matplotlib\\axes\\_base.py:2475: UserWarning: Warning: converting a masked element to nan.\n",
      "  xys = np.asarray(xys)\n"
     ]
    }
   ],
   "source": [
    "pmc = plot_matrix_cities(cnt_graphics=16, size_x=6.3*4, size_y=3.94*4, font_size=28, img_w=16.5, img_h=10, blank=False)"
   ]
  },
  {
   "cell_type": "markdown",
   "id": "d7d330fe-e30f-448d-9349-16e1baad55f8",
   "metadata": {
    "tags": []
   },
   "source": [
    "### 1.11.\tАнализ Матриц BCG по городам и бизнесам"
   ]
  },
  {
   "cell_type": "code",
   "execution_count": 97,
   "id": "b821e117-d7e9-454e-8d35-803884a64cfa",
   "metadata": {
    "execution": {
     "iopub.execute_input": "2023-06-14T04:26:48.274145Z",
     "iopub.status.busy": "2023-06-14T04:26:48.273145Z",
     "iopub.status.idle": "2023-06-14T04:26:48.310671Z",
     "shell.execute_reply": "2023-06-14T04:26:48.309779Z",
     "shell.execute_reply.started": "2023-06-14T04:26:48.274145Z"
    },
    "tags": []
   },
   "outputs": [],
   "source": [
    "def plot_matrix_rubric_cities(cnt_graphics=100, show=False, size_x=6.89*4, size_y=4.25*4, font_size=16, img_w=17.5, img_h=10.8, blank=False, word_sample='files/report.docx'):\n",
    "    folder='plus'\n",
    "    shar_nums = list(range(1,16))*500\n",
    "    time = str(datetime.datetime.now())[2:16].replace('-','').replace(' ','_').replace(':','')\n",
    "    print(f'files/{folder}/{folder}_shars_{time}.docx')\n",
    "    df_src = pd.read_parquet(f'files/bank_requests_grouped_cities')\n",
    "    df_new = df_src[['rubricName','city']].drop_duplicates().set_index(['rubricName','city'])\n",
    "    df_new['Запросы 2020'] = df_src[df_src['year_r'] == 2020].groupby(['rubricName', 'city']).sum('cnt_requests')[['cnt_requests']]\n",
    "    df_new['Запросы 2021'] = df_src[df_src['year_r'] == 2021].groupby(['rubricName', 'city']).sum('cnt_requests')[['cnt_requests']]\n",
    "    df_new['Запросы 2022'] = df_src[df_src['year_r'] == 2022].groupby(['rubricName', 'city']).sum('cnt_requests')[['cnt_requests']]\n",
    "    df_new['Запросы 2023'] = df_src[df_src['year_r'] == 2023].groupby(['rubricName', 'city']).sum('cnt_requests')[['cnt_requests']]\n",
    "    df_new = df_new.fillna(0).astype(int)\n",
    "    df_new['Запросы, итого'] =  df_new['Запросы 2020'] + df_new['Запросы 2021'] + df_new['Запросы 2022'] + df_new['Запросы 2023']\n",
    "    df_new = df_new.reset_index()\n",
    "    df_new['city_rubric'] = df_new['city'] + '.' + df_new['rubricName']\n",
    "    df_new = df_new.set_index('city_rubric').sort_values('Запросы, итого', ascending=False)\n",
    "    cnt_shars = 12\n",
    "    step = 1\n",
    "    rubrics = dd.read_parquet(f\"files/bank_requests_grouped_cities\")['rubricName'].unique().compute()\n",
    "    rubrics = [i for i in rubrics.to_dict().values()]\n",
    "    df_list = []\n",
    "    start_range = 1\n",
    "    stop_range = cnt_shars*step+1\n",
    "    \n",
    "    for graphic_num in tqdm(range(cnt_graphics)):\n",
    "        shar_num = shar_nums.pop()\n",
    "        \n",
    "        df = df_new.iloc[range(start_range, stop_range, step)]\n",
    "        start_range = stop_range\n",
    "        stop_range = (graphic_num+2)*cnt_shars*step+1\n",
    "        \n",
    "        df['Запросы, итого'] = (df['Запросы, итого'] - min(df['Запросы, итого'])) / (max(df['Запросы, итого']) - min(df['Запросы, итого']))*300\n",
    "        requests_total = df_new['Запросы 2023'].sum()\n",
    "        df['Рост/Падение, %'] = df['Запросы 2023'] / df['Запросы 2022']\n",
    "        df['Доля рынка, %'] = df['Запросы 2023'] / requests_total\n",
    "        x = (df['Доля рынка, %'])\n",
    "        y = (df['Рост/Падение, %'])\n",
    "        sizes = (df['Запросы, итого']/1000)\n",
    "        x_avg = (x.min()+x.max())/2\n",
    "        y_avg = (y.min()+y.max())/2\n",
    "        xi, yi = df['Доля рынка, %'], df['Рост/Падение, %']\n",
    "        df.loc[(xi > x_avg) & (yi > y_avg), 'group'] = 'Звёзды:'\n",
    "        df.loc[(xi > x_avg)  & (yi <= y_avg), 'group'] = 'Коровы:'\n",
    "        df.loc[(xi <= x_avg)  & (yi > y_avg), 'group'] = 'Дети:'\n",
    "        df.loc[(xi <= x_avg)  & (yi <= y_avg), 'group'] = 'Собаки:'\n",
    "        df = df.sort_values(['Доля рынка, %', 'Рост/Падение, %'], ascending=[False, False])\n",
    "\n",
    "        plt.rcParams['figure.figsize'] = size_x, size_y\n",
    "        plt.rcParams['figure.dpi'] = 2**8\n",
    "        plt.rcParams['font.size'] = '18'\n",
    "        fpath = Path(mpl.get_data_path(), r\"C:\\Users\\Mamed\\YandexDisk\\_Documents\\Проекты\\2ГИС 2023\\Лого\\arialnarrow.ttf\")\n",
    "        fig, ax = plt.subplots()\n",
    "        ax.scatter(x, y, sizes, c='#C0504D', alpha=0.7)\n",
    "\n",
    "        n = 0.02\n",
    "        m = 0.02\n",
    "        ax.set_ylim(ax.get_ylim()[0] * (1 - n), ax.get_ylim()[1] * (1 + n))\n",
    "        ax.set_xlim(ax.get_xlim()[0] * (1 - m), ax.get_xlim()[1] * (1 + m))\n",
    "        ax.spines['top'].set_visible(False)\n",
    "        ax.spines['bottom'].set_visible(False)\n",
    "        ax.spines['left'].set_visible(False)\n",
    "        ax.spines['right'].set_visible(False)\n",
    "        ax.set_xticklabels('')\n",
    "        ax.set_yticklabels('')\n",
    "        plt.tick_params(bottom = False, left=False)\n",
    "        #plt.title(rubric, font=fpath, fontsize=40, fontweight=1000)\n",
    "\n",
    "        for xi, yi, city, size in zip(x, y, x.index, sizes):\n",
    "            rs = city.split(' ')\n",
    "            if len(rs) > 1:\n",
    "                rsl = len(rs) // 2\n",
    "                city = ' '.join(rs[:rsl] + ['\\n'] + rs[rsl:])\n",
    "\n",
    "            shar_path = [r\"C:\\Users\\Mamed\\YandexDisk\\_Documents\\Проекты\\2ГИС 2023\\Лого\\Шар_{:02}.png\".format(shar_num)]\n",
    "            shar_img = OffsetImage(plt.imread(shar_path[0], format=\"png\"), zoom=size)\n",
    "            ab = AnnotationBbox(shar_img, (xi, yi), frameon=False)\n",
    "            ax.add_artist(ab)\n",
    "            plt.annotate(city, (xi, yi), ha='center', va='center', font=fpath, color='#404040')\n",
    "\n",
    "        ax.hlines((y.min()+y.max())/2, x.min(), x.max(), colors='gray', linewidth=1)\n",
    "        ax.vlines((x.min()+x.max())/2, y.min(), y.max(), colors='gray', linewidth=1)\n",
    "        \n",
    "        \n",
    "        #im = plt.imread(r\"C:\\Users\\Mamed\\YandexDisk\\_Documents\\Проекты\\2ГИС 2023\\Лого\\01_Logo_HSE_full_rus_PANTONE_for_dark_2.png\")\n",
    "        #newax = fig.add_axes([0.1, 0.8, 0.1, 0.1], zorder=1, alpha=0.5)\n",
    "        #newax.imshow(im)\n",
    "        #newax.axis('off')\n",
    "        fig.savefig(f'pictures/{folder}_shar_{shar_num}.png', bbox_inches='tight', transparent=False)\n",
    "        \n",
    "        txt = f''\n",
    "        for cat in ['Звёзды:','Коровы:','Дети:','Собаки:']:\n",
    "            txt +=  cat + ' ' + ', '.join([word[::-1].replace('/', 'и', 1)[::-1].replace('/', ',').replace(' ,', ',') for word in df[df['group'] == cat].index]) + \"\\n\"\n",
    "        txt = txt[::-1].replace('\\n',':', 1)[::-1]\n",
    "        add_image(f'files/{folder}/{folder}_shars_{time}.docx', f'pictures/{folder}_shar_{shar_num}.png', word=txt, img_w=img_w, img_h=img_h, blank=blank,word_sample=word_sample)\n",
    "        if show:\n",
    "            plt.show()\n",
    "        plt.close()\n",
    "        df_list.append(df)\n",
    "    return pd.concat(df_list)"
   ]
  },
  {
   "cell_type": "code",
   "execution_count": 99,
   "id": "99c16f0f-f476-4a85-a088-52978e21a2d4",
   "metadata": {
    "execution": {
     "iopub.execute_input": "2023-06-14T04:27:42.519003Z",
     "iopub.status.busy": "2023-06-14T04:27:42.519003Z",
     "iopub.status.idle": "2023-06-14T04:28:32.301490Z",
     "shell.execute_reply": "2023-06-14T04:28:32.299491Z",
     "shell.execute_reply.started": "2023-06-14T04:27:42.519003Z"
    },
    "tags": []
   },
   "outputs": [
    {
     "name": "stdout",
     "output_type": "stream",
     "text": [
      "files/plus/plus_shars_230614_0727.docx\n",
      "[########################################] | 100% Completed | 222.15 ms\n",
      "[########################################] | 100% Completed | 328.79 ms\n"
     ]
    },
    {
     "data": {
      "application/vnd.jupyter.widget-view+json": {
       "model_id": "9b58e8f6022245ecbd0db13d6ffdbade",
       "version_major": 2,
       "version_minor": 0
      },
      "text/plain": [
       "  0%|          | 0/11 [00:00<?, ?it/s]"
      ]
     },
     "metadata": {},
     "output_type": "display_data"
    },
    {
     "name": "stderr",
     "output_type": "stream",
     "text": [
      "C:\\Users\\Mamed\\Anaconda\\lib\\site-packages\\matplotlib\\axes\\_base.py:2475: UserWarning: Warning: converting a masked element to nan.\n",
      "  xys = np.asarray(xys)\n",
      "C:\\Users\\Mamed\\Anaconda\\lib\\site-packages\\matplotlib\\axes\\_base.py:2475: UserWarning: Warning: converting a masked element to nan.\n",
      "  xys = np.asarray(xys)\n",
      "C:\\Users\\Mamed\\Anaconda\\lib\\site-packages\\matplotlib\\axes\\_base.py:2475: UserWarning: Warning: converting a masked element to nan.\n",
      "  xys = np.asarray(xys)\n"
     ]
    }
   ],
   "source": [
    "pmrc = plot_matrix_rubric_cities(cnt_graphics=11, size_x=6.3*4, size_y=3.94*4, font_size=28, img_w=16.5, img_h=10, blank=True, show=False)"
   ]
  },
  {
   "cell_type": "code",
   "execution_count": null,
   "id": "ef638dc8-ab4d-4b3b-a949-d9aefd51cd62",
   "metadata": {},
   "outputs": [],
   "source": []
  },
  {
   "cell_type": "code",
   "execution_count": null,
   "id": "19bdeae2-fff9-4981-8784-ca77fe6c1020",
   "metadata": {},
   "outputs": [],
   "source": []
  },
  {
   "cell_type": "code",
   "execution_count": null,
   "id": "717890cc-06a9-485e-81fc-8d76de0d3ca6",
   "metadata": {},
   "outputs": [],
   "source": []
  },
  {
   "cell_type": "markdown",
   "id": "c5fb52d0-47d5-4f1c-bcf4-d5d44f9294d7",
   "metadata": {},
   "source": [
    "# Графики"
   ]
  },
  {
   "cell_type": "markdown",
   "id": "af14ce96-8abe-4159-89cb-95d4c76c669f",
   "metadata": {
    "tags": []
   },
   "source": [
    "### Расчет"
   ]
  },
  {
   "cell_type": "code",
   "execution_count": 3,
   "id": "bad33359-c826-4a39-866f-e6bfbaa1c98c",
   "metadata": {
    "execution": {
     "iopub.execute_input": "2023-04-20T23:29:37.735570Z",
     "iopub.status.busy": "2023-04-20T23:29:37.734567Z",
     "iopub.status.idle": "2023-04-21T00:22:38.312004Z",
     "shell.execute_reply": "2023-04-21T00:22:38.312004Z",
     "shell.execute_reply.started": "2023-04-20T23:29:37.735570Z"
    },
    "tags": []
   },
   "outputs": [
    {
     "name": "stderr",
     "output_type": "stream",
     "text": [
      "100%|█████████████████████████████████████████████████████████████████████████████████| 20/20 [53:00<00:00, 159.03s/it]\n"
     ]
    }
   ],
   "source": [
    "df_schema = StructType([StructField('user', StringType(), True), StructField('proj', StringType(), True), StructField('rubricName', StringType(), True), StructField('rubricID', IntegerType(), True), StructField('time', StringType(), True), StructField('date', StringType(), True), StructField('org', StringType(), True), StructField('branch', StringType(), True), StructField('prod', StringType(), True), StructField('tx', StringType(), True), StructField('fl', StringType(), True), StructField('devmod', StringType(), True), StructField('lat', StringType(), True), StructField('lon', StringType(), True)])\n",
    "df_list = [i for i in files_list_chain if 'Астана' in i or 'Бишкек' in i or 'Москва' in i or 'ОАЭ' in i or 'Ташкент' in i]\n",
    "\n",
    "for file in tqdm(df_list):\n",
    "    df = spark.read.option(\"header\",\"true\").csv(file, schema=df_schema)\n",
    "    df.createOrReplaceTempView('df')\n",
    "    city = file.split('\\\\')[2]\n",
    "    df_new = spark.sql(f'''\n",
    "    select \n",
    "    rubricName\n",
    "    , \"{city}\" city\n",
    "    , time\n",
    "    , year(time) year_r\n",
    "    , hour(time) hour_r\n",
    "    , SUBSTR(time, 6, 5) date_r\n",
    "    , case when weekofyear(time) > 9 then 1 else weekofyear(time) end week_r\n",
    "    , case when extract(dayofweek from time) = 1 then 7\n",
    "        else extract(dayofweek from time)-1\n",
    "    end week_day_r\n",
    "\n",
    "    from df\n",
    "    ''').where('year_r in (2020,2021,2022,2023) and month(time) < 3 ')\n",
    "\n",
    "    df_new.write.mode('append').parquet(f'files/ten_city/df_dates')"
   ]
  },
  {
   "cell_type": "code",
   "execution_count": 27,
   "id": "90ff1e11-da12-40f4-8186-9595b73cd9f0",
   "metadata": {
    "execution": {
     "iopub.execute_input": "2023-04-21T20:01:25.554059Z",
     "iopub.status.busy": "2023-04-21T20:01:25.554059Z",
     "iopub.status.idle": "2023-04-21T20:01:25.569875Z",
     "shell.execute_reply": "2023-04-21T20:01:25.568880Z",
     "shell.execute_reply.started": "2023-04-21T20:01:25.554059Z"
    },
    "tags": []
   },
   "outputs": [],
   "source": [
    "def count_dates(col, df_new='df_new'):\n",
    "    dff1 = spark.sql(f'''\n",
    "\n",
    "    with t as\n",
    "        (\n",
    "        select \n",
    "            year_r\n",
    "            , rubricName\n",
    "            , city\n",
    "            , {col}\n",
    "            , count(*) cnt\n",
    "        from {df_new}\n",
    "        group by\n",
    "            year_r\n",
    "            , rubricName\n",
    "            , city\n",
    "            , {col}\n",
    "        order by\n",
    "            year_r\n",
    "            , rubricName\n",
    "            , city\n",
    "            , {col}\n",
    "        )\n",
    "    ,gr as\n",
    "        (\n",
    "        select\n",
    "            rubricName \n",
    "            ,{col} \n",
    "            ,max(case when city = 'Астана'  then cnt end) cnt_a\n",
    "            ,max(case when city = 'Бишкек'  then cnt end) cnt_b\n",
    "            ,max(case when city = 'Москва'  then cnt end) cnt_m\n",
    "            ,max(case when city = 'ОАЭ'     then cnt end) cnt_o\n",
    "            ,max(case when city = 'Ташкент' then cnt end) cnt_t\n",
    "        from t\n",
    "        group by\n",
    "            rubricName\n",
    "            ,{col}\n",
    "        order by\n",
    "            rubricName\n",
    "            ,{col}    \n",
    "        )\n",
    "\n",
    "    select\n",
    "        rubricName \n",
    "        ,{col}\n",
    "        ,sum(cnt_a) over(partition by rubricName, {col}) / sum(cnt_a) over(partition by rubricName)*100 cnt_a\n",
    "        ,sum(cnt_b) over(partition by rubricName, {col}) / sum(cnt_b) over(partition by rubricName)*100 cnt_b\n",
    "        ,sum(cnt_m) over(partition by rubricName, {col}) / sum(cnt_m) over(partition by rubricName)*100 cnt_m\n",
    "        ,sum(cnt_o) over(partition by rubricName, {col}) / sum(cnt_o) over(partition by rubricName)*100 cnt_o\n",
    "        ,sum(cnt_t) over(partition by rubricName, {col}) / sum(cnt_t) over(partition by rubricName)*100 cnt_t\n",
    "        \n",
    "        ,case when row_number() over(partition by rubricName order by cnt_a desc) < 4 then row_number() over(partition by rubricName order by cnt_a desc) end max_a\n",
    "        ,case when row_number() over(partition by rubricName order by cnt_b desc) < 4 then row_number() over(partition by rubricName order by cnt_b desc) end max_b\n",
    "        ,case when row_number() over(partition by rubricName order by cnt_m desc) < 4 then row_number() over(partition by rubricName order by cnt_m desc) end max_m\n",
    "        ,case when row_number() over(partition by rubricName order by cnt_o desc) < 4 then row_number() over(partition by rubricName order by cnt_o desc) end max_o\n",
    "        ,case when row_number() over(partition by rubricName order by cnt_t desc) < 4 then row_number() over(partition by rubricName order by cnt_t desc) end max_t\n",
    "        \n",
    "        ,case when row_number() over(partition by rubricName order by cnt_a) < 4 then row_number() over(partition by rubricName order by cnt_a) end min_a\n",
    "        ,case when row_number() over(partition by rubricName order by cnt_b) < 4 then row_number() over(partition by rubricName order by cnt_b) end min_b\n",
    "        ,case when row_number() over(partition by rubricName order by cnt_m) < 4 then row_number() over(partition by rubricName order by cnt_m) end min_m\n",
    "        ,case when row_number() over(partition by rubricName order by cnt_o) < 4 then row_number() over(partition by rubricName order by cnt_o) end min_o\n",
    "        ,case when row_number() over(partition by rubricName order by cnt_t) < 4 then row_number() over(partition by rubricName order by cnt_t) end min_t\n",
    "\n",
    "    from gr\n",
    "\n",
    "    ''').toPandas()\n",
    "    return dff1\n",
    "\n",
    "def make_linear_plots(input_filename, rubrics_df, cnt=9999, size_x=17.5, size_y=10.8, font_size=16, img_w=17.5, img_h=10.8, blank=False, word_sample='files/report.docx'):\n",
    "    def zero(x,y):\n",
    "        if x < 0:\n",
    "            return str(0) +'%'\n",
    "        return str(round(x,1)) +'%'\n",
    "    \n",
    "    dt_now = str(datetime.datetime.now())[2:-9].replace('-','').replace(':','').replace(' ','_')\n",
    "    word_file = f'{input_filename[:-5]}_report_{dt_now}.docx'\n",
    "    print(word_file)\n",
    "    cols1 = ['Рубрика','Час','Количество запросов Астана','Количество запросов Бишкек','Количество запросов Москва','Количество запросов ОАЭ','Количество запросов Ташкент']\n",
    "    cols2 = ['Рубрика','Дата','Количество запросов Астана','Количество запросов Бишкек','Количество запросов Москва','Количество запросов ОАЭ','Количество запросов Ташкент']\n",
    "    cols3 = ['Рубрика','Неделя','Количество запросов Астана','Количество запросов Бишкек','Количество запросов Москва','Количество запросов ОАЭ','Количество запросов Ташкент']\n",
    "    cols4 = ['Рубрика','День недели','Количество запросов Астана','Количество запросов Бишкек','Количество запросов Москва','Количество запросов ОАЭ','Количество запросов Ташкент']\n",
    "    dff1 = pd.read_excel(input_filename, sheet_name='Часы')[cols1]\n",
    "    dff2 = pd.read_excel(input_filename, sheet_name='Даты')[cols2]\n",
    "    dff3 = pd.read_excel(input_filename, sheet_name='Недели')[cols3]\n",
    "    dff4 = pd.read_excel(input_filename, sheet_name='Дни недели')[cols4]\n",
    "    \n",
    "    i = 0\n",
    "    for rubric in tqdm(rubrics_df[:].iloc[:,0].values[0:cnt]):\n",
    "        dff1_test = dff1[dff1['Рубрика'] == rubric].set_index(dff1.columns[1])\n",
    "        dff2_test = dff2[dff2['Рубрика'] == rubric].set_index(dff2.columns[1])\n",
    "        dff3_test = dff3[dff3['Рубрика'] == rubric].set_index(dff3.columns[1])\n",
    "        dff4_test = dff4[dff4['Рубрика'] == rubric].set_index(dff4.columns[1])\n",
    "        dff4_test.index = (['пн','вт','ср','чт','пт','сб','вс'])\n",
    "        dff1_test.index = dff1_test.index.astype(str)\n",
    "        i+=1\n",
    "        j=0\n",
    "        for d in [dff1_test, dff2_test, dff3_test, dff4_test]: \n",
    "            j+=1\n",
    "            fig, ax = plt.subplots()\n",
    "            ax = sns.lineplot(data = d, linewidth=3, palette=['#4F81BD', '#F79646', '#C0504D', '#9BBB59', '#264478'])\n",
    "            plt.rcParams['figure.figsize']=17,10.8\n",
    "            plt.rcParams['font.size'] = '16'\n",
    "            plt.rcParams['figure.dpi'] = 2**8\n",
    "            plt.rcParams['figure.facecolor'] = 'white'\n",
    "            fpath = Path(mpl.get_data_path(), r\"C:\\Users\\Mamed\\YandexDisk\\_Documents\\Проекты\\2ГИС 2023\\Лого\\arialnarrow.ttf\")\n",
    "            \n",
    "            \n",
    "            plt.legend(['Астана', 'Бишкек', 'Москва', 'ОАЭ', 'Ташкент'], prop=fpath)\n",
    "            plt.xticks(font=fpath)\n",
    "            plt.yticks(font=fpath)\n",
    "            plt.grid(visible=True, linewidth=0.3)\n",
    "            ax.set_xlabel('')\n",
    "            ax.yaxis.set_major_formatter(FuncFormatter(zero))\n",
    "            ax.xaxis.set_major_locator(ticker.MultipleLocator(1)) \n",
    "            ax.yaxis.set_major_locator(ticker.LinearLocator(numticks=6))  \n",
    "            title_text = f'{i:02}/{j}. {rubric}. '\n",
    "            img_file_name = input_filename.replace('files/','')[:-5]\n",
    "            img_file_name_final = f'pictures/{img_file_name}_{i:02}_{j}.png'\n",
    "            if 'Час' == d.index.name:\n",
    "                ax.set_title(f'{title_text}Запросы по часам, шт.', font=fpath)\n",
    "            elif 'Дата' == d.index.name:\n",
    "                ax.xaxis.set_major_locator(ticker.MultipleLocator(4)) \n",
    "                ax.set_title(f'{title_text}Запросы по датам, шт.', font=fpath)\n",
    "            elif 'Неделя' == d.index.name:\n",
    "                ax.set_title(f'{title_text}Запросы по неделям, шт.', font=fpath)\n",
    "            else:\n",
    "                ax.set_title(f'{title_text}Запросы по дням недели, шт.', font=fpath) \n",
    "            \n",
    "            im = plt.imread(r\"C:\\Users\\Mamed\\YandexDisk\\_Documents\\Проекты\\2ГИС 2023\\Лого\\лого_2гис_232_354.png\")\n",
    "            ax.figure.figimage(im, 3250, 150, zorder=1, alpha=0.5)\n",
    "          \n",
    "            im = plt.imread(r\"C:\\Users\\Mamed\\YandexDisk\\_Documents\\Проекты\\2ГИС 2023\\Лого\\лого_шт_232_354.png\")\n",
    "            ax.figure.figimage(im, 200, 1800, zorder=1, alpha=0.5)\n",
    "\n",
    "            ax.figure.savefig(img_file_name_final, bbox_inches='tight')\n",
    "            add_image(word_file, img_file_name_final, rubric, img_w=img_w, img_h=img_h, blank=blank,word_sample=word_sample)\n",
    "            #plt.show()\n",
    "            plt.close()"
   ]
  },
  {
   "cell_type": "code",
   "execution_count": 9,
   "id": "7a7a4ed0-bc42-418b-9983-3eaa68d78389",
   "metadata": {
    "execution": {
     "iopub.execute_input": "2023-04-21T19:45:48.101001Z",
     "iopub.status.busy": "2023-04-21T19:45:48.100002Z",
     "iopub.status.idle": "2023-04-21T19:45:56.066006Z",
     "shell.execute_reply": "2023-04-21T19:45:56.065006Z",
     "shell.execute_reply.started": "2023-04-21T19:45:48.101001Z"
    },
    "tags": []
   },
   "outputs": [],
   "source": [
    "df_new = spark.read.parquet(f'files/ten_city/df_dates')\n",
    "df_new.createOrReplaceTempView('df_new')"
   ]
  },
  {
   "cell_type": "code",
   "execution_count": 28,
   "id": "9bc8b926-80e8-417c-aec3-6f688971a913",
   "metadata": {
    "execution": {
     "iopub.execute_input": "2023-04-21T20:01:27.293333Z",
     "iopub.status.busy": "2023-04-21T20:01:27.293333Z",
     "iopub.status.idle": "2023-04-21T20:01:27.297335Z",
     "shell.execute_reply": "2023-04-21T20:01:27.296340Z",
     "shell.execute_reply.started": "2023-04-21T20:01:27.293333Z"
    },
    "tags": []
   },
   "outputs": [],
   "source": [
    "df_new_list = []"
   ]
  },
  {
   "cell_type": "code",
   "execution_count": 29,
   "id": "6d2c1d82-2ad9-4682-8c02-63af2d89fdf0",
   "metadata": {
    "execution": {
     "iopub.execute_input": "2023-04-21T20:01:27.556343Z",
     "iopub.status.busy": "2023-04-21T20:01:27.555345Z",
     "iopub.status.idle": "2023-04-21T20:13:32.056620Z",
     "shell.execute_reply": "2023-04-21T20:13:32.050619Z",
     "shell.execute_reply.started": "2023-04-21T20:01:27.556343Z"
    },
    "tags": []
   },
   "outputs": [
    {
     "name": "stderr",
     "output_type": "stream",
     "text": [
      "100%|███████████████████████████████████████████████████████████████████████████████████| 4/4 [12:04<00:00, 181.12s/it]\n"
     ]
    }
   ],
   "source": [
    "for i in tqdm(['hour_r','date_r','week_r','week_day_r']):\n",
    "    df_new_list.append(count_dates(i))"
   ]
  },
  {
   "cell_type": "code",
   "execution_count": 30,
   "id": "70852e02-6aa7-4681-a30d-607679210463",
   "metadata": {
    "execution": {
     "iopub.execute_input": "2023-04-21T20:13:32.061618Z",
     "iopub.status.busy": "2023-04-21T20:13:32.060618Z",
     "iopub.status.idle": "2023-04-21T20:13:32.119161Z",
     "shell.execute_reply": "2023-04-21T20:13:32.112156Z",
     "shell.execute_reply.started": "2023-04-21T20:13:32.061618Z"
    },
    "tags": []
   },
   "outputs": [],
   "source": [
    "dff1 = df_new_list[0]\n",
    "dff2 = df_new_list[1]\n",
    "dff3 = df_new_list[2]\n",
    "dff4 = df_new_list[3]"
   ]
  },
  {
   "cell_type": "code",
   "execution_count": 34,
   "id": "ad4a250a-7a16-4640-8443-ad0065408c36",
   "metadata": {
    "execution": {
     "iopub.execute_input": "2023-04-21T20:20:00.664301Z",
     "iopub.status.busy": "2023-04-21T20:20:00.664301Z",
     "iopub.status.idle": "2023-04-21T20:20:36.606765Z",
     "shell.execute_reply": "2023-04-21T20:20:36.605806Z",
     "shell.execute_reply.started": "2023-04-21T20:20:00.664301Z"
    },
    "tags": []
   },
   "outputs": [],
   "source": [
    "t = ['Рубрика', 'Час','Количество запросов Астана','Количество запросов Бишкек','Количество запросов Москва','Количество запросов ОАЭ','Количество запросов Ташкент',\n",
    "    'max_a', 'max_b', 'max_m', 'max_o', 'max_t', 'min_a', 'min_b', 'min_m', 'min_o', 'min_t']\n",
    "\n",
    "\n",
    "t[1] = 'Час'\n",
    "dff1.columns = t\n",
    "t[1] = 'Дата'\n",
    "dff2.columns = t\n",
    "t[1] = 'Неделя'\n",
    "dff3.columns = t\n",
    "t[1] = 'День недели'\n",
    "dff4.columns = t\n",
    "\n",
    "with pd.ExcelWriter(f'files/ten_city/df_dates.xlsx') as writer:\n",
    "    dff1.to_excel(writer, sheet_name='Часы', index=False)\n",
    "    dff2.to_excel(writer, sheet_name='Даты', index=False)\n",
    "    dff3.to_excel(writer, sheet_name='Недели', index=False)\n",
    "    dff4.to_excel(writer, sheet_name='Дни недели', index=False)"
   ]
  },
  {
   "cell_type": "code",
   "execution_count": 41,
   "id": "9b7acb77-8c30-444a-b9b7-636047ba711f",
   "metadata": {
    "execution": {
     "iopub.execute_input": "2023-04-21T20:29:28.173330Z",
     "iopub.status.busy": "2023-04-21T20:29:28.173330Z",
     "iopub.status.idle": "2023-04-21T20:29:32.108627Z",
     "shell.execute_reply": "2023-04-21T20:29:32.105625Z",
     "shell.execute_reply.started": "2023-04-21T20:29:28.173330Z"
    },
    "tags": []
   },
   "outputs": [],
   "source": [
    "df_tx_grouped_filtered = spark.read.parquet(f\"files/ten_city/df_tx_grouped_filtered_ten_city\")\n",
    "df_tx_grouped_filtered.createOrReplaceTempView('df_tx_grouped_filtered')\n",
    "rubrics = spark.sql('''select distinct rubricName from df_tx_grouped_filtered''').collect()\n",
    "rubrics = [i.asDict()['rubricName'] for i in rubrics]\n",
    "rubrics = pd.DataFrame(rubrics)\n",
    "rubrics['Рейтинг рубрики'] = rubrics.index + 1"
   ]
  },
  {
   "cell_type": "code",
   "execution_count": 75,
   "id": "88f385c0-7ac8-4439-b045-ce3ec5c609cd",
   "metadata": {
    "execution": {
     "iopub.execute_input": "2023-04-21T22:21:27.511710Z",
     "iopub.status.busy": "2023-04-21T22:21:27.511710Z",
     "iopub.status.idle": "2023-04-21T22:28:07.141590Z",
     "shell.execute_reply": "2023-04-21T22:28:07.140567Z",
     "shell.execute_reply.started": "2023-04-21T22:21:27.511710Z"
    },
    "tags": []
   },
   "outputs": [
    {
     "name": "stdout",
     "output_type": "stream",
     "text": [
      "files/ten_city/df_dates_report_230422_0121.docx\n"
     ]
    },
    {
     "name": "stderr",
     "output_type": "stream",
     "text": [
      "100%|██████████████████████████████████████████████████████████████████████████████████| 25/25 [06:11<00:00, 14.87s/it]\n"
     ]
    }
   ],
   "source": [
    "make_linear_plots(f'files/ten_city/df_dates.xlsx', rubrics, 25)"
   ]
  },
  {
   "cell_type": "code",
   "execution_count": 4,
   "id": "1c41a9d8-6e05-4c95-9f45-f865fd174ed8",
   "metadata": {
    "execution": {
     "iopub.execute_input": "2023-06-15T20:36:43.890444Z",
     "iopub.status.busy": "2023-06-15T20:36:43.890444Z",
     "iopub.status.idle": "2023-06-15T20:36:58.883314Z",
     "shell.execute_reply": "2023-06-15T20:36:58.882314Z",
     "shell.execute_reply.started": "2023-06-15T20:36:43.890444Z"
    }
   },
   "outputs": [
    {
     "name": "stdout",
     "output_type": "stream",
     "text": [
      "Ready: 2023-06-15 23:36:44\n"
     ]
    }
   ],
   "source": [
    "%run functions.ipynb\n",
    "spark = get_spark()"
   ]
  },
  {
   "cell_type": "code",
   "execution_count": 17,
   "id": "b9e1e58c-b3b7-45bf-b27c-af08ecb89294",
   "metadata": {
    "execution": {
     "iopub.execute_input": "2023-06-15T20:42:58.040332Z",
     "iopub.status.busy": "2023-06-15T20:42:58.040332Z",
     "iopub.status.idle": "2023-06-15T20:42:58.345207Z",
     "shell.execute_reply": "2023-06-15T20:42:58.345207Z",
     "shell.execute_reply.started": "2023-06-15T20:42:58.040332Z"
    },
    "tags": []
   },
   "outputs": [],
   "source": [
    "df_tx_grouped_filtered = spark.read.parquet(f\"files/plus/bank_requests_grouped\")\n",
    "df_tx_grouped_filtered.createOrReplaceTempView('df_tx_grouped_filtered')\n",
    "rubrics = spark.sql('''select distinct rubricName from df_tx_grouped_filtered''').collect()"
   ]
  },
  {
   "cell_type": "code",
   "execution_count": 23,
   "id": "ac75e248-88ee-4601-b65c-0486fd276237",
   "metadata": {
    "execution": {
     "iopub.execute_input": "2023-06-15T20:43:50.168447Z",
     "iopub.status.busy": "2023-06-15T20:43:50.168447Z",
     "iopub.status.idle": "2023-06-15T20:43:50.179449Z",
     "shell.execute_reply": "2023-06-15T20:43:50.178449Z",
     "shell.execute_reply.started": "2023-06-15T20:43:50.168447Z"
    },
    "tags": []
   },
   "outputs": [],
   "source": [
    "rubrics = [i.asDict()['rubricName'] for i in rubrics if i.asDict()['rubricName'] in ['Банки', 'Банкоматы', 'Ломбарды']]\n",
    "rubrics = pd.DataFrame(rubrics)\n",
    "rubrics['Рейтинг рубрики'] = rubrics.index + 1"
   ]
  },
  {
   "cell_type": "code",
   "execution_count": 25,
   "id": "b6df62f5-9e28-49fe-8afb-ca68d1607577",
   "metadata": {
    "execution": {
     "iopub.execute_input": "2023-06-15T20:43:59.669286Z",
     "iopub.status.busy": "2023-06-15T20:43:59.669286Z",
     "iopub.status.idle": "2023-06-15T20:43:59.690292Z",
     "shell.execute_reply": "2023-06-15T20:43:59.689373Z",
     "shell.execute_reply.started": "2023-06-15T20:43:59.669286Z"
    },
    "tags": []
   },
   "outputs": [],
   "source": [
    "def make_linear_plots(input_filename, rubrics_df, cnt=9999, size_x=17.5, size_y=10.8, font_size=16, img_w=17.5, img_h=10.8, blank=False, word_sample='files/report.docx'):\n",
    "    def zero(x,y):\n",
    "        if x < 0:\n",
    "            return str(0) +'%'\n",
    "        return str(round(x,1)) +'%'\n",
    "    \n",
    "    dt_now = str(datetime.datetime.now())[2:-9].replace('-','').replace(':','').replace(' ','_')\n",
    "    word_file = f'{input_filename[:-5]}_report_{dt_now}.docx'\n",
    "    print(word_file)\n",
    "    cols1 = ['Рубрика','Час','Количество запросов Астана','Количество запросов Бишкек','Количество запросов Москва','Количество запросов ОАЭ','Количество запросов Ташкент']\n",
    "    cols2 = ['Рубрика','Дата','Количество запросов Астана','Количество запросов Бишкек','Количество запросов Москва','Количество запросов ОАЭ','Количество запросов Ташкент']\n",
    "    cols3 = ['Рубрика','Неделя','Количество запросов Астана','Количество запросов Бишкек','Количество запросов Москва','Количество запросов ОАЭ','Количество запросов Ташкент']\n",
    "    cols4 = ['Рубрика','День недели','Количество запросов Астана','Количество запросов Бишкек','Количество запросов Москва','Количество запросов ОАЭ','Количество запросов Ташкент']\n",
    "    dff1 = pd.read_excel(input_filename, sheet_name='Часы')[cols1]\n",
    "    dff2 = pd.read_excel(input_filename, sheet_name='Даты')[cols2]\n",
    "    dff3 = pd.read_excel(input_filename, sheet_name='Недели')[cols3]\n",
    "    dff4 = pd.read_excel(input_filename, sheet_name='Дни недели')[cols4]\n",
    "    \n",
    "    i = 0\n",
    "    for rubric in tqdm(rubrics_df[:].iloc[:,0].values[0:cnt]):\n",
    "        dff1_test = dff1[dff1['Рубрика'] == rubric].set_index(dff1.columns[1])\n",
    "        dff2_test = dff2[dff2['Рубрика'] == rubric].set_index(dff2.columns[1])\n",
    "        dff3_test = dff3[dff3['Рубрика'] == rubric].set_index(dff3.columns[1])\n",
    "        dff4_test = dff4[dff4['Рубрика'] == rubric].set_index(dff4.columns[1])\n",
    "        dff4_test.index = (['пн','вт','ср','чт','пт','сб','вс'])\n",
    "        dff1_test.index = dff1_test.index.astype(str)\n",
    "        i+=1\n",
    "        j=0\n",
    "        for d in [dff1_test, dff2_test, dff3_test, dff4_test]: \n",
    "            j+=1\n",
    "            fig, ax = plt.subplots()\n",
    "            ax = sns.lineplot(data = d, linewidth=3, palette=['#4F81BD', '#F79646', '#C0504D', '#9BBB59', '#264478'])\n",
    "            plt.rcParams['figure.figsize']=17,10.8\n",
    "            plt.rcParams['font.size'] = '16'\n",
    "            plt.rcParams['figure.dpi'] = 2**8\n",
    "            plt.rcParams['figure.facecolor'] = 'white'\n",
    "            fpath = Path(mpl.get_data_path(), r\"C:\\Users\\Mamed\\YandexDisk\\_Documents\\Проекты\\2ГИС 2023\\Лого\\arialnarrow.ttf\")\n",
    "            \n",
    "            \n",
    "            plt.legend(['Астана', 'Бишкек', 'Москва', 'ОАЭ', 'Ташкент'], prop=fpath)\n",
    "            plt.xticks(font=fpath)\n",
    "            plt.yticks(font=fpath)\n",
    "            plt.grid(visible=True, linewidth=0.3)\n",
    "            ax.set_xlabel('')\n",
    "            ax.yaxis.set_major_formatter(FuncFormatter(zero))\n",
    "            ax.xaxis.set_major_locator(ticker.MultipleLocator(1)) \n",
    "            ax.yaxis.set_major_locator(ticker.LinearLocator(numticks=6))  \n",
    "            title_text = f'{rubric}. '\n",
    "            img_file_name = input_filename.replace('files/','')[:-5]\n",
    "            img_file_name_final = f'pictures/{img_file_name}_{i:02}_{j}.png'\n",
    "            if 'Час' == d.index.name:\n",
    "                ax.set_title(f'{title_text}Запросы по часам, шт.', font=fpath)\n",
    "            elif 'Дата' == d.index.name:\n",
    "                ax.xaxis.set_major_locator(ticker.MultipleLocator(4)) \n",
    "                ax.set_title(f'{title_text}Запросы по датам, шт.', font=fpath)\n",
    "            elif 'Неделя' == d.index.name:\n",
    "                ax.set_title(f'{title_text}Запросы по неделям, шт.', font=fpath)\n",
    "            else:\n",
    "                ax.set_title(f'{title_text}Запросы по дням недели, шт.', font=fpath) \n",
    "            \n",
    "            ax.figure.savefig(img_file_name_final, bbox_inches='tight')\n",
    "            add_image(word_file, img_file_name_final, rubric, img_w=img_w, img_h=img_h, blank=blank,word_sample=word_sample)\n",
    "            plt.show()\n",
    "            plt.close()"
   ]
  },
  {
   "cell_type": "code",
   "execution_count": null,
   "id": "18124d18-4fdf-4229-baa2-5ce4c229f56f",
   "metadata": {
    "execution": {
     "iopub.execute_input": "2023-06-15T20:44:41.198536Z",
     "iopub.status.busy": "2023-06-15T20:44:41.197536Z",
     "iopub.status.idle": "2023-06-15T20:45:19.753611Z",
     "shell.execute_reply": "2023-06-15T20:45:19.752720Z",
     "shell.execute_reply.started": "2023-06-15T20:44:41.198536Z"
    },
    "tags": []
   },
   "outputs": [],
   "source": [
    "make_linear_plots(f'files/ten_city/df_dates.xlsx', rubrics, 100, size_x=6.3*4, size_y=3.94*4, img_w=16.5, img_h=10, blank=False, word_sample='files/report_ten_city.docx')"
   ]
  },
  {
   "cell_type": "code",
   "execution_count": null,
   "id": "1d1f9261-3294-437f-8050-924db66ceeb2",
   "metadata": {},
   "outputs": [],
   "source": []
  },
  {
   "cell_type": "code",
   "execution_count": null,
   "id": "116a331e-c3ba-4ea3-b868-a3238fd3e81d",
   "metadata": {},
   "outputs": [],
   "source": []
  }
 ],
 "metadata": {
  "kernelspec": {
   "display_name": "Python 3 (ipykernel)",
   "language": "python",
   "name": "python3"
  },
  "language_info": {
   "codemirror_mode": {
    "name": "ipython",
    "version": 3
   },
   "file_extension": ".py",
   "mimetype": "text/x-python",
   "name": "python",
   "nbconvert_exporter": "python",
   "pygments_lexer": "ipython3",
   "version": "3.9.12"
  },
  "toc-autonumbering": false
 },
 "nbformat": 4,
 "nbformat_minor": 5
}
