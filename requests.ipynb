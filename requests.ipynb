{
 "cells": [
  {
   "cell_type": "code",
   "execution_count": 1,
   "id": "1c4c9870-f8f1-4032-9bb2-87b0393e010f",
   "metadata": {
    "execution": {
     "iopub.execute_input": "2023-04-20T22:30:59.317624Z",
     "iopub.status.busy": "2023-04-20T22:30:59.313121Z",
     "iopub.status.idle": "2023-04-20T22:31:19.164134Z",
     "shell.execute_reply": "2023-04-20T22:31:19.161576Z",
     "shell.execute_reply.started": "2023-04-20T22:30:59.314161Z"
    },
    "tags": []
   },
   "outputs": [
    {
     "name": "stdout",
     "output_type": "stream",
     "text": [
      "Ready: 2023-04-21 01:31:19\n"
     ]
    }
   ],
   "source": [
    "%run functions.ipynb"
   ]
  },
  {
   "cell_type": "code",
   "execution_count": 2,
   "id": "f735f502-0336-4bd3-bcb1-079a46b15d4c",
   "metadata": {
    "execution": {
     "iopub.execute_input": "2023-04-20T22:31:19.168683Z",
     "iopub.status.busy": "2023-04-20T22:31:19.167666Z",
     "iopub.status.idle": "2023-04-20T22:31:53.169687Z",
     "shell.execute_reply": "2023-04-20T22:31:53.167704Z",
     "shell.execute_reply.started": "2023-04-20T22:31:19.168683Z"
    },
    "tags": []
   },
   "outputs": [],
   "source": [
    "findspark.init()\n",
    "from pyspark.sql import SparkSession\n",
    "try:\n",
    "    spark.stop()\n",
    "except:\n",
    "    pass\n",
    "spark = SparkSession.builder\\\n",
    "        .master(\"local[*]\")\\\n",
    "        .appName('PySpark_Tutorial')\\\n",
    "        .getOrCreate()\n",
    "\n",
    "spark"
   ]
  },
  {
   "cell_type": "markdown",
   "id": "11d60ca1-9f84-4689-901d-df44bf7e1b19",
   "metadata": {
    "tags": []
   },
   "source": [
    "# Москва запросы"
   ]
  },
  {
   "cell_type": "code",
   "execution_count": 3,
   "id": "07fb7cef-383b-40a0-89d3-98a007f11fe1",
   "metadata": {
    "execution": {
     "iopub.execute_input": "2023-04-09T20:31:07.218211Z",
     "iopub.status.busy": "2023-04-09T20:31:07.218211Z",
     "iopub.status.idle": "2023-04-09T21:06:02.697333Z",
     "shell.execute_reply": "2023-04-09T21:06:02.694118Z",
     "shell.execute_reply.started": "2023-04-09T20:31:07.218211Z"
    },
    "tags": []
   },
   "outputs": [
    {
     "name": "stdout",
     "output_type": "stream",
     "text": [
      "[########################################] | 100% Completed | 34m 53s\n"
     ]
    }
   ],
   "source": [
    "name = 'moscow'\n",
    "rubrics = pd.read_excel('files/final_svod_master.xlsx')[['Рубрика']].iloc[:70]\n",
    "\n",
    "df1 = dd.read_csv(r\"D:\\файлы_2гис_2023\\Москва\\Москва_2021_970748.csv\", dtype={'fl': 'object'})[['rubricName','time', 'date','tx']]\n",
    "df2 = dd.read_csv(r\"D:\\файлы_2гис_2023\\Москва\\Москва_2022_970753.csv\", dtype={'fl': 'object'})[['rubricName','time', 'date','tx']]\n",
    "df3 = dd.read_csv(r\"D:\\файлы_2гис_2023\\Москва\\Москва_2023_970754.csv\", dtype={'fl': 'object'})[['rubricName','time', 'date','tx']]\n",
    "df4 = dd.read_csv(r\"D:\\файлы_2гис_2023\\Москва\\Москва_2020_969792.csv\", dtype={'fl': 'object'})[['rubricName','time', 'date','tx']]\n",
    "\n",
    "df_all = dd.concat([df1, df2, df3, df4])\n",
    "df_filtered = df_all.merge(rubrics, left_on='rubricName', right_on='Рубрика')\n",
    "df_filtered.to_parquet(f'files/df_filtered_{name}')\n",
    "df_filtered = dd.read_parquet(f'files/df_filtered_{name}')"
   ]
  },
  {
   "cell_type": "code",
   "execution_count": 4,
   "id": "93121fad-d3ea-4e97-a57a-98fa714b1593",
   "metadata": {
    "execution": {
     "iopub.execute_input": "2023-04-09T21:06:02.702931Z",
     "iopub.status.busy": "2023-04-09T21:06:02.702931Z",
     "iopub.status.idle": "2023-04-09T21:06:03.462814Z",
     "shell.execute_reply": "2023-04-09T21:06:03.458815Z",
     "shell.execute_reply.started": "2023-04-09T21:06:02.702931Z"
    },
    "tags": []
   },
   "outputs": [],
   "source": [
    "rubrics = pd.read_excel(r\"C:\\Users\\Mamed\\YandexDisk\\_Documents\\Проекты\\2ГИС 2023\\Москва\\Мастер_таблица_2ГИС_Москва_230320_0245.xlsx\")[['Рубрика']].iloc[:70]\n",
    "name = 'moscow'"
   ]
  },
  {
   "cell_type": "code",
   "execution_count": 7,
   "id": "3c2f70bb-a8eb-482c-a65a-378dcb1171ba",
   "metadata": {
    "execution": {
     "iopub.execute_input": "2023-04-09T21:17:39.381030Z",
     "iopub.status.busy": "2023-04-09T21:17:39.380004Z",
     "iopub.status.idle": "2023-04-09T21:24:27.381598Z",
     "shell.execute_reply": "2023-04-09T21:24:27.380726Z",
     "shell.execute_reply.started": "2023-04-09T21:17:39.381030Z"
    },
    "tags": []
   },
   "outputs": [],
   "source": [
    "make_dates_file(name)"
   ]
  },
  {
   "cell_type": "code",
   "execution_count": null,
   "id": "8e442206-1556-4b50-ac33-15b8930e07ab",
   "metadata": {
    "execution": {
     "iopub.execute_input": "2023-04-09T21:24:27.384599Z",
     "iopub.status.busy": "2023-04-09T21:24:27.384599Z",
     "iopub.status.idle": "2023-04-09T21:31:26.352728Z",
     "shell.execute_reply": "2023-04-09T21:31:26.351805Z",
     "shell.execute_reply.started": "2023-04-09T21:24:27.384599Z"
    },
    "tags": []
   },
   "outputs": [],
   "source": [
    "make_linear_plots(f'files/df_dates_{name}.xlsx', rubrics, cnt=25)"
   ]
  },
  {
   "cell_type": "code",
   "execution_count": null,
   "id": "a89dea77-1a79-4c8a-bcce-a6a98919cfa2",
   "metadata": {},
   "outputs": [],
   "source": [
    "#files/df_dates_moscow_report_230410_0024.docx"
   ]
  },
  {
   "cell_type": "code",
   "execution_count": null,
   "id": "7e401fe0-d4ec-43d7-8381-f0599742631b",
   "metadata": {},
   "outputs": [],
   "source": [
    "prepare_requests_text(name, rubrics)"
   ]
  },
  {
   "cell_type": "code",
   "execution_count": null,
   "id": "34f50a97-f5d9-4eab-a53c-618ce2a96142",
   "metadata": {},
   "outputs": [],
   "source": [
    "make_images('files/moscow_requests.xlsx', '#C0504D', '#F2DCDB')"
   ]
  },
  {
   "cell_type": "code",
   "execution_count": null,
   "id": "10c519ad-5ff4-4e42-930d-54620e51e531",
   "metadata": {},
   "outputs": [],
   "source": [
    "copy_images_texts('files/moscow_requests.xlsx', r\"C:\\Users\\Mamed\\YandexDisk\\_Documents\\Проекты\\2ГИС 2023\\Москва\\Статья_ШТ_Москва. Подсмотрено 2ГИС. Запросы_230402_0345.docx\")"
   ]
  },
  {
   "cell_type": "markdown",
   "id": "b3858c33-5b60-48e3-a384-acc75d00a86b",
   "metadata": {
    "tags": []
   },
   "source": [
    "# Новосибирск запросы"
   ]
  },
  {
   "cell_type": "code",
   "execution_count": 3,
   "id": "5d513eba-315c-406c-903a-d08d590f53a6",
   "metadata": {},
   "outputs": [
    {
     "name": "stdout",
     "output_type": "stream",
     "text": [
      "[########################################] | 100% Completed | 29m 28s\n"
     ]
    }
   ],
   "source": [
    "name = 'novosib'\n",
    "rubrics = pd.read_excel(r\"C:\\Users\\Mamed\\YandexDisk\\_Documents\\Проекты\\2ГИС 2023\\Backups\\_Final\\Мастер_таблица_2ГИС_Новосибирск_230322_2345.xlsx\")[['Рубрика']].iloc[:70]\n",
    "\n",
    "df1 = dd.read_csv(r\"D:\\файлы_2гис_2023\\Новосибирск\\Новосибирск_2020_974791.csv\", dtype={'fl': 'object'})[['rubricName','time', 'date','tx']]\n",
    "df2 = dd.read_csv(r\"D:\\файлы_2гис_2023\\Новосибирск\\Новосибирск_2021_974792.csv\", dtype={'fl': 'object'})[['rubricName','time', 'date','tx']]\n",
    "df3 = dd.read_csv(r\"D:\\файлы_2гис_2023\\Новосибирск\\Новосибирск_2022_974795.csv\", dtype={'fl': 'object'})[['rubricName','time', 'date','tx']]\n",
    "df4 = dd.read_csv(r\"D:\\файлы_2гис_2023\\Новосибирск\\Новосибирск_2023_974796.csv\", dtype={'fl': 'object'})[['rubricName','time', 'date','tx']]\n",
    "\n",
    "df_all = dd.concat([df1, df2, df3, df4])\n",
    "df_filtered = df_all.merge(rubrics, left_on='rubricName', right_on='Рубрика')\n",
    "df_filtered.to_parquet(f'df_filtered_{name}')\n",
    "df_filtered = dd.read_parquet(f'df_filtered_{name}')"
   ]
  },
  {
   "cell_type": "code",
   "execution_count": null,
   "id": "a3169393-bfba-4eec-b87c-d11249782e66",
   "metadata": {
    "tags": []
   },
   "outputs": [],
   "source": [
    "prepare_requests_text(name, rubrics)"
   ]
  },
  {
   "cell_type": "code",
   "execution_count": null,
   "id": "06893489-05af-4046-bfb6-8c572587d3c7",
   "metadata": {
    "tags": []
   },
   "outputs": [],
   "source": [
    "make_images('files/requests_text_novosib_230403_2347.xlsx', '#4F81BD', '#B8CCE4')"
   ]
  },
  {
   "cell_type": "markdown",
   "id": "c5c443fb-6dce-426e-bd56-a43a1ccf8dd4",
   "metadata": {
    "tags": []
   },
   "source": [
    "# Алматы запросы"
   ]
  },
  {
   "cell_type": "code",
   "execution_count": 4,
   "id": "36f8ad54-d26d-4edb-9cda-6b5d6b9edcbf",
   "metadata": {},
   "outputs": [
    {
     "name": "stdout",
     "output_type": "stream",
     "text": [
      "[########################################] | 100% Completed | 49m 25s\n"
     ]
    }
   ],
   "source": [
    "name = 'almati'\n",
    "rubrics = pd.read_excel(r\"C:\\Users\\Mamed\\YandexDisk\\_Documents\\Проекты\\2ГИС 2023\\Backups\\_Final\\Мастер_таблица_2ГИС_Алматы_230326_0030.xlsx\")[['Рубрика']].iloc[:70]\n",
    "\n",
    "df1 = dd.read_csv(r\"D:\\файлы_2гис_2023\\Алматы\\Алматы_2020_974797.csv\", dtype={'fl': 'object'})[['rubricName','time', 'date','tx']]\n",
    "df2 = dd.read_csv(r\"D:\\файлы_2гис_2023\\Алматы\\Алматы_2021_974798.csv\", dtype={'fl': 'object'})[['rubricName','time', 'date','tx']]\n",
    "df3 = dd.read_csv(r\"D:\\файлы_2гис_2023\\Алматы\\Алматы_2022_974799.csv\", dtype={'fl': 'object'})[['rubricName','time', 'date','tx']]\n",
    "df4 = dd.read_csv(r\"D:\\файлы_2гис_2023\\Алматы\\Алматы_2023_974800.csv\", dtype={'fl': 'object'})[['rubricName','time', 'date','tx']]\n",
    "\n",
    "df_all = dd.concat([df1, df2, df3, df4])\n",
    "df_filtered = df_all.merge(rubrics, left_on='rubricName', right_on='Рубрика')\n",
    "df_filtered.to_parquet(f'df_filtered_{name}')\n",
    "df_filtered = dd.read_parquet(f'df_filtered_{name}')"
   ]
  },
  {
   "cell_type": "code",
   "execution_count": null,
   "id": "2586d67e-5290-4679-b29f-ff8542cdd209",
   "metadata": {
    "tags": []
   },
   "outputs": [],
   "source": [
    "prepare_requests_text(name, rubrics)"
   ]
  },
  {
   "cell_type": "code",
   "execution_count": null,
   "id": "bdbb675f-9fe6-48ff-9af2-1553a27b4083",
   "metadata": {
    "execution": {
     "iopub.execute_input": "2023-04-17T19:47:13.270837Z",
     "iopub.status.busy": "2023-04-17T19:47:13.270837Z",
     "iopub.status.idle": "2023-04-17T19:47:13.615352Z",
     "shell.execute_reply": "2023-04-17T19:47:13.614397Z",
     "shell.execute_reply.started": "2023-04-17T19:47:13.270837Z"
    },
    "tags": []
   },
   "outputs": [],
   "source": [
    "make_images('files/requests_text_almati_230403_2334.xlsx', '#9BBB59', '#EBF1DE')"
   ]
  },
  {
   "cell_type": "markdown",
   "id": "df8e6460-ab8f-4463-9313-1e11fe9b5aa9",
   "metadata": {
    "tags": []
   },
   "source": [
    "# Астана запросы"
   ]
  },
  {
   "cell_type": "code",
   "execution_count": 7,
   "id": "598c5564-1f01-411a-98e7-25bad8899040",
   "metadata": {},
   "outputs": [
    {
     "name": "stdout",
     "output_type": "stream",
     "text": [
      "[########################################] | 100% Completed | 32m 16s\n"
     ]
    }
   ],
   "source": [
    "name = 'astana'\n",
    "rubrics = pd.read_excel('files/Мастер_таблица_2ГИС_Астана_230409_0215.xlsx').sort_values('Запросы, итого',ascending=False)[['Рубрика']].iloc[:70]\n",
    "\n",
    "df1 = dd.read_csv(r\"D:\\файлы_2гис_2023\\Астана\\Астана_2020_975007.csv\", dtype={'fl': 'object'})[['rubricName','time', 'date','tx']]\n",
    "df2 = dd.read_csv(r\"D:\\файлы_2гис_2023\\Астана\\Астана_2021_975009.csv\", dtype={'fl': 'object'})[['rubricName','time', 'date','tx']]\n",
    "df3 = dd.read_csv(r\"D:\\файлы_2гис_2023\\Астана\\Астана_2022_975011.csv\", dtype={'fl': 'object'})[['rubricName','time', 'date','tx']]\n",
    "df4 = dd.read_csv(r\"D:\\файлы_2гис_2023\\Астана\\Астана_2023_975039.csv\", dtype={'fl': 'object'})[['rubricName','time', 'date','tx']]\n",
    "\n",
    "df_all = dd.concat([df1, df2, df3, df4])\n",
    "df_filtered = df_all.merge(rubrics, left_on='rubricName', right_on='Рубрика')\n",
    "df_filtered.to_parquet(f'files/df_filtered_{name}')\n",
    "df_filtered = dd.read_parquet(f'files/df_filtered_{name}')"
   ]
  },
  {
   "cell_type": "code",
   "execution_count": 8,
   "id": "4ff59883-42ff-4add-b017-7b2f7ea8c093",
   "metadata": {
    "execution": {
     "iopub.execute_input": "2023-04-09T12:01:24.161525Z",
     "iopub.status.busy": "2023-04-09T12:01:24.160527Z",
     "iopub.status.idle": "2023-04-09T12:27:29.409499Z",
     "shell.execute_reply": "2023-04-09T12:27:29.407503Z",
     "shell.execute_reply.started": "2023-04-09T12:01:24.161525Z"
    },
    "tags": []
   },
   "outputs": [
    {
     "name": "stdout",
     "output_type": "stream",
     "text": [
      "files/requests_text_astana_230409_1527.xlsx\n"
     ]
    }
   ],
   "source": [
    "prepare_requests_text(name, rubrics)"
   ]
  },
  {
   "cell_type": "code",
   "execution_count": 4,
   "id": "8ca4285b-1417-4654-9893-944662cf478a",
   "metadata": {
    "collapsed": true,
    "execution": {
     "iopub.execute_input": "2023-04-17T19:48:25.292060Z",
     "iopub.status.busy": "2023-04-17T19:48:25.292060Z",
     "iopub.status.idle": "2023-04-17T19:55:53.806253Z",
     "shell.execute_reply": "2023-04-17T19:55:53.805253Z",
     "shell.execute_reply.started": "2023-04-17T19:48:25.292060Z"
    },
    "jupyter": {
     "outputs_hidden": true
    },
    "tags": []
   },
   "outputs": [
    {
     "name": "stdout",
     "output_type": "stream",
     "text": [
      "files/astana/requests_text_astana_230409_1527_report_230417_2248.docx\n"
     ]
    },
    {
     "name": "stderr",
     "output_type": "stream",
     "text": [
      " 11%|█████████▍                                                                         | 8/70 [00:14<02:26,  2.36s/it]C:\\Users\\Mamed\\AppData\\Local\\Temp\\ipykernel_33768\\878318554.py:104: UserWarning: Glyph 1179 (\\N{CYRILLIC SMALL LETTER KA WITH DESCENDER}) missing from current font.\n",
      "  fig.savefig(f'{file_name}', bbox_inches='tight')\n",
      " 33%|██████████████████████████▉                                                       | 23/70 [01:04<03:09,  4.03s/it]C:\\Users\\Mamed\\AppData\\Local\\Temp\\ipykernel_33768\\878318554.py:104: UserWarning: Glyph 1201 (\\N{CYRILLIC SMALL LETTER STRAIGHT U WITH STROKE}) missing from current font.\n",
      "  fig.savefig(f'{file_name}', bbox_inches='tight')\n",
      " 39%|███████████████████████████████▋                                                  | 27/70 [01:24<03:20,  4.66s/it]C:\\Users\\Mamed\\AppData\\Local\\Temp\\ipykernel_33768\\878318554.py:104: UserWarning: Glyph 1171 (\\N{CYRILLIC SMALL LETTER GHE WITH STROKE}) missing from current font.\n",
      "  fig.savefig(f'{file_name}', bbox_inches='tight')\n",
      " 44%|████████████████████████████████████▎                                             | 31/70 [01:48<03:42,  5.71s/it]C:\\Users\\Mamed\\AppData\\Local\\Temp\\ipykernel_33768\\878318554.py:104: UserWarning: Glyph 1187 (\\N{CYRILLIC SMALL LETTER EN WITH DESCENDER}) missing from current font.\n",
      "  fig.savefig(f'{file_name}', bbox_inches='tight')\n",
      " 54%|████████████████████████████████████████████▌                                     | 38/70 [02:38<03:45,  7.04s/it]C:\\Users\\Mamed\\AppData\\Local\\Temp\\ipykernel_33768\\878318554.py:104: UserWarning: Glyph 1241 (\\N{CYRILLIC SMALL LETTER SCHWA}) missing from current font.\n",
      "  fig.savefig(f'{file_name}', bbox_inches='tight')\n",
      " 76%|██████████████████████████████████████████████████████████████                    | 53/70 [04:52<02:45,  9.75s/it]C:\\Users\\Mamed\\AppData\\Local\\Temp\\ipykernel_33768\\878318554.py:104: UserWarning: Glyph 1179 (\\N{CYRILLIC SMALL LETTER KA WITH DESCENDER}) missing from current font.\n",
      "  fig.savefig(f'{file_name}', bbox_inches='tight')\n",
      " 83%|███████████████████████████████████████████████████████████████████▉              | 58/70 [05:31<01:37,  8.16s/it]C:\\Users\\Mamed\\AppData\\Local\\Temp\\ipykernel_33768\\878318554.py:104: UserWarning: Glyph 1201 (\\N{CYRILLIC SMALL LETTER STRAIGHT U WITH STROKE}) missing from current font.\n",
      "  fig.savefig(f'{file_name}', bbox_inches='tight')\n",
      "C:\\Users\\Mamed\\AppData\\Local\\Temp\\ipykernel_33768\\878318554.py:104: UserWarning: Glyph 1241 (\\N{CYRILLIC SMALL LETTER SCHWA}) missing from current font.\n",
      "  fig.savefig(f'{file_name}', bbox_inches='tight')\n",
      "C:\\Users\\Mamed\\AppData\\Local\\Temp\\ipykernel_33768\\878318554.py:104: UserWarning: Glyph 1179 (\\N{CYRILLIC SMALL LETTER KA WITH DESCENDER}) missing from current font.\n",
      "  fig.savefig(f'{file_name}', bbox_inches='tight')\n",
      " 91%|██████████████████████████████████████████████████████████████████████████▉       | 64/70 [06:24<00:50,  8.38s/it]C:\\Users\\Mamed\\AppData\\Local\\Temp\\ipykernel_33768\\878318554.py:104: UserWarning: Glyph 1179 (\\N{CYRILLIC SMALL LETTER KA WITH DESCENDER}) missing from current font.\n",
      "  fig.savefig(f'{file_name}', bbox_inches='tight')\n",
      "100%|██████████████████████████████████████████████████████████████████████████████████| 70/70 [07:27<00:00,  6.39s/it]\n"
     ]
    }
   ],
   "source": [
    "make_images('files/astana/requests_text_astana_230409_1527.xlsx', \"Астана\", '#00ABC2', '#FFF2CC')"
   ]
  },
  {
   "cell_type": "code",
   "execution_count": null,
   "id": "45583ef4-68ad-4e83-bd7b-3df421bcd9a4",
   "metadata": {},
   "outputs": [],
   "source": [
    "files/astana/requests_text_astana_230409_1527_report_230417_2248.docx"
   ]
  },
  {
   "cell_type": "code",
   "execution_count": 49,
   "id": "a2f9d047-d2a4-496f-97bf-dfeca292a955",
   "metadata": {
    "execution": {
     "iopub.execute_input": "2023-04-17T20:01:26.221403Z",
     "iopub.status.busy": "2023-04-17T20:01:26.221403Z",
     "iopub.status.idle": "2023-04-17T20:01:26.719140Z",
     "shell.execute_reply": "2023-04-17T20:01:26.718083Z",
     "shell.execute_reply.started": "2023-04-17T20:01:26.221403Z"
    },
    "tags": []
   },
   "outputs": [],
   "source": [
    "df = pd.read_excel('files/astana/requests_text_astana_230409_1527.xlsx')"
   ]
  },
  {
   "cell_type": "code",
   "execution_count": 52,
   "id": "3d982973-9aca-4bc9-918c-48ae9205c4d2",
   "metadata": {
    "execution": {
     "iopub.execute_input": "2023-04-17T20:03:08.360190Z",
     "iopub.status.busy": "2023-04-17T20:03:08.359152Z",
     "iopub.status.idle": "2023-04-17T20:03:08.410787Z",
     "shell.execute_reply": "2023-04-17T20:03:08.409886Z",
     "shell.execute_reply.started": "2023-04-17T20:03:08.360190Z"
    },
    "tags": []
   },
   "outputs": [],
   "source": [
    "add_links('Заготовка_2ГИС_Астана_нулевая_рубрика_230417_2315.docx', '', df[df['Рейтинг рубрики'] == 0]['Поисковый запрос'].values, 'Астана')"
   ]
  },
  {
   "cell_type": "markdown",
   "id": "0303984d-8184-4d58-a1c1-98a70d9ff2de",
   "metadata": {
    "tags": []
   },
   "source": [
    "# Калининград запросы"
   ]
  },
  {
   "cell_type": "code",
   "execution_count": 3,
   "id": "72d4d81b-83b4-46b7-a6d8-7af805ee8087",
   "metadata": {
    "execution": {
     "iopub.execute_input": "2023-04-15T07:48:03.862426Z",
     "iopub.status.busy": "2023-04-15T07:48:03.862426Z",
     "iopub.status.idle": "2023-04-15T07:50:22.055253Z",
     "shell.execute_reply": "2023-04-15T07:50:22.055253Z",
     "shell.execute_reply.started": "2023-04-15T07:48:03.862426Z"
    }
   },
   "outputs": [
    {
     "name": "stdout",
     "output_type": "stream",
     "text": [
      "[########################################] | 100% Completed | 133.72 s\n"
     ]
    }
   ],
   "source": [
    "name = 'kaliningrad'\n",
    "rubrics = pd.read_excel(r\"C:\\Users\\Mamed\\YandexDisk\\_Documents\\Проекты\\2ГИС 2023\\Калининград\\Мастер_таблица_2ГИС_Калининград_230412_2345.xlsx\").sort_values('Запросы, итого',ascending=False)[['Рубрика']].iloc[:70]\n",
    "\n",
    "df1 = dd.read_csv(r\"D:\\файлы_2гис_2023\\Калининград\\Калининград_2020_975659.csv\", dtype={'fl': 'object'})[['rubricName','time', 'date','tx']]\n",
    "df2 = dd.read_csv(r\"D:\\файлы_2гис_2023\\Калининград\\Калининград_2021_975670.csv\", dtype={'fl': 'object'})[['rubricName','time', 'date','tx']]\n",
    "df3 = dd.read_csv(r\"D:\\файлы_2гис_2023\\Калининград\\Калининград_2022_975672.csv\", dtype={'fl': 'object'})[['rubricName','time', 'date','tx']]\n",
    "df4 = dd.read_csv(r\"D:\\файлы_2гис_2023\\Калининград\\Калининград_2023_975679.csv\", dtype={'fl': 'object'})[['rubricName','time', 'date','tx']]\n",
    "\n",
    "df_all = dd.concat([df1, df2, df3, df4])\n",
    "df_filtered = df_all.merge(rubrics, left_on='rubricName', right_on='Рубрика')\n",
    "df_filtered.to_parquet(f'files/df_filtered_{name}')\n",
    "df_filtered = dd.read_parquet(f'files/df_filtered_{name}')"
   ]
  },
  {
   "cell_type": "code",
   "execution_count": 7,
   "id": "239bf99c-9df2-400b-8707-16c49ffad4f4",
   "metadata": {
    "execution": {
     "iopub.execute_input": "2023-04-15T07:58:20.337185Z",
     "iopub.status.busy": "2023-04-15T07:58:20.337185Z",
     "iopub.status.idle": "2023-04-15T08:01:56.612979Z",
     "shell.execute_reply": "2023-04-15T08:01:56.612979Z",
     "shell.execute_reply.started": "2023-04-15T07:58:20.337185Z"
    },
    "tags": []
   },
   "outputs": [
    {
     "name": "stdout",
     "output_type": "stream",
     "text": [
      "files/requests_text_kaliningrad_230415_1101.xlsx\n"
     ]
    }
   ],
   "source": [
    "prepare_requests_text(name, rubrics)"
   ]
  },
  {
   "cell_type": "code",
   "execution_count": null,
   "id": "275280d2-3dcc-4284-9428-eb5af5d33829",
   "metadata": {
    "execution": {
     "iopub.execute_input": "2023-04-15T08:09:06.035383Z",
     "iopub.status.busy": "2023-04-15T08:09:06.035383Z"
    },
    "tags": []
   },
   "outputs": [],
   "source": [
    "make_images('files/requests_text_kaliningrad_230415_1101.xlsx', \"Калининград\", '#B76C00', '#FFF4D9')"
   ]
  },
  {
   "cell_type": "code",
   "execution_count": null,
   "id": "a509802f-304a-42e0-967b-6fa96ea2be3d",
   "metadata": {},
   "outputs": [],
   "source": [
    "files/requests_text_kaliningrad_230415_1101_report_230415_1109.docx"
   ]
  },
  {
   "cell_type": "code",
   "execution_count": 41,
   "id": "b998b8c6-97c3-4a76-a665-637039b60031",
   "metadata": {
    "execution": {
     "iopub.execute_input": "2023-04-17T19:55:58.131507Z",
     "iopub.status.busy": "2023-04-17T19:55:58.131507Z",
     "iopub.status.idle": "2023-04-17T19:55:58.692840Z",
     "shell.execute_reply": "2023-04-17T19:55:58.691829Z",
     "shell.execute_reply.started": "2023-04-17T19:55:58.131507Z"
    },
    "tags": []
   },
   "outputs": [],
   "source": [
    "df = pd.read_excel('files/kaliningrad/requests_text_kaliningrad_230415_1101.xlsx')"
   ]
  },
  {
   "cell_type": "code",
   "execution_count": 51,
   "id": "a4712243-f9b2-4808-8174-c03fdbd2a8c3",
   "metadata": {
    "execution": {
     "iopub.execute_input": "2023-04-17T20:03:00.297156Z",
     "iopub.status.busy": "2023-04-17T20:03:00.297156Z",
     "iopub.status.idle": "2023-04-17T20:03:00.344184Z",
     "shell.execute_reply": "2023-04-17T20:03:00.343159Z",
     "shell.execute_reply.started": "2023-04-17T20:03:00.297156Z"
    },
    "tags": []
   },
   "outputs": [],
   "source": [
    "add_links('Заготовка_2ГИС_Калининград_нулевая_рубрика_230417_2315.docx', '', df[df['Рейтинг рубрики'] == 0]['Поисковый запрос'].values, 'Калининград')"
   ]
  },
  {
   "cell_type": "code",
   "execution_count": 53,
   "id": "dad97369-632c-4269-b247-0ffd3ab078e2",
   "metadata": {
    "execution": {
     "iopub.execute_input": "2023-04-23T21:40:43.762431Z",
     "iopub.status.busy": "2023-04-23T21:40:43.761430Z",
     "iopub.status.idle": "2023-04-23T21:40:45.128474Z",
     "shell.execute_reply": "2023-04-23T21:40:45.127593Z",
     "shell.execute_reply.started": "2023-04-23T21:40:43.762431Z"
    },
    "tags": []
   },
   "outputs": [],
   "source": [
    "df = pd.read_excel('files/kaliningrad/requests_text_kaliningrad_230415_1101.xlsx')\n",
    "df_new_index = df[['Рубрика','Рейтинг рубрики']].drop_duplicates().reset_index().drop(['index', 'Рейтинг рубрики'], axis=1).reset_index().rename({'index':'Рейтинг рубрики'}, axis=1)\n",
    "df = df.drop('Рейтинг рубрики', axis=1).merge(df_new_index, left_on='Рубрика', right_on='Рубрика')\n",
    "df.to_excel('files/kaliningrad/requests_text_kaliningrad_230424_0045.xlsx', index=False)"
   ]
  },
  {
   "cell_type": "code",
   "execution_count": 54,
   "id": "75f14185-62ff-4ced-92af-8959a8f5c409",
   "metadata": {
    "execution": {
     "iopub.execute_input": "2023-04-23T21:40:53.372789Z",
     "iopub.status.busy": "2023-04-23T21:40:53.372789Z",
     "iopub.status.idle": "2023-04-23T21:46:16.385427Z",
     "shell.execute_reply": "2023-04-23T21:46:16.384547Z",
     "shell.execute_reply.started": "2023-04-23T21:40:53.372789Z"
    },
    "tags": []
   },
   "outputs": [
    {
     "name": "stdout",
     "output_type": "stream",
     "text": [
      "files/kaliningrad/requests_text_kaliningrad_230424_0045_report_230424_0040.docx\n"
     ]
    },
    {
     "name": "stderr",
     "output_type": "stream",
     "text": [
      "100%|██████████████████████████████████████████████████████████████████████████████████| 70/70 [05:21<00:00,  4.60s/it]\n"
     ]
    }
   ],
   "source": [
    "make_images('files/kaliningrad/requests_text_kaliningrad_230424_0045.xlsx', \"Калининград\", '#B76C00', '#FFF4D9')"
   ]
  },
  {
   "cell_type": "code",
   "execution_count": null,
   "id": "e2a3dd92-8010-4182-aae0-90d718fc1d75",
   "metadata": {
    "execution": {
     "iopub.execute_input": "2023-04-23T21:59:19.449808Z",
     "iopub.status.busy": "2023-04-23T21:59:19.448807Z",
     "iopub.status.idle": "2023-04-23T22:00:50.679517Z",
     "shell.execute_reply": "2023-04-23T22:00:50.677611Z",
     "shell.execute_reply.started": "2023-04-23T21:59:19.449808Z"
    }
   },
   "outputs": [],
   "source": [
    "copy_images_texts('files/kaliningrad/requests_text_kaliningrad_230424_0045.xlsx', r\"C:\\Users\\Mamed\\YandexDisk\\_Books\\_Статьи\\Статья_ШТ_Калининград. Подсмотрено 2ГИС_230421_1145.docx\", start_param=13)"
   ]
  },
  {
   "cell_type": "code",
   "execution_count": null,
   "id": "39598875-7f0b-456d-9476-6c40c7e822a9",
   "metadata": {},
   "outputs": [],
   "source": []
  },
  {
   "cell_type": "code",
   "execution_count": null,
   "id": "9ebe7ee5-c755-44d3-b4e2-07f905d12436",
   "metadata": {},
   "outputs": [],
   "source": []
  },
  {
   "cell_type": "markdown",
   "id": "ee4e3a80-afe6-4f8e-ac9b-04444db70d5f",
   "metadata": {},
   "source": [
    "# 10 городов запросы"
   ]
  },
  {
   "cell_type": "code",
   "execution_count": null,
   "id": "7e74b073-191d-4201-8dd1-d6faa3b0ccc2",
   "metadata": {
    "collapsed": true,
    "execution": {
     "iopub.execute_input": "2023-04-20T07:16:40.213745Z",
     "iopub.status.busy": "2023-04-20T07:16:40.213745Z",
     "iopub.status.idle": "2023-04-20T07:16:42.220376Z",
     "shell.execute_reply": "2023-04-20T07:16:42.218701Z",
     "shell.execute_reply.started": "2023-04-20T07:16:40.213745Z"
    },
    "jupyter": {
     "outputs_hidden": true
    },
    "tags": []
   },
   "outputs": [],
   "source": [
    "df_schema = StructType([StructField('user', StringType(), True), StructField('proj', StringType(), True), StructField('rubricName', StringType(), True), StructField('rubricID', IntegerType(), True), StructField('time', StringType(), True), StructField('date', StringType(), True), StructField('org', StringType(), True), StructField('branch', StringType(), True), StructField('prod', StringType(), True), StructField('tx', StringType(), True), StructField('fl', StringType(), True), StructField('devmod', StringType(), True), StructField('lat', StringType(), True), StructField('lon', StringType(), True)])\n",
    "file = files_list_chain[0]\n",
    "final_df = spark.read.option(\"header\",\"true\").csv(file, schema=df_schema)\n",
    "\n",
    "for file in files_list_chain[1:]:\n",
    "    one_df = spark.read.option(\"header\",\"true\").csv(file, schema=df_schema)\n",
    "    final_df = final_df.union(one_df)\n",
    "\n",
    "final_df.createOrReplaceTempView('final_df')"
   ]
  },
  {
   "cell_type": "code",
   "execution_count": null,
   "id": "ef3c7c38-73bd-430e-8d84-3c497aa4758f",
   "metadata": {
    "execution": {
     "iopub.status.busy": "2023-04-20T07:16:42.221375Z",
     "iopub.status.idle": "2023-04-20T07:16:42.222379Z",
     "shell.execute_reply": "2023-04-20T07:16:42.221375Z",
     "shell.execute_reply.started": "2023-04-20T07:16:42.221375Z"
    },
    "tags": []
   },
   "outputs": [],
   "source": [
    "rubrics = spark.read.parquet(f'files/request_df')\n",
    "rubrics.createOrReplaceTempView('rubrics')"
   ]
  },
  {
   "cell_type": "code",
   "execution_count": 10,
   "id": "c814e1f0-d0a4-4092-8dc2-30ee57abe8ec",
   "metadata": {
    "execution": {
     "iopub.execute_input": "2023-04-20T05:32:27.560416Z",
     "iopub.status.busy": "2023-04-20T05:32:27.560416Z",
     "iopub.status.idle": "2023-04-20T07:13:19.828077Z",
     "shell.execute_reply": "2023-04-20T07:13:19.828077Z",
     "shell.execute_reply.started": "2023-04-20T05:32:27.560416Z"
    },
    "tags": []
   },
   "outputs": [],
   "source": [
    "requests_filtered_df = spark.sql('''\n",
    "\n",
    "with r as \n",
    "(\n",
    "select \n",
    "    *,row_number() over(order by cnt_requests desc) rn\n",
    "from \n",
    "    (select \n",
    "        rubricName\n",
    "        ,sum(cnt_requests) cnt_requests\n",
    "\n",
    "    from rubrics\n",
    "    group by rubricName)\n",
    "\n",
    ")\n",
    "select \n",
    "    f.rubricName\n",
    "    ,f.time\n",
    "    ,f.date\n",
    "    ,f.tx\n",
    "from final_df as f\n",
    "join r\n",
    "    on r.rubricName = f.rubricName and r.rn < 101\n",
    "    \n",
    "    \n",
    "    ''')\n",
    "\n",
    "requests_filtered_df.write.mode('overwrite').parquet(f'files/requests_filtered_df')"
   ]
  },
  {
   "cell_type": "code",
   "execution_count": 4,
   "id": "798e0ac2-9ec0-4da5-8bc6-d071b228e6d9",
   "metadata": {
    "execution": {
     "iopub.execute_input": "2023-04-20T07:17:10.041708Z",
     "iopub.status.busy": "2023-04-20T07:17:10.041708Z",
     "iopub.status.idle": "2023-04-20T07:17:10.201736Z",
     "shell.execute_reply": "2023-04-20T07:17:10.201736Z",
     "shell.execute_reply.started": "2023-04-20T07:17:10.041708Z"
    },
    "tags": []
   },
   "outputs": [],
   "source": [
    "import string\n",
    "import pymorphy2\n",
    "morph = pymorphy2.MorphAnalyzer()\n",
    "from nltk.corpus import stopwords\n",
    "russian_stopwords = stopwords.words(\"russian\")\n",
    "\n",
    "def normalize_word(word):\n",
    "    return (sorted([morph.normal_forms(str(i))[0].strip(string.punctuation + string.whitespace) for i in word.split(' ')]))\n",
    "\n",
    "normalize_word_udf = udf(normalize_word, ArrayType(StringType()))\n",
    "\n",
    "def check_stopwords(word, russian_stopwords = russian_stopwords):\n",
    "    if word not in russian_stopwords and len(word)>1:\n",
    "        for letter in word:\n",
    "            if letter in string.punctuation or letter in string.digits:\n",
    "                return 0\n",
    "        return 1\n",
    "    return 0\n",
    "\n",
    "check_stopwords_udf = udf(check_stopwords, StringType())"
   ]
  },
  {
   "cell_type": "code",
   "execution_count": 4,
   "id": "2aa201d9-a2c1-483e-9cdf-582f2ebb9c8c",
   "metadata": {
    "execution": {
     "iopub.execute_input": "2023-04-20T10:28:23.292969Z",
     "iopub.status.busy": "2023-04-20T10:28:23.292969Z",
     "iopub.status.idle": "2023-04-20T10:28:23.309215Z",
     "shell.execute_reply": "2023-04-20T10:28:23.308574Z",
     "shell.execute_reply.started": "2023-04-20T10:28:23.292969Z"
    },
    "tags": []
   },
   "outputs": [],
   "source": [
    "name = 'ten_city'"
   ]
  },
  {
   "cell_type": "code",
   "execution_count": 6,
   "id": "2eb7fbd5-7c50-4a6f-902b-64531948907c",
   "metadata": {
    "execution": {
     "iopub.execute_input": "2023-04-20T07:17:14.790028Z",
     "iopub.status.busy": "2023-04-20T07:17:14.789030Z",
     "iopub.status.idle": "2023-04-20T07:29:05.500582Z",
     "shell.execute_reply": "2023-04-20T07:29:05.500582Z",
     "shell.execute_reply.started": "2023-04-20T07:17:14.790028Z"
    },
    "tags": []
   },
   "outputs": [],
   "source": [
    "df = spark.read.parquet(f'files/requests_filtered_df')\n",
    "\n",
    "df.createOrReplaceTempView('df')\n",
    "\n",
    "grouped_df = spark.sql('''\n",
    "\n",
    "select\n",
    "    rubricName\n",
    "    ,year\n",
    "    ,tx\n",
    "    ,cnt\n",
    "    ,row_number() over(partition by rubricName ,year order by cnt desc) rn\n",
    "from (\n",
    "    select\n",
    "        rubricName\n",
    "        ,year(date) year\n",
    "        ,lower(tx) tx\n",
    "        ,count(*) cnt\n",
    "    from df\n",
    "    group by \n",
    "        rubricName\n",
    "        ,year(date)\n",
    "        ,lower(tx)\n",
    "        ) t\n",
    "''').where('tx is not null and year in (2020,2021,2022,2023)')#.where('rn < 16')\n",
    "\n",
    "\n",
    "grouped_df.write.mode('overwrite').parquet(f'files/df_tx_grouped_{name}')"
   ]
  },
  {
   "cell_type": "code",
   "execution_count": 5,
   "id": "25246232-887f-490f-8380-014cb8d5601e",
   "metadata": {
    "execution": {
     "iopub.execute_input": "2023-04-20T10:28:25.312055Z",
     "iopub.status.busy": "2023-04-20T10:28:25.311055Z",
     "iopub.status.idle": "2023-04-20T10:29:15.511530Z",
     "shell.execute_reply": "2023-04-20T10:29:15.511530Z",
     "shell.execute_reply.started": "2023-04-20T10:28:25.312055Z"
    },
    "tags": []
   },
   "outputs": [],
   "source": [
    "(spark.read.parquet(f\"files/df_tx_grouped_{name}\")\n",
    " .where('tx is not null and year in (2020,2021,2022,2023)')\n",
    " .write.partitionBy('rubricName').mode('overwrite')\n",
    " .parquet(f'files/df_tx_grouped_filtered_{name}')\n",
    ")\n",
    "\n",
    "df_tx_grouped_filtered = spark.read.parquet(f\"files/df_tx_grouped_filtered_{name}\")\n",
    "df_tx_grouped_filtered.createOrReplaceTempView('df_tx_grouped_filtered')\n",
    "df_tx_grouped_filtered.where('1=0').write.mode('overwrite').parquet(f'files/df_tx_grouped_normalize_{name}')\n",
    "\n",
    "rubrics = spark.sql('''select distinct rubricName from df_tx_grouped_filtered''').collect()\n",
    "rubrics = [i.asDict()['rubricName'] for i in rubrics]"
   ]
  },
  {
   "cell_type": "code",
   "execution_count": 6,
   "id": "a4b8c8e9-5702-4d43-8fa9-051bb42048d6",
   "metadata": {
    "execution": {
     "iopub.execute_input": "2023-04-20T10:29:26.365373Z",
     "iopub.status.busy": "2023-04-20T10:29:26.365373Z",
     "iopub.status.idle": "2023-04-20T12:29:59.118860Z",
     "shell.execute_reply": "2023-04-20T12:29:59.118860Z",
     "shell.execute_reply.started": "2023-04-20T10:29:26.365373Z"
    },
    "tags": []
   },
   "outputs": [
    {
     "name": "stderr",
     "output_type": "stream",
     "text": [
      "100%|██████████████████████████████████████████████████████████████████████████████| 100/100 [2:00:32<00:00, 72.33s/it]\n"
     ]
    }
   ],
   "source": [
    "for rubric in tqdm(rubrics):\n",
    "    df_i = df_tx_grouped_filtered.where(f'rubricName=\"{rubric}\"')\n",
    "    df_i_norm = df_i.withColumn('new_tx',normalize_word_udf(col('tx')))\n",
    "    df_i_norm.write.mode('append').parquet(f'files/df_tx_grouped_normalize_{name}')"
   ]
  },
  {
   "cell_type": "code",
   "execution_count": 8,
   "id": "649f1989-dfac-4a37-be37-6fadabeae3a6",
   "metadata": {
    "execution": {
     "iopub.execute_input": "2023-04-20T14:58:35.363433Z",
     "iopub.status.busy": "2023-04-20T14:58:35.363433Z",
     "iopub.status.idle": "2023-04-20T15:03:39.833116Z",
     "shell.execute_reply": "2023-04-20T15:03:39.833116Z",
     "shell.execute_reply.started": "2023-04-20T14:58:35.363433Z"
    }
   },
   "outputs": [],
   "source": [
    "df_tx_grouped_normalize_agg_str = (\n",
    "    spark.read.parquet(f\"files/df_tx_grouped_normalize_{name}\")\n",
    "    .withColumn(\"new_tx_str1\", f.trim(f.concat_ws(\" \",col(\"new_tx\")))).withColumn(\"new_tx_str\", f.expr('''BTRIM(new_tx_str1, '—!\"#$%&\\()*+,-./:;<=>?@[\\\\]^_`{|}~')'''))\n",
    "    .where('coalesce(new_tx_str, \"\") !=\"\" ')\n",
    "    .groupBy(f.col(\"rubricName\"),f.col(\"new_tx_str\"),f.col(\"year\")) \n",
    "    .agg(f.sum(\"cnt\").alias(\"count\"))\n",
    "    .sort(desc('count'))\n",
    "    #.show()\n",
    ")\n",
    "\n",
    "\n",
    "df_tx_grouped_normalize_agg_str.write.mode('overwrite').parquet(f'files/df_tx_grouped_normalize_agg_str_{name}')\n",
    "\n",
    "df_tx_str = spark.read.parquet(f\"files/df_tx_grouped_normalize_agg_str_{name}\")\n",
    "\n",
    "df_tx_str.createOrReplaceTempView('df_tx_str')\n",
    "\n",
    "df_tx_grouped_normalize_final_str = spark.sql('''\n",
    "with t as\n",
    "    (\n",
    "    select\n",
    "        rubricName\n",
    "        ,new_tx_str\n",
    "        ,case when year=2020 then sum(count) else 0 end cnt_2020\n",
    "        ,case when year=2021 then sum(count) else 0 end cnt_2021\n",
    "        ,case when year=2022 then sum(count) else 0 end cnt_2022\n",
    "        ,case when year=2023 then sum(count) else 0 end cnt_2023\n",
    "    from df_tx_str\n",
    "    group by \n",
    "        rubricName\n",
    "        ,new_tx_str\n",
    "        ,year\n",
    "    )\n",
    ", t1 as \n",
    "    (        \n",
    "    select\n",
    "        rubricName\n",
    "        ,new_tx_str\n",
    "        ,max(cnt_2020) cnt_2020\n",
    "        ,max(cnt_2021) cnt_2021\n",
    "        ,max(cnt_2022) cnt_2022\n",
    "        ,max(cnt_2023) cnt_2023\n",
    "    from t\n",
    "    group by new_tx_str, rubricName\n",
    "    )\n",
    ", t2 as \n",
    "    (\n",
    "    select\n",
    "        'Топ-70 рубрик' as rubricName\n",
    "        ,new_tx_str\n",
    "        ,max(cnt_2020) cnt_2020\n",
    "        ,max(cnt_2021) cnt_2021\n",
    "        ,max(cnt_2022) cnt_2022\n",
    "        ,max(cnt_2023) cnt_2023\n",
    "    from t\n",
    "    group by 'Топ-70 рубрик', new_tx_str\n",
    "    )\n",
    ", t3 as \n",
    "    (\n",
    "    select * from t1\n",
    "    union all\n",
    "    select * from t2\n",
    "    )\n",
    "\n",
    "select *, cnt_2020+cnt_2021+cnt_2022+cnt_2023 as cnt_total, row_number() over(partition by rubricName order by cnt_2020+cnt_2021+cnt_2022+cnt_2023 desc) rn\n",
    "from t3\n",
    "\n",
    "''').where('rn < 71')\n",
    "\n",
    "df_tx_grouped_normalize_final_str.write.mode('overwrite').parquet(f'files/df_tx_grouped_normalize_final_str_{name}')\n",
    "\n",
    "df_tx_str = (spark.read.parquet(f'files/df_tx_grouped_normalize_{name}').withColumn(\"new_tx_str1\", f.trim(f.concat_ws(\" \",col(\"new_tx\")))).withColumn(\"new_tx_str\", f.expr('''BTRIM(new_tx_str1, '—!\"#$%&\\()*+,-./:;<=>?@[\\\\]^_`{|}~')'''))\n",
    "        .where('coalesce(new_tx_str, \"\") !=\"\" and rn <= 100')\n",
    "        .select('rubricName', 'tx', 'year', 'new_tx_str'))\n",
    "\n",
    "df_tx_str.createOrReplaceTempView('df_tx_str')\n",
    "\n",
    "df_tx_str_collect = spark.sql('''\n",
    "\n",
    "select \n",
    "    new_tx_str\n",
    "    , rubricName\n",
    "    , concat_ws('',slice(collect_set(tx),1,1)) tx_1\n",
    "    , concat_ws('',slice(collect_set(tx),2,1)) tx_2\n",
    "    , concat_ws('',slice(collect_set(tx),3,1)) tx_3\n",
    "    , concat_ws('',slice(collect_set(tx),4,1)) tx_4\n",
    "    , concat_ws('',slice(collect_set(tx),5,1)) tx_5\n",
    "from df_tx_str\n",
    "group by new_tx_str, rubricName\n",
    "\n",
    "''')\n",
    "\n",
    "df_tx_str_collect.write.mode('overwrite').parquet(f'files/df_tx_str_collect_{name}')\n",
    "\n",
    "df_tx_grouped_normalize_final_str = spark.read.parquet(f\"files/df_tx_grouped_normalize_final_str_{name}\")\n",
    "df_tx_grouped_normalize_final_str.createOrReplaceTempView('df_tx_grouped_normalize_final_str')\n",
    "\n",
    "df_tx_str_collect = spark.read.parquet(f\"files/df_tx_str_collect_{name}\")\n",
    "df_tx_str_collect.createOrReplaceTempView('df_tx_str_collect')\n",
    "\n",
    "df_final = spark.sql('''\n",
    "\n",
    "select f.*,tx_1 ,tx_2 ,tx_3 ,tx_4 ,tx_5\n",
    "from df_tx_grouped_normalize_final_str f\n",
    "left join df_tx_str_collect c\n",
    "on f.rubricName = c.rubricName and f.new_tx_str = c.new_tx_str\n",
    "\n",
    "''')\n",
    "\n",
    "df_final.write.mode('overwrite').parquet(f'files/df_final_{name}')"
   ]
  },
  {
   "cell_type": "code",
   "execution_count": 19,
   "id": "47962569-7cd8-468e-b5da-d29c90e42d50",
   "metadata": {
    "execution": {
     "iopub.execute_input": "2023-04-20T17:04:32.795003Z",
     "iopub.status.busy": "2023-04-20T17:04:32.795003Z",
     "iopub.status.idle": "2023-04-20T17:04:33.070551Z",
     "shell.execute_reply": "2023-04-20T17:04:33.068552Z",
     "shell.execute_reply.started": "2023-04-20T17:04:32.795003Z"
    },
    "tags": []
   },
   "outputs": [],
   "source": [
    "pdf_str = spark.read.parquet(f'files/df_final_{name}').toPandas()\n",
    "\n",
    "cols = ['Рубрика', 'Поисковый запрос', 'Количество запросов 2020', 'Количество запросов 2021'\n",
    "        , 'Количество запросов 2022', 'Количество запросов 2023', 'Количество запросов, итого'\n",
    "        , 'Рейтинг по запросам, итого','tx_1' ,'tx_2' ,'tx_3' ,'tx_4' ,'tx_5']\n",
    "\n",
    "pdf_str.columns = cols\n",
    "rubrics = pd.DataFrame(rubrics)\n",
    "rubrics['Рейтинг рубрики'] = rubrics.index + 1\n",
    "cols.append('Рейтинг рубрики')"
   ]
  },
  {
   "cell_type": "code",
   "execution_count": 24,
   "id": "e0307204-6f6b-43c9-b190-e24f48990e51",
   "metadata": {
    "execution": {
     "iopub.execute_input": "2023-04-20T17:06:29.210018Z",
     "iopub.status.busy": "2023-04-20T17:06:29.210018Z",
     "iopub.status.idle": "2023-04-20T17:06:29.226037Z",
     "shell.execute_reply": "2023-04-20T17:06:29.225622Z",
     "shell.execute_reply.started": "2023-04-20T17:06:29.210018Z"
    },
    "tags": []
   },
   "outputs": [
    {
     "data": {
      "text/html": [
       "<div>\n",
       "<style scoped>\n",
       "    .dataframe tbody tr th:only-of-type {\n",
       "        vertical-align: middle;\n",
       "    }\n",
       "\n",
       "    .dataframe tbody tr th {\n",
       "        vertical-align: top;\n",
       "    }\n",
       "\n",
       "    .dataframe thead th {\n",
       "        text-align: right;\n",
       "    }\n",
       "</style>\n",
       "<table border=\"1\" class=\"dataframe\">\n",
       "  <thead>\n",
       "    <tr style=\"text-align: right;\">\n",
       "      <th></th>\n",
       "      <th>Рубрика</th>\n",
       "      <th>Поисковый запрос</th>\n",
       "      <th>Количество запросов 2020</th>\n",
       "      <th>Количество запросов 2021</th>\n",
       "      <th>Количество запросов 2022</th>\n",
       "      <th>Количество запросов 2023</th>\n",
       "      <th>Количество запросов, итого</th>\n",
       "      <th>Рейтинг по запросам, итого</th>\n",
       "      <th>tx_1</th>\n",
       "      <th>tx_2</th>\n",
       "      <th>tx_3</th>\n",
       "      <th>tx_4</th>\n",
       "      <th>tx_5</th>\n",
       "    </tr>\n",
       "  </thead>\n",
       "  <tbody>\n",
       "    <tr>\n",
       "      <th>0</th>\n",
       "      <td>Автозапчасти для иномарок</td>\n",
       "      <td>автозапчасть</td>\n",
       "      <td>104308</td>\n",
       "      <td>111814</td>\n",
       "      <td>94239</td>\n",
       "      <td>118197</td>\n",
       "      <td>428558</td>\n",
       "      <td>1</td>\n",
       "      <td>автозапчасти</td>\n",
       "      <td>автозапчасти</td>\n",
       "      <td></td>\n",
       "      <td></td>\n",
       "      <td></td>\n",
       "    </tr>\n",
       "    <tr>\n",
       "      <th>1</th>\n",
       "      <td>Автозапчасти для иномарок</td>\n",
       "      <td>автомагазин</td>\n",
       "      <td>34764</td>\n",
       "      <td>19752</td>\n",
       "      <td>15509</td>\n",
       "      <td>15635</td>\n",
       "      <td>85660</td>\n",
       "      <td>2</td>\n",
       "      <td>автомагазин</td>\n",
       "      <td>автомагазины</td>\n",
       "      <td>автомагазин</td>\n",
       "      <td></td>\n",
       "      <td></td>\n",
       "    </tr>\n",
       "    <tr>\n",
       "      <th>2</th>\n",
       "      <td>Автозапчасти для иномарок</td>\n",
       "      <td>автозапчасть для иномарка</td>\n",
       "      <td>4716</td>\n",
       "      <td>22735</td>\n",
       "      <td>20102</td>\n",
       "      <td>22296</td>\n",
       "      <td>69849</td>\n",
       "      <td>3</td>\n",
       "      <td>автозапчасти для иномарок</td>\n",
       "      <td></td>\n",
       "      <td></td>\n",
       "      <td></td>\n",
       "      <td></td>\n",
       "    </tr>\n",
       "    <tr>\n",
       "      <th>3</th>\n",
       "      <td>Автозапчасти для иномарок</td>\n",
       "      <td>гиперавто</td>\n",
       "      <td>14350</td>\n",
       "      <td>14903</td>\n",
       "      <td>13231</td>\n",
       "      <td>15200</td>\n",
       "      <td>57684</td>\n",
       "      <td>4</td>\n",
       "      <td>гиперавто</td>\n",
       "      <td></td>\n",
       "      <td></td>\n",
       "      <td></td>\n",
       "      <td></td>\n",
       "    </tr>\n",
       "    <tr>\n",
       "      <th>4</th>\n",
       "      <td>Автозапчасти для иномарок</td>\n",
       "      <td>запчасть</td>\n",
       "      <td>5518</td>\n",
       "      <td>24137</td>\n",
       "      <td>15894</td>\n",
       "      <td>9576</td>\n",
       "      <td>55125</td>\n",
       "      <td>5</td>\n",
       "      <td>запчасти</td>\n",
       "      <td>запчасти</td>\n",
       "      <td></td>\n",
       "      <td></td>\n",
       "      <td></td>\n",
       "    </tr>\n",
       "  </tbody>\n",
       "</table>\n",
       "</div>"
      ],
      "text/plain": [
       "                     Рубрика           Поисковый запрос  \\\n",
       "0  Автозапчасти для иномарок               автозапчасть   \n",
       "1  Автозапчасти для иномарок                автомагазин   \n",
       "2  Автозапчасти для иномарок  автозапчасть для иномарка   \n",
       "3  Автозапчасти для иномарок                  гиперавто   \n",
       "4  Автозапчасти для иномарок                   запчасть   \n",
       "\n",
       "   Количество запросов 2020  Количество запросов 2021  \\\n",
       "0                    104308                    111814   \n",
       "1                     34764                     19752   \n",
       "2                      4716                     22735   \n",
       "3                     14350                     14903   \n",
       "4                      5518                     24137   \n",
       "\n",
       "   Количество запросов 2022  Количество запросов 2023  \\\n",
       "0                     94239                    118197   \n",
       "1                     15509                     15635   \n",
       "2                     20102                     22296   \n",
       "3                     13231                     15200   \n",
       "4                     15894                      9576   \n",
       "\n",
       "   Количество запросов, итого  Рейтинг по запросам, итого  \\\n",
       "0                      428558                           1   \n",
       "1                       85660                           2   \n",
       "2                       69849                           3   \n",
       "3                       57684                           4   \n",
       "4                       55125                           5   \n",
       "\n",
       "                        tx_1           tx_2         tx_3 tx_4 tx_5  \n",
       "0               автозапчасти  автозапчасти                          \n",
       "1               автомагазин    автомагазины  автомагазин            \n",
       "2  автозапчасти для иномарок                                        \n",
       "3                  гиперавто                                        \n",
       "4                   запчасти      запчасти                          "
      ]
     },
     "execution_count": 24,
     "metadata": {},
     "output_type": "execute_result"
    }
   ],
   "source": [
    "pdf_str.head()"
   ]
  },
  {
   "cell_type": "code",
   "execution_count": 25,
   "id": "3fa10988-7cd8-4df7-a4f6-b302b10922a2",
   "metadata": {
    "execution": {
     "iopub.execute_input": "2023-04-20T18:54:40.143253Z",
     "iopub.status.busy": "2023-04-20T18:54:40.142254Z",
     "iopub.status.idle": "2023-04-20T18:54:41.675434Z",
     "shell.execute_reply": "2023-04-20T18:54:41.674421Z",
     "shell.execute_reply.started": "2023-04-20T18:54:40.143253Z"
    },
    "tags": []
   },
   "outputs": [
    {
     "name": "stdout",
     "output_type": "stream",
     "text": [
      "files/requests_text_ten_city_230420_2154.xlsx\n"
     ]
    }
   ],
   "source": [
    "pdf_new_str = rubrics.merge(pdf_str, left_on=0, right_on='Рубрика', how='outer')[cols]\n",
    "pdf_new_str.loc[pdf_new_str['Рубрика'] == 'Топ-70 рубрик', ['Рейтинг рубрики']] = 0\n",
    "pdf_new_str = pdf_new_str.sort_values(['Рейтинг рубрики', 'Рейтинг по запросам, итого'])\n",
    "#pdf_new.to_excel('df_tx_grouped_normalize_final_rated.xlsx')\n",
    "\n",
    "dt_now = str(datetime.datetime.now())[2:-9].replace('-','').replace(':','').replace(' ','_')\n",
    "excel_file = f'files/requests_text_{name}_{dt_now}.xlsx'\n",
    "print(excel_file)\n",
    "\n",
    "pdf_new_str.to_excel(excel_file, index=False)"
   ]
  },
  {
   "cell_type": "code",
   "execution_count": 30,
   "id": "6e4033d6-a166-4872-96ec-cbc9426749d8",
   "metadata": {
    "execution": {
     "iopub.execute_input": "2023-04-20T22:16:08.270921Z",
     "iopub.status.busy": "2023-04-20T22:16:08.269898Z",
     "iopub.status.idle": "2023-04-20T22:38:24.933834Z",
     "shell.execute_reply": "2023-04-20T22:38:24.928730Z",
     "shell.execute_reply.started": "2023-04-20T22:16:08.270921Z"
    },
    "tags": []
   },
   "outputs": [
    {
     "name": "stdout",
     "output_type": "stream",
     "text": [
      "files/requests_text_ten_city_230420_2154_report_230421_0116.docx\n"
     ]
    },
    {
     "name": "stderr",
     "output_type": "stream",
     "text": [
      " 21%|█████████████████                                                                | 21/100 [01:25<06:58,  5.30s/it]C:\\Users\\Mamed\\AppData\\Local\\Temp\\ipykernel_161432\\3949645535.py:104: UserWarning: Glyph 1179 (\\N{CYRILLIC SMALL LETTER KA WITH DESCENDER}) missing from current font.\n",
      "  fig.savefig(f'{file_name}', bbox_inches='tight')\n",
      " 24%|███████████████████▍                                                             | 24/100 [01:48<09:01,  7.13s/it]C:\\Users\\Mamed\\AppData\\Local\\Temp\\ipykernel_161432\\3949645535.py:104: UserWarning: Glyph 1241 (\\N{CYRILLIC SMALL LETTER SCHWA}) missing from current font.\n",
      "  fig.savefig(f'{file_name}', bbox_inches='tight')\n",
      " 26%|█████████████████████                                                            | 26/100 [02:07<10:16,  8.33s/it]C:\\Users\\Mamed\\AppData\\Local\\Temp\\ipykernel_161432\\3949645535.py:104: UserWarning: Glyph 1179 (\\N{CYRILLIC SMALL LETTER KA WITH DESCENDER}) missing from current font.\n",
      "  fig.savefig(f'{file_name}', bbox_inches='tight')\n",
      " 52%|██████████████████████████████████████████                                       | 52/100 [07:27<15:39, 19.58s/it]C:\\Users\\Mamed\\AppData\\Local\\Temp\\ipykernel_161432\\3949645535.py:104: UserWarning: Glyph 1201 (\\N{CYRILLIC SMALL LETTER STRAIGHT U WITH STROKE}) missing from current font.\n",
      "  fig.savefig(f'{file_name}', bbox_inches='tight')\n",
      " 64%|███████████████████████████████████████████████████▊                             | 64/100 [10:47<09:08, 15.23s/it]C:\\Users\\Mamed\\AppData\\Local\\Temp\\ipykernel_161432\\3949645535.py:104: UserWarning: Glyph 1201 (\\N{CYRILLIC SMALL LETTER STRAIGHT U WITH STROKE}) missing from current font.\n",
      "  fig.savefig(f'{file_name}', bbox_inches='tight')\n",
      "C:\\Users\\Mamed\\AppData\\Local\\Temp\\ipykernel_161432\\3949645535.py:104: UserWarning: Glyph 1241 (\\N{CYRILLIC SMALL LETTER SCHWA}) missing from current font.\n",
      "  fig.savefig(f'{file_name}', bbox_inches='tight')\n",
      "C:\\Users\\Mamed\\AppData\\Local\\Temp\\ipykernel_161432\\3949645535.py:104: UserWarning: Glyph 1179 (\\N{CYRILLIC SMALL LETTER KA WITH DESCENDER}) missing from current font.\n",
      "  fig.savefig(f'{file_name}', bbox_inches='tight')\n",
      "100%|████████████████████████████████████████████████████████████████████████████████| 100/100 [22:14<00:00, 13.35s/it]\n"
     ]
    }
   ],
   "source": [
    "make_images('files/requests_text_ten_city_230420_2154.xlsx', \"\", '#013BA6', '#BDD5FF')"
   ]
  },
  {
   "cell_type": "code",
   "execution_count": null,
   "id": "17e25c37-fc4b-41ee-9451-c39c4b3886bb",
   "metadata": {},
   "outputs": [],
   "source": []
  },
  {
   "cell_type": "code",
   "execution_count": 46,
   "id": "a5d771e7-ba5a-4d22-a980-94281d70600b",
   "metadata": {
    "execution": {
     "iopub.execute_input": "2023-04-25T20:23:05.776162Z",
     "iopub.status.busy": "2023-04-25T20:23:05.776162Z",
     "iopub.status.idle": "2023-04-25T20:23:06.650541Z",
     "shell.execute_reply": "2023-04-25T20:23:06.650541Z",
     "shell.execute_reply.started": "2023-04-25T20:23:05.776162Z"
    },
    "tags": []
   },
   "outputs": [],
   "source": [
    "df = pd.read_excel('files/ten_city/requests_text_ten_city_230420_2154.xlsx')"
   ]
  },
  {
   "cell_type": "code",
   "execution_count": 48,
   "id": "8b119be0-1145-4299-a6a1-5b2985ee0fa3",
   "metadata": {
    "execution": {
     "iopub.execute_input": "2023-04-25T20:27:17.843671Z",
     "iopub.status.busy": "2023-04-25T20:27:17.843671Z",
     "iopub.status.idle": "2023-04-25T20:27:17.890033Z",
     "shell.execute_reply": "2023-04-25T20:27:17.889064Z",
     "shell.execute_reply.started": "2023-04-25T20:27:17.843671Z"
    },
    "tags": []
   },
   "outputs": [],
   "source": [
    "add_links('Заготовка_2ГИС_Города_нулевая_рубрика_230417_2315.docx', '', df[df['Рейтинг рубрики'] == 0]['Поисковый запрос'].values, '')"
   ]
  }
 ],
 "metadata": {
  "kernelspec": {
   "display_name": "Python 3 (ipykernel)",
   "language": "python",
   "name": "python3"
  },
  "language_info": {
   "codemirror_mode": {
    "name": "ipython",
    "version": 3
   },
   "file_extension": ".py",
   "mimetype": "text/x-python",
   "name": "python",
   "nbconvert_exporter": "python",
   "pygments_lexer": "ipython3",
   "version": "3.9.12"
  }
 },
 "nbformat": 4,
 "nbformat_minor": 5
}
