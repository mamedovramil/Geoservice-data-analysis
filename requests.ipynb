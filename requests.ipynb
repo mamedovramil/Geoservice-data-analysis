{
 "cells": [
  {
   "cell_type": "code",
   "execution_count": 1,
   "id": "1c4c9870-f8f1-4032-9bb2-87b0393e010f",
   "metadata": {
    "execution": {
     "iopub.execute_input": "2023-04-17T19:46:38.401365Z",
     "iopub.status.busy": "2023-04-17T19:46:38.400366Z",
     "iopub.status.idle": "2023-04-17T19:46:53.081519Z",
     "shell.execute_reply": "2023-04-17T19:46:53.080535Z",
     "shell.execute_reply.started": "2023-04-17T19:46:38.401365Z"
    },
    "tags": []
   },
   "outputs": [
    {
     "name": "stdout",
     "output_type": "stream",
     "text": [
      "Ready: 2023-04-17 22:46:53\n"
     ]
    }
   ],
   "source": [
    "%run functions.ipynb"
   ]
  },
  {
   "cell_type": "code",
   "execution_count": 6,
   "id": "f735f502-0336-4bd3-bcb1-079a46b15d4c",
   "metadata": {
    "execution": {
     "iopub.execute_input": "2023-04-15T07:58:11.558307Z",
     "iopub.status.busy": "2023-04-15T07:58:11.557307Z",
     "iopub.status.idle": "2023-04-15T07:58:12.290218Z",
     "shell.execute_reply": "2023-04-15T07:58:12.290218Z",
     "shell.execute_reply.started": "2023-04-15T07:58:11.558307Z"
    },
    "tags": []
   },
   "outputs": [],
   "source": [
    "findspark.init()\n",
    "from pyspark.sql import SparkSession\n",
    "try:\n",
    "    spark.stop()\n",
    "except:\n",
    "    pass\n",
    "spark = SparkSession.builder\\\n",
    "        .master(\"local[*]\")\\\n",
    "        .appName('PySpark_Tutorial')\\\n",
    "        .getOrCreate()"
   ]
  },
  {
   "cell_type": "markdown",
   "id": "11d60ca1-9f84-4689-901d-df44bf7e1b19",
   "metadata": {
    "tags": []
   },
   "source": [
    "# Москва запросы"
   ]
  },
  {
   "cell_type": "code",
   "execution_count": 3,
   "id": "07fb7cef-383b-40a0-89d3-98a007f11fe1",
   "metadata": {
    "execution": {
     "iopub.execute_input": "2023-04-09T20:31:07.218211Z",
     "iopub.status.busy": "2023-04-09T20:31:07.218211Z",
     "iopub.status.idle": "2023-04-09T21:06:02.697333Z",
     "shell.execute_reply": "2023-04-09T21:06:02.694118Z",
     "shell.execute_reply.started": "2023-04-09T20:31:07.218211Z"
    },
    "tags": []
   },
   "outputs": [
    {
     "name": "stdout",
     "output_type": "stream",
     "text": [
      "[########################################] | 100% Completed | 34m 53s\n"
     ]
    }
   ],
   "source": [
    "name = 'moscow'\n",
    "rubrics = pd.read_excel('files/final_svod_master.xlsx')[['Рубрика']].iloc[:70]\n",
    "\n",
    "df1 = dd.read_csv(r\"D:\\файлы_2гис_2023\\Москва\\Москва_2021_970748.csv\", dtype={'fl': 'object'})[['rubricName','time', 'date','tx']]\n",
    "df2 = dd.read_csv(r\"D:\\файлы_2гис_2023\\Москва\\Москва_2022_970753.csv\", dtype={'fl': 'object'})[['rubricName','time', 'date','tx']]\n",
    "df3 = dd.read_csv(r\"D:\\файлы_2гис_2023\\Москва\\Москва_2023_970754.csv\", dtype={'fl': 'object'})[['rubricName','time', 'date','tx']]\n",
    "df4 = dd.read_csv(r\"D:\\файлы_2гис_2023\\Москва\\Москва_2020_969792.csv\", dtype={'fl': 'object'})[['rubricName','time', 'date','tx']]\n",
    "\n",
    "df_all = dd.concat([df1, df2, df3, df4])\n",
    "df_filtered = df_all.merge(rubrics, left_on='rubricName', right_on='Рубрика')\n",
    "df_filtered.to_parquet(f'files/df_filtered_{name}')\n",
    "df_filtered = dd.read_parquet(f'files/df_filtered_{name}')"
   ]
  },
  {
   "cell_type": "code",
   "execution_count": 4,
   "id": "93121fad-d3ea-4e97-a57a-98fa714b1593",
   "metadata": {
    "execution": {
     "iopub.execute_input": "2023-04-09T21:06:02.702931Z",
     "iopub.status.busy": "2023-04-09T21:06:02.702931Z",
     "iopub.status.idle": "2023-04-09T21:06:03.462814Z",
     "shell.execute_reply": "2023-04-09T21:06:03.458815Z",
     "shell.execute_reply.started": "2023-04-09T21:06:02.702931Z"
    },
    "tags": []
   },
   "outputs": [],
   "source": [
    "rubrics = pd.read_excel(r\"C:\\Users\\Mamed\\YandexDisk\\_Documents\\Проекты\\2ГИС 2023\\Москва\\Мастер_таблица_2ГИС_Москва_230320_0245.xlsx\")[['Рубрика']].iloc[:70]\n",
    "name = 'moscow'"
   ]
  },
  {
   "cell_type": "code",
   "execution_count": 7,
   "id": "3c2f70bb-a8eb-482c-a65a-378dcb1171ba",
   "metadata": {
    "execution": {
     "iopub.execute_input": "2023-04-09T21:17:39.381030Z",
     "iopub.status.busy": "2023-04-09T21:17:39.380004Z",
     "iopub.status.idle": "2023-04-09T21:24:27.381598Z",
     "shell.execute_reply": "2023-04-09T21:24:27.380726Z",
     "shell.execute_reply.started": "2023-04-09T21:17:39.381030Z"
    },
    "tags": []
   },
   "outputs": [],
   "source": [
    "make_dates_file(name)"
   ]
  },
  {
   "cell_type": "code",
   "execution_count": null,
   "id": "8e442206-1556-4b50-ac33-15b8930e07ab",
   "metadata": {
    "execution": {
     "iopub.execute_input": "2023-04-09T21:24:27.384599Z",
     "iopub.status.busy": "2023-04-09T21:24:27.384599Z",
     "iopub.status.idle": "2023-04-09T21:31:26.352728Z",
     "shell.execute_reply": "2023-04-09T21:31:26.351805Z",
     "shell.execute_reply.started": "2023-04-09T21:24:27.384599Z"
    },
    "tags": []
   },
   "outputs": [],
   "source": [
    "make_linear_plots(f'files/df_dates_{name}.xlsx', rubrics, cnt=25)"
   ]
  },
  {
   "cell_type": "code",
   "execution_count": null,
   "id": "a89dea77-1a79-4c8a-bcce-a6a98919cfa2",
   "metadata": {},
   "outputs": [],
   "source": [
    "#files/df_dates_moscow_report_230410_0024.docx"
   ]
  },
  {
   "cell_type": "code",
   "execution_count": null,
   "id": "7e401fe0-d4ec-43d7-8381-f0599742631b",
   "metadata": {},
   "outputs": [],
   "source": [
    "prepare_requests_text(name, rubrics)"
   ]
  },
  {
   "cell_type": "code",
   "execution_count": null,
   "id": "34f50a97-f5d9-4eab-a53c-618ce2a96142",
   "metadata": {},
   "outputs": [],
   "source": [
    "make_images('files/moscow_requests.xlsx', '#C0504D', '#F2DCDB')"
   ]
  },
  {
   "cell_type": "code",
   "execution_count": null,
   "id": "10c519ad-5ff4-4e42-930d-54620e51e531",
   "metadata": {},
   "outputs": [],
   "source": [
    "copy_images_texts('files/moscow_requests.xlsx', r\"C:\\Users\\Mamed\\YandexDisk\\_Documents\\Проекты\\2ГИС 2023\\Москва\\Статья_ШТ_Москва. Подсмотрено 2ГИС. Запросы_230402_0345.docx\")"
   ]
  },
  {
   "cell_type": "markdown",
   "id": "b3858c33-5b60-48e3-a384-acc75d00a86b",
   "metadata": {
    "tags": []
   },
   "source": [
    "# Новосибирск запросы"
   ]
  },
  {
   "cell_type": "code",
   "execution_count": 3,
   "id": "5d513eba-315c-406c-903a-d08d590f53a6",
   "metadata": {},
   "outputs": [
    {
     "name": "stdout",
     "output_type": "stream",
     "text": [
      "[########################################] | 100% Completed | 29m 28s\n"
     ]
    }
   ],
   "source": [
    "name = 'novosib'\n",
    "rubrics = pd.read_excel(r\"C:\\Users\\Mamed\\YandexDisk\\_Documents\\Проекты\\2ГИС 2023\\Backups\\_Final\\Мастер_таблица_2ГИС_Новосибирск_230322_2345.xlsx\")[['Рубрика']].iloc[:70]\n",
    "\n",
    "df1 = dd.read_csv(r\"D:\\файлы_2гис_2023\\Новосибирск\\Новосибирск_2020_974791.csv\", dtype={'fl': 'object'})[['rubricName','time', 'date','tx']]\n",
    "df2 = dd.read_csv(r\"D:\\файлы_2гис_2023\\Новосибирск\\Новосибирск_2021_974792.csv\", dtype={'fl': 'object'})[['rubricName','time', 'date','tx']]\n",
    "df3 = dd.read_csv(r\"D:\\файлы_2гис_2023\\Новосибирск\\Новосибирск_2022_974795.csv\", dtype={'fl': 'object'})[['rubricName','time', 'date','tx']]\n",
    "df4 = dd.read_csv(r\"D:\\файлы_2гис_2023\\Новосибирск\\Новосибирск_2023_974796.csv\", dtype={'fl': 'object'})[['rubricName','time', 'date','tx']]\n",
    "\n",
    "df_all = dd.concat([df1, df2, df3, df4])\n",
    "df_filtered = df_all.merge(rubrics, left_on='rubricName', right_on='Рубрика')\n",
    "df_filtered.to_parquet(f'df_filtered_{name}')\n",
    "df_filtered = dd.read_parquet(f'df_filtered_{name}')"
   ]
  },
  {
   "cell_type": "code",
   "execution_count": null,
   "id": "a3169393-bfba-4eec-b87c-d11249782e66",
   "metadata": {
    "tags": []
   },
   "outputs": [],
   "source": [
    "prepare_requests_text(name, rubrics)"
   ]
  },
  {
   "cell_type": "code",
   "execution_count": null,
   "id": "06893489-05af-4046-bfb6-8c572587d3c7",
   "metadata": {
    "tags": []
   },
   "outputs": [],
   "source": [
    "make_images('files/requests_text_novosib_230403_2347.xlsx', '#4F81BD', '#B8CCE4')"
   ]
  },
  {
   "cell_type": "markdown",
   "id": "c5c443fb-6dce-426e-bd56-a43a1ccf8dd4",
   "metadata": {
    "tags": []
   },
   "source": [
    "# Алматы запросы"
   ]
  },
  {
   "cell_type": "code",
   "execution_count": 4,
   "id": "36f8ad54-d26d-4edb-9cda-6b5d6b9edcbf",
   "metadata": {},
   "outputs": [
    {
     "name": "stdout",
     "output_type": "stream",
     "text": [
      "[########################################] | 100% Completed | 49m 25s\n"
     ]
    }
   ],
   "source": [
    "name = 'almati'\n",
    "rubrics = pd.read_excel(r\"C:\\Users\\Mamed\\YandexDisk\\_Documents\\Проекты\\2ГИС 2023\\Backups\\_Final\\Мастер_таблица_2ГИС_Алматы_230326_0030.xlsx\")[['Рубрика']].iloc[:70]\n",
    "\n",
    "df1 = dd.read_csv(r\"D:\\файлы_2гис_2023\\Алматы\\Алматы_2020_974797.csv\", dtype={'fl': 'object'})[['rubricName','time', 'date','tx']]\n",
    "df2 = dd.read_csv(r\"D:\\файлы_2гис_2023\\Алматы\\Алматы_2021_974798.csv\", dtype={'fl': 'object'})[['rubricName','time', 'date','tx']]\n",
    "df3 = dd.read_csv(r\"D:\\файлы_2гис_2023\\Алматы\\Алматы_2022_974799.csv\", dtype={'fl': 'object'})[['rubricName','time', 'date','tx']]\n",
    "df4 = dd.read_csv(r\"D:\\файлы_2гис_2023\\Алматы\\Алматы_2023_974800.csv\", dtype={'fl': 'object'})[['rubricName','time', 'date','tx']]\n",
    "\n",
    "df_all = dd.concat([df1, df2, df3, df4])\n",
    "df_filtered = df_all.merge(rubrics, left_on='rubricName', right_on='Рубрика')\n",
    "df_filtered.to_parquet(f'df_filtered_{name}')\n",
    "df_filtered = dd.read_parquet(f'df_filtered_{name}')"
   ]
  },
  {
   "cell_type": "code",
   "execution_count": null,
   "id": "2586d67e-5290-4679-b29f-ff8542cdd209",
   "metadata": {
    "tags": []
   },
   "outputs": [],
   "source": [
    "prepare_requests_text(name, rubrics)"
   ]
  },
  {
   "cell_type": "code",
   "execution_count": null,
   "id": "bdbb675f-9fe6-48ff-9af2-1553a27b4083",
   "metadata": {
    "execution": {
     "iopub.execute_input": "2023-04-17T19:47:13.270837Z",
     "iopub.status.busy": "2023-04-17T19:47:13.270837Z",
     "iopub.status.idle": "2023-04-17T19:47:13.615352Z",
     "shell.execute_reply": "2023-04-17T19:47:13.614397Z",
     "shell.execute_reply.started": "2023-04-17T19:47:13.270837Z"
    },
    "tags": []
   },
   "outputs": [],
   "source": [
    "make_images('files/requests_text_almati_230403_2334.xlsx', '#9BBB59', '#EBF1DE')"
   ]
  },
  {
   "cell_type": "markdown",
   "id": "df8e6460-ab8f-4463-9313-1e11fe9b5aa9",
   "metadata": {
    "tags": []
   },
   "source": [
    "# Астана запросы"
   ]
  },
  {
   "cell_type": "code",
   "execution_count": 7,
   "id": "598c5564-1f01-411a-98e7-25bad8899040",
   "metadata": {},
   "outputs": [
    {
     "name": "stdout",
     "output_type": "stream",
     "text": [
      "[########################################] | 100% Completed | 32m 16s\n"
     ]
    }
   ],
   "source": [
    "name = 'astana'\n",
    "rubrics = pd.read_excel('files/Мастер_таблица_2ГИС_Астана_230409_0215.xlsx').sort_values('Запросы, итого',ascending=False)[['Рубрика']].iloc[:70]\n",
    "\n",
    "df1 = dd.read_csv(r\"D:\\файлы_2гис_2023\\Астана\\Астана_2020_975007.csv\", dtype={'fl': 'object'})[['rubricName','time', 'date','tx']]\n",
    "df2 = dd.read_csv(r\"D:\\файлы_2гис_2023\\Астана\\Астана_2021_975009.csv\", dtype={'fl': 'object'})[['rubricName','time', 'date','tx']]\n",
    "df3 = dd.read_csv(r\"D:\\файлы_2гис_2023\\Астана\\Астана_2022_975011.csv\", dtype={'fl': 'object'})[['rubricName','time', 'date','tx']]\n",
    "df4 = dd.read_csv(r\"D:\\файлы_2гис_2023\\Астана\\Астана_2023_975039.csv\", dtype={'fl': 'object'})[['rubricName','time', 'date','tx']]\n",
    "\n",
    "df_all = dd.concat([df1, df2, df3, df4])\n",
    "df_filtered = df_all.merge(rubrics, left_on='rubricName', right_on='Рубрика')\n",
    "df_filtered.to_parquet(f'files/df_filtered_{name}')\n",
    "df_filtered = dd.read_parquet(f'files/df_filtered_{name}')"
   ]
  },
  {
   "cell_type": "code",
   "execution_count": 8,
   "id": "4ff59883-42ff-4add-b017-7b2f7ea8c093",
   "metadata": {
    "execution": {
     "iopub.execute_input": "2023-04-09T12:01:24.161525Z",
     "iopub.status.busy": "2023-04-09T12:01:24.160527Z",
     "iopub.status.idle": "2023-04-09T12:27:29.409499Z",
     "shell.execute_reply": "2023-04-09T12:27:29.407503Z",
     "shell.execute_reply.started": "2023-04-09T12:01:24.161525Z"
    },
    "tags": []
   },
   "outputs": [
    {
     "name": "stdout",
     "output_type": "stream",
     "text": [
      "files/requests_text_astana_230409_1527.xlsx\n"
     ]
    }
   ],
   "source": [
    "prepare_requests_text(name, rubrics)"
   ]
  },
  {
   "cell_type": "code",
   "execution_count": 4,
   "id": "8ca4285b-1417-4654-9893-944662cf478a",
   "metadata": {
    "execution": {
     "iopub.execute_input": "2023-04-17T19:48:25.292060Z",
     "iopub.status.busy": "2023-04-17T19:48:25.292060Z",
     "iopub.status.idle": "2023-04-17T19:55:53.806253Z",
     "shell.execute_reply": "2023-04-17T19:55:53.805253Z",
     "shell.execute_reply.started": "2023-04-17T19:48:25.292060Z"
    },
    "tags": []
   },
   "outputs": [
    {
     "name": "stdout",
     "output_type": "stream",
     "text": [
      "files/astana/requests_text_astana_230409_1527_report_230417_2248.docx\n"
     ]
    },
    {
     "name": "stderr",
     "output_type": "stream",
     "text": [
      " 11%|█████████▍                                                                         | 8/70 [00:14<02:26,  2.36s/it]C:\\Users\\Mamed\\AppData\\Local\\Temp\\ipykernel_33768\\878318554.py:104: UserWarning: Glyph 1179 (\\N{CYRILLIC SMALL LETTER KA WITH DESCENDER}) missing from current font.\n",
      "  fig.savefig(f'{file_name}', bbox_inches='tight')\n",
      " 33%|██████████████████████████▉                                                       | 23/70 [01:04<03:09,  4.03s/it]C:\\Users\\Mamed\\AppData\\Local\\Temp\\ipykernel_33768\\878318554.py:104: UserWarning: Glyph 1201 (\\N{CYRILLIC SMALL LETTER STRAIGHT U WITH STROKE}) missing from current font.\n",
      "  fig.savefig(f'{file_name}', bbox_inches='tight')\n",
      " 39%|███████████████████████████████▋                                                  | 27/70 [01:24<03:20,  4.66s/it]C:\\Users\\Mamed\\AppData\\Local\\Temp\\ipykernel_33768\\878318554.py:104: UserWarning: Glyph 1171 (\\N{CYRILLIC SMALL LETTER GHE WITH STROKE}) missing from current font.\n",
      "  fig.savefig(f'{file_name}', bbox_inches='tight')\n",
      " 44%|████████████████████████████████████▎                                             | 31/70 [01:48<03:42,  5.71s/it]C:\\Users\\Mamed\\AppData\\Local\\Temp\\ipykernel_33768\\878318554.py:104: UserWarning: Glyph 1187 (\\N{CYRILLIC SMALL LETTER EN WITH DESCENDER}) missing from current font.\n",
      "  fig.savefig(f'{file_name}', bbox_inches='tight')\n",
      " 54%|████████████████████████████████████████████▌                                     | 38/70 [02:38<03:45,  7.04s/it]C:\\Users\\Mamed\\AppData\\Local\\Temp\\ipykernel_33768\\878318554.py:104: UserWarning: Glyph 1241 (\\N{CYRILLIC SMALL LETTER SCHWA}) missing from current font.\n",
      "  fig.savefig(f'{file_name}', bbox_inches='tight')\n",
      " 76%|██████████████████████████████████████████████████████████████                    | 53/70 [04:52<02:45,  9.75s/it]C:\\Users\\Mamed\\AppData\\Local\\Temp\\ipykernel_33768\\878318554.py:104: UserWarning: Glyph 1179 (\\N{CYRILLIC SMALL LETTER KA WITH DESCENDER}) missing from current font.\n",
      "  fig.savefig(f'{file_name}', bbox_inches='tight')\n",
      " 83%|███████████████████████████████████████████████████████████████████▉              | 58/70 [05:31<01:37,  8.16s/it]C:\\Users\\Mamed\\AppData\\Local\\Temp\\ipykernel_33768\\878318554.py:104: UserWarning: Glyph 1201 (\\N{CYRILLIC SMALL LETTER STRAIGHT U WITH STROKE}) missing from current font.\n",
      "  fig.savefig(f'{file_name}', bbox_inches='tight')\n",
      "C:\\Users\\Mamed\\AppData\\Local\\Temp\\ipykernel_33768\\878318554.py:104: UserWarning: Glyph 1241 (\\N{CYRILLIC SMALL LETTER SCHWA}) missing from current font.\n",
      "  fig.savefig(f'{file_name}', bbox_inches='tight')\n",
      "C:\\Users\\Mamed\\AppData\\Local\\Temp\\ipykernel_33768\\878318554.py:104: UserWarning: Glyph 1179 (\\N{CYRILLIC SMALL LETTER KA WITH DESCENDER}) missing from current font.\n",
      "  fig.savefig(f'{file_name}', bbox_inches='tight')\n",
      " 91%|██████████████████████████████████████████████████████████████████████████▉       | 64/70 [06:24<00:50,  8.38s/it]C:\\Users\\Mamed\\AppData\\Local\\Temp\\ipykernel_33768\\878318554.py:104: UserWarning: Glyph 1179 (\\N{CYRILLIC SMALL LETTER KA WITH DESCENDER}) missing from current font.\n",
      "  fig.savefig(f'{file_name}', bbox_inches='tight')\n",
      "100%|██████████████████████████████████████████████████████████████████████████████████| 70/70 [07:27<00:00,  6.39s/it]\n"
     ]
    }
   ],
   "source": [
    "make_images('files/astana/requests_text_astana_230409_1527.xlsx', \"Астана\", '#00ABC2', '#FFF2CC')"
   ]
  },
  {
   "cell_type": "code",
   "execution_count": null,
   "id": "45583ef4-68ad-4e83-bd7b-3df421bcd9a4",
   "metadata": {},
   "outputs": [],
   "source": [
    "files/astana/requests_text_astana_230409_1527_report_230417_2248.docx"
   ]
  },
  {
   "cell_type": "markdown",
   "id": "0303984d-8184-4d58-a1c1-98a70d9ff2de",
   "metadata": {
    "tags": []
   },
   "source": [
    "# Калининград запросы"
   ]
  },
  {
   "cell_type": "code",
   "execution_count": 3,
   "id": "72d4d81b-83b4-46b7-a6d8-7af805ee8087",
   "metadata": {
    "execution": {
     "iopub.execute_input": "2023-04-15T07:48:03.862426Z",
     "iopub.status.busy": "2023-04-15T07:48:03.862426Z",
     "iopub.status.idle": "2023-04-15T07:50:22.055253Z",
     "shell.execute_reply": "2023-04-15T07:50:22.055253Z",
     "shell.execute_reply.started": "2023-04-15T07:48:03.862426Z"
    }
   },
   "outputs": [
    {
     "name": "stdout",
     "output_type": "stream",
     "text": [
      "[########################################] | 100% Completed | 133.72 s\n"
     ]
    }
   ],
   "source": [
    "name = 'kaliningrad'\n",
    "rubrics = pd.read_excel(r\"C:\\Users\\Mamed\\YandexDisk\\_Documents\\Проекты\\2ГИС 2023\\Калининград\\Мастер_таблица_2ГИС_Калининград_230412_2345.xlsx\").sort_values('Запросы, итого',ascending=False)[['Рубрика']].iloc[:70]\n",
    "\n",
    "df1 = dd.read_csv(r\"D:\\файлы_2гис_2023\\Калининград\\Калининград_2020_975659.csv\", dtype={'fl': 'object'})[['rubricName','time', 'date','tx']]\n",
    "df2 = dd.read_csv(r\"D:\\файлы_2гис_2023\\Калининград\\Калининград_2021_975670.csv\", dtype={'fl': 'object'})[['rubricName','time', 'date','tx']]\n",
    "df3 = dd.read_csv(r\"D:\\файлы_2гис_2023\\Калининград\\Калининград_2022_975672.csv\", dtype={'fl': 'object'})[['rubricName','time', 'date','tx']]\n",
    "df4 = dd.read_csv(r\"D:\\файлы_2гис_2023\\Калининград\\Калининград_2023_975679.csv\", dtype={'fl': 'object'})[['rubricName','time', 'date','tx']]\n",
    "\n",
    "df_all = dd.concat([df1, df2, df3, df4])\n",
    "df_filtered = df_all.merge(rubrics, left_on='rubricName', right_on='Рубрика')\n",
    "df_filtered.to_parquet(f'files/df_filtered_{name}')\n",
    "df_filtered = dd.read_parquet(f'files/df_filtered_{name}')"
   ]
  },
  {
   "cell_type": "code",
   "execution_count": 7,
   "id": "239bf99c-9df2-400b-8707-16c49ffad4f4",
   "metadata": {
    "execution": {
     "iopub.execute_input": "2023-04-15T07:58:20.337185Z",
     "iopub.status.busy": "2023-04-15T07:58:20.337185Z",
     "iopub.status.idle": "2023-04-15T08:01:56.612979Z",
     "shell.execute_reply": "2023-04-15T08:01:56.612979Z",
     "shell.execute_reply.started": "2023-04-15T07:58:20.337185Z"
    },
    "tags": []
   },
   "outputs": [
    {
     "name": "stdout",
     "output_type": "stream",
     "text": [
      "files/requests_text_kaliningrad_230415_1101.xlsx\n"
     ]
    }
   ],
   "source": [
    "prepare_requests_text(name, rubrics)"
   ]
  },
  {
   "cell_type": "code",
   "execution_count": null,
   "id": "275280d2-3dcc-4284-9428-eb5af5d33829",
   "metadata": {
    "execution": {
     "iopub.execute_input": "2023-04-15T08:09:06.035383Z",
     "iopub.status.busy": "2023-04-15T08:09:06.035383Z"
    },
    "tags": []
   },
   "outputs": [],
   "source": [
    "make_images('files/requests_text_kaliningrad_230415_1101.xlsx', \"Калининград\", '#B76C00', '#FFF4D9')"
   ]
  },
  {
   "cell_type": "code",
   "execution_count": null,
   "id": "a509802f-304a-42e0-967b-6fa96ea2be3d",
   "metadata": {},
   "outputs": [],
   "source": [
    "files/requests_text_kaliningrad_230415_1101_report_230415_1109.docx"
   ]
  },
  {
   "cell_type": "code",
   "execution_count": null,
   "id": "65719445-8956-4985-b881-feb568f84b11",
   "metadata": {},
   "outputs": [],
   "source": []
  }
 ],
 "metadata": {
  "kernelspec": {
   "display_name": "Python 3 (ipykernel)",
   "language": "python",
   "name": "python3"
  },
  "language_info": {
   "codemirror_mode": {
    "name": "ipython",
    "version": 3
   },
   "file_extension": ".py",
   "mimetype": "text/x-python",
   "name": "python",
   "nbconvert_exporter": "python",
   "pygments_lexer": "ipython3",
   "version": "3.9.12"
  }
 },
 "nbformat": 4,
 "nbformat_minor": 5
}
