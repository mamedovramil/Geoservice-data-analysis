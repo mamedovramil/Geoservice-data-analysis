{
 "cells": [
  {
   "cell_type": "code",
   "execution_count": 13,
   "id": "afa0b1cd-d2ea-4a6e-bd9a-8aea4cfcbf2b",
   "metadata": {
    "execution": {
     "iopub.execute_input": "2023-04-15T08:11:47.052780Z",
     "iopub.status.busy": "2023-04-15T08:11:47.051782Z",
     "iopub.status.idle": "2023-04-15T08:11:47.561838Z",
     "shell.execute_reply": "2023-04-15T08:11:47.560833Z",
     "shell.execute_reply.started": "2023-04-15T08:11:47.051782Z"
    },
    "tags": []
   },
   "outputs": [
    {
     "name": "stdout",
     "output_type": "stream",
     "text": [
      "Ready: 2023-04-15 11:11:47\n"
     ]
    }
   ],
   "source": [
    "%run functions.ipynb"
   ]
  },
  {
   "cell_type": "code",
   "execution_count": 4,
   "id": "ec6ecb74-0e84-43a4-b7dd-84117b9d6cf2",
   "metadata": {
    "execution": {
     "iopub.execute_input": "2023-04-15T07:49:48.577121Z",
     "iopub.status.busy": "2023-04-15T07:49:48.577121Z",
     "iopub.status.idle": "2023-04-15T07:50:00.164114Z",
     "shell.execute_reply": "2023-04-15T07:50:00.164114Z",
     "shell.execute_reply.started": "2023-04-15T07:49:48.577121Z"
    },
    "tags": []
   },
   "outputs": [],
   "source": [
    "findspark.init()\n",
    "from pyspark.sql import SparkSession\n",
    "try:\n",
    "    spark.stop()\n",
    "except:\n",
    "    pass\n",
    "spark = SparkSession.builder\\\n",
    "        .master(\"local[*]\")\\\n",
    "        .appName('PySpark_Tutorial')\\\n",
    "        .getOrCreate()"
   ]
  },
  {
   "cell_type": "markdown",
   "id": "46221c84-dcc5-4485-935c-01100bf70207",
   "metadata": {
    "tags": []
   },
   "source": [
    "# Новосибирск"
   ]
  },
  {
   "cell_type": "code",
   "execution_count": 143,
   "id": "0a4f9d75-c7ec-433b-b1fa-94a64135f140",
   "metadata": {},
   "outputs": [],
   "source": [
    "rubrics = pd.read_excel(r\"C:\\Users\\Mamed\\YandexDisk\\_Documents\\Проекты\\2ГИС 2023\\Backups\\_Final\\Мастер_таблица_2ГИС_Новосибирск_230322_2345.xlsx\")[['Рубрика']].iloc[:70]\n",
    "name = 'novosib'"
   ]
  },
  {
   "cell_type": "code",
   "execution_count": null,
   "id": "33f26382-f74b-457d-b3e2-591bb1ca22a3",
   "metadata": {},
   "outputs": [],
   "source": [
    "make_dates_file(name)"
   ]
  },
  {
   "cell_type": "code",
   "execution_count": null,
   "id": "58e006b0-2138-406c-b003-4b1fd119e42c",
   "metadata": {
    "tags": []
   },
   "outputs": [],
   "source": [
    "make_linear_plots('files/novosib_dates.xlsx', rubrics, cnt=25)"
   ]
  },
  {
   "cell_type": "code",
   "execution_count": 25,
   "id": "e62fd54e-a209-4ef1-92ce-a4ea8f097123",
   "metadata": {},
   "outputs": [
    {
     "name": "stdout",
     "output_type": "stream",
     "text": [
      "files/novosib_dates_report_230402_2213.docx\n"
     ]
    },
    {
     "name": "stderr",
     "output_type": "stream",
     "text": [
      "100%|████████████████████████████████████████████████████████████████████████████████| 100/100 [00:33<00:00,  2.97it/s]\n"
     ]
    }
   ],
   "source": [
    "copy_images_texts('files/novosib_dates.xlsx', r\"C:\\Users\\Mamed\\YandexDisk\\_Documents\\Проекты\\2ГИС 2023\\Новосибирск\\Статья_Новосибирский распорядок_230401_1430.docx\", True)"
   ]
  },
  {
   "cell_type": "markdown",
   "id": "aa594726-e45e-4f93-85c3-9c209f0f185b",
   "metadata": {
    "tags": []
   },
   "source": [
    "# Москва"
   ]
  },
  {
   "cell_type": "code",
   "execution_count": 4,
   "id": "7dc40bc4-a9ee-4cc3-98e1-669923b3cab5",
   "metadata": {
    "execution": {
     "iopub.execute_input": "2023-04-09T19:08:53.835218Z",
     "iopub.status.busy": "2023-04-09T19:08:53.834213Z",
     "iopub.status.idle": "2023-04-09T19:08:55.265514Z",
     "shell.execute_reply": "2023-04-09T19:08:55.264501Z",
     "shell.execute_reply.started": "2023-04-09T19:08:53.835218Z"
    },
    "tags": []
   },
   "outputs": [],
   "source": [
    "rubrics = pd.read_excel(r\"C:\\Users\\Mamed\\YandexDisk\\_Documents\\Проекты\\2ГИС 2023\\Москва\\Мастер_таблица_2ГИС_Москва_230320_0245.xlsx\")[['Рубрика']].iloc[:70]\n",
    "name = 'moscow'"
   ]
  },
  {
   "cell_type": "code",
   "execution_count": 10,
   "id": "8d4787c6-6319-4c53-8044-43500e67809a",
   "metadata": {
    "execution": {
     "iopub.execute_input": "2023-04-09T19:16:00.824752Z",
     "iopub.status.busy": "2023-04-09T19:16:00.824752Z",
     "iopub.status.idle": "2023-04-09T19:20:50.207006Z",
     "shell.execute_reply": "2023-04-09T19:20:50.206001Z",
     "shell.execute_reply.started": "2023-04-09T19:16:00.824752Z"
    },
    "tags": []
   },
   "outputs": [],
   "source": [
    "make_dates_file(name)"
   ]
  },
  {
   "cell_type": "code",
   "execution_count": null,
   "id": "77621212-018e-4e31-932e-5930377d2ecc",
   "metadata": {
    "execution": {
     "iopub.execute_input": "2023-04-09T19:20:50.211005Z",
     "iopub.status.busy": "2023-04-09T19:20:50.211005Z",
     "iopub.status.idle": "2023-04-09T19:24:56.128967Z",
     "shell.execute_reply": "2023-04-09T19:24:56.128004Z",
     "shell.execute_reply.started": "2023-04-09T19:20:50.211005Z"
    },
    "tags": []
   },
   "outputs": [],
   "source": [
    "make_linear_plots(f'files/df_dates_{name}.xlsx', rubrics, cnt=25)"
   ]
  },
  {
   "cell_type": "code",
   "execution_count": 4,
   "id": "11db6194-b231-4215-a827-364836ca1996",
   "metadata": {
    "execution": {
     "iopub.execute_input": "2023-04-09T15:45:42.759990Z",
     "iopub.status.busy": "2023-04-09T15:45:42.758986Z",
     "iopub.status.idle": "2023-04-09T15:45:42.778551Z",
     "shell.execute_reply": "2023-04-09T15:45:42.777575Z",
     "shell.execute_reply.started": "2023-04-09T15:45:42.759990Z"
    }
   },
   "outputs": [],
   "source": [
    "#files/df_dates_moscow_report_230409_1840.docx"
   ]
  },
  {
   "cell_type": "code",
   "execution_count": 19,
   "id": "fadbffe6-7056-4e09-b1ab-511daa8e4b9f",
   "metadata": {
    "execution": {
     "iopub.execute_input": "2023-04-09T20:29:04.375598Z",
     "iopub.status.busy": "2023-04-09T20:29:04.374603Z",
     "iopub.status.idle": "2023-04-09T20:29:05.154503Z",
     "shell.execute_reply": "2023-04-09T20:29:05.153585Z",
     "shell.execute_reply.started": "2023-04-09T20:29:04.375598Z"
    }
   },
   "outputs": [],
   "source": [
    "spark.stop()"
   ]
  },
  {
   "cell_type": "markdown",
   "id": "7f62378d-8c63-47f4-8cbc-2364862b02ea",
   "metadata": {},
   "source": [
    "# Алматы"
   ]
  },
  {
   "cell_type": "code",
   "execution_count": 7,
   "id": "7459668c-a34c-4a2f-adba-abc6bea0d70c",
   "metadata": {
    "execution": {
     "iopub.execute_input": "2023-04-09T15:58:18.242721Z",
     "iopub.status.busy": "2023-04-09T15:58:18.241722Z",
     "iopub.status.idle": "2023-04-09T15:58:22.913118Z",
     "shell.execute_reply": "2023-04-09T15:58:22.912131Z",
     "shell.execute_reply.started": "2023-04-09T15:58:18.242721Z"
    },
    "tags": []
   },
   "outputs": [],
   "source": [
    "rubrics = pd.read_excel(r\"C:\\Users\\Mamed\\YandexDisk\\_Documents\\Проекты\\2ГИС 2023\\Алматы\\Мастер_таблица_2ГИС_Алматы_230326_0030.xlsx\")[['Рубрика']].iloc[:70]\n",
    "name = 'almati'"
   ]
  },
  {
   "cell_type": "code",
   "execution_count": 10,
   "id": "c76d47ec-9a52-4935-ae47-50aa82181352",
   "metadata": {
    "execution": {
     "iopub.execute_input": "2023-04-09T15:58:41.313621Z",
     "iopub.status.busy": "2023-04-09T15:58:41.312622Z",
     "iopub.status.idle": "2023-04-09T16:10:32.138452Z",
     "shell.execute_reply": "2023-04-09T16:10:32.136939Z",
     "shell.execute_reply.started": "2023-04-09T15:58:41.313621Z"
    },
    "tags": []
   },
   "outputs": [],
   "source": [
    "make_dates_file(name)"
   ]
  },
  {
   "cell_type": "code",
   "execution_count": null,
   "id": "e22b8687-880c-4cf1-8097-7a51c2b4fdc1",
   "metadata": {
    "execution": {
     "iopub.execute_input": "2023-04-09T16:10:32.140158Z",
     "iopub.status.busy": "2023-04-09T16:10:32.140158Z",
     "iopub.status.idle": "2023-04-09T16:17:32.665093Z",
     "shell.execute_reply": "2023-04-09T16:17:32.663581Z",
     "shell.execute_reply.started": "2023-04-09T16:10:32.140158Z"
    },
    "tags": []
   },
   "outputs": [],
   "source": [
    "make_linear_plots(f'files/df_dates_{name}.xlsx', rubrics, cnt=25)"
   ]
  },
  {
   "cell_type": "code",
   "execution_count": 12,
   "id": "ccac4614-db83-480a-a396-7af91e142fb0",
   "metadata": {
    "execution": {
     "iopub.execute_input": "2023-04-09T16:20:57.824010Z",
     "iopub.status.busy": "2023-04-09T16:20:57.824010Z",
     "iopub.status.idle": "2023-04-09T16:20:57.843128Z",
     "shell.execute_reply": "2023-04-09T16:20:57.842127Z",
     "shell.execute_reply.started": "2023-04-09T16:20:57.824010Z"
    },
    "tags": []
   },
   "outputs": [],
   "source": [
    "#files/df_dates_almati_report_230409_1910.docx"
   ]
  },
  {
   "cell_type": "markdown",
   "id": "fd58abab-0957-408b-9e2a-d932ebe133d0",
   "metadata": {},
   "source": [
    "# Астана"
   ]
  },
  {
   "cell_type": "code",
   "execution_count": 24,
   "id": "d015561a-02a9-470b-9315-c6fc536fdd21",
   "metadata": {
    "execution": {
     "iopub.execute_input": "2023-04-09T16:31:06.335342Z",
     "iopub.status.busy": "2023-04-09T16:31:06.335342Z",
     "iopub.status.idle": "2023-04-09T16:31:08.329906Z",
     "shell.execute_reply": "2023-04-09T16:31:08.328907Z",
     "shell.execute_reply.started": "2023-04-09T16:31:06.335342Z"
    },
    "tags": []
   },
   "outputs": [],
   "source": [
    "rubrics = pd.read_excel(r\"C:\\Users\\Mamed\\YandexDisk\\_Documents\\Проекты\\2ГИС 2023\\Астана\\Мастер_таблица_2ГИС_Астана_230409_1645.xlsx\").sort_values('Запросы, итого', ascending=False)[['Рубрика']].iloc[:70]\n",
    "name = 'astana'"
   ]
  },
  {
   "cell_type": "code",
   "execution_count": 26,
   "id": "6125c37a-1498-4ea3-b9f2-7a4b6941ab5b",
   "metadata": {
    "execution": {
     "iopub.execute_input": "2023-04-09T16:31:20.947919Z",
     "iopub.status.busy": "2023-04-09T16:31:20.947919Z",
     "iopub.status.idle": "2023-04-09T16:37:40.169810Z",
     "shell.execute_reply": "2023-04-09T16:37:40.168886Z",
     "shell.execute_reply.started": "2023-04-09T16:31:20.947919Z"
    },
    "tags": []
   },
   "outputs": [],
   "source": [
    "make_dates_file(name)"
   ]
  },
  {
   "cell_type": "code",
   "execution_count": null,
   "id": "d9661a23-bfcb-47c6-88d8-0a422099f802",
   "metadata": {
    "execution": {
     "iopub.execute_input": "2023-04-09T16:37:40.171897Z",
     "iopub.status.busy": "2023-04-09T16:37:40.171897Z",
     "iopub.status.idle": "2023-04-09T16:45:18.641976Z",
     "shell.execute_reply": "2023-04-09T16:45:18.640974Z",
     "shell.execute_reply.started": "2023-04-09T16:37:40.171897Z"
    },
    "tags": []
   },
   "outputs": [],
   "source": [
    "make_linear_plots(f'files/df_dates_{name}.xlsx', rubrics, cnt=25)"
   ]
  },
  {
   "cell_type": "code",
   "execution_count": 12,
   "id": "3ae50517-7940-42d3-be28-b09034927e72",
   "metadata": {
    "execution": {
     "iopub.execute_input": "2023-04-09T16:20:57.824010Z",
     "iopub.status.busy": "2023-04-09T16:20:57.824010Z",
     "iopub.status.idle": "2023-04-09T16:20:57.843128Z",
     "shell.execute_reply": "2023-04-09T16:20:57.842127Z",
     "shell.execute_reply.started": "2023-04-09T16:20:57.824010Z"
    },
    "tags": []
   },
   "outputs": [],
   "source": [
    "#files/df_dates_astana_report_230409_1937.docx"
   ]
  },
  {
   "cell_type": "markdown",
   "id": "8e670a76-187d-49a2-ac18-ed9b797859ba",
   "metadata": {},
   "source": [
    "# Калининград"
   ]
  },
  {
   "cell_type": "code",
   "execution_count": 6,
   "id": "47aef582-5b2b-4b76-8f3c-1b397c47bd13",
   "metadata": {
    "execution": {
     "iopub.execute_input": "2023-04-15T07:50:25.158340Z",
     "iopub.status.busy": "2023-04-15T07:50:25.158340Z",
     "iopub.status.idle": "2023-04-15T07:50:28.034519Z",
     "shell.execute_reply": "2023-04-15T07:50:28.034519Z",
     "shell.execute_reply.started": "2023-04-15T07:50:25.158340Z"
    },
    "tags": []
   },
   "outputs": [],
   "source": [
    "name = 'kaliningrad'\n",
    "rubrics = pd.read_excel(r\"C:\\Users\\Mamed\\YandexDisk\\_Documents\\Проекты\\2ГИС 2023\\Калининград\\Мастер_таблица_2ГИС_Калининград_230412_2345.xlsx\").sort_values('Запросы, итого',ascending=False)[['Рубрика']].iloc[:70]"
   ]
  },
  {
   "cell_type": "code",
   "execution_count": 7,
   "id": "3a3cf472-3925-4102-a986-b4326e320eec",
   "metadata": {
    "execution": {
     "iopub.execute_input": "2023-04-15T07:50:29.409602Z",
     "iopub.status.busy": "2023-04-15T07:50:29.409602Z",
     "iopub.status.idle": "2023-04-15T07:52:36.617978Z",
     "shell.execute_reply": "2023-04-15T07:52:36.617978Z",
     "shell.execute_reply.started": "2023-04-15T07:50:29.409602Z"
    },
    "tags": []
   },
   "outputs": [],
   "source": [
    "make_dates_file(name)"
   ]
  },
  {
   "cell_type": "code",
   "execution_count": null,
   "id": "dd3d75e6-ae75-41c1-8121-b5037aafc2e0",
   "metadata": {},
   "outputs": [],
   "source": [
    "#files/df_dates_kaliningrad_report_230415_1052.docx"
   ]
  },
  {
   "cell_type": "code",
   "execution_count": null,
   "id": "267cf607-60f5-4f5e-ac59-c4175b70387f",
   "metadata": {
    "execution": {
     "iopub.execute_input": "2023-04-15T08:11:51.205011Z",
     "iopub.status.busy": "2023-04-15T08:11:51.205011Z",
     "iopub.status.idle": "2023-04-15T08:17:55.288648Z",
     "shell.execute_reply": "2023-04-15T08:17:55.288648Z",
     "shell.execute_reply.started": "2023-04-15T08:11:51.205011Z"
    },
    "tags": []
   },
   "outputs": [],
   "source": [
    "make_linear_plots(f'files/df_dates_{name}.xlsx', rubrics, cnt=25)"
   ]
  },
  {
   "cell_type": "code",
   "execution_count": null,
   "id": "93440aa3-3196-480c-9342-417e0676e6e3",
   "metadata": {},
   "outputs": [],
   "source": []
  },
  {
   "cell_type": "markdown",
   "id": "55e90802-b00b-40e8-8624-a971b047c197",
   "metadata": {
    "execution": {
     "iopub.execute_input": "2023-04-21T00:13:40.350155Z",
     "iopub.status.busy": "2023-04-21T00:13:40.341938Z",
     "iopub.status.idle": "2023-04-21T00:13:40.840393Z",
     "shell.execute_reply": "2023-04-21T00:13:40.833698Z",
     "shell.execute_reply.started": "2023-04-21T00:13:40.350155Z"
    },
    "tags": []
   },
   "source": [
    "# 10 Городов"
   ]
  },
  {
   "cell_type": "code",
   "execution_count": 3,
   "id": "2f2c4c87-da3a-43d7-8ebf-1caaa1a367af",
   "metadata": {
    "execution": {
     "iopub.execute_input": "2023-04-20T23:29:37.735570Z",
     "iopub.status.busy": "2023-04-20T23:29:37.734567Z",
     "iopub.status.idle": "2023-04-21T00:22:38.312004Z",
     "shell.execute_reply": "2023-04-21T00:22:38.312004Z",
     "shell.execute_reply.started": "2023-04-20T23:29:37.735570Z"
    },
    "tags": []
   },
   "outputs": [
    {
     "name": "stderr",
     "output_type": "stream",
     "text": [
      "100%|█████████████████████████████████████████████████████████████████████████████████| 20/20 [53:00<00:00, 159.03s/it]\n"
     ]
    }
   ],
   "source": [
    "df_schema = StructType([StructField('user', StringType(), True), StructField('proj', StringType(), True), StructField('rubricName', StringType(), True), StructField('rubricID', IntegerType(), True), StructField('time', StringType(), True), StructField('date', StringType(), True), StructField('org', StringType(), True), StructField('branch', StringType(), True), StructField('prod', StringType(), True), StructField('tx', StringType(), True), StructField('fl', StringType(), True), StructField('devmod', StringType(), True), StructField('lat', StringType(), True), StructField('lon', StringType(), True)])\n",
    "df_list = [i for i in files_list_chain if 'Астана' in i or 'Бишкек' in i or 'Москва' in i or 'ОАЭ' in i or 'Ташкент' in i]\n",
    "\n",
    "for file in tqdm(df_list):\n",
    "    df = spark.read.option(\"header\",\"true\").csv(file, schema=df_schema)\n",
    "    df.createOrReplaceTempView('df')\n",
    "    city = file.split('\\\\')[2]\n",
    "    df_new = spark.sql(f'''\n",
    "    select \n",
    "    rubricName\n",
    "    , \"{city}\" city\n",
    "    , time\n",
    "    , year(time) year_r\n",
    "    , hour(time) hour_r\n",
    "    , SUBSTR(time, 6, 5) date_r\n",
    "    , case when weekofyear(time) > 9 then 1 else weekofyear(time) end week_r\n",
    "    , case when extract(dayofweek from time) = 1 then 7\n",
    "        else extract(dayofweek from time)-1\n",
    "    end week_day_r\n",
    "\n",
    "    from df\n",
    "    ''').where('year_r in (2020,2021,2022,2023) and month(time) < 3 ')\n",
    "\n",
    "    df_new.write.mode('append').parquet(f'files/ten_city/df_dates')"
   ]
  },
  {
   "cell_type": "code",
   "execution_count": 27,
   "id": "a6d5695e-f0cb-4ef8-b283-b4f96ef7aa39",
   "metadata": {
    "execution": {
     "iopub.execute_input": "2023-04-21T20:01:25.554059Z",
     "iopub.status.busy": "2023-04-21T20:01:25.554059Z",
     "iopub.status.idle": "2023-04-21T20:01:25.569875Z",
     "shell.execute_reply": "2023-04-21T20:01:25.568880Z",
     "shell.execute_reply.started": "2023-04-21T20:01:25.554059Z"
    },
    "tags": []
   },
   "outputs": [],
   "source": [
    "def count_dates(col, df_new='df_new'):\n",
    "    dff1 = spark.sql(f'''\n",
    "\n",
    "    with t as\n",
    "        (\n",
    "        select \n",
    "            year_r\n",
    "            , rubricName\n",
    "            , city\n",
    "            , {col}\n",
    "            , count(*) cnt\n",
    "        from {df_new}\n",
    "        group by\n",
    "            year_r\n",
    "            , rubricName\n",
    "            , city\n",
    "            , {col}\n",
    "        order by\n",
    "            year_r\n",
    "            , rubricName\n",
    "            , city\n",
    "            , {col}\n",
    "        )\n",
    "    ,gr as\n",
    "        (\n",
    "        select\n",
    "            rubricName \n",
    "            ,{col} \n",
    "            ,max(case when city = 'Астана'  then cnt end) cnt_a\n",
    "            ,max(case when city = 'Бишкек'  then cnt end) cnt_b\n",
    "            ,max(case when city = 'Москва'  then cnt end) cnt_m\n",
    "            ,max(case when city = 'ОАЭ'     then cnt end) cnt_o\n",
    "            ,max(case when city = 'Ташкент' then cnt end) cnt_t\n",
    "        from t\n",
    "        group by\n",
    "            rubricName\n",
    "            ,{col}\n",
    "        order by\n",
    "            rubricName\n",
    "            ,{col}    \n",
    "        )\n",
    "\n",
    "    select\n",
    "        rubricName \n",
    "        ,{col}\n",
    "        ,sum(cnt_a) over(partition by rubricName, {col}) / sum(cnt_a) over(partition by rubricName)*100 cnt_a\n",
    "        ,sum(cnt_b) over(partition by rubricName, {col}) / sum(cnt_b) over(partition by rubricName)*100 cnt_b\n",
    "        ,sum(cnt_m) over(partition by rubricName, {col}) / sum(cnt_m) over(partition by rubricName)*100 cnt_m\n",
    "        ,sum(cnt_o) over(partition by rubricName, {col}) / sum(cnt_o) over(partition by rubricName)*100 cnt_o\n",
    "        ,sum(cnt_t) over(partition by rubricName, {col}) / sum(cnt_t) over(partition by rubricName)*100 cnt_t\n",
    "        \n",
    "        ,case when row_number() over(partition by rubricName order by cnt_a desc) < 4 then row_number() over(partition by rubricName order by cnt_a desc) end max_a\n",
    "        ,case when row_number() over(partition by rubricName order by cnt_b desc) < 4 then row_number() over(partition by rubricName order by cnt_b desc) end max_b\n",
    "        ,case when row_number() over(partition by rubricName order by cnt_m desc) < 4 then row_number() over(partition by rubricName order by cnt_m desc) end max_m\n",
    "        ,case when row_number() over(partition by rubricName order by cnt_o desc) < 4 then row_number() over(partition by rubricName order by cnt_o desc) end max_o\n",
    "        ,case when row_number() over(partition by rubricName order by cnt_t desc) < 4 then row_number() over(partition by rubricName order by cnt_t desc) end max_t\n",
    "        \n",
    "        ,case when row_number() over(partition by rubricName order by cnt_a) < 4 then row_number() over(partition by rubricName order by cnt_a) end min_a\n",
    "        ,case when row_number() over(partition by rubricName order by cnt_b) < 4 then row_number() over(partition by rubricName order by cnt_b) end min_b\n",
    "        ,case when row_number() over(partition by rubricName order by cnt_m) < 4 then row_number() over(partition by rubricName order by cnt_m) end min_m\n",
    "        ,case when row_number() over(partition by rubricName order by cnt_o) < 4 then row_number() over(partition by rubricName order by cnt_o) end min_o\n",
    "        ,case when row_number() over(partition by rubricName order by cnt_t) < 4 then row_number() over(partition by rubricName order by cnt_t) end min_t\n",
    "\n",
    "    from gr\n",
    "\n",
    "    ''').toPandas()\n",
    "    return dff1\n",
    "\n",
    "def make_linear_plots(input_filename, rubrics_df, cnt=9999, size_x=17.5, size_y=10.8, font_size=16, img_w=17.5, img_h=10.8, blank=False, word_sample='files/report.docx'):\n",
    "    def zero(x,y):\n",
    "        if x < 0:\n",
    "            return str(0) +'%'\n",
    "        return str(round(x,1)) +'%'\n",
    "    \n",
    "    dt_now = str(datetime.datetime.now())[2:-9].replace('-','').replace(':','').replace(' ','_')\n",
    "    word_file = f'{input_filename[:-5]}_report_{dt_now}.docx'\n",
    "    print(word_file)\n",
    "    cols1 = ['Рубрика','Час','Количество запросов Астана','Количество запросов Бишкек','Количество запросов Москва','Количество запросов ОАЭ','Количество запросов Ташкент']\n",
    "    cols2 = ['Рубрика','Дата','Количество запросов Астана','Количество запросов Бишкек','Количество запросов Москва','Количество запросов ОАЭ','Количество запросов Ташкент']\n",
    "    cols3 = ['Рубрика','Неделя','Количество запросов Астана','Количество запросов Бишкек','Количество запросов Москва','Количество запросов ОАЭ','Количество запросов Ташкент']\n",
    "    cols4 = ['Рубрика','День недели','Количество запросов Астана','Количество запросов Бишкек','Количество запросов Москва','Количество запросов ОАЭ','Количество запросов Ташкент']\n",
    "    dff1 = pd.read_excel(input_filename, sheet_name='Часы')[cols1]\n",
    "    dff2 = pd.read_excel(input_filename, sheet_name='Даты')[cols2]\n",
    "    dff3 = pd.read_excel(input_filename, sheet_name='Недели')[cols3]\n",
    "    dff4 = pd.read_excel(input_filename, sheet_name='Дни недели')[cols4]\n",
    "    \n",
    "    i = 0\n",
    "    for rubric in tqdm(rubrics_df[:].iloc[:,0].values[0:cnt]):\n",
    "        dff1_test = dff1[dff1['Рубрика'] == rubric].set_index(dff1.columns[1])\n",
    "        dff2_test = dff2[dff2['Рубрика'] == rubric].set_index(dff2.columns[1])\n",
    "        dff3_test = dff3[dff3['Рубрика'] == rubric].set_index(dff3.columns[1])\n",
    "        dff4_test = dff4[dff4['Рубрика'] == rubric].set_index(dff4.columns[1])\n",
    "        dff4_test.index = (['пн','вт','ср','чт','пт','сб','вс'])\n",
    "        dff1_test.index = dff1_test.index.astype(str)\n",
    "        i+=1\n",
    "        j=0\n",
    "        for d in [dff1_test, dff2_test, dff3_test, dff4_test]: \n",
    "            j+=1\n",
    "            fig, ax = plt.subplots()\n",
    "            ax = sns.lineplot(data = d, linewidth=3, palette=['#4F81BD', '#F79646', '#C0504D', '#9BBB59', '#264478'])\n",
    "            plt.rcParams['figure.figsize']=17,10.8\n",
    "            plt.rcParams['font.size'] = '16'\n",
    "            plt.rcParams['figure.dpi'] = 2**8\n",
    "            plt.rcParams['figure.facecolor'] = 'white'\n",
    "            fpath = Path(mpl.get_data_path(), r\"C:\\Users\\Mamed\\YandexDisk\\_Documents\\Проекты\\2ГИС 2023\\Лого\\arialnarrow.ttf\")\n",
    "            \n",
    "            \n",
    "            plt.legend(['Астана', 'Бишкек', 'Москва', 'ОАЭ', 'Ташкент'], prop=fpath)\n",
    "            plt.xticks(font=fpath)\n",
    "            plt.yticks(font=fpath)\n",
    "            plt.grid(visible=True, linewidth=0.3)\n",
    "            ax.set_xlabel('')\n",
    "            ax.yaxis.set_major_formatter(FuncFormatter(zero))\n",
    "            ax.xaxis.set_major_locator(ticker.MultipleLocator(1)) \n",
    "            ax.yaxis.set_major_locator(ticker.LinearLocator(numticks=6))  \n",
    "            title_text = f'{i:02}/{j}. {rubric}. '\n",
    "            img_file_name = input_filename.replace('files/','')[:-5]\n",
    "            img_file_name_final = f'pictures/{img_file_name}_{i:02}_{j}.png'\n",
    "            if 'Час' == d.index.name:\n",
    "                ax.set_title(f'{title_text}Запросы по часам, шт.', font=fpath)\n",
    "            elif 'Дата' == d.index.name:\n",
    "                ax.xaxis.set_major_locator(ticker.MultipleLocator(4)) \n",
    "                ax.set_title(f'{title_text}Запросы по датам, шт.', font=fpath)\n",
    "            elif 'Неделя' == d.index.name:\n",
    "                ax.set_title(f'{title_text}Запросы по неделям, шт.', font=fpath)\n",
    "            else:\n",
    "                ax.set_title(f'{title_text}Запросы по дням недели, шт.', font=fpath) \n",
    "            \n",
    "            im = plt.imread(r\"C:\\Users\\Mamed\\YandexDisk\\_Documents\\Проекты\\2ГИС 2023\\Лого\\лого_2гис_232_354.png\")\n",
    "            ax.figure.figimage(im, 3250, 150, zorder=1, alpha=0.5)\n",
    "          \n",
    "            im = plt.imread(r\"C:\\Users\\Mamed\\YandexDisk\\_Documents\\Проекты\\2ГИС 2023\\Лого\\лого_шт_232_354.png\")\n",
    "            ax.figure.figimage(im, 200, 1800, zorder=1, alpha=0.5)\n",
    "\n",
    "            ax.figure.savefig(img_file_name_final, bbox_inches='tight')\n",
    "            add_image(word_file, img_file_name_final, rubric, img_w=img_w, img_h=img_h, blank=blank,word_sample=word_sample)\n",
    "            #plt.show()\n",
    "            plt.close()"
   ]
  },
  {
   "cell_type": "code",
   "execution_count": 9,
   "id": "0d21bcb8-9a86-46cd-9ae4-ba123de61579",
   "metadata": {
    "execution": {
     "iopub.execute_input": "2023-04-21T19:45:48.101001Z",
     "iopub.status.busy": "2023-04-21T19:45:48.100002Z",
     "iopub.status.idle": "2023-04-21T19:45:56.066006Z",
     "shell.execute_reply": "2023-04-21T19:45:56.065006Z",
     "shell.execute_reply.started": "2023-04-21T19:45:48.101001Z"
    },
    "tags": []
   },
   "outputs": [],
   "source": [
    "df_new = spark.read.parquet(f'files/ten_city/df_dates')\n",
    "df_new.createOrReplaceTempView('df_new')"
   ]
  },
  {
   "cell_type": "code",
   "execution_count": 28,
   "id": "596f4765-5c17-47f4-933d-3c8bf2068d68",
   "metadata": {
    "execution": {
     "iopub.execute_input": "2023-04-21T20:01:27.293333Z",
     "iopub.status.busy": "2023-04-21T20:01:27.293333Z",
     "iopub.status.idle": "2023-04-21T20:01:27.297335Z",
     "shell.execute_reply": "2023-04-21T20:01:27.296340Z",
     "shell.execute_reply.started": "2023-04-21T20:01:27.293333Z"
    },
    "tags": []
   },
   "outputs": [],
   "source": [
    "df_new_list = []"
   ]
  },
  {
   "cell_type": "code",
   "execution_count": 29,
   "id": "5b2d0707-c8e2-4823-b066-c819cd2a6631",
   "metadata": {
    "execution": {
     "iopub.execute_input": "2023-04-21T20:01:27.556343Z",
     "iopub.status.busy": "2023-04-21T20:01:27.555345Z",
     "iopub.status.idle": "2023-04-21T20:13:32.056620Z",
     "shell.execute_reply": "2023-04-21T20:13:32.050619Z",
     "shell.execute_reply.started": "2023-04-21T20:01:27.556343Z"
    },
    "tags": []
   },
   "outputs": [
    {
     "name": "stderr",
     "output_type": "stream",
     "text": [
      "100%|███████████████████████████████████████████████████████████████████████████████████| 4/4 [12:04<00:00, 181.12s/it]\n"
     ]
    }
   ],
   "source": [
    "for i in tqdm(['hour_r','date_r','week_r','week_day_r']):\n",
    "    df_new_list.append(count_dates(i))"
   ]
  },
  {
   "cell_type": "code",
   "execution_count": 30,
   "id": "f9c61455-77bc-42e7-98fc-5f97b2a07e64",
   "metadata": {
    "execution": {
     "iopub.execute_input": "2023-04-21T20:13:32.061618Z",
     "iopub.status.busy": "2023-04-21T20:13:32.060618Z",
     "iopub.status.idle": "2023-04-21T20:13:32.119161Z",
     "shell.execute_reply": "2023-04-21T20:13:32.112156Z",
     "shell.execute_reply.started": "2023-04-21T20:13:32.061618Z"
    },
    "tags": []
   },
   "outputs": [],
   "source": [
    "dff1 = df_new_list[0]\n",
    "dff2 = df_new_list[1]\n",
    "dff3 = df_new_list[2]\n",
    "dff4 = df_new_list[3]"
   ]
  },
  {
   "cell_type": "code",
   "execution_count": 34,
   "id": "855ecc4c-bb58-4c95-a545-793269c6b1aa",
   "metadata": {
    "execution": {
     "iopub.execute_input": "2023-04-21T20:20:00.664301Z",
     "iopub.status.busy": "2023-04-21T20:20:00.664301Z",
     "iopub.status.idle": "2023-04-21T20:20:36.606765Z",
     "shell.execute_reply": "2023-04-21T20:20:36.605806Z",
     "shell.execute_reply.started": "2023-04-21T20:20:00.664301Z"
    },
    "tags": []
   },
   "outputs": [],
   "source": [
    "t = ['Рубрика', 'Час','Количество запросов Астана','Количество запросов Бишкек','Количество запросов Москва','Количество запросов ОАЭ','Количество запросов Ташкент',\n",
    "    'max_a', 'max_b', 'max_m', 'max_o', 'max_t', 'min_a', 'min_b', 'min_m', 'min_o', 'min_t']\n",
    "\n",
    "\n",
    "t[1] = 'Час'\n",
    "dff1.columns = t\n",
    "t[1] = 'Дата'\n",
    "dff2.columns = t\n",
    "t[1] = 'Неделя'\n",
    "dff3.columns = t\n",
    "t[1] = 'День недели'\n",
    "dff4.columns = t\n",
    "\n",
    "with pd.ExcelWriter(f'files/ten_city/df_dates.xlsx') as writer:\n",
    "    dff1.to_excel(writer, sheet_name='Часы', index=False)\n",
    "    dff2.to_excel(writer, sheet_name='Даты', index=False)\n",
    "    dff3.to_excel(writer, sheet_name='Недели', index=False)\n",
    "    dff4.to_excel(writer, sheet_name='Дни недели', index=False)"
   ]
  },
  {
   "cell_type": "code",
   "execution_count": 41,
   "id": "02e77313-d6f2-4acc-b0ea-12e1e394958e",
   "metadata": {
    "execution": {
     "iopub.execute_input": "2023-04-21T20:29:28.173330Z",
     "iopub.status.busy": "2023-04-21T20:29:28.173330Z",
     "iopub.status.idle": "2023-04-21T20:29:32.108627Z",
     "shell.execute_reply": "2023-04-21T20:29:32.105625Z",
     "shell.execute_reply.started": "2023-04-21T20:29:28.173330Z"
    },
    "tags": []
   },
   "outputs": [],
   "source": [
    "df_tx_grouped_filtered = spark.read.parquet(f\"files/ten_city/df_tx_grouped_filtered_ten_city\")\n",
    "df_tx_grouped_filtered.createOrReplaceTempView('df_tx_grouped_filtered')\n",
    "rubrics = spark.sql('''select distinct rubricName from df_tx_grouped_filtered''').collect()\n",
    "rubrics = [i.asDict()['rubricName'] for i in rubrics]\n",
    "rubrics = pd.DataFrame(rubrics)\n",
    "rubrics['Рейтинг рубрики'] = rubrics.index + 1"
   ]
  },
  {
   "cell_type": "code",
   "execution_count": null,
   "id": "574358eb-8498-44d3-9e0f-c0495b6d5813",
   "metadata": {},
   "outputs": [],
   "source": []
  },
  {
   "cell_type": "code",
   "execution_count": 75,
   "id": "04fec0c5-88e6-47ba-ac1f-f3500bf650c6",
   "metadata": {
    "execution": {
     "iopub.execute_input": "2023-04-21T22:21:27.511710Z",
     "iopub.status.busy": "2023-04-21T22:21:27.511710Z",
     "iopub.status.idle": "2023-04-21T22:28:07.141590Z",
     "shell.execute_reply": "2023-04-21T22:28:07.140567Z",
     "shell.execute_reply.started": "2023-04-21T22:21:27.511710Z"
    },
    "tags": []
   },
   "outputs": [
    {
     "name": "stdout",
     "output_type": "stream",
     "text": [
      "files/ten_city/df_dates_report_230422_0121.docx\n"
     ]
    },
    {
     "name": "stderr",
     "output_type": "stream",
     "text": [
      "100%|██████████████████████████████████████████████████████████████████████████████████| 25/25 [06:11<00:00, 14.87s/it]\n"
     ]
    }
   ],
   "source": [
    "make_linear_plots(f'files/ten_city/df_dates.xlsx', rubrics, 25)"
   ]
  },
  {
   "cell_type": "code",
   "execution_count": null,
   "id": "9b83eb4c-c385-4900-8ba1-100158f93122",
   "metadata": {},
   "outputs": [],
   "source": []
  }
 ],
 "metadata": {
  "kernelspec": {
   "display_name": "Python 3 (ipykernel)",
   "language": "python",
   "name": "python3"
  },
  "language_info": {
   "codemirror_mode": {
    "name": "ipython",
    "version": 3
   },
   "file_extension": ".py",
   "mimetype": "text/x-python",
   "name": "python",
   "nbconvert_exporter": "python",
   "pygments_lexer": "ipython3",
   "version": "3.9.12"
  }
 },
 "nbformat": 4,
 "nbformat_minor": 5
}
