{
 "cells": [
  {
   "cell_type": "code",
   "execution_count": 1,
   "id": "9c250040-1d8c-42b0-9fcc-083020e9b852",
   "metadata": {
    "execution": {
     "iopub.execute_input": "2023-05-10T22:22:53.722343Z",
     "iopub.status.busy": "2023-05-10T22:22:53.722343Z",
     "iopub.status.idle": "2023-05-10T22:23:06.848309Z",
     "shell.execute_reply": "2023-05-10T22:23:06.846101Z",
     "shell.execute_reply.started": "2023-05-10T22:22:53.722343Z"
    },
    "tags": []
   },
   "outputs": [
    {
     "name": "stdout",
     "output_type": "stream",
     "text": [
      "Ready: 2023-05-11 01:23:06\n"
     ]
    }
   ],
   "source": [
    "%run functions.ipynb"
   ]
  },
  {
   "cell_type": "code",
   "execution_count": 2,
   "id": "ecce0f46-097a-496d-9dce-6dcbbf008e7e",
   "metadata": {
    "collapsed": true,
    "execution": {
     "iopub.execute_input": "2023-05-10T06:52:30.560939Z",
     "iopub.status.busy": "2023-05-10T06:52:30.560939Z",
     "iopub.status.idle": "2023-05-10T06:52:34.985332Z",
     "shell.execute_reply": "2023-05-10T06:52:34.984349Z",
     "shell.execute_reply.started": "2023-05-10T06:52:30.560939Z"
    },
    "jupyter": {
     "outputs_hidden": true
    },
    "tags": []
   },
   "outputs": [
    {
     "data": {
      "text/html": [
       "\n",
       "            <div>\n",
       "                <p><b>SparkSession - in-memory</b></p>\n",
       "                \n",
       "        <div>\n",
       "            <p><b>SparkContext</b></p>\n",
       "\n",
       "            <p><a href=\"http://10.8.23.88:4040\">Spark UI</a></p>\n",
       "\n",
       "            <dl>\n",
       "              <dt>Version</dt>\n",
       "                <dd><code>v3.3.1</code></dd>\n",
       "              <dt>Master</dt>\n",
       "                <dd><code>local[*]</code></dd>\n",
       "              <dt>AppName</dt>\n",
       "                <dd><code>PySpark</code></dd>\n",
       "            </dl>\n",
       "        </div>\n",
       "        \n",
       "            </div>\n",
       "        "
      ],
      "text/plain": [
       "<pyspark.sql.session.SparkSession at 0x2461c169310>"
      ]
     },
     "execution_count": 2,
     "metadata": {},
     "output_type": "execute_result"
    }
   ],
   "source": [
    "findspark.init()\n",
    "from pyspark.sql import SparkSession\n",
    "try:\n",
    "    spark.stop()\n",
    "except:\n",
    "    pass\n",
    "spark = SparkSession.builder\\\n",
    "        .master(\"local[*]\")\\\n",
    "        .appName('PySpark')\\\n",
    "        .getOrCreate()\n",
    "spark"
   ]
  },
  {
   "cell_type": "code",
   "execution_count": null,
   "id": "1bb752fd-db91-4caa-a503-b2843d1542c2",
   "metadata": {
    "tags": []
   },
   "outputs": [],
   "source": [
    "def repack_file(file_name):\n",
    "    new_name = file_name.replace('\\\\', '\\\\\\\\').replace('.csv', '_repacked.csv')\n",
    "    print(new_name)\n",
    "    start_t = time.time()\n",
    "    df_schema = StructType([StructField('user', StringType(), True), StructField('proj', StringType(), True), StructField('rubricName', StringType(), True), StructField('rubricID', StringType(), True), StructField('time', StringType(), True), StructField('date', StringType(), True), StructField('org', StringType(), True), StructField('branch', StringType(), True), StructField('prod', StringType(), True), StructField('tx', StringType(), True), StructField('fl', StringType(), True), StructField('devmod', StringType(), True), StructField('lat', StringType(), True), StructField('lon', StringType(), True)])\n",
    "    df1 = spark.read.csv(file_name, header='true', schema=df_schema).selectExpr('rubricName','substr(time, 12, 8) as time','date','tx', 'hash(user) user').where('rubricName is not null')\n",
    "    df1.coalesce(1).write.format(\"com.databricks.spark.csv\").option(\"header\", \"true\").mode('overwrite').csv(new_name)  \n",
    "    end_t = time.time()\n",
    "    print(end_t-start_t)\n",
    "\n",
    "df = dd.read_csv(files_list[0][0])\n",
    "\n",
    "df.head()\n",
    "\n",
    "df.to_csv('df.csv', index=False)\n",
    "\n",
    "repack_file('df.csv')\n",
    "\n",
    "Пример форматирования строки:\n",
    "'За %g года я купил %d %s.' % (3.5, 7, 'верблюдов’)\n",
    "'{:020}'.format(1)\n",
    "\n",
    "Пример получения текущего рабочего каталога:\n",
    "import os\n",
    "cwd = os.getcwd() # текущий каталог\n",
    "os.listdir() #список файлов и каталогов текущего каталога\n",
    "os.walk(dirname) # все вложенные файлы и папки\n",
    "os.path.join(dir_name, file) # объединяем имя каталога и файла\n",
    "\n",
    "Пример проверки файлов/директорий:\n",
    "os.path.exists() #существует \n",
    "os.path.isdir() #каталог или нет \n",
    "os.path.isfile() #файл или нет\n",
    "\n",
    "Пример копирования/перемещения файлов:\n",
    "import shutil\n",
    "original = r'original path where the file is currently stored\\file name.file extension'\n",
    "target = r'target path where the file will be copied\\file name.file extension'\n",
    "shutil.copy(original, target)\n",
    "shutil.move(original, target)\n",
    "\n",
    "\n",
    "import shutil\n",
    "\n",
    "shutil.move()\n",
    "\n",
    "os.remove() removes a file.\n",
    "\n",
    "os.rmdir() removes an empty directory.\n",
    "\n",
    "shutil.rmtree() deletes a directory and all its contents."
   ]
  },
  {
   "cell_type": "code",
   "execution_count": 1,
   "id": "0f13053f-b7c3-4798-8016-da8dad74f92e",
   "metadata": {
    "execution": {
     "iopub.execute_input": "2023-05-10T15:11:17.913950Z",
     "iopub.status.busy": "2023-05-10T15:11:17.913950Z",
     "iopub.status.idle": "2023-05-10T15:12:09.239207Z",
     "shell.execute_reply": "2023-05-10T15:12:09.239207Z",
     "shell.execute_reply.started": "2023-05-10T15:11:17.913950Z"
    },
    "tags": []
   },
   "outputs": [],
   "source": [
    "df_dates_all = pd.concat([pd.read_parquet(f'files/ten_city/df_dates_{col_r}').rename({col_r: 'date_r'}, axis=1)[['rubricName', 'date_r', 'cnt', 'city', 'year_r']] for col_r in ['hour_r', 'date_r', 'week_r', 'week_day_r']])\n",
    "df_dates_all['city_rubric'] = df_dates_all['city'] + '. ' + df_dates_all['rubricName']\n",
    "df_dates_all = df_dates_all[~df_dates_all.rubricName.apply(lambda x: (x is None or x.isnumeric()))]\n",
    "df_dates_all['cnt_all'] = df_dates_all.groupby('city_rubric')['cnt'].transform(np.sum)\n",
    "df_dates_all['cnt_city_rubric'] = df_dates_all['cnt_all'].astype(str) + '_' + df_dates_all['city_rubric']\n",
    "dfx = pd.pivot_table(df_dates_all, values='cnt', aggfunc='sum', index=['date_r'], columns=['cnt_city_rubric'])\n",
    "t = dfx.corr().fillna(0).astype(np.float16)\n",
    "#with open('t.pkl', 'wb') as fp:\n",
    "#    pickle.dump(t, fp)"
   ]
  },
  {
   "cell_type": "code",
   "execution_count": 4,
   "id": "2e373110-5ad2-4dcf-a4a7-651998c81e0f",
   "metadata": {
    "execution": {
     "iopub.execute_input": "2023-05-10T17:19:27.838912Z",
     "iopub.status.busy": "2023-05-10T17:19:27.838912Z",
     "iopub.status.idle": "2023-05-10T17:28:36.348098Z",
     "shell.execute_reply": "2023-05-10T17:28:36.323569Z",
     "shell.execute_reply.started": "2023-05-10T17:19:27.838912Z"
    },
    "tags": []
   },
   "outputs": [],
   "source": [
    "with open('t.pkl', 'rb') as fp:\n",
    "    t = pickle.load(fp)\n",
    "    \n",
    "t = t.rename_axis([None]).rename_axis([None], axis=1)\n",
    "t1 = t.stack()\n",
    "t1 = t1.reset_index()\n",
    "t1.columns = ['r1', 'r2', 'corr']\n",
    "t1 = t1[t1.r1 != t1.r2]\n",
    "t1['r1_cnt'] = t1['r1'].apply(lambda s: str(s).split('_')[0]).astype(int)\n",
    "t1['r2_cnt'] = t1['r2'].apply(lambda s: str(s).split('_')[0]).astype(int)\n",
    "\n",
    "#with open('t1.pkl', 'wb') as fp:\n",
    "#    pickle.dump(t1, fp)"
   ]
  },
  {
   "cell_type": "code",
   "execution_count": null,
   "id": "179b4e51-b9a1-47b6-84a3-ca025cfb2816",
   "metadata": {},
   "outputs": [],
   "source": []
  },
  {
   "cell_type": "code",
   "execution_count": 5,
   "id": "edc4d8ef-5427-49a3-9c00-0b935d664413",
   "metadata": {
    "execution": {
     "iopub.execute_input": "2023-05-10T22:19:59.191506Z",
     "iopub.status.busy": "2023-05-10T22:19:59.191506Z",
     "iopub.status.idle": "2023-05-10T22:21:22.081180Z",
     "shell.execute_reply": "2023-05-10T22:21:22.066811Z",
     "shell.execute_reply.started": "2023-05-10T22:19:59.191506Z"
    },
    "tags": []
   },
   "outputs": [],
   "source": [
    "with open('t1.pkl', 'rb') as fp:\n",
    "    t1 = pickle.load(fp)\n",
    "\n",
    "#t1['cnt_diff'] = abs(t1.r1_cnt - t1.r2_cnt)\n",
    "#t2 = t1[(t1.r1_cnt > 10000) & (t1.r2_cnt > 10000)]\n",
    "#df_dates_all = pd.concat([pd.read_parquet(f'files/ten_city/df_dates_{col_r}').rename({col_r: 'date_r'}, axis=1)[['rubricName', 'date_r', 'cnt', 'city', 'year_r']] for col_r in ['hour_r', 'date_r', 'week_r', 'week_day_r']])\n",
    "#df_dates_all['city_rubric'] = df_dates_all['city'] + '. ' + df_dates_all['rubricName']"
   ]
  },
  {
   "cell_type": "code",
   "execution_count": null,
   "id": "e1e9ed54-6f67-4a4c-9951-ace147d8e9d1",
   "metadata": {},
   "outputs": [],
   "source": [
    "t1_m = t1[t1['corr'] < 0].sort_values(['cnt_diff', 'r1_cnt'], ascending=[True, False])\n",
    "t1_z = t1[t1['corr'] == 0].sort_values(['cnt_diff', 'r1_cnt'], ascending=[True, False])\n",
    "\n",
    "zero_corr = t1[t1['corr'] < abs(0.41)]\n",
    "zero_corr_rubrics = pd.concat([zero_corr.r1, zero_corr.r2]).drop_duplicates().values\n",
    "zero_corr_rubrics = [i.split('_')[1] for i in zero_corr_rubrics]"
   ]
  },
  {
   "cell_type": "code",
   "execution_count": 195,
   "id": "3efe9a68-b289-4579-934f-032e18a21c90",
   "metadata": {
    "execution": {
     "iopub.execute_input": "2023-05-10T20:29:46.617194Z",
     "iopub.status.busy": "2023-05-10T20:29:46.617194Z",
     "iopub.status.idle": "2023-05-10T20:30:11.784072Z",
     "shell.execute_reply": "2023-05-10T20:30:11.783068Z",
     "shell.execute_reply.started": "2023-05-10T20:29:46.617194Z"
    },
    "tags": []
   },
   "outputs": [],
   "source": [
    "st1 = t2[t2['corr'] > 0.95].sample(1000)\n",
    "st2 = t1[t1['corr'] < 0.95].sample(1000)\n",
    "st3 = t1[(abs(t1['corr']) == 0)].sample(1000)\n",
    "st4 = t1[(t1.r1_cnt > 15000000) & (t1.r2_cnt > 15000000)]"
   ]
  },
  {
   "cell_type": "code",
   "execution_count": 196,
   "id": "82311ef1-7544-4de8-8f82-22eb7c531d87",
   "metadata": {
    "execution": {
     "iopub.execute_input": "2023-05-10T20:30:29.414042Z",
     "iopub.status.busy": "2023-05-10T20:30:29.414042Z",
     "iopub.status.idle": "2023-05-10T20:30:29.444497Z",
     "shell.execute_reply": "2023-05-10T20:30:29.444497Z",
     "shell.execute_reply.started": "2023-05-10T20:30:29.414042Z"
    },
    "tags": []
   },
   "outputs": [],
   "source": [
    "st1['group'] = 'corr>0.95'\n",
    "st2['group'] = 'corr<0.95'\n",
    "st3['group'] = 'corr=0'\n",
    "st4['group'] = '>15 млн.запросов'"
   ]
  },
  {
   "cell_type": "code",
   "execution_count": 203,
   "id": "327bc828-d223-4faa-af35-24ead57dffa5",
   "metadata": {
    "execution": {
     "iopub.execute_input": "2023-05-10T20:32:07.208584Z",
     "iopub.status.busy": "2023-05-10T20:32:07.208584Z",
     "iopub.status.idle": "2023-05-10T20:32:07.218181Z",
     "shell.execute_reply": "2023-05-10T20:32:07.218181Z",
     "shell.execute_reply.started": "2023-05-10T20:32:07.208584Z"
    },
    "tags": []
   },
   "outputs": [],
   "source": [
    "st = pd.concat([st1, st2, st3, st4])"
   ]
  },
  {
   "cell_type": "code",
   "execution_count": 204,
   "id": "ce718308-36f7-44cf-a3d8-9f0e4186f215",
   "metadata": {
    "execution": {
     "iopub.execute_input": "2023-05-10T20:32:07.478994Z",
     "iopub.status.busy": "2023-05-10T20:32:07.478067Z",
     "iopub.status.idle": "2023-05-10T20:32:07.490662Z",
     "shell.execute_reply": "2023-05-10T20:32:07.490662Z",
     "shell.execute_reply.started": "2023-05-10T20:32:07.478994Z"
    },
    "tags": []
   },
   "outputs": [],
   "source": [
    "st['r1'] = st['r1'].apply(lambda x: x.split('_')[1])\n",
    "st['r2'] = st['r2'].apply(lambda x: x.split('_')[1])"
   ]
  },
  {
   "cell_type": "code",
   "execution_count": 206,
   "id": "1d0973ee-3047-4519-85d9-4caa5dbc1df2",
   "metadata": {
    "execution": {
     "iopub.execute_input": "2023-05-10T20:32:39.227604Z",
     "iopub.status.busy": "2023-05-10T20:32:39.227604Z",
     "iopub.status.idle": "2023-05-10T20:32:39.821799Z",
     "shell.execute_reply": "2023-05-10T20:32:39.821799Z",
     "shell.execute_reply.started": "2023-05-10T20:32:39.227604Z"
    },
    "tags": []
   },
   "outputs": [],
   "source": [
    "st.to_excel('Таблица_Диплом_корреляции_230510_2345.xlsx')"
   ]
  },
  {
   "cell_type": "code",
   "execution_count": 215,
   "id": "b918b7a5-8984-4a2f-9c6f-2302c106dfa8",
   "metadata": {
    "execution": {
     "iopub.execute_input": "2023-05-10T22:03:11.845051Z",
     "iopub.status.busy": "2023-05-10T22:03:11.845051Z",
     "iopub.status.idle": "2023-05-10T22:03:59.927674Z",
     "shell.execute_reply": "2023-05-10T22:03:59.926697Z",
     "shell.execute_reply.started": "2023-05-10T22:03:11.845051Z"
    },
    "tags": []
   },
   "outputs": [],
   "source": [
    "t_al = t1[t1.r1.apply(lambda x: ('Астана.' in x)&('Косметика' in x))]"
   ]
  },
  {
   "cell_type": "code",
   "execution_count": null,
   "id": "495c363c-53c4-4920-96d3-2178b8f73c90",
   "metadata": {
    "execution": {
     "iopub.execute_input": "2023-05-10T22:15:30.714893Z",
     "iopub.status.busy": "2023-05-10T22:15:30.714893Z",
     "iopub.status.idle": "2023-05-10T22:15:31.139294Z",
     "shell.execute_reply": "2023-05-10T22:15:31.138370Z",
     "shell.execute_reply.started": "2023-05-10T22:15:30.714893Z"
    }
   },
   "outputs": [],
   "source": [
    "t_al = t_al[t_al.r2.apply(lambda x: ('Астана.' not in x)&('Косметика' not in x))]"
   ]
  },
  {
   "cell_type": "code",
   "execution_count": 2,
   "id": "441a46bb-9d34-4c94-97a6-e61dfebc4586",
   "metadata": {
    "execution": {
     "iopub.execute_input": "2023-05-10T22:23:11.204909Z",
     "iopub.status.busy": "2023-05-10T22:23:11.204909Z",
     "iopub.status.idle": "2023-05-10T22:23:47.431380Z",
     "shell.execute_reply": "2023-05-10T22:23:47.429865Z",
     "shell.execute_reply.started": "2023-05-10T22:23:11.204909Z"
    },
    "tags": []
   },
   "outputs": [],
   "source": [
    "with open('t1.pkl', 'rb') as fp:\n",
    "    t1 = pickle.load(fp)"
   ]
  },
  {
   "cell_type": "code",
   "execution_count": 26,
   "id": "921125a4-b9cd-40b2-8867-2168f4b1cea0",
   "metadata": {
    "execution": {
     "iopub.execute_input": "2023-05-10T23:18:07.901328Z",
     "iopub.status.busy": "2023-05-10T23:18:07.901328Z",
     "iopub.status.idle": "2023-05-10T23:18:53.336472Z",
     "shell.execute_reply": "2023-05-10T23:18:53.335473Z",
     "shell.execute_reply.started": "2023-05-10T23:18:07.901328Z"
    },
    "tags": []
   },
   "outputs": [],
   "source": [
    "t_al = t1[t1.r1.apply(lambda x: ('Ташкент.' in x)&('Мясо птицы' in x))]\n",
    "t_al = t_al[t_al.r2.apply(lambda x: ('Ташкент.' not in x)&('Мясо птицы' not in x.lower()))]"
   ]
  },
  {
   "cell_type": "code",
   "execution_count": 27,
   "id": "ad63d843-4e59-4e1b-a967-f94a8f82425a",
   "metadata": {
    "execution": {
     "iopub.execute_input": "2023-05-10T23:18:53.338475Z",
     "iopub.status.busy": "2023-05-10T23:18:53.338475Z",
     "iopub.status.idle": "2023-05-10T23:18:53.352504Z",
     "shell.execute_reply": "2023-05-10T23:18:53.351503Z",
     "shell.execute_reply.started": "2023-05-10T23:18:53.338475Z"
    },
    "tags": []
   },
   "outputs": [
    {
     "data": {
      "text/plain": [
       "(12350, 5)"
      ]
     },
     "execution_count": 27,
     "metadata": {},
     "output_type": "execute_result"
    }
   ],
   "source": [
    "t_al.shape"
   ]
  },
  {
   "cell_type": "code",
   "execution_count": 28,
   "id": "7d1e6264-bbff-4a6d-98e3-b458b4cfa2ac",
   "metadata": {
    "execution": {
     "iopub.execute_input": "2023-05-10T23:18:53.354505Z",
     "iopub.status.busy": "2023-05-10T23:18:53.353505Z",
     "iopub.status.idle": "2023-05-10T23:18:54.817541Z",
     "shell.execute_reply": "2023-05-10T23:18:54.816543Z",
     "shell.execute_reply.started": "2023-05-10T23:18:53.354505Z"
    },
    "tags": []
   },
   "outputs": [],
   "source": [
    "t_al.to_excel('t_al.xlsx', index=False)"
   ]
  },
  {
   "cell_type": "code",
   "execution_count": null,
   "id": "51de5401-31f1-498b-9d8c-72f888940ee4",
   "metadata": {},
   "outputs": [],
   "source": []
  },
  {
   "cell_type": "code",
   "execution_count": null,
   "id": "3b5ffb04-aeee-4072-86a3-937980da2adf",
   "metadata": {},
   "outputs": [],
   "source": []
  },
  {
   "cell_type": "code",
   "execution_count": null,
   "id": "2aa47c4c-e1ad-424b-91d3-e6b1b7bbdfb7",
   "metadata": {},
   "outputs": [],
   "source": []
  },
  {
   "cell_type": "code",
   "execution_count": null,
   "id": "1c72d9bd-644e-41ad-b3d0-bf1f19b90551",
   "metadata": {},
   "outputs": [],
   "source": []
  },
  {
   "cell_type": "code",
   "execution_count": null,
   "id": "a7ec9c5b-5728-4886-874c-a52c585c1286",
   "metadata": {},
   "outputs": [],
   "source": []
  },
  {
   "cell_type": "code",
   "execution_count": 91,
   "id": "9c322f01-5caa-48ba-ae7c-e7d40cc1fa8e",
   "metadata": {
    "execution": {
     "iopub.execute_input": "2023-05-10T19:54:44.812959Z",
     "iopub.status.busy": "2023-05-10T19:54:44.812448Z",
     "iopub.status.idle": "2023-05-10T19:54:44.835603Z",
     "shell.execute_reply": "2023-05-10T19:54:44.832486Z",
     "shell.execute_reply.started": "2023-05-10T19:54:44.812959Z"
    }
   },
   "outputs": [],
   "source": [
    "fpath = Path(mpl.get_data_path(), r\"C:\\Users\\Mamed\\YandexDisk\\_Documents\\Проекты\\2ГИС 2023\\Лого\\arialnarrow.ttf\")"
   ]
  },
  {
   "cell_type": "markdown",
   "id": "bc01502b-fee2-4075-a100-a7dc284ff706",
   "metadata": {
    "execution": {
     "iopub.execute_input": "2023-05-10T21:17:21.961537Z",
     "iopub.status.busy": "2023-05-10T21:17:21.961537Z",
     "iopub.status.idle": "2023-05-10T21:17:25.964371Z",
     "shell.execute_reply": "2023-05-10T21:17:25.963470Z",
     "shell.execute_reply.started": "2023-05-10T21:17:21.961537Z"
    },
    "tags": []
   },
   "source": [
    "negative_corr = t1_m.iloc[:1000]\n",
    "negative_corr_rubrics = pd.concat([negative_corr.r1, negative_corr.r2]).drop_duplicates().values\n",
    "negative_corr_rubrics = [i.split('_')[1] for i in negative_corr_rubrics]\n",
    "\n",
    "df_dates_negative = df_dates_all[df_dates_all['city_rubric'].apply(lambda x: (x in negative_corr_rubrics[:25] ))]\n",
    "\n",
    "dfx = pd.pivot_table(df_dates_negative, values='cnt', aggfunc='sum', index=['date_r'], columns=['city_rubric'])\n",
    "t = dfx.corr().fillna(0)\n",
    "\n",
    "sns.set_style({'font':fpath})\n",
    "sns.heatmap(t, annot=False, cbar=False)\n",
    "\n",
    "plt.show()"
   ]
  },
  {
   "cell_type": "markdown",
   "id": "ae792f78-623e-447b-9ef1-c22cd79dc594",
   "metadata": {
    "execution": {
     "iopub.execute_input": "2023-05-10T20:13:35.967806Z",
     "iopub.status.busy": "2023-05-10T20:13:35.967806Z",
     "iopub.status.idle": "2023-05-10T20:13:37.738608Z",
     "shell.execute_reply": "2023-05-10T20:13:37.737695Z",
     "shell.execute_reply.started": "2023-05-10T20:13:35.967806Z"
    },
    "tags": []
   },
   "source": [
    "positive_corr = t2[t2['corr'] == 1]\n",
    "positive_corr_rubrics = pd.concat([positive_corr.r1, positive_corr.r2]).drop_duplicates().values\n",
    "positive_corr_rubrics = [i.split('_')[1] for i in positive_corr_rubrics]\n",
    "\n",
    "df_dates_positive = df_dates_all[df_dates_all['city_rubric'].apply(lambda x: (x in positive_corr_rubrics[:12] ))]\n",
    "\n",
    "dfx = pd.pivot_table(df_dates_positive, values='cnt', aggfunc='sum', index=['date_r'], columns=['city_rubric'])\n",
    "t = dfx.corr().fillna(0)\n",
    "\n",
    "#sns.heatmap(t, annot=True, cbar=False, annot_kws={'font':fpath})\n",
    "sns.heatmap(t, annot=True, cbar=False, annot_kws={'font':fpath})\n",
    "plt.show()"
   ]
  },
  {
   "cell_type": "markdown",
   "id": "3dccd191-10d3-4e44-a653-7b812234e020",
   "metadata": {
    "execution": {
     "iopub.execute_input": "2023-05-10T20:13:16.624761Z",
     "iopub.status.busy": "2023-05-10T20:13:16.624761Z",
     "iopub.status.idle": "2023-05-10T20:13:18.475378Z",
     "shell.execute_reply": "2023-05-10T20:13:18.475378Z",
     "shell.execute_reply.started": "2023-05-10T20:13:16.624761Z"
    },
    "tags": []
   },
   "source": [
    "negative_corr = t1_m.iloc[:25]\n",
    "negative_corr_rubrics = pd.concat([negative_corr.r1, negative_corr.r2]).drop_duplicates().values\n",
    "negative_corr_rubrics = [i.split('_')[1] for i in negative_corr_rubrics]\n",
    "\n",
    "df_dates_negative = df_dates_all[df_dates_all['city_rubric'].apply(lambda x: (x in negative_corr_rubrics[:12] ))]\n",
    "\n",
    "dfx = pd.pivot_table(df_dates_negative, values='cnt', aggfunc='sum', index=['date_r'], columns=['city_rubric'])\n",
    "t = dfx.corr().fillna(0)\n",
    "\n",
    "sns.heatmap(t, annot=True, cbar=False)\n",
    "plt.show()"
   ]
  },
  {
   "cell_type": "markdown",
   "id": "c18c2590-6bdd-4291-873f-f44a3c361f37",
   "metadata": {
    "execution": {
     "iopub.execute_input": "2023-05-10T20:13:21.138778Z",
     "iopub.status.busy": "2023-05-10T20:13:21.138778Z",
     "iopub.status.idle": "2023-05-10T20:13:22.951473Z",
     "shell.execute_reply": "2023-05-10T20:13:22.950802Z",
     "shell.execute_reply.started": "2023-05-10T20:13:21.138778Z"
    },
    "tags": []
   },
   "source": [
    "df_dates_zero = df_dates_all[df_dates_all['city_rubric'].apply(lambda x: (x in zero_corr_rubrics[:12]))]\n",
    "\n",
    "dfx = pd.pivot_table(df_dates_zero, values='cnt', aggfunc='sum', index=['date_r'], columns=['city_rubric'])\n",
    "t = dfx.corr().fillna(0)\n",
    "\n",
    "sns.heatmap(t, annot=True, cbar=False)\n",
    "plt.show()"
   ]
  },
  {
   "cell_type": "code",
   "execution_count": null,
   "id": "f8329de8-ce35-4b88-bd78-63837ed93020",
   "metadata": {},
   "outputs": [],
   "source": []
  },
  {
   "cell_type": "code",
   "execution_count": null,
   "id": "5141c10e-da2d-48f7-94b0-816f9a97904e",
   "metadata": {},
   "outputs": [],
   "source": []
  },
  {
   "cell_type": "code",
   "execution_count": null,
   "id": "7ce9f719-16b4-463a-b6a5-0c81e15b5e5d",
   "metadata": {},
   "outputs": [],
   "source": []
  },
  {
   "cell_type": "code",
   "execution_count": null,
   "id": "a0819a8c-a049-431c-9571-7b8184be6d75",
   "metadata": {},
   "outputs": [],
   "source": []
  },
  {
   "cell_type": "code",
   "execution_count": null,
   "id": "a12123b3-8ecc-4ecb-a23d-64f19a8e9ce1",
   "metadata": {},
   "outputs": [],
   "source": []
  }
 ],
 "metadata": {
  "kernelspec": {
   "display_name": "Python 3 (ipykernel)",
   "language": "python",
   "name": "python3"
  },
  "language_info": {
   "codemirror_mode": {
    "name": "ipython",
    "version": 3
   },
   "file_extension": ".py",
   "mimetype": "text/x-python",
   "name": "python",
   "nbconvert_exporter": "python",
   "pygments_lexer": "ipython3",
   "version": "3.9.12"
  }
 },
 "nbformat": 4,
 "nbformat_minor": 5
}
