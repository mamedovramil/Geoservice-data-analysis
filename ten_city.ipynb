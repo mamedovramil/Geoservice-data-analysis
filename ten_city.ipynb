{
 "cells": [
  {
   "cell_type": "code",
   "execution_count": 108,
   "id": "696175c9-278e-4ec3-96ae-d819f44cf808",
   "metadata": {
    "execution": {
     "iopub.execute_input": "2023-04-26T20:42:03.959267Z",
     "iopub.status.busy": "2023-04-26T20:42:03.959267Z",
     "iopub.status.idle": "2023-04-26T20:42:04.511588Z",
     "shell.execute_reply": "2023-04-26T20:42:04.511588Z",
     "shell.execute_reply.started": "2023-04-26T20:42:03.959267Z"
    },
    "tags": []
   },
   "outputs": [
    {
     "name": "stdout",
     "output_type": "stream",
     "text": [
      "Ready: 2023-04-26 23:42:04\n"
     ]
    }
   ],
   "source": [
    "%run functions.ipynb"
   ]
  },
  {
   "cell_type": "markdown",
   "id": "c136214c-e2a1-4760-b118-34f17f9b8323",
   "metadata": {
    "jp-MarkdownHeadingCollapsed": true,
    "tags": []
   },
   "source": [
    "# Введение"
   ]
  },
  {
   "cell_type": "code",
   "execution_count": 290,
   "id": "b198620c-420b-4cd2-883f-5b211247d4f7",
   "metadata": {
    "execution": {
     "iopub.execute_input": "2023-04-25T00:04:28.740442Z",
     "iopub.status.busy": "2023-04-25T00:04:28.739442Z",
     "iopub.status.idle": "2023-04-25T00:04:28.758461Z",
     "shell.execute_reply": "2023-04-25T00:04:28.754442Z",
     "shell.execute_reply.started": "2023-04-25T00:04:28.740442Z"
    },
    "tags": []
   },
   "outputs": [],
   "source": [
    "def make_hse_image(df, output_file_name=None, cols_without_color=[0], dedup_cols=None, col_width=1.0, row_height=0.625, font_size=28,\n",
    "                     header_color='#249FD8', row_colors=['#D2DDF1', 'w'], edge_color='w',\n",
    "                     bbox=[0, 0, 1, 1], header_columns=0,\n",
    "                     ax=None, show=False, **kwargs):\n",
    "    rating_col = df.columns[-1]\n",
    "    data = df.sort_values(rating_col, ascending=False)\n",
    "    data_separeted_numbers = data.copy()\n",
    "    for col in data.columns[1:]:\n",
    "        data_separeted_numbers[col] = data[col].apply(make_sep)\n",
    "        if col in ['Пользователи, %', 'Запросы, %', 'Запросов на пользователя,\\nитого']:\n",
    "            data_separeted_numbers[col] = data[col].apply(lambda x: str(x).replace('.',','))\n",
    "        \n",
    "    if ax is None:\n",
    "        size = (np.array([6.3*4, 3.94*4]))\n",
    "        fig, ax = plt.subplots(figsize=size, dpi=2**8)\n",
    "        ax.axis('off')\n",
    "\n",
    "    mpl_table = ax.table(cellText=data_separeted_numbers.values, bbox=bbox, colLabels=data.columns, colLoc='center', loc='bottom')\n",
    "    mpl_table.auto_set_font_size(False)\n",
    "    cells_dict = dict(six.iteritems(mpl_table._cells))\n",
    "    \n",
    "    #im = plt.imread(r\"C:\\Users\\Mamed\\YandexDisk\\_Documents\\Проекты\\2ГИС 2023\\Лого\\Лого_2ГИС_230401_1600.png\")\n",
    "    #ax.figure.figimage(im, 43, 44, zorder=1, alpha=0.5)\n",
    "#\n",
    "    #im = plt.imread(r\"C:\\Users\\Mamed\\YandexDisk\\_Documents\\Проекты\\2ГИС 2023\\Лого\\лого_ШТ_230401_1600.png\")\n",
    "    #ax.figure.figimage(im, 43, 1068, zorder=1, alpha=0.5)\n",
    "    \n",
    "    fpath = Path(mpl.get_data_path(), r\"C:\\Users\\Mamed\\YandexDisk\\_Documents\\Проекты\\2ГИС 2023\\Лого\\arialnarrow.ttf\")\n",
    "    colors_dict = colorize_column(df, cols_not_to_color=cols_without_color)\n",
    "    colors_dict.update(colorize_column(data, cols_not_to_color=list(range(data.shape[1]-1))), filter_zero=True)\n",
    "    colors = ([color_list_full[i] for i in range(0, len(color_list_full), len(color_list_full) % 15)] + [color_list_full[-1]]) \n",
    "    \n",
    "    for k in sorted(cells_dict.keys()): #k[0] - строка, k[1] - столбец\n",
    "        cell = cells_dict[k]\n",
    "        cell.set_edgecolor(edge_color)\n",
    "        row_index = k[0]\n",
    "        column_index = k[1]\n",
    "        \n",
    "        # Высота и цвет заголовков\n",
    "        if row_index == 0:\n",
    "            rotation='horizontal' if k == (0,0) else 'vertical' \n",
    "            cell.set_text_props(color='w', rotation=rotation, ha='center')\n",
    "            cell.set_facecolor(header_color)\n",
    "            cell.set_height(0.05)\n",
    "            \n",
    "        # Высота и цвет остальных строк\n",
    "        else:\n",
    "            ha = 'left' if column_index ==0 else 'right'\n",
    "            cell.set_facecolor(row_colors[k[0]%len(row_colors)])\n",
    "            cell.set_height(0.008)\n",
    "            cell.set_text_props(wrap=True, ha=ha)\n",
    "        \n",
    "        # Ширина столбцов\n",
    "        if column_index == 0:\n",
    "            cell.set_width(0.006)\n",
    "        elif column_index == 6:\n",
    "            cell.set_width(0.0008)\n",
    "        else:\n",
    "            cell.set_width(0.0016)\n",
    "                        \n",
    "        # Цветвоая шкала\n",
    "        if row_index > 0 and column_index not in cols_without_color and row_index<16:\n",
    "            cell.set_facecolor(colors.pop(0).upper())       \n",
    "            \n",
    "        if row_index == 16:\n",
    "            cell.set_text_props(color='w')\n",
    "            cell.set_facecolor(header_color) \n",
    "            if column_index == 6:\n",
    "                cell.set_text_props(color=header_color)\n",
    "            \n",
    "        # Шрифт\n",
    "        cell.set_text_props(font=fpath, fontsize=font_size)\n",
    "    if output_file_name:\n",
    "        fig.savefig(f'{output_file_name}', bbox_inches='tight')\n",
    "    if show:\n",
    "        plt.show()\n",
    "    plt.close()    \n"
   ]
  },
  {
   "cell_type": "code",
   "execution_count": 291,
   "id": "45eb1002-d479-4ddf-b389-a10706939a8d",
   "metadata": {
    "execution": {
     "iopub.execute_input": "2023-04-25T00:04:29.043121Z",
     "iopub.status.busy": "2023-04-25T00:04:29.043121Z",
     "iopub.status.idle": "2023-04-25T00:04:29.302341Z",
     "shell.execute_reply": "2023-04-25T00:04:29.301228Z",
     "shell.execute_reply.started": "2023-04-25T00:04:29.043121Z"
    },
    "tags": []
   },
   "outputs": [],
   "source": [
    "df = pd.read_excel('files/ten_city/ratings_df.xlsx').fillna(0).astype(\n",
    "    {'Рубрика':str, \n",
    "'Пользователи 2020':int,\n",
    "'Пользователи 2021':int,\n",
    "'Пользователи 2022':int,\n",
    "'Пользователи 2023':int,\n",
    "'Пользователи, итого':int,\n",
    "'Пользователи, %' : float,\n",
    "'Запросы 2020':int,\n",
    "'Запросы 2021':int,\n",
    "'Запросы 2022':int,\n",
    "'Запросы 2023':int,\n",
    "'Запросы, итого':int,\n",
    "'Запросы, %' : float,                                                                      \n",
    "})\n",
    "\n",
    "df['Запросы, %'] = df['Запросы, %'].round(1)\n",
    "df['Пользователи, %'] = df['Пользователи, %'].round(1)\n",
    "\n",
    "df_users = df[[\n",
    "    'Рубрика',\n",
    "    'Пользователи 2020',\n",
    "    'Пользователи 2021',\n",
    "    'Пользователи 2022',\n",
    "    'Пользователи 2023',\n",
    "    'Пользователи, итого',\n",
    "    'Пользователи, %'\n",
    "]].iloc[list(range(15))+[-1]].sort_values('Пользователи, итого', ascending=False)\n",
    "\n",
    "df_requests = df[[\n",
    "    'Рубрика',\n",
    "    'Запросы 2020',\n",
    "    'Запросы 2021',\n",
    "    'Запросы 2022',\n",
    "    'Запросы 2023',\n",
    "    'Запросы, итого',\n",
    "    'Запросы, %'\n",
    "]].iloc[list(range(15))+[-1]].sort_values('Запросы, итого', ascending=False)\n",
    "\n",
    "#249FD8\n",
    "#7FA2D3\n",
    "#D2DDF1"
   ]
  },
  {
   "cell_type": "code",
   "execution_count": null,
   "id": "a000d2f7-3677-4fcd-a699-5dd41c83102d",
   "metadata": {
    "execution": {
     "iopub.execute_input": "2023-04-25T00:05:00.814520Z",
     "iopub.status.busy": "2023-04-25T00:05:00.813518Z",
     "iopub.status.idle": "2023-04-25T00:05:02.854145Z",
     "shell.execute_reply": "2023-04-25T00:05:02.853245Z",
     "shell.execute_reply.started": "2023-04-25T00:05:00.814520Z"
    },
    "tags": []
   },
   "outputs": [],
   "source": [
    "now = str(datetime.datetime.now())[:-9].replace('-','').replace(' ','_').replace(':','')\n",
    "make_hse_image(df_requests, f'requests_{now}.png', show=True)"
   ]
  },
  {
   "cell_type": "code",
   "execution_count": null,
   "id": "ab2cfd71-1ac9-46af-9d59-25c8b1b750f2",
   "metadata": {
    "execution": {
     "iopub.execute_input": "2023-04-25T00:05:02.856152Z",
     "iopub.status.busy": "2023-04-25T00:05:02.856152Z",
     "iopub.status.idle": "2023-04-25T00:05:04.923690Z",
     "shell.execute_reply": "2023-04-25T00:05:04.922653Z",
     "shell.execute_reply.started": "2023-04-25T00:05:02.856152Z"
    },
    "tags": []
   },
   "outputs": [],
   "source": [
    "now = str(datetime.datetime.now())[:-9].replace('-','').replace(' ','_').replace(':','')\n",
    "make_hse_image(df_users, f'users_{now}.png', show=True)"
   ]
  },
  {
   "cell_type": "code",
   "execution_count": 299,
   "id": "13c1e189-fdbc-4667-b4a8-39ee0891af4b",
   "metadata": {
    "execution": {
     "iopub.execute_input": "2023-04-25T00:10:40.950735Z",
     "iopub.status.busy": "2023-04-25T00:10:40.950735Z",
     "iopub.status.idle": "2023-04-25T00:10:40.981818Z",
     "shell.execute_reply": "2023-04-25T00:10:40.978357Z",
     "shell.execute_reply.started": "2023-04-25T00:10:40.950735Z"
    },
    "tags": []
   },
   "outputs": [],
   "source": [
    "def make_hse_image2(df, output_file_name=None, cols_without_color=[0], dedup_cols=None, col_width=1.0, row_height=0.625, font_size=28,\n",
    "                     header_color='#249FD8', row_colors=['#D2DDF1', 'w'], edge_color='w',\n",
    "                     bbox=[0, 0, 1, 1], header_columns=0,\n",
    "                     ax=None, show=False, **kwargs):\n",
    "    rating_col = df.columns[-1]\n",
    "    data = df\n",
    "    data['Население'] = data['Население'].apply(make_sep)\n",
    "    if ax is None:\n",
    "        size = (np.array([6.3*4, 3.94*4]))\n",
    "        fig, ax = plt.subplots(figsize=size, dpi=2**8)\n",
    "        ax.axis('off')\n",
    "\n",
    "    mpl_table = ax.table(cellText=data.values, bbox=bbox, colLabels=data.columns, colLoc='center', loc='bottom')\n",
    "    mpl_table.auto_set_font_size(False)\n",
    "    cells_dict = dict(six.iteritems(mpl_table._cells))\n",
    "    \n",
    "    #im = plt.imread(r\"C:\\Users\\Mamed\\YandexDisk\\_Documents\\Проекты\\2ГИС 2023\\Лого\\Лого_2ГИС_230401_1600.png\")\n",
    "    #ax.figure.figimage(im, 43, 44, zorder=1, alpha=0.5)\n",
    "#\n",
    "    #im = plt.imread(r\"C:\\Users\\Mamed\\YandexDisk\\_Documents\\Проекты\\2ГИС 2023\\Лого\\лого_ШТ_230401_1600.png\")\n",
    "    #ax.figure.figimage(im, 43, 1068, zorder=1, alpha=0.5)\n",
    "    \n",
    "    fpath = Path(mpl.get_data_path(), r\"C:\\Users\\Mamed\\YandexDisk\\_Documents\\Проекты\\2ГИС 2023\\Лого\\arialnarrow.ttf\")\n",
    "    #colors_dict = colorize_column(df, cols_not_to_color=cols_without_color)\n",
    "    #colors_dict.update(colorize_column(data, cols_not_to_color=list(range(data.shape[1]-1))), filter_zero=True)\n",
    "    colors = ([color_list_full[i] for i in range(0, len(color_list_full), len(color_list_full) % 20)] + [color_list_full[-1]]) \n",
    "    \n",
    "    for k in sorted(cells_dict.keys()): #k[0] - строка, k[1] - столбец\n",
    "        cell = cells_dict[k]\n",
    "        cell.set_edgecolor(edge_color)\n",
    "        row_index = k[0]\n",
    "        column_index = k[1]\n",
    "        \n",
    "        # Высота и цвет заголовков\n",
    "        if row_index == 0:\n",
    "            rotation='horizontal' if k == (0,0) else 'vertical' \n",
    "            cell.set_text_props(color='w', ha='center')\n",
    "            cell.set_facecolor(header_color)\n",
    "            cell.set_height(0.04)\n",
    "            \n",
    "        # Высота и цвет остальных строк\n",
    "        else:\n",
    "            ha = 'left' if column_index in (0,1,2) else 'right'\n",
    "            cell.set_facecolor(row_colors[k[0]%len(row_colors)])\n",
    "            cell.set_height(0.008)\n",
    "            cell.set_text_props(wrap=True, ha=ha)\n",
    "        \n",
    "        # Ширина столбцов\n",
    "        if column_index == 0:\n",
    "            cell.set_width(0.0001)\n",
    "            cell.set_text_props(ha='right')\n",
    "        else:\n",
    "            cell.set_width(0.0006)\n",
    "            \n",
    "        if row_index == 0 and column_index == 0:\n",
    "            cell.set_text_props(ha='center')\n",
    "\n",
    "        # Цветвоая шкала\n",
    "        if row_index > 0 and column_index == 3:\n",
    "            cell.set_facecolor(colors.pop(0).upper())       \n",
    "            \n",
    "        if row_index == 18:\n",
    "            cell.set_text_props(color='w')\n",
    "            cell.set_facecolor(header_color) \n",
    "            if column_index == 1 or column_index == 2:\n",
    "                cell.set_text_props(color=header_color)\n",
    "            \n",
    "        # Шрифт\n",
    "        cell.set_text_props(font=fpath, fontsize=font_size)\n",
    "    if output_file_name:\n",
    "        fig.savefig(f'{output_file_name}', bbox_inches='tight')\n",
    "    if show:\n",
    "        plt.show()\n",
    "    plt.close()    \n"
   ]
  },
  {
   "cell_type": "code",
   "execution_count": null,
   "id": "cdb8cdf0-9d01-407b-9a67-97602d119239",
   "metadata": {
    "execution": {
     "iopub.execute_input": "2023-04-25T00:10:41.735028Z",
     "iopub.status.busy": "2023-04-25T00:10:41.735028Z",
     "iopub.status.idle": "2023-04-25T00:10:44.908493Z",
     "shell.execute_reply": "2023-04-25T00:10:44.907563Z",
     "shell.execute_reply.started": "2023-04-25T00:10:41.735028Z"
    },
    "tags": []
   },
   "outputs": [],
   "source": [
    "now = str(datetime.datetime.now())[:-9].replace('-','').replace(' ','_').replace(':','')\n",
    "dfn = pd.read_excel(r\"C:\\Users\\Mamed\\YandexDisk\\_Documents\\Проекты\\ВШЭ\\Таблица_Население_230425_0030.xlsx\")\n",
    "make_hse_image2(dfn, f'table_{now}.png', show=True)"
   ]
  },
  {
   "cell_type": "markdown",
   "id": "e416116b-562c-454e-8516-5ed1348349fe",
   "metadata": {
    "jp-MarkdownHeadingCollapsed": true,
    "tags": []
   },
   "source": [
    "# Рейтинги"
   ]
  },
  {
   "cell_type": "code",
   "execution_count": 10,
   "id": "724dea2c-6da9-4a25-842d-d16a80961e46",
   "metadata": {
    "execution": {
     "iopub.execute_input": "2023-04-26T20:02:07.670268Z",
     "iopub.status.busy": "2023-04-26T20:02:07.670268Z",
     "iopub.status.idle": "2023-04-26T20:02:07.686161Z",
     "shell.execute_reply": "2023-04-26T20:02:07.684168Z",
     "shell.execute_reply.started": "2023-04-26T20:02:07.670268Z"
    },
    "tags": []
   },
   "outputs": [],
   "source": [
    "ratings_to_count = [\n",
    "'Рейтинг по запросам 2020',\n",
    "'Рейтинг по запросам 2021',\n",
    "'Рейтинг по запросам 2022',\n",
    "'Рейтинг по запросам 2023',\n",
    "'Рейтинг по запросам, итого',\n",
    "'Рейтинг по пользователям 2020',\n",
    "'Рейтинг по пользователям 2021',\n",
    "'Рейтинг по пользователям 2022',\n",
    "'Рейтинг по пользователям 2023',\n",
    "'Рейтинг по пользователям,\\nитого',\n",
    "'Рейтинг постоянного роста\\nзапросов 2020-2023',\n",
    "'Рейтинг постоянного роста\\nзапросов 2021-2023',\n",
    "'Рейтинг постоянного роста\\nзапросов 2022-2023',\n",
    "'Рейтинг постоянного роста\\nпользователей 2020-2023',\n",
    "'Рейтинг постоянного роста\\nпользователей 2021-2023',\n",
    "'Рейтинг постоянного роста\\nпользователей 2022-2023',\n",
    "'Рейтинг постоянного роста\\nзапросов на пользователя 2020-2023',\n",
    "'Рейтинг постоянного роста\\nзапросов на пользователя 2021-2023',\n",
    "'Рейтинг постоянного роста\\nзапросов на пользователя 2022-2023',\n",
    "'Рейтинг схожести динамики\\nпользователей и запросов',\n",
    "'Антирейтинг по запросам 2020',\n",
    "'Антирейтинг по запросам 2021',\n",
    "'Антирейтинг по запросам 2022',\n",
    "'Антирейтинг по запросам 2023',\n",
    "'Антирейтинг по запросам, итого',\n",
    "'Антирейтинг по пользователям 2020',\n",
    "'Антирейтинг по пользователям 2021',\n",
    "'Антирейтинг по пользователям 2022',\n",
    "'Антирейтинг по пользователям 2023',\n",
    "'Антирейтинг по пользователям,\\nитого',\n",
    "'Рейтинг постоянного падения\\nзапросов 2020-2023',\n",
    "'Рейтинг постоянного падения\\nзапросов 2021-2023',\n",
    "'Рейтинг постоянного падения\\nзапросов 2022-2023',\n",
    "'Рейтинг постоянного падения\\nпользователей 2020-2023',\n",
    "'Рейтинг постоянного падения\\nпользователей 2021-2023',\n",
    "'Рейтинг постоянного падения\\nпользователей 2022-2023',\n",
    "'Рейтинг постоянного падения\\nзапросов на пользователя 2020-2023',\n",
    "'Рейтинг постоянного падения\\nзапросов на пользователя 2021-2023',\n",
    "'Рейтинг постоянного падения\\nзапросов на пользователя 2022-2023',\n",
    "'Антирейтинг схожести динамики\\nпользователей и запросов',\n",
    "]"
   ]
  },
  {
   "cell_type": "code",
   "execution_count": 55,
   "id": "a54ce12a-2adb-488b-ba42-7968e2076367",
   "metadata": {
    "execution": {
     "iopub.execute_input": "2023-04-26T20:24:23.636827Z",
     "iopub.status.busy": "2023-04-26T20:24:23.635841Z",
     "iopub.status.idle": "2023-04-26T20:24:23.898098Z",
     "shell.execute_reply": "2023-04-26T20:24:23.897040Z",
     "shell.execute_reply.started": "2023-04-26T20:24:23.636827Z"
    },
    "tags": []
   },
   "outputs": [],
   "source": [
    "df = pd.read_excel('files/ten_city/ratings_df.xlsx')\n",
    "df = df[df['Рубрика'] != 'Итог'].fillna(0)"
   ]
  },
  {
   "cell_type": "code",
   "execution_count": 292,
   "id": "c9c114eb-c99b-4be9-8990-7e7691c07345",
   "metadata": {
    "collapsed": true,
    "execution": {
     "iopub.execute_input": "2023-04-26T18:39:28.415525Z",
     "iopub.status.busy": "2023-04-26T18:39:28.415525Z",
     "iopub.status.idle": "2023-04-26T18:40:19.641611Z",
     "shell.execute_reply": "2023-04-26T18:40:19.640611Z",
     "shell.execute_reply.started": "2023-04-26T18:39:28.415525Z"
    },
    "jupyter": {
     "outputs_hidden": true
    },
    "tags": []
   },
   "outputs": [
    {
     "name": "stdout",
     "output_type": "stream",
     "text": [
      "(400, 19)\n",
      "start\n"
     ]
    },
    {
     "name": "stderr",
     "output_type": "stream",
     "text": [
      "100%|████████████████████████████████████████████████████████████████████████████████| 400/400 [00:24<00:00, 16.37it/s]\n"
     ]
    },
    {
     "name": "stdout",
     "output_type": "stream",
     "text": [
      "Вертикальная оптимизация\n"
     ]
    },
    {
     "name": "stderr",
     "output_type": "stream",
     "text": [
      "100%|██████████████████████████████████████████████████████████████████████████████████| 10/10 [00:23<00:00,  2.38s/it]\n"
     ]
    },
    {
     "data": {
      "text/html": [
       "<div>\n",
       "<style scoped>\n",
       "    .dataframe tbody tr th:only-of-type {\n",
       "        vertical-align: middle;\n",
       "    }\n",
       "\n",
       "    .dataframe tbody tr th {\n",
       "        vertical-align: top;\n",
       "    }\n",
       "\n",
       "    .dataframe thead th {\n",
       "        text-align: right;\n",
       "    }\n",
       "</style>\n",
       "<table border=\"1\" class=\"dataframe\">\n",
       "  <thead>\n",
       "    <tr style=\"text-align: right;\">\n",
       "      <th></th>\n",
       "      <th>Оригинальный файл</th>\n",
       "      <th>Горизонтальная оптимизация</th>\n",
       "      <th>Вертикальная оптимизация</th>\n",
       "    </tr>\n",
       "    <tr>\n",
       "      <th>cnt_horizontal</th>\n",
       "      <th></th>\n",
       "      <th></th>\n",
       "      <th></th>\n",
       "    </tr>\n",
       "  </thead>\n",
       "  <tbody>\n",
       "    <tr>\n",
       "      <th>0.0</th>\n",
       "      <td>41</td>\n",
       "      <td>41</td>\n",
       "      <td>41</td>\n",
       "    </tr>\n",
       "    <tr>\n",
       "      <th>1.0</th>\n",
       "      <td>50</td>\n",
       "      <td>284</td>\n",
       "      <td>180</td>\n",
       "    </tr>\n",
       "    <tr>\n",
       "      <th>2.0</th>\n",
       "      <td>65</td>\n",
       "      <td>21</td>\n",
       "      <td>123</td>\n",
       "    </tr>\n",
       "    <tr>\n",
       "      <th>3.0</th>\n",
       "      <td>47</td>\n",
       "      <td>18</td>\n",
       "      <td>49</td>\n",
       "    </tr>\n",
       "    <tr>\n",
       "      <th>4.0</th>\n",
       "      <td>41</td>\n",
       "      <td>8</td>\n",
       "      <td>6</td>\n",
       "    </tr>\n",
       "    <tr>\n",
       "      <th>5.0</th>\n",
       "      <td>42</td>\n",
       "      <td>8</td>\n",
       "      <td>0</td>\n",
       "    </tr>\n",
       "    <tr>\n",
       "      <th>6.0</th>\n",
       "      <td>32</td>\n",
       "      <td>4</td>\n",
       "      <td>1</td>\n",
       "    </tr>\n",
       "    <tr>\n",
       "      <th>7.0</th>\n",
       "      <td>11</td>\n",
       "      <td>6</td>\n",
       "      <td>0</td>\n",
       "    </tr>\n",
       "    <tr>\n",
       "      <th>8.0</th>\n",
       "      <td>11</td>\n",
       "      <td>5</td>\n",
       "      <td>0</td>\n",
       "    </tr>\n",
       "    <tr>\n",
       "      <th>9.0</th>\n",
       "      <td>25</td>\n",
       "      <td>5</td>\n",
       "      <td>0</td>\n",
       "    </tr>\n",
       "    <tr>\n",
       "      <th>10.0</th>\n",
       "      <td>17</td>\n",
       "      <td>0</td>\n",
       "      <td>0</td>\n",
       "    </tr>\n",
       "    <tr>\n",
       "      <th>11.0</th>\n",
       "      <td>7</td>\n",
       "      <td>0</td>\n",
       "      <td>0</td>\n",
       "    </tr>\n",
       "    <tr>\n",
       "      <th>12.0</th>\n",
       "      <td>8</td>\n",
       "      <td>0</td>\n",
       "      <td>0</td>\n",
       "    </tr>\n",
       "    <tr>\n",
       "      <th>13.0</th>\n",
       "      <td>3</td>\n",
       "      <td>0</td>\n",
       "      <td>0</td>\n",
       "    </tr>\n",
       "  </tbody>\n",
       "</table>\n",
       "</div>"
      ],
      "text/plain": [
       "                Оригинальный файл  Горизонтальная оптимизация  \\\n",
       "cnt_horizontal                                                  \n",
       "0.0                            41                          41   \n",
       "1.0                            50                         284   \n",
       "2.0                            65                          21   \n",
       "3.0                            47                          18   \n",
       "4.0                            41                           8   \n",
       "5.0                            42                           8   \n",
       "6.0                            32                           4   \n",
       "7.0                            11                           6   \n",
       "8.0                            11                           5   \n",
       "9.0                            25                           5   \n",
       "10.0                           17                           0   \n",
       "11.0                            7                           0   \n",
       "12.0                            8                           0   \n",
       "13.0                            3                           0   \n",
       "\n",
       "                Вертикальная оптимизация  \n",
       "cnt_horizontal                            \n",
       "0.0                                   41  \n",
       "1.0                                  180  \n",
       "2.0                                  123  \n",
       "3.0                                   49  \n",
       "4.0                                    6  \n",
       "5.0                                    0  \n",
       "6.0                                    1  \n",
       "7.0                                    0  \n",
       "8.0                                    0  \n",
       "9.0                                    0  \n",
       "10.0                                   0  \n",
       "11.0                                   0  \n",
       "12.0                                   0  \n",
       "13.0                                   0  "
      ]
     },
     "metadata": {},
     "output_type": "display_data"
    }
   ],
   "source": [
    "ratings_df_optimized = optimize_df(df, index=50, cut_level=400, ratings_to_count=ratings_to_count)"
   ]
  },
  {
   "cell_type": "code",
   "execution_count": 112,
   "id": "7ce91745-4daf-4888-8409-ae2a12a352f2",
   "metadata": {
    "execution": {
     "iopub.execute_input": "2023-04-26T20:47:41.015401Z",
     "iopub.status.busy": "2023-04-26T20:47:41.015401Z",
     "iopub.status.idle": "2023-04-26T20:48:19.106709Z",
     "shell.execute_reply": "2023-04-26T20:48:19.106709Z",
     "shell.execute_reply.started": "2023-04-26T20:47:41.015401Z"
    },
    "tags": []
   },
   "outputs": [
    {
     "name": "stdout",
     "output_type": "stream",
     "text": [
      "(600, 19)\n"
     ]
    },
    {
     "name": "stderr",
     "output_type": "stream",
     "text": [
      "100%|████████████████████████████████████████████████████████████████████████████████| 600/600 [00:09<00:00, 63.92it/s]\n"
     ]
    },
    {
     "name": "stdout",
     "output_type": "stream",
     "text": [
      "Вертикальная оптимизация\n"
     ]
    },
    {
     "name": "stderr",
     "output_type": "stream",
     "text": [
      "100%|██████████████████████████████████████████████████████████████████████████████████| 10/10 [00:26<00:00,  2.62s/it]\n"
     ]
    },
    {
     "data": {
      "text/html": [
       "<div>\n",
       "<style scoped>\n",
       "    .dataframe tbody tr th:only-of-type {\n",
       "        vertical-align: middle;\n",
       "    }\n",
       "\n",
       "    .dataframe tbody tr th {\n",
       "        vertical-align: top;\n",
       "    }\n",
       "\n",
       "    .dataframe thead th {\n",
       "        text-align: right;\n",
       "    }\n",
       "</style>\n",
       "<table border=\"1\" class=\"dataframe\">\n",
       "  <thead>\n",
       "    <tr style=\"text-align: right;\">\n",
       "      <th></th>\n",
       "      <th>Оригинальный файл</th>\n",
       "      <th>Горизонтальная оптимизация</th>\n",
       "      <th>Вертикальная оптимизация</th>\n",
       "    </tr>\n",
       "    <tr>\n",
       "      <th>cnt_horizontal</th>\n",
       "      <th></th>\n",
       "      <th></th>\n",
       "      <th></th>\n",
       "    </tr>\n",
       "  </thead>\n",
       "  <tbody>\n",
       "    <tr>\n",
       "      <th>0.0</th>\n",
       "      <td>236</td>\n",
       "      <td>236</td>\n",
       "      <td>236</td>\n",
       "    </tr>\n",
       "    <tr>\n",
       "      <th>1.0</th>\n",
       "      <td>76</td>\n",
       "      <td>307</td>\n",
       "      <td>195</td>\n",
       "    </tr>\n",
       "    <tr>\n",
       "      <th>2.0</th>\n",
       "      <td>88</td>\n",
       "      <td>18</td>\n",
       "      <td>98</td>\n",
       "    </tr>\n",
       "    <tr>\n",
       "      <th>3.0</th>\n",
       "      <td>26</td>\n",
       "      <td>9</td>\n",
       "      <td>36</td>\n",
       "    </tr>\n",
       "    <tr>\n",
       "      <th>4.0</th>\n",
       "      <td>38</td>\n",
       "      <td>6</td>\n",
       "      <td>29</td>\n",
       "    </tr>\n",
       "    <tr>\n",
       "      <th>5.0</th>\n",
       "      <td>19</td>\n",
       "      <td>3</td>\n",
       "      <td>5</td>\n",
       "    </tr>\n",
       "    <tr>\n",
       "      <th>6.0</th>\n",
       "      <td>15</td>\n",
       "      <td>2</td>\n",
       "      <td>1</td>\n",
       "    </tr>\n",
       "    <tr>\n",
       "      <th>7.0</th>\n",
       "      <td>12</td>\n",
       "      <td>1</td>\n",
       "      <td>0</td>\n",
       "    </tr>\n",
       "    <tr>\n",
       "      <th>8.0</th>\n",
       "      <td>17</td>\n",
       "      <td>3</td>\n",
       "      <td>0</td>\n",
       "    </tr>\n",
       "    <tr>\n",
       "      <th>9.0</th>\n",
       "      <td>16</td>\n",
       "      <td>2</td>\n",
       "      <td>0</td>\n",
       "    </tr>\n",
       "    <tr>\n",
       "      <th>10.0</th>\n",
       "      <td>6</td>\n",
       "      <td>0</td>\n",
       "      <td>0</td>\n",
       "    </tr>\n",
       "    <tr>\n",
       "      <th>11.0</th>\n",
       "      <td>5</td>\n",
       "      <td>3</td>\n",
       "      <td>0</td>\n",
       "    </tr>\n",
       "    <tr>\n",
       "      <th>12.0</th>\n",
       "      <td>2</td>\n",
       "      <td>1</td>\n",
       "      <td>0</td>\n",
       "    </tr>\n",
       "    <tr>\n",
       "      <th>13.0</th>\n",
       "      <td>2</td>\n",
       "      <td>2</td>\n",
       "      <td>0</td>\n",
       "    </tr>\n",
       "    <tr>\n",
       "      <th>14.0</th>\n",
       "      <td>4</td>\n",
       "      <td>1</td>\n",
       "      <td>0</td>\n",
       "    </tr>\n",
       "    <tr>\n",
       "      <th>15.0</th>\n",
       "      <td>11</td>\n",
       "      <td>5</td>\n",
       "      <td>0</td>\n",
       "    </tr>\n",
       "    <tr>\n",
       "      <th>16.0</th>\n",
       "      <td>10</td>\n",
       "      <td>1</td>\n",
       "      <td>0</td>\n",
       "    </tr>\n",
       "    <tr>\n",
       "      <th>17.0</th>\n",
       "      <td>9</td>\n",
       "      <td>0</td>\n",
       "      <td>0</td>\n",
       "    </tr>\n",
       "    <tr>\n",
       "      <th>18.0</th>\n",
       "      <td>6</td>\n",
       "      <td>0</td>\n",
       "      <td>0</td>\n",
       "    </tr>\n",
       "    <tr>\n",
       "      <th>19.0</th>\n",
       "      <td>2</td>\n",
       "      <td>0</td>\n",
       "      <td>0</td>\n",
       "    </tr>\n",
       "  </tbody>\n",
       "</table>\n",
       "</div>"
      ],
      "text/plain": [
       "                Оригинальный файл  Горизонтальная оптимизация  \\\n",
       "cnt_horizontal                                                  \n",
       "0.0                           236                         236   \n",
       "1.0                            76                         307   \n",
       "2.0                            88                          18   \n",
       "3.0                            26                           9   \n",
       "4.0                            38                           6   \n",
       "5.0                            19                           3   \n",
       "6.0                            15                           2   \n",
       "7.0                            12                           1   \n",
       "8.0                            17                           3   \n",
       "9.0                            16                           2   \n",
       "10.0                            6                           0   \n",
       "11.0                            5                           3   \n",
       "12.0                            2                           1   \n",
       "13.0                            2                           2   \n",
       "14.0                            4                           1   \n",
       "15.0                           11                           5   \n",
       "16.0                           10                           1   \n",
       "17.0                            9                           0   \n",
       "18.0                            6                           0   \n",
       "19.0                            2                           0   \n",
       "\n",
       "                Вертикальная оптимизация  \n",
       "cnt_horizontal                            \n",
       "0.0                                  236  \n",
       "1.0                                  195  \n",
       "2.0                                   98  \n",
       "3.0                                   36  \n",
       "4.0                                   29  \n",
       "5.0                                    5  \n",
       "6.0                                    1  \n",
       "7.0                                    0  \n",
       "8.0                                    0  \n",
       "9.0                                    0  \n",
       "10.0                                   0  \n",
       "11.0                                   0  \n",
       "12.0                                   0  \n",
       "13.0                                   0  \n",
       "14.0                                   0  \n",
       "15.0                                   0  \n",
       "16.0                                   0  \n",
       "17.0                                   0  \n",
       "18.0                                   0  \n",
       "19.0                                   0  "
      ]
     },
     "metadata": {},
     "output_type": "display_data"
    }
   ],
   "source": [
    "ratings_df_optimized = optimize_df(df, index=50, cut_level=600, optimization_level=10, ratings_to_count=ratings_to_count)"
   ]
  },
  {
   "cell_type": "code",
   "execution_count": 113,
   "id": "0ed73af6-50f2-43f1-840c-5291b05d6416",
   "metadata": {
    "execution": {
     "iopub.execute_input": "2023-04-26T20:49:14.185493Z",
     "iopub.status.busy": "2023-04-26T20:49:14.185493Z",
     "iopub.status.idle": "2023-04-26T20:49:16.120475Z",
     "shell.execute_reply": "2023-04-26T20:49:16.120475Z",
     "shell.execute_reply.started": "2023-04-26T20:49:14.185493Z"
    },
    "tags": []
   },
   "outputs": [
    {
     "name": "stderr",
     "output_type": "stream",
     "text": [
      "C:\\Users\\Mamed\\AppData\\Local\\Temp\\ipykernel_13128\\580798988.py:386: FutureWarning: Dropping of nuisance columns in DataFrame reductions (with 'numeric_only=None') is deprecated; in a future version this will raise TypeError.  Select only valid columns before calling the reduction.\n",
      "  final_svod['Рейтинг суммарный'] = final_svod[optimized_svod.columns].sum(axis=1)\n",
      "C:\\Users\\Mamed\\AppData\\Local\\Temp\\ipykernel_13128\\580798988.py:387: FutureWarning: Dropping of nuisance columns in DataFrame reductions (with 'numeric_only=None') is deprecated; in a future version this will raise TypeError.  Select only valid columns before calling the reduction.\n",
      "  final_svod['Рейтинг средний'] = final_svod[optimized_svod.columns].mean(axis=1)\n"
     ]
    }
   ],
   "source": [
    "final_df = make_final(df, ratings_df_optimized)\n",
    "\n",
    "final_df['Запросов на пользователя,\\nитого'] = final_df['Запросов на пользователя, итого']\n",
    "final_df = final_df.drop(['Запросов на пользователя, итого'],axis=1)\n",
    "final_df.to_excel(\"files/ten_city/Мастер_таблица_2ГИС_10_городов_230426_1530.xlsx\", index=False)"
   ]
  },
  {
   "cell_type": "code",
   "execution_count": 114,
   "id": "0026eff4-3cd7-499c-ac8c-24329ad4bf8a",
   "metadata": {
    "execution": {
     "iopub.execute_input": "2023-04-26T20:49:32.051528Z",
     "iopub.status.busy": "2023-04-26T20:49:32.051321Z",
     "iopub.status.idle": "2023-04-26T20:51:19.624942Z",
     "shell.execute_reply": "2023-04-26T20:51:19.624942Z",
     "shell.execute_reply.started": "2023-04-26T20:49:32.051528Z"
    },
    "tags": []
   },
   "outputs": [
    {
     "name": "stdout",
     "output_type": "stream",
     "text": [
      "files/ten_city/Мастер_таблица_2ГИС_10_городов_report_230426_2349.docx\n"
     ]
    },
    {
     "name": "stderr",
     "output_type": "stream",
     "text": [
      "100%|██████████████████████████████████████████████████████████████████████████████████| 40/40 [01:47<00:00,  2.68s/it]\n"
     ]
    }
   ],
   "source": [
    "make_ratings_word(\"files/ten_city/Мастер_таблица_2ГИС_10_городов_230426_1530.xlsx\", header_color='#249FD8', row_color='#D2DDF1', \n",
    "                  size_x=6.3*4, size_y=3.94*4, cnt=9999, font_size=28, img_w=16.5, img_h=10, blank=False, word_sample='files/report_ten_city.docx')"
   ]
  },
  {
   "cell_type": "code",
   "execution_count": null,
   "id": "db356c5a-c724-4eed-9440-8618a89bbd7e",
   "metadata": {},
   "outputs": [],
   "source": []
  },
  {
   "cell_type": "code",
   "execution_count": 4,
   "id": "799ebd09-7d0b-4b2f-af43-9f1772103717",
   "metadata": {
    "execution": {
     "iopub.execute_input": "2023-04-28T15:58:19.794830Z",
     "iopub.status.busy": "2023-04-28T15:58:19.794830Z",
     "iopub.status.idle": "2023-04-28T15:58:19.817828Z",
     "shell.execute_reply": "2023-04-28T15:58:19.816727Z",
     "shell.execute_reply.started": "2023-04-28T15:58:19.794830Z"
    },
    "tags": []
   },
   "outputs": [],
   "source": [
    "def make_ratings_image(df, output_file_name=None, cols_without_color=[0], dedup_cols=None, col_width=1.0, row_height=0.625, font_size=18,\n",
    "                     header_color='#C0504D', row_colors=['#F2DCDB', 'w'], edge_color='w',\n",
    "                     bbox=[0, 0, 1, 1], header_columns=0,\n",
    "                     ax=None, size_x=17.5, size_y=10.8, **kwargs):\n",
    "    rating_col = df.iloc[:,-1].name\n",
    "    data = df[df[rating_col]>0].sort_values(rating_col)\n",
    "    data_separeted_numbers = data.copy()\n",
    "    for col in data.columns[1:]:\n",
    "        data_separeted_numbers[col] = data[col].apply(make_sep)\n",
    "        if col in ['Пользователи, %', 'Запросы, %', 'Запросов на пользователя,\\nитого']:\n",
    "            data_separeted_numbers[col] = data[col].apply(lambda x: str(x).replace('.',','))\n",
    "        \n",
    "    if ax is None:\n",
    "        size = (np.array([size_x, size_y]))\n",
    "        fig, ax = plt.subplots(figsize=size, dpi=2**8)\n",
    "        ax.axis('off')\n",
    "\n",
    "    mpl_table = ax.table(cellText=data_separeted_numbers.values, bbox=bbox, colLabels=data.columns, colLoc='center', loc='bottom')\n",
    "    mpl_table.auto_set_font_size(False)\n",
    "    cells_dict = dict(six.iteritems(mpl_table._cells))\n",
    "    \n",
    "    im = plt.imread(r\"C:\\Users\\Mamed\\YandexDisk\\_Documents\\Проекты\\2ГИС 2023\\Лого\\01_Logo_HSE_full_rus_PANTONE_for_dark_2.png\")\n",
    "    ax.figure.figimage(im, 85, 2800, zorder=1, alpha=1)\n",
    "    \n",
    "    fpath = Path(mpl.get_data_path(), r\"C:\\Users\\Mamed\\YandexDisk\\_Documents\\Проекты\\2ГИС 2023\\Лого\\arialnarrow.ttf\")\n",
    "    colors_dict = colorize_column(df, cols_not_to_color=cols_without_color)\n",
    "    colors_dict.update(colorize_column(data, cols_not_to_color=list(range(data.shape[1]-1))), filter_zero=True)\n",
    "    \n",
    "    for k in sorted(cells_dict.keys()): #k[0] - строка, k[1] - столбец\n",
    "        cell = cells_dict[k]\n",
    "        cell.set_edgecolor(edge_color)\n",
    "        row_index = k[0]\n",
    "        column_index = k[1]\n",
    "        \n",
    "        # Высота и цвет заголовков\n",
    "        if row_index == 0:\n",
    "            rotation='horizontal' if k == (0,0) else 'vertical' \n",
    "            cell.set_text_props(color='w', rotation=rotation, ha='center')\n",
    "            cell.set_facecolor(header_color)\n",
    "            cell.set_height(0.09)\n",
    "            \n",
    "        # Высота и цвет остальных строк\n",
    "        else:\n",
    "            ha = 'left' if column_index==0 else 'right'\n",
    "            cell.set_facecolor(row_colors[k[0]%len(row_colors)])\n",
    "            cell.set_height(0.008)\n",
    "            cell.set_text_props(wrap=True, ha=ha)\n",
    "    \n",
    "        # Ширина столбцов\n",
    "        if column_index == 0:\n",
    "            cell.set_width(0.006)\n",
    "        else:\n",
    "            cell.set_width(0.0012)\n",
    "                        \n",
    "        # Цветвоая шкала\n",
    "        if row_index > 0 and column_index not in cols_without_color:\n",
    "            row_index_origin = data[data.iloc[:,-1] == row_index].index[0]\n",
    "            color_value = colors_dict[column_index][row_index_origin]\n",
    "            cell.set_facecolor(color_value) \n",
    "        \n",
    "        # Раскраска дублей\n",
    "        if dedup_cols is not None:\n",
    "            for i in dedup_cols:\n",
    "                dups = df.iloc[:,i][(df.iloc[:,i].duplicated())&(('Рейтинг рубрики' not in df.columns)|(df['Рейтинг рубрики'] > 0))].values \n",
    "                if row_index > 0 and column_index == i and cell.get_text().get_text() in dups:\n",
    "                    cell.set_facecolor('#FFC7CE')\n",
    "                    cell.set_text_props(color='#9C0006')         \n",
    "        # Шрифт\n",
    "        cell.set_text_props(font=fpath, fontsize=font_size)\n",
    "    if output_file_name:\n",
    "        fig.savefig(f'{output_file_name}', bbox_inches='tight')\n",
    "    #plt.show()\n",
    "    plt.close()    \n"
   ]
  },
  {
   "cell_type": "code",
   "execution_count": 334,
   "id": "67b2176e-0120-4423-acdf-c06ffe6d334d",
   "metadata": {
    "execution": {
     "iopub.execute_input": "2023-04-28T15:45:51.488779Z",
     "iopub.status.busy": "2023-04-28T15:45:51.488779Z",
     "iopub.status.idle": "2023-04-28T15:45:51.764173Z",
     "shell.execute_reply": "2023-04-28T15:45:51.764173Z",
     "shell.execute_reply.started": "2023-04-28T15:45:51.488779Z"
    },
    "tags": []
   },
   "outputs": [],
   "source": [
    "df = pd.read_excel(\"files/ten_city/Мастер_таблица_2ГИС_10_городов_230426_1530.xlsx\")"
   ]
  },
  {
   "cell_type": "code",
   "execution_count": 335,
   "id": "92e6e73d-21d1-44f9-9b57-0382c4d9b54b",
   "metadata": {
    "execution": {
     "iopub.execute_input": "2023-04-28T15:45:52.088436Z",
     "iopub.status.busy": "2023-04-28T15:45:52.088436Z",
     "iopub.status.idle": "2023-04-28T15:45:52.441230Z",
     "shell.execute_reply": "2023-04-28T15:45:52.440220Z",
     "shell.execute_reply.started": "2023-04-28T15:45:52.088436Z"
    },
    "tags": []
   },
   "outputs": [],
   "source": [
    "df = df.rename({\n",
    "    'Рейтинг постоянного падения\\nзапросов на пользователя 2022-2023' : 'Рейтинг падения запросов\\nна пользователя 2022-2023',\n",
    "    'Рейтинг постоянного падения\\nзапросов на пользователя 2021-2023' : 'Рейтинг падения запросов\\nна пользователя 2021-2023',\n",
    "    'Рейтинг постоянного падения\\nзапросов на пользователя 2020-2023' : 'Рейтинг падения запросов\\nна пользователя 2020-2023',\n",
    "    'Рейтинг постоянного роста\\nзапросов на пользователя 2022-2023' : 'Рейтинг роста запросов\\nна пользователя 2022-2023',\n",
    "    'Рейтинг постоянного роста\\nзапросов на пользователя 2021-2023' : 'Рейтинг роста запросов\\nна пользователя 2021-2023',\n",
    "    'Рейтинг постоянного роста\\nзапросов на пользователя 2020-2023' : 'Рейтинг роста запросов\\nна пользователя 2020-2023',\n",
    "    'Антирейтинг по пользователям 2023' : 'Антирейтинг\\nпо пользователям 2023',\n",
    "    'Антирейтинг по пользователям 2022' : 'Антирейтинг\\nпо пользователям 2022',\n",
    "    'Антирейтинг по пользователям 2021' : 'Антирейтинг\\nпо пользователям 2021',\n",
    "    'Антирейтинг по пользователям 2020' : 'Антирейтинг\\nпо пользователям 2020',\n",
    "}, axis=1)\n",
    "\n",
    "df.to_excel(\"files/ten_city/Мастер_таблица_2ГИС_10_городов_230428_1845.xlsx\", index=False)"
   ]
  },
  {
   "cell_type": "code",
   "execution_count": 336,
   "id": "e796ba19-5076-4aef-9d51-8da9c22a0fd6",
   "metadata": {
    "collapsed": true,
    "execution": {
     "iopub.execute_input": "2023-04-28T15:45:52.636358Z",
     "iopub.status.busy": "2023-04-28T15:45:52.636358Z",
     "iopub.status.idle": "2023-04-28T15:45:52.645882Z",
     "shell.execute_reply": "2023-04-28T15:45:52.644960Z",
     "shell.execute_reply.started": "2023-04-28T15:45:52.636358Z"
    },
    "jupyter": {
     "outputs_hidden": true
    },
    "tags": []
   },
   "outputs": [
    {
     "data": {
      "text/plain": [
       "[(30, 'Антирейтинг по запросам, итого'),\n",
       " (29, 'Рейтинг по пользователям 2023'),\n",
       " (29, 'Рейтинг по пользователям 2022'),\n",
       " (29, 'Рейтинг по пользователям 2021'),\n",
       " (29, 'Рейтинг по пользователям 2020'),\n",
       " (29, 'Запросов на пользователя 2023'),\n",
       " (29, 'Запросов на пользователя 2022'),\n",
       " (29, 'Запросов на пользователя 2021'),\n",
       " (29, 'Запросов на пользователя 2020'),\n",
       " (28, 'Антирейтинг по запросам 2023'),\n",
       " (28, 'Антирейтинг по запросам 2022'),\n",
       " (28, 'Антирейтинг по запросам 2021'),\n",
       " (28, 'Антирейтинг по запросам 2020'),\n",
       " (26, 'Рейтинг по запросам, итого'),\n",
       " (24, 'Рейтинг по запросам 2023'),\n",
       " (24, 'Рейтинг по запросам 2022'),\n",
       " (24, 'Рейтинг по запросам 2021'),\n",
       " (24, 'Рейтинг по запросам 2020'),\n",
       " (19, 'Пользователи, итого'),\n",
       " (17, 'Рейтинг суммарный'),\n",
       " (17, 'Пользователи 2023'),\n",
       " (17, 'Пользователи 2022'),\n",
       " (17, 'Пользователи 2021'),\n",
       " (17, 'Пользователи 2020'),\n",
       " (16, 'В рейтингах, раз'),\n",
       " (15, 'Рейтинг средний'),\n",
       " (15, 'Пользователи, %'),\n",
       " (14, 'Запросы, итого'),\n",
       " (13, 'Вне рейтингов'),\n",
       " (12, 'Запросы 2023'),\n",
       " (12, 'Запросы 2022'),\n",
       " (12, 'Запросы 2021'),\n",
       " (12, 'Запросы 2020'),\n",
       " (10, 'Запросы, %'),\n",
       " (7, 'Рубрика'),\n",
       " (1, '№')]"
      ]
     },
     "execution_count": 336,
     "metadata": {},
     "output_type": "execute_result"
    }
   ],
   "source": [
    "sorted([ (len(i), i) for i in df.columns if '\\n' not in i], reverse=True)"
   ]
  },
  {
   "cell_type": "code",
   "execution_count": 325,
   "id": "bd26d813-aeca-43ee-8e72-e1cb785a2123",
   "metadata": {
    "execution": {
     "iopub.execute_input": "2023-04-28T15:39:20.992825Z",
     "iopub.status.busy": "2023-04-28T15:39:20.992825Z",
     "iopub.status.idle": "2023-04-28T15:39:21.010915Z",
     "shell.execute_reply": "2023-04-28T15:39:21.009825Z",
     "shell.execute_reply.started": "2023-04-28T15:39:20.992825Z"
    },
    "tags": []
   },
   "outputs": [
    {
     "data": {
      "text/plain": [
       "[(54, 29, 24, 'Антирейтинг схожести динамики\\nпользователей и запросов'),\n",
       " (51, 27, 23, 'Рейтинг постоянного падения\\nпользователей 2022-2023'),\n",
       " (51, 27, 23, 'Рейтинг постоянного падения\\nпользователей 2021-2023'),\n",
       " (51, 27, 23, 'Рейтинг постоянного падения\\nпользователей 2020-2023'),\n",
       " (50, 25, 24, 'Рейтинг схожести динамики\\nпользователей и запросов'),\n",
       " (49, 25, 23, 'Рейтинг постоянного роста\\nпользователей 2022-2023'),\n",
       " (49, 25, 23, 'Рейтинг постоянного роста\\nпользователей 2021-2023'),\n",
       " (49, 25, 23, 'Рейтинг постоянного роста\\nпользователей 2020-2023'),\n",
       " (49, 23, 25, 'Рейтинг падениязапросов\\nна пользователя 2022-2023'),\n",
       " (49, 23, 25, 'Рейтинг падениязапросов\\nна пользователя 2021-2023'),\n",
       " (49, 23, 25, 'Рейтинг падениязапросов\\nна пользователя 2020-2023'),\n",
       " (48, 22, 25, 'Рейтинг роста запросов\\nна пользователя 2022-2023'),\n",
       " (48, 22, 25, 'Рейтинг роста запросов\\nна пользователя 2021-2023'),\n",
       " (48, 22, 25, 'Рейтинг роста запросов\\nна пользователя 2020-2023'),\n",
       " (46, 27, 18, 'Рейтинг постоянного падения\\nзапросов 2022-2023'),\n",
       " (46, 27, 18, 'Рейтинг постоянного падения\\nзапросов 2021-2023'),\n",
       " (46, 27, 18, 'Рейтинг постоянного падения\\nзапросов 2020-2023'),\n",
       " (44, 25, 18, 'Рейтинг постоянного роста\\nзапросов 2022-2023'),\n",
       " (44, 25, 18, 'Рейтинг постоянного роста\\nзапросов 2021-2023'),\n",
       " (44, 25, 18, 'Рейтинг постоянного роста\\nзапросов 2020-2023'),\n",
       " (35, 29, 5, 'Антирейтинг по пользователям,\\nитого'),\n",
       " (31, 25, 5, 'Рейтинг по пользователям,\\nитого'),\n",
       " (31, 25, 5, 'Запросов на пользователя,\\nитого')]"
      ]
     },
     "execution_count": 325,
     "metadata": {},
     "output_type": "execute_result"
    }
   ],
   "source": [
    "sorted([(len(i),len(i.split('\\n')[0]), len(i.split('\\n')[1]), i, ) for i in df.columns if '\\n' in i], reverse=True)"
   ]
  },
  {
   "cell_type": "code",
   "execution_count": 5,
   "id": "3711dd2d-3c41-4563-8e2f-e45a56c4111d",
   "metadata": {
    "execution": {
     "iopub.execute_input": "2023-04-28T15:58:25.399596Z",
     "iopub.status.busy": "2023-04-28T15:58:25.399596Z",
     "iopub.status.idle": "2023-04-28T16:00:23.342762Z",
     "shell.execute_reply": "2023-04-28T16:00:23.342762Z",
     "shell.execute_reply.started": "2023-04-28T15:58:25.399596Z"
    },
    "tags": []
   },
   "outputs": [
    {
     "name": "stdout",
     "output_type": "stream",
     "text": [
      "files/ten_city/Мастер_таблица_2ГИС_10_городов_report_230428_1858.docx\n"
     ]
    },
    {
     "name": "stderr",
     "output_type": "stream",
     "text": [
      "100%|██████████████████████████████████████████████████████████████████████████████████| 40/40 [01:57<00:00,  2.94s/it]\n"
     ]
    }
   ],
   "source": [
    "make_ratings_word(\"files/ten_city/Мастер_таблица_2ГИС_10_городов_230428_1845.xlsx\", header_color='#249FD8', row_color='#D2DDF1', \n",
    "                  size_x=6.3*4, size_y=3.94*4, cnt=40, font_size=28, img_w=16.5, img_h=10, blank=False, word_sample='files/report_ten_city.docx')"
   ]
  },
  {
   "cell_type": "code",
   "execution_count": null,
   "id": "7d2eb91c-31b1-426a-b954-2f2729811b1d",
   "metadata": {},
   "outputs": [],
   "source": []
  },
  {
   "cell_type": "markdown",
   "id": "fbe92eb5-d519-41cb-a567-d1744fa0bd5d",
   "metadata": {
    "jp-MarkdownHeadingCollapsed": true,
    "tags": []
   },
   "source": [
    "# Запросы"
   ]
  },
  {
   "cell_type": "code",
   "execution_count": 61,
   "id": "ddf76e12-1b6c-42db-b4f2-3cdfe6428b0d",
   "metadata": {
    "execution": {
     "iopub.execute_input": "2023-04-25T20:56:29.533161Z",
     "iopub.status.busy": "2023-04-25T20:56:29.532165Z",
     "iopub.status.idle": "2023-04-25T20:56:32.642978Z",
     "shell.execute_reply": "2023-04-25T20:56:32.641475Z",
     "shell.execute_reply.started": "2023-04-25T20:56:29.533161Z"
    },
    "tags": []
   },
   "outputs": [
    {
     "name": "stdout",
     "output_type": "stream",
     "text": [
      "files/ten_city/requests_text_ten_city_230420_2154_report_230425_2356.docx\n"
     ]
    },
    {
     "name": "stderr",
     "output_type": "stream",
     "text": [
      "100%|████████████████████████████████████████████████████████████████████████████████████| 2/2 [00:01<00:00,  1.30it/s]\n"
     ]
    }
   ],
   "source": [
    "make_requests_word('files/ten_city/requests_text_ten_city_230420_2154.xlsx', \"\", '#249FD8', '#D2DDF1', \n",
    "                   size_x=6.3*4, size_y=3.94*4, cnt=2, font_size=28, img_w=16.5, img_h=10, blank=True, word_sample='files/report_ten_city.docx')"
   ]
  },
  {
   "cell_type": "markdown",
   "id": "b864b9e3-154e-4b01-8485-694d964b0c9a",
   "metadata": {
    "jp-MarkdownHeadingCollapsed": true,
    "tags": []
   },
   "source": [
    "# Графики"
   ]
  },
  {
   "cell_type": "code",
   "execution_count": null,
   "id": "81430dee-decb-43c6-9e43-3284a0078e89",
   "metadata": {
    "execution": {
     "iopub.execute_input": "2023-04-25T21:06:55.897876Z",
     "iopub.status.busy": "2023-04-25T21:06:55.897876Z",
     "iopub.status.idle": "2023-04-25T21:07:00.471207Z",
     "shell.execute_reply": "2023-04-25T21:07:00.471207Z",
     "shell.execute_reply.started": "2023-04-25T21:06:55.897876Z"
    },
    "tags": []
   },
   "outputs": [],
   "source": [
    "rubrics = dd.read_parquet(f\"files/ten_city/df_tx_grouped_filtered_ten_city\")['rubricName'].unique().compute()\n",
    "rubrics = [i for i in rubrics.to_dict().values()]\n",
    "rubrics = pd.DataFrame(rubrics)\n",
    "rubrics['Рейтинг рубрики'] = rubrics.index + 1"
   ]
  },
  {
   "cell_type": "code",
   "execution_count": 84,
   "id": "0586c25d-7ed0-4b6b-9818-ffe31293a5d7",
   "metadata": {
    "execution": {
     "iopub.execute_input": "2023-04-25T21:55:04.702280Z",
     "iopub.status.busy": "2023-04-25T21:55:04.702280Z",
     "iopub.status.idle": "2023-04-25T21:55:04.733943Z",
     "shell.execute_reply": "2023-04-25T21:55:04.732937Z",
     "shell.execute_reply.started": "2023-04-25T21:55:04.702280Z"
    },
    "tags": []
   },
   "outputs": [],
   "source": [
    "def make_linear_plots(input_filename, rubrics_df, cnt=9999, size_x=17.5, size_y=10.8, font_size=16, img_w=17.5, img_h=10.8, blank=False, word_sample='files/report.docx'):\n",
    "    def zero(x,y):\n",
    "        if x < 0:\n",
    "            return str(0) +'%'\n",
    "        return str(round(x,1)) +'%'\n",
    "    \n",
    "    dt_now = str(datetime.datetime.now())[2:-9].replace('-','').replace(':','').replace(' ','_')\n",
    "    word_file = f'{input_filename[:-5]}_report_{dt_now}.docx'\n",
    "    print(word_file)\n",
    "    cols1 = ['Рубрика','Час','Количество запросов Астана','Количество запросов Бишкек','Количество запросов Москва','Количество запросов ОАЭ','Количество запросов Ташкент']\n",
    "    cols2 = ['Рубрика','Дата','Количество запросов Астана','Количество запросов Бишкек','Количество запросов Москва','Количество запросов ОАЭ','Количество запросов Ташкент']\n",
    "    cols3 = ['Рубрика','Неделя','Количество запросов Астана','Количество запросов Бишкек','Количество запросов Москва','Количество запросов ОАЭ','Количество запросов Ташкент']\n",
    "    cols4 = ['Рубрика','День недели','Количество запросов Астана','Количество запросов Бишкек','Количество запросов Москва','Количество запросов ОАЭ','Количество запросов Ташкент']\n",
    "    dff1 = pd.read_excel(input_filename, sheet_name='Часы')[cols1]\n",
    "    dff2 = pd.read_excel(input_filename, sheet_name='Даты')[cols2]\n",
    "    dff3 = pd.read_excel(input_filename, sheet_name='Недели')[cols3]\n",
    "    dff4 = pd.read_excel(input_filename, sheet_name='Дни недели')[cols4]\n",
    "    \n",
    "    i = 0\n",
    "    for rubric in tqdm(rubrics_df[:].iloc[:,0].values[0:cnt]):\n",
    "        dff1_test = dff1[dff1['Рубрика'] == rubric].set_index(dff1.columns[1])\n",
    "        dff2_test = dff2[dff2['Рубрика'] == rubric].set_index(dff2.columns[1])\n",
    "        dff3_test = dff3[dff3['Рубрика'] == rubric].set_index(dff3.columns[1])\n",
    "        dff4_test = dff4[dff4['Рубрика'] == rubric].set_index(dff4.columns[1])\n",
    "        dff4_test.index = (['пн','вт','ср','чт','пт','сб','вс'])\n",
    "        dff1_test.index = dff1_test.index.astype(str)\n",
    "        i+=1\n",
    "        j=0\n",
    "        for d in [dff1_test, dff2_test, dff3_test, dff4_test]: \n",
    "            j+=1\n",
    "            fig, ax = plt.subplots()\n",
    "            ax = sns.lineplot(data = d, linewidth=3, palette=['#4F81BD', '#F79646', '#C0504D', '#9BBB59', '#264478'])\n",
    "            plt.rcParams['figure.figsize']=17,10.8\n",
    "            plt.rcParams['font.size'] = '16'\n",
    "            plt.rcParams['figure.dpi'] = 2**8\n",
    "            plt.rcParams['figure.facecolor'] = 'white'\n",
    "            fpath = Path(mpl.get_data_path(), r\"C:\\Users\\Mamed\\YandexDisk\\_Documents\\Проекты\\2ГИС 2023\\Лого\\arialnarrow.ttf\")\n",
    "            \n",
    "            \n",
    "            plt.legend(['Астана', 'Бишкек', 'Москва', 'ОАЭ', 'Ташкент'], prop=fpath)\n",
    "            plt.xticks(font=fpath)\n",
    "            plt.yticks(font=fpath)\n",
    "            plt.grid(visible=True, linewidth=0.3)\n",
    "            ax.set_xlabel('')\n",
    "            ax.yaxis.set_major_formatter(FuncFormatter(zero))\n",
    "            ax.xaxis.set_major_locator(ticker.MultipleLocator(1)) \n",
    "            ax.yaxis.set_major_locator(ticker.LinearLocator(numticks=6))  \n",
    "            title_text = f'{i:02}/{j}. {rubric}. '\n",
    "            img_file_name = input_filename.replace('files/','')[:-5]\n",
    "            img_file_name_final = f'pictures/{img_file_name}_{i:02}_{j}.png'\n",
    "            if 'Час' == d.index.name:\n",
    "                ax.set_title(f'{title_text}Запросы по часам, шт.', font=fpath)\n",
    "            elif 'Дата' == d.index.name:\n",
    "                ax.xaxis.set_major_locator(ticker.MultipleLocator(4)) \n",
    "                ax.set_title(f'{title_text}Запросы по датам, шт.', font=fpath)\n",
    "            elif 'Неделя' == d.index.name:\n",
    "                ax.set_title(f'{title_text}Запросы по неделям, шт.', font=fpath)\n",
    "            else:\n",
    "                ax.set_title(f'{title_text}Запросы по дням недели, шт.', font=fpath) \n",
    "            \n",
    "            im = plt.imread(r\"C:\\Users\\Mamed\\YandexDisk\\_Documents\\Проекты\\2ГИС 2023\\Лого\\лого_2гис_232_354.png\")\n",
    "            ax.figure.figimage(im, 3250, 150, zorder=1, alpha=0.5)\n",
    "          \n",
    "            im = plt.imread(r\"C:\\Users\\Mamed\\YandexDisk\\_Documents\\Проекты\\2ГИС 2023\\Лого\\лого_шт_232_354.png\")\n",
    "            ax.figure.figimage(im, 200, 1800, zorder=1, alpha=0.5)\n",
    "\n",
    "            ax.figure.savefig(img_file_name_final, bbox_inches='tight')\n",
    "            add_image(word_file, img_file_name_final, rubric, img_w=img_w, img_h=img_h, blank=blank,word_sample=word_sample)\n",
    "            #plt.show()\n",
    "            plt.close()"
   ]
  },
  {
   "cell_type": "code",
   "execution_count": 87,
   "id": "e586b029-4f55-47e2-b5f8-b88550878268",
   "metadata": {
    "execution": {
     "iopub.execute_input": "2023-04-25T21:56:02.191757Z",
     "iopub.status.busy": "2023-04-25T21:56:02.190752Z",
     "iopub.status.idle": "2023-04-25T21:56:23.993328Z",
     "shell.execute_reply": "2023-04-25T21:56:23.993328Z",
     "shell.execute_reply.started": "2023-04-25T21:56:02.190752Z"
    },
    "tags": []
   },
   "outputs": [
    {
     "name": "stdout",
     "output_type": "stream",
     "text": [
      "files/ten_city/df_dates_report_230426_0056.docx\n"
     ]
    },
    {
     "name": "stderr",
     "output_type": "stream",
     "text": [
      "100%|████████████████████████████████████████████████████████████████████████████████████| 1/1 [00:04<00:00,  4.41s/it]\n"
     ]
    }
   ],
   "source": [
    "make_linear_plots(f'files/ten_city/df_dates.xlsx', rubrics, 1,\n",
    "                 size_x=6.3*4, size_y=3.94*4, img_w=16.5, img_h=10, blank=True, word_sample='files/report_ten_city.docx')"
   ]
  },
  {
   "cell_type": "code",
   "execution_count": null,
   "id": "2b7c619e-9771-4a07-b6f6-0147836e3ac2",
   "metadata": {},
   "outputs": [],
   "source": []
  },
  {
   "cell_type": "markdown",
   "id": "e85929fa-11cd-48d9-b9c7-6ae0b7f85e67",
   "metadata": {
    "tags": []
   },
   "source": [
    "# Тренды "
   ]
  },
  {
   "cell_type": "code",
   "execution_count": 3,
   "id": "4b05afb1-c844-482e-ba41-8419d18e7c0e",
   "metadata": {
    "execution": {
     "iopub.execute_input": "2023-04-26T21:47:01.550698Z",
     "iopub.status.busy": "2023-04-26T21:47:01.550698Z",
     "iopub.status.idle": "2023-04-26T21:47:01.561707Z",
     "shell.execute_reply": "2023-04-26T21:47:01.559753Z",
     "shell.execute_reply.started": "2023-04-26T21:47:01.550698Z"
    },
    "tags": []
   },
   "outputs": [],
   "source": [
    "df_schema = StructType([StructField('user', StringType(), True), StructField('proj', StringType(), True), StructField('rubricName', StringType(), True), StructField('rubricID', IntegerType(), True), StructField('time', StringType(), True), StructField('date', StringType(), True), StructField('org', StringType(), True), StructField('branch', StringType(), True), StructField('prod', StringType(), True), StructField('tx', StringType(), True), StructField('fl', StringType(), True), StructField('devmod', StringType(), True), StructField('lat', StringType(), True), StructField('lon', StringType(), True)])\n",
    "df_list = [i for i in files_list_chain if 'Астана' in i or 'Бишкек' in i or 'Москва' in i or 'ОАЭ' in i or 'Ташкент' in i]\n",
    "df_list_new = [i for i in files_list_chain if i not in df_list]"
   ]
  },
  {
   "cell_type": "code",
   "execution_count": 4,
   "id": "b9d5e36c-c8fa-4543-92e0-96ddbf8a6dcf",
   "metadata": {
    "execution": {
     "iopub.execute_input": "2023-04-26T21:47:08.822477Z",
     "iopub.status.busy": "2023-04-26T21:47:08.821468Z",
     "iopub.status.idle": "2023-04-26T22:54:30.152759Z",
     "shell.execute_reply": "2023-04-26T22:54:30.146211Z",
     "shell.execute_reply.started": "2023-04-26T21:47:08.822477Z"
    },
    "tags": []
   },
   "outputs": [
    {
     "name": "stderr",
     "output_type": "stream",
     "text": [
      "100%|███████████████████████████████████████████████████████████████████████████████| 20/20 [1:07:21<00:00, 202.06s/it]\n"
     ]
    }
   ],
   "source": [
    "for file in tqdm(df_list_new):\n",
    "    df = spark.read.option(\"header\",\"true\").csv(file, schema=df_schema)\n",
    "    df.createOrReplaceTempView('df')\n",
    "    city = file.split('\\\\')[2]\n",
    "    df_new = spark.sql(f'''\n",
    "    select \n",
    "    rubricName\n",
    "    , \"{city}\" city\n",
    "    , time\n",
    "    , year(time) year_r\n",
    "    , hour(time) hour_r\n",
    "    , SUBSTR(time, 6, 5) date_r\n",
    "    , case when weekofyear(time) > 9 then 1 else weekofyear(time) end week_r\n",
    "    , case when extract(dayofweek from time) = 1 then 7\n",
    "        else extract(dayofweek from time)-1\n",
    "    end week_day_r\n",
    "\n",
    "    from df\n",
    "    ''').where('year_r in (2020,2021,2022,2023) and month(time) < 3 ')\n",
    "\n",
    "    df_new.write.mode('append').parquet(f'files/ten_city/df_dates')"
   ]
  },
  {
   "cell_type": "code",
   "execution_count": 6,
   "id": "a367dd14-cd5b-4d13-9904-60efbcc01491",
   "metadata": {
    "execution": {
     "iopub.execute_input": "2023-04-26T22:55:50.381852Z",
     "iopub.status.busy": "2023-04-26T22:55:50.381852Z",
     "iopub.status.idle": "2023-04-26T22:57:01.738479Z",
     "shell.execute_reply": "2023-04-26T22:57:01.737500Z",
     "shell.execute_reply.started": "2023-04-26T22:55:50.381852Z"
    },
    "tags": []
   },
   "outputs": [
    {
     "data": {
      "text/plain": [
       "906098201"
      ]
     },
     "execution_count": 6,
     "metadata": {},
     "output_type": "execute_result"
    }
   ],
   "source": [
    "spark.read.parquet(f'files/ten_city/df_dates').where('rubricName is not null').count()"
   ]
  },
  {
   "cell_type": "code",
   "execution_count": 7,
   "id": "c30876f9-d67a-43d2-a3ac-119db08a0640",
   "metadata": {
    "execution": {
     "iopub.execute_input": "2023-04-26T23:22:10.717355Z",
     "iopub.status.busy": "2023-04-26T23:22:10.717355Z",
     "iopub.status.idle": "2023-04-26T23:22:13.445556Z",
     "shell.execute_reply": "2023-04-26T23:22:13.444421Z",
     "shell.execute_reply.started": "2023-04-26T23:22:10.717355Z"
    },
    "tags": []
   },
   "outputs": [
    {
     "data": {
      "text/plain": [
       "1759325082"
      ]
     },
     "execution_count": 7,
     "metadata": {},
     "output_type": "execute_result"
    }
   ],
   "source": [
    "spark.read.parquet(f'files/ten_city/df_dates').count()"
   ]
  },
  {
   "cell_type": "code",
   "execution_count": 3,
   "id": "3070df3d-c4d4-4013-a9d6-bc57ed166846",
   "metadata": {
    "execution": {
     "iopub.execute_input": "2023-04-26T23:29:28.965263Z",
     "iopub.status.busy": "2023-04-26T23:29:28.964265Z",
     "iopub.status.idle": "2023-04-26T23:29:35.203126Z",
     "shell.execute_reply": "2023-04-26T23:29:35.202123Z",
     "shell.execute_reply.started": "2023-04-26T23:29:28.965263Z"
    },
    "tags": []
   },
   "outputs": [],
   "source": [
    "df_dates = spark.read.parquet(f'files/ten_city/df_dates')\n",
    "df_dates.createOrReplaceTempView('df_dates')"
   ]
  },
  {
   "cell_type": "code",
   "execution_count": 4,
   "id": "be357ae3-a88a-4fd3-885d-3c0b98f9971b",
   "metadata": {
    "execution": {
     "iopub.execute_input": "2023-04-26T23:29:40.115479Z",
     "iopub.status.busy": "2023-04-26T23:29:40.114480Z",
     "iopub.status.idle": "2023-04-26T23:53:56.349168Z",
     "shell.execute_reply": "2023-04-26T23:53:56.348179Z",
     "shell.execute_reply.started": "2023-04-26T23:29:40.115479Z"
    },
    "tags": []
   },
   "outputs": [
    {
     "name": "stderr",
     "output_type": "stream",
     "text": [
      "100%|███████████████████████████████████████████████████████████████████████████████████| 4/4 [24:16<00:00, 364.05s/it]\n"
     ]
    }
   ],
   "source": [
    "for col_r in tqdm(['hour_r', 'date_r', 'week_r', 'week_day_r']):\n",
    "    df_col = spark.sql(f'''       \n",
    "    select \n",
    "        year_r\n",
    "        , rubricName\n",
    "        , city\n",
    "        , {col_r}\n",
    "        , count(*) cnt\n",
    "    from df_dates\n",
    "    group by\n",
    "        year_r\n",
    "        , rubricName\n",
    "        , city\n",
    "        , {col_r}\n",
    "    ''')\n",
    "\n",
    "    df_col.write.mode('overwrite').parquet(f'files/ten_city/df_dates_{col_r}')\n",
    "    \n",
    "    df_dates_col = spark.read.parquet(f'files/ten_city/df_dates_{col_r}')\n",
    "    df_dates_col.createOrReplaceTempView('df_dates_col')\n",
    "    df_norm = spark.sql(f'''       \n",
    "    select \n",
    "        year_r\n",
    "        , rubricName\n",
    "        , city\n",
    "        , {col_r}\n",
    "        , sum(cnt) over(partition by rubricName, {col_r}) / sum(cnt) over(partition by rubricName)*100 cnt\n",
    "    from df_dates_col\n",
    "    ''')\n",
    "\n",
    "    df_norm.write.mode('overwrite').parquet(f'files/ten_city/df_dates_norm_{col_r}')"
   ]
  },
  {
   "cell_type": "code",
   "execution_count": 72,
   "id": "82572324-eb1d-4c89-8c77-ceb8ead932e5",
   "metadata": {
    "execution": {
     "iopub.execute_input": "2023-05-02T00:45:12.231179Z",
     "iopub.status.busy": "2023-05-02T00:45:12.231179Z",
     "iopub.status.idle": "2023-05-02T00:45:36.159392Z",
     "shell.execute_reply": "2023-05-02T00:45:36.158346Z",
     "shell.execute_reply.started": "2023-05-02T00:45:12.231179Z"
    },
    "tags": []
   },
   "outputs": [
    {
     "name": "stderr",
     "output_type": "stream",
     "text": [
      "  0%|                                                                                            | 0/4 [00:00<?, ?it/s]C:\\Users\\Mamed\\AppData\\Local\\Temp\\ipykernel_11236\\4224310882.py:11: FutureWarning: Dropping of nuisance columns in DataFrame reductions (with 'numeric_only=None') is deprecated; in a future version this will raise TypeError.  Select only valid columns before calling the reduction.\n",
      "  df_piv_mean = df_piv.toPandas().mean()\n",
      " 25%|█████████████████████                                                               | 1/4 [00:02<00:07,  2.36s/it]C:\\Users\\Mamed\\AppData\\Local\\Temp\\ipykernel_11236\\4224310882.py:11: FutureWarning: Dropping of nuisance columns in DataFrame reductions (with 'numeric_only=None') is deprecated; in a future version this will raise TypeError.  Select only valid columns before calling the reduction.\n",
      "  df_piv_mean = df_piv.toPandas().mean()\n",
      " 50%|██████████████████████████████████████████                                          | 2/4 [00:11<00:12,  6.44s/it]C:\\Users\\Mamed\\AppData\\Local\\Temp\\ipykernel_11236\\4224310882.py:11: FutureWarning: Dropping of nuisance columns in DataFrame reductions (with 'numeric_only=None') is deprecated; in a future version this will raise TypeError.  Select only valid columns before calling the reduction.\n",
      "  df_piv_mean = df_piv.toPandas().mean()\n",
      " 75%|███████████████████████████████████████████████████████████████                     | 3/4 [00:16<00:05,  5.85s/it]C:\\Users\\Mamed\\AppData\\Local\\Temp\\ipykernel_11236\\4224310882.py:11: FutureWarning: Dropping of nuisance columns in DataFrame reductions (with 'numeric_only=None') is deprecated; in a future version this will raise TypeError.  Select only valid columns before calling the reduction.\n",
      "  df_piv_mean = df_piv.toPandas().mean()\n",
      "100%|████████████████████████████████████████████████████████████████████████████████████| 4/4 [00:23<00:00,  5.88s/it]\n"
     ]
    }
   ],
   "source": [
    "path = f'files/ten_city/df_dates_rubrics.xlsx'\n",
    "writer = pd.ExcelWriter(path, engine = 'xlsxwriter')\n",
    "\n",
    "for col_r in tqdm(['hour_r', 'date_r', 'week_r', 'week_day_r']):\n",
    "    df_piv = spark.read.parquet(f'files/ten_city/df_dates_norm_{col_r}')\n",
    "    df_piv = df_piv.groupBy(\"rubricName\").pivot(col_r).sum(\"cnt\")\n",
    "    \n",
    "    for i in [i for i in df_piv.columns if i!='rubricName']:\n",
    "        df_piv = df_piv.withColumnRenamed(i, 'c'+i.replace('-','_'))\n",
    "        \n",
    "    df_piv_mean = df_piv.toPandas().mean()\n",
    "    df_piv_pd = df_piv.toPandas()\n",
    "    for i in range(df_piv_pd.shape[0]):\n",
    "        df_piv_pd.at[i, 'diff'] = abs(abs(df_piv_mean - df_piv_pd.iloc[i]).sum() / df_piv_mean.sum())\n",
    "    df_piv_pd = df_piv_pd[['rubricName','diff']]\n",
    "    df_piv_pd = df_piv_pd.loc[(~df_piv_pd.rubricName.str.contains('11', regex=False, na=False)) & (df_piv_pd.rubricName.notna()) \n",
    "                              & (~df_piv_pd.rubricName.str.contains('Сбер', regex=False, na=False)) & (~df_piv_pd.rubricName.str.contains('2ГИС', regex=False, na=False))]\n",
    "    df_piv_pd['bucket'] = pd.qcut(df_piv_pd['diff'], q=5, labels=range(5))\n",
    "    df_piv_pd['bucket_range'] = pd.qcut(df_piv_pd['diff'], q=5)\n",
    "    df_piv_pd = df_piv_pd.sort_values(['bucket_range', 'diff'])\n",
    "    df_piv_pd.to_excel(writer,index=False, sheet_name=col_r)\n",
    "    \n",
    "writer.close()"
   ]
  },
  {
   "cell_type": "code",
   "execution_count": 73,
   "id": "445aee6c-6291-4d69-b335-692643cd70cb",
   "metadata": {
    "execution": {
     "iopub.execute_input": "2023-05-02T00:45:36.161387Z",
     "iopub.status.busy": "2023-05-02T00:45:36.160391Z",
     "iopub.status.idle": "2023-05-02T00:45:48.124527Z",
     "shell.execute_reply": "2023-05-02T00:45:48.122530Z",
     "shell.execute_reply.started": "2023-05-02T00:45:36.161387Z"
    },
    "tags": []
   },
   "outputs": [
    {
     "name": "stderr",
     "output_type": "stream",
     "text": [
      "  0%|                                                                                            | 0/4 [00:00<?, ?it/s]C:\\Users\\Mamed\\AppData\\Local\\Temp\\ipykernel_11236\\3917210488.py:11: FutureWarning: Dropping of nuisance columns in DataFrame reductions (with 'numeric_only=None') is deprecated; in a future version this will raise TypeError.  Select only valid columns before calling the reduction.\n",
      "  df_piv_mean = df_piv.toPandas().mean()\n",
      " 25%|█████████████████████                                                               | 1/4 [00:02<00:06,  2.26s/it]C:\\Users\\Mamed\\AppData\\Local\\Temp\\ipykernel_11236\\3917210488.py:11: FutureWarning: Dropping of nuisance columns in DataFrame reductions (with 'numeric_only=None') is deprecated; in a future version this will raise TypeError.  Select only valid columns before calling the reduction.\n",
      "  df_piv_mean = df_piv.toPandas().mean()\n",
      " 50%|██████████████████████████████████████████                                          | 2/4 [00:07<00:08,  4.23s/it]C:\\Users\\Mamed\\AppData\\Local\\Temp\\ipykernel_11236\\3917210488.py:11: FutureWarning: Dropping of nuisance columns in DataFrame reductions (with 'numeric_only=None') is deprecated; in a future version this will raise TypeError.  Select only valid columns before calling the reduction.\n",
      "  df_piv_mean = df_piv.toPandas().mean()\n",
      " 75%|███████████████████████████████████████████████████████████████                     | 3/4 [00:09<00:03,  3.14s/it]C:\\Users\\Mamed\\AppData\\Local\\Temp\\ipykernel_11236\\3917210488.py:11: FutureWarning: Dropping of nuisance columns in DataFrame reductions (with 'numeric_only=None') is deprecated; in a future version this will raise TypeError.  Select only valid columns before calling the reduction.\n",
      "  df_piv_mean = df_piv.toPandas().mean()\n",
      "100%|████████████████████████████████████████████████████████████████████████████████████| 4/4 [00:11<00:00,  2.94s/it]\n"
     ]
    }
   ],
   "source": [
    "path = f'files/ten_city/df_dates_city.xlsx'\n",
    "writer = pd.ExcelWriter(path, engine = 'xlsxwriter')\n",
    "\n",
    "for col_r in tqdm(['hour_r', 'date_r', 'week_r', 'week_day_r']):\n",
    "    df_piv = spark.read.parquet(f'files/ten_city/df_dates_norm_{col_r}')\n",
    "    df_piv = df_piv.groupBy(\"city\").pivot(col_r).sum(\"cnt\")\n",
    "\n",
    "    for i in [i for i in df_piv.columns if i!='city']:\n",
    "        df_piv = df_piv.withColumnRenamed(i, 'c'+i.replace('-','_'))\n",
    "        \n",
    "    df_piv_mean = df_piv.toPandas().mean()\n",
    "    df_piv_pd = df_piv.toPandas()\n",
    "    for i in range(df_piv_pd.shape[0]):\n",
    "        df_piv_pd.at[i, 'diff'] = abs(abs(df_piv_mean - df_piv_pd.iloc[i]).sum() / df_piv_mean.sum())\n",
    "    df_piv_pd = df_piv_pd[['city','diff']]\n",
    "    df_piv_pd['bucket'] = pd.qcut(df_piv_pd['diff'], q=5, labels=range(5))\n",
    "    df_piv_pd['bucket_range'] = pd.qcut(df_piv_pd['diff'], q=5)\n",
    "    df_piv_pd = df_piv_pd.sort_values(['bucket_range', 'diff'])\n",
    "    df_piv_pd.to_excel(writer, index=False, sheet_name=col_r)\n",
    "    \n",
    "writer.close()"
   ]
  },
  {
   "cell_type": "code",
   "execution_count": 74,
   "id": "82cb3d10-fac3-4584-b31a-a84ff67bcff9",
   "metadata": {
    "execution": {
     "iopub.execute_input": "2023-05-02T00:45:48.128530Z",
     "iopub.status.busy": "2023-05-02T00:45:48.127529Z",
     "iopub.status.idle": "2023-05-02T00:47:20.847625Z",
     "shell.execute_reply": "2023-05-02T00:47:20.847625Z",
     "shell.execute_reply.started": "2023-05-02T00:45:48.128530Z"
    },
    "tags": []
   },
   "outputs": [
    {
     "name": "stderr",
     "output_type": "stream",
     "text": [
      "  0%|                                                                                            | 0/4 [00:00<?, ?it/s]C:\\Users\\Mamed\\AppData\\Local\\Temp\\ipykernel_11236\\4016236629.py:10: FutureWarning: Dropping of nuisance columns in DataFrame reductions (with 'numeric_only=None') is deprecated; in a future version this will raise TypeError.  Select only valid columns before calling the reduction.\n",
      "  df_piv_mean = df_piv.toPandas().mean()\n",
      " 25%|█████████████████████                                                               | 1/4 [00:22<01:07, 22.64s/it]C:\\Users\\Mamed\\AppData\\Local\\Temp\\ipykernel_11236\\4016236629.py:10: FutureWarning: Dropping of nuisance columns in DataFrame reductions (with 'numeric_only=None') is deprecated; in a future version this will raise TypeError.  Select only valid columns before calling the reduction.\n",
      "  df_piv_mean = df_piv.toPandas().mean()\n",
      " 50%|██████████████████████████████████████████                                          | 2/4 [00:47<00:47, 23.93s/it]C:\\Users\\Mamed\\AppData\\Local\\Temp\\ipykernel_11236\\4016236629.py:10: FutureWarning: Dropping of nuisance columns in DataFrame reductions (with 'numeric_only=None') is deprecated; in a future version this will raise TypeError.  Select only valid columns before calling the reduction.\n",
      "  df_piv_mean = df_piv.toPandas().mean()\n",
      " 75%|███████████████████████████████████████████████████████████████                     | 3/4 [01:09<00:23, 23.27s/it]C:\\Users\\Mamed\\AppData\\Local\\Temp\\ipykernel_11236\\4016236629.py:10: FutureWarning: Dropping of nuisance columns in DataFrame reductions (with 'numeric_only=None') is deprecated; in a future version this will raise TypeError.  Select only valid columns before calling the reduction.\n",
      "  df_piv_mean = df_piv.toPandas().mean()\n",
      "100%|████████████████████████████████████████████████████████████████████████████████████| 4/4 [01:30<00:00, 22.71s/it]\n"
     ]
    }
   ],
   "source": [
    "path = f'files/ten_city/df_dates_rubrics_city.xlsx'\n",
    "writer = pd.ExcelWriter(path, engine = 'xlsxwriter')\n",
    "for col_r in tqdm(['hour_r', 'date_r', 'week_r', 'week_day_r']):\n",
    "    df_piv = spark.read.parquet(f'files/ten_city/df_dates_norm_{col_r}')\n",
    "    df_piv = df_piv.groupBy([\"rubricName\", \"city\"]).pivot(col_r).sum(\"cnt\")\n",
    "\n",
    "    for i in [i for i in df_piv.columns if i!='city' and i!='rubricName']:\n",
    "        df_piv = df_piv.withColumnRenamed(i, 'c'+i.replace('-','_'))\n",
    "        \n",
    "    df_piv_mean = df_piv.toPandas().mean()\n",
    "    df_piv_pd = df_piv.toPandas()\n",
    "    for i in range(df_piv_pd.shape[0]):\n",
    "        df_piv_pd.at[i, 'diff'] = abs(abs(df_piv_mean - df_piv_pd.iloc[i]).sum() / df_piv_mean.sum())\n",
    "    df_piv_pd = df_piv_pd[[\"rubricName\", \"city\",'diff']]\n",
    "    df_piv_pd = df_piv_pd.loc[(~df_piv_pd.rubricName.str.contains('11', regex=False, na=False)) & (df_piv_pd.rubricName.notna()) \n",
    "                          & (~df_piv_pd.rubricName.str.contains('Сбер', regex=False, na=False)) & (~df_piv_pd.rubricName.str.contains('2ГИС', regex=False, na=False))]\n",
    "    df_piv_pd['bucket'] = pd.qcut(df_piv_pd['diff'], q=5, labels=range(5))\n",
    "    df_piv_pd['bucket_range'] = pd.qcut(df_piv_pd['diff'], q=5)\n",
    "    df_piv_pd = df_piv_pd.sort_values(['bucket_range', 'diff'])\n",
    "    df_piv_pd.to_excel(writer,index=False, sheet_name=col_r)\n",
    "writer.close()"
   ]
  },
  {
   "cell_type": "code",
   "execution_count": 201,
   "id": "59ef38e2-004e-48a9-8b7a-8c4260f4c015",
   "metadata": {
    "execution": {
     "iopub.execute_input": "2023-04-27T21:13:37.573952Z",
     "iopub.status.busy": "2023-04-27T21:13:37.573952Z",
     "iopub.status.idle": "2023-04-27T21:13:37.585954Z",
     "shell.execute_reply": "2023-04-27T21:13:37.584950Z",
     "shell.execute_reply.started": "2023-04-27T21:13:37.573952Z"
    },
    "tags": []
   },
   "outputs": [],
   "source": [
    "dates = [r\"C:\\Users\\Mamed\\_Notebooks\\2GIS_2023\\files\\ten_city\\df_dates_city.xlsx\",\n",
    "r\"C:\\Users\\Mamed\\_Notebooks\\2GIS_2023\\files\\ten_city\\df_dates_rubrics.xlsx\",\n",
    "r\"C:\\Users\\Mamed\\_Notebooks\\2GIS_2023\\files\\ten_city\\df_dates_rubrics_city.xlsx\"]"
   ]
  },
  {
   "cell_type": "code",
   "execution_count": null,
   "id": "5cf0a0e2-c2f9-46db-ba2a-eb006fea8dde",
   "metadata": {
    "execution": {
     "iopub.execute_input": "2023-04-27T21:24:56.805091Z",
     "iopub.status.busy": "2023-04-27T21:24:56.805091Z",
     "iopub.status.idle": "2023-04-27T21:25:01.561826Z",
     "shell.execute_reply": "2023-04-27T21:25:01.559825Z",
     "shell.execute_reply.started": "2023-04-27T21:24:56.805091Z"
    },
    "tags": []
   },
   "outputs": [],
   "source": [
    "i = 0\n",
    "\n",
    "for file in dates:\n",
    "    for col_r in ['hour_r', 'date_r', 'week_r', 'week_day_r']:\n",
    "        xr = pd.read_excel(file, sheet_name=col_r)\n",
    "        file_name = file.split('\\\\')[-1].replace('.xlsx','').replace('df_dates_','')\n",
    "        sns_plot = sns.displot(data=xr, x=\"diff\", kde=True, height=10).set(title=f'{file_name}_{col_r}'.replace('_r',''))\n",
    "        fig = sns_plot.figure\n",
    "        i+=1\n",
    "        fig.savefig(f\"pictures/ten_city/displot_{i}.png\")"
   ]
  },
  {
   "cell_type": "code",
   "execution_count": null,
   "id": "484cf7d1-cf67-4c32-bc02-f6d1c24dd4ab",
   "metadata": {},
   "outputs": [],
   "source": []
  },
  {
   "cell_type": "markdown",
   "id": "6564668b-51d6-44c0-a7ff-8e746e61c462",
   "metadata": {
    "jp-MarkdownHeadingCollapsed": true,
    "tags": []
   },
   "source": [
    "# Матрицы"
   ]
  },
  {
   "cell_type": "code",
   "execution_count": 94,
   "id": "92bda6bb-d070-4438-858e-c2bb7a17d408",
   "metadata": {
    "execution": {
     "iopub.execute_input": "2023-04-25T22:08:04.987227Z",
     "iopub.status.busy": "2023-04-25T22:08:04.986222Z",
     "iopub.status.idle": "2023-04-25T22:08:04.998650Z",
     "shell.execute_reply": "2023-04-25T22:08:04.998650Z",
     "shell.execute_reply.started": "2023-04-25T22:08:04.987227Z"
    },
    "tags": []
   },
   "outputs": [],
   "source": [
    "file = r\"C:\\Users\\Mamed\\YandexDisk\\_Documents\\Проекты\\2ГИС 2023\\10 городов\\Мастер_таблица_2ГИС_10_городов_230419_1700_ext.xlsx\"\n",
    "city = 'ten_city'"
   ]
  },
  {
   "cell_type": "code",
   "execution_count": 91,
   "id": "8a1fdb71-4471-4e51-95d5-e3aaa31a2e6f",
   "metadata": {
    "execution": {
     "iopub.execute_input": "2023-04-25T22:06:04.315848Z",
     "iopub.status.busy": "2023-04-25T22:06:04.315848Z",
     "iopub.status.idle": "2023-04-25T22:06:12.802912Z",
     "shell.execute_reply": "2023-04-25T22:06:12.801980Z",
     "shell.execute_reply.started": "2023-04-25T22:06:04.315848Z"
    },
    "tags": []
   },
   "outputs": [
    {
     "name": "stdout",
     "output_type": "stream",
     "text": [
      "files/ten_city/ten_city_shars_230426_0106.docx\n"
     ]
    },
    {
     "name": "stderr",
     "output_type": "stream",
     "text": [
      "100%|████████████████████████████████████████████████████████████████████████████████████| 2/2 [00:08<00:00,  4.22s/it]\n"
     ]
    },
    {
     "data": {
      "text/html": [
       "<div>\n",
       "<style scoped>\n",
       "    .dataframe tbody tr th:only-of-type {\n",
       "        vertical-align: middle;\n",
       "    }\n",
       "\n",
       "    .dataframe tbody tr th {\n",
       "        vertical-align: top;\n",
       "    }\n",
       "\n",
       "    .dataframe thead th {\n",
       "        text-align: right;\n",
       "    }\n",
       "</style>\n",
       "<table border=\"1\" class=\"dataframe\">\n",
       "  <thead>\n",
       "    <tr style=\"text-align: right;\">\n",
       "      <th></th>\n",
       "      <th>Запросы 2022</th>\n",
       "      <th>Запросы 2023</th>\n",
       "      <th>Запросы, итого</th>\n",
       "      <th>Рост/Падение, %</th>\n",
       "      <th>Доля рынка, %</th>\n",
       "      <th>group</th>\n",
       "    </tr>\n",
       "    <tr>\n",
       "      <th>Рубрика</th>\n",
       "      <th></th>\n",
       "      <th></th>\n",
       "      <th></th>\n",
       "      <th></th>\n",
       "      <th></th>\n",
       "      <th></th>\n",
       "    </tr>\n",
       "  </thead>\n",
       "  <tbody>\n",
       "    <tr>\n",
       "      <th>Рестораны</th>\n",
       "      <td>7769996.0</td>\n",
       "      <td>9838915.0</td>\n",
       "      <td>300.000000</td>\n",
       "      <td>1.266270</td>\n",
       "      <td>0.037746</td>\n",
       "      <td>Звёзды:</td>\n",
       "    </tr>\n",
       "    <tr>\n",
       "      <th>Торгово-развлекательные центры / Моллы</th>\n",
       "      <td>7748475.0</td>\n",
       "      <td>8521960.0</td>\n",
       "      <td>273.279853</td>\n",
       "      <td>1.099824</td>\n",
       "      <td>0.032693</td>\n",
       "      <td>Звёзды:</td>\n",
       "    </tr>\n",
       "    <tr>\n",
       "      <th>Гостиницы</th>\n",
       "      <td>6166348.0</td>\n",
       "      <td>7856070.0</td>\n",
       "      <td>188.612841</td>\n",
       "      <td>1.274023</td>\n",
       "      <td>0.030139</td>\n",
       "      <td>Звёзды:</td>\n",
       "    </tr>\n",
       "    <tr>\n",
       "      <th>Быстрое питание</th>\n",
       "      <td>5903936.0</td>\n",
       "      <td>7163944.0</td>\n",
       "      <td>186.169989</td>\n",
       "      <td>1.213418</td>\n",
       "      <td>0.027483</td>\n",
       "      <td>Звёзды:</td>\n",
       "    </tr>\n",
       "    <tr>\n",
       "      <th>Супермаркеты</th>\n",
       "      <td>5036586.0</td>\n",
       "      <td>5396175.0</td>\n",
       "      <td>121.916109</td>\n",
       "      <td>1.071395</td>\n",
       "      <td>0.020702</td>\n",
       "      <td>Собаки:</td>\n",
       "    </tr>\n",
       "    <tr>\n",
       "      <th>Бизнес-центры</th>\n",
       "      <td>4888856.0</td>\n",
       "      <td>5175877.0</td>\n",
       "      <td>125.830240</td>\n",
       "      <td>1.058709</td>\n",
       "      <td>0.019856</td>\n",
       "      <td>Собаки:</td>\n",
       "    </tr>\n",
       "    <tr>\n",
       "      <th>Бары</th>\n",
       "      <td>4133699.0</td>\n",
       "      <td>5079654.0</td>\n",
       "      <td>57.593162</td>\n",
       "      <td>1.228840</td>\n",
       "      <td>0.019487</td>\n",
       "      <td>Дети:</td>\n",
       "    </tr>\n",
       "    <tr>\n",
       "      <th>Торговые центры / Универсальные магазины</th>\n",
       "      <td>4334905.0</td>\n",
       "      <td>4982180.0</td>\n",
       "      <td>96.286342</td>\n",
       "      <td>1.149317</td>\n",
       "      <td>0.019113</td>\n",
       "      <td>Дети:</td>\n",
       "    </tr>\n",
       "    <tr>\n",
       "      <th>Аптеки</th>\n",
       "      <td>4800023.0</td>\n",
       "      <td>4736885.0</td>\n",
       "      <td>77.918592</td>\n",
       "      <td>0.986846</td>\n",
       "      <td>0.018172</td>\n",
       "      <td>Собаки:</td>\n",
       "    </tr>\n",
       "    <tr>\n",
       "      <th>Кофейни</th>\n",
       "      <td>4060966.0</td>\n",
       "      <td>4521031.0</td>\n",
       "      <td>34.855565</td>\n",
       "      <td>1.113290</td>\n",
       "      <td>0.017344</td>\n",
       "      <td>Дети:</td>\n",
       "    </tr>\n",
       "    <tr>\n",
       "      <th>Банки</th>\n",
       "      <td>3975305.0</td>\n",
       "      <td>3609676.0</td>\n",
       "      <td>26.284976</td>\n",
       "      <td>0.908025</td>\n",
       "      <td>0.013848</td>\n",
       "      <td>Собаки:</td>\n",
       "    </tr>\n",
       "    <tr>\n",
       "      <th>Парикмахерские</th>\n",
       "      <td>3302962.0</td>\n",
       "      <td>3603178.0</td>\n",
       "      <td>0.000000</td>\n",
       "      <td>1.090893</td>\n",
       "      <td>0.013823</td>\n",
       "      <td>Собаки:</td>\n",
       "    </tr>\n",
       "    <tr>\n",
       "      <th>Бани / Сауны</th>\n",
       "      <td>4101755.0</td>\n",
       "      <td>5327543.0</td>\n",
       "      <td>300.000000</td>\n",
       "      <td>1.298845</td>\n",
       "      <td>0.020438</td>\n",
       "      <td>Звёзды:</td>\n",
       "    </tr>\n",
       "    <tr>\n",
       "      <th>Многопрофильные медицинские центры</th>\n",
       "      <td>3276969.0</td>\n",
       "      <td>3605172.0</td>\n",
       "      <td>198.097818</td>\n",
       "      <td>1.100154</td>\n",
       "      <td>0.013831</td>\n",
       "      <td>Звёзды:</td>\n",
       "    </tr>\n",
       "    <tr>\n",
       "      <th>Банкоматы</th>\n",
       "      <td>3708351.0</td>\n",
       "      <td>3103958.0</td>\n",
       "      <td>213.065496</td>\n",
       "      <td>0.837018</td>\n",
       "      <td>0.011908</td>\n",
       "      <td>Собаки:</td>\n",
       "    </tr>\n",
       "    <tr>\n",
       "      <th>Стоматологические центры</th>\n",
       "      <td>2562830.0</td>\n",
       "      <td>3011386.0</td>\n",
       "      <td>114.954553</td>\n",
       "      <td>1.175024</td>\n",
       "      <td>0.011553</td>\n",
       "      <td>Дети:</td>\n",
       "    </tr>\n",
       "    <tr>\n",
       "      <th>Продуктовые магазины</th>\n",
       "      <td>2753233.0</td>\n",
       "      <td>2978366.0</td>\n",
       "      <td>173.666314</td>\n",
       "      <td>1.081770</td>\n",
       "      <td>0.011426</td>\n",
       "      <td>Дети:</td>\n",
       "    </tr>\n",
       "    <tr>\n",
       "      <th>Фитнес-клубы</th>\n",
       "      <td>1918976.0</td>\n",
       "      <td>2300471.0</td>\n",
       "      <td>61.360929</td>\n",
       "      <td>1.198801</td>\n",
       "      <td>0.008825</td>\n",
       "      <td>Дети:</td>\n",
       "    </tr>\n",
       "    <tr>\n",
       "      <th>Университеты</th>\n",
       "      <td>1579554.0</td>\n",
       "      <td>2022120.0</td>\n",
       "      <td>38.329398</td>\n",
       "      <td>1.280184</td>\n",
       "      <td>0.007758</td>\n",
       "      <td>Дети:</td>\n",
       "    </tr>\n",
       "    <tr>\n",
       "      <th>Заправочные станции</th>\n",
       "      <td>1984400.0</td>\n",
       "      <td>1942082.0</td>\n",
       "      <td>48.753758</td>\n",
       "      <td>0.978675</td>\n",
       "      <td>0.007451</td>\n",
       "      <td>Собаки:</td>\n",
       "    </tr>\n",
       "    <tr>\n",
       "      <th>Школы</th>\n",
       "      <td>1513132.0</td>\n",
       "      <td>1905633.0</td>\n",
       "      <td>38.351166</td>\n",
       "      <td>1.259396</td>\n",
       "      <td>0.007311</td>\n",
       "      <td>Дети:</td>\n",
       "    </tr>\n",
       "    <tr>\n",
       "      <th>Больницы</th>\n",
       "      <td>1515544.0</td>\n",
       "      <td>1880102.0</td>\n",
       "      <td>25.123195</td>\n",
       "      <td>1.240546</td>\n",
       "      <td>0.007213</td>\n",
       "      <td>Дети:</td>\n",
       "    </tr>\n",
       "    <tr>\n",
       "      <th>Музеи</th>\n",
       "      <td>1154329.0</td>\n",
       "      <td>1454544.0</td>\n",
       "      <td>0.000000</td>\n",
       "      <td>1.260077</td>\n",
       "      <td>0.005580</td>\n",
       "      <td>Дети:</td>\n",
       "    </tr>\n",
       "    <tr>\n",
       "      <th>Новостройки</th>\n",
       "      <td>1194258.0</td>\n",
       "      <td>1418345.0</td>\n",
       "      <td>8.569672</td>\n",
       "      <td>1.187637</td>\n",
       "      <td>0.005441</td>\n",
       "      <td>Дети:</td>\n",
       "    </tr>\n",
       "  </tbody>\n",
       "</table>\n",
       "</div>"
      ],
      "text/plain": [
       "                                          Запросы 2022  Запросы 2023  \\\n",
       "Рубрика                                                                \n",
       "Рестораны                                    7769996.0     9838915.0   \n",
       "Торгово-развлекательные центры / Моллы       7748475.0     8521960.0   \n",
       "Гостиницы                                    6166348.0     7856070.0   \n",
       "Быстрое питание                              5903936.0     7163944.0   \n",
       "Супермаркеты                                 5036586.0     5396175.0   \n",
       "Бизнес-центры                                4888856.0     5175877.0   \n",
       "Бары                                         4133699.0     5079654.0   \n",
       "Торговые центры / Универсальные магазины     4334905.0     4982180.0   \n",
       "Аптеки                                       4800023.0     4736885.0   \n",
       "Кофейни                                      4060966.0     4521031.0   \n",
       "Банки                                        3975305.0     3609676.0   \n",
       "Парикмахерские                               3302962.0     3603178.0   \n",
       "Бани / Сауны                                 4101755.0     5327543.0   \n",
       "Многопрофильные медицинские центры           3276969.0     3605172.0   \n",
       "Банкоматы                                    3708351.0     3103958.0   \n",
       "Стоматологические центры                     2562830.0     3011386.0   \n",
       "Продуктовые магазины                         2753233.0     2978366.0   \n",
       "Фитнес-клубы                                 1918976.0     2300471.0   \n",
       "Университеты                                 1579554.0     2022120.0   \n",
       "Заправочные станции                          1984400.0     1942082.0   \n",
       "Школы                                        1513132.0     1905633.0   \n",
       "Больницы                                     1515544.0     1880102.0   \n",
       "Музеи                                        1154329.0     1454544.0   \n",
       "Новостройки                                  1194258.0     1418345.0   \n",
       "\n",
       "                                          Запросы, итого  Рост/Падение, %  \\\n",
       "Рубрика                                                                     \n",
       "Рестораны                                     300.000000         1.266270   \n",
       "Торгово-развлекательные центры / Моллы        273.279853         1.099824   \n",
       "Гостиницы                                     188.612841         1.274023   \n",
       "Быстрое питание                               186.169989         1.213418   \n",
       "Супермаркеты                                  121.916109         1.071395   \n",
       "Бизнес-центры                                 125.830240         1.058709   \n",
       "Бары                                           57.593162         1.228840   \n",
       "Торговые центры / Универсальные магазины       96.286342         1.149317   \n",
       "Аптеки                                         77.918592         0.986846   \n",
       "Кофейни                                        34.855565         1.113290   \n",
       "Банки                                          26.284976         0.908025   \n",
       "Парикмахерские                                  0.000000         1.090893   \n",
       "Бани / Сауны                                  300.000000         1.298845   \n",
       "Многопрофильные медицинские центры            198.097818         1.100154   \n",
       "Банкоматы                                     213.065496         0.837018   \n",
       "Стоматологические центры                      114.954553         1.175024   \n",
       "Продуктовые магазины                          173.666314         1.081770   \n",
       "Фитнес-клубы                                   61.360929         1.198801   \n",
       "Университеты                                   38.329398         1.280184   \n",
       "Заправочные станции                            48.753758         0.978675   \n",
       "Школы                                          38.351166         1.259396   \n",
       "Больницы                                       25.123195         1.240546   \n",
       "Музеи                                           0.000000         1.260077   \n",
       "Новостройки                                     8.569672         1.187637   \n",
       "\n",
       "                                          Доля рынка, %    group  \n",
       "Рубрика                                                           \n",
       "Рестораны                                      0.037746  Звёзды:  \n",
       "Торгово-развлекательные центры / Моллы         0.032693  Звёзды:  \n",
       "Гостиницы                                      0.030139  Звёзды:  \n",
       "Быстрое питание                                0.027483  Звёзды:  \n",
       "Супермаркеты                                   0.020702  Собаки:  \n",
       "Бизнес-центры                                  0.019856  Собаки:  \n",
       "Бары                                           0.019487    Дети:  \n",
       "Торговые центры / Универсальные магазины       0.019113    Дети:  \n",
       "Аптеки                                         0.018172  Собаки:  \n",
       "Кофейни                                        0.017344    Дети:  \n",
       "Банки                                          0.013848  Собаки:  \n",
       "Парикмахерские                                 0.013823  Собаки:  \n",
       "Бани / Сауны                                   0.020438  Звёзды:  \n",
       "Многопрофильные медицинские центры             0.013831  Звёзды:  \n",
       "Банкоматы                                      0.011908  Собаки:  \n",
       "Стоматологические центры                       0.011553    Дети:  \n",
       "Продуктовые магазины                           0.011426    Дети:  \n",
       "Фитнес-клубы                                   0.008825    Дети:  \n",
       "Университеты                                   0.007758    Дети:  \n",
       "Заправочные станции                            0.007451  Собаки:  \n",
       "Школы                                          0.007311    Дети:  \n",
       "Больницы                                       0.007213    Дети:  \n",
       "Музеи                                          0.005580    Дети:  \n",
       "Новостройки                                    0.005441    Дети:  "
      ]
     },
     "execution_count": 91,
     "metadata": {},
     "output_type": "execute_result"
    }
   ],
   "source": [
    "plot_matrix(file, city, cnt_graphics=2, cnt_shars=12, step=1, size_x=6.3*4, size_y=3.94*4, font_size=28, img_w=16.5, img_h=10, blank=True, word_sample='files/report_ten_city.docx')"
   ]
  },
  {
   "cell_type": "code",
   "execution_count": 95,
   "id": "af93a8e8-2ec4-40b8-ab7d-5f0607b857d0",
   "metadata": {
    "execution": {
     "iopub.execute_input": "2023-04-25T22:08:07.280773Z",
     "iopub.status.busy": "2023-04-25T22:08:07.280773Z",
     "iopub.status.idle": "2023-04-25T22:08:16.284417Z",
     "shell.execute_reply": "2023-04-25T22:08:16.283521Z",
     "shell.execute_reply.started": "2023-04-25T22:08:07.280773Z"
    },
    "tags": []
   },
   "outputs": [
    {
     "name": "stdout",
     "output_type": "stream",
     "text": [
      "files/ten_city/ten_city_shars_230426_0108.docx\n",
      "[########################################] | 100% Completed | 3.71 sms\n",
      "[########################################] | 100% Completed | 3.78 s\n",
      "[########################################] | 100% Completed | 3.89 s\n",
      "[########################################] | 100% Completed | 3.97 s\n",
      "[########################################] | 100% Completed | 4.07 s\n",
      "[########################################] | 100% Completed | 4.14 s\n",
      "[########################################] | 100% Completed | 4.25 s\n",
      "[########################################] | 100% Completed | 4.31 s\n",
      "[########################################] | 100% Completed | 4.42 s\n",
      "[########################################] | 100% Completed | 4.45 s\n",
      "[########################################] | 100% Completed | 4.48 s\n",
      "[########################################] | 100% Completed | 4.51 s\n",
      "[########################################] | 100% Completed | 4.54 s\n",
      "[########################################] | 100% Completed | 4.62 s\n",
      "[########################################] | 100% Completed | 4.73 s\n"
     ]
    },
    {
     "name": "stderr",
     "output_type": "stream",
     "text": [
      "100%|████████████████████████████████████████████████████████████████████████████████████| 2/2 [00:03<00:00,  1.94s/it]\n"
     ]
    },
    {
     "data": {
      "text/html": [
       "<div>\n",
       "<style scoped>\n",
       "    .dataframe tbody tr th:only-of-type {\n",
       "        vertical-align: middle;\n",
       "    }\n",
       "\n",
       "    .dataframe tbody tr th {\n",
       "        vertical-align: top;\n",
       "    }\n",
       "\n",
       "    .dataframe thead th {\n",
       "        text-align: right;\n",
       "    }\n",
       "</style>\n",
       "<table border=\"1\" class=\"dataframe\">\n",
       "  <thead>\n",
       "    <tr style=\"text-align: right;\">\n",
       "      <th></th>\n",
       "      <th>rubricName</th>\n",
       "      <th>Запросы 2020</th>\n",
       "      <th>Запросы 2021</th>\n",
       "      <th>Запросы 2022</th>\n",
       "      <th>Запросы 2023</th>\n",
       "      <th>Запросы, итого</th>\n",
       "      <th>Рост/Падение, %</th>\n",
       "      <th>Доля рынка, %</th>\n",
       "      <th>group</th>\n",
       "    </tr>\n",
       "    <tr>\n",
       "      <th>city</th>\n",
       "      <th></th>\n",
       "      <th></th>\n",
       "      <th></th>\n",
       "      <th></th>\n",
       "      <th></th>\n",
       "      <th></th>\n",
       "      <th></th>\n",
       "      <th></th>\n",
       "      <th></th>\n",
       "    </tr>\n",
       "  </thead>\n",
       "  <tbody>\n",
       "    <tr>\n",
       "      <th>Алматы</th>\n",
       "      <td>Автовокзалы / Автостанции</td>\n",
       "      <td>280644</td>\n",
       "      <td>273340</td>\n",
       "      <td>345673</td>\n",
       "      <td>484328</td>\n",
       "      <td>300.000000</td>\n",
       "      <td>1.401116</td>\n",
       "      <td>0.002513</td>\n",
       "      <td>Звёзды:</td>\n",
       "    </tr>\n",
       "    <tr>\n",
       "      <th>Бишкек</th>\n",
       "      <td>Автовокзалы / Автостанции</td>\n",
       "      <td>55890</td>\n",
       "      <td>55565</td>\n",
       "      <td>78550</td>\n",
       "      <td>91577</td>\n",
       "      <td>59.257553</td>\n",
       "      <td>1.165843</td>\n",
       "      <td>0.000475</td>\n",
       "      <td>Дети:</td>\n",
       "    </tr>\n",
       "    <tr>\n",
       "      <th>ОАЭ</th>\n",
       "      <td>Автовокзалы / Автостанции</td>\n",
       "      <td>35322</td>\n",
       "      <td>32534</td>\n",
       "      <td>71690</td>\n",
       "      <td>91374</td>\n",
       "      <td>48.194000</td>\n",
       "      <td>1.274571</td>\n",
       "      <td>0.000474</td>\n",
       "      <td>Дети:</td>\n",
       "    </tr>\n",
       "    <tr>\n",
       "      <th>Новосибирск</th>\n",
       "      <td>Автовокзалы / Автостанции</td>\n",
       "      <td>113799</td>\n",
       "      <td>96703</td>\n",
       "      <td>70730</td>\n",
       "      <td>72460</td>\n",
       "      <td>75.004914</td>\n",
       "      <td>1.024459</td>\n",
       "      <td>0.000376</td>\n",
       "      <td>Дети:</td>\n",
       "    </tr>\n",
       "    <tr>\n",
       "      <th>Москва</th>\n",
       "      <td>Автовокзалы / Автостанции</td>\n",
       "      <td>75416</td>\n",
       "      <td>53850</td>\n",
       "      <td>56994</td>\n",
       "      <td>56580</td>\n",
       "      <td>50.797086</td>\n",
       "      <td>0.992736</td>\n",
       "      <td>0.000294</td>\n",
       "      <td>Дети:</td>\n",
       "    </tr>\n",
       "    <tr>\n",
       "      <th>Владивосток</th>\n",
       "      <td>Автовокзалы / Автостанции</td>\n",
       "      <td>22089</td>\n",
       "      <td>21978</td>\n",
       "      <td>23459</td>\n",
       "      <td>22996</td>\n",
       "      <td>17.533925</td>\n",
       "      <td>0.980263</td>\n",
       "      <td>0.000119</td>\n",
       "      <td>Дети:</td>\n",
       "    </tr>\n",
       "    <tr>\n",
       "      <th>СПБ</th>\n",
       "      <td>Автовокзалы / Автостанции</td>\n",
       "      <td>30678</td>\n",
       "      <td>9889</td>\n",
       "      <td>13780</td>\n",
       "      <td>14813</td>\n",
       "      <td>12.868898</td>\n",
       "      <td>1.074964</td>\n",
       "      <td>0.000077</td>\n",
       "      <td>Дети:</td>\n",
       "    </tr>\n",
       "    <tr>\n",
       "      <th>Астана</th>\n",
       "      <td>Автовокзалы / Автостанции</td>\n",
       "      <td>20385</td>\n",
       "      <td>6171</td>\n",
       "      <td>7809</td>\n",
       "      <td>9291</td>\n",
       "      <td>7.299342</td>\n",
       "      <td>1.189781</td>\n",
       "      <td>0.000048</td>\n",
       "      <td>Дети:</td>\n",
       "    </tr>\n",
       "    <tr>\n",
       "      <th>Калининград</th>\n",
       "      <td>Автовокзалы / Автостанции</td>\n",
       "      <td>12772</td>\n",
       "      <td>10024</td>\n",
       "      <td>7736</td>\n",
       "      <td>5617</td>\n",
       "      <td>5.659965</td>\n",
       "      <td>0.726086</td>\n",
       "      <td>0.000029</td>\n",
       "      <td>Собаки:</td>\n",
       "    </tr>\n",
       "    <tr>\n",
       "      <th>Ташкент</th>\n",
       "      <td>Автовокзалы / Автостанции</td>\n",
       "      <td>3051</td>\n",
       "      <td>2754</td>\n",
       "      <td>3069</td>\n",
       "      <td>1357</td>\n",
       "      <td>0.000000</td>\n",
       "      <td>0.442164</td>\n",
       "      <td>0.000007</td>\n",
       "      <td>Собаки:</td>\n",
       "    </tr>\n",
       "    <tr>\n",
       "      <th>Новосибирск</th>\n",
       "      <td>Автозапчасти для иномарок</td>\n",
       "      <td>337185</td>\n",
       "      <td>358465</td>\n",
       "      <td>280138</td>\n",
       "      <td>311204</td>\n",
       "      <td>300.000000</td>\n",
       "      <td>1.110895</td>\n",
       "      <td>0.001614</td>\n",
       "      <td>Звёзды:</td>\n",
       "    </tr>\n",
       "    <tr>\n",
       "      <th>Владивосток</th>\n",
       "      <td>Автозапчасти для иномарок</td>\n",
       "      <td>101111</td>\n",
       "      <td>91682</td>\n",
       "      <td>95356</td>\n",
       "      <td>111494</td>\n",
       "      <td>70.094206</td>\n",
       "      <td>1.169239</td>\n",
       "      <td>0.000578</td>\n",
       "      <td>Дети:</td>\n",
       "    </tr>\n",
       "    <tr>\n",
       "      <th>Москва</th>\n",
       "      <td>Автозапчасти для иномарок</td>\n",
       "      <td>62281</td>\n",
       "      <td>72811</td>\n",
       "      <td>83412</td>\n",
       "      <td>90574</td>\n",
       "      <td>46.629461</td>\n",
       "      <td>1.085863</td>\n",
       "      <td>0.000470</td>\n",
       "      <td>Дети:</td>\n",
       "    </tr>\n",
       "    <tr>\n",
       "      <th>СПБ</th>\n",
       "      <td>Автозапчасти для иномарок</td>\n",
       "      <td>35193</td>\n",
       "      <td>38589</td>\n",
       "      <td>46737</td>\n",
       "      <td>47330</td>\n",
       "      <td>10.038035</td>\n",
       "      <td>1.012688</td>\n",
       "      <td>0.000246</td>\n",
       "      <td>Собаки:</td>\n",
       "    </tr>\n",
       "    <tr>\n",
       "      <th>Калининград</th>\n",
       "      <td>Автозапчасти для иномарок</td>\n",
       "      <td>37590</td>\n",
       "      <td>29996</td>\n",
       "      <td>32750</td>\n",
       "      <td>28770</td>\n",
       "      <td>0.000000</td>\n",
       "      <td>0.878473</td>\n",
       "      <td>0.000149</td>\n",
       "      <td>Собаки:</td>\n",
       "    </tr>\n",
       "  </tbody>\n",
       "</table>\n",
       "</div>"
      ],
      "text/plain": [
       "                            rubricName  Запросы 2020  Запросы 2021  \\\n",
       "city                                                                 \n",
       "Алматы       Автовокзалы / Автостанции        280644        273340   \n",
       "Бишкек       Автовокзалы / Автостанции         55890         55565   \n",
       "ОАЭ          Автовокзалы / Автостанции         35322         32534   \n",
       "Новосибирск  Автовокзалы / Автостанции        113799         96703   \n",
       "Москва       Автовокзалы / Автостанции         75416         53850   \n",
       "Владивосток  Автовокзалы / Автостанции         22089         21978   \n",
       "СПБ          Автовокзалы / Автостанции         30678          9889   \n",
       "Астана       Автовокзалы / Автостанции         20385          6171   \n",
       "Калининград  Автовокзалы / Автостанции         12772         10024   \n",
       "Ташкент      Автовокзалы / Автостанции          3051          2754   \n",
       "Новосибирск  Автозапчасти для иномарок        337185        358465   \n",
       "Владивосток  Автозапчасти для иномарок        101111         91682   \n",
       "Москва       Автозапчасти для иномарок         62281         72811   \n",
       "СПБ          Автозапчасти для иномарок         35193         38589   \n",
       "Калининград  Автозапчасти для иномарок         37590         29996   \n",
       "\n",
       "             Запросы 2022  Запросы 2023  Запросы, итого  Рост/Падение, %  \\\n",
       "city                                                                       \n",
       "Алматы             345673        484328      300.000000         1.401116   \n",
       "Бишкек              78550         91577       59.257553         1.165843   \n",
       "ОАЭ                 71690         91374       48.194000         1.274571   \n",
       "Новосибирск         70730         72460       75.004914         1.024459   \n",
       "Москва              56994         56580       50.797086         0.992736   \n",
       "Владивосток         23459         22996       17.533925         0.980263   \n",
       "СПБ                 13780         14813       12.868898         1.074964   \n",
       "Астана               7809          9291        7.299342         1.189781   \n",
       "Калининград          7736          5617        5.659965         0.726086   \n",
       "Ташкент              3069          1357        0.000000         0.442164   \n",
       "Новосибирск        280138        311204      300.000000         1.110895   \n",
       "Владивосток         95356        111494       70.094206         1.169239   \n",
       "Москва              83412         90574       46.629461         1.085863   \n",
       "СПБ                 46737         47330       10.038035         1.012688   \n",
       "Калининград         32750         28770        0.000000         0.878473   \n",
       "\n",
       "             Доля рынка, %    group  \n",
       "city                                 \n",
       "Алматы            0.002513  Звёзды:  \n",
       "Бишкек            0.000475    Дети:  \n",
       "ОАЭ               0.000474    Дети:  \n",
       "Новосибирск       0.000376    Дети:  \n",
       "Москва            0.000294    Дети:  \n",
       "Владивосток       0.000119    Дети:  \n",
       "СПБ               0.000077    Дети:  \n",
       "Астана            0.000048    Дети:  \n",
       "Калининград       0.000029  Собаки:  \n",
       "Ташкент           0.000007  Собаки:  \n",
       "Новосибирск       0.001614  Звёзды:  \n",
       "Владивосток       0.000578    Дети:  \n",
       "Москва            0.000470    Дети:  \n",
       "СПБ               0.000246  Собаки:  \n",
       "Калининград       0.000149  Собаки:  "
      ]
     },
     "execution_count": 95,
     "metadata": {},
     "output_type": "execute_result"
    }
   ],
   "source": [
    "plot_matrix_cities(cnt_graphics=2, size_x=6.3*4, size_y=3.94*4, font_size=28, img_w=16.5, img_h=10, blank=True, word_sample='files/report_ten_city.docx')"
   ]
  },
  {
   "cell_type": "code",
   "execution_count": null,
   "id": "231e5f67-1867-41f9-a159-40b1e27547fe",
   "metadata": {},
   "outputs": [],
   "source": []
  }
 ],
 "metadata": {
  "kernelspec": {
   "display_name": "Python 3 (ipykernel)",
   "language": "python",
   "name": "python3"
  },
  "language_info": {
   "codemirror_mode": {
    "name": "ipython",
    "version": 3
   },
   "file_extension": ".py",
   "mimetype": "text/x-python",
   "name": "python",
   "nbconvert_exporter": "python",
   "pygments_lexer": "ipython3",
   "version": "3.9.12"
  }
 },
 "nbformat": 4,
 "nbformat_minor": 5
}
