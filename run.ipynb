{
 "cells": [
  {
   "cell_type": "code",
   "execution_count": 1,
   "id": "9c250040-1d8c-42b0-9fcc-083020e9b852",
   "metadata": {
    "execution": {
     "iopub.execute_input": "2023-05-10T22:22:53.722343Z",
     "iopub.status.busy": "2023-05-10T22:22:53.722343Z",
     "iopub.status.idle": "2023-05-10T22:23:06.848309Z",
     "shell.execute_reply": "2023-05-10T22:23:06.846101Z",
     "shell.execute_reply.started": "2023-05-10T22:22:53.722343Z"
    },
    "tags": []
   },
   "outputs": [
    {
     "name": "stdout",
     "output_type": "stream",
     "text": [
      "Ready: 2023-05-11 01:23:06\n"
     ]
    }
   ],
   "source": [
    "%run functions.ipynb"
   ]
  },
  {
   "cell_type": "code",
   "execution_count": 2,
   "id": "ecce0f46-097a-496d-9dce-6dcbbf008e7e",
   "metadata": {
    "collapsed": true,
    "execution": {
     "iopub.execute_input": "2023-05-10T06:52:30.560939Z",
     "iopub.status.busy": "2023-05-10T06:52:30.560939Z",
     "iopub.status.idle": "2023-05-10T06:52:34.985332Z",
     "shell.execute_reply": "2023-05-10T06:52:34.984349Z",
     "shell.execute_reply.started": "2023-05-10T06:52:30.560939Z"
    },
    "jupyter": {
     "outputs_hidden": true
    },
    "tags": []
   },
   "outputs": [
    {
     "data": {
      "text/html": [
       "\n",
       "            <div>\n",
       "                <p><b>SparkSession - in-memory</b></p>\n",
       "                \n",
       "        <div>\n",
       "            <p><b>SparkContext</b></p>\n",
       "\n",
       "            <p><a href=\"http://10.8.23.88:4040\">Spark UI</a></p>\n",
       "\n",
       "            <dl>\n",
       "              <dt>Version</dt>\n",
       "                <dd><code>v3.3.1</code></dd>\n",
       "              <dt>Master</dt>\n",
       "                <dd><code>local[*]</code></dd>\n",
       "              <dt>AppName</dt>\n",
       "                <dd><code>PySpark</code></dd>\n",
       "            </dl>\n",
       "        </div>\n",
       "        \n",
       "            </div>\n",
       "        "
      ],
      "text/plain": [
       "<pyspark.sql.session.SparkSession at 0x2461c169310>"
      ]
     },
     "execution_count": 2,
     "metadata": {},
     "output_type": "execute_result"
    }
   ],
   "source": [
    "findspark.init()\n",
    "from pyspark.sql import SparkSession\n",
    "try:\n",
    "    spark.stop()\n",
    "except:\n",
    "    pass\n",
    "spark = SparkSession.builder\\\n",
    "        .master(\"local[*]\")\\\n",
    "        .appName('PySpark')\\\n",
    "        .getOrCreate()\n",
    "spark"
   ]
  },
  {
   "cell_type": "code",
   "execution_count": null,
   "id": "f8329de8-ce35-4b88-bd78-63837ed93020",
   "metadata": {},
   "outputs": [],
   "source": []
  },
  {
   "cell_type": "code",
   "execution_count": null,
   "id": "5141c10e-da2d-48f7-94b0-816f9a97904e",
   "metadata": {},
   "outputs": [],
   "source": []
  },
  {
   "cell_type": "code",
   "execution_count": null,
   "id": "7ce9f719-16b4-463a-b6a5-0c81e15b5e5d",
   "metadata": {},
   "outputs": [],
   "source": []
  },
  {
   "cell_type": "code",
   "execution_count": null,
   "id": "a0819a8c-a049-431c-9571-7b8184be6d75",
   "metadata": {},
   "outputs": [],
   "source": []
  },
  {
   "cell_type": "code",
   "execution_count": null,
   "id": "a12123b3-8ecc-4ecb-a23d-64f19a8e9ce1",
   "metadata": {},
   "outputs": [],
   "source": []
  }
 ],
 "metadata": {
  "kernelspec": {
   "display_name": "Python 3 (ipykernel)",
   "language": "python",
   "name": "python3"
  },
  "language_info": {
   "codemirror_mode": {
    "name": "ipython",
    "version": 3
   },
   "file_extension": ".py",
   "mimetype": "text/x-python",
   "name": "python",
   "nbconvert_exporter": "python",
   "pygments_lexer": "ipython3",
   "version": "3.9.12"
  }
 },
 "nbformat": 4,
 "nbformat_minor": 5
}
