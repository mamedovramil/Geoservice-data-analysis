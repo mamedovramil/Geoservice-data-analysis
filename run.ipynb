{
 "cells": [
  {
   "cell_type": "code",
   "execution_count": 1,
   "id": "696175c9-278e-4ec3-96ae-d819f44cf808",
   "metadata": {
    "execution": {
     "iopub.execute_input": "2023-05-02T21:39:35.419268Z",
     "iopub.status.busy": "2023-05-02T21:39:35.418270Z",
     "iopub.status.idle": "2023-05-02T21:39:52.338338Z",
     "shell.execute_reply": "2023-05-02T21:39:52.337337Z",
     "shell.execute_reply.started": "2023-05-02T21:39:35.418270Z"
    },
    "tags": []
   },
   "outputs": [
    {
     "name": "stdout",
     "output_type": "stream",
     "text": [
      "Ready: 2023-05-03 00:39:52\n"
     ]
    }
   ],
   "source": [
    "%run functions.ipynb"
   ]
  },
  {
   "cell_type": "code",
   "execution_count": 2,
   "id": "ecce0f46-097a-496d-9dce-6dcbbf008e7e",
   "metadata": {
    "execution": {
     "iopub.execute_input": "2023-05-02T21:39:52.344340Z",
     "iopub.status.busy": "2023-05-02T21:39:52.343345Z",
     "iopub.status.idle": "2023-05-02T21:40:07.582168Z",
     "shell.execute_reply": "2023-05-02T21:40:07.581184Z",
     "shell.execute_reply.started": "2023-05-02T21:39:52.344340Z"
    }
   },
   "outputs": [
    {
     "data": {
      "text/html": [
       "\n",
       "            <div>\n",
       "                <p><b>SparkSession - in-memory</b></p>\n",
       "                \n",
       "        <div>\n",
       "            <p><b>SparkContext</b></p>\n",
       "\n",
       "            <p><a href=\"http://host.docker.internal:4041\">Spark UI</a></p>\n",
       "\n",
       "            <dl>\n",
       "              <dt>Version</dt>\n",
       "                <dd><code>v3.3.1</code></dd>\n",
       "              <dt>Master</dt>\n",
       "                <dd><code>local[*]</code></dd>\n",
       "              <dt>AppName</dt>\n",
       "                <dd><code>PySpark_Tutorial</code></dd>\n",
       "            </dl>\n",
       "        </div>\n",
       "        \n",
       "            </div>\n",
       "        "
      ],
      "text/plain": [
       "<pyspark.sql.session.SparkSession at 0x1debd172c10>"
      ]
     },
     "execution_count": 2,
     "metadata": {},
     "output_type": "execute_result"
    }
   ],
   "source": [
    "findspark.init()\n",
    "from pyspark.sql import SparkSession\n",
    "try:\n",
    "    spark.stop()\n",
    "except:\n",
    "    pass\n",
    "spark = SparkSession.builder\\\n",
    "        .master(\"local[*]\")\\\n",
    "        .appName('PySpark_Tutorial')\\\n",
    "        .getOrCreate()\n",
    "spark"
   ]
  },
  {
   "cell_type": "code",
   "execution_count": 183,
   "id": "5bcaf26b-4803-40ed-a018-763e40710394",
   "metadata": {
    "execution": {
     "iopub.execute_input": "2023-05-03T21:13:18.477081Z",
     "iopub.status.busy": "2023-05-03T21:13:18.477081Z",
     "iopub.status.idle": "2023-05-03T21:13:18.483076Z",
     "shell.execute_reply": "2023-05-03T21:13:18.482075Z",
     "shell.execute_reply.started": "2023-05-03T21:13:18.477081Z"
    }
   },
   "outputs": [],
   "source": []
  },
  {
   "cell_type": "code",
   "execution_count": 223,
   "id": "3a0ebd6e-e450-4775-b8ab-811bd0f14b41",
   "metadata": {
    "execution": {
     "iopub.execute_input": "2023-05-03T21:39:12.754404Z",
     "iopub.status.busy": "2023-05-03T21:39:12.754404Z",
     "iopub.status.idle": "2023-05-03T21:41:14.976230Z",
     "shell.execute_reply": "2023-05-03T21:41:14.975233Z",
     "shell.execute_reply.started": "2023-05-03T21:39:12.754404Z"
    },
    "tags": []
   },
   "outputs": [
    {
     "name": "stdout",
     "output_type": "stream",
     "text": [
      "files/ten_city/df_dates_report_230504_0039.docx\n"
     ]
    },
    {
     "name": "stderr",
     "output_type": "stream",
     "text": [
      "100%|████████████████████████████████████████████████████████████████████████████████████| 5/5 [02:01<00:00, 24.33s/it]\n"
     ]
    }
   ],
   "source": [
    "def zero(x,y):\n",
    "    if x < 0:\n",
    "        return str(0) +'%'\n",
    "    return str(round(x,1)) +'%'\n",
    "\n",
    "input_filename = 'files/ten_city/df_dates.xlsx'\n",
    "df_rubrics_city = pd.read_excel(r\"C:\\Users\\Mamed\\_Notebooks\\2GIS_2023\\files\\ten_city\\df_dates_rubrics_city.xlsx\")\n",
    "df_city = ['Астана','Бишкек','Москва','ОАЭ','Ташкент']\n",
    "dt_now = str(datetime.datetime.now())[2:-9].replace('-','').replace(':','').replace(' ','_')\n",
    "word_file = f'{input_filename[:-5]}_report_{dt_now}.docx'\n",
    "print(word_file)\n",
    "i = 0\n",
    "for city in tqdm(df_city):\n",
    "    df_diff = pd.read_excel(r\"C:\\Users\\Mamed\\_Notebooks\\2GIS_2023\\files\\ten_city\\df_dates_rubrics_city.xlsx\")\n",
    "    diff_rubrics = df_diff[df_diff['city'] == city].groupby('bucket').last().rubricName.values\n",
    "    r0 = diff_rubrics[0]\n",
    "    r1 = diff_rubrics[1]\n",
    "    r2 = diff_rubrics[2]\n",
    "    r3 = diff_rubrics[3]\n",
    "    r4 = diff_rubrics[4]\n",
    "\n",
    "    for sheet in ['Часы','Даты','Недели','Дни недели']:\n",
    "        i += 1\n",
    "        df_dates = pd.read_excel(f'files/ten_city/df_dates.xlsx', sheet_name=sheet)\n",
    "        df_dates = df_dates.set_index(df_dates.columns[1])\n",
    "        df_dates_new = df_dates.head(0)\n",
    "        df_dates_new[['Запросов '+r0]] = df_dates[df_dates['Рубрика'] == r0].loc[:,['Количество запросов '+city]]\n",
    "        df_dates_new[['Запросов '+r1]] = df_dates[df_dates['Рубрика'] == r1].loc[:,['Количество запросов '+city]]\n",
    "        df_dates_new[['Запросов '+r2]] = df_dates[df_dates['Рубрика'] == r2].loc[:,['Количество запросов '+city]]\n",
    "        df_dates_new[['Запросов '+r3]] = df_dates[df_dates['Рубрика'] == r3].loc[:,['Количество запросов '+city]]\n",
    "        df_dates_new[['Запросов '+r4]] = df_dates[df_dates['Рубрика'] == r3].loc[:,['Количество запросов '+city]]\n",
    "        d = df_dates_new[df_dates_new.columns[-5:]].fillna(0)\n",
    "        \n",
    "        fig, ax = plt.subplots()\n",
    "        ax = sns.lineplot(data = d, linewidth=3, palette=['#4F81BD', '#F79646', '#C0504D', '#9BBB59', '#264478'])\n",
    "        plt.rcParams['figure.figsize']=17,10.8\n",
    "        plt.rcParams['font.size'] = '16'\n",
    "        plt.rcParams['figure.dpi'] = 2**8\n",
    "        plt.rcParams['figure.facecolor'] = 'white'\n",
    "        fpath = Path(mpl.get_data_path(), r\"C:\\Users\\Mamed\\YandexDisk\\_Documents\\Проекты\\2ГИС 2023\\Лого\\arialnarrow.ttf\")\n",
    "\n",
    "\n",
    "        plt.legend([r0, r1, r2, r3, r4], prop=fpath)\n",
    "        plt.xticks(font=fpath)\n",
    "        plt.yticks(font=fpath)\n",
    "        plt.grid(visible=True, linewidth=0.3)\n",
    "        ax.set_xlabel('')\n",
    "        ax.yaxis.set_major_formatter(FuncFormatter(zero))\n",
    "        ax.xaxis.set_major_locator(ticker.MultipleLocator(1)) \n",
    "        ax.yaxis.set_major_locator(ticker.LinearLocator(numticks=6))  \n",
    "        title_text = f'{city}. '\n",
    "        img_file_name = input_filename.replace('files/','')[:-5]\n",
    "        img_file_name_final = f'pictures/{img_file_name}_{i:02}.png'\n",
    "        if 'Час' == d.index.name:\n",
    "            ax.set_title(f'{title_text}Запросы по часам, шт.', font=fpath)\n",
    "        elif 'Дата' == d.index.name:\n",
    "            ax.xaxis.set_major_locator(ticker.MultipleLocator(4)) \n",
    "            ax.set_title(f'{title_text}Запросы по датам, шт.', font=fpath)\n",
    "        elif 'Неделя' == d.index.name:\n",
    "            ax.set_title(f'{title_text}Запросы по неделям, шт.', font=fpath)\n",
    "        else:\n",
    "            ax.set_title(f'{title_text}Запросы по дням недели, шт.', font=fpath) \n",
    "\n",
    "        im = plt.imread(r\"C:\\Users\\Mamed\\YandexDisk\\_Documents\\Проекты\\2ГИС 2023\\Лого\\лого_2гис_232_354.png\")\n",
    "        ax.figure.figimage(im, 3250, 150, zorder=1, alpha=0.5)\n",
    "\n",
    "        im = plt.imread(r\"C:\\Users\\Mamed\\YandexDisk\\_Documents\\Проекты\\2ГИС 2023\\Лого\\лого_шт_232_354.png\")\n",
    "        ax.figure.figimage(im, 200, 1800, zorder=1, alpha=0.5)\n",
    "\n",
    "        ax.figure.savefig(img_file_name_final, bbox_inches='tight')\n",
    "        word = city + ', ' + r0 + ', ' + r1 + ', ' + r2 + ', ' + r3 + ', ' + r4\n",
    "        add_image(word_file, img_file_name_final, word, img_w=17.5, img_h=10.8, blank=False,word_sample='files/report.docx')\n",
    "        #plt.show()\n",
    "        plt.close()"
   ]
  },
  {
   "cell_type": "code",
   "execution_count": null,
   "id": "c79012d8-4d97-4afc-8964-81af874cedfa",
   "metadata": {},
   "outputs": [],
   "source": []
  }
 ],
 "metadata": {
  "kernelspec": {
   "display_name": "Python 3 (ipykernel)",
   "language": "python",
   "name": "python3"
  },
  "language_info": {
   "codemirror_mode": {
    "name": "ipython",
    "version": 3
   },
   "file_extension": ".py",
   "mimetype": "text/x-python",
   "name": "python",
   "nbconvert_exporter": "python",
   "pygments_lexer": "ipython3",
   "version": "3.9.12"
  }
 },
 "nbformat": 4,
 "nbformat_minor": 5
}
