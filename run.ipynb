{
 "cells": [
  {
   "cell_type": "code",
   "execution_count": 1,
   "id": "6cb76a71-a966-4bf8-998e-320f52f0e3a6",
   "metadata": {
    "execution": {
     "iopub.execute_input": "2023-06-18T20:34:46.746574Z",
     "iopub.status.busy": "2023-06-18T20:34:46.746574Z",
     "iopub.status.idle": "2023-06-18T20:35:20.473839Z",
     "shell.execute_reply": "2023-06-18T20:35:20.472940Z",
     "shell.execute_reply.started": "2023-06-18T20:34:46.746574Z"
    },
    "tags": []
   },
   "outputs": [
    {
     "name": "stdout",
     "output_type": "stream",
     "text": [
      "Ready: 2023-06-18 23:35:00\n"
     ]
    }
   ],
   "source": [
    "%run functions.ipynb\n",
    "spark = get_spark()"
   ]
  },
  {
   "cell_type": "code",
   "execution_count": null,
   "id": "e017f05a-e72b-473a-9217-01c0226aea24",
   "metadata": {},
   "outputs": [],
   "source": []
  },
  {
   "cell_type": "markdown",
   "id": "c5d7d372-b22c-4f89-b78e-60be3c0dd556",
   "metadata": {},
   "source": []
  }
 ],
 "metadata": {
  "kernelspec": {
   "display_name": "Python 3 (ipykernel)",
   "language": "python",
   "name": "python3"
  },
  "language_info": {
   "codemirror_mode": {
    "name": "ipython",
    "version": 3
   },
   "file_extension": ".py",
   "mimetype": "text/x-python",
   "name": "python",
   "nbconvert_exporter": "python",
   "pygments_lexer": "ipython3",
   "version": "3.9.12"
  },
  "toc-autonumbering": false
 },
 "nbformat": 4,
 "nbformat_minor": 5
}
