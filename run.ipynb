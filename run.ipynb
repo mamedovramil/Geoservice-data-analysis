{
 "cells": [
  {
   "cell_type": "code",
   "execution_count": 1,
   "id": "696175c9-278e-4ec3-96ae-d819f44cf808",
   "metadata": {
    "execution": {
     "iopub.execute_input": "2023-05-06T15:00:28.923529Z",
     "iopub.status.busy": "2023-05-06T15:00:28.923529Z",
     "iopub.status.idle": "2023-05-06T15:00:39.394457Z",
     "shell.execute_reply": "2023-05-06T15:00:39.393460Z",
     "shell.execute_reply.started": "2023-05-06T15:00:28.923529Z"
    },
    "tags": []
   },
   "outputs": [
    {
     "name": "stdout",
     "output_type": "stream",
     "text": [
      "Ready: 2023-05-06 18:00:39\n"
     ]
    }
   ],
   "source": [
    "%run functions.ipynb"
   ]
  },
  {
   "cell_type": "code",
   "execution_count": 29,
   "id": "ecce0f46-097a-496d-9dce-6dcbbf008e7e",
   "metadata": {
    "execution": {
     "iopub.execute_input": "2023-05-06T13:39:57.537274Z",
     "iopub.status.busy": "2023-05-06T13:39:57.537274Z",
     "iopub.status.idle": "2023-05-06T13:40:08.178129Z",
     "shell.execute_reply": "2023-05-06T13:40:08.177231Z",
     "shell.execute_reply.started": "2023-05-06T13:39:57.537274Z"
    },
    "tags": []
   },
   "outputs": [
    {
     "data": {
      "text/html": [
       "\n",
       "            <div>\n",
       "                <p><b>SparkSession - in-memory</b></p>\n",
       "                \n",
       "        <div>\n",
       "            <p><b>SparkContext</b></p>\n",
       "\n",
       "            <p><a href=\"http://host.docker.internal:4041\">Spark UI</a></p>\n",
       "\n",
       "            <dl>\n",
       "              <dt>Version</dt>\n",
       "                <dd><code>v3.3.1</code></dd>\n",
       "              <dt>Master</dt>\n",
       "                <dd><code>local[*]</code></dd>\n",
       "              <dt>AppName</dt>\n",
       "                <dd><code>PySpark</code></dd>\n",
       "            </dl>\n",
       "        </div>\n",
       "        \n",
       "            </div>\n",
       "        "
      ],
      "text/plain": [
       "<pyspark.sql.session.SparkSession at 0x21239ca3280>"
      ]
     },
     "execution_count": 29,
     "metadata": {},
     "output_type": "execute_result"
    }
   ],
   "source": [
    "findspark.init()\n",
    "from pyspark.sql import SparkSession\n",
    "try:\n",
    "    spark.stop()\n",
    "except:\n",
    "    pass\n",
    "spark = SparkSession.builder\\\n",
    "        .master(\"local[*]\")\\\n",
    "        .appName('PySpark')\\\n",
    "        .getOrCreate()\n",
    "spark"
   ]
  },
  {
   "cell_type": "code",
   "execution_count": 2,
   "id": "59ef38e2-004e-48a9-8b7a-8c4260f4c015",
   "metadata": {
    "execution": {
     "iopub.execute_input": "2023-05-06T15:00:39.993467Z",
     "iopub.status.busy": "2023-05-06T15:00:39.993467Z",
     "iopub.status.idle": "2023-05-06T15:00:40.003465Z",
     "shell.execute_reply": "2023-05-06T15:00:40.002470Z",
     "shell.execute_reply.started": "2023-05-06T15:00:39.993467Z"
    },
    "tags": []
   },
   "outputs": [],
   "source": []
  },
  {
   "cell_type": "code",
   "execution_count": 4,
   "id": "2664e981-fa7e-48f5-abcc-17b35fdd95c7",
   "metadata": {
    "execution": {
     "iopub.execute_input": "2023-05-06T15:11:35.377689Z",
     "iopub.status.busy": "2023-05-06T15:11:35.376678Z",
     "iopub.status.idle": "2023-05-06T15:11:50.855378Z",
     "shell.execute_reply": "2023-05-06T15:11:50.854492Z",
     "shell.execute_reply.started": "2023-05-06T15:11:35.377689Z"
    },
    "tags": []
   },
   "outputs": [],
   "source": []
  },
  {
   "cell_type": "code",
   "execution_count": null,
   "id": "c2082cdf-cca3-42f6-ba90-cd6d0560d6d7",
   "metadata": {},
   "outputs": [],
   "source": []
  },
  {
   "cell_type": "code",
   "execution_count": null,
   "id": "3bd7abe1-9fcd-41c9-968f-854abba3de6e",
   "metadata": {},
   "outputs": [],
   "source": []
  },
  {
   "cell_type": "code",
   "execution_count": null,
   "id": "03b1770a-dda4-4286-98d8-b9765e1ce999",
   "metadata": {},
   "outputs": [],
   "source": []
  },
  {
   "cell_type": "code",
   "execution_count": null,
   "id": "b4be2948-5b93-4471-84b2-8573feb67501",
   "metadata": {},
   "outputs": [],
   "source": []
  }
 ],
 "metadata": {
  "kernelspec": {
   "display_name": "Python 3 (ipykernel)",
   "language": "python",
   "name": "python3"
  },
  "language_info": {
   "codemirror_mode": {
    "name": "ipython",
    "version": 3
   },
   "file_extension": ".py",
   "mimetype": "text/x-python",
   "name": "python",
   "nbconvert_exporter": "python",
   "pygments_lexer": "ipython3",
   "version": "3.9.12"
  }
 },
 "nbformat": 4,
 "nbformat_minor": 5
}
