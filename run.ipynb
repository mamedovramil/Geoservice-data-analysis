{
 "cells": [
  {
   "cell_type": "code",
   "execution_count": 31,
   "id": "9c250040-1d8c-42b0-9fcc-083020e9b852",
   "metadata": {
    "execution": {
     "iopub.execute_input": "2023-05-11T19:57:24.603703Z",
     "iopub.status.busy": "2023-05-11T19:57:24.603703Z",
     "iopub.status.idle": "2023-05-11T19:57:26.144330Z",
     "shell.execute_reply": "2023-05-11T19:57:26.143332Z",
     "shell.execute_reply.started": "2023-05-11T19:57:24.603703Z"
    },
    "tags": []
   },
   "outputs": [
    {
     "name": "stdout",
     "output_type": "stream",
     "text": [
      "Ready: 2023-05-11 22:57:26\n"
     ]
    }
   ],
   "source": [
    "%run functions.ipynb"
   ]
  },
  {
   "cell_type": "code",
   "execution_count": null,
   "id": "5141c10e-da2d-48f7-94b0-816f9a97904e",
   "metadata": {},
   "outputs": [],
   "source": []
  },
  {
   "cell_type": "code",
   "execution_count": null,
   "id": "7ce9f719-16b4-463a-b6a5-0c81e15b5e5d",
   "metadata": {},
   "outputs": [],
   "source": []
  },
  {
   "cell_type": "code",
   "execution_count": null,
   "id": "a0819a8c-a049-431c-9571-7b8184be6d75",
   "metadata": {},
   "outputs": [],
   "source": []
  },
  {
   "cell_type": "code",
   "execution_count": null,
   "id": "a12123b3-8ecc-4ecb-a23d-64f19a8e9ce1",
   "metadata": {},
   "outputs": [],
   "source": []
  }
 ],
 "metadata": {
  "kernelspec": {
   "display_name": "Python 3 (ipykernel)",
   "language": "python",
   "name": "python3"
  },
  "language_info": {
   "codemirror_mode": {
    "name": "ipython",
    "version": 3
   },
   "file_extension": ".py",
   "mimetype": "text/x-python",
   "name": "python",
   "nbconvert_exporter": "python",
   "pygments_lexer": "ipython3",
   "version": "3.9.12"
  }
 },
 "nbformat": 4,
 "nbformat_minor": 5
}
