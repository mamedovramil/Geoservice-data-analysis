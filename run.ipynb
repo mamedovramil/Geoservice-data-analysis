{
 "cells": [
  {
   "cell_type": "code",
   "execution_count": 3,
   "id": "40eff18d-c1a0-4370-aad1-3d543af7c5ce",
   "metadata": {
    "execution": {
     "iopub.execute_input": "2023-06-07T19:31:01.228029Z",
     "iopub.status.busy": "2023-06-07T19:31:01.227030Z",
     "iopub.status.idle": "2023-06-07T19:31:06.999389Z",
     "shell.execute_reply": "2023-06-07T19:31:06.998389Z",
     "shell.execute_reply.started": "2023-06-07T19:31:01.228029Z"
    },
    "tags": []
   },
   "outputs": [
    {
     "name": "stdout",
     "output_type": "stream",
     "text": [
      "Ready: 2023-06-07 22:31:06\n"
     ]
    }
   ],
   "source": [
    "%run functions.ipynb"
   ]
  },
  {
   "cell_type": "code",
   "execution_count": 50,
   "id": "a28ac177-23bc-4c12-ad10-dc33f41511f1",
   "metadata": {
    "execution": {
     "iopub.execute_input": "2023-06-07T19:36:51.329450Z",
     "iopub.status.busy": "2023-06-07T19:36:51.329450Z",
     "iopub.status.idle": "2023-06-07T19:37:06.964487Z",
     "shell.execute_reply": "2023-06-07T19:37:06.963490Z",
     "shell.execute_reply.started": "2023-06-07T19:36:51.329450Z"
    },
    "tags": []
   },
   "outputs": [
    {
     "name": "stdout",
     "output_type": "stream",
     "text": [
      "CPU times: total: 11.2 s\n",
      "Wall time: 15.6 s\n"
     ]
    }
   ],
   "source": [
    "%%time\n",
    "exclude_rubrics = ['Общая рубрика ЗМК','Заказ такси','Спектакли','Детские дома и Приюты','Кладбища','Крематории','Памятники / Ритуальные принадлежности','Помощь в организации похорон','Прощальные залы','Воскресные школы','Дацаны','Духовные учебные заведения','Иконописные мастерские','Медресе','Мечети','Молитвенные комнаты','Монастыри','Паломнические поездки','Приходы','Религиозные организации','Религиозные товары','Синагога','Храмы / Соборы / Церкви','Часовни','Радиостанции','Телеканалы','Телекомпании / Радиокомпании','Герои с нашего двора','Отлов бездомных животных','Приюты для животных','Ритуальные услуги для животных','Выгодные покупки с 2ГИС','Ликвидация нефтеразливов / газонефтеводопроявлений','Библиотеки','Библиотечные коллекторы','Городские оркестры','Кинопрокатные компании','Киностудии','Мавзолей','Музеи','Планетарий','Реставрация памятников истории и культуры','Театры','Филармония','Хоровые капеллы','Художественные выставки / Галереи','Аварийные службы','Пожарная охрана','Скорая медицинская помощь','Службы аварийных комиссаров','Службы спасения / экстренного вызова','Справочно-информационные услуги','Телефоны доверия','Управление ГО и ЧС','Штрафстоянки','Эвакуация автомобилей','Администрации поселений','Администрации районов / округов городской власти','Администрации районов / округов региональной власти','Администрация города / городского округа','Администрация области / края','Правительство','Пенсионные фонды','Фонд обязательного медицинского страхования','Фонды социального страхования','Законодательная власть','Представительная власть','Военная комендатура','Военные комиссариаты','Благотворительные фонды','Венчурные фонды','Гарантийные фонды','ГОРПО / РАЙПО','Гранты','Залоговые фонды','Избирательные комиссии','Избирательные участки','Нотариальные палаты','Общественные группы','Общественные организации','Политические партии','Приёмные депутатов','Приёмные Президента','Приёмные Уполномоченных по правам человека','Территориальные общественные самоуправления','Гидрометеослужба','Организации природоохраны','Инспекции','Налоговые инспекции','Оператор системы взимания платы','Органы государственного надзора','Отделы ветеринарно-санитарного контроля','Службы мелиорации земель','Федеральные казначейства','Федеральные службы','Посольства / Консульства','Представительства субъектов РФ','ГИБДД','Главное управление по вопросам миграции МВД РФ','Изоляторы временного содержания / Спецприёмники','Исправительные учреждения','Медвытрезвители','Народные дружины','Общественные пункты охраны порядка','ОМВД / УМВД / ГУМВД / МВД','Отделения полиции','Прокуратура','Следственный комитет','Службы судебных приставов','Судебная / внесудебная экспертиза','Суды','Таможня','Участковые пункты полиции','Государственные архивы','ЗАГСы','Бэби-боксы','Детские дома / Приюты','Дома престарелых','Дома ребёнка','Молочные кухни','МФЦ','Ночлежные дома','Отделы доставки пенсий и пособий','Службы занятости населения','Социальные службы','Центры квотирования рабочих мест','Антиквариат','Багетные мастерские','Подвеска / Подсветка для картин','Филателия / Нумизматика','Художественные мастерские','Художественные товары','Общая рубрика ЗМК','Заказ такси','Спектакли','Детские дома и Приюты','Автовокзалы и Автостанции','Аэропорты','Контрольные браслеты','Онлайн-заправки 2ГИС','Спички','Лицеи-интернаты','Экспертиза авиационных происшествий','Саморегулируемые организации (СРО)','Аренда жид тупика','Ритуальные принадлежности','Железнодорожные вокзалы','Ликвидация нефтеразливов и газонефтеводопроявлений','Больницы','Дома и дворцы культуры','Санатории и Профилактории','Телекомпании и Радиокомпании','Организация театральных и концертных мероприятий','Акиматы районов города','Управление ГО и ЧС', 'ЦОН','ОМВД / УМВД / ГУМВД и МВД ','CD / DVD и BD','Лучшие достопримечательности города','Изоляторы временного содержания и Спецприёмники','Администрации районов и округов городской власти','Администрация города и городского округа','Полицейские академии','Акимат города','Почтовые отделения', 'Взрослые поликлиники', 'Кладбища','Крематории','Памятники / Ритуальные принадлежности','Помощь в организации похорон','Прощальные залы','Воскресные школы','Дацаны','Духовные учебные заведения','Иконописные мастерские','Медресе','Мечети','Молитвенные комнаты','Монастыри','Паломнические поездки','Приходы','Религиозные организации','Религиозные товары','Синагога','Храмы / Соборы / Церкви','Часовни','Радиостанции','Телеканалы','Телекомпании / Радиокомпании','Герои с нашего двора','Отлов бездомных животных','Приюты для животных','Ритуальные услуги для животных','Выгодные покупки с 2ГИС','Ликвидация нефтеразливов / газонефтеводопроявлений','Библиотеки','Библиотечные коллекторы','Городские оркестры','Кинопрокатные компании','Киностудии','Мавзолей','Музеи','Планетарий','Реставрация памятников истории и культуры','Театры','Филармония','Хоровые капеллы','Художественные выставки / Галереи','Аварийные службы','Пожарная охрана','Скорая медицинская помощь','Службы аварийных комиссаров','Службы спасения / экстренного вызова','Справочно-информационные услуги','Телефоны доверия','Управление ГО и ЧС','Штрафстоянки','Эвакуация автомобилей','Администрации поселений','Администрации районов / округов городской власти','Администрации районов / округов региональной власти','Администрация города / городского округа','Администрация области / края','Правительство','Пенсионные фонды','Фонд обязательного медицинского страхования','Фонды социального страхования','Законодательная власть','Представительная власть','Военная комендатура','Военные комиссариаты','Благотворительные фонды','Венчурные фонды','Гарантийные фонды','ГОРПО / РАЙПО','Гранты','Залоговые фонды','Избирательные комиссии','Избирательные участки','Нотариальные палаты','Общественные группы','Общественные организации','Политические партии','Приёмные депутатов','Приёмные Президента','Приёмные Уполномоченных по правам человека','Территориальные общественные самоуправления','Гидрометеослужба','Организации природоохраны','Инспекции','Налоговые инспекции','Оператор системы взимания платы','Органы государственного надзора','Отделы ветеринарно-санитарного контроля','Службы мелиорации земель','Федеральные казначейства','Федеральные службы','Посольства / Консульства','Представительства субъектов РФ','ГИБДД','Главное управление по вопросам миграции МВД РФ','Изоляторы временного содержания / Спецприёмники','Исправительные учреждения','Медвытрезвители','Народные дружины','Общественные пункты охраны порядка','ОМВД / УМВД / ГУМВД / МВД','Отделения полиции','Прокуратура','Следственный комитет','Службы судебных приставов','Судебная / внесудебная экспертиза','Суды','Таможня','Участковые пункты полиции','Государственные архивы','ЗАГСы','Бэби-боксы','Детские дома / Приюты','Дома престарелых','Дома ребёнка','Молочные кухни','МФЦ','Ночлежные дома','Отделы доставки пенсий и пособий','Службы занятости населения','Социальные службы','Центры квотирования рабочих мест','Воскресные школы','Дацаны','Духовные учебные заведения','Иконописные мастерские','Медресе','Мечети','Молитвенные комнаты','Монастыри','Паломнические поездки','Приходы','Религиозные организации','Религиозные товары','Синагога','Храмы / Соборы / Церкви','Часовни','Антиквариат','Багетные мастерские','Подвеска / Подсветка для картин','Филателия / Нумизматика','Художественные мастерские','Художественные товары','Банкоматы', 'Железнодорожные вокзалы', 'Музеи','Центры паровых коктейлей', 'Школы', 'Университеты', 'Больницы','Табачные изделия / Товары для курения','Художественные выставки / Галереи','Научно-исследовательские институты', 'Храмы / Соборы / Церкви', 'Студенческие общежития'\n",
    "]\n",
    "city = 'Москва'\n",
    "df_all = pd.read_parquet(f'files/ten_city/df_dates_users_city_agg2')\n",
    "#df_all = df_all[df_all['city'] == city]\n",
    "df_all['city_rubric'] = df_all['city'] + '. ' + df_all['rubric']\n",
    "df_all = df_all[~df_all.rubric.apply(lambda x: (x is None or x.isnumeric()))]\n",
    "df_all['cnt_all'] = df_all.groupby('city_rubric')['cnt_requests'].transform(np.sum)\n",
    "df_all = df_all.drop(['date_r', 'cnt_requests', 'cnt_users'], axis=1).drop_duplicates()\n",
    "df_all = df_all.sort_values(['cnt_all'], ascending=False).reset_index().reset_index().set_index('level_0').drop('index', axis=1)\n",
    "df_all['cnt_city_rubric'] = df_all['cnt_all'].astype(str) + '_' + df_all['city_rubric'] + '. ' + 'Запросы'\n",
    "df_requests = df_all.copy()\n",
    "\n",
    "df_all = pd.read_parquet(f'files/ten_city/df_dates_users_city_agg2')\n",
    "#df_all = df_all[df_all['city'] == city]\n",
    "df_all['city_rubric'] = df_all['city'] + '. ' + df_all['rubric']\n",
    "df_all = df_all[~df_all.rubric.apply(lambda x: (x is None or x.isnumeric()))]\n",
    "df_all['cnt_all'] = df_all.groupby('city_rubric')['cnt_users'].transform(np.sum)\n",
    "df_all = df_all.drop(['date_r', 'cnt_requests', 'cnt_users'], axis=1).drop_duplicates()\n",
    "df_all = df_all.sort_values(['cnt_all'], ascending=False).reset_index().reset_index().set_index('level_0').drop('index', axis=1)\n",
    "df_all['cnt_city_rubric'] = df_all['cnt_all'].astype(str) + '_' + df_all['city_rubric'] + '. ' + 'Пользователи'\n",
    "df_users = df_all.copy()\n",
    "\n",
    "df_1000 = pd.concat([df_requests, df_users])\n",
    "df_1000 = df_1000[df_1000.rubric.apply(lambda x: x not in exclude_rubrics)]\n",
    "df_1000['param'] = df_1000.cnt_city_rubric.apply(lambda x: x.split('. ')[2])\n",
    "\n",
    "df_1000['r_cnt'] = df_1000.groupby('rubric')['cnt_all'].transform(np.sum)\n",
    "df_1000_1 = df_1000.sort_values(['r_cnt', 'city'], ascending=[False, True]).rename({'cnt_city_rubric':'cnt_city_rubric_param'}, axis=1)\n",
    "df_1000_1['city_rubric_param'] = df_1000_1['city_rubric'] + '. ' + df_1000_1['param']\n",
    "\n",
    "rubrics = [*df_1000_1.rubric.drop_duplicates().values]\n",
    "cities = [*df_1000_1.city.unique()] * 139\n",
    "params = [*df_1000_1.param.values]\n",
    "\n",
    "iter_set = list(zip(rubrics, cities, params))\n",
    "iter_df = pd.DataFrame(iter_set, columns=['rubric', 'city', 'param'])\n",
    "iter_df['city_rubric_param'] = iter_df['city'] + '. ' + iter_df['rubric'] + '. ' + iter_df['param']\n",
    "iter_df = df_1000_1[['city_rubric_param', 'cnt_city_rubric_param']].merge(iter_df, left_on='city_rubric_param', right_on='city_rubric_param')\n",
    "\n",
    "## Переменные формулы\n",
    "df1 = pd.read_parquet(f'files/ten_city/df_dates_users_city_agg2')\n",
    "#df1 = df1[df1['city'] == city]\n",
    "df1['city_rubric_param'] = df1['city'] + '. ' + df1['rubric'] + '. ' + 'Пользователи'\n",
    "df1 = df1[['date_r', 'cnt_users', 'city_rubric_param']].rename({'cnt_users':'cnt'}, axis=1)\n",
    "\n",
    "df2 = pd.read_parquet(f'files/ten_city/df_dates_users_city_agg2')\n",
    "#df2 = df2[df2['city'] == city]\n",
    "df2['city_rubric_param'] = df2['city'] + '. ' + df2['rubric'] + '. ' + 'Запросы'\n",
    "df2 = df2[['date_r', 'cnt_requests', 'city_rubric_param']].rename({'cnt_requests':'cnt'}, axis=1)\n",
    "df_dates_users = pd.concat([df1, df2])\n",
    "df_dates_users['cnt_all'] = df_dates_users.groupby('city_rubric_param')['cnt'].transform(np.sum)\n",
    "df_dates_users['city_rubric_param_cnt'] = df_dates_users['cnt_all'].astype(str) + '_' + df_dates_users['city_rubric_param']\n",
    "\n",
    "dfx = pd.pivot_table(df_dates_users, values='cnt', aggfunc='sum', index=['date_r'], columns=['city_rubric_param_cnt'])\n",
    "dfx = dfx.loc[:,iter_df.cnt_city_rubric_param]\n",
    "t = dfx.corr().fillna(0).astype(np.float16)\n",
    "\n",
    "t = t.rename_axis([None]).rename_axis([None], axis=1)\n",
    "t1 = t.stack()\n",
    "t1 = t1.reset_index()\n",
    "t1.columns = ['r1', 'r2', 'corr']\n",
    "t1 = t1[t1.r1 != t1.r2]\n",
    "\n",
    "t1_100 = t1 #df_100.merge(t1, left_on='cnt_city_rubric', right_on='r1')\n",
    "\n",
    "t1_100['r1_cnt'] = t1_100.r1.apply(lambda x: x.split('_')[0])\n",
    "t1_100['r2_cnt'] = t1_100.r2.apply(lambda x: x.split('_')[0])\n",
    "\n",
    "t1_100.r1 = t1_100.r1.apply(lambda x: x.split('_')[1])\n",
    "t1_100.r2 = t1_100.r2.apply(lambda x: x.split('_')[1])\n",
    "t1_100['r1_city'] = t1_100.r1.apply(lambda x: x.split('. ')[0])\n",
    "t1_100['r2_city'] = t1_100.r2.apply(lambda x: x.split('. ')[0])\n",
    "t1_100['r1_rubric'] = t1_100.r1.apply(lambda x: x.split('. ')[1])\n",
    "t1_100['r2_rubric'] = t1_100.r2.apply(lambda x: x.split('. ')[1])\n",
    "t1_100['r1_param'] = t1_100.r1.apply(lambda x: x.split('. ')[2])\n",
    "t1_100['r2_param'] = t1_100.r2.apply(lambda x: x.split('. ')[2])\n",
    "\n",
    "t1_100.r1_cnt = t1_100.r1_cnt.astype(int)\n",
    "t1_100.r2_cnt = t1_100.r2_cnt.astype(int)\n",
    "\n",
    "#t1_100 = t1_100[t1_100.r2_cnt > 1000]\n",
    "\n",
    "t1_100 = t1_100[['r1_city', 'r1_rubric', 'r1_param', 'r2_city', 'r2_rubric', 'r2_param', 'corr', 'r1_cnt', 'r2_cnt']]\n",
    "\n",
    "iter_set = list(zip(rubrics, cities, params))\n",
    "\n",
    "new_set = list(set(zip(list(t1_100['r1_rubric'].values), list(t1_100['r1_city'].values))))\n",
    "\n",
    "iter_set = [i for i in iter_set if i[:2] in new_set]"
   ]
  },
  {
   "cell_type": "code",
   "execution_count": 54,
   "id": "3f72581d-2b93-4039-aba0-7cea637e54b6",
   "metadata": {
    "execution": {
     "iopub.execute_input": "2023-06-07T19:38:04.998504Z",
     "iopub.status.busy": "2023-06-07T19:38:04.998504Z",
     "iopub.status.idle": "2023-06-07T19:38:37.622751Z",
     "shell.execute_reply": "2023-06-07T19:38:37.621755Z",
     "shell.execute_reply.started": "2023-06-07T19:38:04.998504Z"
    },
    "tags": []
   },
   "outputs": [
    {
     "data": {
      "application/vnd.jupyter.widget-view+json": {
       "model_id": "be86b270c682416d843df692c5b2f2cb",
       "version_major": 2,
       "version_minor": 0
      },
      "text/plain": [
       "  0%|          | 0/3 [00:00<?, ?it/s]"
      ]
     },
     "metadata": {},
     "output_type": "display_data"
    },
    {
     "name": "stdout",
     "output_type": "stream",
     "text": [
      "Алкогольные напитки Новосибирск\n",
      "Бытовая техника СПБ\n",
      "Услуги косметолога Ташкент\n"
     ]
    },
    {
     "data": {
      "application/vnd.jupyter.widget-view+json": {
       "model_id": "d3ca04ae0d8647dba9e7d6a485e8ba68",
       "version_major": 2,
       "version_minor": 0
      },
      "text/plain": [
       "  0%|          | 0/3 [00:00<?, ?it/s]"
      ]
     },
     "metadata": {},
     "output_type": "display_data"
    },
    {
     "name": "stdout",
     "output_type": "stream",
     "text": [
      "Зоотовары Алматы\n",
      "Продажа легковых автомобилей Астана\n",
      "Канцелярские товары / Учебные принадлежности Бишкек\n"
     ]
    },
    {
     "data": {
      "application/vnd.jupyter.widget-view+json": {
       "model_id": "7b432e6409394d769a3d6aacb6fa9c60",
       "version_major": 2,
       "version_minor": 0
      },
      "text/plain": [
       "  0%|          | 0/3 [00:00<?, ?it/s]"
      ]
     },
     "metadata": {},
     "output_type": "display_data"
    },
    {
     "name": "stdout",
     "output_type": "stream",
     "text": [
      "Хостелы Новосибирск\n",
      "Колледжи ОАЭ\n",
      "Автозапчасти для иномарок СПБ\n"
     ]
    }
   ],
   "source": [
    "dfo = pd.read_excel(r\"C:\\Users\\Mamed\\Downloads\\Рубрикатор_230605_0030_отметки красным.xlsx\")[['Отрасль', 'Рубрика']].dropna(subset='Отрасль')\n",
    "t1_100_all = t1_100\n",
    "t1_100_city = t1_100#[(t1_100.r1_city == result_city) & (t1_100.r2_city == variables_city) & (t1_100.r1_param == result_param) & (t1_100.r2_param == variables_param)]\n",
    "r_list = [iter_df.iloc[:55]]\n",
    "\n",
    "### f13\n",
    "df_list = []\n",
    "for rubric, city, param  in tqdm(iter_set[46:49]):\n",
    "    print(rubric, city)\n",
    "    f1_i = t1_100_all[(t1_100_all.r1_city == city) & (t1_100_all.r1_rubric == rubric)]\n",
    "    f1_i.sort_values(['corr', 'r2_cnt'], ascending=[False,False], inplace=True)\n",
    "    f1_i = f1_i.merge(dfo, left_on='r1_rubric', right_on='Рубрика').drop('Рубрика',axis=1).rename({'Отрасль':'r1_otrasl'}, axis=1)\n",
    "    f1_i = f1_i.merge(dfo, left_on='r2_rubric', right_on='Рубрика').drop('Рубрика',axis=1).rename({'Отрасль':'r2_otrasl'}, axis=1)\n",
    "    f1_i = f1_i[f1_i['r1_otrasl'] == f1_i['r2_otrasl']]\n",
    "    f1_i = f1_i[f1_i.r2_rubric.apply(lambda x: (x not in pd.concat(r_list).values) & (len(x) <= 50) & (x not in f1_i.r1_rubric.values))].drop_duplicates(subset='r2_rubric', keep=\"first\")\n",
    "    f1_i = f1_i.iloc[:20]\n",
    "    f1_i['avg_corr'] = f1_i['corr'].mean()\n",
    "    r_list.append(f1_i.r1_rubric.drop_duplicates())\n",
    "    r_list.append(f1_i.r2_rubric.drop_duplicates())\n",
    "    df_list.append(f1_i)\n",
    "f13 = pd.concat(df_list)\n",
    "f13['group'] = 'f13'\n",
    "\n",
    "\n",
    "### f14\n",
    "df_list = []\n",
    "for rubric, city, param  in tqdm(iter_set[49:52]):\n",
    "    print(rubric, city)\n",
    "    f1_i = t1_100_all[(t1_100_all.r1_city == city) & (t1_100_all.r1_rubric == rubric)]\n",
    "    f1_i.sort_values(['corr', 'r2_cnt'], ascending=[False,False], inplace=True)\n",
    "    f1_i = f1_i.merge(dfo, left_on='r1_rubric', right_on='Рубрика').drop('Рубрика',axis=1).rename({'Отрасль':'r1_otrasl'}, axis=1)\n",
    "    f1_i = f1_i.merge(dfo, left_on='r2_rubric', right_on='Рубрика').drop('Рубрика',axis=1).rename({'Отрасль':'r2_otrasl'}, axis=1)\n",
    "    f1_i = f1_i[f1_i['r1_otrasl'] != f1_i['r2_otrasl']]\n",
    "    f1_i = f1_i[f1_i.r2_rubric.apply(lambda x: (x not in pd.concat(r_list).values) & (len(x) <= 50) & (x not in f1_i.r1_rubric.values))].drop_duplicates(subset='r2_rubric', keep=\"first\")\n",
    "    f1_i = f1_i.iloc[:20]\n",
    "    f1_i['avg_corr'] = f1_i['corr'].mean()\n",
    "    r_list.append(f1_i.r1_rubric.drop_duplicates())\n",
    "    r_list.append(f1_i.r2_rubric.drop_duplicates())\n",
    "    df_list.append(f1_i)\n",
    "f14 = pd.concat(df_list)\n",
    "f14['group'] = 'f14'\n",
    "\n",
    "\n",
    "### f15\n",
    "df_list = []\n",
    "for rubric, city, param  in tqdm(iter_set[55:58]):\n",
    "    print(rubric, city)\n",
    "    f1_i = t1_100_all[(t1_100_all.r1_city == city) & (t1_100_all.r1_rubric == rubric)]\n",
    "    f1_i.sort_values(['corr', 'r2_cnt'], ascending=[False,False], inplace=True)\n",
    "    f1_i = f1_i.merge(dfo, left_on='r1_rubric', right_on='Рубрика').drop('Рубрика',axis=1).rename({'Отрасль':'r1_otrasl'}, axis=1)\n",
    "    f1_i = f1_i.merge(dfo, left_on='r2_rubric', right_on='Рубрика').drop('Рубрика',axis=1).rename({'Отрасль':'r2_otrasl'}, axis=1)\n",
    "    f1_i = f1_i[f1_i.r2_rubric.apply(lambda x: (x not in pd.concat(r_list).values) & (len(x) <= 50) & (x not in f1_i.r1_rubric.values))].drop_duplicates(subset='r2_rubric', keep=\"first\")\n",
    "    f1_i_1 = f1_i[f1_i['r1_otrasl'] != f1_i['r2_otrasl']].iloc[:10]\n",
    "    f1_i_2 = f1_i[f1_i['r1_otrasl'] == f1_i['r2_otrasl']].iloc[:10]\n",
    "    f1_i = pd.concat([f1_i_1, f1_i_2])\n",
    "    f1_i['avg_corr'] = f1_i['corr'].mean()\n",
    "    r_list.append(f1_i.r1_rubric.drop_duplicates())\n",
    "    r_list.append(f1_i.r2_rubric.drop_duplicates())\n",
    "    df_list.append(f1_i)\n",
    "f15 = pd.concat(df_list)\n",
    "f15['group'] = 'f15'"
   ]
  },
  {
   "cell_type": "code",
   "execution_count": 55,
   "id": "432f8657-abff-4c33-9f3f-d900ae9067a2",
   "metadata": {
    "execution": {
     "iopub.execute_input": "2023-06-07T19:38:49.072009Z",
     "iopub.status.busy": "2023-06-07T19:38:49.072009Z",
     "iopub.status.idle": "2023-06-07T20:06:12.992887Z",
     "shell.execute_reply": "2023-06-07T20:06:12.991880Z",
     "shell.execute_reply.started": "2023-06-07T19:38:49.072009Z"
    },
    "tags": []
   },
   "outputs": [
    {
     "data": {
      "application/vnd.jupyter.widget-view+json": {
       "model_id": "c7aaf90df9e441c9a1334ccd598b9924",
       "version_major": 2,
       "version_minor": 0
      },
      "text/plain": [
       "  0%|          | 0/3 [00:00<?, ?it/s]"
      ]
     },
     "metadata": {},
     "output_type": "display_data"
    },
    {
     "data": {
      "application/vnd.jupyter.widget-view+json": {
       "model_id": "1afcabbee7b249b4b3e0261986f1f8af",
       "version_major": 2,
       "version_minor": 0
      },
      "text/plain": [
       "  0%|          | 0/3 [00:00<?, ?it/s]"
      ]
     },
     "metadata": {},
     "output_type": "display_data"
    },
    {
     "data": {
      "application/vnd.jupyter.widget-view+json": {
       "model_id": "3a84c827869443558c9c2d598ec29e6c",
       "version_major": 2,
       "version_minor": 0
      },
      "text/plain": [
       "  0%|          | 0/3 [00:00<?, ?it/s]"
      ]
     },
     "metadata": {},
     "output_type": "display_data"
    },
    {
     "data": {
      "application/vnd.jupyter.widget-view+json": {
       "model_id": "3b5ed03a01d34449b9515dc90ce82944",
       "version_major": 2,
       "version_minor": 0
      },
      "text/plain": [
       "  0%|          | 0/3 [00:00<?, ?it/s]"
      ]
     },
     "metadata": {},
     "output_type": "display_data"
    },
    {
     "data": {
      "application/vnd.jupyter.widget-view+json": {
       "model_id": "846b3ace5b4d4d1980887cbb87416e6a",
       "version_major": 2,
       "version_minor": 0
      },
      "text/plain": [
       "  0%|          | 0/3 [00:00<?, ?it/s]"
      ]
     },
     "metadata": {},
     "output_type": "display_data"
    },
    {
     "data": {
      "application/vnd.jupyter.widget-view+json": {
       "model_id": "a1c42618dcd4460881f5030eb739ec21",
       "version_major": 2,
       "version_minor": 0
      },
      "text/plain": [
       "  0%|          | 0/3 [00:00<?, ?it/s]"
      ]
     },
     "metadata": {},
     "output_type": "display_data"
    },
    {
     "data": {
      "application/vnd.jupyter.widget-view+json": {
       "model_id": "ecad91753aeb4883b2e4654866d12c02",
       "version_major": 2,
       "version_minor": 0
      },
      "text/plain": [
       "  0%|          | 0/3 [00:00<?, ?it/s]"
      ]
     },
     "metadata": {},
     "output_type": "display_data"
    },
    {
     "data": {
      "application/vnd.jupyter.widget-view+json": {
       "model_id": "6604ea2a9f8b4f66aceb121a0a0bd70d",
       "version_major": 2,
       "version_minor": 0
      },
      "text/plain": [
       "  0%|          | 0/3 [00:00<?, ?it/s]"
      ]
     },
     "metadata": {},
     "output_type": "display_data"
    },
    {
     "data": {
      "application/vnd.jupyter.widget-view+json": {
       "model_id": "db0ed985b7c744e8994616dc172e900c",
       "version_major": 2,
       "version_minor": 0
      },
      "text/plain": [
       "  0%|          | 0/3 [00:00<?, ?it/s]"
      ]
     },
     "metadata": {},
     "output_type": "display_data"
    },
    {
     "data": {
      "application/vnd.jupyter.widget-view+json": {
       "model_id": "35f8fda4455c4b8a98a36b838a2036d6",
       "version_major": 2,
       "version_minor": 0
      },
      "text/plain": [
       "  0%|          | 0/3 [00:00<?, ?it/s]"
      ]
     },
     "metadata": {},
     "output_type": "display_data"
    },
    {
     "data": {
      "application/vnd.jupyter.widget-view+json": {
       "model_id": "235af891b9a64166b9b26940b716ff54",
       "version_major": 2,
       "version_minor": 0
      },
      "text/plain": [
       "  0%|          | 0/3 [00:00<?, ?it/s]"
      ]
     },
     "metadata": {},
     "output_type": "display_data"
    },
    {
     "data": {
      "application/vnd.jupyter.widget-view+json": {
       "model_id": "7dfe23362fc64775857bdb4e9df59ca0",
       "version_major": 2,
       "version_minor": 0
      },
      "text/plain": [
       "  0%|          | 0/3 [00:00<?, ?it/s]"
      ]
     },
     "metadata": {},
     "output_type": "display_data"
    },
    {
     "name": "stdout",
     "output_type": "stream",
     "text": [
      "CPU times: total: 11min 27s\n",
      "Wall time: 27min 23s\n"
     ]
    },
    {
     "data": {
      "text/html": [
       "<div>\n",
       "<style scoped>\n",
       "    .dataframe tbody tr th:only-of-type {\n",
       "        vertical-align: middle;\n",
       "    }\n",
       "\n",
       "    .dataframe tbody tr th {\n",
       "        vertical-align: top;\n",
       "    }\n",
       "\n",
       "    .dataframe thead th {\n",
       "        text-align: right;\n",
       "    }\n",
       "</style>\n",
       "<table border=\"1\" class=\"dataframe\">\n",
       "  <thead>\n",
       "    <tr style=\"text-align: right;\">\n",
       "      <th></th>\n",
       "      <th>r1_city</th>\n",
       "      <th>r1_rubric</th>\n",
       "      <th>r1_param</th>\n",
       "      <th>r2_city</th>\n",
       "      <th>r2_rubric</th>\n",
       "      <th>r2_param</th>\n",
       "      <th>corr</th>\n",
       "      <th>r1_cnt</th>\n",
       "      <th>r2_cnt</th>\n",
       "      <th>avg_corr</th>\n",
       "      <th>r1_rubric_city</th>\n",
       "      <th>r2_rubric_city</th>\n",
       "    </tr>\n",
       "    <tr>\n",
       "      <th>group</th>\n",
       "      <th></th>\n",
       "      <th></th>\n",
       "      <th></th>\n",
       "      <th></th>\n",
       "      <th></th>\n",
       "      <th></th>\n",
       "      <th></th>\n",
       "      <th></th>\n",
       "      <th></th>\n",
       "      <th></th>\n",
       "      <th></th>\n",
       "      <th></th>\n",
       "    </tr>\n",
       "  </thead>\n",
       "  <tbody>\n",
       "    <tr>\n",
       "      <th>f1</th>\n",
       "      <td>60</td>\n",
       "      <td>60</td>\n",
       "      <td>60</td>\n",
       "      <td>60</td>\n",
       "      <td>60</td>\n",
       "      <td>60</td>\n",
       "      <td>60</td>\n",
       "      <td>60</td>\n",
       "      <td>60</td>\n",
       "      <td>60</td>\n",
       "      <td>60</td>\n",
       "      <td>60</td>\n",
       "    </tr>\n",
       "    <tr>\n",
       "      <th>f10</th>\n",
       "      <td>60</td>\n",
       "      <td>60</td>\n",
       "      <td>60</td>\n",
       "      <td>60</td>\n",
       "      <td>60</td>\n",
       "      <td>60</td>\n",
       "      <td>60</td>\n",
       "      <td>60</td>\n",
       "      <td>60</td>\n",
       "      <td>60</td>\n",
       "      <td>60</td>\n",
       "      <td>60</td>\n",
       "    </tr>\n",
       "    <tr>\n",
       "      <th>f11</th>\n",
       "      <td>60</td>\n",
       "      <td>60</td>\n",
       "      <td>60</td>\n",
       "      <td>60</td>\n",
       "      <td>60</td>\n",
       "      <td>60</td>\n",
       "      <td>60</td>\n",
       "      <td>60</td>\n",
       "      <td>60</td>\n",
       "      <td>60</td>\n",
       "      <td>60</td>\n",
       "      <td>60</td>\n",
       "    </tr>\n",
       "    <tr>\n",
       "      <th>f12</th>\n",
       "      <td>60</td>\n",
       "      <td>60</td>\n",
       "      <td>60</td>\n",
       "      <td>60</td>\n",
       "      <td>60</td>\n",
       "      <td>60</td>\n",
       "      <td>60</td>\n",
       "      <td>60</td>\n",
       "      <td>60</td>\n",
       "      <td>60</td>\n",
       "      <td>60</td>\n",
       "      <td>60</td>\n",
       "    </tr>\n",
       "    <tr>\n",
       "      <th>f2</th>\n",
       "      <td>60</td>\n",
       "      <td>60</td>\n",
       "      <td>60</td>\n",
       "      <td>60</td>\n",
       "      <td>60</td>\n",
       "      <td>60</td>\n",
       "      <td>60</td>\n",
       "      <td>60</td>\n",
       "      <td>60</td>\n",
       "      <td>60</td>\n",
       "      <td>60</td>\n",
       "      <td>60</td>\n",
       "    </tr>\n",
       "    <tr>\n",
       "      <th>f3</th>\n",
       "      <td>60</td>\n",
       "      <td>60</td>\n",
       "      <td>60</td>\n",
       "      <td>60</td>\n",
       "      <td>60</td>\n",
       "      <td>60</td>\n",
       "      <td>60</td>\n",
       "      <td>60</td>\n",
       "      <td>60</td>\n",
       "      <td>60</td>\n",
       "      <td>60</td>\n",
       "      <td>60</td>\n",
       "    </tr>\n",
       "    <tr>\n",
       "      <th>f4</th>\n",
       "      <td>60</td>\n",
       "      <td>60</td>\n",
       "      <td>60</td>\n",
       "      <td>60</td>\n",
       "      <td>60</td>\n",
       "      <td>60</td>\n",
       "      <td>60</td>\n",
       "      <td>60</td>\n",
       "      <td>60</td>\n",
       "      <td>60</td>\n",
       "      <td>60</td>\n",
       "      <td>60</td>\n",
       "    </tr>\n",
       "    <tr>\n",
       "      <th>f5</th>\n",
       "      <td>60</td>\n",
       "      <td>60</td>\n",
       "      <td>60</td>\n",
       "      <td>60</td>\n",
       "      <td>60</td>\n",
       "      <td>60</td>\n",
       "      <td>60</td>\n",
       "      <td>60</td>\n",
       "      <td>60</td>\n",
       "      <td>60</td>\n",
       "      <td>60</td>\n",
       "      <td>60</td>\n",
       "    </tr>\n",
       "    <tr>\n",
       "      <th>f6</th>\n",
       "      <td>60</td>\n",
       "      <td>60</td>\n",
       "      <td>60</td>\n",
       "      <td>60</td>\n",
       "      <td>60</td>\n",
       "      <td>60</td>\n",
       "      <td>60</td>\n",
       "      <td>60</td>\n",
       "      <td>60</td>\n",
       "      <td>60</td>\n",
       "      <td>60</td>\n",
       "      <td>60</td>\n",
       "    </tr>\n",
       "    <tr>\n",
       "      <th>f7</th>\n",
       "      <td>60</td>\n",
       "      <td>60</td>\n",
       "      <td>60</td>\n",
       "      <td>60</td>\n",
       "      <td>60</td>\n",
       "      <td>60</td>\n",
       "      <td>60</td>\n",
       "      <td>60</td>\n",
       "      <td>60</td>\n",
       "      <td>60</td>\n",
       "      <td>60</td>\n",
       "      <td>60</td>\n",
       "    </tr>\n",
       "    <tr>\n",
       "      <th>f8</th>\n",
       "      <td>60</td>\n",
       "      <td>60</td>\n",
       "      <td>60</td>\n",
       "      <td>60</td>\n",
       "      <td>60</td>\n",
       "      <td>60</td>\n",
       "      <td>60</td>\n",
       "      <td>60</td>\n",
       "      <td>60</td>\n",
       "      <td>60</td>\n",
       "      <td>60</td>\n",
       "      <td>60</td>\n",
       "    </tr>\n",
       "    <tr>\n",
       "      <th>f9</th>\n",
       "      <td>60</td>\n",
       "      <td>60</td>\n",
       "      <td>60</td>\n",
       "      <td>60</td>\n",
       "      <td>60</td>\n",
       "      <td>60</td>\n",
       "      <td>60</td>\n",
       "      <td>60</td>\n",
       "      <td>60</td>\n",
       "      <td>60</td>\n",
       "      <td>60</td>\n",
       "      <td>60</td>\n",
       "    </tr>\n",
       "  </tbody>\n",
       "</table>\n",
       "</div>"
      ],
      "text/plain": [
       "       r1_city  r1_rubric  r1_param  r2_city  r2_rubric  r2_param  corr  \\\n",
       "group                                                                     \n",
       "f1          60         60        60       60         60        60    60   \n",
       "f10         60         60        60       60         60        60    60   \n",
       "f11         60         60        60       60         60        60    60   \n",
       "f12         60         60        60       60         60        60    60   \n",
       "f2          60         60        60       60         60        60    60   \n",
       "f3          60         60        60       60         60        60    60   \n",
       "f4          60         60        60       60         60        60    60   \n",
       "f5          60         60        60       60         60        60    60   \n",
       "f6          60         60        60       60         60        60    60   \n",
       "f7          60         60        60       60         60        60    60   \n",
       "f8          60         60        60       60         60        60    60   \n",
       "f9          60         60        60       60         60        60    60   \n",
       "\n",
       "       r1_cnt  r2_cnt  avg_corr  r1_rubric_city  r2_rubric_city  \n",
       "group                                                            \n",
       "f1         60      60        60              60              60  \n",
       "f10        60      60        60              60              60  \n",
       "f11        60      60        60              60              60  \n",
       "f12        60      60        60              60              60  \n",
       "f2         60      60        60              60              60  \n",
       "f3         60      60        60              60              60  \n",
       "f4         60      60        60              60              60  \n",
       "f5         60      60        60              60              60  \n",
       "f6         60      60        60              60              60  \n",
       "f7         60      60        60              60              60  \n",
       "f8         60      60        60              60              60  \n",
       "f9         60      60        60              60              60  "
      ]
     },
     "execution_count": 55,
     "metadata": {},
     "output_type": "execute_result"
    }
   ],
   "source": [
    "%%time\n",
    "### f1\n",
    "\n",
    "\n",
    "\n",
    "df_list = []\n",
    "for rubric, city, param  in tqdm(iter_set[:3]):\n",
    "    f1_i = t1_100_city[(t1_100_city.r1_city == city) & (t1_100_city.r1_rubric == rubric)].sort_values(['corr', 'r2_cnt'], ascending=[False,False])\n",
    "    f1_i = f1_i[f1_i.r2_rubric.apply(lambda x: (x not in pd.concat(r_list).values) & (len(x) <= 50) & (x not in f1_i.r1_rubric.values))].drop_duplicates(subset='r2_rubric', keep=\"first\")\n",
    "    f1_i = f1_i.iloc[:20]\n",
    "    f1_i['avg_corr'] = f1_i['corr'].mean()\n",
    "    r_list.append(f1_i.r1_rubric.drop_duplicates())\n",
    "    r_list.append(f1_i.r2_rubric.drop_duplicates())\n",
    "    df_list.append(f1_i)\n",
    "f1 = pd.concat(df_list)\n",
    "f1['group'] = 'f1'\n",
    "\n",
    "### f2\n",
    "df_list = []\n",
    "for rubric, city, param  in tqdm(iter_set[3:6]):\n",
    "    f1_i = t1_100_city[(t1_100_city.r1_city == city) & (t1_100_city.r1_rubric == rubric)].sort_values(['corr', 'r2_cnt'], ascending=[True,False])\n",
    "    f1_i = f1_i[f1_i.r2_rubric.apply(lambda x: (x not in pd.concat(r_list).values) & (len(x) <= 50) & (x not in f1_i.r1_rubric.values))].drop_duplicates(subset='r2_rubric', keep=\"first\")\n",
    "    f1_i = f1_i.iloc[:20]\n",
    "    f1_i['avg_corr'] = f1_i['corr'].mean()\n",
    "    r_list.append(f1_i.r1_rubric.drop_duplicates())\n",
    "    r_list.append(f1_i.r2_rubric.drop_duplicates())\n",
    "    df_list.append(f1_i)\n",
    "f2 = pd.concat(df_list)\n",
    "f2['group'] = 'f2'\n",
    "\n",
    "### f3\n",
    "df_list = []\n",
    "for rubric, city, param  in tqdm(iter_set[6:9]):\n",
    "    t1_c1 = t1_100_city[(t1_100_city.r1_city == city) & (t1_100_city.r1_rubric == rubric)]\n",
    "    t1_c1['corr_abs'] = t1_c1['corr'].abs()\n",
    "    t1_c1.sort_values(['corr_abs', 'r2_cnt'], ascending=[False,False], inplace=True)\n",
    "    f1_i = t1_c1.iloc[:]\n",
    "    f1_i = f1_i[f1_i.r2_rubric.apply(lambda x: (x not in pd.concat(r_list).values) & (len(x) <= 50) & (x not in f1_i.r1_rubric.values))].drop_duplicates(subset='r2_rubric', keep=\"first\")\n",
    "    f1_i = f1_i.iloc[:20].drop('corr_abs', axis=1)\n",
    "    f1_i['avg_corr'] = f1_i['corr'].mean()\n",
    "    r_list.append(f1_i.r1_rubric.drop_duplicates())\n",
    "    r_list.append(f1_i.r2_rubric.drop_duplicates())\n",
    "    df_list.append(f1_i)\n",
    "f3 = pd.concat(df_list)\n",
    "f3['group'] = 'f3'\n",
    "\n",
    "### f4\n",
    "#### органическая – для построения тренда используются смысловые ряды переменных: запросы базируются на запросах, пользователи на пользователях, динамика на динамике, схожесть на схожести\n",
    "df_list = []\n",
    "for rubric, city, param  in tqdm(iter_set[12:15]):\n",
    "    f1_i = t1_100_city[(t1_100_city.r1_city == city) & (t1_100_city.r1_rubric == rubric) & ((t1_100_city.r1_param == t1_100_city.r2_param) & (t1_100_city.r2_param == param))].sort_values(['corr', 'r2_cnt'], ascending=[False,False])\n",
    "    f1_i = f1_i[f1_i.r2_rubric.apply(lambda x: (x not in pd.concat(r_list).values) & (len(x) <= 50) & (x not in f1_i.r1_rubric.values))].drop_duplicates(subset='r2_rubric', keep=\"first\")\n",
    "    f1_i = f1_i.iloc[:20]\n",
    "    f1_i['avg_corr'] = f1_i['corr'].mean()\n",
    "    r_list.append(f1_i.r1_rubric.drop_duplicates())\n",
    "    r_list.append(f1_i.r2_rubric.drop_duplicates())\n",
    "    df_list.append(f1_i)\n",
    "f4 = pd.concat(df_list).sort_values(['r1_city','r1_rubric','r1_param'])\n",
    "f4['group'] = 'f4'\n",
    "\n",
    "### f5\n",
    "\n",
    "#### синтетическая – в формулу замешиваются показатели наибольшей предсказательной силы, без учёта их физической природы\n",
    "df_list = []\n",
    "for rubric, city, param  in tqdm(iter_set[15:18]):\n",
    "    t1_c1 = t1_100_city[(t1_100_city.r1_city == city) & (t1_100_city.r1_rubric == rubric)].sort_values(['corr', 'r2_cnt'], ascending=[False,False])\n",
    "    f1_i = t1_c1.iloc[:]\n",
    "    f1_i = f1_i[f1_i.r2_rubric.apply(lambda x: (x not in pd.concat(r_list).values) & (len(x) <= 50) & (x not in f1_i.r1_rubric.values))].drop_duplicates(subset='r2_rubric', keep=\"first\")\n",
    "    f1_i = f1_i.iloc[:20]\n",
    "    f1_i['avg_corr'] = f1_i['corr'].mean()\n",
    "    r_list.append(f1_i.r1_rubric.drop_duplicates())\n",
    "    r_list.append(f1_i.r2_rubric.drop_duplicates())\n",
    "    df_list.append(f1_i)\n",
    "f5 = pd.concat(df_list).sort_values(['r1_city','r1_rubric','r1_param'])\n",
    "f5['group'] = 'f5'\n",
    "\n",
    "### f6\n",
    "\n",
    "#### адаптационная – задействуется оптимизационный алгоритм вариативности, чередующий переменные, не допуская преобладания единственного типа.\n",
    "df_list = []\n",
    "for rubric, city, param  in tqdm(iter_set[18:21]):\n",
    "    f1_1 = t1_100_city[(t1_100_city.r1_city == city) & (t1_100_city.r1_rubric == rubric) & (t1_100_city.r2_param == 'Пользователи')].sort_values(['corr', 'r2_cnt'], ascending=[False,False])\n",
    "    f1_1 = f1_1[f1_1.r2_rubric.apply(lambda x: (x not in pd.concat(r_list).values) & (len(x) <= 50) & (x not in f1_i.r1_rubric.values))].drop_duplicates(subset='r2_rubric', keep=\"first\")\n",
    "    f1_1 = f1_1.iloc[:10]\n",
    "    r_list.append(f1_1.r1_rubric.drop_duplicates())\n",
    "    r_list.append(f1_1.r2_rubric.drop_duplicates())\n",
    "    \n",
    "    f1_2 = t1_100_city[(t1_100_city.r1_city == city) & (t1_100_city.r1_rubric == rubric) & (t1_100_city.r2_param == 'Запросы')].sort_values(['corr', 'r2_cnt'], ascending=[False,False])\n",
    "    f1_2 = f1_2[f1_2.r2_rubric.apply(lambda x: (x not in pd.concat(r_list).values) & (len(x) <= 50) & (x not in f1_i.r1_rubric.values))].drop_duplicates(subset='r2_rubric', keep=\"first\")\n",
    "    f1_2 = f1_2.iloc[:10]\n",
    "    \n",
    "    f1_i = pd.concat([f1_1, f1_2])\n",
    "    f1_i['avg_corr'] = f1_i['corr'].mean()\n",
    "    r_list.append(f1_i.r1_rubric.drop_duplicates())\n",
    "    r_list.append(f1_i.r2_rubric.drop_duplicates())\n",
    "    df_list.append(f1_i)\n",
    "f6 = pd.concat(df_list)\n",
    "f6['group'] = 'f6'\n",
    "\n",
    "#### f7\n",
    "df_list = []\n",
    "t1_100_all = t1_100\n",
    "for rubric, city, param  in tqdm(iter_set[21:24]):\n",
    "    f1_i = t1_100_all[(t1_100_all.r1_city == city) & (t1_100_all.r1_rubric == rubric) & (t1_100_all.r2_city == city) & (t1_100_all.r2_rubric != rubric)].sort_values(['corr', 'r2_cnt'], ascending=[False,False])\n",
    "    f1_i.sort_values(['corr', 'r2_cnt'], ascending=[False,False], inplace=True)\n",
    "    f1_i = f1_i[f1_i.r2_rubric.apply(lambda x: (x not in pd.concat(r_list).values) & (len(x) <= 50) & (x not in f1_i.r1_rubric.values))].drop_duplicates(subset='r2_rubric', keep=\"first\")\n",
    "    f1_i = f1_i.iloc[:20]\n",
    "    f1_i['avg_corr'] = f1_i['corr'].mean()\n",
    "    r_list.append(f1_i.r1_rubric.drop_duplicates())\n",
    "    r_list.append(f1_i.r2_rubric.drop_duplicates())\n",
    "    df_list.append(f1_i)\n",
    "f7 = pd.concat(df_list)\n",
    "f7['group'] = 'f7'\n",
    "\n",
    "### f8\n",
    "\n",
    "df_list = []\n",
    "for rubric, city, param  in tqdm(iter_set[24:27]):\n",
    "    f1_i = t1_100_all[(t1_100_all.r1_city == city) & (t1_100_all.r1_rubric == rubric) & (t1_100_all.r2_city != city) & (t1_100_all.r2_rubric != rubric)]\n",
    "    f1_i.sort_values(['corr', 'r2_cnt'], ascending=[False,False], inplace=True)\n",
    "    f1_i = f1_i[f1_i.r2_rubric.apply(lambda x: (x not in pd.concat(r_list).values) & (len(x) <= 50) & (x not in f1_i.r1_rubric.values))].drop_duplicates(subset='r2_rubric', keep=\"first\")\n",
    "    f1_i = f1_i.iloc[:20]\n",
    "    f1_i['avg_corr'] = f1_i['corr'].mean()\n",
    "    r_list.append(f1_i.r1_rubric.drop_duplicates())\n",
    "    r_list.append(f1_i.r2_rubric.drop_duplicates())\n",
    "    df_list.append(f1_i)\n",
    "f8 = pd.concat(df_list)\n",
    "f8['group'] = 'f8'\n",
    "\n",
    "\n",
    "### f9\n",
    "df_list = []\n",
    "for rubric, city, param  in tqdm(iter_set[9:12]):\n",
    "    f1_i = t1_100_all[(t1_100_all.r1_city == city) & (t1_100_all.r1_rubric == rubric)]\n",
    "    f1_i.sort_values(['corr', 'r2_cnt'], ascending=[False,False], inplace=True)\n",
    "    f1_i = f1_i[f1_i.r2_rubric.apply(lambda x: (x not in pd.concat(r_list).values) & (len(x) <= 50) & (x not in f1_i.r1_rubric.values))].drop_duplicates(subset='r2_rubric', keep=\"first\")\n",
    "    f1_i = f1_i.iloc[:20]\n",
    "    f1_i['avg_corr'] = f1_i['corr'].mean()\n",
    "    r_list.append(f1_i.r1_rubric.drop_duplicates())\n",
    "    r_list.append(f1_i.r2_rubric.drop_duplicates())\n",
    "    df_list.append(f1_i)\n",
    "f9 = pd.concat(df_list)\n",
    "f9['group'] = 'f9'\n",
    "\n",
    "### f10\n",
    "df_list = []\n",
    "for rubric, city, param  in tqdm(iter_set[27:30]):\n",
    "    f1_i = t1_100_all[(t1_100_all.r1_city == city) & (t1_100_all.r1_rubric == rubric)]\n",
    "    f1_i.sort_values(['corr', 'r2_cnt'], ascending=[False,False], inplace=True)\n",
    "    f1_i = f1_i[f1_i.r2_rubric.apply(lambda x: (x not in pd.concat(r_list).values) & (len(x) <= 50) & (x not in f1_i.r1_rubric.values))].drop_duplicates(subset='r2_rubric', keep=\"first\")\n",
    "    f1_i = f1_i.iloc[:20]\n",
    "    f1_i['avg_corr'] = f1_i['corr'].mean()\n",
    "    r_list.append(f1_i.r1_rubric.drop_duplicates())\n",
    "    r_list.append(f1_i.r2_rubric.drop_duplicates())\n",
    "    df_list.append(f1_i)\n",
    "f10 = pd.concat(df_list)\n",
    "f10['group'] = 'f10'\n",
    "\n",
    "### f11\n",
    "df_list = []\n",
    "for rubric, city, param  in tqdm(iter_set[30:33]):\n",
    "    f1_i = t1_100_all[(t1_100_all.r1_city == city) & (t1_100_all.r1_rubric == rubric)]\n",
    "    f1_i.sort_values(['corr', 'r2_cnt'], ascending=[False,False], inplace=True)\n",
    "    f1_i = f1_i[f1_i.r2_rubric.apply(lambda x: (x not in pd.concat(r_list).values) & (len(x) <= 50) & (x not in f1_i.r1_rubric.values))].drop_duplicates(subset='r2_rubric', keep=\"first\")\n",
    "    f1_i = f1_i.iloc[:20]\n",
    "    f1_i['avg_corr'] = f1_i['corr'].mean()\n",
    "    r_list.append(f1_i.r1_rubric.drop_duplicates())\n",
    "    r_list.append(f1_i.r2_rubric.drop_duplicates())\n",
    "    df_list.append(f1_i)\n",
    "f11 = pd.concat(df_list)\n",
    "f11['group'] = 'f11'\n",
    "\n",
    "### f12\n",
    "df_list = []\n",
    "for rubric, city, param  in tqdm(iter_set[33:36]):\n",
    "    f1_i = t1_100_all[(t1_100_all.r1_city == city) & (t1_100_all.r1_rubric == rubric)]\n",
    "    f1_i.sort_values(['corr', 'r2_cnt'], ascending=[False,False], inplace=True)\n",
    "    f1_i = f1_i[f1_i.r2_rubric.apply(lambda x: (x not in pd.concat(r_list).values) & (len(x) <= 50) & (x not in f1_i.r1_rubric.values))].drop_duplicates(subset='r2_rubric', keep=\"first\")\n",
    "    f1_i = f1_i.iloc[:20]\n",
    "    f1_i['avg_corr'] = f1_i['corr'].mean()\n",
    "    r_list.append(f1_i.r1_rubric.drop_duplicates())\n",
    "    r_list.append(f1_i.r2_rubric.drop_duplicates())\n",
    "    df_list.append(f1_i)\n",
    "f12 = pd.concat(df_list)\n",
    "f12['group'] = 'f12'\n",
    "\n",
    "f_all = pd.concat([f1,f2,f3,f4,f5,f6,f7,f8,f9,f10,f11,f12])\n",
    "f_all['r1_rubric_city'] = f_all['r1_city'] + '. ' + f_all['r1_rubric']\n",
    "f_all['r2_rubric_city'] = f_all['r2_city'] + '. ' + f_all['r2_rubric']\n",
    "\n",
    "f_all = f_all[f_all.r2_rubric.apply(lambda x: (x not in f1_i.r1_rubric.values))].drop_duplicates(subset='r2_rubric', keep=\"first\")\n",
    "f_all.groupby('group').count()"
   ]
  },
  {
   "cell_type": "code",
   "execution_count": 56,
   "id": "e00eef3e-f540-4b3e-88ed-dda854bb884d",
   "metadata": {
    "execution": {
     "iopub.execute_input": "2023-06-07T20:09:15.531247Z",
     "iopub.status.busy": "2023-06-07T20:09:15.531247Z",
     "iopub.status.idle": "2023-06-07T20:09:15.903879Z",
     "shell.execute_reply": "2023-06-07T20:09:15.902896Z",
     "shell.execute_reply.started": "2023-06-07T20:09:15.531247Z"
    },
    "tags": []
   },
   "outputs": [],
   "source": [
    "f_new = pd.concat([f13, f14, f15])\n",
    "\n",
    "f_new['r1_rubric_city'] = f_new['r1_city'] + '. ' + f_new['r1_rubric']\n",
    "f_new['r2_rubric_city'] = f_new['r2_city'] + '. ' + f_new['r2_rubric']\n",
    "f_new['r1_rubric_city_param'] = f_new['r1_rubric_city'] + '. ' + f_new['r1_param']\n",
    "f_new['r2_rubric_city_param'] = f_new['r2_rubric_city'] + '. ' + f_new['r2_param']\n",
    "\n",
    "f_all['r1_otrasl'] = ''\n",
    "f_all['r2_otrasl'] = ''\n",
    "f_all['r1_rubric_city_param'] = f_all['r1_rubric_city'] + '. ' + f_all['r1_param']\n",
    "f_all['r2_rubric_city_param'] = f_all['r2_rubric_city'] + '. ' + f_all['r2_param']\n",
    "\n",
    "f_new = f_new[f_all.columns]\n",
    "f_all_new = pd.concat([f_all, f_new])\n",
    "f_all_new.to_excel('f_all_new2.xlsx')"
   ]
  },
  {
   "cell_type": "code",
   "execution_count": 65,
   "id": "7467af46-4cab-450f-ab71-2bc83cb4b8a5",
   "metadata": {
    "execution": {
     "iopub.execute_input": "2023-06-07T20:29:19.462161Z",
     "iopub.status.busy": "2023-06-07T20:29:19.462161Z",
     "iopub.status.idle": "2023-06-07T20:29:19.811568Z",
     "shell.execute_reply": "2023-06-07T20:29:19.810589Z",
     "shell.execute_reply.started": "2023-06-07T20:29:19.462161Z"
    },
    "tags": []
   },
   "outputs": [],
   "source": [
    "f_cr = f_all_new[['r1_city','r1_rubric']].drop_duplicates()\n",
    "cr = list(zip(f_cr['r1_city'].values, f_cr['r1_rubric'].values))\n",
    "\n",
    "def replace_slash(s):\n",
    "    return s[::-1].replace('/', 'и', 1)[::-1].replace('СПБ', 'Санкт-Петербург')\n",
    "\n",
    "docx_name = 'Формулы_корреляции_Москва_230607_2000.docx'\n",
    "doc = docx.Document('files/report.docx')\n",
    "doc.save(docx_name)\n",
    "p = doc.add_paragraph()\n",
    "n1, n2, n3 = 0,0,0\n",
    "for city, rubric in cr:\n",
    "    f_i = f_all_new[(f_all_new.r1_city == city) & (f_all_new.r1_rubric == rubric)]\n",
    "    \n",
    "    if f_i['group'].iloc[0] in ('f1', 'f2', 'f3'): # 1-3 Бизнес\n",
    "        col1 = 'r1_rubric'\n",
    "        col2 = 'r2_rubric'   \n",
    "        col3 = col2\n",
    "        col4 = col2\n",
    "    elif f_i['group'].iloc[0] in ('f4', 'f5', 'f6'): # 4-6 Город-бизнес-показатель\n",
    "        col1 = 'r1_rubric_city_param'\n",
    "        col2 = 'r2_rubric_city_param'\n",
    "        col3 = col2\n",
    "        col4 = col2\n",
    "    elif f_i['group'].iloc[0] in ('f7', 'f8', 'f9'): # 7-9 Город-бизнес\n",
    "        col1 = 'r1_rubric_city'\n",
    "        col2 = 'r2_rubric_city'\n",
    "        col3 = col2\n",
    "        col4 = col2\n",
    "    elif f_i['group'].iloc[0] =='f10': # 10-12 Комбо\n",
    "        n1 += 1\n",
    "        if n1 == 1:\n",
    "            col1 = 'r1_rubric'\n",
    "            col2 = 'r2_rubric'\n",
    "            col3 = 'r2_rubric_city'\n",
    "            col4 = col3\n",
    "        if n1 == 2:\n",
    "            col1 = 'r1_rubric_city'\n",
    "            col2 = 'r2_rubric'\n",
    "            col3 = 'r2_rubric_city'\n",
    "            col4 = col3\n",
    "        if n1 == 3:\n",
    "            col1 = 'r1_rubric_city_param'\n",
    "            col2 = 'r2_rubric'\n",
    "            col3 = 'r2_rubric_city'\n",
    "            col4 = col3\n",
    "    elif f_i['group'].iloc[0] =='f11': # 10-12 Комбо\n",
    "        n2 += 1\n",
    "        if n2 == 1:\n",
    "            col1 = 'r1_rubric'\n",
    "            col2 = 'r2_rubric_city'\n",
    "            col3 = 'r2_rubric_city_param'\n",
    "            col4 = col3\n",
    "        if n2 == 2:\n",
    "            col1 = 'r1_rubric_city'\n",
    "            col2 = 'r2_rubric_city'\n",
    "            col3 = 'r2_rubric_city_param'\n",
    "            col4 = col3\n",
    "        if n2 == 3:\n",
    "            col1 = 'r1_rubric_city_param'\n",
    "            col2 = 'r2_rubric_city'\n",
    "            col3 = 'r2_rubric_city_param'\n",
    "            col4 = col3\n",
    "    elif f_i['group'].iloc[0] =='f12': # 10-12 Комбо\n",
    "        n3 += 1\n",
    "        if n3 == 1:\n",
    "            col1 = 'r1_rubric'\n",
    "            col2 = 'r2_rubric'\n",
    "            col3 = 'r2_rubric_city'\n",
    "            col4 = 'r2_rubric_city_param' \n",
    "        if n3 == 2:\n",
    "            col1 = 'r1_rubric_city'\n",
    "            col2 = 'r2_rubric'\n",
    "            col3 = 'r2_rubric_city'\n",
    "            col4 = 'r2_rubric_city_param' \n",
    "        if n3 == 3:\n",
    "            col1 = 'r1_rubric_city_param'\n",
    "            col2 = 'r2_rubric'\n",
    "            col3 = 'r2_rubric_city' \n",
    "            col4 = 'r2_rubric_city_param'       \n",
    "            \n",
    "    head = f_i['group'].iloc[0] +': '+ f_i[col1].iloc[0] + ' = '\n",
    "    left_sq = 'f{'\n",
    "    body = '\\n\\t,'.join([f'{i:.4f} x {replace_slash(j)}' for i, j in list(zip(f_i['corr'].values, [*f_i[col2].values[:6], *f_i[col3].values[6:13], *f_i[col4].values[13:]]))])\n",
    "    right_sq = '}\\n'\n",
    "    \n",
    "    if f_i['group'].iloc[0] in ('f13', 'f14', 'f15'):\n",
    "        head = f_i['group'].iloc[0] +': '+ f_i['r1_otrasl'].iloc[0] + '. ' + f_i['r1_rubric'].iloc[0] + ' = '\n",
    "        left_sq = 'f{'\n",
    "        body = '\\n\\t,'.join([f'{i:.4f} x {replace_slash(j)}' for i, j in list(zip(f_i['corr'].values, [*f_i['r2_rubric'].values[:6], *f_i['r2_rubric'].values[6:13], *f_i['r2_rubric'].values[13:]]))])\n",
    "        right_sq = '}\\n'        \n",
    "        \n",
    "    #print(head, left_sq, body, right_sq)\n",
    "    runner = p.add_run(head)\n",
    "    runner.font.highlight_color = WD_COLOR_INDEX.YELLOW\n",
    "    runner2 = p.add_run(left_sq)\n",
    "    runner2.italic = True\n",
    "    p.add_run(body)\n",
    "    runner3 = p.add_run(right_sq)\n",
    "    runner3.italic = True\n",
    "    doc.save(docx_name)"
   ]
  },
  {
   "cell_type": "code",
   "execution_count": null,
   "id": "a798942a-c11c-4746-a05c-e27b12938433",
   "metadata": {},
   "outputs": [],
   "source": []
  },
  {
   "attachments": {
    "e6fc99ed-6622-4695-93de-c8ac1a25e3d8.png": {
     "image/png": "[encoded data removed]"
    }
   },
   "cell_type": "markdown",
   "id": "20115d4a-7c6a-4c2e-bf69-f9f41347f100",
   "metadata": {},
   "source": [
    "![image.png](attachment:e6fc99ed-6622-4695-93de-c8ac1a25e3d8.png)"
   ]
  },
  {
   "cell_type": "code",
   "execution_count": null,
   "id": "c7200ded-0a2f-4bd5-9e34-b805b8c435c4",
   "metadata": {},
   "outputs": [],
   "source": []
  },
  {
   "cell_type": "code",
   "execution_count": null,
   "id": "7c7a4cd5-7612-4b0a-903d-64e363e69ebf",
   "metadata": {},
   "outputs": [],
   "source": []
  },
  {
   "cell_type": "code",
   "execution_count": null,
   "id": "4bec28e4-b56e-48fb-9432-147677dc6a97",
   "metadata": {},
   "outputs": [],
   "source": []
  }
 ],
 "metadata": {
  "kernelspec": {
   "display_name": "Python 3 (ipykernel)",
   "language": "python",
   "name": "python3"
  },
  "language_info": {
   "codemirror_mode": {
    "name": "ipython",
    "version": 3
   },
   "file_extension": ".py",
   "mimetype": "text/x-python",
   "name": "python",
   "nbconvert_exporter": "python",
   "pygments_lexer": "ipython3",
   "version": "3.9.12"
  },
  "toc-autonumbering": false
 },
 "nbformat": 4,
 "nbformat_minor": 5
}
