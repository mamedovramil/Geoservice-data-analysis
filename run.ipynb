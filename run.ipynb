{
 "cells": [
  {
   "cell_type": "code",
   "execution_count": 1,
   "id": "696175c9-278e-4ec3-96ae-d819f44cf808",
   "metadata": {
    "execution": {
     "iopub.execute_input": "2023-04-19T07:06:24.753714Z",
     "iopub.status.busy": "2023-04-19T07:06:24.753714Z",
     "iopub.status.idle": "2023-04-19T07:06:29.731236Z",
     "shell.execute_reply": "2023-04-19T07:06:29.730361Z",
     "shell.execute_reply.started": "2023-04-19T07:06:24.753714Z"
    },
    "tags": []
   },
   "outputs": [
    {
     "name": "stdout",
     "output_type": "stream",
     "text": [
      "Ready: 2023-04-19 10:06:29\n"
     ]
    }
   ],
   "source": [
    "%run functions.ipynb"
   ]
  },
  {
   "cell_type": "code",
   "execution_count": 2,
   "id": "6ebf155c-867c-40c5-9716-b1fd62173d7b",
   "metadata": {
    "execution": {
     "iopub.execute_input": "2023-04-19T07:06:29.732415Z",
     "iopub.status.busy": "2023-04-19T07:06:29.732415Z",
     "iopub.status.idle": "2023-04-19T07:06:39.223055Z",
     "shell.execute_reply": "2023-04-19T07:06:39.221404Z",
     "shell.execute_reply.started": "2023-04-19T07:06:29.732415Z"
    },
    "tags": []
   },
   "outputs": [
    {
     "data": {
      "text/html": [
       "\n",
       "            <div>\n",
       "                <p><b>SparkSession - in-memory</b></p>\n",
       "                \n",
       "        <div>\n",
       "            <p><b>SparkContext</b></p>\n",
       "\n",
       "            <p><a href=\"http://LAPTOP-6654GP8D:4040\">Spark UI</a></p>\n",
       "\n",
       "            <dl>\n",
       "              <dt>Version</dt>\n",
       "                <dd><code>v3.3.1</code></dd>\n",
       "              <dt>Master</dt>\n",
       "                <dd><code>local[*]</code></dd>\n",
       "              <dt>AppName</dt>\n",
       "                <dd><code>PySpark_Tutorial</code></dd>\n",
       "            </dl>\n",
       "        </div>\n",
       "        \n",
       "            </div>\n",
       "        "
      ],
      "text/plain": [
       "<pyspark.sql.session.SparkSession at 0x1bd81270e50>"
      ]
     },
     "execution_count": 2,
     "metadata": {},
     "output_type": "execute_result"
    }
   ],
   "source": [
    "findspark.init()\n",
    "from pyspark.sql import SparkSession\n",
    "try:\n",
    "    spark.stop()\n",
    "except:\n",
    "    pass\n",
    "spark = SparkSession.builder\\\n",
    "        .master(\"local[*]\")\\\n",
    "        .appName('PySpark_Tutorial')\\\n",
    "        .getOrCreate()\n",
    "spark"
   ]
  },
  {
   "cell_type": "code",
   "execution_count": null,
   "id": "699e0501-0369-4807-b070-01ca1f57d652",
   "metadata": {},
   "outputs": [],
   "source": []
  },
  {
   "cell_type": "code",
   "execution_count": null,
   "id": "b0f2af95-06ed-4f0a-bfce-81dc6afbf590",
   "metadata": {},
   "outputs": [],
   "source": []
  },
  {
   "cell_type": "code",
   "execution_count": null,
   "id": "8065b905-1537-43a5-bf26-c6e71a7b42a2",
   "metadata": {},
   "outputs": [],
   "source": []
  },
  {
   "cell_type": "code",
   "execution_count": null,
   "id": "bcc18129-b7ed-4504-a320-f8fbb025a4e1",
   "metadata": {},
   "outputs": [],
   "source": []
  },
  {
   "cell_type": "code",
   "execution_count": 28,
   "id": "a44f3042-6bda-4954-9204-8b6817ed8468",
   "metadata": {
    "execution": {
     "iopub.execute_input": "2023-04-17T05:28:11.245026Z",
     "iopub.status.busy": "2023-04-17T05:28:11.245026Z",
     "iopub.status.idle": "2023-04-17T05:28:11.559573Z",
     "shell.execute_reply": "2023-04-17T05:28:11.559573Z",
     "shell.execute_reply.started": "2023-04-17T05:28:11.245026Z"
    }
   },
   "outputs": [],
   "source": [
    "request_df = spark.read.parquet(f'files/request_df')\n",
    "request_df.createOrReplaceTempView('request_df')"
   ]
  },
  {
   "cell_type": "code",
   "execution_count": 35,
   "id": "6360bf4d-5c7e-45d2-9c24-4c3a50bf4a88",
   "metadata": {
    "execution": {
     "iopub.execute_input": "2023-04-17T05:53:07.164162Z",
     "iopub.status.busy": "2023-04-17T05:53:07.164162Z",
     "iopub.status.idle": "2023-04-17T07:32:07.169759Z",
     "shell.execute_reply": "2023-04-17T07:32:07.169759Z",
     "shell.execute_reply.started": "2023-04-17T05:53:07.164162Z"
    },
    "tags": []
   },
   "outputs": [],
   "source": [
    "requests_filtered_df = spark.sql('''\n",
    "\n",
    "with cte as \n",
    "    (\n",
    "    select\n",
    "        rubricID\n",
    "        ,sum(cnt_requests) cnt_requests\n",
    "    from request_df\n",
    "    group by rubricID\n",
    "    )\n",
    ", cte2 as \n",
    "    (\n",
    "    select *, row_number() over(partition by rubricID order by cnt_requests desc) rn\n",
    "    from cte\n",
    "    )\n",
    "\n",
    "select \n",
    "    f.rubricName\n",
    "    ,f.time\n",
    "    ,f.date\n",
    "    ,f.tx\n",
    "from final_df as f\n",
    "join cte2 as c\n",
    "    on c.rubricID = f.rubricID and rn < 101\n",
    "    \n",
    "    \n",
    "    ''')\n",
    "\n",
    "requests_filtered_df.write.mode('overwrite').parquet(f'files/requests_filtered_df')"
   ]
  },
  {
   "cell_type": "code",
   "execution_count": 36,
   "id": "0d4611b7-d7fd-485b-a0ad-3c01a68c2d7f",
   "metadata": {
    "execution": {
     "iopub.execute_input": "2023-04-17T07:32:07.185464Z",
     "iopub.status.busy": "2023-04-17T07:32:07.185464Z",
     "iopub.status.idle": "2023-04-17T07:32:09.037682Z",
     "shell.execute_reply": "2023-04-17T07:32:09.037682Z",
     "shell.execute_reply.started": "2023-04-17T07:32:07.185464Z"
    }
   },
   "outputs": [],
   "source": [
    "import string\n",
    "import pymorphy2\n",
    "morph = pymorphy2.MorphAnalyzer()\n",
    "from nltk.corpus import stopwords\n",
    "russian_stopwords = stopwords.words(\"russian\")\n",
    "\n",
    "def normalize_word(word):\n",
    "    return (sorted([morph.normal_forms(str(i))[0].strip(string.punctuation + string.whitespace) for i in word.split(' ')]))\n",
    "\n",
    "normalize_word_udf = udf(normalize_word, ArrayType(StringType()))\n",
    "\n",
    "def check_stopwords(word, russian_stopwords = russian_stopwords):\n",
    "    if word not in russian_stopwords and len(word)>1:\n",
    "        for letter in word:\n",
    "            if letter in string.punctuation or letter in string.digits:\n",
    "                return 0\n",
    "        return 1\n",
    "    return 0\n",
    "\n",
    "check_stopwords_udf = udf(check_stopwords, StringType())"
   ]
  },
  {
   "cell_type": "code",
   "execution_count": 4,
   "id": "f5ea0674-4eac-4aa0-a3f7-1e0fe0ec0e97",
   "metadata": {
    "execution": {
     "iopub.execute_input": "2023-04-18T02:45:30.760834Z",
     "iopub.status.busy": "2023-04-18T02:45:30.760834Z",
     "iopub.status.idle": "2023-04-18T02:45:30.771796Z",
     "shell.execute_reply": "2023-04-18T02:45:30.771796Z",
     "shell.execute_reply.started": "2023-04-18T02:45:30.760834Z"
    },
    "tags": []
   },
   "outputs": [],
   "source": [
    "name = 'ten_city'"
   ]
  },
  {
   "cell_type": "code",
   "execution_count": 39,
   "id": "bade1130-1552-4022-a41b-714a405c59f7",
   "metadata": {
    "execution": {
     "iopub.execute_input": "2023-04-17T16:53:16.723650Z",
     "iopub.status.busy": "2023-04-17T16:53:16.722649Z",
     "iopub.status.idle": "2023-04-17T18:59:40.976698Z",
     "shell.execute_reply": "2023-04-17T18:59:40.973701Z",
     "shell.execute_reply.started": "2023-04-17T16:53:16.723650Z"
    },
    "tags": []
   },
   "outputs": [],
   "source": [
    "df = spark.read.parquet(f'files/requests_filtered_df')\n",
    "\n",
    "df.createOrReplaceTempView('df')\n",
    "\n",
    "grouped_df = spark.sql('''\n",
    "\n",
    "select\n",
    "    rubricName\n",
    "    ,year\n",
    "    ,tx\n",
    "    ,cnt\n",
    "    ,row_number() over(partition by rubricName ,year order by cnt desc) rn\n",
    "from (\n",
    "    select\n",
    "        rubricName\n",
    "        ,year(date) year\n",
    "        ,lower(tx) tx\n",
    "        ,count(*) cnt\n",
    "    from df\n",
    "    group by \n",
    "        rubricName\n",
    "        ,year(date)\n",
    "        ,lower(tx)\n",
    "        ) t\n",
    "''').where('tx is not null and year in (2020,2021,2022,2023)')#.where('rn < 16')\n",
    "\n",
    "\n",
    "grouped_df.write.mode('overwrite').parquet(f'files/df_tx_grouped_{name}')"
   ]
  },
  {
   "cell_type": "code",
   "execution_count": 78,
   "id": "8f7192a5-8eb5-4de2-b368-9f280983b89a",
   "metadata": {
    "execution": {
     "iopub.execute_input": "2023-04-18T03:22:22.516328Z",
     "iopub.status.busy": "2023-04-18T03:22:22.516328Z",
     "iopub.status.idle": "2023-04-18T03:22:25.767668Z",
     "shell.execute_reply": "2023-04-18T03:22:25.767668Z",
     "shell.execute_reply.started": "2023-04-18T03:22:22.516328Z"
    },
    "tags": []
   },
   "outputs": [],
   "source": [
    "(spark.read.parquet(f\"files/df_tx_grouped_{name}\")\n",
    " .where('tx is not null and year in (2020,2021,2022,2023)')\n",
    " .write.partitionBy('rubricName').mode('overwrite')\n",
    " .parquet(f'files/df_tx_grouped_filtered_{name}')\n",
    ")\n",
    "\n",
    "df_tx_grouped_filtered = spark.read.parquet(f\"files/df_tx_grouped_filtered_{name}\")\n",
    "df_tx_grouped_filtered.createOrReplaceTempView('df_tx_grouped_filtered')\n",
    "df_tx_grouped_filtered.where('1=0').write.mode('overwrite').parquet(f'files/df_tx_grouped_normalize_{name}')\n",
    "\n",
    "rubrics = spark.sql('''select distinct rubricName from df_tx_grouped_filtered''').collect()\n",
    "rubrics = [i.asDict()['rubricName'] for i in rubrics]"
   ]
  },
  {
   "cell_type": "code",
   "execution_count": 96,
   "id": "7c8f0a1a-5f2b-4169-91c5-5b30f76f4026",
   "metadata": {
    "collapsed": true,
    "execution": {
     "iopub.execute_input": "2023-04-18T03:35:10.143519Z",
     "iopub.status.busy": "2023-04-18T03:35:10.143519Z",
     "iopub.status.idle": "2023-04-18T08:07:13.262470Z",
     "shell.execute_reply": "2023-04-18T08:07:13.262470Z",
     "shell.execute_reply.started": "2023-04-18T03:35:10.143519Z"
    },
    "jupyter": {
     "outputs_hidden": true
    },
    "tags": []
   },
   "outputs": [
    {
     "name": "stderr",
     "output_type": "stream",
     "text": [
      " 92%|██████████████████████████████████████████████████████████████████████▏     | 1541/1669 [4:32:03<22:35, 10.59s/it]\n"
     ]
    },
    {
     "ename": "ParseException",
     "evalue": "\nSyntax error at or near 'М'(line 1, pos 13)\n\n== SQL ==\nrubricName=\"\"Металлопрокат и металлоизделия от компании \"\"Металлтрейд-Новосибирск\"\"\"\"\n-------------^^^\n",
     "output_type": "error",
     "traceback": [
      "\u001b[1;31m---------------------------------------------------------------------------\u001b[0m",
      "\u001b[1;31mParseException\u001b[0m                            Traceback (most recent call last)",
      "Input \u001b[1;32mIn [96]\u001b[0m, in \u001b[0;36m<cell line: 1>\u001b[1;34m()\u001b[0m\n\u001b[0;32m      1\u001b[0m \u001b[38;5;28;01mfor\u001b[39;00m rubric \u001b[38;5;129;01min\u001b[39;00m tqdm(rubrics):\n\u001b[1;32m----> 2\u001b[0m     df_i \u001b[38;5;241m=\u001b[39m \u001b[43mdf_tx_grouped_filtered\u001b[49m\u001b[38;5;241;43m.\u001b[39;49m\u001b[43mwhere\u001b[49m\u001b[43m(\u001b[49m\u001b[38;5;124;43mf\u001b[39;49m\u001b[38;5;124;43m'\u001b[39;49m\u001b[38;5;124;43mrubricName=\u001b[39;49m\u001b[38;5;124;43m\"\u001b[39;49m\u001b[38;5;132;43;01m{\u001b[39;49;00m\u001b[43mrubric\u001b[49m\u001b[38;5;132;43;01m}\u001b[39;49;00m\u001b[38;5;124;43m\"\u001b[39;49m\u001b[38;5;124;43m'\u001b[39;49m\u001b[43m)\u001b[49m\n\u001b[0;32m      3\u001b[0m     df_i_norm \u001b[38;5;241m=\u001b[39m df_i\u001b[38;5;241m.\u001b[39mwithColumn(\u001b[38;5;124m'\u001b[39m\u001b[38;5;124mnew_tx\u001b[39m\u001b[38;5;124m'\u001b[39m,normalize_word_udf(col(\u001b[38;5;124m'\u001b[39m\u001b[38;5;124mtx\u001b[39m\u001b[38;5;124m'\u001b[39m)))\n\u001b[0;32m      4\u001b[0m     df_i_norm\u001b[38;5;241m.\u001b[39mwrite\u001b[38;5;241m.\u001b[39mmode(\u001b[38;5;124m'\u001b[39m\u001b[38;5;124mappend\u001b[39m\u001b[38;5;124m'\u001b[39m)\u001b[38;5;241m.\u001b[39mparquet(\u001b[38;5;124mf\u001b[39m\u001b[38;5;124m'\u001b[39m\u001b[38;5;124mfiles/df_tx_grouped_normalize_\u001b[39m\u001b[38;5;132;01m{\u001b[39;00mname\u001b[38;5;132;01m}\u001b[39;00m\u001b[38;5;124m'\u001b[39m)\n",
      "File \u001b[1;32m~\\Anaconda\\lib\\site-packages\\pyspark\\sql\\dataframe.py:2077\u001b[0m, in \u001b[0;36mDataFrame.filter\u001b[1;34m(self, condition)\u001b[0m\n\u001b[0;32m   2052\u001b[0m \u001b[38;5;124;03m\"\"\"Filters rows using the given condition.\u001b[39;00m\n\u001b[0;32m   2053\u001b[0m \n\u001b[0;32m   2054\u001b[0m \u001b[38;5;124;03m:func:`where` is an alias for :func:`filter`.\u001b[39;00m\n\u001b[1;32m   (...)\u001b[0m\n\u001b[0;32m   2074\u001b[0m \u001b[38;5;124;03m[Row(age=2, name='Alice')]\u001b[39;00m\n\u001b[0;32m   2075\u001b[0m \u001b[38;5;124;03m\"\"\"\u001b[39;00m\n\u001b[0;32m   2076\u001b[0m \u001b[38;5;28;01mif\u001b[39;00m \u001b[38;5;28misinstance\u001b[39m(condition, \u001b[38;5;28mstr\u001b[39m):\n\u001b[1;32m-> 2077\u001b[0m     jdf \u001b[38;5;241m=\u001b[39m \u001b[38;5;28;43mself\u001b[39;49m\u001b[38;5;241;43m.\u001b[39;49m\u001b[43m_jdf\u001b[49m\u001b[38;5;241;43m.\u001b[39;49m\u001b[43mfilter\u001b[49m\u001b[43m(\u001b[49m\u001b[43mcondition\u001b[49m\u001b[43m)\u001b[49m\n\u001b[0;32m   2078\u001b[0m \u001b[38;5;28;01melif\u001b[39;00m \u001b[38;5;28misinstance\u001b[39m(condition, Column):\n\u001b[0;32m   2079\u001b[0m     jdf \u001b[38;5;241m=\u001b[39m \u001b[38;5;28mself\u001b[39m\u001b[38;5;241m.\u001b[39m_jdf\u001b[38;5;241m.\u001b[39mfilter(condition\u001b[38;5;241m.\u001b[39m_jc)\n",
      "File \u001b[1;32m~\\Anaconda\\lib\\site-packages\\py4j\\java_gateway.py:1321\u001b[0m, in \u001b[0;36mJavaMember.__call__\u001b[1;34m(self, *args)\u001b[0m\n\u001b[0;32m   1315\u001b[0m command \u001b[38;5;241m=\u001b[39m proto\u001b[38;5;241m.\u001b[39mCALL_COMMAND_NAME \u001b[38;5;241m+\u001b[39m\\\n\u001b[0;32m   1316\u001b[0m     \u001b[38;5;28mself\u001b[39m\u001b[38;5;241m.\u001b[39mcommand_header \u001b[38;5;241m+\u001b[39m\\\n\u001b[0;32m   1317\u001b[0m     args_command \u001b[38;5;241m+\u001b[39m\\\n\u001b[0;32m   1318\u001b[0m     proto\u001b[38;5;241m.\u001b[39mEND_COMMAND_PART\n\u001b[0;32m   1320\u001b[0m answer \u001b[38;5;241m=\u001b[39m \u001b[38;5;28mself\u001b[39m\u001b[38;5;241m.\u001b[39mgateway_client\u001b[38;5;241m.\u001b[39msend_command(command)\n\u001b[1;32m-> 1321\u001b[0m return_value \u001b[38;5;241m=\u001b[39m \u001b[43mget_return_value\u001b[49m\u001b[43m(\u001b[49m\n\u001b[0;32m   1322\u001b[0m \u001b[43m    \u001b[49m\u001b[43manswer\u001b[49m\u001b[43m,\u001b[49m\u001b[43m \u001b[49m\u001b[38;5;28;43mself\u001b[39;49m\u001b[38;5;241;43m.\u001b[39;49m\u001b[43mgateway_client\u001b[49m\u001b[43m,\u001b[49m\u001b[43m \u001b[49m\u001b[38;5;28;43mself\u001b[39;49m\u001b[38;5;241;43m.\u001b[39;49m\u001b[43mtarget_id\u001b[49m\u001b[43m,\u001b[49m\u001b[43m \u001b[49m\u001b[38;5;28;43mself\u001b[39;49m\u001b[38;5;241;43m.\u001b[39;49m\u001b[43mname\u001b[49m\u001b[43m)\u001b[49m\n\u001b[0;32m   1324\u001b[0m \u001b[38;5;28;01mfor\u001b[39;00m temp_arg \u001b[38;5;129;01min\u001b[39;00m temp_args:\n\u001b[0;32m   1325\u001b[0m     temp_arg\u001b[38;5;241m.\u001b[39m_detach()\n",
      "File \u001b[1;32m~\\Anaconda\\lib\\site-packages\\pyspark\\sql\\utils.py:196\u001b[0m, in \u001b[0;36mcapture_sql_exception.<locals>.deco\u001b[1;34m(*a, **kw)\u001b[0m\n\u001b[0;32m    192\u001b[0m converted \u001b[38;5;241m=\u001b[39m convert_exception(e\u001b[38;5;241m.\u001b[39mjava_exception)\n\u001b[0;32m    193\u001b[0m \u001b[38;5;28;01mif\u001b[39;00m \u001b[38;5;129;01mnot\u001b[39;00m \u001b[38;5;28misinstance\u001b[39m(converted, UnknownException):\n\u001b[0;32m    194\u001b[0m     \u001b[38;5;66;03m# Hide where the exception came from that shows a non-Pythonic\u001b[39;00m\n\u001b[0;32m    195\u001b[0m     \u001b[38;5;66;03m# JVM exception message.\u001b[39;00m\n\u001b[1;32m--> 196\u001b[0m     \u001b[38;5;28;01mraise\u001b[39;00m converted \u001b[38;5;28;01mfrom\u001b[39;00m \u001b[38;5;28mNone\u001b[39m\n\u001b[0;32m    197\u001b[0m \u001b[38;5;28;01melse\u001b[39;00m:\n\u001b[0;32m    198\u001b[0m     \u001b[38;5;28;01mraise\u001b[39;00m\n",
      "\u001b[1;31mParseException\u001b[0m: \nSyntax error at or near 'М'(line 1, pos 13)\n\n== SQL ==\nrubricName=\"\"Металлопрокат и металлоизделия от компании \"\"Металлтрейд-Новосибирск\"\"\"\"\n-------------^^^\n"
     ]
    }
   ],
   "source": [
    "for rubric in tqdm(rubrics):\n",
    "    df_i = df_tx_grouped_filtered.where(f'rubricName=\"{rubric}\"')\n",
    "    df_i_norm = df_i.withColumn('new_tx',normalize_word_udf(col('tx')))\n",
    "    df_i_norm.write.mode('append').parquet(f'files/df_tx_grouped_normalize_{name}')"
   ]
  },
  {
   "cell_type": "code",
   "execution_count": 105,
   "id": "4d6294d2-7069-4fa7-b90f-50b317fe1667",
   "metadata": {
    "execution": {
     "iopub.execute_input": "2023-04-18T17:46:40.734175Z",
     "iopub.status.busy": "2023-04-18T17:46:40.734175Z",
     "iopub.status.idle": "2023-04-18T17:50:14.858456Z",
     "shell.execute_reply": "2023-04-18T17:50:14.857454Z",
     "shell.execute_reply.started": "2023-04-18T17:46:40.734175Z"
    },
    "tags": []
   },
   "outputs": [
    {
     "name": "stderr",
     "output_type": "stream",
     "text": [
      "100%|████████████████████████████████████████████████████████████████████████████████| 128/128 [03:34<00:00,  1.67s/it]\n"
     ]
    }
   ],
   "source": [
    "for rubric in tqdm(rubrics[1541:]):\n",
    "    df_i = df_tx_grouped_filtered.where(f'''rubricName='{rubric}' ''')\n",
    "    df_i_norm = df_i.withColumn('new_tx',normalize_word_udf(col('tx')))\n",
    "    df_i_norm.write.mode('append').parquet(f'files/df_tx_grouped_normalize_{name}')"
   ]
  },
  {
   "cell_type": "code",
   "execution_count": null,
   "id": "e8692ac4-3343-4c88-b46e-ce1f1bf3f24a",
   "metadata": {},
   "outputs": [],
   "source": []
  },
  {
   "cell_type": "code",
   "execution_count": null,
   "id": "580b106e-119d-4074-9924-3dffd4b0e0e2",
   "metadata": {},
   "outputs": [],
   "source": []
  },
  {
   "cell_type": "code",
   "execution_count": null,
   "id": "669ccd82-1f09-4516-8fe8-7f0c95929999",
   "metadata": {},
   "outputs": [],
   "source": []
  },
  {
   "cell_type": "code",
   "execution_count": 20,
   "id": "3c8ce0c5",
   "metadata": {},
   "outputs": [],
   "source": [
    "df = pd.read_excel(\"D:\\файлы_2гис_2023\\Калининград\\Мастер_таблица_2ГИС_Калининград_230412_2300.xlsx\").fillna(0)\n",
    "\n",
    "df = df[df['Рубрика'] != 'Итог']\n",
    "\n",
    "df[df.columns[1:]] = df[df.columns[1:]].astype('int64')\n",
    "\n",
    "df['Запросы, итого'] = df['Запросы 2020'] + df['Запросы 2021'] + df['Запросы 2022'] + df['Запросы 2023']\n",
    "\n",
    "df['Запросов на пользователя 2020'] = df['Запросы 2020'] / df['Пользователи 2020']\n",
    "df['Запросов на пользователя 2021'] = df['Запросы 2021'] / df['Пользователи 2021']\n",
    "df['Запросов на пользователя 2022'] = df['Запросы 2022'] / df['Пользователи 2022']\n",
    "df['Запросов на пользователя 2023'] = df['Запросы 2023'] / df['Пользователи 2023']\n",
    "df['Запросов на пользователя, итого'] = df['Запросы, итого'] / df['Пользователи, итого']\n",
    "\n",
    "df['Пользователи, %'] = df['Пользователи, итого'] / 524647 *100\n",
    "df['Запросы, %'] = df['Запросы, итого'] / df['Запросы, итого'].sum() *100\n",
    "df['№'] = df.index\n",
    "\n",
    "df = df[['№', 'Рубрика', 'Пользователи 2020', 'Пользователи 2021',\n",
    "       'Пользователи 2022', 'Пользователи 2023', 'Пользователи, итого',\n",
    "       'Пользователи, %', 'Запросы 2020', 'Запросы 2021', 'Запросы 2022',\n",
    "       'Запросы 2023', 'Запросы, итого', 'Запросы, %',\n",
    "       'Запросов на пользователя 2020', 'Запросов на пользователя 2021',\n",
    "       'Запросов на пользователя 2022', 'Запросов на пользователя 2023',\n",
    "       'Запросов на пользователя, итого']]\n",
    "\n",
    "d = {'2020': 178579,\n",
    " '2021': 184407,\n",
    " '2022': 213106,\n",
    " '2023': 203121,\n",
    " 'Итого': 524647}"
   ]
  },
  {
   "cell_type": "code",
   "execution_count": 21,
   "id": "766560ba",
   "metadata": {},
   "outputs": [
    {
     "name": "stdout",
     "output_type": "stream",
     "text": [
      "Рейтинги построены\n"
     ]
    },
    {
     "data": {
      "text/plain": [
       "50"
      ]
     },
     "execution_count": 21,
     "metadata": {},
     "output_type": "execute_result"
    }
   ],
   "source": [
    "x = count_ratings(df, 100)\n",
    "\n",
    "len(x.columns)"
   ]
  },
  {
   "cell_type": "code",
   "execution_count": 23,
   "id": "2d004f0d",
   "metadata": {
    "collapsed": true,
    "jupyter": {
     "outputs_hidden": true
    },
    "tags": []
   },
   "outputs": [
    {
     "name": "stdout",
     "output_type": "stream",
     "text": [
      "(1180, 69)\n",
      "Рейтинги построены\n",
      "Горизонтальная оптимизация\n"
     ]
    },
    {
     "name": "stderr",
     "output_type": "stream",
     "text": [
      "100%|██████████████████████████████████████████████████████████████████████████████| 1180/1180 [01:21<00:00, 14.47it/s]\n"
     ]
    },
    {
     "name": "stdout",
     "output_type": "stream",
     "text": [
      "Вертикальная оптимизация\n"
     ]
    },
    {
     "name": "stderr",
     "output_type": "stream",
     "text": [
      "100%|██████████████████████████████████████████████████████████████████████████████████| 10/10 [03:13<00:00, 19.34s/it]\n"
     ]
    },
    {
     "data": {
      "text/html": [
       "<div>\n",
       "<style scoped>\n",
       "    .dataframe tbody tr th:only-of-type {\n",
       "        vertical-align: middle;\n",
       "    }\n",
       "\n",
       "    .dataframe tbody tr th {\n",
       "        vertical-align: top;\n",
       "    }\n",
       "\n",
       "    .dataframe thead th {\n",
       "        text-align: right;\n",
       "    }\n",
       "</style>\n",
       "<table border=\"1\" class=\"dataframe\">\n",
       "  <thead>\n",
       "    <tr style=\"text-align: right;\">\n",
       "      <th></th>\n",
       "      <th>Оригинальный файл</th>\n",
       "      <th>Горизонтальная оптимизация</th>\n",
       "      <th>Вертикальная оптимизация</th>\n",
       "    </tr>\n",
       "    <tr>\n",
       "      <th>cnt_horizontal</th>\n",
       "      <th></th>\n",
       "      <th></th>\n",
       "      <th></th>\n",
       "    </tr>\n",
       "  </thead>\n",
       "  <tbody>\n",
       "    <tr>\n",
       "      <th>0.0</th>\n",
       "      <td>544</td>\n",
       "      <td>544</td>\n",
       "      <td>544</td>\n",
       "    </tr>\n",
       "    <tr>\n",
       "      <th>1.0</th>\n",
       "      <td>213</td>\n",
       "      <td>564</td>\n",
       "      <td>373</td>\n",
       "    </tr>\n",
       "    <tr>\n",
       "      <th>2.0</th>\n",
       "      <td>99</td>\n",
       "      <td>18</td>\n",
       "      <td>178</td>\n",
       "    </tr>\n",
       "    <tr>\n",
       "      <th>3.0</th>\n",
       "      <td>59</td>\n",
       "      <td>7</td>\n",
       "      <td>83</td>\n",
       "    </tr>\n",
       "    <tr>\n",
       "      <th>4.0</th>\n",
       "      <td>26</td>\n",
       "      <td>9</td>\n",
       "      <td>1</td>\n",
       "    </tr>\n",
       "    <tr>\n",
       "      <th>5.0</th>\n",
       "      <td>22</td>\n",
       "      <td>8</td>\n",
       "      <td>1</td>\n",
       "    </tr>\n",
       "    <tr>\n",
       "      <th>6.0</th>\n",
       "      <td>33</td>\n",
       "      <td>3</td>\n",
       "      <td>0</td>\n",
       "    </tr>\n",
       "    <tr>\n",
       "      <th>7.0</th>\n",
       "      <td>35</td>\n",
       "      <td>4</td>\n",
       "      <td>0</td>\n",
       "    </tr>\n",
       "    <tr>\n",
       "      <th>8.0</th>\n",
       "      <td>33</td>\n",
       "      <td>6</td>\n",
       "      <td>0</td>\n",
       "    </tr>\n",
       "    <tr>\n",
       "      <th>9.0</th>\n",
       "      <td>16</td>\n",
       "      <td>4</td>\n",
       "      <td>0</td>\n",
       "    </tr>\n",
       "    <tr>\n",
       "      <th>10.0</th>\n",
       "      <td>19</td>\n",
       "      <td>1</td>\n",
       "      <td>0</td>\n",
       "    </tr>\n",
       "    <tr>\n",
       "      <th>11.0</th>\n",
       "      <td>10</td>\n",
       "      <td>4</td>\n",
       "      <td>0</td>\n",
       "    </tr>\n",
       "    <tr>\n",
       "      <th>12.0</th>\n",
       "      <td>17</td>\n",
       "      <td>1</td>\n",
       "      <td>0</td>\n",
       "    </tr>\n",
       "    <tr>\n",
       "      <th>13.0</th>\n",
       "      <td>7</td>\n",
       "      <td>5</td>\n",
       "      <td>0</td>\n",
       "    </tr>\n",
       "    <tr>\n",
       "      <th>14.0</th>\n",
       "      <td>9</td>\n",
       "      <td>1</td>\n",
       "      <td>0</td>\n",
       "    </tr>\n",
       "    <tr>\n",
       "      <th>15.0</th>\n",
       "      <td>9</td>\n",
       "      <td>1</td>\n",
       "      <td>0</td>\n",
       "    </tr>\n",
       "    <tr>\n",
       "      <th>16.0</th>\n",
       "      <td>16</td>\n",
       "      <td>0</td>\n",
       "      <td>0</td>\n",
       "    </tr>\n",
       "    <tr>\n",
       "      <th>17.0</th>\n",
       "      <td>6</td>\n",
       "      <td>0</td>\n",
       "      <td>0</td>\n",
       "    </tr>\n",
       "    <tr>\n",
       "      <th>18.0</th>\n",
       "      <td>4</td>\n",
       "      <td>0</td>\n",
       "      <td>0</td>\n",
       "    </tr>\n",
       "    <tr>\n",
       "      <th>19.0</th>\n",
       "      <td>3</td>\n",
       "      <td>0</td>\n",
       "      <td>0</td>\n",
       "    </tr>\n",
       "  </tbody>\n",
       "</table>\n",
       "</div>"
      ],
      "text/plain": [
       "                Оригинальный файл  Горизонтальная оптимизация  \\\n",
       "cnt_horizontal                                                  \n",
       "0.0                           544                         544   \n",
       "1.0                           213                         564   \n",
       "2.0                            99                          18   \n",
       "3.0                            59                           7   \n",
       "4.0                            26                           9   \n",
       "5.0                            22                           8   \n",
       "6.0                            33                           3   \n",
       "7.0                            35                           4   \n",
       "8.0                            33                           6   \n",
       "9.0                            16                           4   \n",
       "10.0                           19                           1   \n",
       "11.0                           10                           4   \n",
       "12.0                           17                           1   \n",
       "13.0                            7                           5   \n",
       "14.0                            9                           1   \n",
       "15.0                            9                           1   \n",
       "16.0                           16                           0   \n",
       "17.0                            6                           0   \n",
       "18.0                            4                           0   \n",
       "19.0                            3                           0   \n",
       "\n",
       "                Вертикальная оптимизация  \n",
       "cnt_horizontal                            \n",
       "0.0                                  544  \n",
       "1.0                                  373  \n",
       "2.0                                  178  \n",
       "3.0                                   83  \n",
       "4.0                                    1  \n",
       "5.0                                    1  \n",
       "6.0                                    0  \n",
       "7.0                                    0  \n",
       "8.0                                    0  \n",
       "9.0                                    0  \n",
       "10.0                                   0  \n",
       "11.0                                   0  \n",
       "12.0                                   0  \n",
       "13.0                                   0  \n",
       "14.0                                   0  \n",
       "15.0                                   0  \n",
       "16.0                                   0  \n",
       "17.0                                   0  \n",
       "18.0                                   0  \n",
       "19.0                                   0  "
      ]
     },
     "metadata": {},
     "output_type": "display_data"
    }
   ],
   "source": [
    "new_df1 = optimize_df(df, index=60, cut_level=1300)"
   ]
  },
  {
   "cell_type": "code",
   "execution_count": 24,
   "id": "052853ea",
   "metadata": {},
   "outputs": [
    {
     "name": "stderr",
     "output_type": "stream",
     "text": [
      "C:\\Users\\Mamed\\AppData\\Local\\Temp\\ipykernel_8240\\982461796.py:411: FutureWarning: Dropping of nuisance columns in DataFrame reductions (with 'numeric_only=None') is deprecated; in a future version this will raise TypeError.  Select only valid columns before calling the reduction.\n",
      "  final_svod['Рейтинг суммарный'] = final_svod[optimized_svod.columns].sum(axis=1)\n",
      "C:\\Users\\Mamed\\AppData\\Local\\Temp\\ipykernel_8240\\982461796.py:412: FutureWarning: Dropping of nuisance columns in DataFrame reductions (with 'numeric_only=None') is deprecated; in a future version this will raise TypeError.  Select only valid columns before calling the reduction.\n",
      "  final_svod['Рейтинг средний'] = final_svod[optimized_svod.columns].mean(axis=1)\n"
     ]
    }
   ],
   "source": [
    "final_df = make_final(df, new_df1)"
   ]
  },
  {
   "cell_type": "code",
   "execution_count": 25,
   "id": "f1a498ec",
   "metadata": {},
   "outputs": [],
   "source": [
    "final_df.to_excel('Мастер_таблица_2ГИС_Калининград_230412_2330.xlsx', index=False)"
   ]
  },
  {
   "cell_type": "code",
   "execution_count": 26,
   "id": "d5d7a484",
   "metadata": {},
   "outputs": [],
   "source": [
    "df = pd.read_excel(\"Мастер_таблица_2ГИС_Калининград_230412_2330.xlsx\")"
   ]
  },
  {
   "cell_type": "code",
   "execution_count": 27,
   "id": "c959e4c0",
   "metadata": {},
   "outputs": [],
   "source": [
    "df['Запросов на пользователя,\\nитого'] = df['Запросов на пользователя, итого']\n",
    "#df['Рейтинг по пользователям,\\nитого'] = df['Рейтинг по пользователям, итого']\n",
    "#df['Рейтинг запросов\\nна пользователя 2020'] = df['Рейтинг запросов на пользователя 2020']\n",
    "#df['Рейтинг запросов\\nна пользователя 2021'] = df['Рейтинг запросов на пользователя 2021']\n",
    "#df['Рейтинг запросов\\nна пользователя 2022'] = df['Рейтинг запросов на пользователя 2022']\n",
    "#df['Рейтинг запросов\\nна пользователя 2023'] = df['Рейтинг запросов на пользователя 2023']\n",
    "#df['Рейтинг запросов\\nна пользователя, итого'] = df['Рейтинг запросов на пользователя, итого']\n",
    "\n",
    "df = df.drop(\n",
    "\n",
    "['Запросов на пользователя, итого'\n",
    "#,'Рейтинг по пользователям, итого'\n",
    "#,'Рейтинг запросов на пользователя 2020'\n",
    "#,'Рейтинг запросов на пользователя 2021'\n",
    "#,'Рейтинг запросов на пользователя 2022'\n",
    "#,'Рейтинг запросов на пользователя 2023'\n",
    "#,'Рейтинг запросов на пользователя, итого'\n",
    "]\n",
    ",axis=1\n",
    ")"
   ]
  },
  {
   "cell_type": "code",
   "execution_count": 28,
   "id": "139610b6",
   "metadata": {},
   "outputs": [],
   "source": [
    "df.to_excel(\"Мастер_таблица_2ГИС_Калининград_230412_2345.xlsx\", index=False)"
   ]
  },
  {
   "cell_type": "code",
   "execution_count": null,
   "id": "68948fcb",
   "metadata": {},
   "outputs": [],
   "source": [
    "make_ratings_word(\"Мастер_таблица_2ГИС_Калининград_230412_2345.xlsx\", header_color='#B76C00', row_color='#FFF4D9')"
   ]
  },
  {
   "cell_type": "code",
   "execution_count": null,
   "id": "97235f1b-ff4b-4fc9-a598-82b5a4c291a3",
   "metadata": {},
   "outputs": [],
   "source": []
  },
  {
   "cell_type": "code",
   "execution_count": null,
   "id": "0f0b075a-0f63-48d7-966b-6421a77a1b0e",
   "metadata": {},
   "outputs": [],
   "source": []
  },
  {
   "cell_type": "code",
   "execution_count": null,
   "id": "f6a1eeef-a3e2-4b85-9bf6-8e3a15827c39",
   "metadata": {},
   "outputs": [],
   "source": []
  },
  {
   "cell_type": "code",
   "execution_count": 41,
   "id": "49f2962f-53e1-4d49-be83-f1e499a99b52",
   "metadata": {
    "execution": {
     "iopub.execute_input": "2023-04-17T19:55:58.131507Z",
     "iopub.status.busy": "2023-04-17T19:55:58.131507Z",
     "iopub.status.idle": "2023-04-17T19:55:58.692840Z",
     "shell.execute_reply": "2023-04-17T19:55:58.691829Z",
     "shell.execute_reply.started": "2023-04-17T19:55:58.131507Z"
    },
    "tags": []
   },
   "outputs": [],
   "source": [
    "df = pd.read_excel('files/kaliningrad/requests_text_kaliningrad_230415_1101.xlsx')"
   ]
  },
  {
   "cell_type": "code",
   "execution_count": 51,
   "id": "8b582cb7-b0b4-4ec4-90e3-6b116adeff55",
   "metadata": {
    "execution": {
     "iopub.execute_input": "2023-04-17T20:03:00.297156Z",
     "iopub.status.busy": "2023-04-17T20:03:00.297156Z",
     "iopub.status.idle": "2023-04-17T20:03:00.344184Z",
     "shell.execute_reply": "2023-04-17T20:03:00.343159Z",
     "shell.execute_reply.started": "2023-04-17T20:03:00.297156Z"
    },
    "tags": []
   },
   "outputs": [],
   "source": [
    "add_links('Заготовка_2ГИС_Калининград_нулевая_рубрика_230417_2315.docx', '', df[df['Рейтинг рубрики'] == 0]['Поисковый запрос'].values, 'Калининград')"
   ]
  },
  {
   "cell_type": "code",
   "execution_count": null,
   "id": "de5467a7-6cec-4bc4-839d-71fb5404551a",
   "metadata": {},
   "outputs": [],
   "source": []
  },
  {
   "cell_type": "code",
   "execution_count": 49,
   "id": "4f3741f4-b05f-4dce-b008-d8e7d139c045",
   "metadata": {
    "execution": {
     "iopub.execute_input": "2023-04-17T20:01:26.221403Z",
     "iopub.status.busy": "2023-04-17T20:01:26.221403Z",
     "iopub.status.idle": "2023-04-17T20:01:26.719140Z",
     "shell.execute_reply": "2023-04-17T20:01:26.718083Z",
     "shell.execute_reply.started": "2023-04-17T20:01:26.221403Z"
    },
    "tags": []
   },
   "outputs": [],
   "source": [
    "df = pd.read_excel('files/astana/requests_text_astana_230409_1527.xlsx')"
   ]
  },
  {
   "cell_type": "code",
   "execution_count": 52,
   "id": "5ccb610e-ddf7-4719-a18a-7c962c49fee7",
   "metadata": {
    "execution": {
     "iopub.execute_input": "2023-04-17T20:03:08.360190Z",
     "iopub.status.busy": "2023-04-17T20:03:08.359152Z",
     "iopub.status.idle": "2023-04-17T20:03:08.410787Z",
     "shell.execute_reply": "2023-04-17T20:03:08.409886Z",
     "shell.execute_reply.started": "2023-04-17T20:03:08.360190Z"
    },
    "tags": []
   },
   "outputs": [],
   "source": [
    "add_links('Заготовка_2ГИС_Астана_нулевая_рубрика_230417_2315.docx', '', df[df['Рейтинг рубрики'] == 0]['Поисковый запрос'].values, 'Астана')"
   ]
  },
  {
   "cell_type": "code",
   "execution_count": null,
   "id": "9596e269-d2b5-4d19-9e96-fcfed3441694",
   "metadata": {},
   "outputs": [],
   "source": []
  },
  {
   "cell_type": "code",
   "execution_count": null,
   "id": "d96a4cf5-878c-4a4c-b134-eb4c55af6372",
   "metadata": {},
   "outputs": [],
   "source": []
  },
  {
   "cell_type": "code",
   "execution_count": null,
   "id": "9f780c09-b1c5-48aa-b3cf-27a458eb85df",
   "metadata": {},
   "outputs": [],
   "source": []
  }
 ],
 "metadata": {
  "kernelspec": {
   "display_name": "Python 3 (ipykernel)",
   "language": "python",
   "name": "python3"
  },
  "language_info": {
   "codemirror_mode": {
    "name": "ipython",
    "version": 3
   },
   "file_extension": ".py",
   "mimetype": "text/x-python",
   "name": "python",
   "nbconvert_exporter": "python",
   "pygments_lexer": "ipython3",
   "version": "3.9.12"
  }
 },
 "nbformat": 4,
 "nbformat_minor": 5
}
