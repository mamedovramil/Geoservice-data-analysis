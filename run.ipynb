{
 "cells": [
  {
   "cell_type": "code",
   "execution_count": 6,
   "id": "9c250040-1d8c-42b0-9fcc-083020e9b852",
   "metadata": {
    "execution": {
     "iopub.execute_input": "2023-05-27T07:58:58.166938Z",
     "iopub.status.busy": "2023-05-27T07:58:58.165938Z",
     "iopub.status.idle": "2023-05-27T07:59:13.304942Z",
     "shell.execute_reply": "2023-05-27T07:59:13.304042Z",
     "shell.execute_reply.started": "2023-05-27T07:58:58.166938Z"
    },
    "tags": []
   },
   "outputs": [
    {
     "name": "stdout",
     "output_type": "stream",
     "text": [
      "Ready: 2023-05-27 10:59:13\n"
     ]
    }
   ],
   "source": [
    "%run functions.ipynb"
   ]
  },
  {
   "cell_type": "code",
   "execution_count": null,
   "id": "64024632-d3f0-4cb2-a438-d6ef81b0bd63",
   "metadata": {},
   "outputs": [],
   "source": []
  },
  {
   "cell_type": "code",
   "execution_count": null,
   "id": "63d6dbfa-c934-4e1e-a5e9-20748c58bab1",
   "metadata": {},
   "outputs": [],
   "source": []
  }
 ],
 "metadata": {
  "kernelspec": {
   "display_name": "Python 3 (ipykernel)",
   "language": "python",
   "name": "python3"
  },
  "language_info": {
   "codemirror_mode": {
    "name": "ipython",
    "version": 3
   },
   "file_extension": ".py",
   "mimetype": "text/x-python",
   "name": "python",
   "nbconvert_exporter": "python",
   "pygments_lexer": "ipython3",
   "version": "3.9.12"
  },
  "toc-autonumbering": false
 },
 "nbformat": 4,
 "nbformat_minor": 5
}
