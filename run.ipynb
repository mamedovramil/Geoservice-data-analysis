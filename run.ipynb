{
 "cells": [
  {
   "cell_type": "code",
   "execution_count": 1,
   "id": "696175c9-278e-4ec3-96ae-d819f44cf808",
   "metadata": {
    "execution": {
     "iopub.execute_input": "2023-04-15T16:51:11.969127Z",
     "iopub.status.busy": "2023-04-15T16:51:11.969127Z",
     "iopub.status.idle": "2023-04-15T16:51:19.775282Z",
     "shell.execute_reply": "2023-04-15T16:51:19.775282Z",
     "shell.execute_reply.started": "2023-04-15T16:51:11.969127Z"
    },
    "tags": []
   },
   "outputs": [
    {
     "name": "stdout",
     "output_type": "stream",
     "text": [
      "Ready: 2023-04-15 19:51:19\n"
     ]
    }
   ],
   "source": [
    "%run functions.ipynb"
   ]
  },
  {
   "cell_type": "code",
   "execution_count": 33,
   "id": "311e121b-fb3a-417e-b67f-11dc56e19b77",
   "metadata": {
    "execution": {
     "iopub.execute_input": "2023-04-15T18:58:09.557558Z",
     "iopub.status.busy": "2023-04-15T18:58:09.556493Z",
     "iopub.status.idle": "2023-04-15T18:58:09.565204Z",
     "shell.execute_reply": "2023-04-15T18:58:09.565204Z",
     "shell.execute_reply.started": "2023-04-15T18:58:09.557558Z"
    },
    "tags": []
   },
   "outputs": [],
   "source": []
  },
  {
   "cell_type": "code",
   "execution_count": 31,
   "id": "b700eb54-6af8-418e-8991-6e12232888a8",
   "metadata": {
    "execution": {
     "iopub.execute_input": "2023-04-15T18:01:15.299493Z",
     "iopub.status.busy": "2023-04-15T18:01:15.298498Z",
     "iopub.status.idle": "2023-04-15T18:01:15.342642Z",
     "shell.execute_reply": "2023-04-15T18:01:15.342642Z",
     "shell.execute_reply.started": "2023-04-15T18:01:15.299493Z"
    },
    "tags": []
   },
   "outputs": [],
   "source": []
  },
  {
   "cell_type": "code",
   "execution_count": null,
   "id": "eb717a99-4681-4821-b795-0e886cf62278",
   "metadata": {},
   "outputs": [],
   "source": []
  },
  {
   "cell_type": "code",
   "execution_count": 19,
   "id": "9b31e9a6-fda9-4813-b3f4-6fee0cce93fe",
   "metadata": {
    "execution": {
     "iopub.execute_input": "2023-04-15T17:56:12.648224Z",
     "iopub.status.busy": "2023-04-15T17:56:12.648224Z",
     "iopub.status.idle": "2023-04-15T17:56:14.899869Z",
     "shell.execute_reply": "2023-04-15T17:56:14.899869Z",
     "shell.execute_reply.started": "2023-04-15T17:56:12.648224Z"
    },
    "tags": []
   },
   "outputs": [],
   "source": [
    "file_name = 'files/kaliningrad/requests_text_kaliningrad_230415_1101.xlsx'\n",
    "df = pd.read_excel(file_name)\n",
    "df = df[df['Рейтинг рубрики'] > 0 ].iloc[:15]\n",
    "rubric = df[df['Рейтинг рубрики'] == 1]['Рубрика'].iloc[0]\n",
    "city = 'Калининград'\n",
    "dups = []\n",
    "\n",
    "df_text = pd.read_excel(file_name, usecols=['Рубрика', 'Рейтинг рубрики', 'Поисковый запрос', 'tx_1'])\n",
    "df_text = df_text[df_text['tx_1'].notna()]\n",
    "tx_1 = df_text[df_text['Поисковый запрос'].apply(lambda x: x not in dups)][['tx_1', 'Рейтинг рубрики']]\n",
    "\n",
    "words = [i for i in tx_1[tx_1['Рейтинг рубрики'] == 1]['tx_1'].values]"
   ]
  },
  {
   "cell_type": "code",
   "execution_count": null,
   "id": "acce64f4-0196-4c03-b3a6-f1264acfcbe2",
   "metadata": {},
   "outputs": [],
   "source": []
  },
  {
   "cell_type": "code",
   "execution_count": 36,
   "id": "1406e044-2a06-4435-883e-51c60b824d0c",
   "metadata": {
    "execution": {
     "iopub.execute_input": "2023-04-15T19:02:51.535764Z",
     "iopub.status.busy": "2023-04-15T19:02:51.535764Z",
     "iopub.status.idle": "2023-04-15T19:02:51.566428Z",
     "shell.execute_reply": "2023-04-15T19:02:51.565373Z",
     "shell.execute_reply.started": "2023-04-15T19:02:51.535764Z"
    },
    "tags": []
   },
   "outputs": [],
   "source": [
    "def add_image_request(docx_name, image_name):\n",
    "    try:\n",
    "        doc = docx.Document(docx_name)\n",
    "    except:\n",
    "        doc = docx.Document('files/report.docx')\n",
    "        doc.save(docx_name)\n",
    "    image_to_add = doc.add_picture(image_name)\n",
    "    image_to_add.width = Cm(17.5)\n",
    "    image_to_add.height = Cm(10.8)\n",
    "    doc.save(docx_name)\n",
    "\n",
    "def add_links(docx_name, rubric, words, city):\n",
    "    try:\n",
    "        doc = docx.Document(docx_name)\n",
    "    except:\n",
    "        doc = docx.Document('files/report.docx')\n",
    "        doc.save(docx_name)\n",
    "    p = doc.add_paragraph(rubric + ': ')\n",
    "    for word in words:\n",
    "        text = word\n",
    "        query = word.replace(' ', '+')\n",
    "        search = f'https://www.google.ru/search?q={query}+{city}'\n",
    "        add_hyperlink(p, text, search)\n",
    "        #doc.add_paragraph(', ')\n",
    "        if word != words[-1]:\n",
    "            p.add_run(', ')\n",
    "    doc.save(docx_name)\n",
    "\n",
    "def add_hyperlink(paragraph, text, url):\n",
    "    # This gets access to the document.xml.rels file and gets a new relation id value\n",
    "    part = paragraph.part\n",
    "    r_id = part.relate_to(url, docx.opc.constants.RELATIONSHIP_TYPE.HYPERLINK, is_external=True)\n",
    "\n",
    "    # Create the w:hyperlink tag and add needed values\n",
    "    hyperlink = docx.oxml.shared.OxmlElement('w:hyperlink')\n",
    "    hyperlink.set(docx.oxml.shared.qn('r:id'), r_id, )\n",
    "\n",
    "    # Create a w:r element and a new w:rPr element\n",
    "    new_run = docx.oxml.shared.OxmlElement('w:r')\n",
    "    rPr = docx.oxml.shared.OxmlElement('w:rPr')\n",
    "\n",
    "    # Join all the xml elements together add add the required text to the w:r element\n",
    "    new_run.append(rPr)\n",
    "    new_run.text = text\n",
    "    hyperlink.append(new_run)\n",
    "\n",
    "    # Create a new Run object and add the hyperlink into it\n",
    "    r = paragraph.add_run()\n",
    "    r._r.append (hyperlink)\n",
    "\n",
    "    # A workaround for the lack of a hyperlink style (doesn't go purple after using the link)\n",
    "    # Delete this if using a template that has the hyperlink style in it\n",
    "    #r.font.color.theme_color = MSO_THEME_COLOR_INDEX.HYPERLINK\n",
    "    #r.font.underline = True\n",
    "\n",
    "    return hyperlink\n",
    "\n",
    "def make_images(file_name, city, header_color, row_color):\n",
    "    dt_now = str(datetime.datetime.now())[2:-9].replace('-','').replace(':','').replace(' ','_')\n",
    "    df = pd.read_excel(file_name).drop(['tx_1','tx_2','tx_3','tx_4','tx_5'], axis=1)\n",
    "    word_file = f'{file_name[:-5]}_report_{dt_now}.docx'\n",
    "    print(word_file)\n",
    "    \n",
    "    df.columns = ['Рубрика', 'Поисковый запрос', 'Количество\\nзапросов 2020',\n",
    "           'Количество\\nзапросов 2021', 'Количество\\nзапросов 2022',\n",
    "           'Количество\\nзапросов 2023', 'Количество\\nзапросов, итого',\n",
    "           'Рейтинг\\nпо запросам, итого', 'Рейтинг рубрики']\n",
    "\n",
    "    for i in df.columns[2:-2]:\n",
    "        df[i] = df[i].apply(make_sep)\n",
    "        \n",
    "    dups = df['Поисковый запрос'][(df['Поисковый запрос'].duplicated())&(df['Рейтинг рубрики'] > 0)].values \n",
    "    df_text = pd.read_excel(file_name, usecols=['Рубрика', 'Рейтинг рубрики', 'Поисковый запрос', 'tx_1'])\n",
    "    df_text = df_text[df_text['tx_1'].notna()]\n",
    "    tx_1 = df_text[df_text['Поисковый запрос'].apply(lambda x: x not in dups)][['tx_1', 'Рейтинг рубрики']]\n",
    "    \n",
    "    for i in tqdm(df['Рейтинг рубрики'].unique()[1:]):  \n",
    "        dfx = df[df['Рейтинг рубрики'] == i].drop('Рубрика', axis=1).iloc[:20]\n",
    "        rubric = df[df['Рейтинг рубрики'] == i]['Рубрика'].iloc[0]\n",
    "        col_name = f'Поисковые запросы по рубрике\\n{i:02}. {rubric}'\n",
    "        img_file_name = file_name.replace('files/','')[:-5]\n",
    "        img_file_name_final = f'pictures/{img_file_name}_{i:02}.png'\n",
    "        dfx = dfx.rename({'Поисковый запрос':col_name}, axis=1).drop(['Рейтинг рубрики', 'Рейтинг\\nпо запросам, итого'], axis=1)\n",
    "        words = tx_1[tx_1['Рейтинг рубрики'] == i]['tx_1'].values\n",
    "        \n",
    "        render_mpl_table(dfx, img_file_name_final, font_size=19, header_color=header_color, row_colors=[row_color, 'w'], dups=dups)\n",
    "        add_links(word_file, rubric, words, city)\n",
    "        add_image_request(word_file, img_file_name_final)"
   ]
  },
  {
   "cell_type": "code",
   "execution_count": null,
   "id": "b2d33051-c459-42b7-af55-81726e43950e",
   "metadata": {},
   "outputs": [],
   "source": [
    "files/kaliningrad/requests_text_kaliningrad_230415_1101_report_230415_2203.docx"
   ]
  },
  {
   "cell_type": "code",
   "execution_count": null,
   "id": "a0059c12-d103-4038-a598-518d80b9d390",
   "metadata": {
    "execution": {
     "iopub.execute_input": "2023-04-15T19:03:08.991692Z",
     "iopub.status.busy": "2023-04-15T19:03:08.991692Z",
     "iopub.status.idle": "2023-04-15T19:08:27.426984Z",
     "shell.execute_reply": "2023-04-15T19:08:27.426081Z",
     "shell.execute_reply.started": "2023-04-15T19:03:08.991692Z"
    },
    "tags": []
   },
   "outputs": [],
   "source": [
    "make_images('files/kaliningrad/requests_text_kaliningrad_230415_1101.xlsx', \"Калининград\", '#B76C00', '#FFF4D9')"
   ]
  },
  {
   "cell_type": "code",
   "execution_count": null,
   "id": "e33c26ea-3904-47f6-92c9-a68933373bc8",
   "metadata": {},
   "outputs": [],
   "source": []
  }
 ],
 "metadata": {
  "kernelspec": {
   "display_name": "Python 3 (ipykernel)",
   "language": "python",
   "name": "python3"
  },
  "language_info": {
   "codemirror_mode": {
    "name": "ipython",
    "version": 3
   },
   "file_extension": ".py",
   "mimetype": "text/x-python",
   "name": "python",
   "nbconvert_exporter": "python",
   "pygments_lexer": "ipython3",
   "version": "3.9.12"
  }
 },
 "nbformat": 4,
 "nbformat_minor": 5
}
