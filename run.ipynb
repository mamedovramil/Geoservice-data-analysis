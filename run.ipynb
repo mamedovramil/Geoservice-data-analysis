{
 "cells": [
  {
   "cell_type": "code",
   "execution_count": 66,
   "id": "c7200ded-0a2f-4bd5-9e34-b805b8c435c4",
   "metadata": {
    "execution": {
     "iopub.execute_input": "2023-06-08T12:28:42.654478Z",
     "iopub.status.busy": "2023-06-08T12:28:42.654478Z",
     "iopub.status.idle": "2023-06-08T12:28:43.651744Z",
     "shell.execute_reply": "2023-06-08T12:28:43.649286Z",
     "shell.execute_reply.started": "2023-06-08T12:28:42.654478Z"
    }
   },
   "outputs": [
    {
     "name": "stdout",
     "output_type": "stream",
     "text": [
      "Ready: 2023-06-08 15:28:43\n"
     ]
    }
   ],
   "source": [
    "%run functions.ipynb"
   ]
  },
  {
   "cell_type": "code",
   "execution_count": 102,
   "id": "7d88c66a-1185-410d-9dc5-afe4597429bd",
   "metadata": {
    "execution": {
     "iopub.execute_input": "2023-06-08T13:02:26.479169Z",
     "iopub.status.busy": "2023-06-08T13:02:26.479169Z",
     "iopub.status.idle": "2023-06-08T13:02:29.475727Z",
     "shell.execute_reply": "2023-06-08T13:02:29.474702Z",
     "shell.execute_reply.started": "2023-06-08T13:02:26.479169Z"
    },
    "tags": []
   },
   "outputs": [],
   "source": []
  },
  {
   "cell_type": "code",
   "execution_count": 98,
   "id": "f1d62159-9f70-442a-b721-934e5e8737d4",
   "metadata": {
    "execution": {
     "iopub.execute_input": "2023-06-08T12:55:32.468137Z",
     "iopub.status.busy": "2023-06-08T12:55:32.468137Z",
     "iopub.status.idle": "2023-06-08T12:55:32.471165Z",
     "shell.execute_reply": "2023-06-08T12:55:32.471165Z",
     "shell.execute_reply.started": "2023-06-08T12:55:32.468137Z"
    },
    "tags": []
   },
   "outputs": [],
   "source": []
  }
 ],
 "metadata": {
  "kernelspec": {
   "display_name": "Python 3 (ipykernel)",
   "language": "python",
   "name": "python3"
  },
  "language_info": {
   "codemirror_mode": {
    "name": "ipython",
    "version": 3
   },
   "file_extension": ".py",
   "mimetype": "text/x-python",
   "name": "python",
   "nbconvert_exporter": "python",
   "pygments_lexer": "ipython3",
   "version": "3.9.12"
  },
  "toc-autonumbering": false
 },
 "nbformat": 4,
 "nbformat_minor": 5
}
