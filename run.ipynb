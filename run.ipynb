{
 "cells": [
  {
   "cell_type": "code",
   "execution_count": 140,
   "id": "696175c9-278e-4ec3-96ae-d819f44cf808",
   "metadata": {
    "execution": {
     "iopub.execute_input": "2023-04-15T00:07:15.468911Z",
     "iopub.status.busy": "2023-04-15T00:07:15.468911Z",
     "iopub.status.idle": "2023-04-15T00:07:16.017976Z",
     "shell.execute_reply": "2023-04-15T00:07:16.016508Z",
     "shell.execute_reply.started": "2023-04-15T00:07:15.468911Z"
    },
    "tags": []
   },
   "outputs": [
    {
     "name": "stdout",
     "output_type": "stream",
     "text": [
      "Ready: 2023-04-15 03:07:16\n"
     ]
    }
   ],
   "source": [
    "%run functions.ipynb"
   ]
  },
  {
   "cell_type": "code",
   "execution_count": 138,
   "id": "60126d84-274f-464b-9542-3d0cdce5ae99",
   "metadata": {
    "execution": {
     "iopub.execute_input": "2023-04-15T00:06:55.380508Z",
     "iopub.status.busy": "2023-04-15T00:06:55.379482Z",
     "iopub.status.idle": "2023-04-15T00:06:55.386485Z",
     "shell.execute_reply": "2023-04-15T00:06:55.385512Z",
     "shell.execute_reply.started": "2023-04-15T00:06:55.380508Z"
    },
    "tags": []
   },
   "outputs": [],
   "source": [
    "file = r\"C:\\Users\\Mamed\\YandexDisk\\_Documents\\Проекты\\2ГИС 2023\\Backups\\Мастер_таблица_2ГИС_Москва_230315_1745.xlsx\"\n",
    "cnt_graphics = 50\n",
    "cnt_shars = 10\n",
    "step = 1\n",
    "city = 'moscow'"
   ]
  },
  {
   "cell_type": "code",
   "execution_count": 81,
   "id": "eeab08f8-7eaf-434b-be18-a302eb4f7e26",
   "metadata": {
    "execution": {
     "iopub.execute_input": "2023-04-14T23:51:31.809759Z",
     "iopub.status.busy": "2023-04-14T23:51:31.809759Z",
     "iopub.status.idle": "2023-04-14T23:51:32.939993Z",
     "shell.execute_reply": "2023-04-14T23:51:32.939993Z",
     "shell.execute_reply.started": "2023-04-14T23:51:31.809759Z"
    },
    "tags": []
   },
   "outputs": [],
   "source": [
    "df = (pd.read_excel(file)[['Рубрика','Запросы 2022', 'Запросы 2023', 'Запросы, итого']]\n",
    "      .iloc[range(1, 16, 1)]\n",
    "      .set_index('Рубрика')\n",
    "      .fillna(0)\n",
    "      .sort_values(['Доля рынка, %', 'Рост/Падение, %'], ascending=[False,False])\n",
    "     )\n",
    "\n",
    "df['Запросы, итого'] = (df['Запросы, итого'] - min(df['Запросы, итого'])) / (max(df['Запросы, итого']) - min(df['Запросы, итого']))*300\n",
    "requests_total = pd.read_excel(file)['Запросы 2023'].sum()\n",
    "df['Рост/Падение, %'] = df['Запросы 2023'] / df['Запросы 2022']\n",
    "df['Доля рынка, %'] = df['Запросы 2023'] / requests_total\n",
    "x = (df['Доля рынка, %'])\n",
    "y = (df['Рост/Падение, %'])\n",
    "sizes = (df['Запросы, итого']/1000)"
   ]
  },
  {
   "cell_type": "code",
   "execution_count": 133,
   "id": "67bcd44b-fe76-40db-9694-b3587ef3d191",
   "metadata": {
    "execution": {
     "iopub.execute_input": "2023-04-15T00:05:01.192443Z",
     "iopub.status.busy": "2023-04-15T00:05:01.192443Z",
     "iopub.status.idle": "2023-04-15T00:05:01.221557Z",
     "shell.execute_reply": "2023-04-15T00:05:01.218578Z",
     "shell.execute_reply.started": "2023-04-15T00:05:01.192443Z"
    },
    "tags": []
   },
   "outputs": [],
   "source": [
    "txt = ''\n",
    "for cat in ['Звёзды:','Коровы:','Дети:','Собаки:']:\n",
    "    txt +=  cat + ' ' + ', '.join([word[::-1].replace('/', 'и', 1)[::-1].replace('/', ',').replace(' ,', ',').lower() for word in df[df['group'] == cat].index]) + \"\\n\"\n",
    "\n",
    "txt = txt[::-1].replace('\\n',':', 1)[::-1]"
   ]
  },
  {
   "cell_type": "code",
   "execution_count": 134,
   "id": "8bd802fe-e3e7-4904-89d4-f1f557394c55",
   "metadata": {
    "execution": {
     "iopub.execute_input": "2023-04-15T00:05:02.518908Z",
     "iopub.status.busy": "2023-04-15T00:05:02.517911Z",
     "iopub.status.idle": "2023-04-15T00:05:02.539513Z",
     "shell.execute_reply": "2023-04-15T00:05:02.538515Z",
     "shell.execute_reply.started": "2023-04-15T00:05:02.518908Z"
    },
    "tags": []
   },
   "outputs": [
    {
     "data": {
      "text/plain": [
       "'Звёзды: кафе, гостиницы\\nКоровы: быстрое питание, торгово-развлекательные центры и моллы, супермаркеты\\nДети: бары, аэропорты\\nСобаки: бизнес-центры, торговые центры и универсальные магазины, кофейни, аптеки, банкоматы, парикмахерские, железнодорожные вокзалы, банки:'"
      ]
     },
     "execution_count": 134,
     "metadata": {},
     "output_type": "execute_result"
    }
   ],
   "source": [
    "txt"
   ]
  },
  {
   "cell_type": "code",
   "execution_count": null,
   "id": "3bb5db26-5297-40bf-9708-ffd1a57b5f2f",
   "metadata": {},
   "outputs": [],
   "source": []
  },
  {
   "cell_type": "code",
   "execution_count": null,
   "id": "a2abc517-d222-47ae-9fdf-776d4d630834",
   "metadata": {},
   "outputs": [],
   "source": []
  },
  {
   "cell_type": "code",
   "execution_count": 144,
   "id": "0e475ea3-c794-49e1-a8ca-6902858762f1",
   "metadata": {
    "execution": {
     "iopub.execute_input": "2023-04-15T00:12:49.485668Z",
     "iopub.status.busy": "2023-04-15T00:12:49.485165Z",
     "iopub.status.idle": "2023-04-15T00:12:49.595420Z",
     "shell.execute_reply": "2023-04-15T00:12:49.580533Z",
     "shell.execute_reply.started": "2023-04-15T00:12:49.485668Z"
    },
    "tags": []
   },
   "outputs": [],
   "source": [
    "def plot_matrix(file, city, cnt_graphics=50, cnt_shars=10, step=1):\n",
    "    shar_nums = list(range(1,16))*500\n",
    "    start_range = 1\n",
    "    stop_range = cnt_shars*step+1\n",
    "    time = str(datetime.datetime.now())[2:16].replace('-','').replace(' ','_').replace(':','')\n",
    "    \n",
    "    for graphic_num in tqdm(range(cnt_graphics)):\n",
    "        shar_num = shar_nums.pop()\n",
    "\n",
    "        df = pd.read_excel(file)[['Рубрика','Запросы 2022', 'Запросы 2023', 'Запросы, итого']].iloc[range(start_range, stop_range, step)].set_index('Рубрика').fillna(0)\n",
    "        start_range = stop_range\n",
    "        stop_range = (graphic_num+2)*cnt_shars*step+1\n",
    "\n",
    "        df['Запросы, итого'] = (df['Запросы, итого'] - min(df['Запросы, итого'])) / (max(df['Запросы, итого']) - min(df['Запросы, итого']))*300\n",
    "        requests_total = pd.read_excel(file)['Запросы 2023'].sum()\n",
    "        df['Рост/Падение, %'] = df['Запросы 2023'] / df['Запросы 2022']\n",
    "        df['Доля рынка, %'] = df['Запросы 2023'] / requests_total\n",
    "        x = (df['Доля рынка, %'])\n",
    "        y = (df['Рост/Падение, %'])\n",
    "        sizes = (df['Запросы, итого']/1000)\n",
    "        x_avg = (x.min()+x.max())/2\n",
    "        y_avg = (y.min()+y.max())/2\n",
    "        xi, yi = df['Доля рынка, %'], df['Рост/Падение, %']\n",
    "        df.loc[(xi > x_avg) & (yi > y_avg), 'group'] = 'Звёзды:'\n",
    "        df.loc[(xi > x_avg)  & (yi <= y_avg), 'group'] = 'Коровы:'\n",
    "        df.loc[(xi <= x_avg)  & (yi > y_avg), 'group'] = 'Дети:'\n",
    "        df.loc[(xi <= x_avg)  & (yi <= y_avg), 'group'] = 'Собаки:'\n",
    "\n",
    "        plt.rcParams['figure.figsize'] = 6.89*4, 4.25*4\n",
    "        plt.rcParams['figure.dpi'] = 2**8\n",
    "        plt.rcParams['font.size'] = '18'\n",
    "        fpath = Path(mpl.get_data_path(), r\"C:\\Users\\Mamed\\Downloads\\arialnarrow.ttf\")\n",
    "        fig, ax = plt.subplots()\n",
    "        ax.scatter(x, y, sizes, c='#C0504D', alpha=0.7)\n",
    "\n",
    "        n = 0.02\n",
    "        m = 0.02\n",
    "        ax.set_ylim(ax.get_ylim()[0] * (1 - n), ax.get_ylim()[1] * (1 + n))\n",
    "        ax.set_xlim(ax.get_xlim()[0] * (1 - m), ax.get_xlim()[1] * (1 + m))\n",
    "        ax.spines['top'].set_visible(False)\n",
    "        ax.spines['bottom'].set_visible(False)\n",
    "        ax.spines['left'].set_visible(False)\n",
    "        ax.spines['right'].set_visible(False)\n",
    "        ax.set_xticklabels('')\n",
    "        ax.set_yticklabels('')\n",
    "        plt.tick_params(bottom = False, left=False)\n",
    "\n",
    "        for xi, yi, rubric, size in zip(x, y, x.index, sizes):\n",
    "            rs = rubric.split(' ')\n",
    "            if len(rs) > 1:\n",
    "                rsl = len(rs) // 2\n",
    "                rubric = ' '.join(rs[:rsl] + ['\\n'] + rs[rsl:])\n",
    "\n",
    "            shar_path = [r\"C:\\Users\\Mamed\\YandexDisk\\_Documents\\Проекты\\2ГИС 2023\\Лого\\Шар_{:02}.png\".format(shar_num)]\n",
    "            shar_img = OffsetImage(plt.imread(shar_path[0], format=\"png\"), zoom=size)\n",
    "            ab = AnnotationBbox(shar_img, (xi, yi), frameon=False)\n",
    "            ax.add_artist(ab)\n",
    "            plt.annotate(rubric, (xi, yi), ha='center', va='center', font=fpath, color='#404040')\n",
    "\n",
    "        ax.hlines((y.min()+y.max())/2, x.min(), x.max(), colors='gray', linewidth=1)\n",
    "        ax.vlines((x.min()+x.max())/2, y.min(), y.max(), colors='gray', linewidth=1)\n",
    "        \n",
    "        im = plt.imread(r\"C:\\Users\\Mamed\\YandexDisk\\_Documents\\Проекты\\2ГИС 2023\\Лого\\лого_шт_232_354_gray.png\")\n",
    "        newax = fig.add_axes([0.1, 0.8, 0.1, 0.1], zorder=1, alpha=0.5)\n",
    "        newax.imshow(im)\n",
    "        newax.axis('off')\n",
    "        im = plt.imread(r\"C:\\Users\\Mamed\\YandexDisk\\_Documents\\Проекты\\2ГИС 2023\\Лого\\лого_2гис_232_354_gray.png\")\n",
    "        newax = fig.add_axes([0.9, 0.1, 0.1, 0.1], zorder=1, alpha=0.5)\n",
    "        newax.imshow(im)\n",
    "        newax.axis('off')\n",
    "        \n",
    "        txt = ''\n",
    "        for cat in ['Звёзды:','Коровы:','Дети:','Собаки:']:\n",
    "            txt +=  cat + ' ' + ', '.join([word[::-1].replace('/', 'и', 1)[::-1].replace('/', ',').replace(' ,', ',').lower() for word in df[df['group'] == cat].index]) + \"\\n\"\n",
    "        txt = txt[::-1].replace('\\n',':', 1)[::-1]\n",
    "\n",
    "        fig.savefig(f'pictures/{city}_shar_{shar_num}.png', bbox_inches='tight', transparent=True)\n",
    "        add_image(f'files/{city}_shars_{time}.docx', f'pictures/{city}_shar_{shar_num}.png', word=txt)\n",
    "        #plt.show()"
   ]
  },
  {
   "cell_type": "code",
   "execution_count": 145,
   "id": "2ff2e085-24cd-4dc1-bd89-cfaa08dfadcb",
   "metadata": {
    "execution": {
     "iopub.execute_input": "2023-04-15T00:12:54.188479Z",
     "iopub.status.busy": "2023-04-15T00:12:54.187465Z",
     "iopub.status.idle": "2023-04-15T00:12:54.211353Z",
     "shell.execute_reply": "2023-04-15T00:12:54.209799Z",
     "shell.execute_reply.started": "2023-04-15T00:12:54.188479Z"
    },
    "tags": []
   },
   "outputs": [],
   "source": [
    "file = r\"C:\\Users\\Mamed\\YandexDisk\\_Documents\\Проекты\\2ГИС 2023\\Backups\\Мастер_таблица_2ГИС_Москва_230315_1745.xlsx\""
   ]
  },
  {
   "cell_type": "code",
   "execution_count": null,
   "id": "10f4abec-3084-44f9-aaee-83d086cd65e5",
   "metadata": {
    "execution": {
     "iopub.execute_input": "2023-04-15T00:12:59.497612Z",
     "iopub.status.busy": "2023-04-15T00:12:59.496612Z"
    },
    "tags": []
   },
   "outputs": [
    {
     "name": "stderr",
     "output_type": "stream",
     "text": [
      "  1%|▊                                                                                 | 1/100 [00:15<24:57, 15.12s/it]"
     ]
    }
   ],
   "source": [
    "plot_matrix(file, city, cnt_graphics=100, cnt_shars=12, step=1)"
   ]
  },
  {
   "cell_type": "code",
   "execution_count": null,
   "id": "0157965b-1c0a-4ae3-a62a-6874165f1ceb",
   "metadata": {
    "collapsed": true,
    "execution": {
     "iopub.execute_input": "2023-04-14T22:24:54.814887Z",
     "iopub.status.busy": "2023-04-14T22:24:54.814887Z"
    },
    "jupyter": {
     "outputs_hidden": true
    },
    "tags": []
   },
   "outputs": [
    {
     "name": "stderr",
     "output_type": "stream",
     "text": [
      " 17%|█████████████▊                                                                   | 17/100 [02:40<15:30, 11.20s/it]C:\\Users\\Mamed\\Anaconda\\lib\\site-packages\\matplotlib\\axes\\_base.py:2475: UserWarning: Warning: converting a masked element to nan.\n",
      "  xys = np.asarray(xys)\n",
      " 20%|████████████████▏                                                                | 20/100 [03:15<15:58, 11.98s/it]C:\\Users\\Mamed\\AppData\\Local\\Temp\\ipykernel_15512\\1506920706.py:26: RuntimeWarning: More than 20 figures have been opened. Figures created through the pyplot interface (`matplotlib.pyplot.figure`) are retained until explicitly closed and may consume too much memory. (To control this warning, see the rcParam `figure.max_open_warning`).\n",
      "  fig, ax = plt.subplots()\n",
      " 28%|██████████████████████▋                                                          | 28/100 [04:58<15:15, 12.72s/it]C:\\Users\\Mamed\\Anaconda\\lib\\site-packages\\matplotlib\\axes\\_base.py:2475: UserWarning: Warning: converting a masked element to nan.\n",
      "  xys = np.asarray(xys)\n",
      " 38%|██████████████████████████████▊                                                  | 38/100 [07:30<14:57, 14.48s/it]C:\\Users\\Mamed\\Anaconda\\lib\\site-packages\\matplotlib\\axes\\_base.py:2475: UserWarning: Warning: converting a masked element to nan.\n",
      "  xys = np.asarray(xys)\n",
      " 40%|████████████████████████████████▍                                                | 40/100 [08:00<14:47, 14.79s/it]C:\\Users\\Mamed\\Anaconda\\lib\\site-packages\\matplotlib\\axes\\_base.py:2475: UserWarning: Warning: converting a masked element to nan.\n",
      "  xys = np.asarray(xys)\n",
      " 49%|███████████████████████████████████████▋                                         | 49/100 [10:25<13:27, 15.84s/it]C:\\Users\\Mamed\\Anaconda\\lib\\site-packages\\matplotlib\\axes\\_base.py:2475: UserWarning: Warning: converting a masked element to nan.\n",
      "  xys = np.asarray(xys)\n",
      " 53%|██████████████████████████████████████████▉                                      | 53/100 [11:41<14:13, 18.15s/it]C:\\Users\\Mamed\\Anaconda\\lib\\site-packages\\matplotlib\\axes\\_base.py:2475: UserWarning: Warning: converting a masked element to nan.\n",
      "  xys = np.asarray(xys)\n",
      " 59%|███████████████████████████████████████████████▊                                 | 59/100 [13:32<13:11, 19.30s/it]C:\\Users\\Mamed\\Anaconda\\lib\\site-packages\\matplotlib\\axes\\_base.py:2475: UserWarning: Warning: converting a masked element to nan.\n",
      "  xys = np.asarray(xys)\n",
      " 66%|█████████████████████████████████████████████████████▍                           | 66/100 [15:44<11:07, 19.63s/it]C:\\Users\\Mamed\\Anaconda\\lib\\site-packages\\matplotlib\\axes\\_base.py:2475: UserWarning: Warning: converting a masked element to nan.\n",
      "  xys = np.asarray(xys)\n",
      " 72%|██████████████████████████████████████████████████████████▎                      | 72/100 [17:37<08:52, 19.03s/it]C:\\Users\\Mamed\\Anaconda\\lib\\site-packages\\matplotlib\\axes\\_base.py:2475: UserWarning: Warning: converting a masked element to nan.\n",
      "  xys = np.asarray(xys)\n",
      " 79%|███████████████████████████████████████████████████████████████▉                 | 79/100 [20:05<07:33, 21.60s/it]C:\\Users\\Mamed\\Anaconda\\lib\\site-packages\\matplotlib\\axes\\_base.py:2475: UserWarning: Warning: converting a masked element to nan.\n",
      "  xys = np.asarray(xys)\n",
      " 91%|█████████████████████████████████████████████████████████████████████████▋       | 91/100 [24:42<03:35, 23.94s/it]C:\\Users\\Mamed\\Anaconda\\lib\\site-packages\\matplotlib\\axes\\_base.py:2475: UserWarning: Warning: converting a masked element to nan.\n",
      "  xys = np.asarray(xys)\n",
      " 92%|██████████████████████████████████████████████████████████████████████████▌      | 92/100 [25:06<03:11, 23.88s/it]"
     ]
    }
   ],
   "source": [
    "plot_matrix(file, city, cnt_graphics=100, cnt_shars=12, step=1)"
   ]
  },
  {
   "cell_type": "code",
   "execution_count": null,
   "id": "4962ed71-c8ce-458c-8b22-1f3426878164",
   "metadata": {},
   "outputs": [],
   "source": []
  },
  {
   "cell_type": "code",
   "execution_count": null,
   "id": "b660cb88-9656-4341-9415-d06851558061",
   "metadata": {},
   "outputs": [],
   "source": []
  },
  {
   "cell_type": "code",
   "execution_count": null,
   "id": "2879ca25-34d0-4532-918c-56238bc5be6e",
   "metadata": {},
   "outputs": [],
   "source": []
  }
 ],
 "metadata": {
  "kernelspec": {
   "display_name": "Python 3 (ipykernel)",
   "language": "python",
   "name": "python3"
  },
  "language_info": {
   "codemirror_mode": {
    "name": "ipython",
    "version": 3
   },
   "file_extension": ".py",
   "mimetype": "text/x-python",
   "name": "python",
   "nbconvert_exporter": "python",
   "pygments_lexer": "ipython3",
   "version": "3.9.12"
  }
 },
 "nbformat": 4,
 "nbformat_minor": 5
}
