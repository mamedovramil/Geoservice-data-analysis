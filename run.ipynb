{
 "cells": [
  {
   "cell_type": "code",
   "execution_count": 1,
   "id": "696175c9-278e-4ec3-96ae-d819f44cf808",
   "metadata": {
    "execution": {
     "iopub.execute_input": "2023-05-02T21:39:35.419268Z",
     "iopub.status.busy": "2023-05-02T21:39:35.418270Z",
     "iopub.status.idle": "2023-05-02T21:39:52.338338Z",
     "shell.execute_reply": "2023-05-02T21:39:52.337337Z",
     "shell.execute_reply.started": "2023-05-02T21:39:35.418270Z"
    },
    "tags": []
   },
   "outputs": [
    {
     "name": "stdout",
     "output_type": "stream",
     "text": [
      "Ready: 2023-05-03 00:39:52\n"
     ]
    }
   ],
   "source": [
    "%run functions.ipynb"
   ]
  },
  {
   "cell_type": "code",
   "execution_count": 2,
   "id": "ecce0f46-097a-496d-9dce-6dcbbf008e7e",
   "metadata": {
    "execution": {
     "iopub.execute_input": "2023-05-02T21:39:52.344340Z",
     "iopub.status.busy": "2023-05-02T21:39:52.343345Z",
     "iopub.status.idle": "2023-05-02T21:40:07.582168Z",
     "shell.execute_reply": "2023-05-02T21:40:07.581184Z",
     "shell.execute_reply.started": "2023-05-02T21:39:52.344340Z"
    }
   },
   "outputs": [
    {
     "data": {
      "text/html": [
       "\n",
       "            <div>\n",
       "                <p><b>SparkSession - in-memory</b></p>\n",
       "                \n",
       "        <div>\n",
       "            <p><b>SparkContext</b></p>\n",
       "\n",
       "            <p><a href=\"http://host.docker.internal:4041\">Spark UI</a></p>\n",
       "\n",
       "            <dl>\n",
       "              <dt>Version</dt>\n",
       "                <dd><code>v3.3.1</code></dd>\n",
       "              <dt>Master</dt>\n",
       "                <dd><code>local[*]</code></dd>\n",
       "              <dt>AppName</dt>\n",
       "                <dd><code>PySpark_Tutorial</code></dd>\n",
       "            </dl>\n",
       "        </div>\n",
       "        \n",
       "            </div>\n",
       "        "
      ],
      "text/plain": [
       "<pyspark.sql.session.SparkSession at 0x1debd172c10>"
      ]
     },
     "execution_count": 2,
     "metadata": {},
     "output_type": "execute_result"
    }
   ],
   "source": [
    "findspark.init()\n",
    "from pyspark.sql import SparkSession\n",
    "try:\n",
    "    spark.stop()\n",
    "except:\n",
    "    pass\n",
    "spark = SparkSession.builder\\\n",
    "        .master(\"local[*]\")\\\n",
    "        .appName('PySpark_Tutorial')\\\n",
    "        .getOrCreate()\n",
    "spark"
   ]
  },
  {
   "cell_type": "code",
   "execution_count": 16,
   "id": "c22c6fa7-247f-4ca9-950e-25c63f977d51",
   "metadata": {
    "execution": {
     "iopub.execute_input": "2023-05-02T22:24:27.938321Z",
     "iopub.status.busy": "2023-05-02T22:24:27.938321Z",
     "iopub.status.idle": "2023-05-02T22:24:28.485982Z",
     "shell.execute_reply": "2023-05-02T22:24:28.484982Z",
     "shell.execute_reply.started": "2023-05-02T22:24:27.938321Z"
    },
    "tags": []
   },
   "outputs": [],
   "source": [
    "df_new = spark.read.parquet(f'files/ten_city/df_dates')\n",
    "df_new.createOrReplaceTempView('df_new')"
   ]
  },
  {
   "cell_type": "code",
   "execution_count": 18,
   "id": "4274254d-f69d-491f-b5c4-646f2db99f83",
   "metadata": {
    "execution": {
     "iopub.execute_input": "2023-05-02T22:27:22.007052Z",
     "iopub.status.busy": "2023-05-02T22:27:22.007052Z",
     "iopub.status.idle": "2023-05-02T22:27:22.014060Z",
     "shell.execute_reply": "2023-05-02T22:27:22.013133Z",
     "shell.execute_reply.started": "2023-05-02T22:27:22.007052Z"
    },
    "tags": []
   },
   "outputs": [],
   "source": [
    "def count_dates_all(col, df_new='df_new'):\n",
    "    dff1 = spark.sql(f'''\n",
    "\n",
    "    with t as\n",
    "        (\n",
    "        select \n",
    "            year_r\n",
    "            , city\n",
    "            , {col}\n",
    "            , count(*) cnt\n",
    "        from {df_new}\n",
    "        group by\n",
    "            year_r\n",
    "            , city\n",
    "            , {col}\n",
    "        order by\n",
    "            year_r\n",
    "            , city\n",
    "            , {col}\n",
    "        )\n",
    "    ,gr as\n",
    "        (\n",
    "        select\n",
    "            {col} \n",
    "            ,max(case when city = 'Астана'  then cnt end) cnt_a\n",
    "            ,max(case when city = 'Бишкек'  then cnt end) cnt_b\n",
    "            ,max(case when city = 'Москва'  then cnt end) cnt_m\n",
    "            ,max(case when city = 'ОАЭ'     then cnt end) cnt_o\n",
    "            ,max(case when city = 'Ташкент' then cnt end) cnt_t\n",
    "            \n",
    "            ,max(case when city = 'СПБ'  then cnt end) cnt_s\n",
    "            ,max(case when city = 'Новосибирск'  then cnt end) cnt_n\n",
    "            ,max(case when city = 'Владивосток'  then cnt end) cnt_v\n",
    "            ,max(case when city = 'Алматы'     then cnt end) cnt_all\n",
    "            ,max(case when city = 'Калининград' then cnt end) cnt_k\n",
    "        from t\n",
    "        group by\n",
    "            {col}\n",
    "        order by\n",
    "            {col}    \n",
    "        )\n",
    "\n",
    "    select\n",
    "        {col}\n",
    "        ,sum(cnt_a) over(partition by {col}) / sum(cnt_a) over()*100 cnt_a\n",
    "        ,sum(cnt_b) over(partition by {col}) / sum(cnt_b) over()*100 cnt_b\n",
    "        ,sum(cnt_m) over(partition by {col}) / sum(cnt_m) over()*100 cnt_m\n",
    "        ,sum(cnt_o) over(partition by {col}) / sum(cnt_o) over()*100 cnt_o\n",
    "        ,sum(cnt_t) over(partition by {col}) / sum(cnt_t) over()*100 cnt_t\n",
    "        \n",
    "        ,sum(cnt_s) over(partition by {col}) / sum(cnt_s) over()*100 cnt_s\n",
    "        ,sum(cnt_n) over(partition by {col}) / sum(cnt_n) over()*100 cnt_n\n",
    "        ,sum(cnt_v) over(partition by {col}) / sum(cnt_v) over()*100 cnt_v\n",
    "        ,sum(cnt_all) over(partition by {col}) / sum(cnt_all) over()*100 cnt_all\n",
    "        ,sum(cnt_k) over(partition by {col}) / sum(cnt_k) over()*100 cnt_k\n",
    "    from gr\n",
    "\n",
    "    ''').toPandas()\n",
    "    return dff1"
   ]
  },
  {
   "cell_type": "code",
   "execution_count": 19,
   "id": "5a60d90a-1905-4cd4-9401-050abc806350",
   "metadata": {
    "execution": {
     "iopub.execute_input": "2023-05-02T22:27:28.986404Z",
     "iopub.status.busy": "2023-05-02T22:27:28.985293Z",
     "iopub.status.idle": "2023-05-02T22:37:19.808939Z",
     "shell.execute_reply": "2023-05-02T22:37:19.807942Z",
     "shell.execute_reply.started": "2023-05-02T22:27:28.986404Z"
    },
    "tags": []
   },
   "outputs": [
    {
     "name": "stderr",
     "output_type": "stream",
     "text": [
      "100%|███████████████████████████████████████████████████████████████████████████████████| 4/4 [09:50<00:00, 147.70s/it]\n"
     ]
    }
   ],
   "source": [
    "df_new_list = []\n",
    "for i in tqdm(['hour_r','date_r','week_r','week_day_r']):\n",
    "    df_new_list.append(count_dates_all(i))"
   ]
  },
  {
   "cell_type": "code",
   "execution_count": 21,
   "id": "b930ca12-421b-43b3-8123-135f0a2d230d",
   "metadata": {
    "execution": {
     "iopub.execute_input": "2023-05-02T22:37:27.995602Z",
     "iopub.status.busy": "2023-05-02T22:37:27.995602Z",
     "iopub.status.idle": "2023-05-02T22:37:28.012615Z",
     "shell.execute_reply": "2023-05-02T22:37:28.010617Z",
     "shell.execute_reply.started": "2023-05-02T22:37:27.995602Z"
    },
    "tags": []
   },
   "outputs": [],
   "source": [
    "dff1 = df_new_list[0]\n",
    "dff2 = df_new_list[1]\n",
    "dff3 = df_new_list[2]\n",
    "dff4 = df_new_list[3]"
   ]
  },
  {
   "cell_type": "code",
   "execution_count": 23,
   "id": "ad6bf002-c278-4841-9c82-02bea4fa2913",
   "metadata": {
    "execution": {
     "iopub.execute_input": "2023-05-02T22:39:56.516616Z",
     "iopub.status.busy": "2023-05-02T22:39:56.516616Z",
     "iopub.status.idle": "2023-05-02T22:39:56.707986Z",
     "shell.execute_reply": "2023-05-02T22:39:56.706977Z",
     "shell.execute_reply.started": "2023-05-02T22:39:56.516616Z"
    },
    "tags": []
   },
   "outputs": [],
   "source": [
    "t = ['Час','Количество запросов Астана','Количество запросов Бишкек','Количество запросов Москва','Количество запросов ОАЭ','Количество запросов Ташкент', 'Количество запросов СПБ', 'Количество запросов Новосибирск'\n",
    "    , 'Количество запросов Владимир', 'Количество запросов Алматы', 'Количество запросов Калининград']\n",
    "\n",
    "\n",
    "t[0] = 'Час'\n",
    "dff1.columns = t\n",
    "t[0] = 'Дата'\n",
    "dff2.columns = t\n",
    "t[0] = 'Неделя'\n",
    "dff3.columns = t\n",
    "t[0] = 'День недели'\n",
    "dff4.columns = t\n",
    "\n",
    "with pd.ExcelWriter(f'files/ten_city/df_dates_new.xlsx') as writer:\n",
    "    dff1.to_excel(writer, sheet_name='Часы', index=False)\n",
    "    dff2.to_excel(writer, sheet_name='Даты', index=False)\n",
    "    dff3.to_excel(writer, sheet_name='Недели', index=False)\n",
    "    dff4.to_excel(writer, sheet_name='Дни недели', index=False)"
   ]
  },
  {
   "cell_type": "code",
   "execution_count": null,
   "id": "fc0efbc6-7679-4382-b37e-032c6bf01eb6",
   "metadata": {},
   "outputs": [],
   "source": []
  },
  {
   "cell_type": "code",
   "execution_count": null,
   "id": "ea77657d-16ab-4b20-a182-7c6c4b803501",
   "metadata": {},
   "outputs": [],
   "source": []
  },
  {
   "cell_type": "code",
   "execution_count": 42,
   "id": "42a23902-d534-4117-8dff-7b7795b25f5a",
   "metadata": {
    "execution": {
     "iopub.execute_input": "2023-05-02T22:59:07.810587Z",
     "iopub.status.busy": "2023-05-02T22:59:07.810587Z",
     "iopub.status.idle": "2023-05-02T22:59:10.319162Z",
     "shell.execute_reply": "2023-05-02T22:59:10.318219Z",
     "shell.execute_reply.started": "2023-05-02T22:59:07.810587Z"
    },
    "tags": []
   },
   "outputs": [
    {
     "name": "stdout",
     "output_type": "stream",
     "text": [
      "files/ten_city/df_dates_new_report_230503_0159.docx\n"
     ]
    }
   ],
   "source": [
    "make_linear_plots(f'files/ten_city/df_dates_new.xlsx')"
   ]
  },
  {
   "cell_type": "code",
   "execution_count": 41,
   "id": "0627e7dd-52f0-43ac-bf32-f4aa5013f39f",
   "metadata": {
    "execution": {
     "iopub.execute_input": "2023-05-02T22:59:04.184236Z",
     "iopub.status.busy": "2023-05-02T22:59:04.184236Z",
     "iopub.status.idle": "2023-05-02T22:59:04.209266Z",
     "shell.execute_reply": "2023-05-02T22:59:04.208259Z",
     "shell.execute_reply.started": "2023-05-02T22:59:04.184236Z"
    },
    "tags": []
   },
   "outputs": [],
   "source": [
    "def make_linear_plots(input_filename, cnt=9999, size_x=17.5, size_y=10.8, font_size=16, img_w=17.5, img_h=10.8, blank=False, word_sample='files/report.docx'):\n",
    "    def zero(x,y):\n",
    "        if x < 0:\n",
    "            return str(0) +'%'\n",
    "        return str(round(x,1)) +'%'\n",
    "    \n",
    "    dt_now = str(datetime.datetime.now())[2:-9].replace('-','').replace(':','').replace(' ','_')\n",
    "    word_file = f'{input_filename[:-5]}_report_{dt_now}.docx'\n",
    "    print(word_file)\n",
    "    #cols1 = ['Час','Количество запросов Астана','Количество запросов Бишкек','Количество запросов Москва','Количество запросов ОАЭ','Количество запросов Ташкент']\n",
    "    #cols2 = ['Дата','Количество запросов Астана','Количество запросов Бишкек','Количество запросов Москва','Количество запросов ОАЭ','Количество запросов Ташкент']\n",
    "    #cols3 = ['Неделя','Количество запросов Астана','Количество запросов Бишкек','Количество запросов Москва','Количество запросов ОАЭ','Количество запросов Ташкент']\n",
    "    #cols4 = ['День недели','Количество запросов Астана','Количество запросов Бишкек','Количество запросов Москва','Количество запросов ОАЭ','Количество запросов Ташкент']\n",
    "    \n",
    "    cols1 = ['Час', 'Количество запросов СПБ', 'Количество запросов Новосибирск', 'Количество запросов Владимир', 'Количество запросов Алматы', 'Количество запросов Калининград']\n",
    "    cols2 = ['Дата', 'Количество запросов СПБ', 'Количество запросов Новосибирск', 'Количество запросов Владимир', 'Количество запросов Алматы', 'Количество запросов Калининград']\n",
    "    cols3 = ['Неделя', 'Количество запросов СПБ', 'Количество запросов Новосибирск', 'Количество запросов Владимир', 'Количество запросов Алматы', 'Количество запросов Калининград']\n",
    "    cols4 = ['День недели', 'Количество запросов СПБ', 'Количество запросов Новосибирск', 'Количество запросов Владимир', 'Количество запросов Алматы', 'Количество запросов Калининград']\n",
    "    dff1 = pd.read_excel(input_filename, sheet_name='Часы')[cols1]\n",
    "    dff2 = pd.read_excel(input_filename, sheet_name='Даты')[cols2]\n",
    "    dff3 = pd.read_excel(input_filename, sheet_name='Недели')[cols3]\n",
    "    dff4 = pd.read_excel(input_filename, sheet_name='Дни недели')[cols4]\n",
    "    \n",
    "    dff1_test = dff1.set_index(dff1.columns[0])\n",
    "    dff2_test = dff2.set_index(dff2.columns[0])\n",
    "    dff3_test = dff3.set_index(dff3.columns[0])\n",
    "    dff4_test = dff4.set_index(dff4.columns[0])\n",
    "    dff4_test.index = (['пн','вт','ср','чт','пт','сб','вс'])\n",
    "    j=0\n",
    "    for d in [dff1_test, dff2_test, dff3_test, dff4_test]: \n",
    "        j+=1\n",
    "        fig, ax = plt.subplots()\n",
    "        ax = sns.lineplot(data = d, linewidth=3, palette=['#4F81BD', '#F79646', '#C0504D', '#9BBB59', '#264478'])\n",
    "        plt.rcParams['figure.figsize']=17,10.8\n",
    "        plt.rcParams['font.size'] = '16'\n",
    "        plt.rcParams['figure.dpi'] = 2**8\n",
    "        plt.rcParams['figure.facecolor'] = 'white'\n",
    "        fpath = Path(mpl.get_data_path(), r\"C:\\Users\\Mamed\\YandexDisk\\_Documents\\Проекты\\2ГИС 2023\\Лого\\arialnarrow.ttf\")\n",
    "\n",
    "\n",
    "        #plt.legend(['Астана', 'Бишкек', 'Москва', 'ОАЭ', 'Ташкент'], prop=fpath)\n",
    "        plt.legend(['СПБ','Новосибирск','Владимир','Алматы','Калининград'], prop=fpath)\n",
    "        plt.xticks(font=fpath)\n",
    "        plt.yticks(font=fpath)\n",
    "        plt.grid(visible=True, linewidth=0.3)\n",
    "        ax.set_xlabel('')\n",
    "        ax.yaxis.set_major_formatter(FuncFormatter(zero))\n",
    "        ax.xaxis.set_major_locator(ticker.MultipleLocator(1)) \n",
    "        ax.yaxis.set_major_locator(ticker.LinearLocator(numticks=6))  \n",
    "        img_file_name = input_filename.replace('files/','')[:-5]\n",
    "        img_file_name_final = f'pictures/{img_file_name}_{j}.png'\n",
    "        if 'Час' == d.index.name:\n",
    "            ax.set_title(f'Запросы по часам, шт.', font=fpath)\n",
    "        elif 'Дата' == d.index.name:\n",
    "            ax.xaxis.set_major_locator(ticker.MultipleLocator(4)) \n",
    "            ax.set_title(f'Запросы по датам, шт.', font=fpath)\n",
    "        elif 'Неделя' == d.index.name:\n",
    "            ax.set_title(f'Запросы по неделям, шт.', font=fpath)\n",
    "        else:\n",
    "            ax.set_title(f'Запросы по дням недели, шт.', font=fpath) \n",
    "\n",
    "        #im = plt.imread(r\"C:\\Users\\Mamed\\YandexDisk\\_Documents\\Проекты\\2ГИС 2023\\Лого\\лого_2гис_232_354.png\")\n",
    "        #ax.figure.figimage(im, 3250, 150, zorder=1, alpha=0.5)\n",
    "#\n",
    "        #im = plt.imread(r\"C:\\Users\\Mamed\\YandexDisk\\_Documents\\Проекты\\2ГИС 2023\\Лого\\лого_шт_232_354.png\")\n",
    "        #ax.figure.figimage(im, 200, 1800, zorder=1, alpha=0.5)\n",
    "\n",
    "        ax.figure.savefig(img_file_name_final, bbox_inches='tight')\n",
    "        add_image(word_file, img_file_name_final, '', img_w=img_w, img_h=img_h, blank=blank,word_sample=word_sample)\n",
    "        #plt.show()\n",
    "        plt.close()"
   ]
  },
  {
   "cell_type": "code",
   "execution_count": null,
   "id": "04a3abcc-1abd-4a7d-8f96-9a0a5ef7def1",
   "metadata": {},
   "outputs": [],
   "source": []
  },
  {
   "cell_type": "code",
   "execution_count": null,
   "id": "99457f58-4d17-4262-9f1d-ddb2bf6a3e70",
   "metadata": {},
   "outputs": [],
   "source": []
  }
 ],
 "metadata": {
  "kernelspec": {
   "display_name": "Python 3 (ipykernel)",
   "language": "python",
   "name": "python3"
  },
  "language_info": {
   "codemirror_mode": {
    "name": "ipython",
    "version": 3
   },
   "file_extension": ".py",
   "mimetype": "text/x-python",
   "name": "python",
   "nbconvert_exporter": "python",
   "pygments_lexer": "ipython3",
   "version": "3.9.12"
  }
 },
 "nbformat": 4,
 "nbformat_minor": 5
}
