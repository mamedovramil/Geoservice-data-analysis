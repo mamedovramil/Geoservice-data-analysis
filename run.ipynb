{
 "cells": [
  {
   "cell_type": "code",
   "execution_count": 1,
   "id": "696175c9-278e-4ec3-96ae-d819f44cf808",
   "metadata": {
    "execution": {
     "iopub.execute_input": "2023-04-24T20:44:58.673913Z",
     "iopub.status.busy": "2023-04-24T20:44:58.672947Z",
     "iopub.status.idle": "2023-04-24T20:45:06.226420Z",
     "shell.execute_reply": "2023-04-24T20:45:06.225500Z",
     "shell.execute_reply.started": "2023-04-24T20:44:58.672947Z"
    },
    "tags": []
   },
   "outputs": [
    {
     "name": "stdout",
     "output_type": "stream",
     "text": [
      "Ready: 2023-04-24 23:45:06\n"
     ]
    }
   ],
   "source": [
    "%run functions.ipynb"
   ]
  },
  {
   "cell_type": "code",
   "execution_count": 290,
   "id": "b198620c-420b-4cd2-883f-5b211247d4f7",
   "metadata": {
    "execution": {
     "iopub.execute_input": "2023-04-25T00:04:28.740442Z",
     "iopub.status.busy": "2023-04-25T00:04:28.739442Z",
     "iopub.status.idle": "2023-04-25T00:04:28.758461Z",
     "shell.execute_reply": "2023-04-25T00:04:28.754442Z",
     "shell.execute_reply.started": "2023-04-25T00:04:28.740442Z"
    },
    "tags": []
   },
   "outputs": [],
   "source": [
    "def make_hse_image(df, output_file_name=None, cols_without_color=[0], dedup_cols=None, col_width=1.0, row_height=0.625, font_size=28,\n",
    "                     header_color='#249FD8', row_colors=['#D2DDF1', 'w'], edge_color='w',\n",
    "                     bbox=[0, 0, 1, 1], header_columns=0,\n",
    "                     ax=None, show=False, **kwargs):\n",
    "    rating_col = df.columns[-1]\n",
    "    data = df.sort_values(rating_col, ascending=False)\n",
    "    data_separeted_numbers = data.copy()\n",
    "    for col in data.columns[1:]:\n",
    "        data_separeted_numbers[col] = data[col].apply(make_sep)\n",
    "        if col in ['Пользователи, %', 'Запросы, %', 'Запросов на пользователя,\\nитого']:\n",
    "            data_separeted_numbers[col] = data[col].apply(lambda x: str(x).replace('.',','))\n",
    "        \n",
    "    if ax is None:\n",
    "        size = (np.array([6.3*4, 3.94*4]))\n",
    "        fig, ax = plt.subplots(figsize=size, dpi=2**8)\n",
    "        ax.axis('off')\n",
    "\n",
    "    mpl_table = ax.table(cellText=data_separeted_numbers.values, bbox=bbox, colLabels=data.columns, colLoc='center', loc='bottom')\n",
    "    mpl_table.auto_set_font_size(False)\n",
    "    cells_dict = dict(six.iteritems(mpl_table._cells))\n",
    "    \n",
    "    #im = plt.imread(r\"C:\\Users\\Mamed\\YandexDisk\\_Documents\\Проекты\\2ГИС 2023\\Лого\\Лого_2ГИС_230401_1600.png\")\n",
    "    #ax.figure.figimage(im, 43, 44, zorder=1, alpha=0.5)\n",
    "#\n",
    "    #im = plt.imread(r\"C:\\Users\\Mamed\\YandexDisk\\_Documents\\Проекты\\2ГИС 2023\\Лого\\лого_ШТ_230401_1600.png\")\n",
    "    #ax.figure.figimage(im, 43, 1068, zorder=1, alpha=0.5)\n",
    "    \n",
    "    fpath = Path(mpl.get_data_path(), r\"C:\\Users\\Mamed\\YandexDisk\\_Documents\\Проекты\\2ГИС 2023\\Лого\\arialnarrow.ttf\")\n",
    "    colors_dict = colorize_column(df, cols_not_to_color=cols_without_color)\n",
    "    colors_dict.update(colorize_column(data, cols_not_to_color=list(range(data.shape[1]-1))), filter_zero=True)\n",
    "    colors = ([color_list_full[i] for i in range(0, len(color_list_full), len(color_list_full) % 15)] + [color_list_full[-1]]) \n",
    "    \n",
    "    for k in sorted(cells_dict.keys()): #k[0] - строка, k[1] - столбец\n",
    "        cell = cells_dict[k]\n",
    "        cell.set_edgecolor(edge_color)\n",
    "        row_index = k[0]\n",
    "        column_index = k[1]\n",
    "        \n",
    "        # Высота и цвет заголовков\n",
    "        if row_index == 0:\n",
    "            rotation='horizontal' if k == (0,0) else 'vertical' \n",
    "            cell.set_text_props(color='w', rotation=rotation, ha='center')\n",
    "            cell.set_facecolor(header_color)\n",
    "            cell.set_height(0.05)\n",
    "            \n",
    "        # Высота и цвет остальных строк\n",
    "        else:\n",
    "            ha = 'left' if column_index ==0 else 'right'\n",
    "            cell.set_facecolor(row_colors[k[0]%len(row_colors)])\n",
    "            cell.set_height(0.008)\n",
    "            cell.set_text_props(wrap=True, ha=ha)\n",
    "        \n",
    "        # Ширина столбцов\n",
    "        if column_index == 0:\n",
    "            cell.set_width(0.006)\n",
    "        elif column_index == 6:\n",
    "            cell.set_width(0.0008)\n",
    "        else:\n",
    "            cell.set_width(0.0016)\n",
    "                        \n",
    "        # Цветвоая шкала\n",
    "        if row_index > 0 and column_index not in cols_without_color and row_index<16:\n",
    "            cell.set_facecolor(colors.pop(0).upper())       \n",
    "            \n",
    "        if row_index == 16:\n",
    "            cell.set_text_props(color='w')\n",
    "            cell.set_facecolor(header_color) \n",
    "            if column_index == 6:\n",
    "                cell.set_text_props(color=header_color)\n",
    "            \n",
    "        # Шрифт\n",
    "        cell.set_text_props(font=fpath, fontsize=font_size)\n",
    "    if output_file_name:\n",
    "        fig.savefig(f'{output_file_name}', bbox_inches='tight')\n",
    "    if show:\n",
    "        plt.show()\n",
    "    plt.close()    \n"
   ]
  },
  {
   "cell_type": "code",
   "execution_count": 291,
   "id": "45eb1002-d479-4ddf-b389-a10706939a8d",
   "metadata": {
    "execution": {
     "iopub.execute_input": "2023-04-25T00:04:29.043121Z",
     "iopub.status.busy": "2023-04-25T00:04:29.043121Z",
     "iopub.status.idle": "2023-04-25T00:04:29.302341Z",
     "shell.execute_reply": "2023-04-25T00:04:29.301228Z",
     "shell.execute_reply.started": "2023-04-25T00:04:29.043121Z"
    },
    "tags": []
   },
   "outputs": [],
   "source": [
    "df = pd.read_excel('files/ten_city/ratings_df.xlsx').fillna(0).astype(\n",
    "    {'Рубрика':str, \n",
    "'Пользователи 2020':int,\n",
    "'Пользователи 2021':int,\n",
    "'Пользователи 2022':int,\n",
    "'Пользователи 2023':int,\n",
    "'Пользователи, итого':int,\n",
    "'Пользователи, %' : float,\n",
    "'Запросы 2020':int,\n",
    "'Запросы 2021':int,\n",
    "'Запросы 2022':int,\n",
    "'Запросы 2023':int,\n",
    "'Запросы, итого':int,\n",
    "'Запросы, %' : float,                                                                      \n",
    "})\n",
    "\n",
    "df['Запросы, %'] = df['Запросы, %'].round(1)\n",
    "df['Пользователи, %'] = df['Пользователи, %'].round(1)\n",
    "\n",
    "df_users = df[[\n",
    "    'Рубрика',\n",
    "    'Пользователи 2020',\n",
    "    'Пользователи 2021',\n",
    "    'Пользователи 2022',\n",
    "    'Пользователи 2023',\n",
    "    'Пользователи, итого',\n",
    "    'Пользователи, %'\n",
    "]].iloc[list(range(15))+[-1]].sort_values('Пользователи, итого', ascending=False)\n",
    "\n",
    "df_requests = df[[\n",
    "    'Рубрика',\n",
    "    'Запросы 2020',\n",
    "    'Запросы 2021',\n",
    "    'Запросы 2022',\n",
    "    'Запросы 2023',\n",
    "    'Запросы, итого',\n",
    "    'Запросы, %'\n",
    "]].iloc[list(range(15))+[-1]].sort_values('Запросы, итого', ascending=False)\n",
    "\n",
    "#249FD8\n",
    "#7FA2D3\n",
    "#D2DDF1"
   ]
  },
  {
   "cell_type": "code",
   "execution_count": null,
   "id": "a000d2f7-3677-4fcd-a699-5dd41c83102d",
   "metadata": {
    "execution": {
     "iopub.execute_input": "2023-04-25T00:05:00.814520Z",
     "iopub.status.busy": "2023-04-25T00:05:00.813518Z",
     "iopub.status.idle": "2023-04-25T00:05:02.854145Z",
     "shell.execute_reply": "2023-04-25T00:05:02.853245Z",
     "shell.execute_reply.started": "2023-04-25T00:05:00.814520Z"
    },
    "tags": []
   },
   "outputs": [],
   "source": [
    "now = str(datetime.datetime.now())[:-9].replace('-','').replace(' ','_').replace(':','')\n",
    "make_hse_image(df_requests, f'requests_{now}.png', show=True)"
   ]
  },
  {
   "cell_type": "code",
   "execution_count": null,
   "id": "ab2cfd71-1ac9-46af-9d59-25c8b1b750f2",
   "metadata": {
    "execution": {
     "iopub.execute_input": "2023-04-25T00:05:02.856152Z",
     "iopub.status.busy": "2023-04-25T00:05:02.856152Z",
     "iopub.status.idle": "2023-04-25T00:05:04.923690Z",
     "shell.execute_reply": "2023-04-25T00:05:04.922653Z",
     "shell.execute_reply.started": "2023-04-25T00:05:02.856152Z"
    },
    "tags": []
   },
   "outputs": [],
   "source": [
    "now = str(datetime.datetime.now())[:-9].replace('-','').replace(' ','_').replace(':','')\n",
    "make_hse_image(df_users, f'users_{now}.png', show=True)"
   ]
  },
  {
   "cell_type": "code",
   "execution_count": 299,
   "id": "13c1e189-fdbc-4667-b4a8-39ee0891af4b",
   "metadata": {
    "execution": {
     "iopub.execute_input": "2023-04-25T00:10:40.950735Z",
     "iopub.status.busy": "2023-04-25T00:10:40.950735Z",
     "iopub.status.idle": "2023-04-25T00:10:40.981818Z",
     "shell.execute_reply": "2023-04-25T00:10:40.978357Z",
     "shell.execute_reply.started": "2023-04-25T00:10:40.950735Z"
    },
    "tags": []
   },
   "outputs": [],
   "source": [
    "def make_hse_image2(df, output_file_name=None, cols_without_color=[0], dedup_cols=None, col_width=1.0, row_height=0.625, font_size=28,\n",
    "                     header_color='#249FD8', row_colors=['#D2DDF1', 'w'], edge_color='w',\n",
    "                     bbox=[0, 0, 1, 1], header_columns=0,\n",
    "                     ax=None, show=False, **kwargs):\n",
    "    rating_col = df.columns[-1]\n",
    "    data = df\n",
    "    data['Население'] = data['Население'].apply(make_sep)\n",
    "    if ax is None:\n",
    "        size = (np.array([6.3*4, 3.94*4]))\n",
    "        fig, ax = plt.subplots(figsize=size, dpi=2**8)\n",
    "        ax.axis('off')\n",
    "\n",
    "    mpl_table = ax.table(cellText=data.values, bbox=bbox, colLabels=data.columns, colLoc='center', loc='bottom')\n",
    "    mpl_table.auto_set_font_size(False)\n",
    "    cells_dict = dict(six.iteritems(mpl_table._cells))\n",
    "    \n",
    "    #im = plt.imread(r\"C:\\Users\\Mamed\\YandexDisk\\_Documents\\Проекты\\2ГИС 2023\\Лого\\Лого_2ГИС_230401_1600.png\")\n",
    "    #ax.figure.figimage(im, 43, 44, zorder=1, alpha=0.5)\n",
    "#\n",
    "    #im = plt.imread(r\"C:\\Users\\Mamed\\YandexDisk\\_Documents\\Проекты\\2ГИС 2023\\Лого\\лого_ШТ_230401_1600.png\")\n",
    "    #ax.figure.figimage(im, 43, 1068, zorder=1, alpha=0.5)\n",
    "    \n",
    "    fpath = Path(mpl.get_data_path(), r\"C:\\Users\\Mamed\\YandexDisk\\_Documents\\Проекты\\2ГИС 2023\\Лого\\arialnarrow.ttf\")\n",
    "    #colors_dict = colorize_column(df, cols_not_to_color=cols_without_color)\n",
    "    #colors_dict.update(colorize_column(data, cols_not_to_color=list(range(data.shape[1]-1))), filter_zero=True)\n",
    "    colors = ([color_list_full[i] for i in range(0, len(color_list_full), len(color_list_full) % 20)] + [color_list_full[-1]]) \n",
    "    \n",
    "    for k in sorted(cells_dict.keys()): #k[0] - строка, k[1] - столбец\n",
    "        cell = cells_dict[k]\n",
    "        cell.set_edgecolor(edge_color)\n",
    "        row_index = k[0]\n",
    "        column_index = k[1]\n",
    "        \n",
    "        # Высота и цвет заголовков\n",
    "        if row_index == 0:\n",
    "            rotation='horizontal' if k == (0,0) else 'vertical' \n",
    "            cell.set_text_props(color='w', ha='center')\n",
    "            cell.set_facecolor(header_color)\n",
    "            cell.set_height(0.04)\n",
    "            \n",
    "        # Высота и цвет остальных строк\n",
    "        else:\n",
    "            ha = 'left' if column_index in (0,1,2) else 'right'\n",
    "            cell.set_facecolor(row_colors[k[0]%len(row_colors)])\n",
    "            cell.set_height(0.008)\n",
    "            cell.set_text_props(wrap=True, ha=ha)\n",
    "        \n",
    "        # Ширина столбцов\n",
    "        if column_index == 0:\n",
    "            cell.set_width(0.0001)\n",
    "            cell.set_text_props(ha='right')\n",
    "        else:\n",
    "            cell.set_width(0.0006)\n",
    "            \n",
    "        if row_index == 0 and column_index == 0:\n",
    "            cell.set_text_props(ha='center')\n",
    "\n",
    "        # Цветвоая шкала\n",
    "        if row_index > 0 and column_index == 3:\n",
    "            cell.set_facecolor(colors.pop(0).upper())       \n",
    "            \n",
    "        if row_index == 18:\n",
    "            cell.set_text_props(color='w')\n",
    "            cell.set_facecolor(header_color) \n",
    "            if column_index == 1 or column_index == 2:\n",
    "                cell.set_text_props(color=header_color)\n",
    "            \n",
    "        # Шрифт\n",
    "        cell.set_text_props(font=fpath, fontsize=font_size)\n",
    "    if output_file_name:\n",
    "        fig.savefig(f'{output_file_name}', bbox_inches='tight')\n",
    "    if show:\n",
    "        plt.show()\n",
    "    plt.close()    \n"
   ]
  },
  {
   "cell_type": "code",
   "execution_count": null,
   "id": "cdb8cdf0-9d01-407b-9a67-97602d119239",
   "metadata": {
    "execution": {
     "iopub.execute_input": "2023-04-25T00:10:41.735028Z",
     "iopub.status.busy": "2023-04-25T00:10:41.735028Z",
     "iopub.status.idle": "2023-04-25T00:10:44.908493Z",
     "shell.execute_reply": "2023-04-25T00:10:44.907563Z",
     "shell.execute_reply.started": "2023-04-25T00:10:41.735028Z"
    },
    "tags": []
   },
   "outputs": [],
   "source": [
    "now = str(datetime.datetime.now())[:-9].replace('-','').replace(' ','_').replace(':','')\n",
    "dfn = pd.read_excel(r\"C:\\Users\\Mamed\\YandexDisk\\_Documents\\Проекты\\ВШЭ\\Таблица_Население_230425_0030.xlsx\")\n",
    "make_hse_image2(dfn, f'table_{now}.png', show=True)"
   ]
  },
  {
   "cell_type": "code",
   "execution_count": null,
   "id": "b4906451-7f3d-4331-9895-a3de63354893",
   "metadata": {},
   "outputs": [],
   "source": []
  }
 ],
 "metadata": {
  "kernelspec": {
   "display_name": "Python 3 (ipykernel)",
   "language": "python",
   "name": "python3"
  },
  "language_info": {
   "codemirror_mode": {
    "name": "ipython",
    "version": 3
   },
   "file_extension": ".py",
   "mimetype": "text/x-python",
   "name": "python",
   "nbconvert_exporter": "python",
   "pygments_lexer": "ipython3",
   "version": "3.9.12"
  }
 },
 "nbformat": 4,
 "nbformat_minor": 5
}
