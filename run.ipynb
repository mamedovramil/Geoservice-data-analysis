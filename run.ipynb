{
 "cells": [
  {
   "cell_type": "code",
   "execution_count": null,
   "id": "6cb76a71-a966-4bf8-998e-320f52f0e3a6",
   "metadata": {
    "execution": {
     "iopub.execute_input": "2023-06-16T20:16:34.214197Z",
     "iopub.status.busy": "2023-06-16T20:16:34.214197Z",
     "iopub.status.idle": "2023-06-16T20:16:45.970186Z",
     "shell.execute_reply": "2023-06-16T20:16:45.970186Z",
     "shell.execute_reply.started": "2023-06-16T20:16:34.214197Z"
    },
    "tags": []
   },
   "outputs": [],
   "source": [
    "%run functions.ipynb\n",
    "spark = get_spark()"
   ]
  },
  {
   "cell_type": "code",
   "execution_count": null,
   "id": "00c13e93-c406-48f3-84a5-6f28cfd449fb",
   "metadata": {},
   "outputs": [],
   "source": []
  }
 ],
 "metadata": {
  "kernelspec": {
   "display_name": "Python 3 (ipykernel)",
   "language": "python",
   "name": "python3"
  },
  "language_info": {
   "codemirror_mode": {
    "name": "ipython",
    "version": 3
   },
   "file_extension": ".py",
   "mimetype": "text/x-python",
   "name": "python",
   "nbconvert_exporter": "python",
   "pygments_lexer": "ipython3",
   "version": "3.9.12"
  },
  "toc-autonumbering": false
 },
 "nbformat": 4,
 "nbformat_minor": 5
}
