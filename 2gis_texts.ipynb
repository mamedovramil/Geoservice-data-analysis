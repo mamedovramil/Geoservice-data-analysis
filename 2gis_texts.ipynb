{
 "cells": [
  {
   "cell_type": "code",
   "execution_count": 35,
   "id": "daabc504-da4d-4eed-82e9-1ca98ea5463e",
   "metadata": {},
   "outputs": [
    {
     "name": "stdout",
     "output_type": "stream",
     "text": [
      "Ready: 2023-03-25 07:38:21\n"
     ]
    }
   ],
   "source": [
    "%run 2gis_functions.ipynb"
   ]
  },
  {
   "cell_type": "code",
   "execution_count": 2,
   "id": "f735f502-0336-4bd3-bcb1-079a46b15d4c",
   "metadata": {},
   "outputs": [],
   "source": [
    "findspark.init()\n",
    "from pyspark.sql import SparkSession\n",
    "try:\n",
    "    spark.stop()\n",
    "except:\n",
    "    pass\n",
    "spark = SparkSession.builder\\\n",
    "        .master(\"local[*]\")\\\n",
    "        .appName('PySpark_Tutorial')\\\n",
    "        .getOrCreate()"
   ]
  },
  {
   "cell_type": "markdown",
   "id": "f0aa4696-b3fa-4467-bc23-fbc426f3a0ea",
   "metadata": {
    "tags": []
   },
   "source": [
    "# Москва запросы и телефоны"
   ]
  },
  {
   "cell_type": "code",
   "execution_count": 5,
   "id": "43d55fe0-70ce-40a2-8c85-b3e79acf3416",
   "metadata": {},
   "outputs": [],
   "source": [
    "rubrics = pd.read_excel('files/final_svod_master.xlsx')[['Рубрика']].iloc[:70]\n",
    "\n",
    "df_all = dd.read_parquet('files/df_all')\n",
    "df_filtered = df_all.merge(rubrics, left_on='rubricName', right_on='Рубрика')\n",
    "\n",
    "df_filtered.to_parquet('df_filtered')\n",
    "\n",
    "df_filtered = dd.read_parquet('df_filtered')"
   ]
  },
  {
   "cell_type": "code",
   "execution_count": 5,
   "id": "d3f2dfcd-5ddf-42a0-a083-12d3c16a6825",
   "metadata": {},
   "outputs": [],
   "source": [
    "df = spark.read.parquet(\"df_filtered\")#.withColumn('new_tx',normalize_word(coalesce(col('tx'), lit(''))))\n",
    "\n",
    "df.createOrReplaceTempView('df')\n",
    "\n",
    "grouped_df = spark.sql('''\n",
    "\n",
    "select\n",
    "    rubricName\n",
    "    ,year\n",
    "    ,tx\n",
    "    ,cnt\n",
    "    ,row_number() over(partition by rubricName ,year order by cnt desc) rn\n",
    "from (\n",
    "    select\n",
    "        rubricName\n",
    "        ,year(date) year\n",
    "        ,lower(tx) tx\n",
    "        ,count(*) cnt\n",
    "    from df\n",
    "    group by \n",
    "        rubricName\n",
    "        ,year(date)\n",
    "        ,lower(tx)\n",
    "        ) t\n",
    "''')#.where('rn < 16')"
   ]
  },
  {
   "cell_type": "code",
   "execution_count": 6,
   "id": "8149655a-f50f-45aa-a365-273e54215013",
   "metadata": {},
   "outputs": [
    {
     "name": "stdout",
     "output_type": "stream",
     "text": [
      "CPU times: total: 78.1 ms\n",
      "Wall time: 3min 34s\n"
     ]
    }
   ],
   "source": [
    "%%time\n",
    "grouped_df.write.mode('overwrite').parquet('df_tx_grouped')"
   ]
  },
  {
   "cell_type": "code",
   "execution_count": 41,
   "id": "628024b7-cb58-4c6e-8ec4-e33d88473db7",
   "metadata": {},
   "outputs": [
    {
     "name": "stdout",
     "output_type": "stream",
     "text": [
      "CPU times: total: 0 ns\n",
      "Wall time: 4 s\n"
     ]
    }
   ],
   "source": [
    "%%time\n",
    "spark.read.parquet(\"df_tx_grouped\").where('tx is not null and year in (2020,2021,2022,2023)').write.mode('overwrite').parquet('df_tx_grouped_filtered')"
   ]
  },
  {
   "cell_type": "markdown",
   "id": "bda4751d-46ec-4a16-bcab-9d9b9967fba5",
   "metadata": {
    "tags": []
   },
   "source": [
    "# Расчет"
   ]
  },
  {
   "cell_type": "code",
   "execution_count": 104,
   "id": "2d6a771d-6624-46b4-9e9d-912ae0791ee6",
   "metadata": {},
   "outputs": [],
   "source": [
    "import string\n",
    "import pymorphy2\n",
    "morph = pymorphy2.MorphAnalyzer()\n",
    "from nltk.corpus import stopwords\n",
    "russian_stopwords = stopwords.words(\"russian\")\n",
    "\n",
    "def normalize_word(word):\n",
    "    return (sorted([morph.normal_forms(str(i))[0].strip(string.punctuation + string.whitespace) for i in word.split(' ')]))\n",
    "\n",
    "normalize_word_udf = udf(normalize_word, ArrayType(StringType()))\n",
    "\n",
    "def check_stopwords(word, russian_stopwords = russian_stopwords):\n",
    "    if word not in russian_stopwords and len(word)>1:\n",
    "        for letter in word:\n",
    "            if letter in string.punctuation or letter in string.digits:\n",
    "                return 0\n",
    "        return 1\n",
    "    return 0\n",
    "\n",
    "check_stopwords_udf = udf(check_stopwords, StringType())"
   ]
  },
  {
   "cell_type": "code",
   "execution_count": 4,
   "id": "a5fcc54f-8c63-495c-b3ed-223fd1645392",
   "metadata": {},
   "outputs": [],
   "source": [
    "df_tx_grouped_normalize = (spark.read.parquet(\"df_tx_grouped_filtered\")#.limit(3000)\n",
    "                           .withColumn('new_tx',normalize_word_udf(col('tx')))\n",
    "                    )"
   ]
  },
  {
   "cell_type": "code",
   "execution_count": 5,
   "id": "7bb3b2df-4839-4f37-ae23-a6a760b6cb20",
   "metadata": {},
   "outputs": [
    {
     "name": "stdout",
     "output_type": "stream",
     "text": [
      "CPU times: total: 656 ms\n",
      "Wall time: 27min 22s\n"
     ]
    }
   ],
   "source": [
    "%%time\n",
    "df_tx_grouped_normalize.write.mode('overwrite').parquet('df_tx_grouped_normalize')"
   ]
  },
  {
   "cell_type": "markdown",
   "id": "a1142ac0-eab2-46a9-ac4f-bda9970fba9a",
   "metadata": {},
   "source": [
    "### По фразам"
   ]
  },
  {
   "cell_type": "code",
   "execution_count": 185,
   "id": "31e1eeec-3be6-405b-8db4-ecf86474fc44",
   "metadata": {},
   "outputs": [],
   "source": [
    "df_tx_grouped_normalize_agg_str = (\n",
    "    spark.read.parquet(r\"df_tx_grouped_normalize\")\n",
    "    .withColumn(\"new_tx_str1\", f.trim(f.concat_ws(\" \",col(\"new_tx\")))).withColumn(\"new_tx_str\", f.expr('''BTRIM(new_tx_str1, '—!\"#$%&\\()*+,-./:;<=>?@[\\\\]^_`{|}~')'''))\n",
    "    .where('coalesce(new_tx_str, \"\") !=\"\" ')\n",
    "    .groupBy(f.col(\"rubricName\"),f.col(\"new_tx_str\"),f.col(\"year\")) \n",
    "    .agg(f.sum(\"cnt\").alias(\"count\"))\n",
    "    .sort(desc('count'))\n",
    "    #.show()\n",
    ")"
   ]
  },
  {
   "cell_type": "code",
   "execution_count": 186,
   "id": "2cc65ff8-fb35-4abf-95e0-476b6d57d557",
   "metadata": {},
   "outputs": [
    {
     "name": "stdout",
     "output_type": "stream",
     "text": [
      "CPU times: total: 0 ns\n",
      "Wall time: 34 s\n"
     ]
    }
   ],
   "source": [
    "%%time\n",
    "df_tx_grouped_normalize_agg_str.write.mode('overwrite').parquet('df_tx_grouped_normalize_agg_str')"
   ]
  },
  {
   "cell_type": "code",
   "execution_count": 196,
   "id": "4c2160f6-3371-4234-9fe2-e90141363a8f",
   "metadata": {},
   "outputs": [],
   "source": [
    "df_tx_str = spark.read.parquet(r\"df_tx_grouped_normalize_agg_str\")\n",
    "\n",
    "df_tx_str.createOrReplaceTempView('df_tx_str')\n",
    "\n",
    "df_tx_grouped_normalize_final_str = spark.sql('''\n",
    "with t as\n",
    "    (\n",
    "    select\n",
    "        rubricName\n",
    "        ,new_tx_str\n",
    "        ,case when year=2020 then sum(count) else 0 end cnt_2020\n",
    "        ,case when year=2021 then sum(count) else 0 end cnt_2021\n",
    "        ,case when year=2022 then sum(count) else 0 end cnt_2022\n",
    "        ,case when year=2023 then sum(count) else 0 end cnt_2023\n",
    "    from df_tx_str\n",
    "    group by \n",
    "        rubricName\n",
    "        ,new_tx_str\n",
    "        ,year\n",
    "    )\n",
    ", t1 as \n",
    "    (        \n",
    "    select\n",
    "        rubricName\n",
    "        ,new_tx_str\n",
    "        ,max(cnt_2020) cnt_2020\n",
    "        ,max(cnt_2021) cnt_2021\n",
    "        ,max(cnt_2022) cnt_2022\n",
    "        ,max(cnt_2023) cnt_2023\n",
    "    from t\n",
    "    group by new_tx_str, rubricName\n",
    "    )\n",
    ", t2 as \n",
    "    (\n",
    "    select\n",
    "        'Топ-70 рубрик' as rubricName\n",
    "        ,new_tx_str\n",
    "        ,max(cnt_2020) cnt_2020\n",
    "        ,max(cnt_2021) cnt_2021\n",
    "        ,max(cnt_2022) cnt_2022\n",
    "        ,max(cnt_2023) cnt_2023\n",
    "    from t\n",
    "    group by 'Топ-70 рубрик', new_tx_str\n",
    "    )\n",
    ", t3 as \n",
    "    (\n",
    "    select * from t1\n",
    "    union all\n",
    "    select * from t2\n",
    "    )\n",
    "\n",
    "select *, cnt_2020+cnt_2021+cnt_2022+cnt_2023 as cnt_total, row_number() over(partition by rubricName order by cnt_2020+cnt_2021+cnt_2022+cnt_2023 desc) rn\n",
    "from t3\n",
    "        \n",
    "''').where('rn < 32')"
   ]
  },
  {
   "cell_type": "code",
   "execution_count": 197,
   "id": "c8267397-77d4-4587-acc9-c449efb21afd",
   "metadata": {},
   "outputs": [],
   "source": [
    "df_tx_grouped_normalize_final_str.write.mode('overwrite').parquet('df_tx_grouped_normalize_final_str')"
   ]
  },
  {
   "cell_type": "code",
   "execution_count": 214,
   "id": "0cfa9838-9538-4eb1-a6fb-f27fbf3553c6",
   "metadata": {
    "tags": []
   },
   "outputs": [],
   "source": [
    "pdf_str = spark.read.parquet('df_tx_grouped_normalize_final_str').toPandas()\n",
    "\n",
    "cols = ['Рубрика', 'Поисковый запрос', 'Количество запросов 2020', 'Количество запросов 2021', 'Количество запросов 2022', 'Количество запросов 2023', 'Количество запросов, итого', 'Рейтинг по запросам, итого']\n",
    "\n",
    "pdf_str.columns = cols\n",
    "\n",
    "rubrics = pd.read_excel('files/final_svod_master.xlsx')[['Рубрика']].iloc[:70]\n",
    "\n",
    "rubrics['Рейтинг рубрики'] = rubrics.index + 1\n",
    "cols.append('Рейтинг рубрики')\n",
    "\n",
    "pdf_new_str = rubrics.merge(pdf_str, how='outer')[cols]\n",
    "pdf_new_str.loc[pdf_new_str['Рубрика'] == 'Топ-70 рубрик', ['Рейтинг рубрики']] = 0\n",
    "pdf_new_str = pdf_new_str.sort_values('Рейтинг рубрики')\n",
    "#pdf_new.to_excel('df_tx_grouped_normalize_final_rated.xlsx')"
   ]
  },
  {
   "cell_type": "code",
   "execution_count": 215,
   "id": "f769d889-f417-4ffa-b372-6de04e60f33c",
   "metadata": {
    "tags": []
   },
   "outputs": [],
   "source": [
    "pdf_new_str.to_excel('pdf_new_str_new.xlsx')"
   ]
  },
  {
   "cell_type": "markdown",
   "id": "f9d9b3bf-3bcd-4712-92eb-55681eee081d",
   "metadata": {
    "jp-MarkdownHeadingCollapsed": true,
    "tags": []
   },
   "source": [
    "### По словам"
   ]
  },
  {
   "cell_type": "code",
   "execution_count": 16,
   "id": "43ed43ea-605d-4e1b-b3c4-aa2b74c04cc1",
   "metadata": {
    "tags": []
   },
   "outputs": [],
   "source": [
    "df_tx_grouped_normalize_agg = (\n",
    "    spark.read.parquet(r\"df_tx_grouped_normalize\")\n",
    "    .withColumn(\"new_tx_ex\", f.explode(f.col(\"new_tx\")))\n",
    "    .where('coalesce(new_tx_ex, \"\") !=\"\" ')\n",
    "    .groupBy(f.col(\"rubricName\"),f.col(\"new_tx_ex\"),f.col(\"year\")) \n",
    "    .agg(f.sum(\"cnt\").alias(\"count\"))\n",
    "    .sort(desc('count'))\n",
    "    #.show()\n",
    ")"
   ]
  },
  {
   "cell_type": "code",
   "execution_count": 17,
   "id": "2f334fde-17b9-4958-8ee8-19bf9fb1c561",
   "metadata": {},
   "outputs": [
    {
     "name": "stdout",
     "output_type": "stream",
     "text": [
      "CPU times: total: 0 ns\n",
      "Wall time: 6.88 s\n"
     ]
    }
   ],
   "source": [
    "%%time\n",
    "df_tx_grouped_normalize_agg.write.mode('overwrite').parquet('df_tx_grouped_normalize_agg')"
   ]
  },
  {
   "cell_type": "code",
   "execution_count": 105,
   "id": "a6238172-72cd-4cad-87df-9a73b8097894",
   "metadata": {},
   "outputs": [],
   "source": [
    "df_tx = spark.read.parquet(r\"df_tx_grouped_normalize_agg\").withColumn('check', check_stopwords_udf(f.col('new_tx_ex'))).where('check=1')\n",
    "\n",
    "df_tx.createOrReplaceTempView('df_tx')\n",
    "\n",
    "df_tx_grouped_normalize_final = spark.sql('''\n",
    "with t as\n",
    "    (\n",
    "    select\n",
    "        rubricName\n",
    "        ,new_tx_ex\n",
    "        ,case when year=2020 then sum(count) else 0 end cnt_2020\n",
    "        ,case when year=2021 then sum(count) else 0 end cnt_2021\n",
    "        ,case when year=2022 then sum(count) else 0 end cnt_2022\n",
    "        ,case when year=2023 then sum(count) else 0 end cnt_2023\n",
    "    from df_tx\n",
    "    group by \n",
    "        rubricName\n",
    "        ,new_tx_ex\n",
    "        ,year\n",
    "    )\n",
    ", t1 as (        \n",
    "select\n",
    "    rubricName\n",
    "    ,new_tx_ex\n",
    "    ,max(cnt_2020) cnt_2020\n",
    "    ,max(cnt_2021) cnt_2021\n",
    "    ,max(cnt_2022) cnt_2022\n",
    "    ,max(cnt_2023) cnt_2023\n",
    "from t\n",
    "group by new_tx_ex, rubricName\n",
    ")\n",
    "\n",
    "select *, cnt_2020+cnt_2021+cnt_2022+cnt_2023 as cnt_total, row_number() over(partition by rubricName order by cnt_2020+cnt_2021+cnt_2022+cnt_2023 desc) rn\n",
    "from t1\n",
    "        \n",
    "''').where('rn < 31')"
   ]
  },
  {
   "cell_type": "code",
   "execution_count": 113,
   "id": "52c6d3c6-6722-4935-b2b7-8714e6a32bc4",
   "metadata": {},
   "outputs": [],
   "source": [
    "df_tx_grouped_normalize_final.write.mode('overwrite').parquet('df_tx_grouped_normalize_final')"
   ]
  },
  {
   "cell_type": "code",
   "execution_count": 115,
   "id": "59107451-eeca-41fc-b3e3-f6a4392e81ab",
   "metadata": {},
   "outputs": [],
   "source": [
    "pdf = spark.read.parquet('df_tx_grouped_normalize_final').toPandas()"
   ]
  },
  {
   "cell_type": "code",
   "execution_count": 142,
   "id": "a6043cdd-7cb4-4e68-998a-3b76e477b551",
   "metadata": {},
   "outputs": [],
   "source": [
    "cols = ['Рубрика', 'Поисковое слово', 'Количество запросов 2020', 'Количество запросов 2021', 'Количество запросов 2022', 'Количество запросов 2023', 'Количество запросов, итого', 'Рейтинг по запросам, итого']\n",
    "\n",
    "pdf.columns = cols\n",
    "\n",
    "rubrics = pd.read_excel('files/final_svod_master.xlsx')[['Рубрика']].iloc[:70]\n",
    "\n",
    "rubrics['Рейтинг рубрики по запросам, итого'] = rubrics.index + 1\n",
    "\n",
    "pdf_new = rubrics.merge(pdf, how='outer')\n",
    "\n",
    "pdf_new.to_excel('df_tx_grouped_normalize_final_rated.xlsx')"
   ]
  },
  {
   "cell_type": "code",
   "execution_count": null,
   "id": "eb2523b4-55df-4494-9643-454df64b0750",
   "metadata": {},
   "outputs": [],
   "source": []
  }
 ],
 "metadata": {
  "kernelspec": {
   "display_name": "Python 3 (ipykernel)",
   "language": "python",
   "name": "python3"
  },
  "language_info": {
   "codemirror_mode": {
    "name": "ipython",
    "version": 3
   },
   "file_extension": ".py",
   "mimetype": "text/x-python",
   "name": "python",
   "nbconvert_exporter": "python",
   "pygments_lexer": "ipython3",
   "version": "3.9.12"
  }
 },
 "nbformat": 4,
 "nbformat_minor": 5
}
