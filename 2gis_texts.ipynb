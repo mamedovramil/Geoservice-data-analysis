{
 "cells": [
  {
   "cell_type": "code",
   "execution_count": 71,
   "id": "1c4c9870-f8f1-4032-9bb2-87b0393e010f",
   "metadata": {
    "tags": []
   },
   "outputs": [
    {
     "name": "stdout",
     "output_type": "stream",
     "text": [
      "Ready: 2023-04-03 00:38:53\n"
     ]
    }
   ],
   "source": [
    "%run 2gis_functions.ipynb"
   ]
  },
  {
   "cell_type": "code",
   "execution_count": 72,
   "id": "f735f502-0336-4bd3-bcb1-079a46b15d4c",
   "metadata": {},
   "outputs": [],
   "source": [
    "findspark.init()\n",
    "from pyspark.sql import SparkSession\n",
    "try:\n",
    "    spark.stop()\n",
    "except:\n",
    "    pass\n",
    "spark = SparkSession.builder\\\n",
    "        .master(\"local[*]\")\\\n",
    "        .appName('PySpark_Tutorial')\\\n",
    "        .getOrCreate()"
   ]
  },
  {
   "cell_type": "markdown",
   "id": "11d60ca1-9f84-4689-901d-df44bf7e1b19",
   "metadata": {
    "tags": []
   },
   "source": [
    "# Москва запросы"
   ]
  },
  {
   "cell_type": "code",
   "execution_count": 73,
   "id": "07fb7cef-383b-40a0-89d3-98a007f11fe1",
   "metadata": {},
   "outputs": [],
   "source": [
    "name = 'moscow'\n",
    "rubrics = pd.read_excel('files/final_svod_master.xlsx')[['Рубрика']].iloc[:70]\n",
    "#df_all = dd.read_parquet('files/df_all')\n",
    "#df_filtered = df_all.merge(rubrics, left_on='rubricName', right_on='Рубрика')\n",
    "#df_filtered.to_parquet('df_filtered')\n",
    "#df_filtered = dd.read_parquet('df_filtered')"
   ]
  },
  {
   "cell_type": "code",
   "execution_count": null,
   "id": "7e401fe0-d4ec-43d7-8381-f0599742631b",
   "metadata": {},
   "outputs": [],
   "source": [
    "prepare_requests_text(name, rubrics)"
   ]
  },
  {
   "cell_type": "code",
   "execution_count": null,
   "id": "34f50a97-f5d9-4eab-a53c-618ce2a96142",
   "metadata": {},
   "outputs": [],
   "source": [
    "make_images('files/moscow_requests.xlsx', '#C0504D', '#F2DCDB')"
   ]
  },
  {
   "cell_type": "code",
   "execution_count": null,
   "id": "10c519ad-5ff4-4e42-930d-54620e51e531",
   "metadata": {},
   "outputs": [],
   "source": [
    "copy_images_texts('files/moscow_requests.xlsx', r\"C:\\Users\\Mamed\\YandexDisk\\_Documents\\Проекты\\2ГИС 2023\\Москва\\Статья_ШТ_Москва. Подсмотрено 2ГИС. Запросы_230402_0345.docx\")"
   ]
  },
  {
   "cell_type": "markdown",
   "id": "b3858c33-5b60-48e3-a384-acc75d00a86b",
   "metadata": {
    "tags": []
   },
   "source": [
    "# Новосибирск запросы"
   ]
  },
  {
   "cell_type": "code",
   "execution_count": 3,
   "id": "5d513eba-315c-406c-903a-d08d590f53a6",
   "metadata": {},
   "outputs": [
    {
     "name": "stdout",
     "output_type": "stream",
     "text": [
      "[########################################] | 100% Completed | 29m 28s\n"
     ]
    }
   ],
   "source": [
    "name = 'novosib'\n",
    "rubrics = pd.read_excel(r\"C:\\Users\\Mamed\\YandexDisk\\_Documents\\Проекты\\2ГИС 2023\\Backups\\_Final\\Мастер_таблица_2ГИС_Новосибирск_230322_2345.xlsx\")[['Рубрика']].iloc[:70]\n",
    "\n",
    "df1 = dd.read_csv(r\"D:\\файлы_2гис_2023\\Новосибирск\\Новосибирск_2021_974792.csv\", dtype={'fl': 'object'})[['rubricName','time', 'date','tx']]\n",
    "df2 = dd.read_csv(r\"D:\\файлы_2гис_2023\\Новосибирск\\Новосибирск_2022_974795.csv\", dtype={'fl': 'object'})[['rubricName','time', 'date','tx']]\n",
    "df3 = dd.read_csv(r\"D:\\файлы_2гис_2023\\Новосибирск\\Новосибирск_2023_974796.csv\", dtype={'fl': 'object'})[['rubricName','time', 'date','tx']]\n",
    "df4 = dd.read_csv(r\"D:\\файлы_2гис_2023\\Новосибирск\\Новосибирск_2020_974791.csv\", dtype={'fl': 'object'})[['rubricName','time', 'date','tx']]\n",
    "\n",
    "df_all = dd.concat([df1, df2, df3, df4])\n",
    "df_filtered = df_all.merge(rubrics, left_on='rubricName', right_on='Рубрика')\n",
    "df_filtered.to_parquet(f'df_filtered_{name}')\n",
    "df_filtered = dd.read_parquet(f'df_filtered_{name}')"
   ]
  },
  {
   "cell_type": "code",
   "execution_count": null,
   "id": "a3169393-bfba-4eec-b87c-d11249782e66",
   "metadata": {
    "tags": []
   },
   "outputs": [],
   "source": [
    "prepare_requests_text(name, rubrics)"
   ]
  },
  {
   "cell_type": "code",
   "execution_count": null,
   "id": "06893489-05af-4046-bfb6-8c572587d3c7",
   "metadata": {
    "tags": []
   },
   "outputs": [],
   "source": [
    "make_images('files/requests_text_novosib.xlsx', '#4F81BD', '#B8CCE4')"
   ]
  },
  {
   "cell_type": "markdown",
   "id": "c5c443fb-6dce-426e-bd56-a43a1ccf8dd4",
   "metadata": {
    "tags": []
   },
   "source": [
    "# Алматы запросы"
   ]
  },
  {
   "cell_type": "code",
   "execution_count": 4,
   "id": "36f8ad54-d26d-4edb-9cda-6b5d6b9edcbf",
   "metadata": {},
   "outputs": [
    {
     "name": "stdout",
     "output_type": "stream",
     "text": [
      "[########################################] | 100% Completed | 49m 25s\n"
     ]
    }
   ],
   "source": [
    "name = 'almati'\n",
    "rubrics = pd.read_excel(r\"C:\\Users\\Mamed\\YandexDisk\\_Documents\\Проекты\\2ГИС 2023\\Backups\\_Final\\Мастер_таблица_2ГИС_Алматы_230326_0030.xlsx\")[['Рубрика']].iloc[:70]\n",
    "\n",
    "df1 = dd.read_csv(r\"D:\\файлы_2гис_2023\\Алматы\\Алматы_2020_974797.csv\", dtype={'fl': 'object'})[['rubricName','time', 'date','tx']]\n",
    "df2 = dd.read_csv(r\"D:\\файлы_2гис_2023\\Алматы\\Алматы_2021_974798.csv\", dtype={'fl': 'object'})[['rubricName','time', 'date','tx']]\n",
    "df3 = dd.read_csv(r\"D:\\файлы_2гис_2023\\Алматы\\Алматы_2022_974799.csv\", dtype={'fl': 'object'})[['rubricName','time', 'date','tx']]\n",
    "df4 = dd.read_csv(r\"D:\\файлы_2гис_2023\\Алматы\\Алматы_2023_974800.csv\", dtype={'fl': 'object'})[['rubricName','time', 'date','tx']]\n",
    "\n",
    "df_all = dd.concat([df1, df2, df3, df4])\n",
    "df_filtered = df_all.merge(rubrics, left_on='rubricName', right_on='Рубрика')\n",
    "df_filtered.to_parquet(f'df_filtered_{name}')\n",
    "df_filtered = dd.read_parquet(f'df_filtered_{name}')"
   ]
  },
  {
   "cell_type": "code",
   "execution_count": null,
   "id": "2586d67e-5290-4679-b29f-ff8542cdd209",
   "metadata": {
    "tags": []
   },
   "outputs": [],
   "source": [
    "prepare_requests_text(name, rubrics)"
   ]
  },
  {
   "cell_type": "code",
   "execution_count": null,
<<<<<<< HEAD
   "id": "02ab6e94-d38c-4cf8-8a37-c12cce7efddc",
   "metadata": {},
   "outputs": [],
   "source": [
    "Аламты:\n",
    "- заголовок: #9BBB59\n",
    "- зебра: #EBF1DE\n",
    "Новосибирск:\n",
    "- заголовок: #4F81BD\n",
    "- зебра: #B8CCE4"
   ]
  },
  {
   "cell_type": "code",
   "execution_count": null,
<<<<<<< HEAD
   "id": "f1364273-ace9-4b4d-a754-0dd1f3658b25",
=======
   "id": "75715160-1d4d-4096-a867-5ac7d653ffe8",
>>>>>>> cb8e80b (Доработка горизонтальных графиков)
   "metadata": {
    "tags": []
   },
   "outputs": [],
   "source": [
    "make_images('requests_text_novosib.xlsx', '#4F81BD', '#B8CCE4')"
   ]
  },
  {
<<<<<<< HEAD
   "cell_type": "code",
   "execution_count": null,
   "id": "0ebf3c80-901d-46bc-9e74-f6774ac89cf1",
   "metadata": {
    "tags": []
   },
   "outputs": [],
   "source": [
    "make_images('requests_text_almati.xlsx', '#9BBB59', '#EBF1DE')"
   ]
  },
  {
=======
>>>>>>> cb8e80b (Доработка горизонтальных графиков)
   "cell_type": "markdown",
   "id": "c5c443fb-6dce-426e-bd56-a43a1ccf8dd4",
   "metadata": {
    "tags": []
   },
   "source": [
    "# Алматы запросы"
   ]
  },
  {
   "cell_type": "code",
   "execution_count": 32,
   "id": "bf1ed35f-d3d7-4101-bfc2-351ff5796eed",
   "metadata": {},
   "outputs": [],
   "source": [
    "name = 'almati'\n",
    "rubrics = pd.read_excel(r\"C:\\Users\\Mamed\\YandexDisk\\_Documents\\Проекты\\2ГИС 2023\\Рамиль\\Мастер_таблица_2ГИС_Алматы_230326_0030.xlsx\")[['Рубрика']].iloc[:70]\n",
    "\n",
    "df1 = dd.read_csv(r\"D:\\файлы_2гис_2023\\Алматы\\Алматы_2020_974797.csv\", dtype={'fl': 'object'})[['rubricName','date','tx']]\n",
    "df2 = dd.read_csv(r\"D:\\файлы_2гис_2023\\Алматы\\Алматы_2021_974798.csv\", dtype={'fl': 'object'})[['rubricName','date','tx']]\n",
    "df3 = dd.read_csv(r\"D:\\файлы_2гис_2023\\Алматы\\Алматы_2022_974799.csv\", dtype={'fl': 'object'})[['rubricName','date','tx']]\n",
    "df4 = dd.read_csv(r\"D:\\файлы_2гис_2023\\Алматы\\Алматы_2023_974800.csv\", dtype={'fl': 'object'})[['rubricName','date','tx']]\n",
    "\n",
    "df_all = dd.concat([df1, df2, df3, df4])\n",
    "df_filtered = df_all.merge(rubrics, left_on='rubricName', right_on='Рубрика')\n",
    "df_filtered.to_parquet(f'df_filtered_{name}')\n",
    "df_filtered = dd.read_parquet(f'df_filtered_{name}')"
   ]
  },
  {
   "cell_type": "code",
   "execution_count": null,
=======
>>>>>>> 413c0ab (Таблицы с лого и шрифтом)
   "id": "8b33e447-1357-420e-9116-6070cedde54e",
   "metadata": {
    "tags": []
   },
   "outputs": [],
   "source": [
    "make_images('requests_text_almati.xlsx', '#9BBB59', '#EBF1DE')"
   ]
  }
 ],
 "metadata": {
  "kernelspec": {
   "display_name": "Python 3 (ipykernel)",
   "language": "python",
   "name": "python3"
  },
  "language_info": {
   "codemirror_mode": {
    "name": "ipython",
    "version": 3
   },
   "file_extension": ".py",
   "mimetype": "text/x-python",
   "name": "python",
   "nbconvert_exporter": "python",
   "pygments_lexer": "ipython3",
   "version": "3.9.12"
  }
 },
 "nbformat": 4,
 "nbformat_minor": 5
}
