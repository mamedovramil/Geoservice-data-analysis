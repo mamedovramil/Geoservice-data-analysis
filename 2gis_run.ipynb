{
 "cells": [
  {
   "cell_type": "code",
   "execution_count": 14,
   "id": "5c7cc2d1-be00-4944-8a7c-15da77ca9c26",
   "metadata": {},
   "outputs": [
    {
     "name": "stdout",
     "output_type": "stream",
     "text": [
      "Ready: 2023-04-05 22:57:39\n"
     ]
    }
   ],
   "source": [
    "%run 2gis_functions.ipynb"
   ]
  },
  {
   "cell_type": "code",
   "execution_count": 4,
   "id": "35d9f2a0-5c9f-41e5-9820-2dadde0aa384",
   "metadata": {
    "tags": []
   },
   "outputs": [
    {
     "data": {
      "text/html": [
       "\n",
       "            <div>\n",
       "                <p><b>SparkSession - in-memory</b></p>\n",
       "                \n",
       "        <div>\n",
       "            <p><b>SparkContext</b></p>\n",
       "\n",
       "            <p><a href=\"http://host.docker.internal:4040\">Spark UI</a></p>\n",
       "\n",
       "            <dl>\n",
       "              <dt>Version</dt>\n",
       "                <dd><code>v3.3.1</code></dd>\n",
       "              <dt>Master</dt>\n",
       "                <dd><code>local[*]</code></dd>\n",
       "              <dt>AppName</dt>\n",
       "                <dd><code>PySpark_Tutorial</code></dd>\n",
       "            </dl>\n",
       "        </div>\n",
       "        \n",
       "            </div>\n",
       "        "
      ],
      "text/plain": [
       "<pyspark.sql.session.SparkSession at 0x28d677cd490>"
      ]
     },
     "execution_count": 4,
     "metadata": {},
     "output_type": "execute_result"
    }
   ],
   "source": [
    "findspark.init()\n",
    "from pyspark.sql import SparkSession\n",
    "try:\n",
    "    spark.stop()\n",
    "except:\n",
    "    pass\n",
    "spark = SparkSession.builder\\\n",
    "        .master(\"local[*]\")\\\n",
    "        .appName('PySpark_Tutorial')\\\n",
    "        .getOrCreate()\n",
    "spark"
   ]
  },
  {
   "cell_type": "code",
   "execution_count": 23,
   "id": "fe380c95-808d-4a24-b94a-9749c98a2429",
   "metadata": {},
   "outputs": [],
   "source": [
    "@show_time\n",
    "def count_itogo_users(*files):\n",
    "    file_path = \"\\\\\".join(files[0].split(\"\\\\\")[:-1]) + \"\\\\\" + files[0].split(\"\\\\\")[-2]\n",
    "    d = {}\n",
    "    for file_path in files:\n",
    "        df = dd.read_csv(file_path, dtype={'user': 'object'}, on_bad_lines='skip')[['user', 'rubricName', 'date']]\n",
    "        year = file_path.split('_')[-2]\n",
    "        user_cnt_year = df.user.nunique().compute()\n",
    "        d[year] = user_cnt_year\n",
    "        print(year, user_cnt_year)\n",
    "    df_list = [dd.read_csv(file_path, dtype={'user': 'object'}, on_bad_lines='skip')[['rubricName', 'user']] for file_path in files]\n",
    "    df_all = dd.concat(df_list)\n",
    "    cnt_user_total = df_all.user.nunique().compute()\n",
    "    d['Итого'] = cnt_user_total\n",
    "    print(cnt_user_total)\n",
    "    cnt_df = pd.DataFrame([d], index=[\"Итого\"])\n",
    "    cnt_df.to_csv(f'{file_path}_cnt_user_itogo.csv', index=False)\n",
    "    return cnt_df\n",
    "        \n",
    "def count_users_requests(file_path):\n",
    "    try:\n",
    "        cnt_user_grouped_year = dd.read_csv(f'{file_path}_count_users_requests.csv')\n",
    "        print('read ' + f'{file_path}_count_users_requests.csv')\n",
    "    except:\n",
    "        year = file_path.split('_')[-2]\n",
    "        requests_name = f'Запросы {year}'\n",
    "        users_name = f'Пользователи {year}'\n",
    "        df = dd.read_csv(file_path, dtype={'user': 'object'}, on_bad_lines='skip')[['user', 'rubricName', 'date']]\n",
    "        cnt_user_grouped = df.groupby('rubricName').user.nunique().to_frame()\n",
    "        cnt_req_grouped = df.groupby('rubricName').date.count().to_frame()\n",
    "        cnt_user_grouped_year = (cnt_req_grouped\n",
    "                      .merge(cnt_user_grouped, left_on='rubricName', right_on='rubricName')\n",
    "                      .rename(columns={'date':requests_name, 'user':users_name})\n",
    "                      .sort_values(requests_name, ascending=False)\n",
    "                      .fillna(0)\n",
    "                      .astype(int)\n",
    "                      )\n",
    "        cnt_user_grouped_year.to_csv(f'{file_path}_count_users_requests.csv', single_file=True)\n",
    "    finally:\n",
    "        df = dd.read_csv(f'{file_path}_count_users_requests.csv')\n",
    "\n",
    "    return df\n",
    "\n",
    "@show_time\n",
    "def count_total_users(*files):\n",
    "    file_path = \"\\\\\".join(files[0][0].split(\"\\\\\")[:-1]) + \"\\\\\" + files[0][0].split(\"\\\\\")[-2]\n",
    "    try:\n",
    "        cnt_user_grouped_total = dd.read_csv(\"{}_count_total_users.csv\".format(file_path))\n",
    "        print('read ' + \"{}_count_total_users.csv\".format(file_path))\n",
    "    except:\n",
    "        df_list = [dd.read_csv(file_path, dtype={'user': 'object'}, on_bad_lines='skip')[['rubricName', 'user']] for file_path in files]\n",
    "        df_all = dd.concat(df_list)\n",
    "        cnt_user_grouped_total = df_all.groupby('rubricName').user.nunique().to_frame().rename(columns={'user':'Пользователи, итого'})\n",
    "        cnt_user_grouped_total.to_csv(f'{file_path}_count_total_users.csv', single_file=True)\n",
    "    finally:\n",
    "        df = dd.read_csv(\"{}_count_total_users.csv\".format(file_path))\n",
    "    return df\n",
    "\n",
    "@show_time\n",
    "def make_base_counted_file(*files):\n",
    "    file_path = \"\\\\\".join(files[0].split(\"\\\\\")[:3]) + \"\\\\\" + files[0].split(\"\\\\\")[2]\n",
    "    df = count_users_requests(files[0])\n",
    "    for file in files[1:]:\n",
    "        df = df.merge(count_users_requests(file), left_on='rubricName', right_on='rubricName', how='outer')\n",
    "    df = df.merge(count_total_users(files), left_on='rubricName', right_on='rubricName', how='outer')\n",
    "    df.to_csv(f'{file_path}_master_file.csv', single_file=True, index=False)\n",
    "    return df\n",
    "\n",
    "from dask.diagnostics import ProgressBar\n",
    "ProgressBar().register()"
   ]
  },
  {
   "cell_type": "code",
   "execution_count": 25,
   "id": "c441543a-11fd-43ec-887f-e4c009197f96",
   "metadata": {},
   "outputs": [
    {
     "name": "stdout",
     "output_type": "stream",
     "text": [
      "[########################################] | 100% Completed | 6.39 ss\n",
      "[########################################] | 100% Completed | 6.50 s\n",
      "[########################################] | 100% Completed | 6.61 s\n",
      "2020 19220\n",
      "[########################################] | 100% Completed | 685.51 ms\n",
      "[########################################] | 100% Completed | 788.10 ms\n",
      "[########################################] | 100% Completed | 895.66 ms\n",
      "2021 5337\n",
      "[########################################] | 100% Completed | 1.98 ss\n",
      "[########################################] | 100% Completed | 2.08 s\n",
      "[########################################] | 100% Completed | 2.16 s\n",
      "2022 10975\n",
      "[########################################] | 100% Completed | 2.34 ss\n",
      "[########################################] | 100% Completed | 2.38 s\n",
      "[########################################] | 100% Completed | 2.43 s\n",
      "2023 20240\n",
      "[########################################] | 100% Completed | 3.98 ss\n",
      "[########################################] | 100% Completed | 4.00 s\n",
      "[########################################] | 100% Completed | 4.10 s\n",
      "51622\n",
      "Start:     2023-04-05 23:01:53\n",
      "End:       2023-04-05 23:02:09\n",
      "Duration:  0:00:16\n"
     ]
    }
   ],
   "source": [
    "d = count_itogo_users(\n",
    "\"D:\\файлы_2гис_2023\\Баку\\Баку_2020_975740.csv\",\n",
    "\"D:\\файлы_2гис_2023\\Баку\\Баку_2021_975746.csv\",\n",
    "\"D:\\файлы_2гис_2023\\Баку\\Баку_2022_975747.csv\",\n",
    "\"D:\\файлы_2гис_2023\\Баку\\Баку_2023_975748.csv\",\n",
    ")"
   ]
  },
  {
   "cell_type": "code",
   "execution_count": 26,
   "id": "312c116b-6812-4ce2-b8a8-3134172ae3c9",
   "metadata": {},
   "outputs": [
    {
     "data": {
      "text/html": [
       "<div>\n",
       "<style scoped>\n",
       "    .dataframe tbody tr th:only-of-type {\n",
       "        vertical-align: middle;\n",
       "    }\n",
       "\n",
       "    .dataframe tbody tr th {\n",
       "        vertical-align: top;\n",
       "    }\n",
       "\n",
       "    .dataframe thead th {\n",
       "        text-align: right;\n",
       "    }\n",
       "</style>\n",
       "<table border=\"1\" class=\"dataframe\">\n",
       "  <thead>\n",
       "    <tr style=\"text-align: right;\">\n",
       "      <th></th>\n",
       "      <th>2020</th>\n",
       "      <th>2021</th>\n",
       "      <th>2022</th>\n",
       "      <th>2023</th>\n",
       "      <th>Итого</th>\n",
       "    </tr>\n",
       "  </thead>\n",
       "  <tbody>\n",
       "    <tr>\n",
       "      <th>Итого</th>\n",
       "      <td>19220</td>\n",
       "      <td>5337</td>\n",
       "      <td>10975</td>\n",
       "      <td>20240</td>\n",
       "      <td>51622</td>\n",
       "    </tr>\n",
       "  </tbody>\n",
       "</table>\n",
       "</div>"
      ],
      "text/plain": [
       "        2020  2021   2022   2023  Итого\n",
       "Итого  19220  5337  10975  20240  51622"
      ]
     },
     "execution_count": 26,
     "metadata": {},
     "output_type": "execute_result"
    }
   ],
   "source": [
    "d"
   ]
  },
  {
   "cell_type": "code",
   "execution_count": 8,
   "id": "a2540028-6acf-4ee8-96e6-55323255293e",
   "metadata": {},
   "outputs": [
    {
     "name": "stdout",
     "output_type": "stream",
     "text": [
      "[########################################] | 100% Completed | 309.06 s\n",
      "[########################################] | 100% Completed | 309.16 s\n",
      "[########################################] | 100% Completed | 309.27 s\n",
      "[########################################] | 100% Completed | 309.37 s\n",
      "[########################################] | 100% Completed | 309.48 s\n",
      "2020 790636\n",
      "[########################################] | 100% Completed | 343.20 s\n",
      "[########################################] | 100% Completed | 343.31 s\n",
      "[########################################] | 100% Completed | 343.42 s\n",
      "[########################################] | 100% Completed | 343.52 s\n",
      "[########################################] | 100% Completed | 343.63 s\n",
      "2021 828082\n",
      "[########################################] | 100% Completed | 397.01 s\n",
      "[########################################] | 100% Completed | 397.12 s\n",
      "[########################################] | 100% Completed | 397.22 s\n",
      "[########################################] | 100% Completed | 397.33 s\n",
      "[########################################] | 100% Completed | 397.43 s\n",
      "2022 1032340\n",
      "[########################################] | 100% Completed | 13m 18s\n",
      "[########################################] | 100% Completed | 13m 18s\n",
      "[########################################] | 100% Completed | 13m 18s\n",
      "[########################################] | 100% Completed | 13m 18s\n",
      "[########################################] | 100% Completed | 13m 18s\n",
      "2023 1313830\n",
      "[########################################] | 100% Completed | 31m 50s\n",
      "[########################################] | 100% Completed | 31m 50s\n",
      "[########################################] | 100% Completed | 31m 50s\n",
      "[########################################] | 100% Completed | 31m 50s\n",
      "[########################################] | 100% Completed | 31m 50s\n",
      "2723378\n",
      "Start:     2023-04-05 00:44:15\n",
      "End:       2023-04-05 01:47:01\n",
      "Duration:  1:02:46\n"
     ]
    }
   ],
   "source": [
    "d = count_itogo_users(\n",
    "\"D:\\файлы_2гис_2023\\Астана\\Астана_2020_975007.csv\",\n",
    "\"D:\\файлы_2гис_2023\\Астана\\Астана_2021_975009.csv\",\n",
    "\"D:\\файлы_2гис_2023\\Астана\\Астана_2022_975011.csv\",\n",
    "\"D:\\файлы_2гис_2023\\Астана\\Астана_2023_975039.csv\",\n",
    "\n",
    ")"
   ]
  },
  {
   "cell_type": "markdown",
   "id": "7926a108-a69a-4ac2-b07a-9618ce8928c9",
   "metadata": {},
   "source": [
    "# {'2020': 790636,\n",
    " '2021': 828082,\n",
    " '2022': 1032340,\n",
    " '2023': 1313830,\n",
    " 'total': 2723378}"
   ]
  },
  {
   "cell_type": "code",
   "execution_count": null,
   "id": "9bd4b395-f2cb-4eda-b334-ab78f48d09b6",
   "metadata": {},
   "outputs": [],
   "source": [
    "# {'2020': 790636,\n",
    " '2021': 828082,\n",
    " '2022': 1032340,\n",
    " '2023': 1313830,\n",
    " 'total': 2723378}"
   ]
  },
  {
   "cell_type": "code",
   "execution_count": 8,
   "id": "328e8343-5bd4-4d46-9e7a-08d28c1e1330",
   "metadata": {},
   "outputs": [],
   "source": [
    "d = {'2020': 790636,\n",
    " '2021': 828082,\n",
    " '2022': 1032340,\n",
    " '2023': 1313830,\n",
    " 'Итого': 2723378}"
   ]
  },
  {
   "cell_type": "code",
   "execution_count": 10,
   "id": "f072d094-46ff-4782-a88a-56fe1a5f2951",
   "metadata": {},
   "outputs": [],
   "source": [
    "import pandas as pd"
   ]
  },
  {
   "cell_type": "code",
   "execution_count": 12,
   "id": "c0c7c2a4-209b-4044-88b6-f46238475d09",
   "metadata": {},
   "outputs": [
    {
     "data": {
      "text/html": [
       "<div>\n",
       "<style scoped>\n",
       "    .dataframe tbody tr th:only-of-type {\n",
       "        vertical-align: middle;\n",
       "    }\n",
       "\n",
       "    .dataframe tbody tr th {\n",
       "        vertical-align: top;\n",
       "    }\n",
       "\n",
       "    .dataframe thead th {\n",
       "        text-align: right;\n",
       "    }\n",
       "</style>\n",
       "<table border=\"1\" class=\"dataframe\">\n",
       "  <thead>\n",
       "    <tr style=\"text-align: right;\">\n",
       "      <th></th>\n",
       "      <th>2020</th>\n",
       "      <th>2021</th>\n",
       "      <th>2022</th>\n",
       "      <th>2023</th>\n",
       "      <th>Итого</th>\n",
       "    </tr>\n",
       "  </thead>\n",
       "  <tbody>\n",
       "    <tr>\n",
       "      <th>Итого</th>\n",
       "      <td>790636</td>\n",
       "      <td>828082</td>\n",
       "      <td>1032340</td>\n",
       "      <td>1313830</td>\n",
       "      <td>2723378</td>\n",
       "    </tr>\n",
       "  </tbody>\n",
       "</table>\n",
       "</div>"
      ],
      "text/plain": [
       "         2020    2021     2022     2023    Итого\n",
       "Итого  790636  828082  1032340  1313830  2723378"
      ]
     },
     "execution_count": 12,
     "metadata": {},
     "output_type": "execute_result"
    }
   ],
   "source": []
  }
 ],
 "metadata": {
  "kernelspec": {
   "display_name": "Python 3 (ipykernel)",
   "language": "python",
   "name": "python3"
  },
  "language_info": {
   "codemirror_mode": {
    "name": "ipython",
    "version": 3
   },
   "file_extension": ".py",
   "mimetype": "text/x-python",
   "name": "python",
   "nbconvert_exporter": "python",
   "pygments_lexer": "ipython3",
   "version": "3.9.12"
  }
 },
 "nbformat": 4,
 "nbformat_minor": 5
}
