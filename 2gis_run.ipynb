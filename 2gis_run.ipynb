{
 "cells": [
  {
   "cell_type": "code",
   "execution_count": 327,
   "id": "5c7cc2d1-be00-4944-8a7c-15da77ca9c26",
   "metadata": {},
   "outputs": [
    {
     "name": "stdout",
     "output_type": "stream",
     "text": [
      "Ready: 2023-04-07 02:22:16\n"
     ]
    }
   ],
   "source": [
    "%run 2gis_functions.ipynb"
   ]
  },
  {
   "cell_type": "code",
   "execution_count": null,
   "id": "8108bb79-a9e8-48d1-b1c0-9d1f4131bd1c",
   "metadata": {},
   "outputs": [],
   "source": []
  },
  {
   "cell_type": "code",
   "execution_count": 133,
   "id": "695f169f-ac6a-4cd2-b026-5f77f646cfff",
   "metadata": {},
   "outputs": [],
   "source": []
  },
  {
   "cell_type": "code",
   "execution_count": 646,
   "id": "91ba2fb0-ff4d-491f-8e65-dfe543246f59",
   "metadata": {},
   "outputs": [],
   "source": [
    "df = pd.read_excel(r\"C:\\Users\\Mamed\\YandexDisk\\_Documents\\Проекты\\2ГИС 2023\\Астана\\Мастер_таблица_2ГИС_Астана_230406_0045.xlsx\")\n",
    "#df = pd.read_excel(r\"C:\\Users\\Mamed\\YandexDisk\\_Documents\\Проекты\\2ГИС 2023\\Алматы\\Мастер_таблица_2ГИС_Алматы_230326_0030.xlsx\", sheet_name='r1')\n",
    "df = df[(df['№']!='Итог')]\n",
    "cols = [\n",
    "    'Рубрика' \n",
    "    ,'Пользователи, итого'\n",
    "    ,'Пользователи, %'\n",
    "    ,'Запросы, итого'\n",
    "    ,'Запросы, %'\n",
    "    ,'Запросов на пользователя, итого'\n",
    "    ,'Рейтинг стабильности\\nчисла запросов на пользователя'\n",
    "    #,'Антирейтинг схожести динамики\\nпользователей и запросов на пользователя'\n",
    "]\n",
    "col = cols[-1]"
   ]
  },
  {
   "cell_type": "code",
   "execution_count": 645,
   "id": "9c698c27-4e5c-4502-af7f-9e71b9214516",
   "metadata": {},
   "outputs": [],
   "source": [
    "df_short = df[cols][(df[col]>0)&(df['№']!='Итог')\n",
    "                   ].sort_values(col).iloc[:15]#.round(2)\n",
    "\n",
    "new_cols = [\n",
    "    'Рубрика' \n",
    "    ,'Рейтинг постоянного роста\\nзапросов 2022-2023'\n",
    "    ,'Рейтинг постоянного падения\\nзапросов 2022-2023'\n",
    "    ,'Рейтинг постоянного роста\\nпользователей 2022-2023'\n",
    "    ,'Рейтинг схожести динамики\\nпользователей и запросов'\n",
    "    ,'Рейтинг постоянного падения\\nпользователей 2022-2023'\n",
    "    ,'Рейтинг стабильности\\nчисла запросов\\nна пользователя'\n",
    "    #,'Антирейтинг схожести динамики\\nпользователей и запросов на пользователя'\n",
    "]\n",
    "\n",
    "df_short.columns = new_cols"
   ]
  },
  {
   "cell_type": "code",
   "execution_count": 627,
   "id": "9f4efa8c-f68e-4da5-a754-db93751a4ff2",
   "metadata": {
    "tags": []
   },
   "outputs": [],
   "source": [
    "def change_type_df(df_short, make_sep=False):\n",
    "    for i in df_short.columns:\n",
    "        if '%' in i:\n",
    "            df_short[i] = df_short[i].astype('float64')\n",
    "        if 'итого' in i or 'ейтинг' in i or '20' in i:\n",
    "            df_short[i] = df_short[i].astype('int')\n",
    "        if df_short[i].dtype == 'float64':\n",
    "            df_short[i] = df_short[i].round(2)\n",
    "        if make_sep and df_short[i].dtype == 'int':\n",
    "            df_short[i] = df_short[i].apply(make_sep)\n",
    "    return df_short"
   ]
  },
  {
   "cell_type": "markdown",
   "id": "77311890-2145-4a77-a30d-d8e36f06577a",
   "metadata": {
    "jupyter": {
     "outputs_hidden": true
    },
    "tags": []
   },
   "source": [
    "render_mpl_table(df_short,'test')"
   ]
  },
  {
   "cell_type": "code",
   "execution_count": 933,
   "id": "46a65bec-6bfe-44ec-8a39-d3b6ac2f6788",
   "metadata": {
    "tags": []
   },
   "outputs": [],
   "source": [
    "def colorize_column(df, nrows=15, *cols_not_to_color):\n",
    "    colors_dict = {}\n",
    "    color_list_full = ['#F96A6C', '#F96B6C', '#F96C6C', '#F96D6C', '#F96E6C', '#F96F6D', '#F9706D', '#F9716D', '#F9726D', '#F9736D', '#F9746E', '#F9756E', '#F9766E', '#F9776E', '#F9786E', '#F9796E', '#F9796F', '#F97A6F'\n",
    "                   , '#F97B6F', '#F97C6F', '#FA7C6F', '#FA7D6F', '#FA7E6F', '#FA7E70', '#FA7F70', '#FA8070', '#FA8170', '#FA8270', '#FA8370', '#FA8471', '#FA8571', '#FA8671', '#FA8771', '#FA8871', '#FA8972', '#FA8A72'\n",
    "                   , '#FA8B72', '#FA8C72', '#FA8D72', '#FA8E73', '#FB8F73', '#FB9073', '#FB9173', '#FB9273', '#FB9373', '#FB9374', '#FB9474', '#FB9574', '#FB9674', '#FB9774', '#FB9874', '#FB9875', '#FB9975', '#FB9A75'\n",
    "                   , '#FB9B75', '#FB9C75', '#FB9D75', '#FB9E76', '#FB9F76', '#FBA076', '#FBA176', '#FCA176', '#FCA276', '#FCA377', '#FCA477', '#FCA577', '#FCA677', '#FCA777', '#FCA877', '#FCA878', '#FCA978', '#FCAA78'\n",
    "                   , '#FCAB78', '#FCAC78', '#FCAD78', '#FCAD79', '#FCAE79', '#FCAF79', '#FCB079', '#FCB179', '#FCB279', '#FCB27A', '#FCB37A', '#FDB47A', '#FDB57A', '#FDB67A', '#FDB77A', '#FDB87B', '#FDB97B', '#FDBA7B'\n",
    "                   , '#FDBB7B', '#FDBC7B', '#FDBD7C', '#FDBE7C', '#FDBF7C', '#FDC07C', '#FDC17C', '#FDC27C', '#FDC27D', '#FDC37D', '#FDC47D', '#FDC57D', '#FDC67D', '#FEC77D', '#FEC77E', '#FEC87E', '#FEC97E', '#FECA7E'\n",
    "                   , '#FECB7E', '#FECC7E', '#FECC7F', '#FECD7F', '#FECE7F', '#FECF7F', '#FED07F', '#FED17F', '#FED280', '#FED380', '#FED480', '#FED580', '#FED680', '#FED781', '#FED881', '#FFD981', '#FFDA81', '#FFDB81'\n",
    "                   , '#FFDC81', '#FFDC82', '#FFDD82', '#FFDE82', '#FFDF82', '#FFE082', '#FFE182', '#FFE183', '#FFE283', '#FFE383', '#FFE483', '#FFE583', '#FFE683', '#FFE784', '#FFE884', '#FFE984', '#FFEA84', '#FFEB84'\n",
    "                   , '#FEEA83', '#FDEA83', '#FCEA83', '#FBEA83', '#FAE983', '#F9E983', '#F8E983', '#F7E883', '#F6E883', '#F5E883', '#F4E883', '#F4E783', '#F3E783', '#F2E783', '#F1E783', '#F0E683', '#EFE683', '#EEE683'\n",
    "                   ,'#EDE683', '#EDE582', '#ECE582', '#EBE582', '#EAE582', '#EAE482', '#E9E482', '#E8E482', '#E7E482', '#E6E482', '#E6E382', '#E5E382', '#E4E382', '#E3E382', '#E3E282', '#E2E282', '#E1E282', '#E0E282'\n",
    "                   , '#DFE182', '#DEE182', '#DDE182', '#DCE182', '#DCE081', '#DBE081', '#DAE081', '#D9E081', '#D8DF81', '#D7DF81', '#D6DF81', '#D5DF81', '#D4DE81', '#D3DE81', '#D2DE81', '#D1DD81', '#D0DD81', '#CFDD81'\n",
    "                   , '#CEDD81', '#CDDC81', '#CCDC81', '#CBDC81', '#CADB80', '#C9DB80', '#C8DB80', '#C7DB80', '#C7DA80', '#C6DA80', '#C5DA80', '#C4DA80', '#C3D980', '#C2D980', '#C1D980', '#C0D980', '#C0D880', '#BFD880'\n",
    "                   , '#BED880', '#BDD880', '#BDD780', '#BCD780', '#BBD780', '#BAD780', '#B9D780', '#B9D67F', '#B8D67F', '#B7D67F', '#B6D67F', '#B6D57F', '#B5D57F', '#B4D57F', '#B3D57F', '#B2D47F', '#B1D47F', '#B0D47F'\n",
    "                   , '#AFD47F', '#AED37F', '#ADD37F', '#ACD37F', '#ABD27F', '#AAD27F', '#A9D27F', '#A8D27F', '#A7D17E', '#A6D17E', '#A5D17E', '#A4D07E', '#A3D07E', '#A2D07E', '#A1D07E', '#A0CF7E', '#9FCF7E', '#9ECF7E'\n",
    "                   , '#9DCE7E', '#9CCE7E', '#9BCE7E', '#9ACE7E', '#9ACD7E', '#99CD7E', '#98CD7E', '#97CD7E', '#96CC7D', '#95CC7D', '#94CC7D', '#93CC7D', '#93CB7D', '#92CB7D', '#91CB7D', '#90CB7D', '#90CA7D', '#8FCA7D'\n",
    "                   , '#8ECA7D', '#8DCA7D', '#8CCA7D', '#8CC97D', '#8BC97D', '#8AC97D', '#89C97D', '#88C87D', '#87C87D', '#86C87D', '#85C77C', '#84C77C', '#83C77C', '#82C77C', '#81C67C', '#80C67C', '#7FC67C', '#7EC57C'\n",
    "                   , '#7DC57C', '#7CC57C', '#7BC57C', '#7AC47C', '#79C47C', '#78C47C', '#77C37C', '#76C37C', '#75C37C', '#74C37C', '#73C27B'\n",
    "                   , '#72C27B', '#71C27B', '#70C17B', '#6FC17B', '#6EC17B', '#6DC17B', '#6DC07B', '#6CC07B', '#6BC07B', '#6AC07B', '#69BF7B', '#68BF7B', '#67BF7B', '#66BF7B', '#66BE7B', '#65BE7B', '#64BE7B', '#63BE7B']\n",
    "    cols_to_color = [i for i in range(len(df.columns)) if i not in cols_not_to_color]\n",
    "    for column_index in cols_to_color:\n",
    "        column_name = df.columns[column_index]\n",
    "        ind = df[[column_name]].sort_values(column_name, ascending=False).index\n",
    "        colors_for_col = []\n",
    "        num = len(ind) // len(color_list_full)\n",
    "        diff = len(ind) % len(color_list_full)\n",
    "        step = len(color_list_full) // diff\n",
    "        extra_list = list(range(0, len(color_list_full), step))\n",
    "\n",
    "        for i1 in range(len(color_list_full)):\n",
    "            color = color_list_full[i1]\n",
    "            if len(color_list_full) < len(ind):\n",
    "                for _ in range(num):\n",
    "                    if len(colors_for_col) < len(ind):\n",
    "                        colors_for_col.append(color)\n",
    "                if i1 in extra_list and len(colors_for_col) < len(ind):\n",
    "                    colors_for_col.append(color)\n",
    "            else:\n",
    "                for i in range(0, len(color_list_full), len(color_list_full) // len(ind)):\n",
    "                    colors_for_col.append(color_list_full[i])\n",
    "                colors_for_col.append([color_list_full[-1]])\n",
    "        column_index = list(df.columns).index(column_name)\n",
    "        df_short = df.iloc[:nrows]\n",
    "        colors_df = pd.DataFrame(zip(ind, colors_for_col), columns=[0, column_index]).set_index(0)\n",
    "        df_merged = df_short.merge(colors_df, left_index=True, right_index=True)\n",
    "        df_merged['index_new'] = pd.Series(data=np.array(range(1,nrows+1)), index=df_merged.index)\n",
    "        new_colors_dict = df_merged.set_index('index_new').iloc[:,-1].to_dict()\n",
    "        colors_dict.update({column_index:new_colors_dict})\n",
    "    return colors_dict\n",
    "\n",
    "def make_ratings_image(df, output_file_name='test', cols_without_color=[0], dedup_cols=None, col_width=1.0, row_height=0.625, font_size=18,\n",
    "                     header_color='#C0504D', row_colors=['#F2DCDB', 'w'], edge_color='w',\n",
    "                     bbox=[0, 0, 1, 1], header_columns=0,\n",
    "                     ax=None, **kwargs):\n",
    "    data = df.iloc[:15]\n",
    "    \n",
    "    if ax is None:\n",
    "        size = (np.array([17.5, 10.8]))\n",
    "        fig, ax = plt.subplots(figsize=size, dpi=2**8)\n",
    "        ax.axis('off')\n",
    "\n",
    "    mpl_table = ax.table(cellText=data.values, bbox=bbox, colLabels=data.columns, colLoc='center', loc='bottom')\n",
    "    mpl_table.auto_set_font_size(False)\n",
    "    cells_dict = dict(six.iteritems(mpl_table._cells))\n",
    "    \n",
    "    im = plt.imread(r\"C:\\Users\\Mamed\\YandexDisk\\_Documents\\Проекты\\2ГИС 2023\\Лого\\Лого_2ГИС_230401_1600.png\")\n",
    "    ax.figure.figimage(im, 58, 44, zorder=1, alpha=0.5)\n",
    "\n",
    "    im = plt.imread(r\"C:\\Users\\Mamed\\YandexDisk\\_Documents\\Проекты\\2ГИС 2023\\Лого\\лого_ШТ_230401_1600.png\")\n",
    "    ax.figure.figimage(im, 58, 1268, zorder=1, alpha=0.5)\n",
    "    \n",
    "    fpath = Path(mpl.get_data_path(), r\"C:\\Users\\Mamed\\Downloads\\arialnarrow.ttf\")\n",
    "    colors_dict = colorize_column(df, *cols_without_color)\n",
    "    \n",
    "    for k in sorted(cells_dict.keys()): #k[0] - строка, k[1] - столбец\n",
    "        cell = cells_dict[k]\n",
    "        cell.set_edgecolor(edge_color)\n",
    "        row_index = k[0]\n",
    "        column_index = k[1]\n",
    "        \n",
    "        # Высота и цвет заголовков\n",
    "        if row_index == 0:\n",
    "            rotation='horizontal' if k == (0,0) else 'vertical' \n",
    "            cell.set_text_props(color='w', rotation=rotation, ha='center')\n",
    "            cell.set_facecolor(header_color)\n",
    "            cell.set_height(0.07)\n",
    "            \n",
    "        # Высота и цвет остальных строк\n",
    "        else:\n",
    "            ha = 'right' if k[1] !=0 else 'left'\n",
    "            cell.set_facecolor(row_colors[k[0]%len(row_colors)])\n",
    "            cell.set_height(0.008)\n",
    "            cell.set_text_props(wrap=True, ha=ha)\n",
    "        \n",
    "        # Ширина столбцов\n",
    "        if column_index == 0:\n",
    "            cell.set_width(0.006)\n",
    "        else:\n",
    "            cell.set_width(0.001)\n",
    "                        \n",
    "        # Цветвоая шкала\n",
    "        if row_index > 0 and column_index not in cols_without_color:\n",
    "            color_value = colors_dict[column_index][row_index]\n",
    "            cell.set_facecolor(color_value) \n",
    "        \n",
    "        # Раскраска дублей\n",
    "        if dedup_cols is not None:\n",
    "            for i in dedup_cols:\n",
    "                dups = df.iloc[:,i][(df.iloc[:,i].duplicated())&(('Рейтинг рубрики' not in df.columns)|(df['Рейтинг рубрики'] > 0))].values \n",
    "                if row_index > 0 and column_index == i and cell.get_text().get_text() in dups:\n",
    "                    cell.set_facecolor('#FFC7CE')\n",
    "                    cell.set_text_props(color='#9C0006')         \n",
    "        # Шрифт\n",
    "        cell.set_text_props(font=fpath, fontsize=font_size)\n",
    "    fig.savefig(f'{output_file_name}', bbox_inches='tight')"
   ]
  },
  {
   "cell_type": "code",
   "execution_count": null,
   "id": "bc6c79de-cf43-4cd4-914e-6a4e757f7092",
   "metadata": {},
   "outputs": [],
   "source": []
  },
  {
   "cell_type": "code",
   "execution_count": null,
   "id": "ecdb28af-61e0-4483-8b9f-cc5c9d597f3f",
   "metadata": {},
   "outputs": [],
   "source": []
  },
  {
   "cell_type": "code",
   "execution_count": null,
   "id": "efdd155f-8eb9-415f-8c90-1a5b5e4e829d",
   "metadata": {},
   "outputs": [],
   "source": []
  },
  {
   "cell_type": "code",
   "execution_count": null,
   "id": "0432b4dc-1cf7-4764-9265-19f4da188542",
   "metadata": {},
   "outputs": [],
   "source": [
    "def make_images(file_name, header_color, row_color, *columns):\n",
    "    dt_now = str(datetime.datetime.now())[2:-9].replace('-','').replace(':','').replace(' ','_')\n",
    "    df = pd.read_excel(file_name)\n",
    "  \n",
    "    \n",
    "    for i in tqdm(df['Рейтинг рубрики'].unique()[1:]):  \n",
    "        dfx = df[df['Рейтинг рубрики'] == i].drop('Рубрика', axis=1).iloc[:20]\n",
    "        col_postfix = df[df['Рейтинг рубрики'] == i]['Рубрика'].iloc[0]\n",
    "        col_name = f'Поисковые запросы по рубрике\\n{i:02}. {col_postfix}'\n",
    "        img_file_name = file_name.replace('files/','')[:-5]\n",
    "        img_file_name_final = f'pictures/{img_file_name}_{i:02}.png'\n",
    "        dfx = dfx.rename({'Поисковый запрос':col_name}, axis=1).drop(['Рейтинг рубрики', 'Рейтинг\\nпо запросам, итого'], axis=1)\n",
    "        render_mpl_table(dfx, img_file_name_final, font_size=19, header_color=header_color, row_colors=[row_color, 'w'], dups=dups)\n",
    "        txt = col_postfix + ':' + ' ,'*50 + ' :\\n' + ' Новосибирск, '.join(tx_1[tx_1['Рейтинг рубрики'] == i]['tx_1'].values)\n",
    "        add_image(word_file, img_file_name_final, word=txt)\n",
    "   "
   ]
  },
  {
   "cell_type": "code",
   "execution_count": null,
   "id": "1c81cd3a-154a-4328-af47-4966f7d59cd1",
   "metadata": {},
   "outputs": [],
   "source": [
    "df = pd.read_excel(r\"C:\\Users\\Mamed\\YandexDisk\\_Documents\\Проекты\\2ГИС 2023\\Астана\\Мастер_таблица_2ГИС_Астана_230406_0045.xlsx\")\n",
    "#df = pd.read_excel(r\"C:\\Users\\Mamed\\YandexDisk\\_Documents\\Проекты\\2ГИС 2023\\Алматы\\Мастер_таблица_2ГИС_Алматы_230326_0030.xlsx\", sheet_name='r1')\n",
    "\n",
    "df = df[(df['№']!='Итог')]\n",
    "cols = [\n",
    "    'Рубрика' \n",
    "    ,'Пользователи, итого'\n",
    "    ,'Пользователи, %'\n",
    "    ,'Запросы, итого'\n",
    "    ,'Запросы, %'\n",
    "    ,'Запросов на пользователя, итого'\n",
    "    ,'Рейтинг стабильности\\nчисла запросов на пользователя'\n",
    "    #,'Антирейтинг схожести динамики\\nпользователей и запросов на пользователя'\n",
    "]\n",
    "\n",
    "df = df[cols]\n",
    "#col = cols[-1]"
   ]
  },
  {
   "cell_type": "code",
   "execution_count": null,
   "id": "52f3f60b-fa2c-4c4c-b5af-b2cefdef53a5",
   "metadata": {
    "tags": []
   },
   "outputs": [],
   "source": [
    "make_ratings_image(df)"
   ]
  },
  {
   "cell_type": "code",
   "execution_count": 925,
   "id": "eb9d858b-a3bb-43ef-9aed-3a9d60237e93",
   "metadata": {},
   "outputs": [],
   "source": []
  },
  {
   "cell_type": "code",
   "execution_count": null,
   "id": "45a5e0ad-b4c5-4475-b88d-a9566f602bd0",
   "metadata": {},
   "outputs": [],
   "source": []
  }
 ],
 "metadata": {
  "kernelspec": {
   "display_name": "Python 3 (ipykernel)",
   "language": "python",
   "name": "python3"
  },
  "language_info": {
   "codemirror_mode": {
    "name": "ipython",
    "version": 3
   },
   "file_extension": ".py",
   "mimetype": "text/x-python",
   "name": "python",
   "nbconvert_exporter": "python",
   "pygments_lexer": "ipython3",
   "version": "3.9.12"
  }
 },
 "nbformat": 4,
 "nbformat_minor": 5
}
