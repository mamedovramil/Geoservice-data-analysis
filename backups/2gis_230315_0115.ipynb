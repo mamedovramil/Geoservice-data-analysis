{
 "cells": [
  {
   "cell_type": "code",
   "execution_count": 5,
   "id": "f84fdb3b",
   "metadata": {},
   "outputs": [],
   "source": [
    "import random\n",
    "#random.seed(99)\n",
    "import pandas as pd\n",
    "import numpy as np\n",
    "import dask.dataframe as dd\n",
    "import seaborn as sns\n",
    "import dask.datasets\n",
    "from dask_sql import Context\n",
    "import datetime\n",
    "import time\n",
    "pd.set_option('display.max_rows', None)\n",
    "pd.set_option('display.max_columns', None)\n",
    "pd.set_option('display.max_colwidth', None)\n",
    "\n",
    "pd.options.mode.chained_assignment = None"
   ]
  },
  {
   "cell_type": "markdown",
   "id": "00b42ecc",
   "metadata": {},
   "source": [
    "# Подсчет количества пользователей и запросов по категории на одном файле"
   ]
  },
  {
   "cell_type": "code",
   "execution_count": 2,
   "id": "049af92e",
   "metadata": {},
   "outputs": [],
   "source": [
    "def agg_df(df, year):\n",
    "    start_dt = datetime.datetime.now()\n",
    "    print('Start:', start_dt)\n",
    "    df1 = df[['user', 'rubricName', 'date']]\n",
    "    \n",
    "    try:\n",
    "        pd_df1_req_cnt = pd.read_excel(f'df1_req_cnt_{year}.xlsx')\n",
    "        pd_df1_user_cnt = pd.read_excel(f'df1_user_cnt_{year}.xlsx')\n",
    "        df1_agg = pd_df1_req_cnt.merge(pd_df1_user_cnt, left_index=True, right_index=True)\n",
    "    except:\n",
    "        df1_user_cnt = df1.groupby('rubricName').user.nunique().compute()\n",
    "        df1_req_cnt = df1.groupby('rubricName').date.count().compute()\n",
    "        df1_req_cnt.to_excel(f'df1_req_cnt_{year}.xlsx')\n",
    "        df1_user_cnt.to_excel(f'df1_user_cnt_{year}.xlsx')\n",
    "        pd_df1_req_cnt = pd.DataFrame(df1_req_cnt)\n",
    "        pd_df1_user_cnt = pd.DataFrame(df1_user_cnt)\n",
    "        df1_agg = pd_df1_req_cnt.merge(pd_df1_user_cnt, left_on='rubricName', right_on='rubricName')\n",
    "    \n",
    "    df1_agg = df1_agg.sort_values('date', ascending=False)\n",
    "    df1_agg['rubricName'] = df1_agg['rubricName_x']\n",
    "    df1_agg = df1_agg.set_index('rubricName')[['date', 'user']].fillna(0).astype(int)\n",
    "    df1_agg.to_excel(f'df1_agg_{year}.xlsx', index=False)\n",
    "    end_dt = datetime.datetime.now()\n",
    "    print('End:', end_dt)\n",
    "    print('Duration:', end_dt-start_dt)\n",
    "    return df1_agg"
   ]
  },
  {
   "cell_type": "markdown",
   "id": "1f475b99",
   "metadata": {},
   "source": [
    "### Москва"
   ]
  },
  {
   "cell_type": "code",
   "execution_count": 3,
   "id": "1b65533e",
   "metadata": {},
   "outputs": [
    {
     "name": "stdout",
     "output_type": "stream",
     "text": [
      "Start: 2023-03-13 16:27:50.341337\n",
      "End: 2023-03-13 16:27:53.322987\n",
      "Duration: 0:00:02.981650\n",
      "Start: 2023-03-13 16:27:53.373402\n",
      "End: 2023-03-13 16:27:53.922772\n",
      "Duration: 0:00:00.549370\n",
      "Start: 2023-03-13 16:27:53.970086\n",
      "End: 2023-03-13 16:27:54.445928\n",
      "Duration: 0:00:00.475842\n",
      "Start: 2023-03-13 16:27:54.524908\n",
      "End: 2023-03-13 16:27:55.025557\n",
      "Duration: 0:00:00.500649\n"
     ]
    }
   ],
   "source": [
    "df20_raw = dd.read_csv(r\"C:/Users/Mamed/Downloads/Москва_2020_969792.csv\", dtype={'fl': 'object'})\n",
    "df20_agg = agg_df(df20_raw, 2020)\n",
    "df21_raw = dd.read_csv(r\"C:/Users/Mamed/Downloads/Москва_2021_970748.csv\", dtype={'fl': 'object'})\n",
    "df21_agg = agg_df(df21_raw, 2021)\n",
    "df22_raw = dd.read_csv(r\"C:/Users/Mamed/Downloads/Москва_2022_970753.csv\", dtype={'fl': 'object'})\n",
    "df22_agg = agg_df(df22_raw, 2022)\n",
    "df23_raw = dd.read_csv(r\"C:/Users/Mamed/Downloads/Москва_2023_970754.csv\", dtype={'fl': 'object'})\n",
    "df23_agg = agg_df(df23_raw, 2023)"
   ]
  },
  {
   "cell_type": "markdown",
   "id": "a9cc6b93",
   "metadata": {},
   "source": [
    "### СПБ"
   ]
  },
  {
   "cell_type": "code",
   "execution_count": 21,
   "id": "caa2e7da",
   "metadata": {},
   "outputs": [
    {
     "name": "stdout",
     "output_type": "stream",
     "text": [
      "Start: 2023-03-13 17:56:43.702246\n",
      "End: 2023-03-13 17:56:43.902273\n",
      "Duration: 0:00:00.200027\n"
     ]
    }
   ],
   "source": [
    "spb20_raw = dd.read_csv(r\"C:\\Users\\Mamed\\Downloads\\СПБ_2020_974783.csv\")\n",
    "spb20_agg = agg_df(spb20_raw, 'spb_2020')"
   ]
  },
  {
   "cell_type": "code",
   "execution_count": null,
   "id": "b1fe8cbd",
   "metadata": {},
   "outputs": [],
   "source": [
    "spb21_raw = dd.read_csv(r\"C:\\Users\\Mamed\\Downloads\\СПБ_2021_974784.csv\")\n",
    "spb21_agg = agg_df(spb21_raw, 'spb_2021')"
   ]
  },
  {
   "cell_type": "markdown",
   "id": "8d7903f8",
   "metadata": {},
   "source": [
    "# Подсчет количества пользователей по всем файлам"
   ]
  },
  {
   "cell_type": "markdown",
   "id": "5b7f92a5",
   "metadata": {},
   "source": [
    "### Все категории"
   ]
  },
  {
   "cell_type": "code",
   "execution_count": 70,
   "id": "63f8542b",
   "metadata": {
    "scrolled": true
   },
   "outputs": [
    {
     "name": "stdout",
     "output_type": "stream",
     "text": [
      "5512385 1926180 1624863 1920044 1947122\n"
     ]
    }
   ],
   "source": [
    "#df_all = dd.concat([df20_raw,df21_raw,df22_raw,df23_raw])\n",
    "\n",
    "#df_all.to_parquet('df_all')\n",
    "\n",
    "df_all = dd.read_parquet('df_all')\n",
    "\n",
    "users_itogo = df_all.groupby('rubricName').user.nunique().compute()\n",
    "\n",
    "users_itogo_result = df_all.user.nunique().compute()\n",
    "\n",
    "df20_raw = dd.read_csv(r\"C:/Users/Mamed/Downloads/Москва_2020_969792.csv\", dtype={'fl': 'object'})\n",
    "df21_raw = dd.read_csv(r\"C:/Users/Mamed/Downloads/Москва_2021_970748.csv\", dtype={'fl': 'object'})\n",
    "df22_raw = dd.read_csv(r\"C:/Users/Mamed/Downloads/Москва_2022_970753.csv\", dtype={'fl': 'object'})\n",
    "df23_raw = dd.read_csv(r\"C:/Users/Mamed/Downloads/Москва_2023_970754.csv\", dtype={'fl': 'object'})\n",
    "\n",
    "df20_result_cnt = df20_raw.user.nunique().compute()\n",
    "df21_result_cnt = df21_raw.user.nunique().compute()\n",
    "df22_result_cnt = df22_raw.user.nunique().compute()\n",
    "df23_result_cnt = df23_raw.user.nunique().compute()\n",
    "\n",
    "print(users_itogo_result, \n",
    "df20_result_cnt,\n",
    "df21_result_cnt,\n",
    "df22_result_cnt,\n",
    "df23_result_cnt,)\n",
    "\n",
    "users_itogo.to_excel('users_itogo.xlsx')"
   ]
  },
  {
   "cell_type": "markdown",
   "id": "db03162e",
   "metadata": {},
   "source": [
    "### Часть категорий"
   ]
  },
  {
   "cell_type": "code",
   "execution_count": 80,
   "id": "cefbf50f",
   "metadata": {
    "scrolled": true
   },
   "outputs": [
    {
     "name": "stdout",
     "output_type": "stream",
     "text": [
      "4459161 1627743 1305787 1536122 1536886\n"
     ]
    }
   ],
   "source": [
    "rubrics = pd.read_excel(r\"C:\\Users\\Mamed\\Downloads\\Свод_2ГИС_Москва_230311_0145.xlsx\")[['Рубрика']]\n",
    "df_all = dd.read_parquet('df_all')\n",
    "df_filtered = df_all.merge(rubrics, left_on='rubricName', right_on='Рубрика')\n",
    "\n",
    "df_filtered.to_parquet('df_filtered')\n",
    "\n",
    "users_filtered_itogo = df_filtered.groupby('rubricName').user.nunique().compute()\n",
    "users_filtered_itogo_result = df_filtered.user.nunique().compute()\n",
    "users_filtered_itogo.to_excel('users_filtered_itogo.xlsx')\n",
    "\n",
    "df20_filtered = dd.read_csv(r\"C:/Users/Mamed/Downloads/Москва_2020_969792.csv\", dtype={'fl': 'object'}).merge(rubrics, left_on='rubricName', right_on='Рубрика')\n",
    "df21_filtered = dd.read_csv(r\"C:/Users/Mamed/Downloads/Москва_2021_970748.csv\", dtype={'fl': 'object'}).merge(rubrics, left_on='rubricName', right_on='Рубрика')\n",
    "df22_filtered = dd.read_csv(r\"C:/Users/Mamed/Downloads/Москва_2022_970753.csv\", dtype={'fl': 'object'}).merge(rubrics, left_on='rubricName', right_on='Рубрика')\n",
    "df23_filtered = dd.read_csv(r\"C:/Users/Mamed/Downloads/Москва_2023_970754.csv\", dtype={'fl': 'object'}).merge(rubrics, left_on='rubricName', right_on='Рубрика')\n",
    "\n",
    "df20_filtered_result_cnt = df20_filtered.user.nunique().compute()\n",
    "df21_filtered_result_cnt = df21_filtered.user.nunique().compute()\n",
    "df22_filtered_result_cnt = df22_filtered.user.nunique().compute()\n",
    "df23_filtered_result_cnt = df23_filtered.user.nunique().compute()\n",
    "\n",
    "print(users_filtered_itogo_result, \n",
    "df20_filtered_result_cnt,\n",
    "df21_filtered_result_cnt,\n",
    "df22_filtered_result_cnt,\n",
    "df23_filtered_result_cnt,)"
   ]
  },
  {
   "cell_type": "markdown",
   "id": "78faa7ed",
   "metadata": {},
   "source": [
    "# Попытка посчитать рейтинги автоматически"
   ]
  },
  {
   "cell_type": "code",
   "execution_count": 34,
   "id": "a0b7e8b7",
   "metadata": {},
   "outputs": [],
   "source": [
    "df_all_agg = (df20_agg\n",
    "     .merge(df21_agg, left_index=True, right_index=True, how='outer', suffixes=('_20', '_21'))\n",
    "     .merge(df22_agg, left_index=True, right_index=True, how='outer')\n",
    "     .merge(df23_agg, left_index=True, right_index=True, how='outer', suffixes=('_22', '_23'))\n",
    ").fillna(0).astype(int)\n",
    "\n",
    "df_all_agg['date_all'] = df_all_agg.date_20 + df_all_agg.date_21 + df_all_agg.date_22 + df_all_agg.date_23\n",
    "df_all_agg['date_all_prc'] = (df_all_agg['date_all'] / df_all_agg['date_all'].sum() * 100)\n",
    "\n",
    "df_all_agg = df_all_agg[['user_20', 'user_21', 'user_22','user_23', 'date_20', 'date_21', 'date_22'\n",
    "                         , 'date_23', 'date_all', 'date_all_prc']].sort_values('date_all', ascending=False)\n",
    "\n",
    "df_all_agg.columns = ['users_20', 'users_21', 'users_22','users_23',\n",
    "                      'requests_20', 'requests_21', 'requests_22', 'requests_23', 'requests_all', 'requests_all_prc']\n",
    "\n",
    "df_all_agg = df_all_agg.reset_index()\n",
    "\n",
    "#df_all_agg.to_excel('Свод_2ГИС_Москва_230310_2145.xlsx', index=True)\n",
    "\n",
    "df_all_agg_short = df_all_agg.head(100)\n",
    "\n",
    "u_cols_list = [20,21,22,23]\n",
    "\n",
    "for i in u_cols_list:\n",
    "    for j in u_cols_list:\n",
    "        if i > j:\n",
    "            pass #print(f'df_all_agg_short[\"users_delta_{i}_{j}\"] = df_all_agg_short[\"users_{i}\"] - df_all_agg_short[\"users_{j}\"]')\n",
    "\n",
    "df_all_agg_short[\"users_delta_21_20\"] = df_all_agg_short[\"users_21\"] - df_all_agg_short[\"users_20\"]\n",
    "df_all_agg_short[\"users_delta_22_20\"] = df_all_agg_short[\"users_22\"] - df_all_agg_short[\"users_20\"]\n",
    "df_all_agg_short[\"users_delta_22_21\"] = df_all_agg_short[\"users_22\"] - df_all_agg_short[\"users_21\"]\n",
    "df_all_agg_short[\"users_delta_23_20\"] = df_all_agg_short[\"users_23\"] - df_all_agg_short[\"users_20\"]\n",
    "df_all_agg_short[\"users_delta_23_21\"] = df_all_agg_short[\"users_23\"] - df_all_agg_short[\"users_21\"]\n",
    "df_all_agg_short[\"users_delta_23_22\"] = df_all_agg_short[\"users_23\"] - df_all_agg_short[\"users_22\"]\n",
    "\n",
    "df_all_agg_short[\"requests_delta_21_20\"] = df_all_agg_short[\"requests_21\"] - df_all_agg_short[\"requests_20\"]\n",
    "df_all_agg_short[\"requests_delta_22_20\"] = df_all_agg_short[\"requests_22\"] - df_all_agg_short[\"requests_20\"]\n",
    "df_all_agg_short[\"requests_delta_22_21\"] = df_all_agg_short[\"requests_22\"] - df_all_agg_short[\"requests_21\"]\n",
    "df_all_agg_short[\"requests_delta_23_20\"] = df_all_agg_short[\"requests_23\"] - df_all_agg_short[\"requests_20\"]\n",
    "df_all_agg_short[\"requests_delta_23_21\"] = df_all_agg_short[\"requests_23\"] - df_all_agg_short[\"requests_21\"]\n",
    "df_all_agg_short[\"requests_delta_23_22\"] = df_all_agg_short[\"requests_23\"] - df_all_agg_short[\"requests_22\"]\n",
    "\n",
    "df_all_agg_short = df_all_agg_short.reset_index()"
   ]
  },
  {
   "cell_type": "code",
   "execution_count": null,
   "id": "653856ff",
   "metadata": {},
   "outputs": [],
   "source": []
  },
  {
   "cell_type": "markdown",
   "id": "c5b2abee",
   "metadata": {},
   "source": [
    "# Алгоритм сокращения топ-мест в рейтингах для категорий"
   ]
  },
  {
   "cell_type": "code",
   "execution_count": 838,
   "id": "4fc77ae1",
   "metadata": {},
   "outputs": [],
   "source": [
    "original_svod = pd.read_excel(r\"C:\\Users\\Mamed\\YandexDisk\\_Documents\\Проекты\\2ГИС 2023\\Свод_2ГИС_Москва_230313_2115.xlsx\")"
   ]
  },
  {
   "cell_type": "code",
   "execution_count": 839,
   "id": "0b70a369",
   "metadata": {},
   "outputs": [],
   "source": [
    "svod = original_svod[['Рубрика', 'UserMaxTotal', 'UserMaxFirstYear',\n",
    "       'UserMaxLastYear', 'UserMinLastYear', 'UserMinFirstYear',\n",
    "       'UserJustGrowth', 'UserJustFall', 'UserMax2021', 'UserMax2022',\n",
    "       'UserMin2021', 'UserMin2022', 'UserTBTB', 'UserBTBT', 'UserStable',\n",
    "       'PositiveCorrelationUserReq', 'ReqMaxTotal', 'ReqMaxFirstYear',\n",
    "       'ReqMaxLastYear', 'ReqMinLastYear', 'ReqMinFirstYear', 'ReqJustGrowth',\n",
    "       'ReqJustFall', 'ReqMax2021', 'ReqMax2022', 'ReqMin2021', 'ReqMin2022',\n",
    "       'ReqTBTB', 'ReqBTBT', 'ReqStable', 'NegativeCorrelationUserReq',\n",
    "       'InLists', 'inList, сумма'\n",
    "            ]]\n",
    "\n",
    "new_svod = (\n",
    "    svod\n",
    "    #.loc[svod['InLists'] > 1]\n",
    "    .fillna(0)\n",
    "    .sort_values('inList, сумма', ascending=False)\n",
    "    .set_index('Рубрика')\n",
    ")\n",
    "\n",
    "new_svod['cnt_horizontal'] = new_svod['InLists']"
   ]
  },
  {
   "cell_type": "code",
   "execution_count": 890,
   "id": "f93a6f26",
   "metadata": {},
   "outputs": [],
   "source": [
    "def horizontal_optimization(table_to_optimize):\n",
    "    new_svod = table_to_optimize\n",
    "    test_svod = new_svod.drop(['InLists', 'inList, сумма'], axis=1).copy()\n",
    "    index_set = set(new_svod.index)\n",
    "    cnt = 0\n",
    "    total_sum = 9999\n",
    "    while cnt < 10000 and total_sum > 5141 and len(index_set)> 0:\n",
    "        j = index_set.pop()\n",
    "        cnt += 1\n",
    "        cols = [i for i in test_svod.loc[j][test_svod.loc[j] > 0].sort_values(ascending=False).index]\n",
    "        for i in cols:   \n",
    "            cnt_horizontal = test_svod.loc[j][test_svod.loc[j] > 0].count()\n",
    "            cnt_vertical = test_svod[test_svod[i] > 0][i].count()\n",
    "            if cnt_vertical > 15 and cnt_horizontal > 1:\n",
    "                test_svod[i][j] = 0\n",
    "        \n",
    "        cols_set = set(cols)\n",
    "        cnt2 = 0\n",
    "        while cols_set:\n",
    "            i = cols_set.pop()\n",
    "            cnt_horizontal = test_svod.loc[j][test_svod.loc[j] > 0].count()\n",
    "            cnt_vertical = test_svod[test_svod[i] > 0][i].count()\n",
    "            if cnt_vertical > 15 and cnt_horizontal > 1:\n",
    "                test_svod[i][j] = 0\n",
    "        total_sum = test_svod.sum(axis=1).sum()\n",
    "        \n",
    "        #print(total_sum)\n",
    "    test_svod['cnt_horizontal'] = test_svod.drop('cnt_horizontal', axis=1).replace(range(1, 26), 1).sum(axis=1)\n",
    "    test_svod = test_svod.sort_values('cnt_horizontal', ascending=False)\n",
    "    return test_svod"
   ]
  },
  {
   "cell_type": "code",
   "execution_count": 891,
   "id": "57496d3f",
   "metadata": {},
   "outputs": [],
   "source": [
    "def vertical_optimization(table_to_optimize, original_table):\n",
    "    df = table_to_optimize\n",
    "    new_svod = original_table\n",
    "    for i in range(20):\n",
    "        for cat_to_optimize in df.index:\n",
    "            # сейчас есть значение, превращаем в ноль\n",
    "            col = df.drop('cnt_horizontal', axis=1).loc[cat_to_optimize].sort_values(ascending=False).index[0]\n",
    "\n",
    "            # сейчас 0 возвращаем значение из бэкапа\n",
    "            try:\n",
    "                cat_to_reset = (\n",
    "                     df\n",
    "                     .loc[df.index != cat_to_optimize]\n",
    "                     .loc[(new_svod.sort_index().loc[:, col] != df.sort_index().loc[:, col]) \n",
    "                          & (df[col] == 0)]\n",
    "                     .loc[:,[col, 'cnt_horizontal']]\n",
    "                     .sort_values([col, 'cnt_horizontal'], ascending=[False, True])\n",
    "                     .index[0]\n",
    "                )\n",
    "                if (df.loc[cat_to_reset, 'cnt_horizontal'] + 1 < df.loc[cat_to_optimize, 'cnt_horizontal']\n",
    "                   ):\n",
    "                    df.loc[cat_to_optimize, col] = 0\n",
    "                    df.loc[cat_to_reset, col] = new_svod.loc[cat_to_reset, col]\n",
    "                    df['cnt_horizontal'] = df.drop('cnt_horizontal', axis=1).replace(range(1, 26), 1).sum(axis=1)\n",
    "            except:\n",
    "                pass\n",
    "    return df"
   ]
  },
  {
   "cell_type": "code",
   "execution_count": 892,
   "id": "a256ff1e",
   "metadata": {},
   "outputs": [
    {
     "data": {
      "text/plain": [
       "cnt_horizontal\n",
       "2.0     90\n",
       "1.0     45\n",
       "3.0     44\n",
       "4.0     29\n",
       "6.0     19\n",
       "5.0     14\n",
       "7.0      6\n",
       "8.0      2\n",
       "0.0      1\n",
       "9.0      1\n",
       "11.0     1\n",
       "dtype: int64"
      ]
     },
     "execution_count": 892,
     "metadata": {},
     "output_type": "execute_result"
    }
   ],
   "source": [
    "new_svod.value_counts('cnt_horizontal')"
   ]
  },
  {
   "cell_type": "code",
   "execution_count": 893,
   "id": "7ed4e7f0",
   "metadata": {},
   "outputs": [
    {
     "data": {
      "text/plain": [
       "cnt_horizontal\n",
       "0.0     75\n",
       "1.0     59\n",
       "2.0     51\n",
       "3.0     25\n",
       "4.0     21\n",
       "6.0      9\n",
       "5.0      7\n",
       "7.0      3\n",
       "9.0      1\n",
       "11.0     1\n",
       "dtype: int64"
      ]
     },
     "execution_count": 893,
     "metadata": {},
     "output_type": "execute_result"
    }
   ],
   "source": [
    "hor_optimized_svod = horizontal_optimization(new_svod)\n",
    "\n",
    "hor_optimized_svod.value_counts('cnt_horizontal')"
   ]
  },
  {
   "cell_type": "code",
   "execution_count": 894,
   "id": "1e9ed102",
   "metadata": {},
   "outputs": [
    {
     "data": {
      "text/plain": [
       "cnt_horizontal\n",
       "2.0    120\n",
       "1.0     83\n",
       "3.0     41\n",
       "0.0      7\n",
       "4.0      1\n",
       "dtype: int64"
      ]
     },
     "execution_count": 894,
     "metadata": {},
     "output_type": "execute_result"
    }
   ],
   "source": [
    "vert_optimized_svod = vertical_optimization(hor_optimized_svod, new_svod)\n",
    "\n",
    "vert_optimized_svod.value_counts('cnt_horizontal')"
   ]
  },
  {
   "cell_type": "code",
   "execution_count": 898,
   "id": "8607683d",
   "metadata": {},
   "outputs": [],
   "source": [
    "optimized_svod = vert_optimized_svod.reset_index()\n",
    "optimized_svod['InLists'] = optimized_svod['cnt_horizontal']\n",
    "optimized_svod = optimized_svod.drop('cnt_horizontal', axis=1).sort_values('Рубрика')"
   ]
  },
  {
   "cell_type": "code",
   "execution_count": 899,
   "id": "659bce58",
   "metadata": {},
   "outputs": [],
   "source": [
    "final_svod = original_svod.sort_values('Рубрика')"
   ]
  },
  {
   "cell_type": "code",
   "execution_count": 900,
   "id": "6d626039",
   "metadata": {},
   "outputs": [],
   "source": [
    "for col in optimized_svod.columns:\n",
    "    final_svod[col] = optimized_svod[col]\n",
    "final_svod = final_svod.sort_values('Рубрика')"
   ]
  },
  {
   "cell_type": "code",
   "execution_count": 903,
   "id": "c187c38e",
   "metadata": {},
   "outputs": [],
   "source": [
    "final_svod['inList, сумма'] = final_svod[svod.columns].sort_values('Рубрика').drop(['InLists', 'inList, сумма', 'Рубрика'], axis=1).sum(axis=1)"
   ]
  },
  {
   "cell_type": "code",
   "execution_count": 910,
   "id": "16754ef7",
   "metadata": {},
   "outputs": [],
   "source": [
    "final_svod['inList, среднее'] = final_svod[svod.columns].sort_values('Рубрика').drop(['InLists', 'inList, сумма', 'Рубрика'], axis=1).mean(axis=1)"
   ]
  },
  {
   "cell_type": "code",
   "execution_count": 912,
   "id": "5da33468",
   "metadata": {},
   "outputs": [],
   "source": [
    "final_svod.to_excel('final_svod.xlsx')"
   ]
  },
  {
   "cell_type": "code",
   "execution_count": null,
   "id": "0e9339a5",
   "metadata": {},
   "outputs": [],
   "source": []
  }
 ],
 "metadata": {
  "kernelspec": {
   "display_name": "Python 3 (ipykernel)",
   "language": "python",
   "name": "python3"
  },
  "language_info": {
   "codemirror_mode": {
    "name": "ipython",
    "version": 3
   },
   "file_extension": ".py",
   "mimetype": "text/x-python",
   "name": "python",
   "nbconvert_exporter": "python",
   "pygments_lexer": "ipython3",
   "version": "3.9.12"
  }
 },
 "nbformat": 4,
 "nbformat_minor": 5
}
