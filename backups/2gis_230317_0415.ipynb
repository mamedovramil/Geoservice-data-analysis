{
 "cells": [
  {
   "cell_type": "code",
   "execution_count": 1,
   "id": "f84fdb3b",
   "metadata": {},
   "outputs": [],
   "source": [
    "import random\n",
    "import plotly.graph_objects as go\n",
    "#random.seed(99)\n",
    "import pandas as pd\n",
    "import numpy as np\n",
    "import scipy\n",
    "import dask.dataframe as dd\n",
    "import seaborn as sns\n",
    "import dask.datasets\n",
    "from dask_sql import Context\n",
    "import datetime\n",
    "import time\n",
    "pd.set_option('display.max_rows', None)\n",
    "pd.set_option('display.max_columns', None)\n",
    "pd.set_option('display.max_colwidth', None)\n",
    "\n",
    "pd.options.mode.chained_assignment = None"
   ]
  },
  {
   "cell_type": "markdown",
   "id": "00b42ecc",
   "metadata": {},
   "source": [
    "# Подсчет количества пользователей и запросов по категории на одном файле"
   ]
  },
  {
   "cell_type": "code",
   "execution_count": 42,
   "id": "049af92e",
   "metadata": {},
   "outputs": [],
   "source": [
    "def agg_df(df, year):\n",
    "    start_dt = datetime.datetime.now()\n",
    "    print('Start:', start_dt)\n",
    "    df1 = df[['user', 'rubricName', 'date']]\n",
    "    \n",
    "    try:\n",
    "        pd_df1_req_cnt = pd.read_excel(f'df1_req_cnt_{year}.xlsx')\n",
    "        pd_df1_user_cnt = pd.read_excel(f'df1_user_cnt_{year}.xlsx')\n",
    "        df1_agg = pd_df1_req_cnt.merge(pd_df1_user_cnt, left_index=True, right_index=True)\n",
    "    except:\n",
    "        df1_user_cnt = df1.groupby('rubricName').user.nunique().compute()\n",
    "        df1_req_cnt = df1.groupby('rubricName').date.count().compute()\n",
    "        df1_req_cnt.to_excel(f'df1_req_cnt_{year}.xlsx')\n",
    "        df1_user_cnt.to_excel(f'df1_user_cnt_{year}.xlsx')\n",
    "        pd_df1_req_cnt = pd.DataFrame(df1_req_cnt)\n",
    "        pd_df1_user_cnt = pd.DataFrame(df1_user_cnt)\n",
    "        df1_agg = pd_df1_req_cnt.merge(pd_df1_user_cnt, left_on='rubricName', right_on='rubricName')\n",
    "    \n",
    "    df1_agg = df1_agg.sort_values('date', ascending=False)\n",
    "    df1_agg['rubricName'] = df1_agg['rubricName_x']\n",
    "    df1_agg = df1_agg.set_index('rubricName')[['date', 'user']].fillna(0).astype(int)\n",
    "    df1_agg.to_excel(f'df1_agg_{year}.xlsx', index=False)\n",
    "    end_dt = datetime.datetime.now()\n",
    "    print('End:', end_dt)\n",
    "    print('Duration:', end_dt-start_dt)\n",
    "    return df1_agg"
   ]
  },
  {
   "cell_type": "markdown",
   "id": "1f475b99",
   "metadata": {},
   "source": [
    "### Москва"
   ]
  },
  {
   "cell_type": "code",
   "execution_count": null,
   "id": "1b65533e",
   "metadata": {},
   "outputs": [],
   "source": [
    "df20_raw = dd.read_csv(r\"C:/Users/Mamed/Downloads/Москва_2020_969792.csv\", dtype={'fl': 'object'})\n",
    "df20_agg = agg_df(df20_raw, 2020)\n",
    "df21_raw = dd.read_csv(r\"C:/Users/Mamed/Downloads/Москва_2021_970748.csv\", dtype={'fl': 'object'})\n",
    "df21_agg = agg_df(df21_raw, 2021)\n",
    "df22_raw = dd.read_csv(r\"C:/Users/Mamed/Downloads/Москва_2022_970753.csv\", dtype={'fl': 'object'})\n",
    "df22_agg = agg_df(df22_raw, 2022)\n",
    "df23_raw = dd.read_csv(r\"C:/Users/Mamed/Downloads/Москва_2023_970754.csv\", dtype={'fl': 'object'})\n",
    "df23_agg = agg_df(df23_raw, 2023)"
   ]
  },
  {
   "cell_type": "markdown",
   "id": "a9cc6b93",
   "metadata": {},
   "source": [
    "### СПБ"
   ]
  },
  {
   "cell_type": "code",
   "execution_count": null,
   "id": "caa2e7da",
   "metadata": {},
   "outputs": [],
   "source": [
    "spb20_raw = dd.read_csv(r\"C:\\Users\\Mamed\\Downloads\\СПБ_2020_974783.csv\")\n",
    "spb20_agg = agg_df(spb20_raw, 'spb_2020')"
   ]
  },
  {
   "cell_type": "code",
   "execution_count": null,
   "id": "b1fe8cbd",
   "metadata": {},
   "outputs": [],
   "source": [
    "spb21_raw = dd.read_csv(r\"C:\\Users\\Mamed\\Downloads\\СПБ_2021_974784.csv\")\n",
    "spb21_agg = agg_df(spb21_raw, 'spb_2021')"
   ]
  },
  {
   "cell_type": "markdown",
   "id": "b198f8bd",
   "metadata": {},
   "source": [
    "### Алматы"
   ]
  },
  {
   "cell_type": "code",
   "execution_count": null,
   "id": "0644405c",
   "metadata": {},
   "outputs": [],
   "source": [
    "C:\\Users\\Mamed\\Desktop\\файлы_2гис_2023\\Алмата_2021_974798.csv\n",
    "C:\\Users\\Mamed\\Desktop\\файлы_2гис_2023\\Алмата_2022_974799.csv"
   ]
  },
  {
   "cell_type": "code",
   "execution_count": null,
   "id": "89805d51",
   "metadata": {},
   "outputs": [],
   "source": [
    "df22_raw = dd.read_csv(r\"C:\\Users\\Mamed\\Desktop\\файлы_2гис_2023\\Алмата_2022_974799.csv\", dtype={'fl': 'object'})\n",
    "df22_agg = agg_df(df22_raw, 'алмата_2022')"
   ]
  },
  {
   "cell_type": "markdown",
   "id": "7618c3b8",
   "metadata": {},
   "source": [
    "### Новосибирск"
   ]
  },
  {
   "cell_type": "code",
   "execution_count": 3,
   "id": "effa5dcd",
   "metadata": {},
   "outputs": [
    {
     "name": "stdout",
     "output_type": "stream",
     "text": [
      "Start: 2023-03-17 02:06:26.311406\n",
      "End: 2023-03-17 02:23:47.930859\n",
      "Duration: 0:17:21.619453\n"
     ]
    }
   ],
   "source": [
    "nov_df20_raw = dd.read_csv(r\"C:\\Users\\Mamed\\Desktop\\файлы_2гис_2023\\Новосибирск_2020_974796.csv\", dtype={'fl': 'object'})\n",
    "nov_df20_agg = agg_df(nov_df20_raw, 'новосиб_2020')"
   ]
  },
  {
   "cell_type": "code",
   "execution_count": 4,
   "id": "9f405406",
   "metadata": {},
   "outputs": [
    {
     "name": "stdout",
     "output_type": "stream",
     "text": [
      "Start: 2023-03-17 02:23:47.978213\n",
      "End: 2023-03-17 02:42:35.346340\n",
      "Duration: 0:18:47.368127\n"
     ]
    }
   ],
   "source": [
    "nov_df21_raw = dd.read_csv(r\"C:\\Users\\Mamed\\Desktop\\файлы_2гис_2023\\Новосибирск_2021_974792.csv\", dtype={'fl': 'object'})\n",
    "nov_df21_agg = agg_df(nov_df21_raw, 'новосиб_2021')"
   ]
  },
  {
   "cell_type": "code",
   "execution_count": 5,
   "id": "94d86733",
   "metadata": {},
   "outputs": [
    {
     "name": "stdout",
     "output_type": "stream",
     "text": [
      "Start: 2023-03-17 02:42:35.405672\n",
      "End: 2023-03-17 03:00:58.761779\n",
      "Duration: 0:18:23.356107\n"
     ]
    }
   ],
   "source": [
    "nov_df22_raw = dd.read_csv(r\"C:\\Users\\Mamed\\Desktop\\файлы_2гис_2023\\Новосибирск_2022_974795.csv\", dtype={'fl': 'object'})\n",
    "nov_df22_agg = agg_df(nov_df22_raw, 'новосиб_2022')"
   ]
  },
  {
   "cell_type": "code",
   "execution_count": 6,
   "id": "4c36e5bb",
   "metadata": {},
   "outputs": [
    {
     "name": "stdout",
     "output_type": "stream",
     "text": [
      "Start: 2023-03-17 03:00:58.822565\n",
      "End: 2023-03-17 03:29:24.690069\n",
      "Duration: 0:28:25.867504\n"
     ]
    }
   ],
   "source": [
    "nov_df23_raw = dd.read_csv(r\"C:\\Users\\Mamed\\Desktop\\файлы_2гис_2023\\Новосибирск_2023_974791.csv\", dtype={'fl': 'object'})\n",
    "nov_df23_agg = agg_df(nov_df23_raw, 'новосиб_2023')"
   ]
  },
  {
   "cell_type": "markdown",
   "id": "ac5c2f1e",
   "metadata": {},
   "source": [
    "# Анализ текстов запросов"
   ]
  },
  {
   "cell_type": "code",
   "execution_count": null,
   "id": "f3772ccc",
   "metadata": {},
   "outputs": [],
   "source": [
    "df_txt = pd.read_csv(r\"C:\\Users\\Mamed\\Desktop\\файлы_2гис_2023\\Москва_2023_970754.csv\", nrows=1000)"
   ]
  },
  {
   "cell_type": "code",
   "execution_count": 9,
   "id": "b2fe3cb2",
   "metadata": {},
   "outputs": [],
   "source": [
    "rubrics = pd.read_excel('final_svod_master.xlsx')[['Рубрика']].iloc[:15]"
   ]
  },
  {
   "cell_type": "code",
   "execution_count": 67,
   "id": "2a3e5633",
   "metadata": {},
   "outputs": [],
   "source": [
    "#df_all = dd.read_parquet('df_all')\n",
    "#df_filtered = df_all.merge(rubrics, left_on='rubricName', right_on='Рубрика')\n",
    "\n",
    "#df_filtered.to_parquet('df_filtered')\n",
    "\n",
    "df_filtered = dd.read_parquet('df_filtered')"
   ]
  },
  {
   "cell_type": "code",
   "execution_count": 125,
   "id": "2164ee02",
   "metadata": {},
   "outputs": [],
   "source": [
    "df = df_filtered#.head(10000)"
   ]
  },
  {
   "cell_type": "code",
   "execution_count": 15,
   "id": "55975469",
   "metadata": {
    "scrolled": true
   },
   "outputs": [],
   "source": [
    "dff = df.groupby(['rubricName', 'devmod'])['date'].count().to_frame().reset_index()"
   ]
  },
  {
   "cell_type": "code",
   "execution_count": 126,
   "id": "dc2b0471",
   "metadata": {
    "scrolled": true
   },
   "outputs": [],
   "source": [
    "dff = df.groupby(['rubricName', 'tx'])['date'].count().to_frame().reset_index()"
   ]
  },
  {
   "cell_type": "code",
   "execution_count": 127,
   "id": "469e82ec",
   "metadata": {},
   "outputs": [
    {
     "data": {
      "text/html": [
       "<div><strong>Dask DataFrame Structure:</strong></div>\n",
       "<div>\n",
       "<style scoped>\n",
       "    .dataframe tbody tr th:only-of-type {\n",
       "        vertical-align: middle;\n",
       "    }\n",
       "\n",
       "    .dataframe tbody tr th {\n",
       "        vertical-align: top;\n",
       "    }\n",
       "\n",
       "    .dataframe thead th {\n",
       "        text-align: right;\n",
       "    }\n",
       "</style>\n",
       "<table border=\"1\" class=\"dataframe\">\n",
       "  <thead>\n",
       "    <tr style=\"text-align: right;\">\n",
       "      <th></th>\n",
       "      <th>rubricName</th>\n",
       "      <th>tx</th>\n",
       "      <th>date</th>\n",
       "    </tr>\n",
       "    <tr>\n",
       "      <th>npartitions=1</th>\n",
       "      <th></th>\n",
       "      <th></th>\n",
       "      <th></th>\n",
       "    </tr>\n",
       "  </thead>\n",
       "  <tbody>\n",
       "    <tr>\n",
       "      <th></th>\n",
       "      <td>object</td>\n",
       "      <td>object</td>\n",
       "      <td>int64</td>\n",
       "    </tr>\n",
       "    <tr>\n",
       "      <th></th>\n",
       "      <td>...</td>\n",
       "      <td>...</td>\n",
       "      <td>...</td>\n",
       "    </tr>\n",
       "  </tbody>\n",
       "</table>\n",
       "</div>\n",
       "<div>Dask Name: reset_index, 6 graph layers</div>"
      ],
      "text/plain": [
       "Dask DataFrame Structure:\n",
       "              rubricName      tx   date\n",
       "npartitions=1                          \n",
       "                  object  object  int64\n",
       "                     ...     ...    ...\n",
       "Dask Name: reset_index, 6 graph layers"
      ]
     },
     "execution_count": 127,
     "metadata": {},
     "output_type": "execute_result"
    }
   ],
   "source": [
    "dff"
   ]
  },
  {
   "cell_type": "code",
   "execution_count": 131,
   "id": "1d325b75",
   "metadata": {
    "collapsed": true
   },
   "outputs": [
    {
     "ename": "AttributeError",
     "evalue": "'Series' object has no attribute 'columns'",
     "output_type": "error",
     "traceback": [
      "\u001b[1;31m---------------------------------------------------------------------------\u001b[0m",
      "\u001b[1;31mAttributeError\u001b[0m                            Traceback (most recent call last)",
      "Input \u001b[1;32mIn [131]\u001b[0m, in \u001b[0;36m<cell line: 1>\u001b[1;34m()\u001b[0m\n\u001b[1;32m----> 1\u001b[0m final_df \u001b[38;5;241m=\u001b[39m \u001b[43mdff\u001b[49m\u001b[38;5;241;43m.\u001b[39;49m\u001b[43mgroupby\u001b[49m\u001b[43m(\u001b[49m\u001b[38;5;124;43m\"\u001b[39;49m\u001b[38;5;124;43mrubricName\u001b[39;49m\u001b[38;5;124;43m\"\u001b[39;49m\u001b[43m)\u001b[49m\u001b[38;5;241;43m.\u001b[39;49m\u001b[43mapply\u001b[49m\u001b[43m(\u001b[49m\u001b[38;5;28;43;01mlambda\u001b[39;49;00m\u001b[43m \u001b[49m\u001b[43mx\u001b[49m\u001b[43m:\u001b[49m\u001b[43m \u001b[49m\u001b[43mx\u001b[49m\u001b[38;5;241;43m.\u001b[39;49m\u001b[43mnlargest\u001b[49m\u001b[43m(\u001b[49m\u001b[38;5;241;43m15\u001b[39;49m\u001b[43m,\u001b[49m\u001b[43m \u001b[49m\u001b[38;5;124;43m\"\u001b[39;49m\u001b[38;5;124;43mdate\u001b[39;49m\u001b[38;5;124;43m\"\u001b[39;49m\u001b[43m)\u001b[49m\u001b[43m,\u001b[49m\u001b[43m \u001b[49m\u001b[43mmeta\u001b[49m\u001b[38;5;241;43m=\u001b[39;49m\u001b[43m(\u001b[49m\u001b[38;5;124;43m'\u001b[39;49m\u001b[38;5;124;43mx\u001b[39;49m\u001b[38;5;124;43m'\u001b[39;49m\u001b[43m,\u001b[49m\u001b[43m \u001b[49m\u001b[38;5;124;43m'\u001b[39;49m\u001b[38;5;124;43mf8\u001b[39;49m\u001b[38;5;124;43m'\u001b[39;49m\u001b[43m)\u001b[49m\u001b[43m)\u001b[49m\u001b[38;5;241;43m.\u001b[39;49m\u001b[43mcompute\u001b[49m\u001b[43m(\u001b[49m\u001b[43m)\u001b[49m\n",
      "File \u001b[1;32m~\\Anaconda\\lib\\site-packages\\dask\\base.py:314\u001b[0m, in \u001b[0;36mDaskMethodsMixin.compute\u001b[1;34m(self, **kwargs)\u001b[0m\n\u001b[0;32m    290\u001b[0m \u001b[38;5;28;01mdef\u001b[39;00m \u001b[38;5;21mcompute\u001b[39m(\u001b[38;5;28mself\u001b[39m, \u001b[38;5;241m*\u001b[39m\u001b[38;5;241m*\u001b[39mkwargs):\n\u001b[0;32m    291\u001b[0m     \u001b[38;5;124;03m\"\"\"Compute this dask collection\u001b[39;00m\n\u001b[0;32m    292\u001b[0m \n\u001b[0;32m    293\u001b[0m \u001b[38;5;124;03m    This turns a lazy Dask collection into its in-memory equivalent.\u001b[39;00m\n\u001b[1;32m   (...)\u001b[0m\n\u001b[0;32m    312\u001b[0m \u001b[38;5;124;03m    dask.base.compute\u001b[39;00m\n\u001b[0;32m    313\u001b[0m \u001b[38;5;124;03m    \"\"\"\u001b[39;00m\n\u001b[1;32m--> 314\u001b[0m     (result,) \u001b[38;5;241m=\u001b[39m compute(\u001b[38;5;28mself\u001b[39m, traverse\u001b[38;5;241m=\u001b[39m\u001b[38;5;28;01mFalse\u001b[39;00m, \u001b[38;5;241m*\u001b[39m\u001b[38;5;241m*\u001b[39mkwargs)\n\u001b[0;32m    315\u001b[0m     \u001b[38;5;28;01mreturn\u001b[39;00m result\n",
      "File \u001b[1;32m~\\Anaconda\\lib\\site-packages\\dask\\base.py:599\u001b[0m, in \u001b[0;36mcompute\u001b[1;34m(traverse, optimize_graph, scheduler, get, *args, **kwargs)\u001b[0m\n\u001b[0;32m    596\u001b[0m     keys\u001b[38;5;241m.\u001b[39mappend(x\u001b[38;5;241m.\u001b[39m__dask_keys__())\n\u001b[0;32m    597\u001b[0m     postcomputes\u001b[38;5;241m.\u001b[39mappend(x\u001b[38;5;241m.\u001b[39m__dask_postcompute__())\n\u001b[1;32m--> 599\u001b[0m results \u001b[38;5;241m=\u001b[39m schedule(dsk, keys, \u001b[38;5;241m*\u001b[39m\u001b[38;5;241m*\u001b[39mkwargs)\n\u001b[0;32m    600\u001b[0m \u001b[38;5;28;01mreturn\u001b[39;00m repack([f(r, \u001b[38;5;241m*\u001b[39ma) \u001b[38;5;28;01mfor\u001b[39;00m r, (f, a) \u001b[38;5;129;01min\u001b[39;00m \u001b[38;5;28mzip\u001b[39m(results, postcomputes)])\n",
      "File \u001b[1;32m~\\Anaconda\\lib\\site-packages\\dask\\threaded.py:89\u001b[0m, in \u001b[0;36mget\u001b[1;34m(dsk, keys, cache, num_workers, pool, **kwargs)\u001b[0m\n\u001b[0;32m     86\u001b[0m     \u001b[38;5;28;01melif\u001b[39;00m \u001b[38;5;28misinstance\u001b[39m(pool, multiprocessing\u001b[38;5;241m.\u001b[39mpool\u001b[38;5;241m.\u001b[39mPool):\n\u001b[0;32m     87\u001b[0m         pool \u001b[38;5;241m=\u001b[39m MultiprocessingPoolExecutor(pool)\n\u001b[1;32m---> 89\u001b[0m results \u001b[38;5;241m=\u001b[39m get_async(\n\u001b[0;32m     90\u001b[0m     pool\u001b[38;5;241m.\u001b[39msubmit,\n\u001b[0;32m     91\u001b[0m     pool\u001b[38;5;241m.\u001b[39m_max_workers,\n\u001b[0;32m     92\u001b[0m     dsk,\n\u001b[0;32m     93\u001b[0m     keys,\n\u001b[0;32m     94\u001b[0m     cache\u001b[38;5;241m=\u001b[39mcache,\n\u001b[0;32m     95\u001b[0m     get_id\u001b[38;5;241m=\u001b[39m_thread_get_id,\n\u001b[0;32m     96\u001b[0m     pack_exception\u001b[38;5;241m=\u001b[39mpack_exception,\n\u001b[0;32m     97\u001b[0m     \u001b[38;5;241m*\u001b[39m\u001b[38;5;241m*\u001b[39mkwargs,\n\u001b[0;32m     98\u001b[0m )\n\u001b[0;32m    100\u001b[0m \u001b[38;5;66;03m# Cleanup pools associated to dead threads\u001b[39;00m\n\u001b[0;32m    101\u001b[0m \u001b[38;5;28;01mwith\u001b[39;00m pools_lock:\n",
      "File \u001b[1;32m~\\Anaconda\\lib\\site-packages\\dask\\local.py:511\u001b[0m, in \u001b[0;36mget_async\u001b[1;34m(submit, num_workers, dsk, result, cache, get_id, rerun_exceptions_locally, pack_exception, raise_exception, callbacks, dumps, loads, chunksize, **kwargs)\u001b[0m\n\u001b[0;32m    509\u001b[0m         _execute_task(task, data)  \u001b[38;5;66;03m# Re-execute locally\u001b[39;00m\n\u001b[0;32m    510\u001b[0m     \u001b[38;5;28;01melse\u001b[39;00m:\n\u001b[1;32m--> 511\u001b[0m         \u001b[43mraise_exception\u001b[49m\u001b[43m(\u001b[49m\u001b[43mexc\u001b[49m\u001b[43m,\u001b[49m\u001b[43m \u001b[49m\u001b[43mtb\u001b[49m\u001b[43m)\u001b[49m\n\u001b[0;32m    512\u001b[0m res, worker_id \u001b[38;5;241m=\u001b[39m loads(res_info)\n\u001b[0;32m    513\u001b[0m state[\u001b[38;5;124m\"\u001b[39m\u001b[38;5;124mcache\u001b[39m\u001b[38;5;124m\"\u001b[39m][key] \u001b[38;5;241m=\u001b[39m res\n",
      "File \u001b[1;32m~\\Anaconda\\lib\\site-packages\\dask\\local.py:319\u001b[0m, in \u001b[0;36mreraise\u001b[1;34m(exc, tb)\u001b[0m\n\u001b[0;32m    317\u001b[0m \u001b[38;5;28;01mif\u001b[39;00m exc\u001b[38;5;241m.\u001b[39m__traceback__ \u001b[38;5;129;01mis\u001b[39;00m \u001b[38;5;129;01mnot\u001b[39;00m tb:\n\u001b[0;32m    318\u001b[0m     \u001b[38;5;28;01mraise\u001b[39;00m exc\u001b[38;5;241m.\u001b[39mwith_traceback(tb)\n\u001b[1;32m--> 319\u001b[0m \u001b[38;5;28;01mraise\u001b[39;00m exc\n",
      "File \u001b[1;32m~\\Anaconda\\lib\\site-packages\\dask\\local.py:224\u001b[0m, in \u001b[0;36mexecute_task\u001b[1;34m(key, task_info, dumps, loads, get_id, pack_exception)\u001b[0m\n\u001b[0;32m    222\u001b[0m \u001b[38;5;28;01mtry\u001b[39;00m:\n\u001b[0;32m    223\u001b[0m     task, data \u001b[38;5;241m=\u001b[39m loads(task_info)\n\u001b[1;32m--> 224\u001b[0m     result \u001b[38;5;241m=\u001b[39m \u001b[43m_execute_task\u001b[49m\u001b[43m(\u001b[49m\u001b[43mtask\u001b[49m\u001b[43m,\u001b[49m\u001b[43m \u001b[49m\u001b[43mdata\u001b[49m\u001b[43m)\u001b[49m\n\u001b[0;32m    225\u001b[0m     \u001b[38;5;28mid\u001b[39m \u001b[38;5;241m=\u001b[39m get_id()\n\u001b[0;32m    226\u001b[0m     result \u001b[38;5;241m=\u001b[39m dumps((result, \u001b[38;5;28mid\u001b[39m))\n",
      "File \u001b[1;32m~\\Anaconda\\lib\\site-packages\\dask\\core.py:119\u001b[0m, in \u001b[0;36m_execute_task\u001b[1;34m(arg, cache, dsk)\u001b[0m\n\u001b[0;32m    115\u001b[0m     func, args \u001b[38;5;241m=\u001b[39m arg[\u001b[38;5;241m0\u001b[39m], arg[\u001b[38;5;241m1\u001b[39m:]\n\u001b[0;32m    116\u001b[0m     \u001b[38;5;66;03m# Note: Don't assign the subtask results to a variable. numpy detects\u001b[39;00m\n\u001b[0;32m    117\u001b[0m     \u001b[38;5;66;03m# temporaries by their reference count and can execute certain\u001b[39;00m\n\u001b[0;32m    118\u001b[0m     \u001b[38;5;66;03m# operations in-place.\u001b[39;00m\n\u001b[1;32m--> 119\u001b[0m     \u001b[38;5;28;01mreturn\u001b[39;00m \u001b[43mfunc\u001b[49m\u001b[43m(\u001b[49m\u001b[38;5;241;43m*\u001b[39;49m\u001b[43m(\u001b[49m\u001b[43m_execute_task\u001b[49m\u001b[43m(\u001b[49m\u001b[43ma\u001b[49m\u001b[43m,\u001b[49m\u001b[43m \u001b[49m\u001b[43mcache\u001b[49m\u001b[43m)\u001b[49m\u001b[43m \u001b[49m\u001b[38;5;28;43;01mfor\u001b[39;49;00m\u001b[43m \u001b[49m\u001b[43ma\u001b[49m\u001b[43m \u001b[49m\u001b[38;5;129;43;01min\u001b[39;49;00m\u001b[43m \u001b[49m\u001b[43margs\u001b[49m\u001b[43m)\u001b[49m\u001b[43m)\u001b[49m\n\u001b[0;32m    120\u001b[0m \u001b[38;5;28;01melif\u001b[39;00m \u001b[38;5;129;01mnot\u001b[39;00m ishashable(arg):\n\u001b[0;32m    121\u001b[0m     \u001b[38;5;28;01mreturn\u001b[39;00m arg\n",
      "File \u001b[1;32m~\\Anaconda\\lib\\site-packages\\dask\\optimization.py:990\u001b[0m, in \u001b[0;36mSubgraphCallable.__call__\u001b[1;34m(self, *args)\u001b[0m\n\u001b[0;32m    988\u001b[0m \u001b[38;5;28;01mif\u001b[39;00m \u001b[38;5;129;01mnot\u001b[39;00m \u001b[38;5;28mlen\u001b[39m(args) \u001b[38;5;241m==\u001b[39m \u001b[38;5;28mlen\u001b[39m(\u001b[38;5;28mself\u001b[39m\u001b[38;5;241m.\u001b[39minkeys):\n\u001b[0;32m    989\u001b[0m     \u001b[38;5;28;01mraise\u001b[39;00m \u001b[38;5;167;01mValueError\u001b[39;00m(\u001b[38;5;124m\"\u001b[39m\u001b[38;5;124mExpected \u001b[39m\u001b[38;5;132;01m%d\u001b[39;00m\u001b[38;5;124m args, got \u001b[39m\u001b[38;5;132;01m%d\u001b[39;00m\u001b[38;5;124m\"\u001b[39m \u001b[38;5;241m%\u001b[39m (\u001b[38;5;28mlen\u001b[39m(\u001b[38;5;28mself\u001b[39m\u001b[38;5;241m.\u001b[39minkeys), \u001b[38;5;28mlen\u001b[39m(args)))\n\u001b[1;32m--> 990\u001b[0m \u001b[38;5;28;01mreturn\u001b[39;00m \u001b[43mcore\u001b[49m\u001b[38;5;241;43m.\u001b[39;49m\u001b[43mget\u001b[49m\u001b[43m(\u001b[49m\u001b[38;5;28;43mself\u001b[39;49m\u001b[38;5;241;43m.\u001b[39;49m\u001b[43mdsk\u001b[49m\u001b[43m,\u001b[49m\u001b[43m \u001b[49m\u001b[38;5;28;43mself\u001b[39;49m\u001b[38;5;241;43m.\u001b[39;49m\u001b[43moutkey\u001b[49m\u001b[43m,\u001b[49m\u001b[43m \u001b[49m\u001b[38;5;28;43mdict\u001b[39;49m\u001b[43m(\u001b[49m\u001b[38;5;28;43mzip\u001b[39;49m\u001b[43m(\u001b[49m\u001b[38;5;28;43mself\u001b[39;49m\u001b[38;5;241;43m.\u001b[39;49m\u001b[43minkeys\u001b[49m\u001b[43m,\u001b[49m\u001b[43m \u001b[49m\u001b[43margs\u001b[49m\u001b[43m)\u001b[49m\u001b[43m)\u001b[49m\u001b[43m)\u001b[49m\n",
      "File \u001b[1;32m~\\Anaconda\\lib\\site-packages\\dask\\core.py:149\u001b[0m, in \u001b[0;36mget\u001b[1;34m(dsk, out, cache)\u001b[0m\n\u001b[0;32m    147\u001b[0m \u001b[38;5;28;01mfor\u001b[39;00m key \u001b[38;5;129;01min\u001b[39;00m toposort(dsk):\n\u001b[0;32m    148\u001b[0m     task \u001b[38;5;241m=\u001b[39m dsk[key]\n\u001b[1;32m--> 149\u001b[0m     result \u001b[38;5;241m=\u001b[39m \u001b[43m_execute_task\u001b[49m\u001b[43m(\u001b[49m\u001b[43mtask\u001b[49m\u001b[43m,\u001b[49m\u001b[43m \u001b[49m\u001b[43mcache\u001b[49m\u001b[43m)\u001b[49m\n\u001b[0;32m    150\u001b[0m     cache[key] \u001b[38;5;241m=\u001b[39m result\n\u001b[0;32m    151\u001b[0m result \u001b[38;5;241m=\u001b[39m _execute_task(out, cache)\n",
      "File \u001b[1;32m~\\Anaconda\\lib\\site-packages\\dask\\core.py:119\u001b[0m, in \u001b[0;36m_execute_task\u001b[1;34m(arg, cache, dsk)\u001b[0m\n\u001b[0;32m    115\u001b[0m     func, args \u001b[38;5;241m=\u001b[39m arg[\u001b[38;5;241m0\u001b[39m], arg[\u001b[38;5;241m1\u001b[39m:]\n\u001b[0;32m    116\u001b[0m     \u001b[38;5;66;03m# Note: Don't assign the subtask results to a variable. numpy detects\u001b[39;00m\n\u001b[0;32m    117\u001b[0m     \u001b[38;5;66;03m# temporaries by their reference count and can execute certain\u001b[39;00m\n\u001b[0;32m    118\u001b[0m     \u001b[38;5;66;03m# operations in-place.\u001b[39;00m\n\u001b[1;32m--> 119\u001b[0m     \u001b[38;5;28;01mreturn\u001b[39;00m \u001b[43mfunc\u001b[49m\u001b[43m(\u001b[49m\u001b[38;5;241;43m*\u001b[39;49m\u001b[43m(\u001b[49m\u001b[43m_execute_task\u001b[49m\u001b[43m(\u001b[49m\u001b[43ma\u001b[49m\u001b[43m,\u001b[49m\u001b[43m \u001b[49m\u001b[43mcache\u001b[49m\u001b[43m)\u001b[49m\u001b[43m \u001b[49m\u001b[38;5;28;43;01mfor\u001b[39;49;00m\u001b[43m \u001b[49m\u001b[43ma\u001b[49m\u001b[43m \u001b[49m\u001b[38;5;129;43;01min\u001b[39;49;00m\u001b[43m \u001b[49m\u001b[43margs\u001b[49m\u001b[43m)\u001b[49m\u001b[43m)\u001b[49m\n\u001b[0;32m    120\u001b[0m \u001b[38;5;28;01melif\u001b[39;00m \u001b[38;5;129;01mnot\u001b[39;00m ishashable(arg):\n\u001b[0;32m    121\u001b[0m     \u001b[38;5;28;01mreturn\u001b[39;00m arg\n",
      "File \u001b[1;32m~\\Anaconda\\lib\\site-packages\\dask\\utils.py:72\u001b[0m, in \u001b[0;36mapply\u001b[1;34m(func, args, kwargs)\u001b[0m\n\u001b[0;32m     41\u001b[0m \u001b[38;5;124;03m\"\"\"Apply a function given its positional and keyword arguments.\u001b[39;00m\n\u001b[0;32m     42\u001b[0m \n\u001b[0;32m     43\u001b[0m \u001b[38;5;124;03mEquivalent to ``func(*args, **kwargs)``\u001b[39;00m\n\u001b[1;32m   (...)\u001b[0m\n\u001b[0;32m     69\u001b[0m \u001b[38;5;124;03m>>> dsk = {'task-name': task}  # adds the task to a low level Dask task graph\u001b[39;00m\n\u001b[0;32m     70\u001b[0m \u001b[38;5;124;03m\"\"\"\u001b[39;00m\n\u001b[0;32m     71\u001b[0m \u001b[38;5;28;01mif\u001b[39;00m kwargs:\n\u001b[1;32m---> 72\u001b[0m     \u001b[38;5;28;01mreturn\u001b[39;00m func(\u001b[38;5;241m*\u001b[39margs, \u001b[38;5;241m*\u001b[39m\u001b[38;5;241m*\u001b[39mkwargs)\n\u001b[0;32m     73\u001b[0m \u001b[38;5;28;01melse\u001b[39;00m:\n\u001b[0;32m     74\u001b[0m     \u001b[38;5;28;01mreturn\u001b[39;00m func(\u001b[38;5;241m*\u001b[39margs)\n",
      "File \u001b[1;32m~\\Anaconda\\lib\\site-packages\\dask\\dataframe\\core.py:6826\u001b[0m, in \u001b[0;36mapply_and_enforce\u001b[1;34m(*args, **kwargs)\u001b[0m\n\u001b[0;32m   6824\u001b[0m     \u001b[38;5;28;01mreturn\u001b[39;00m meta\n\u001b[0;32m   6825\u001b[0m \u001b[38;5;28;01mif\u001b[39;00m is_dataframe_like(df):\n\u001b[1;32m-> 6826\u001b[0m     \u001b[43mcheck_matching_columns\u001b[49m\u001b[43m(\u001b[49m\u001b[43mmeta\u001b[49m\u001b[43m,\u001b[49m\u001b[43m \u001b[49m\u001b[43mdf\u001b[49m\u001b[43m)\u001b[49m\n\u001b[0;32m   6827\u001b[0m     c \u001b[38;5;241m=\u001b[39m meta\u001b[38;5;241m.\u001b[39mcolumns\n\u001b[0;32m   6828\u001b[0m \u001b[38;5;28;01melse\u001b[39;00m:\n",
      "File \u001b[1;32m~\\Anaconda\\lib\\site-packages\\dask\\dataframe\\utils.py:422\u001b[0m, in \u001b[0;36mcheck_matching_columns\u001b[1;34m(meta, actual)\u001b[0m\n\u001b[0;32m    420\u001b[0m \u001b[38;5;28;01mdef\u001b[39;00m \u001b[38;5;21mcheck_matching_columns\u001b[39m(meta, actual):\n\u001b[0;32m    421\u001b[0m     \u001b[38;5;66;03m# Need nan_to_num otherwise nan comparison gives False\u001b[39;00m\n\u001b[1;32m--> 422\u001b[0m     \u001b[38;5;28;01mif\u001b[39;00m \u001b[38;5;129;01mnot\u001b[39;00m np\u001b[38;5;241m.\u001b[39marray_equal(np\u001b[38;5;241m.\u001b[39mnan_to_num(\u001b[43mmeta\u001b[49m\u001b[38;5;241;43m.\u001b[39;49m\u001b[43mcolumns\u001b[49m), np\u001b[38;5;241m.\u001b[39mnan_to_num(actual\u001b[38;5;241m.\u001b[39mcolumns)):\n\u001b[0;32m    423\u001b[0m         extra \u001b[38;5;241m=\u001b[39m methods\u001b[38;5;241m.\u001b[39mtolist(actual\u001b[38;5;241m.\u001b[39mcolumns\u001b[38;5;241m.\u001b[39mdifference(meta\u001b[38;5;241m.\u001b[39mcolumns))\n\u001b[0;32m    424\u001b[0m         missing \u001b[38;5;241m=\u001b[39m methods\u001b[38;5;241m.\u001b[39mtolist(meta\u001b[38;5;241m.\u001b[39mcolumns\u001b[38;5;241m.\u001b[39mdifference(actual\u001b[38;5;241m.\u001b[39mcolumns))\n",
      "File \u001b[1;32m~\\Anaconda\\lib\\site-packages\\pandas\\core\\generic.py:5575\u001b[0m, in \u001b[0;36mNDFrame.__getattr__\u001b[1;34m(self, name)\u001b[0m\n\u001b[0;32m   5568\u001b[0m \u001b[38;5;28;01mif\u001b[39;00m (\n\u001b[0;32m   5569\u001b[0m     name \u001b[38;5;129;01mnot\u001b[39;00m \u001b[38;5;129;01min\u001b[39;00m \u001b[38;5;28mself\u001b[39m\u001b[38;5;241m.\u001b[39m_internal_names_set\n\u001b[0;32m   5570\u001b[0m     \u001b[38;5;129;01mand\u001b[39;00m name \u001b[38;5;129;01mnot\u001b[39;00m \u001b[38;5;129;01min\u001b[39;00m \u001b[38;5;28mself\u001b[39m\u001b[38;5;241m.\u001b[39m_metadata\n\u001b[0;32m   5571\u001b[0m     \u001b[38;5;129;01mand\u001b[39;00m name \u001b[38;5;129;01mnot\u001b[39;00m \u001b[38;5;129;01min\u001b[39;00m \u001b[38;5;28mself\u001b[39m\u001b[38;5;241m.\u001b[39m_accessors\n\u001b[0;32m   5572\u001b[0m     \u001b[38;5;129;01mand\u001b[39;00m \u001b[38;5;28mself\u001b[39m\u001b[38;5;241m.\u001b[39m_info_axis\u001b[38;5;241m.\u001b[39m_can_hold_identifiers_and_holds_name(name)\n\u001b[0;32m   5573\u001b[0m ):\n\u001b[0;32m   5574\u001b[0m     \u001b[38;5;28;01mreturn\u001b[39;00m \u001b[38;5;28mself\u001b[39m[name]\n\u001b[1;32m-> 5575\u001b[0m \u001b[38;5;28;01mreturn\u001b[39;00m \u001b[38;5;28;43mobject\u001b[39;49m\u001b[38;5;241;43m.\u001b[39;49m\u001b[38;5;21;43m__getattribute__\u001b[39;49m\u001b[43m(\u001b[49m\u001b[38;5;28;43mself\u001b[39;49m\u001b[43m,\u001b[49m\u001b[43m \u001b[49m\u001b[43mname\u001b[49m\u001b[43m)\u001b[49m\n",
      "\u001b[1;31mAttributeError\u001b[0m: 'Series' object has no attribute 'columns'"
     ]
    }
   ],
   "source": [
    "final_df = dff.groupby(\"rubricName\").apply(lambda x: x.nlargest(15, \"date\"), meta=('x', 'f8')).compute()"
   ]
  },
  {
   "cell_type": "code",
   "execution_count": null,
   "id": "b7dbe5eb",
   "metadata": {},
   "outputs": [],
   "source": []
  },
  {
   "cell_type": "markdown",
   "id": "8d7903f8",
   "metadata": {},
   "source": [
    "# Подсчет количества пользователей по всем файлам"
   ]
  },
  {
   "cell_type": "markdown",
   "id": "5b7f92a5",
   "metadata": {},
   "source": [
    "### Все категории"
   ]
  },
  {
   "cell_type": "code",
   "execution_count": null,
   "id": "63f8542b",
   "metadata": {
    "scrolled": true
   },
   "outputs": [],
   "source": [
    "#df_all = dd.concat([df20_raw,df21_raw,df22_raw,df23_raw])\n",
    "\n",
    "#df_all.to_parquet('df_all')\n",
    "\n",
    "df_all = dd.read_parquet('df_all')\n",
    "\n",
    "users_itogo = df_all.groupby('rubricName').user.nunique().compute()\n",
    "\n",
    "users_itogo_result = df_all.user.nunique().compute()\n",
    "\n",
    "df20_raw = dd.read_csv(r\"C:/Users/Mamed/Downloads/Москва_2020_969792.csv\", dtype={'fl': 'object'})\n",
    "df21_raw = dd.read_csv(r\"C:/Users/Mamed/Downloads/Москва_2021_970748.csv\", dtype={'fl': 'object'})\n",
    "df22_raw = dd.read_csv(r\"C:/Users/Mamed/Downloads/Москва_2022_970753.csv\", dtype={'fl': 'object'})\n",
    "df23_raw = dd.read_csv(r\"C:/Users/Mamed/Downloads/Москва_2023_970754.csv\", dtype={'fl': 'object'})\n",
    "\n",
    "df20_result_cnt = df20_raw.user.nunique().compute()\n",
    "df21_result_cnt = df21_raw.user.nunique().compute()\n",
    "df22_result_cnt = df22_raw.user.nunique().compute()\n",
    "df23_result_cnt = df23_raw.user.nunique().compute()\n",
    "\n",
    "print(users_itogo_result, \n",
    "df20_result_cnt,\n",
    "df21_result_cnt,\n",
    "df22_result_cnt,\n",
    "df23_result_cnt,)\n",
    "\n",
    "users_itogo.to_excel('users_itogo.xlsx')"
   ]
  },
  {
   "cell_type": "markdown",
   "id": "db03162e",
   "metadata": {},
   "source": [
    "### Часть категорий"
   ]
  },
  {
   "cell_type": "code",
   "execution_count": null,
   "id": "cefbf50f",
   "metadata": {
    "scrolled": true
   },
   "outputs": [],
   "source": [
    "rubrics = pd.read_excel(r\"C:\\Users\\Mamed\\Downloads\\Свод_2ГИС_Москва_230311_0145.xlsx\")[['Рубрика']]\n",
    "df_all = dd.read_parquet('df_all')\n",
    "df_filtered = df_all.merge(rubrics, left_on='rubricName', right_on='Рубрика')\n",
    "\n",
    "df_filtered.to_parquet('df_filtered')\n",
    "\n",
    "users_filtered_itogo = df_filtered.groupby('rubricName').user.nunique().compute()\n",
    "users_filtered_itogo_result = df_filtered.user.nunique().compute()\n",
    "users_filtered_itogo.to_excel('users_filtered_itogo.xlsx')\n",
    "\n",
    "df20_filtered = dd.read_csv(r\"C:/Users/Mamed/Downloads/Москва_2020_969792.csv\", dtype={'fl': 'object'}).merge(rubrics, left_on='rubricName', right_on='Рубрика')\n",
    "df21_filtered = dd.read_csv(r\"C:/Users/Mamed/Downloads/Москва_2021_970748.csv\", dtype={'fl': 'object'}).merge(rubrics, left_on='rubricName', right_on='Рубрика')\n",
    "df22_filtered = dd.read_csv(r\"C:/Users/Mamed/Downloads/Москва_2022_970753.csv\", dtype={'fl': 'object'}).merge(rubrics, left_on='rubricName', right_on='Рубрика')\n",
    "df23_filtered = dd.read_csv(r\"C:/Users/Mamed/Downloads/Москва_2023_970754.csv\", dtype={'fl': 'object'}).merge(rubrics, left_on='rubricName', right_on='Рубрика')\n",
    "\n",
    "df20_filtered_result_cnt = df20_filtered.user.nunique().compute()\n",
    "df21_filtered_result_cnt = df21_filtered.user.nunique().compute()\n",
    "df22_filtered_result_cnt = df22_filtered.user.nunique().compute()\n",
    "df23_filtered_result_cnt = df23_filtered.user.nunique().compute()\n",
    "\n",
    "print(users_filtered_itogo_result, \n",
    "df20_filtered_result_cnt,\n",
    "df21_filtered_result_cnt,\n",
    "df22_filtered_result_cnt,\n",
    "df23_filtered_result_cnt,)"
   ]
  },
  {
   "cell_type": "markdown",
   "id": "c5b2abee",
   "metadata": {},
   "source": [
    "# Алгоритм сокращения топ-мест в рейтингах для категорий"
   ]
  },
  {
   "cell_type": "code",
   "execution_count": 133,
   "id": "d6de20dd",
   "metadata": {},
   "outputs": [],
   "source": [
    "def row_number(df, col, sort_col, desc=True, filter_df=True, index=30, filter_zero=False):\n",
    "    if filter_df:\n",
    "        rows_to_count = df[df[col]].sort_values(sort_col,ascending=not desc).loc[:,[col]].index[:index]\n",
    "    elif filter_zero:\n",
    "        rows_to_count = df[df[col]!=0].sort_values(sort_col,ascending=not desc).loc[:,[col]].index[:index]\n",
    "    else:\n",
    "        rows_to_count = df.sort_values(sort_col,ascending=not desc).loc[:,[col]].index[:index]\n",
    "        df_shape = df.shape\n",
    "    rows_to_zero = [i for i in df.index if i not in rows_to_count] \n",
    "    n = 0\n",
    "    for r0 in rows_to_zero:\n",
    "        df.loc[r0, col] = 0\n",
    "    for r in rows_to_count:\n",
    "        n += 1\n",
    "        df.loc[r, col] = n\n",
    "    \n",
    "    return df\n",
    "\n",
    "def count_ratings(df):\n",
    "    df_user_max = df.loc[:,['Пользователи 2020','Пользователи 2021','Пользователи 2022','Пользователи 2023']].max(axis=1)\n",
    "    df_user_min = df.loc[:,['Пользователи 2020','Пользователи 2021','Пользователи 2022','Пользователи 2023']].min(axis=1)\n",
    "\n",
    "    df['Рейтинг по пользователям 2020'] = df_user_max == df.loc[:,['Пользователи 2020']].iloc[:,0]\n",
    "    df['Рейтинг по пользователям 2021'] = df_user_max == df.loc[:,['Пользователи 2021']].iloc[:,0]\n",
    "    df['Рейтинг по пользователям 2022'] = df_user_max == df.loc[:,['Пользователи 2022']].iloc[:,0]\n",
    "    df['Рейтинг по пользователям 2023'] = df_user_max == df.loc[:,['Пользователи 2023']].iloc[:,0]\n",
    "\n",
    "    df['Антирейтинг по пользователям 2020'] = df_user_min == df.loc[:,['Пользователи 2020']].iloc[:,0]\n",
    "    df['Антирейтинг по пользователям 2021'] = df_user_min == df.loc[:,['Пользователи 2021']].iloc[:,0]\n",
    "    df['Антирейтинг по пользователям 2022'] = df_user_min == df.loc[:,['Пользователи 2022']].iloc[:,0]\n",
    "    df['Антирейтинг по пользователям 2023'] = df_user_min == df.loc[:,['Пользователи 2023']].iloc[:,0]\n",
    "\n",
    "    df['Рейтинг постоянного\\nроста пользователей'] = (df['Пользователи 2020'] < df['Пользователи 2021']\n",
    "        & (df['Пользователи 2021'] < df['Пользователи 2022'])\n",
    "        & (df['Пользователи 2022'] < df['Пользователи 2023']))\n",
    "\n",
    "    df['Рейтинг постоянного\\nпадения пользователей'] = ((df['Пользователи 2020'] > df['Пользователи 2021']) \n",
    "        & (df['Пользователи 2021'] > df['Пользователи 2022'])\n",
    "        & (df['Пользователи 2022'] > df['Пользователи 2023']))\n",
    "\n",
    "    df['Рейтинг по пользователям ВНВН'] = ((df['Пользователи 2020'] > df['Пользователи 2021']) \n",
    "        & (df['Пользователи 2021'] < df['Пользователи 2022'])\n",
    "        & (df['Пользователи 2022'] > df['Пользователи 2023']))\n",
    "\n",
    "    df['Рейтинг по пользователям НВНВ'] = ((df['Пользователи 2020'] < df['Пользователи 2021']) \n",
    "        & (df['Пользователи 2021'] > df['Пользователи 2022'])\n",
    "        & (df['Пользователи 2022'] < df['Пользователи 2023']))\n",
    "\n",
    "    df['Рейтинг стабильности\\nчисла пользователей'] = abs(df_user_min / df_user_max - 1)\n",
    "\n",
    "    df = row_number(df, 'Рейтинг по пользователям 2020', 'Пользователи 2020')\n",
    "    df = row_number(df, 'Рейтинг по пользователям 2021', 'Пользователи 2021')\n",
    "    df = row_number(df, 'Рейтинг по пользователям 2022', 'Пользователи 2022')\n",
    "    df = row_number(df, 'Рейтинг по пользователям 2023', 'Пользователи 2023')\n",
    "    df = row_number(df, 'Рейтинг по пользователям, итого', 'Пользователи, итого', filter_df=False)\n",
    "\n",
    "    df = row_number(df, 'Антирейтинг по пользователям 2020', 'Пользователи 2020', desc=False)\n",
    "    df = row_number(df, 'Антирейтинг по пользователям 2021', 'Пользователи 2021', desc=False)\n",
    "    df = row_number(df, 'Антирейтинг по пользователям 2022', 'Пользователи 2022', desc=False)\n",
    "    df = row_number(df, 'Антирейтинг по пользователям 2023', 'Пользователи 2023', desc=False)\n",
    "\n",
    "    df = row_number(df, 'Рейтинг постоянного\\nроста пользователей', 'Пользователи, итого')\n",
    "    df = row_number(df, 'Рейтинг постоянного\\nпадения пользователей', 'Пользователи, итого')\n",
    "    df = row_number(df, 'Рейтинг по пользователям ВНВН', 'Пользователи 2023')\n",
    "    df = row_number(df, 'Рейтинг по пользователям НВНВ', 'Пользователи 2023')\n",
    "    df = row_number(df, 'Рейтинг стабильности\\nчисла пользователей', 'Пользователи, итого', filter_df=False)\n",
    "\n",
    "    df_req_max = df.loc[:,['Запросы 2020','Запросы 2021','Запросы 2022','Запросы 2023']].max(axis=1)\n",
    "    df_req_min = df.loc[:,['Запросы 2020','Запросы 2021','Запросы 2022','Запросы 2023']].min(axis=1)\n",
    "\n",
    "    df['Рейтинг по запросам 2020'] = df_req_max == df.loc[:,['Запросы 2020']].iloc[:,0]\n",
    "    df['Рейтинг по запросам 2021'] = df_req_max == df.loc[:,['Запросы 2021']].iloc[:,0]\n",
    "    df['Рейтинг по запросам 2022'] = df_req_max == df.loc[:,['Запросы 2022']].iloc[:,0]\n",
    "    df['Рейтинг по запросам 2023'] = df_req_max == df.loc[:,['Запросы 2023']].iloc[:,0]\n",
    "    df['Рейтинг по запросам, итого'] = df_req_max == df.loc[:,['Запросы, итого']].iloc[:,0]\n",
    "\n",
    "    df['Антирейтинг по запросам 2020'] = df_req_min == df.loc[:,['Запросы 2020']].iloc[:,0]\n",
    "    df['Антирейтинг по запросам 2021'] = df_req_min == df.loc[:,['Запросы 2021']].iloc[:,0]\n",
    "    df['Антирейтинг по запросам 2022'] = df_req_min == df.loc[:,['Запросы 2022']].iloc[:,0]\n",
    "    df['Антирейтинг по запросам 2023'] = df_req_min == df.loc[:,['Запросы 2023']].iloc[:,0]\n",
    "\n",
    "    df['Рейтинг постоянного\\nроста запросов'] = ((df['Запросы 2020'] < df['Запросы 2021']) \n",
    "        & (df['Запросы 2021'] < df['Запросы 2022'])\n",
    "        & (df['Запросы 2022'] < df['Запросы 2023']))\n",
    "\n",
    "    df['Рейтинг постоянного\\nпадения запросов'] = ((df['Запросы 2020'] > df['Запросы 2021']) \n",
    "        & (df['Запросы 2021'] > df['Запросы 2022'])\n",
    "        & (df['Запросы 2022'] > df['Запросы 2023']))\n",
    "\n",
    "    df['Рейтинг по запросам ВНВН'] = ((df['Пользователи 2020'] > df['Пользователи 2021']) \n",
    "        & (df['Пользователи 2021'] < df['Пользователи 2022'])\n",
    "        & (df['Пользователи 2022'] > df['Пользователи 2023']))\n",
    "\n",
    "    df['Рейтинг по запросам НВНВ'] = ((df['Запросы 2020'] < df['Запросы 2021']) \n",
    "        & (df['Запросы 2021'] > df['Запросы 2022'])\n",
    "        & (df['Запросы 2022'] < df['Запросы 2023']))\n",
    "\n",
    "    df['Рейтинг стабильности\\nчисла запросов'] = abs(df_req_min / df_req_max - 1)\n",
    "\n",
    "    from scipy.stats.stats import pearsonr\n",
    "\n",
    "    x = df[['Пользователи 2020','Пользователи 2021','Пользователи 2022','Пользователи 2023']]\n",
    "    y = df[['Запросы 2020','Запросы 2021','Запросы 2022','Запросы 2023']]\n",
    "    df = df.fillna(0)\n",
    "    for row in df.index:\n",
    "        df.loc[row, 'Антирейтинг схожести динамики\\nпользователей и запросов'] = scipy.stats.pearsonr(x.loc[row], y.loc[row])[0]\n",
    "    df['Рейтинг схожести динамики\\nпользователей и запросов'] = df['Антирейтинг схожести динамики\\nпользователей и запросов']\n",
    "\n",
    "\n",
    "    df = row_number(df, 'Рейтинг по запросам 2020', 'Запросы 2020')\n",
    "    df = row_number(df, 'Рейтинг по запросам 2021', 'Запросы 2021')\n",
    "    df = row_number(df, 'Рейтинг по запросам 2022', 'Запросы 2022')\n",
    "    df = row_number(df, 'Рейтинг по запросам 2023', 'Запросы 2023')\n",
    "    df = row_number(df, 'Рейтинг по запросам, итого', 'Запросы, итого', filter_df=False)\n",
    "\n",
    "    df = row_number(df, 'Антирейтинг по запросам 2020', 'Запросы 2020', desc=False)\n",
    "    df = row_number(df, 'Антирейтинг по запросам 2021', 'Запросы 2021', desc=False)\n",
    "    df = row_number(df, 'Антирейтинг по запросам 2022', 'Запросы 2022', desc=False)\n",
    "    df = row_number(df, 'Антирейтинг по запросам 2023', 'Запросы 2023', desc=False)\n",
    "\n",
    "    df = row_number(df, 'Рейтинг постоянного\\nроста запросов', 'Запросы, итого')\n",
    "    df = row_number(df, 'Рейтинг постоянного\\nпадения запросов', 'Запросы, итого')\n",
    "    df = row_number(df, 'Рейтинг по запросам ВНВН', 'Запросы 2023')\n",
    "    df = row_number(df, 'Рейтинг по запросам НВНВ', 'Запросы 2023')\n",
    "    df = row_number(df, 'Рейтинг стабильности\\nчисла запросов', 'Запросы, итого', filter_df=False)\n",
    "\n",
    "    df = row_number(df, 'Рейтинг схожести динамики\\nпользователей и запросов', 'Запросы, итого', filter_df=False)\n",
    "    df = row_number(df, 'Антирейтинг схожести динамики\\nпользователей и запросов', 'Запросы, итого', desc=False, filter_df=False)\n",
    "    \n",
    "    return df\n",
    "\n",
    "def horizontal_optimization(table_to_optimize):\n",
    "    new_svod = table_to_optimize\n",
    "    try:\n",
    "        test_svod = new_svod.drop(['InLists', 'inList, сумма'], axis=1).copy()\n",
    "    except:\n",
    "        test_svod = new_svod.copy()\n",
    "    index_set = set(new_svod.index)\n",
    "    cnt = 0\n",
    "    total_sum = 9999\n",
    "    while cnt < 10000 and len(index_set)> 0:\n",
    "        j = index_set.pop()\n",
    "        cnt += 1\n",
    "        cols = [i for i in test_svod.loc[j][test_svod.loc[j] > 0].sort_values(ascending=False).index]\n",
    "        for i in cols:   \n",
    "            cnt_horizontal = test_svod.loc[j].drop('cnt_horizontal').replace(range(1, 31), 1).sum()\n",
    "            cnt_vertical = test_svod[i].replace(range(1, 31), 1).sum()\n",
    "            if cnt_vertical > 15 and cnt_horizontal > 1:\n",
    "                test_svod[i][j] = 0\n",
    "        \n",
    "        cols_set = set(cols)\n",
    "        cnt2 = 0\n",
    "        while cols_set:\n",
    "            i = cols_set.pop()\n",
    "            cnt_horizontal = test_svod.loc[j].drop('cnt_horizontal').replace(range(1, 31), 1).sum()\n",
    "            cnt_vertical = test_svod[i].replace(range(1, 31), 1).sum()\n",
    "            if cnt_vertical > 15 and cnt_horizontal > 1:\n",
    "                test_svod[i][j] = 0\n",
    "        total_sum = test_svod.sum(axis=1).sum()\n",
    "        \n",
    "        #print(total_sum)\n",
    "    test_svod['cnt_horizontal'] = test_svod.drop('cnt_horizontal', axis=1).replace(range(1, 31), 1).sum(axis=1)\n",
    "    test_svod = test_svod.sort_values('cnt_horizontal', ascending=False)\n",
    "    return test_svod\n",
    "\n",
    "def vertical_optimization(table_to_optimize, original_table):\n",
    "    df = table_to_optimize\n",
    "    new_svod = original_table\n",
    "    for i in range(10):\n",
    "        for cat_to_optimize in df.index:\n",
    "            # сейчас есть значение, превращаем в ноль\n",
    "            col = df.drop('cnt_horizontal', axis=1).loc[cat_to_optimize].sort_values(ascending=False).index[0]\n",
    "\n",
    "            # сейчас 0 возвращаем значение из бэкапа\n",
    "            try:\n",
    "                cat_to_reset = (\n",
    "                     df\n",
    "                     .loc[df.index != cat_to_optimize]\n",
    "                     .loc[(new_svod.sort_index().loc[:, col] != df.sort_index().loc[:, col]) \n",
    "                          & (df[col] == 0)]\n",
    "                     .loc[:,[col, 'cnt_horizontal']]\n",
    "                     .sort_values([col, 'cnt_horizontal'], ascending=[False, True])\n",
    "                     .index[0]\n",
    "                )\n",
    "                if df.loc[cat_to_reset, 'cnt_horizontal'] + 1 < df.loc[cat_to_optimize, 'cnt_horizontal']:\n",
    "                    df.loc[cat_to_optimize, col] = 0\n",
    "                    df.loc[cat_to_reset, col] = new_svod.loc[cat_to_reset, col]\n",
    "                    df['cnt_horizontal'] = df.drop('cnt_horizontal', axis=1).replace(range(1, 31), 1).sum(axis=1)\n",
    "            except:\n",
    "                print('except vertical',i, cat_to_optimize)\n",
    "                pass\n",
    "    return df\n",
    "\n",
    "def optimize_df(df_to_optimize):\n",
    "    original_svod = df_to_optimize.copy()\n",
    "\n",
    "    original_svod_sorted = (\n",
    "        original_svod\n",
    "        .fillna(0)\n",
    "        .set_index('Рубрика')\n",
    "    ).sort_values('Рубрика')\n",
    "    original_svod_sorted = original_svod.loc[[not i.isnumeric() for i in original_svod['Рубрика']]]\n",
    "    \n",
    "    original_svod_counted = count_ratings(original_svod_sorted).set_index('Рубрика')\n",
    "\n",
    "    new_svod = original_svod_counted[[\n",
    "     'Рейтинг по пользователям, итого',\n",
    "     'Рейтинг по пользователям 2020',\n",
    "     'Рейтинг по пользователям 2023',\n",
    "     'Антирейтинг по пользователям 2023',\n",
    "     'Антирейтинг по пользователям 2020',\n",
    "     'Рейтинг постоянного\\nроста пользователей',\n",
    "     'Рейтинг постоянного\\nпадения пользователей',\n",
    "     'Рейтинг по пользователям 2021',\n",
    "     'Рейтинг по пользователям 2022',\n",
    "     'Антирейтинг по пользователям 2021',\n",
    "     'Антирейтинг по пользователям 2022',\n",
    "     'Рейтинг по пользователям ВНВН',\n",
    "     'Рейтинг по пользователям НВНВ',\n",
    "     'Рейтинг стабильности\\nчисла пользователей',\n",
    "     'Рейтинг схожести динамики\\nпользователей и запросов',\n",
    "     'Рейтинг по запросам, итого',\n",
    "     'Рейтинг по запросам 2020',\n",
    "     'Рейтинг по запросам 2023',\n",
    "     'Антирейтинг по запросам 2023',\n",
    "     'Антирейтинг по запросам 2020',\n",
    "     'Рейтинг постоянного\\nроста запросов',\n",
    "     'Рейтинг постоянного\\nпадения запросов',\n",
    "     'Рейтинг по запросам 2021',\n",
    "     'Рейтинг по запросам 2022',\n",
    "     'Антирейтинг по запросам 2021',\n",
    "     'Антирейтинг по запросам 2022',\n",
    "     'Рейтинг по запросам ВНВН',\n",
    "     'Рейтинг по запросам НВНВ',\n",
    "     'Рейтинг стабильности\\nчисла запросов',\n",
    "     'Антирейтинг схожести динамики\\nпользователей и запросов'\n",
    "                ]]\n",
    "\n",
    "    new_svod['cnt_horizontal'] = new_svod.replace(range(1, 31), 1).sum(axis=1)\n",
    "    new_svod = new_svod.sort_values('cnt_horizontal', ascending=False)\n",
    "\n",
    "    hor_optimized_svod = horizontal_optimization(new_svod)\n",
    "    vert_optimized_svod = vertical_optimization(hor_optimized_svod, new_svod)\n",
    "    #vert_optimized_svod = hor_optimized_svod\n",
    "\n",
    "    optimized_svod = vert_optimized_svod.reset_index()\n",
    "    optimized_svod['В рейтингах, раз'] = optimized_svod['cnt_horizontal']\n",
    "    #optimized_svod = optimized_svod.drop('cnt_horizontal', axis=1).sort_values('Рубрика')\n",
    "    optimized_svod = optimized_svod.drop('cnt_horizontal', axis=1).sort_index()\n",
    "    return optimized_svod\n",
    "\n",
    "def make_final(original_svod):\n",
    "    optimized_svod = optimize_df(original_svod)\n",
    "    original_svod_sorted = (\n",
    "        original_svod\n",
    "        .fillna(0)\n",
    "        .set_index('Рубрика')\n",
    "    ).sort_values('Рубрика')\n",
    "    original_svod_sorted = original_svod.loc[[not i.isnumeric() for i in original_svod['Рубрика']]]\n",
    "    \n",
    "    final_svod = original_svod_sorted.copy().reset_index()\n",
    "\n",
    "    final_svod = final_svod[['№', 'Рубрика', 'Пользователи 2020', 'Пользователи 2021',\n",
    "           'Пользователи 2022', 'Пользователи 2023', 'Пользователи, итого',\n",
    "           'Пользователи, %', 'Запросы 2020', 'Запросы 2021', 'Запросы 2022',\n",
    "           'Запросы 2023', 'Запросы, итого', 'Запросы, %',\n",
    "           'Запросов на пользователя 2020', 'Запросов на пользователя 2021',\n",
    "           'Запросов на пользователя 2022', 'Запросов на пользователя 2023',\n",
    "           'Запросов на пользователя, итого']].sort_values('№')\n",
    "\n",
    "    final_svod = final_svod.merge(optimized_svod, left_on='Рубрика', right_on='Рубрика')\n",
    "    final_svod['Рейтинг суммарный'] = final_svod[new_svod.drop('cnt_horizontal', axis=1).columns].sum(axis=1)\n",
    "    final_svod['Рейтинг средний'] = final_svod[new_svod.drop('cnt_horizontal', axis=1).columns].mean(axis=1)\n",
    "    final_svod = final_svod.sort_index().sort_values('№')\n",
    "\n",
    "    for i in new_svod.drop('cnt_horizontal', axis=1).columns:\n",
    "        final_svod = row_number(final_svod, i, i, desc=False, filter_df=False, index=15, filter_zero=True)\n",
    "\n",
    "    final_svod = final_svod[['№', 'Рубрика', 'Пользователи 2020', 'Пользователи 2021',\n",
    "           'Пользователи 2022', 'Пользователи 2023', 'Пользователи, итого',\n",
    "           'Пользователи, %', 'Запросы 2020', 'Запросы 2021', 'Запросы 2022',\n",
    "           'Запросы 2023', 'Запросы, итого', 'Запросы, %',\n",
    "           'Запросов на пользователя 2020', 'Запросов на пользователя 2021',\n",
    "           'Запросов на пользователя 2022', 'Запросов на пользователя 2023',\n",
    "           'Запросов на пользователя, итого', 'Рейтинг по пользователям, итого',\n",
    "           'Рейтинг по пользователям 2020', 'Рейтинг по пользователям 2021',\n",
    "           'Рейтинг по пользователям 2022', 'Рейтинг по пользователям 2023',\n",
    "           'Антирейтинг по пользователям 2020',\n",
    "           'Антирейтинг по пользователям 2021',\n",
    "           'Антирейтинг по пользователям 2022',\n",
    "           'Антирейтинг по пользователям 2023',\n",
    "           'Рейтинг постоянного\\nроста пользователей',\n",
    "           'Рейтинг постоянного\\nпадения пользователей',\n",
    "           'Рейтинг по пользователям ВНВН', 'Рейтинг по пользователям НВНВ',\n",
    "           'Рейтинг стабильности\\nчисла пользователей',\n",
    "           'Рейтинг схожести динамики\\nпользователей и запросов',\n",
    "           'Рейтинг по запросам, итого', 'Рейтинг по запросам 2020',\n",
    "           'Рейтинг по запросам 2021', 'Рейтинг по запросам 2022',\n",
    "           'Рейтинг по запросам 2023', 'Антирейтинг по запросам 2020',\n",
    "           'Антирейтинг по запросам 2021', 'Антирейтинг по запросам 2022',\n",
    "           'Антирейтинг по запросам 2023', 'Рейтинг постоянного\\nроста запросов',\n",
    "           'Рейтинг постоянного\\nпадения запросов', 'Рейтинг по запросам ВНВН',\n",
    "           'Рейтинг по запросам НВНВ', 'Рейтинг стабильности\\nчисла запросов',\n",
    "           'Антирейтинг схожести динамики\\nпользователей и запросов',\n",
    "           'В рейтингах, раз', 'Рейтинг суммарный', 'Рейтинг средний']]\n",
    "\n",
    "\n",
    "    df = (pd.DataFrame(new_svod.value_counts('cnt_horizontal'))\n",
    "     .merge(pd.DataFrame(hor_optimized_svod.value_counts('cnt_horizontal')), left_index=True, right_index=True, how='outer')\n",
    "     .merge(pd.DataFrame(vert_optimized_svod.value_counts('cnt_horizontal')), left_index=True, right_index=True, how='outer')\n",
    "     .fillna(0).astype(int))\n",
    "\n",
    "    df.columns = ['Оригинальный файл', 'Горизонтальная оптимизация', 'Вертикальная оптимизация']\n",
    "\n",
    "    display(df)\n",
    "    \n",
    "def rename(df1_req_cnt, df1_user_cnt):\n",
    "    pd_df1_req_cnt = pd.DataFrame(df1_req_cnt)\n",
    "    pd_df1_user_cnt = pd.DataFrame(df1_user_cnt)\n",
    "    df1_agg = pd_df1_req_cnt.merge(pd_df1_user_cnt, left_on='rubricName', right_on='rubricName')\n",
    "    df1_agg = df1_agg.sort_values('date', ascending=False)\n",
    "    #df1_agg['rubricName'] = df1_agg['rubricName_x']\n",
    "    df1_agg = df1_agg.set_index('rubricName')[['date', 'user']].fillna(0).astype(int)\n",
    "    return df1_agg"
   ]
  },
  {
   "cell_type": "code",
   "execution_count": 39,
   "id": "faa41861",
   "metadata": {},
   "outputs": [],
   "source": [
    "original_svod = pd.read_excel(r\"C:\\Users\\Mamed\\YandexDisk\\_Documents\\Проекты\\2ГИС 2023\\_Backups\\Мастер_таблица_2ГИС_Москва_230315_1745.xlsx\")"
   ]
  },
  {
   "cell_type": "code",
   "execution_count": null,
   "id": "0a420e61",
   "metadata": {},
   "outputs": [],
   "source": [
    "final_svod = make_final(original_svod)"
   ]
  },
  {
   "cell_type": "code",
   "execution_count": 17,
   "id": "8607683d",
   "metadata": {},
   "outputs": [],
   "source": [
    "#final_svod.to_excel('final_svod_master.xlsx', index=False)"
   ]
  },
  {
   "cell_type": "markdown",
   "id": "7bc9864f",
   "metadata": {},
   "source": [
    "# Новосибирск"
   ]
  },
  {
   "cell_type": "code",
   "execution_count": 132,
   "id": "b1b409e7",
   "metadata": {},
   "outputs": [],
   "source": [
    "\n",
    "\n",
    "df1_req_cnt_новосиб_2020 = pd.read_excel('df1_req_cnt_новосиб_2020.xlsx')\n",
    "df1_req_cnt_новосиб_2021 = pd.read_excel('df1_req_cnt_новосиб_2021.xlsx')\n",
    "df1_req_cnt_новосиб_2022 = pd.read_excel('df1_req_cnt_новосиб_2022.xlsx')\n",
    "df1_req_cnt_новосиб_2023 = pd.read_excel('df1_req_cnt_новосиб_2023.xlsx')\n",
    "\n",
    "df1_user_cnt_новосиб_2020 = pd.read_excel('df1_user_cnt_новосиб_2020.xlsx')\n",
    "df1_user_cnt_новосиб_2021 = pd.read_excel('df1_user_cnt_новосиб_2021.xlsx')\n",
    "df1_user_cnt_новосиб_2022 = pd.read_excel('df1_user_cnt_новосиб_2022.xlsx')\n",
    "df1_user_cnt_новосиб_2023 = pd.read_excel('df1_user_cnt_новосиб_2023.xlsx')\n",
    "\n",
    "df1_cnt_новосиб_2020 = rename(df1_req_cnt_новосиб_2020, df1_user_cnt_новосиб_2020)\n",
    "df1_cnt_новосиб_2021 = rename(df1_req_cnt_новосиб_2021, df1_user_cnt_новосиб_2021)\n",
    "df1_cnt_новосиб_2022 = rename(df1_req_cnt_новосиб_2022, df1_user_cnt_новосиб_2022)\n",
    "df1_cnt_новосиб_2023 = rename(df1_req_cnt_новосиб_2023, df1_user_cnt_новосиб_2023)\n",
    "\n",
    "df1_cnt_новосиб_2020_2021 = df1_cnt_новосиб_2020.merge(df1_cnt_новосиб_2021, how='outer', left_index=True, right_index=True)\n",
    "\n",
    "df1_cnt_новосиб_2022_2023 = df1_cnt_новосиб_2022.merge(df1_cnt_новосиб_2023, how='outer', left_index=True, right_index=True)\n",
    "\n",
    "columns1 = ['Запросы 2020','Пользователи 2020','Запросы 2021','Пользователи 2021']\n",
    "\n",
    "columns2 = ['Запросы 2022','Пользователи 2022','Запросы 2023','Пользователи 2023']\n",
    "\n",
    "df1_cnt_новосиб_2020_2021.columns = columns1\n",
    "\n",
    "df1_cnt_новосиб_2022_2023.columns = columns2\n",
    "\n",
    "df1_cnt_новосиб = df1_cnt_новосиб_2020_2021.merge(df1_cnt_новосиб_2022_2023, how='outer', left_index=True, right_index=True).reset_index()\n",
    "\n",
    "df1_cnt_новосиб['Рубрика'] = df1_cnt_новосиб['rubricName']\n",
    "\n",
    "df1_cnt_новосиб = df1_cnt_новосиб.drop('rubricName', axis=1)"
   ]
  },
  {
   "cell_type": "code",
   "execution_count": null,
   "id": "0d0034c8",
   "metadata": {},
   "outputs": [],
   "source": []
  }
 ],
 "metadata": {
  "kernelspec": {
   "display_name": "Python 3 (ipykernel)",
   "language": "python",
   "name": "python3"
  },
  "language_info": {
   "codemirror_mode": {
    "name": "ipython",
    "version": 3
   },
   "file_extension": ".py",
   "mimetype": "text/x-python",
   "name": "python",
   "nbconvert_exporter": "python",
   "pygments_lexer": "ipython3",
   "version": "3.9.12"
  }
 },
 "nbformat": 4,
 "nbformat_minor": 5
}
