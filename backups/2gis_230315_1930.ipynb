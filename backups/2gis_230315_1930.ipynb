{
 "cells": [
  {
   "cell_type": "code",
   "execution_count": 1,
   "id": "f84fdb3b",
   "metadata": {},
   "outputs": [],
   "source": [
    "import random\n",
    "#random.seed(99)\n",
    "import pandas as pd\n",
    "import numpy as np\n",
    "import dask.dataframe as dd\n",
    "import seaborn as sns\n",
    "import dask.datasets\n",
    "from dask_sql import Context\n",
    "import datetime\n",
    "import time\n",
    "pd.set_option('display.max_rows', None)\n",
    "pd.set_option('display.max_columns', None)\n",
    "pd.set_option('display.max_colwidth', None)\n",
    "\n",
    "pd.options.mode.chained_assignment = None"
   ]
  },
  {
   "cell_type": "markdown",
   "id": "00b42ecc",
   "metadata": {},
   "source": [
    "# Подсчет количества пользователей и запросов по категории на одном файле"
   ]
  },
  {
   "cell_type": "code",
   "execution_count": 2,
   "id": "049af92e",
   "metadata": {},
   "outputs": [],
   "source": [
    "def agg_df(df, year):\n",
    "    start_dt = datetime.datetime.now()\n",
    "    print('Start:', start_dt)\n",
    "    df1 = df[['user', 'rubricName', 'date']]\n",
    "    \n",
    "    try:\n",
    "        pd_df1_req_cnt = pd.read_excel(f'df1_req_cnt_{year}.xlsx')\n",
    "        pd_df1_user_cnt = pd.read_excel(f'df1_user_cnt_{year}.xlsx')\n",
    "        df1_agg = pd_df1_req_cnt.merge(pd_df1_user_cnt, left_index=True, right_index=True)\n",
    "    except:\n",
    "        df1_user_cnt = df1.groupby('rubricName').user.nunique().compute()\n",
    "        df1_req_cnt = df1.groupby('rubricName').date.count().compute()\n",
    "        df1_req_cnt.to_excel(f'df1_req_cnt_{year}.xlsx')\n",
    "        df1_user_cnt.to_excel(f'df1_user_cnt_{year}.xlsx')\n",
    "        pd_df1_req_cnt = pd.DataFrame(df1_req_cnt)\n",
    "        pd_df1_user_cnt = pd.DataFrame(df1_user_cnt)\n",
    "        df1_agg = pd_df1_req_cnt.merge(pd_df1_user_cnt, left_on='rubricName', right_on='rubricName')\n",
    "    \n",
    "    df1_agg = df1_agg.sort_values('date', ascending=False)\n",
    "    df1_agg['rubricName'] = df1_agg['rubricName_x']\n",
    "    df1_agg = df1_agg.set_index('rubricName')[['date', 'user']].fillna(0).astype(int)\n",
    "    df1_agg.to_excel(f'df1_agg_{year}.xlsx', index=False)\n",
    "    end_dt = datetime.datetime.now()\n",
    "    print('End:', end_dt)\n",
    "    print('Duration:', end_dt-start_dt)\n",
    "    return df1_agg"
   ]
  },
  {
   "cell_type": "markdown",
   "id": "1f475b99",
   "metadata": {},
   "source": [
    "### Москва"
   ]
  },
  {
   "cell_type": "code",
   "execution_count": 3,
   "id": "1b65533e",
   "metadata": {},
   "outputs": [
    {
     "name": "stdout",
     "output_type": "stream",
     "text": [
      "Start: 2023-03-13 16:27:50.341337\n",
      "End: 2023-03-13 16:27:53.322987\n",
      "Duration: 0:00:02.981650\n",
      "Start: 2023-03-13 16:27:53.373402\n",
      "End: 2023-03-13 16:27:53.922772\n",
      "Duration: 0:00:00.549370\n",
      "Start: 2023-03-13 16:27:53.970086\n",
      "End: 2023-03-13 16:27:54.445928\n",
      "Duration: 0:00:00.475842\n",
      "Start: 2023-03-13 16:27:54.524908\n",
      "End: 2023-03-13 16:27:55.025557\n",
      "Duration: 0:00:00.500649\n"
     ]
    }
   ],
   "source": [
    "df20_raw = dd.read_csv(r\"C:/Users/Mamed/Downloads/Москва_2020_969792.csv\", dtype={'fl': 'object'})\n",
    "df20_agg = agg_df(df20_raw, 2020)\n",
    "df21_raw = dd.read_csv(r\"C:/Users/Mamed/Downloads/Москва_2021_970748.csv\", dtype={'fl': 'object'})\n",
    "df21_agg = agg_df(df21_raw, 2021)\n",
    "df22_raw = dd.read_csv(r\"C:/Users/Mamed/Downloads/Москва_2022_970753.csv\", dtype={'fl': 'object'})\n",
    "df22_agg = agg_df(df22_raw, 2022)\n",
    "df23_raw = dd.read_csv(r\"C:/Users/Mamed/Downloads/Москва_2023_970754.csv\", dtype={'fl': 'object'})\n",
    "df23_agg = agg_df(df23_raw, 2023)"
   ]
  },
  {
   "cell_type": "markdown",
   "id": "a9cc6b93",
   "metadata": {},
   "source": [
    "### СПБ"
   ]
  },
  {
   "cell_type": "code",
   "execution_count": 21,
   "id": "caa2e7da",
   "metadata": {},
   "outputs": [
    {
     "name": "stdout",
     "output_type": "stream",
     "text": [
      "Start: 2023-03-13 17:56:43.702246\n",
      "End: 2023-03-13 17:56:43.902273\n",
      "Duration: 0:00:00.200027\n"
     ]
    }
   ],
   "source": [
    "spb20_raw = dd.read_csv(r\"C:\\Users\\Mamed\\Downloads\\СПБ_2020_974783.csv\")\n",
    "spb20_agg = agg_df(spb20_raw, 'spb_2020')"
   ]
  },
  {
   "cell_type": "code",
   "execution_count": null,
   "id": "b1fe8cbd",
   "metadata": {},
   "outputs": [],
   "source": [
    "spb21_raw = dd.read_csv(r\"C:\\Users\\Mamed\\Downloads\\СПБ_2021_974784.csv\")\n",
    "spb21_agg = agg_df(spb21_raw, 'spb_2021')"
   ]
  },
  {
   "cell_type": "markdown",
   "id": "8d7903f8",
   "metadata": {},
   "source": [
    "# Подсчет количества пользователей по всем файлам"
   ]
  },
  {
   "cell_type": "markdown",
   "id": "5b7f92a5",
   "metadata": {},
   "source": [
    "### Все категории"
   ]
  },
  {
   "cell_type": "code",
   "execution_count": 70,
   "id": "63f8542b",
   "metadata": {
    "scrolled": true
   },
   "outputs": [
    {
     "name": "stdout",
     "output_type": "stream",
     "text": [
      "5512385 1926180 1624863 1920044 1947122\n"
     ]
    }
   ],
   "source": [
    "#df_all = dd.concat([df20_raw,df21_raw,df22_raw,df23_raw])\n",
    "\n",
    "#df_all.to_parquet('df_all')\n",
    "\n",
    "df_all = dd.read_parquet('df_all')\n",
    "\n",
    "users_itogo = df_all.groupby('rubricName').user.nunique().compute()\n",
    "\n",
    "users_itogo_result = df_all.user.nunique().compute()\n",
    "\n",
    "df20_raw = dd.read_csv(r\"C:/Users/Mamed/Downloads/Москва_2020_969792.csv\", dtype={'fl': 'object'})\n",
    "df21_raw = dd.read_csv(r\"C:/Users/Mamed/Downloads/Москва_2021_970748.csv\", dtype={'fl': 'object'})\n",
    "df22_raw = dd.read_csv(r\"C:/Users/Mamed/Downloads/Москва_2022_970753.csv\", dtype={'fl': 'object'})\n",
    "df23_raw = dd.read_csv(r\"C:/Users/Mamed/Downloads/Москва_2023_970754.csv\", dtype={'fl': 'object'})\n",
    "\n",
    "df20_result_cnt = df20_raw.user.nunique().compute()\n",
    "df21_result_cnt = df21_raw.user.nunique().compute()\n",
    "df22_result_cnt = df22_raw.user.nunique().compute()\n",
    "df23_result_cnt = df23_raw.user.nunique().compute()\n",
    "\n",
    "print(users_itogo_result, \n",
    "df20_result_cnt,\n",
    "df21_result_cnt,\n",
    "df22_result_cnt,\n",
    "df23_result_cnt,)\n",
    "\n",
    "users_itogo.to_excel('users_itogo.xlsx')"
   ]
  },
  {
   "cell_type": "markdown",
   "id": "db03162e",
   "metadata": {},
   "source": [
    "### Часть категорий"
   ]
  },
  {
   "cell_type": "code",
   "execution_count": 80,
   "id": "cefbf50f",
   "metadata": {
    "scrolled": true
   },
   "outputs": [
    {
     "name": "stdout",
     "output_type": "stream",
     "text": [
      "4459161 1627743 1305787 1536122 1536886\n"
     ]
    }
   ],
   "source": [
    "rubrics = pd.read_excel(r\"C:\\Users\\Mamed\\Downloads\\Свод_2ГИС_Москва_230311_0145.xlsx\")[['Рубрика']]\n",
    "df_all = dd.read_parquet('df_all')\n",
    "df_filtered = df_all.merge(rubrics, left_on='rubricName', right_on='Рубрика')\n",
    "\n",
    "df_filtered.to_parquet('df_filtered')\n",
    "\n",
    "users_filtered_itogo = df_filtered.groupby('rubricName').user.nunique().compute()\n",
    "users_filtered_itogo_result = df_filtered.user.nunique().compute()\n",
    "users_filtered_itogo.to_excel('users_filtered_itogo.xlsx')\n",
    "\n",
    "df20_filtered = dd.read_csv(r\"C:/Users/Mamed/Downloads/Москва_2020_969792.csv\", dtype={'fl': 'object'}).merge(rubrics, left_on='rubricName', right_on='Рубрика')\n",
    "df21_filtered = dd.read_csv(r\"C:/Users/Mamed/Downloads/Москва_2021_970748.csv\", dtype={'fl': 'object'}).merge(rubrics, left_on='rubricName', right_on='Рубрика')\n",
    "df22_filtered = dd.read_csv(r\"C:/Users/Mamed/Downloads/Москва_2022_970753.csv\", dtype={'fl': 'object'}).merge(rubrics, left_on='rubricName', right_on='Рубрика')\n",
    "df23_filtered = dd.read_csv(r\"C:/Users/Mamed/Downloads/Москва_2023_970754.csv\", dtype={'fl': 'object'}).merge(rubrics, left_on='rubricName', right_on='Рубрика')\n",
    "\n",
    "df20_filtered_result_cnt = df20_filtered.user.nunique().compute()\n",
    "df21_filtered_result_cnt = df21_filtered.user.nunique().compute()\n",
    "df22_filtered_result_cnt = df22_filtered.user.nunique().compute()\n",
    "df23_filtered_result_cnt = df23_filtered.user.nunique().compute()\n",
    "\n",
    "print(users_filtered_itogo_result, \n",
    "df20_filtered_result_cnt,\n",
    "df21_filtered_result_cnt,\n",
    "df22_filtered_result_cnt,\n",
    "df23_filtered_result_cnt,)"
   ]
  },
  {
   "cell_type": "markdown",
   "id": "c5b2abee",
   "metadata": {},
   "source": [
    "# Алгоритм сокращения топ-мест в рейтингах для категорий"
   ]
  },
  {
   "cell_type": "code",
   "execution_count": 955,
   "id": "d0397c46",
   "metadata": {},
   "outputs": [],
   "source": [
    "def row_number(df, col, sort_col, desc=True, filter_df=True, index=30, filter_zero=False):\n",
    "    if filter_df:\n",
    "        rows_to_count = df[df[col]].sort_values(sort_col,ascending=not desc).loc[:,[col]].index[:index]\n",
    "    elif filter_zero:\n",
    "        rows_to_count = df[df[col]!=0].sort_values(sort_col,ascending=not desc).loc[:,[col]].index[:index]\n",
    "    else:\n",
    "        rows_to_count = df.sort_values(sort_col,ascending=not desc).loc[:,[col]].index[:index]\n",
    "        df_shape = df.shape\n",
    "    rows_to_zero = [i for i in df.index if i not in rows_to_count] \n",
    "    n = 0\n",
    "    for r0 in rows_to_zero:\n",
    "        df.loc[r0, col] = 0\n",
    "    for r in rows_to_count:\n",
    "        n += 1\n",
    "        df.loc[r, col] = n\n",
    "    \n",
    "    return df"
   ]
  },
  {
   "cell_type": "code",
   "execution_count": 956,
   "id": "e1e73270",
   "metadata": {},
   "outputs": [],
   "source": [
    "def count_ratings(df):\n",
    "    df_user_max = df.loc[:,['Пользователи 2020','Пользователи 2021','Пользователи 2022','Пользователи 2023']].max(axis=1)\n",
    "    df_user_min = df.loc[:,['Пользователи 2020','Пользователи 2021','Пользователи 2022','Пользователи 2023']].min(axis=1)\n",
    "\n",
    "    df['Рейтинг по пользователям 2020'] = df_user_max == df.loc[:,['Пользователи 2020']].iloc[:,0]\n",
    "    df['Рейтинг по пользователям 2021'] = df_user_max == df.loc[:,['Пользователи 2021']].iloc[:,0]\n",
    "    df['Рейтинг по пользователям 2022'] = df_user_max == df.loc[:,['Пользователи 2022']].iloc[:,0]\n",
    "    df['Рейтинг по пользователям 2023'] = df_user_max == df.loc[:,['Пользователи 2023']].iloc[:,0]\n",
    "\n",
    "    df['Антирейтинг по пользователям 2020'] = df_user_min == df.loc[:,['Пользователи 2020']].iloc[:,0]\n",
    "    df['Антирейтинг по пользователям 2021'] = df_user_min == df.loc[:,['Пользователи 2021']].iloc[:,0]\n",
    "    df['Антирейтинг по пользователям 2022'] = df_user_min == df.loc[:,['Пользователи 2022']].iloc[:,0]\n",
    "    df['Антирейтинг по пользователям 2023'] = df_user_min == df.loc[:,['Пользователи 2023']].iloc[:,0]\n",
    "\n",
    "    df['Рейтинг постоянного\\nроста пользователей'] = (df['Пользователи 2020'] < df['Пользователи 2021']\n",
    "        & (df['Пользователи 2021'] < df['Пользователи 2022'])\n",
    "        & (df['Пользователи 2022'] < df['Пользователи 2023']))\n",
    "\n",
    "    df['Рейтинг постоянного\\nпадения пользователей'] = ((df['Пользователи 2020'] > df['Пользователи 2021']) \n",
    "        & (df['Пользователи 2021'] > df['Пользователи 2022'])\n",
    "        & (df['Пользователи 2022'] > df['Пользователи 2023']))\n",
    "\n",
    "    df['Рейтинг по пользователям ВНВН'] = ((df['Пользователи 2020'] > df['Пользователи 2021']) \n",
    "        & (df['Пользователи 2021'] < df['Пользователи 2022'])\n",
    "        & (df['Пользователи 2022'] > df['Пользователи 2023']))\n",
    "\n",
    "    df['Рейтинг по пользователям НВНВ'] = ((df['Пользователи 2020'] < df['Пользователи 2021']) \n",
    "        & (df['Пользователи 2021'] > df['Пользователи 2022'])\n",
    "        & (df['Пользователи 2022'] < df['Пользователи 2023']))\n",
    "\n",
    "    df['Рейтинг стабильности\\nчисла пользователей'] = abs(df_user_min / df_user_max - 1)\n",
    "\n",
    "    df = row_number(df, 'Рейтинг по пользователям 2020', 'Пользователи 2020')\n",
    "    df = row_number(df, 'Рейтинг по пользователям 2021', 'Пользователи 2021')\n",
    "    df = row_number(df, 'Рейтинг по пользователям 2022', 'Пользователи 2022')\n",
    "    df = row_number(df, 'Рейтинг по пользователям 2023', 'Пользователи 2023')\n",
    "    df = row_number(df, 'Рейтинг по пользователям, итого', 'Пользователи, итого', filter_df=False)\n",
    "\n",
    "    df = row_number(df, 'Антирейтинг по пользователям 2020', 'Пользователи 2020', desc=False)\n",
    "    df = row_number(df, 'Антирейтинг по пользователям 2021', 'Пользователи 2021', desc=False)\n",
    "    df = row_number(df, 'Антирейтинг по пользователям 2022', 'Пользователи 2022', desc=False)\n",
    "    df = row_number(df, 'Антирейтинг по пользователям 2023', 'Пользователи 2023', desc=False)\n",
    "\n",
    "    df = row_number(df, 'Рейтинг постоянного\\nроста пользователей', 'Пользователи, итого')\n",
    "    df = row_number(df, 'Рейтинг постоянного\\nпадения пользователей', 'Пользователи, итого')\n",
    "    df = row_number(df, 'Рейтинг по пользователям ВНВН', 'Пользователи 2023')\n",
    "    df = row_number(df, 'Рейтинг по пользователям НВНВ', 'Пользователи 2023')\n",
    "    df = row_number(df, 'Рейтинг стабильности\\nчисла пользователей', 'Пользователи, итого', filter_df=False)\n",
    "\n",
    "    df_req_max = df.loc[:,['Запросы 2020','Запросы 2021','Запросы 2022','Запросы 2023']].max(axis=1)\n",
    "    df_req_min = df.loc[:,['Запросы 2020','Запросы 2021','Запросы 2022','Запросы 2023']].min(axis=1)\n",
    "\n",
    "    df['Рейтинг по запросам 2020'] = df_req_max == df.loc[:,['Запросы 2020']].iloc[:,0]\n",
    "    df['Рейтинг по запросам 2021'] = df_req_max == df.loc[:,['Запросы 2021']].iloc[:,0]\n",
    "    df['Рейтинг по запросам 2022'] = df_req_max == df.loc[:,['Запросы 2022']].iloc[:,0]\n",
    "    df['Рейтинг по запросам 2023'] = df_req_max == df.loc[:,['Запросы 2023']].iloc[:,0]\n",
    "    df['Рейтинг по запросам, итого'] = df_req_max == df.loc[:,['Запросы, итого']].iloc[:,0]\n",
    "\n",
    "    df['Антирейтинг по запросам 2020'] = df_req_min == df.loc[:,['Запросы 2020']].iloc[:,0]\n",
    "    df['Антирейтинг по запросам 2021'] = df_req_min == df.loc[:,['Запросы 2021']].iloc[:,0]\n",
    "    df['Антирейтинг по запросам 2022'] = df_req_min == df.loc[:,['Запросы 2022']].iloc[:,0]\n",
    "    df['Антирейтинг по запросам 2023'] = df_req_min == df.loc[:,['Запросы 2023']].iloc[:,0]\n",
    "\n",
    "    df['Рейтинг постоянного\\nроста запросов'] = ((df['Запросы 2020'] < df['Запросы 2021']) \n",
    "        & (df['Запросы 2021'] < df['Запросы 2022'])\n",
    "        & (df['Запросы 2022'] < df['Запросы 2023']))\n",
    "\n",
    "    df['Рейтинг постоянного\\nпадения запросов'] = ((df['Запросы 2020'] > df['Запросы 2021']) \n",
    "        & (df['Запросы 2021'] > df['Запросы 2022'])\n",
    "        & (df['Запросы 2022'] > df['Запросы 2023']))\n",
    "\n",
    "    df['Рейтинг по запросам ВНВН'] = ((df['Пользователи 2020'] > df['Пользователи 2021']) \n",
    "        & (df['Пользователи 2021'] < df['Пользователи 2022'])\n",
    "        & (df['Пользователи 2022'] > df['Пользователи 2023']))\n",
    "\n",
    "    df['Рейтинг по запросам НВНВ'] = ((df['Запросы 2020'] < df['Запросы 2021']) \n",
    "        & (df['Запросы 2021'] > df['Запросы 2022'])\n",
    "        & (df['Запросы 2022'] < df['Запросы 2023']))\n",
    "\n",
    "    df['Рейтинг стабильности\\nчисла запросов'] = abs(df_req_min / df_req_max - 1)\n",
    "\n",
    "    from scipy.stats.stats import pearsonr\n",
    "\n",
    "    x = df[['Пользователи 2020','Пользователи 2021','Пользователи 2022','Пользователи 2023']]\n",
    "    y = df[['Запросы 2020','Запросы 2021','Запросы 2022','Запросы 2023']]\n",
    "    df = df.fillna(0)\n",
    "    for row in df.index:\n",
    "        df.loc[row, 'Антирейтинг схожести динамики\\nпользователей и запросов'] = scipy.stats.pearsonr(x.loc[row], y.loc[row])[0]\n",
    "    df['Рейтинг схожести динамики\\nпользователей и запросов'] = df['Антирейтинг схожести динамики\\nпользователей и запросов']\n",
    "\n",
    "\n",
    "    df = row_number(df, 'Рейтинг по запросам 2020', 'Запросы 2020')\n",
    "    df = row_number(df, 'Рейтинг по запросам 2021', 'Запросы 2021')\n",
    "    df = row_number(df, 'Рейтинг по запросам 2022', 'Запросы 2022')\n",
    "    df = row_number(df, 'Рейтинг по запросам 2023', 'Запросы 2023')\n",
    "    df = row_number(df, 'Рейтинг по запросам, итого', 'Запросы, итого', filter_df=False)\n",
    "\n",
    "    df = row_number(df, 'Антирейтинг по запросам 2020', 'Запросы 2020', desc=False)\n",
    "    df = row_number(df, 'Антирейтинг по запросам 2021', 'Запросы 2021', desc=False)\n",
    "    df = row_number(df, 'Антирейтинг по запросам 2022', 'Запросы 2022', desc=False)\n",
    "    df = row_number(df, 'Антирейтинг по запросам 2023', 'Запросы 2023', desc=False)\n",
    "\n",
    "    df = row_number(df, 'Рейтинг постоянного\\nроста запросов', 'Запросы, итого')\n",
    "    df = row_number(df, 'Рейтинг постоянного\\nпадения запросов', 'Запросы, итого')\n",
    "    df = row_number(df, 'Рейтинг по запросам ВНВН', 'Запросы 2023')\n",
    "    df = row_number(df, 'Рейтинг по запросам НВНВ', 'Запросы 2023')\n",
    "    df = row_number(df, 'Рейтинг стабильности\\nчисла запросов', 'Запросы, итого', filter_df=False)\n",
    "\n",
    "    df = row_number(df, 'Рейтинг схожести динамики\\nпользователей и запросов', 'Запросы, итого', filter_df=False)\n",
    "    df = row_number(df, 'Антирейтинг схожести динамики\\nпользователей и запросов', 'Запросы, итого', desc=False, filter_df=False)\n",
    "    \n",
    "    return df"
   ]
  },
  {
   "cell_type": "code",
   "execution_count": 957,
   "id": "89e2be19",
   "metadata": {},
   "outputs": [],
   "source": [
    "def horizontal_optimization(table_to_optimize):\n",
    "    new_svod = table_to_optimize\n",
    "    try:\n",
    "        test_svod = new_svod.drop(['InLists', 'inList, сумма'], axis=1).copy()\n",
    "    except:\n",
    "        test_svod = new_svod.copy()\n",
    "    index_set = set(new_svod.index)\n",
    "    cnt = 0\n",
    "    total_sum = 9999\n",
    "    while cnt < 10000 and len(index_set)> 0:\n",
    "        j = index_set.pop()\n",
    "        cnt += 1\n",
    "        cols = [i for i in test_svod.loc[j][test_svod.loc[j] > 0].sort_values(ascending=False).index]\n",
    "        for i in cols:   \n",
    "            cnt_horizontal = test_svod.loc[j].drop('cnt_horizontal').replace(range(1, 31), 1).sum()\n",
    "            cnt_vertical = test_svod[i].replace(range(1, 31), 1).sum()\n",
    "            if cnt_vertical > 15 and cnt_horizontal > 1:\n",
    "                test_svod[i][j] = 0\n",
    "        \n",
    "        cols_set = set(cols)\n",
    "        cnt2 = 0\n",
    "        while cols_set:\n",
    "            i = cols_set.pop()\n",
    "            cnt_horizontal = test_svod.loc[j].drop('cnt_horizontal').replace(range(1, 31), 1).sum()\n",
    "            cnt_vertical = test_svod[i].replace(range(1, 31), 1).sum()\n",
    "            if cnt_vertical > 15 and cnt_horizontal > 1:\n",
    "                test_svod[i][j] = 0\n",
    "        total_sum = test_svod.sum(axis=1).sum()\n",
    "        \n",
    "        #print(total_sum)\n",
    "    test_svod['cnt_horizontal'] = test_svod.drop('cnt_horizontal', axis=1).replace(range(1, 31), 1).sum(axis=1)\n",
    "    test_svod = test_svod.sort_values('cnt_horizontal', ascending=False)\n",
    "    return test_svod"
   ]
  },
  {
   "cell_type": "code",
   "execution_count": 958,
   "id": "592617d2",
   "metadata": {},
   "outputs": [],
   "source": [
    "def vertical_optimization(table_to_optimize, original_table):\n",
    "    df = table_to_optimize\n",
    "    new_svod = original_table\n",
    "    for i in range(10):\n",
    "        for cat_to_optimize in df.index:\n",
    "            # сейчас есть значение, превращаем в ноль\n",
    "            col = df.drop('cnt_horizontal', axis=1).loc[cat_to_optimize].sort_values(ascending=False).index[0]\n",
    "\n",
    "            # сейчас 0 возвращаем значение из бэкапа\n",
    "            try:\n",
    "                cat_to_reset = (\n",
    "                     df\n",
    "                     .loc[df.index != cat_to_optimize]\n",
    "                     .loc[(new_svod.sort_index().loc[:, col] != df.sort_index().loc[:, col]) \n",
    "                          & (df[col] == 0)]\n",
    "                     .loc[:,[col, 'cnt_horizontal']]\n",
    "                     .sort_values([col, 'cnt_horizontal'], ascending=[False, True])\n",
    "                     .index[0]\n",
    "                )\n",
    "                if df.loc[cat_to_reset, 'cnt_horizontal'] + 1 < df.loc[cat_to_optimize, 'cnt_horizontal']:\n",
    "                    df.loc[cat_to_optimize, col] = 0\n",
    "                    df.loc[cat_to_reset, col] = new_svod.loc[cat_to_reset, col]\n",
    "                    df['cnt_horizontal'] = df.drop('cnt_horizontal', axis=1).replace(range(1, 31), 1).sum(axis=1)\n",
    "            except:\n",
    "                pass\n",
    "    return df"
   ]
  },
  {
   "cell_type": "code",
   "execution_count": 845,
   "id": "0f3f2723",
   "metadata": {},
   "outputs": [
    {
     "name": "stderr",
     "output_type": "stream",
     "text": [
      "C:\\Users\\Mamed\\Anaconda\\lib\\site-packages\\scipy\\stats\\stats.py:4023: PearsonRConstantInputWarning: An input array is constant; the correlation coefficient is not defined.\n",
      "  warnings.warn(PearsonRConstantInputWarning())\n"
     ]
    }
   ],
   "source": [
    "original_svod = pd.read_excel(r\"C:\\Users\\Mamed\\YandexDisk\\_Documents\\Проекты\\2ГИС 2023\\Мастер_таблица_2ГИС_Москва_230315_1745.xlsx\")\n",
    "\n",
    "original_svod_sorted = (\n",
    "    original_svod\n",
    "    .fillna(0)\n",
    "    .set_index('Рубрика')\n",
    ").sort_values('Рубрика')\n",
    "\n",
    "original_svod_counted = count_ratings(original_svod_sorted)\n",
    "\n",
    "new_svod = original_svod_counted[[\n",
    " 'Рейтинг по пользователям, итого',\n",
    " 'Рейтинг по пользователям 2020',\n",
    " 'Рейтинг по пользователям 2023',\n",
    " 'Антирейтинг по пользователям 2023',\n",
    " 'Антирейтинг по пользователям 2020',\n",
    " 'Рейтинг постоянного\\nроста пользователей',\n",
    " 'Рейтинг постоянного\\nпадения пользователей',\n",
    " 'Рейтинг по пользователям 2021',\n",
    " 'Рейтинг по пользователям 2022',\n",
    " 'Антирейтинг по пользователям 2021',\n",
    " 'Антирейтинг по пользователям 2022',\n",
    " 'Рейтинг по пользователям ВНВН',\n",
    " 'Рейтинг по пользователям НВНВ',\n",
    " 'Рейтинг стабильности\\nчисла пользователей',\n",
    " 'Рейтинг схожести динамики\\nпользователей и запросов',\n",
    " 'Рейтинг по запросам, итого',\n",
    " 'Рейтинг по запросам 2020',\n",
    " 'Рейтинг по запросам 2023',\n",
    " 'Антирейтинг по запросам 2023',\n",
    " 'Антирейтинг по запросам 2020',\n",
    " 'Рейтинг постоянного\\nроста запросов',\n",
    " 'Рейтинг постоянного\\nпадения запросов',\n",
    " 'Рейтинг по запросам 2021',\n",
    " 'Рейтинг по запросам 2022',\n",
    " 'Антирейтинг по запросам 2021',\n",
    " 'Антирейтинг по запросам 2022',\n",
    " 'Рейтинг по запросам ВНВН',\n",
    " 'Рейтинг по запросам НВНВ',\n",
    " 'Рейтинг стабильности\\nчисла запросов',\n",
    " 'Антирейтинг схожести динамики\\nпользователей и запросов'\n",
    "            ]]\n",
    "\n",
    "new_svod['cnt_horizontal'] = new_svod.replace(range(1, 31), 1).sum(axis=1)\n",
    "new_svod = new_svod.sort_values('cnt_horizontal', ascending=False)"
   ]
  },
  {
   "cell_type": "code",
   "execution_count": 846,
   "id": "3d190d30",
   "metadata": {
    "scrolled": true
   },
   "outputs": [
    {
     "data": {
      "text/plain": [
       "cnt_horizontal\n",
       "0.0    1198\n",
       "1.0     140\n",
       "2.0     112\n",
       "3.0      26\n",
       "4.0      22\n",
       "5.0      14\n",
       "6.0      10\n",
       "7.0       5\n",
       "9.0      20\n",
       "dtype: int64"
      ]
     },
     "execution_count": 846,
     "metadata": {},
     "output_type": "execute_result"
    }
   ],
   "source": [
    "new_svod.value_counts('cnt_horizontal').sort_index()"
   ]
  },
  {
   "cell_type": "code",
   "execution_count": 847,
   "id": "05341b2c",
   "metadata": {},
   "outputs": [
    {
     "data": {
      "text/plain": [
       "cnt_horizontal\n",
       "0.0    1198\n",
       "1.0     308\n",
       "2.0      17\n",
       "3.0       5\n",
       "4.0       4\n",
       "5.0       2\n",
       "6.0       4\n",
       "7.0       1\n",
       "8.0       2\n",
       "9.0       6\n",
       "dtype: int64"
      ]
     },
     "execution_count": 847,
     "metadata": {},
     "output_type": "execute_result"
    }
   ],
   "source": [
    "hor_optimized_svod = horizontal_optimization(new_svod)\n",
    "\n",
    "hor_optimized_svod.value_counts('cnt_horizontal').sort_index()"
   ]
  },
  {
   "cell_type": "code",
   "execution_count": 848,
   "id": "a8138aff",
   "metadata": {},
   "outputs": [
    {
     "data": {
      "text/plain": [
       "cnt_horizontal\n",
       "0.0    1198\n",
       "1.0     274\n",
       "2.0      36\n",
       "3.0      18\n",
       "4.0      21\n",
       "dtype: int64"
      ]
     },
     "execution_count": 848,
     "metadata": {},
     "output_type": "execute_result"
    }
   ],
   "source": [
    "vert_optimized_svod = vertical_optimization(hor_optimized_svod, new_svod)\n",
    "\n",
    "vert_optimized_svod.value_counts('cnt_horizontal').sort_index()"
   ]
  },
  {
   "cell_type": "code",
   "execution_count": 959,
   "id": "8607683d",
   "metadata": {},
   "outputs": [],
   "source": [
    "optimized_svod = vert_optimized_svod.reset_index()\n",
    "optimized_svod['В рейтингах, раз'] = optimized_svod['cnt_horizontal']\n",
    "optimized_svod = optimized_svod.drop('cnt_horizontal', axis=1).sort_values('Рубрика')\n",
    "\n",
    "final_svod = original_svod_sorted.copy().reset_index()\n",
    "\n",
    "final_svod = final_svod[['№', 'Рубрика', 'Пользователи 2020', 'Пользователи 2021',\n",
    "       'Пользователи 2022', 'Пользователи 2023', 'Пользователи, итого',\n",
    "       'Пользователи, %', 'Запросы 2020', 'Запросы 2021', 'Запросы 2022',\n",
    "       'Запросы 2023', 'Запросы, итого', 'Запросы, %',\n",
    "       'Запросов на пользователя 2020', 'Запросов на пользователя 2021',\n",
    "       'Запросов на пользователя 2022', 'Запросов на пользователя 2023',\n",
    "       'Запросов на пользователя, итого']].sort_values('№')\n",
    "\n",
    "final_svod = final_svod.merge(optimized_svod,left_on='Рубрика', right_on= 'Рубрика')\n",
    "\n",
    "final_svod['Рейтинг суммарный'] = final_svod[new_svod.drop('cnt_horizontal', axis=1).columns].sum(axis=1)\n",
    "\n",
    "final_svod['Рейтинг средний'] = final_svod[new_svod.drop('cnt_horizontal', axis=1).columns].mean(axis=1)\n",
    "\n",
    "final_svod = final_svod.sort_index().sort_values('№')\n",
    "\n",
    "for i in new_svod.drop('cnt_horizontal', axis=1).columns:\n",
    "    final_svod = row_number(final_svod, i, i, desc=False, filter_df=False, index=15, filter_zero=True)\n",
    "\n",
    "final_svod.to_excel('final_svod_master.xlsx', index=False)"
   ]
  },
  {
   "cell_type": "code",
   "execution_count": null,
   "id": "9f758e88",
   "metadata": {},
   "outputs": [],
   "source": []
  }
 ],
 "metadata": {
  "kernelspec": {
   "display_name": "Python 3 (ipykernel)",
   "language": "python",
   "name": "python3"
  },
  "language_info": {
   "codemirror_mode": {
    "name": "ipython",
    "version": 3
   },
   "file_extension": ".py",
   "mimetype": "text/x-python",
   "name": "python",
   "nbconvert_exporter": "python",
   "pygments_lexer": "ipython3",
   "version": "3.9.12"
  }
 },
 "nbformat": 4,
 "nbformat_minor": 5
}
