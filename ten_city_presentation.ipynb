{
 "cells": [
  {
   "cell_type": "code",
   "execution_count": 1,
   "id": "696175c9-278e-4ec3-96ae-d819f44cf808",
   "metadata": {
    "execution": {
     "iopub.execute_input": "2023-06-08T09:25:04.597862Z",
     "iopub.status.busy": "2023-06-08T09:25:04.596862Z",
     "iopub.status.idle": "2023-06-08T09:25:27.064252Z",
     "shell.execute_reply": "2023-06-08T09:25:27.063337Z",
     "shell.execute_reply.started": "2023-06-08T09:25:04.597862Z"
    },
    "tags": []
   },
   "outputs": [
    {
     "name": "stdout",
     "output_type": "stream",
     "text": [
      "Ready: 2023-06-08 12:25:27\n"
     ]
    }
   ],
   "source": [
    "%run functions.ipynb"
   ]
  },
  {
   "cell_type": "code",
   "execution_count": 3,
   "id": "fe99b644-38be-45e0-ad1e-bf32b03abd81",
   "metadata": {
    "execution": {
     "iopub.execute_input": "2023-06-08T09:26:10.768138Z",
     "iopub.status.busy": "2023-06-08T09:26:10.768138Z",
     "iopub.status.idle": "2023-06-08T09:26:10.785776Z",
     "shell.execute_reply": "2023-06-08T09:26:10.784649Z",
     "shell.execute_reply.started": "2023-06-08T09:26:10.768138Z"
    },
    "tags": []
   },
   "outputs": [],
   "source": [
    "size_x = 30.7 / 2.54 * 4\n",
    "size_y = 16   / 2.54 * 4\n",
    "font_size = 38"
   ]
  },
  {
   "cell_type": "code",
   "execution_count": 108,
   "id": "3fb7c96e-8126-45a2-b9a7-966a96f87723",
   "metadata": {
    "execution": {
     "iopub.execute_input": "2023-05-29T19:20:29.916272Z",
     "iopub.status.busy": "2023-05-29T19:20:29.915275Z",
     "iopub.status.idle": "2023-05-29T19:20:30.315346Z",
     "shell.execute_reply": "2023-05-29T19:20:30.314285Z",
     "shell.execute_reply.started": "2023-05-29T19:20:29.916272Z"
    },
    "tags": []
   },
   "outputs": [],
   "source": [
    "df = pd.read_excel('files/ten_city/ratings_df.xlsx').fillna(0).astype(\n",
    "    {'Рубрика':str, \n",
    "'Пользователи 2020':int,\n",
    "'Пользователи 2021':int,\n",
    "'Пользователи 2022':int,\n",
    "'Пользователи 2023':int,\n",
    "'Пользователи, итого':int,\n",
    "'Пользователи, %' : float,\n",
    "'Запросы 2020':int,\n",
    "'Запросы 2021':int,\n",
    "'Запросы 2022':int,\n",
    "'Запросы 2023':int,\n",
    "'Запросы, итого':int,\n",
    "'Запросы, %' : float,                                                                      \n",
    "})\n",
    "\n",
    "df['Запросы, %'] = df['Запросы, %'].round(1)\n",
    "df['Пользователи, %'] = df['Пользователи, %'].round(1)\n",
    "\n",
    "df_users = df[[\n",
    "    'Рубрика',\n",
    "    'Пользователи 2020',\n",
    "    'Пользователи 2021',\n",
    "    'Пользователи 2022',\n",
    "    'Пользователи 2023',\n",
    "    'Пользователи, итого',\n",
    "    'Пользователи, %'\n",
    "]].iloc[list(range(15))+[-1]].sort_values('Пользователи, итого', ascending=False)\n",
    "\n",
    "df_requests = df[[\n",
    "    'Рубрика',\n",
    "    'Запросы 2020',\n",
    "    'Запросы 2021',\n",
    "    'Запросы 2022',\n",
    "    'Запросы 2023',\n",
    "    'Запросы, итого',\n",
    "    'Запросы, %'\n",
    "]].iloc[list(range(15))+[-1]].sort_values('Запросы, итого', ascending=False)\n",
    "\n",
    "#249FD8\n",
    "#7FA2D3\n",
    "#D2DDF1\n",
    "\n",
    "def make_hse_image(df, output_file_name=None, cols_without_color=[0], dedup_cols=None, col_width=1.0, row_height=0.625, font_size=28,\n",
    "                     header_color='#249FD8', row_colors=['#D2DDF1', 'w'], edge_color='w',\n",
    "                     bbox=[0, 0, 1, 1], header_columns=0,\n",
    "                     show=False, **kwargs):\n",
    "    rating_col = df.columns[-1]\n",
    "    data = df.sort_values(rating_col, ascending=False)\n",
    "    data_separeted_numbers = data.copy()\n",
    "    for col in data.columns[1:]:\n",
    "        data_separeted_numbers[col] = data[col].apply(make_sep)\n",
    "        if col in ['Пользователи, %', 'Запросы, %', 'Запросов на пользователя,\\nитого']:\n",
    "            data_separeted_numbers[col] = data[col].apply(lambda x: str(x).replace('.',','))\n",
    "        \n",
    "    size = (np.array([size_x, size_y]))\n",
    "    fig, ax = plt.subplots(figsize=size, dpi=2**8)\n",
    "    ax.axis('off')\n",
    "\n",
    "    mpl_table = ax.table(cellText=data_separeted_numbers.values, bbox=bbox, colLabels=data.columns, colLoc='center', loc='bottom')\n",
    "    mpl_table.auto_set_font_size(False)\n",
    "    cells_dict = dict(six.iteritems(mpl_table._cells))\n",
    "        \n",
    "    fpath = Path(mpl.get_data_path(), r\"C:\\Users\\Mamed\\YandexDisk\\_Documents\\Проекты\\2ГИС 2023\\Лого\\arialnarrow.ttf\")\n",
    "    colors_dict = colorize_column(df, cols_not_to_color=cols_without_color)\n",
    "    colors_dict.update(colorize_column(data, cols_not_to_color=list(range(data.shape[1]-1))), filter_zero=True)\n",
    "    colors = ([color_list_full[i] for i in range(0, len(color_list_full), len(color_list_full) % 15)] + [color_list_full[-1]]) \n",
    "    \n",
    "    for k in sorted(cells_dict.keys()): #k[0] - строка, k[1] - столбец\n",
    "        cell = cells_dict[k]\n",
    "        cell.set_edgecolor(edge_color)\n",
    "        row_index = k[0]\n",
    "        column_index = k[1]\n",
    "        \n",
    "        # Высота и цвет заголовков\n",
    "        if row_index == 0:\n",
    "            rotation='horizontal' if k == (0,0) else 'vertical' \n",
    "            cell.set_text_props(color='w', rotation=rotation, ha='center')\n",
    "            cell.set_facecolor(header_color)\n",
    "        # Высота и цвет остальных строк\n",
    "        else:\n",
    "            ha = 'left' if column_index ==0 else 'right'\n",
    "            cell.set_facecolor(row_colors[k[0]%len(row_colors)])\n",
    "            cell.set_text_props(wrap=True, ha=ha)\n",
    "            \n",
    "        if row_index == 0:\n",
    "            cell.set_height(24)\n",
    "        elif row_index > 0 and row_index < 13:\n",
    "            cell.set_height(5)\n",
    "        else:\n",
    "            cell.set_height(4)\n",
    "        \n",
    "        # Ширина столбцов\n",
    "        if column_index == 0:\n",
    "            cell.set_width(35)\n",
    "        elif column_index == 6:\n",
    "            cell.set_width(10)\n",
    "        else:\n",
    "            cell.set_width(11)\n",
    "                        \n",
    "        # Цветвоая шкала\n",
    "        if row_index > 0 and column_index not in cols_without_color and row_index<16:\n",
    "            cell.set_facecolor(colors.pop(0).upper())       \n",
    "            \n",
    "        if row_index == 16:\n",
    "            cell.set_text_props(color='w')\n",
    "            cell.set_facecolor(header_color) \n",
    "            if column_index == 6:\n",
    "                cell.set_text_props(color=header_color)\n",
    "            \n",
    "        # Шрифт\n",
    "        cell.set_text_props(font=fpath, fontsize=font_size)\n",
    "    if output_file_name:\n",
    "        fig.savefig(f'{output_file_name}', bbox_inches='tight')\n",
    "    if show:\n",
    "        plt.show()\n",
    "    plt.close() \n",
    "\n",
    "def make_hse_image2(df, output_file_name=None, cols_without_color=[0], dedup_cols=None, col_width=1.0, row_height=0.625, font_size=28,\n",
    "                     header_color='#249FD8', row_colors=['#D2DDF1', 'w'], edge_color='w',\n",
    "                     bbox=[0, 0, 1, 1], header_columns=0,\n",
    "                     show=False, **kwargs):\n",
    "    rating_col = df.columns[-1]\n",
    "    data = df\n",
    "    data['Население'] = data['Население'].apply(make_sep)\n",
    "    size = (np.array([size_x, size_y]))\n",
    "    fig, ax = plt.subplots(figsize=size, dpi=2**8)\n",
    "    ax.axis('off')\n",
    "\n",
    "    mpl_table = ax.table(cellText=data.values, bbox=bbox, colLabels=data.columns, colLoc='center', loc='bottom')\n",
    "    mpl_table.auto_set_font_size(False)\n",
    "    cells_dict = dict(six.iteritems(mpl_table._cells))\n",
    "    \n",
    "    fpath = Path(mpl.get_data_path(), r\"C:\\Users\\Mamed\\YandexDisk\\_Documents\\Проекты\\2ГИС 2023\\Лого\\arialnarrow.ttf\")\n",
    "    colors = ([color_list_full[i] for i in range(0, len(color_list_full), len(color_list_full) % 20)] + [color_list_full[-1]]) \n",
    "    \n",
    "    for k in sorted(cells_dict.keys()): #k[0] - строка, k[1] - столбец\n",
    "        cell = cells_dict[k]\n",
    "        cell.set_edgecolor(edge_color)\n",
    "        row_index = k[0]\n",
    "        column_index = k[1]\n",
    "        \n",
    "        # Высота и цвет заголовков\n",
    "        if row_index == 0:\n",
    "            rotation='horizontal' if k == (0,0) else 'vertical' \n",
    "            cell.set_text_props(color='w', ha='center')\n",
    "            cell.set_facecolor(header_color)\n",
    "            \n",
    "        # Высота и цвет остальных строк\n",
    "        else:\n",
    "            ha = 'left' if column_index in (0,1,2) else 'right'\n",
    "            cell.set_facecolor(row_colors[k[0]%len(row_colors)])\n",
    "            cell.set_text_props(wrap=True, ha=ha)\n",
    "        \n",
    "        if row_index == 0:\n",
    "            cell.set_height(24)\n",
    "        elif row_index > 0 and row_index < 5:\n",
    "            cell.set_height(5)\n",
    "        else:\n",
    "            cell.set_height(4) \n",
    "        \n",
    "        \n",
    "        # Ширина столбцов\n",
    "        if column_index == 0:\n",
    "            cell.set_width(5)\n",
    "            cell.set_text_props(ha='right')\n",
    "        elif column_index == 1:\n",
    "            cell.set_width(30)\n",
    "        elif column_index == 2:\n",
    "            cell.set_width(33)\n",
    "        else:\n",
    "            cell.set_width(32)\n",
    "            \n",
    "        if row_index == 0 and column_index == 0:\n",
    "            cell.set_text_props(ha='center')\n",
    "\n",
    "        # Цветвоая шкала\n",
    "        if row_index > 0 and column_index == 3:\n",
    "            cell.set_facecolor(colors.pop(0).upper())       \n",
    "            \n",
    "        if row_index == 18:\n",
    "            cell.set_text_props(color='w')\n",
    "            cell.set_facecolor(header_color) \n",
    "            if column_index == 1 or column_index == 2:\n",
    "                cell.set_text_props(color=header_color)\n",
    "            \n",
    "        # Шрифт\n",
    "        cell.set_text_props(font=fpath, fontsize=font_size)\n",
    "    if output_file_name:\n",
    "        fig.savefig(f'{output_file_name}', bbox_inches='tight')\n",
    "    if show:\n",
    "        plt.show()\n",
    "    plt.close()    \n",
    "\n",
    "\n",
    "def plt_requsts(data, file_name, index_col_to_colorize=5, dups=None, col_width=1.0, row_height=0.625, font_size=font_size, size_x=size_x, size_y=size_y,\n",
    "                     header_color='#C0504D', row_colors=['#F2DCDB', 'w'], edge_color='w',\n",
    "                     bbox=[0, 0, 1, 1], header_columns=0,\n",
    "                     ax=None, **kwargs):\n",
    "    size = (np.array([size_x, size_y]))\n",
    "    fig, ax = plt.subplots(figsize=size, dpi=2**8)\n",
    "    ax.axis('off')\n",
    "\n",
    "    mpl_table = ax.table(cellText=data.values, bbox=bbox, colLabels=data.columns, colLoc='center', loc='bottom')\n",
    "\n",
    "    mpl_table.auto_set_font_size(False)\n",
    "    cells_dict = dict(six.iteritems(mpl_table._cells))\n",
    "\n",
    "    fpath = Path(mpl.get_data_path(), r\"C:\\Users\\Mamed\\YandexDisk\\_Documents\\Проекты\\2ГИС 2023\\Лого\\arialnarrow.ttf\")\n",
    "    color_list_full = ['#F96A6C', '#F96B6C', '#F96C6C', '#F96D6C', '#F96E6C', '#F96F6D', '#F9706D', '#F9716D', '#F9726D', '#F9736D', '#F9746E', '#F9756E', '#F9766E', '#F9776E', '#F9786E', '#F9796E', '#F9796F', '#F97A6F'\n",
    "                       , '#F97B6F', '#F97C6F', '#FA7C6F', '#FA7D6F', '#FA7E6F', '#FA7E70', '#FA7F70', '#FA8070', '#FA8170', '#FA8270', '#FA8370', '#FA8471', '#FA8571', '#FA8671', '#FA8771', '#FA8871', '#FA8972', '#FA8A72'\n",
    "                       , '#FA8B72', '#FA8C72', '#FA8D72', '#FA8E73', '#FB8F73', '#FB9073', '#FB9173', '#FB9273', '#FB9373', '#FB9374', '#FB9474', '#FB9574', '#FB9674', '#FB9774', '#FB9874', '#FB9875', '#FB9975', '#FB9A75'\n",
    "                       , '#FB9B75', '#FB9C75', '#FB9D75', '#FB9E76', '#FB9F76', '#FBA076', '#FBA176', '#FCA176', '#FCA276', '#FCA377', '#FCA477', '#FCA577', '#FCA677', '#FCA777', '#FCA877', '#FCA878', '#FCA978', '#FCAA78'\n",
    "                       , '#FCAB78', '#FCAC78', '#FCAD78', '#FCAD79', '#FCAE79', '#FCAF79', '#FCB079', '#FCB179', '#FCB279', '#FCB27A', '#FCB37A', '#FDB47A', '#FDB57A', '#FDB67A', '#FDB77A', '#FDB87B', '#FDB97B', '#FDBA7B'\n",
    "                       , '#FDBB7B', '#FDBC7B', '#FDBD7C', '#FDBE7C', '#FDBF7C', '#FDC07C', '#FDC17C', '#FDC27C', '#FDC27D', '#FDC37D', '#FDC47D', '#FDC57D', '#FDC67D', '#FEC77D', '#FEC77E', '#FEC87E', '#FEC97E', '#FECA7E'\n",
    "                       , '#FECB7E', '#FECC7E', '#FECC7F', '#FECD7F', '#FECE7F', '#FECF7F', '#FED07F', '#FED17F', '#FED280', '#FED380', '#FED480', '#FED580', '#FED680', '#FED781', '#FED881', '#FFD981', '#FFDA81', '#FFDB81'\n",
    "                       , '#FFDC81', '#FFDC82', '#FFDD82', '#FFDE82', '#FFDF82', '#FFE082', '#FFE182', '#FFE183', '#FFE283', '#FFE383', '#FFE483', '#FFE583', '#FFE683', '#FFE784', '#FFE884', '#FFE984', '#FFEA84', '#FFEB84'\n",
    "                       , '#FEEA83', '#FDEA83', '#FCEA83', '#FBEA83', '#FAE983', '#F9E983', '#F8E983', '#F7E883', '#F6E883', '#F5E883', '#F4E883', '#F4E783', '#F3E783', '#F2E783', '#F1E783', '#F0E683', '#EFE683', '#EEE683'\n",
    "                       ,'#EDE683', '#EDE582', '#ECE582', '#EBE582', '#EAE582', '#EAE482', '#E9E482', '#E8E482', '#E7E482', '#E6E482', '#E6E382', '#E5E382', '#E4E382', '#E3E382', '#E3E282', '#E2E282', '#E1E282', '#E0E282'\n",
    "                       , '#DFE182', '#DEE182', '#DDE182', '#DCE182', '#DCE081', '#DBE081', '#DAE081', '#D9E081', '#D8DF81', '#D7DF81', '#D6DF81', '#D5DF81', '#D4DE81', '#D3DE81', '#D2DE81', '#D1DD81', '#D0DD81', '#CFDD81'\n",
    "                       , '#CEDD81', '#CDDC81', '#CCDC81', '#CBDC81', '#CADB80', '#C9DB80', '#C8DB80', '#C7DB80', '#C7DA80', '#C6DA80', '#C5DA80', '#C4DA80', '#C3D980', '#C2D980', '#C1D980', '#C0D980', '#C0D880', '#BFD880'\n",
    "                       , '#BED880', '#BDD880', '#BDD780', '#BCD780', '#BBD780', '#BAD780', '#B9D780', '#B9D67F', '#B8D67F', '#B7D67F', '#B6D67F', '#B6D57F', '#B5D57F', '#B4D57F', '#B3D57F', '#B2D47F', '#B1D47F', '#B0D47F'\n",
    "                       , '#AFD47F', '#AED37F', '#ADD37F', '#ACD37F', '#ABD27F', '#AAD27F', '#A9D27F', '#A8D27F', '#A7D17E', '#A6D17E', '#A5D17E', '#A4D07E', '#A3D07E', '#A2D07E', '#A1D07E', '#A0CF7E', '#9FCF7E', '#9ECF7E'\n",
    "                       , '#9DCE7E', '#9CCE7E', '#9BCE7E', '#9ACE7E', '#9ACD7E', '#99CD7E', '#98CD7E', '#97CD7E', '#96CC7D', '#95CC7D', '#94CC7D', '#93CC7D', '#93CB7D', '#92CB7D', '#91CB7D', '#90CB7D', '#90CA7D', '#8FCA7D'\n",
    "                       , '#8ECA7D', '#8DCA7D', '#8CCA7D', '#8CC97D', '#8BC97D', '#8AC97D', '#89C97D', '#88C87D', '#87C87D', '#86C87D', '#85C77C', '#84C77C', '#83C77C', '#82C77C', '#81C67C', '#80C67C', '#7FC67C', '#7EC57C'\n",
    "                       , '#7DC57C', '#7CC57C', '#7BC57C', '#7AC47C', '#79C47C', '#78C47C', '#77C37C', '#76C37C', '#75C37C', '#74C37C', '#73C27B'\n",
    "                       , '#72C27B', '#71C27B', '#70C17B', '#6FC17B', '#6EC17B', '#6DC17B', '#6DC07B', '#6CC07B', '#6BC07B', '#6AC07B', '#69BF7B', '#68BF7B', '#67BF7B', '#66BF7B', '#66BE7B', '#65BE7B', '#64BE7B', '#63BE7B']\n",
    "    colors = ([color_list_full[i] for i in range(0, len(color_list_full), len(color_list_full) % 20)] + [color_list_full[-1]])\n",
    "    \n",
    "    for k in sorted(cells_dict.keys()): #k[0] - строка, k[1] - столбец\n",
    "        cell = cells_dict[k]\n",
    "        cell.set_edgecolor(edge_color)\n",
    "        row_index = k[0]\n",
    "        column_index = k[1]\n",
    "        \n",
    "        # Высота и цвет заголовков\n",
    "        if row_index == 0:\n",
    "            rotation='horizontal' if k == (0,0) else 'vertical' \n",
    "            cell.set_text_props(color='w', rotation=rotation, ha='center')\n",
    "            cell.set_facecolor(header_color)\n",
    "            \n",
    "        # Высота и цвет остальных строк\n",
    "        else:\n",
    "            ha = 'right' if k[1] !=0 else 'left'\n",
    "            cell.set_facecolor(row_colors[k[0]%len(row_colors)])\n",
    "            cell.set_text_props(wrap=True, ha=ha)\n",
    "        \n",
    "        if row_index == 0:\n",
    "            cell.set_height(24)\n",
    "        elif row_index > 0 and row_index < 17:\n",
    "            cell.set_height(4)\n",
    "        else:\n",
    "            cell.set_height(3)\n",
    "        \n",
    "        # Ширина столбцов\n",
    "        if column_index == 0:\n",
    "            cell.set_width(35)\n",
    "        elif column_index == 5:\n",
    "            cell.set_width(13)\n",
    "        else:\n",
    "            cell.set_width(13)\n",
    "        \n",
    "        # Раскраска дублей\n",
    "        if dups is not None:\n",
    "            if row_index > 0 and column_index == 0 and cell.get_text().get_text() in dups:\n",
    "                cell.set_facecolor('#FFC7CE')\n",
    "                cell.set_text_props(color='#9C0006')\n",
    "                \n",
    "        # Цветвоая шкала\n",
    "        if row_index > 0 and column_index == index_col_to_colorize:\n",
    "            cell.set_facecolor(colors.pop(0).upper()) \n",
    "        \n",
    "        # Шрифт\n",
    "        cell.set_text_props(font=fpath, fontsize=font_size)\n",
    "    fig.savefig(f'{file_name}', bbox_inches='tight')\n",
    "    plt.show()\n",
    "    plt.close()\n",
    "\n",
    "def make_plt_requsts(file_name, city, header_color, row_color, cnt=9999, size_x=size_x, size_y=size_y, font_size=font_size, img_w=17.5, img_h=10.8, blank=False, word_sample='files/report.docx'):\n",
    "    dt_now = str(datetime.datetime.now())[2:-9].replace('-','').replace(':','').replace(' ','_')\n",
    "    df = pd.read_excel(file_name).drop(['tx_1','tx_2','tx_3','tx_4','tx_5'], axis=1)\n",
    "    word_file = f'{file_name[:-5]}_report_{dt_now}.docx'\n",
    "    #print(word_file)\n",
    "    \n",
    "    df.columns = ['Рубрика', 'Поисковый запрос', 'Количество\\nзапросов 2020',\n",
    "           'Количество\\nзапросов 2021', 'Количество\\nзапросов 2022',\n",
    "           'Количество\\nзапросов 2023', 'Количество\\nзапросов, итого',\n",
    "           'Рейтинг\\nпо запросам, итого', 'Рейтинг рубрики']\n",
    "\n",
    "    for i in df.columns[2:-2]:\n",
    "        df[i] = df[i].apply(make_sep)\n",
    "        \n",
    "    dups = df['Поисковый запрос'][(df['Поисковый запрос'].duplicated())&(df['Рейтинг рубрики'] > 0)].values \n",
    "    df_text = pd.read_excel(file_name, usecols=['Рубрика', 'Рейтинг рубрики', 'Поисковый запрос', 'tx_1'])\n",
    "    df_text = df_text[df_text['tx_1'].notna()]\n",
    "    tx_1 = df_text[df_text['Поисковый запрос'].apply(lambda x: x not in dups)][['tx_1', 'Рейтинг рубрики']]\n",
    "    imgs = []\n",
    "    for i in (df['Рейтинг рубрики'].unique()[1:cnt+1]):  \n",
    "        dfx = df[df['Рейтинг рубрики'] == i].drop('Рубрика', axis=1).iloc[:20]\n",
    "        rubric = df[df['Рейтинг рубрики'] == i]['Рубрика'].iloc[0]\n",
    "        col_name = f'Поисковые запросы по рубрике\\n{rubric}'\n",
    "        img_file_name = file_name.replace('files/','')[:-5]\n",
    "        img_file_name_final = f'pictures/{img_file_name}_{i:02}.png'\n",
    "        dfx = dfx.rename({'Поисковый запрос':col_name}, axis=1).drop(['Рейтинг рубрики', 'Рейтинг\\nпо запросам, итого'], axis=1)\n",
    "        plt_requsts(dfx, img_file_name_final, size_x=size_x, size_y=size_y, font_size=font_size, header_color=header_color, row_colors=[row_color, 'w'], dups=dups)\n",
    "        imgs.append(img_file_name_final)\n",
    "    return imgs\n",
    "\n",
    "\n",
    "\n",
    "def make_ratings_word(file_name, header_color, row_color, cnt=9999, size_x=size_x, size_y=size_y, font_size=18, img_w=17.5, img_h=10.8, blank=False, word_sample='files/report.docx'):\n",
    "    dt_now = str(datetime.datetime.now())[2:-9].replace('-','').replace(':','').replace(' ','_')\n",
    "    df = pd.read_excel(file_name)\n",
    "    word_file = f'{file_name[:-17]}_report_{dt_now}.docx'\n",
    "    #print(word_file)\n",
    "    \n",
    "    df = df[(df['№']!='Итог')]\n",
    "    cols = [\n",
    "        'Рубрика' \n",
    "        ,'Пользователи, итого'\n",
    "        ,'Пользователи, %'\n",
    "        ,'Запросы, итого'\n",
    "        ,'Запросы, %'\n",
    "        ,'Запросов на пользователя,\\nитого'\n",
    "    ]\n",
    "\n",
    "    ratings_cols = [i for i in df.columns if 'ейтинг' in i and i not in  ('В рейтингах, раз','Рейтинг суммарный','Рейтинг средний','Вне рейтингов')]\n",
    "\n",
    "    for col in ratings_cols:\n",
    "        df[col] = df[col].astype('int').round()\n",
    "\n",
    "    for col in ['Пользователи, %', 'Запросы, %', 'Запросов на пользователя,\\nитого']:\n",
    "        df[col] = df[col].astype('float64').round(1)\n",
    "    \n",
    "    i=0\n",
    "    imgs = []\n",
    "    for col in ([ratings_cols[3], ratings_cols[28]]):  \n",
    "        i+=1\n",
    "        cols_filter = cols+[col]    \n",
    "        dfx = df[df[col]>0].sort_values(col)['Рубрика'].values\n",
    "        img_file_name = file_name.replace('files/','')[:-5]\n",
    "        img_file_name_final = f'pictures/{img_file_name}_{i:02}.png'\n",
    "        df_cols_filter = df[cols_filter]\n",
    "        new_cols = [\n",
    "        'Рубрика' \n",
    "        ,'Пользователи,\\nитого'\n",
    "        ,'Пользователи, %'\n",
    "        ,'Запросы, итого'\n",
    "        ,'Запросы, %'\n",
    "        ,'Запросов\\nна пользователя,\\nитого'\n",
    "        ] +[col.replace('Рейтинг ', 'Рейтинг\\n').replace('пользователям ', 'пользователям,\\n')]  \n",
    "        df_cols_filter.columns = new_cols\n",
    "            \n",
    "        make_ratings_image(df_cols_filter, output_file_name=img_file_name_final, cols_without_color=[0], header_color=header_color, row_colors=[row_color, 'w'], size_x=size_x, size_y=size_y, font_size=font_size)\n",
    "        txt =  col + '\\n' + ', '.join([word[::-1].replace('/', 'и', 1)[::-1].replace('/', ',').replace(' ,', ',').lower() for word in df[df[col]>0].sort_values(col)['Рубрика'].values]) + \":\"\n",
    "        #add_image(word_file, img_file_name_final, word=txt, img_w=img_w, img_h=img_h, blank=blank, word_sample=word_sample)\n",
    "        imgs.append(img_file_name_final)\n",
    "    return imgs\n",
    "\n",
    "def make_ratings_image(df, output_file_name=None, cols_without_color=[0], dedup_cols=None, col_width=1.0, row_height=0.625, font_size=18,\n",
    "                     header_color='#C0504D', row_colors=['#F2DCDB', 'w'], edge_color='w',\n",
    "                     bbox=[0, 0, 1, 1], header_columns=0,\n",
    "                     ax=None, size_x=size_x, size_y=size_y, **kwargs):\n",
    "    rating_col = df.iloc[:,-1].name\n",
    "    data = df[df[rating_col]>0].sort_values(rating_col)\n",
    "    data_separeted_numbers = data.copy()\n",
    "    for col in data.columns[1:]:\n",
    "        data_separeted_numbers[col] = data[col].apply(make_sep)\n",
    "        if col in ['Пользователи, %', 'Запросы, %', 'Запросов на пользователя,\\nитого']:\n",
    "            data_separeted_numbers[col] = data[col].apply(lambda x: str(x).replace('.',','))\n",
    "        \n",
    "    if ax is None:\n",
    "        size = (np.array([size_x, size_y]))\n",
    "        fig, ax = plt.subplots(figsize=size, dpi=2**8)\n",
    "        ax.axis('off')\n",
    "\n",
    "    mpl_table = ax.table(cellText=data_separeted_numbers.values, bbox=bbox, colLabels=data.columns, colLoc='center', loc='bottom')\n",
    "    mpl_table.auto_set_font_size(False)\n",
    "    cells_dict = dict(six.iteritems(mpl_table._cells))\n",
    "    \n",
    "    fpath = Path(mpl.get_data_path(), r\"C:\\Users\\Mamed\\YandexDisk\\_Documents\\Проекты\\2ГИС 2023\\Лого\\arialnarrow.ttf\")\n",
    "    colors_dict = colorize_column(df, cols_not_to_color=cols_without_color)\n",
    "    colors_dict.update(colorize_column(data, cols_not_to_color=list(range(data.shape[1]-1))), filter_zero=True)\n",
    "    \n",
    "    for k in sorted(cells_dict.keys()): #k[0] - строка, k[1] - столбец\n",
    "        cell = cells_dict[k]\n",
    "        cell.set_edgecolor(edge_color)\n",
    "        row_index = k[0]\n",
    "        column_index = k[1]\n",
    "        \n",
    "        # Высота и цвет заголовков\n",
    "        if row_index == 0:\n",
    "            rotation='horizontal' if k == (0,0) else 'vertical' \n",
    "            cell.set_text_props(color='w', rotation=rotation, ha='center')\n",
    "            cell.set_facecolor(header_color)\n",
    "\n",
    "        # Высота и цвет остальных строк\n",
    "        else:\n",
    "            ha = 'left' if column_index==0 else 'right'\n",
    "            cell.set_facecolor(row_colors[k[0]%len(row_colors)])\n",
    "            cell.set_text_props(wrap=True, ha=ha)\n",
    "        \n",
    "        if row_index == 0:\n",
    "            cell.set_height(24)\n",
    "        elif row_index > 0 and row_index < 15:\n",
    "            cell.set_height(5)\n",
    "        else:\n",
    "            cell.set_height(6)\n",
    "    \n",
    "        # Ширина столбцов\n",
    "        if column_index == 0:\n",
    "            cell.set_width(35)\n",
    "        elif column_index == 6:\n",
    "            cell.set_width(10)\n",
    "        else:\n",
    "            cell.set_width(11)\n",
    "                                       \n",
    "        # Цветвоая шкала\n",
    "        if row_index > 0 and column_index not in cols_without_color:\n",
    "            row_index_origin = data[data.iloc[:,-1] == row_index].index[0]\n",
    "            color_value = colors_dict[column_index][row_index_origin]\n",
    "            cell.set_facecolor(color_value) \n",
    "              \n",
    "        # Шрифт\n",
    "        cell.set_text_props(font=fpath, fontsize=font_size)\n",
    "    if output_file_name:\n",
    "        fig.savefig(f'{output_file_name}', bbox_inches='tight')\n",
    "        #print(output_file_name)\n",
    "    plt.show()\n",
    "    plt.close()  \n",
    "    \n",
    "    \n",
    "def make_ratings_12(file_name,  header_color='#249FD8', row_color='#D2DDF1', cnt=9999, size_x=size_x, size_y=size_y, font_size=font_size, filter_str=''):\n",
    "    dt_now = str(datetime.datetime.now())[2:-9].replace('-','').replace(':','').replace(' ','_')\n",
    "    df = pd.read_excel(file_name)\n",
    "    word_file = f'{file_name[:-17]}_report_{dt_now}.docx'\n",
    "    #print(word_file)\n",
    "    \n",
    "    df = df[(df['№']!='Итог')]\n",
    "    cols = [\n",
    "        'Рубрика' \n",
    "        ,'Пользователи, итого'\n",
    "        ,'Пользователи, %'\n",
    "        ,'Запросы, итого'\n",
    "        ,'Запросы, %'\n",
    "        ,'Запросов на пользователя,\\nитого'\n",
    "    ]\n",
    "\n",
    "    ratings_cols = [i for i in df.columns if 'ейтинг' in i and filter_str in i.lower() and i not in  ('В рейтингах, раз','Рейтинг суммарный','Рейтинг средний','Вне рейтингов')]\n",
    "\n",
    "    for col in ratings_cols:\n",
    "        df[col] = df[col].astype('int').round()\n",
    "\n",
    "    for col in ['Пользователи, %', 'Запросы, %', 'Запросов на пользователя,\\nитого']:\n",
    "        df[col] = df[col].astype('float64').round(1)\n",
    "    \n",
    "    i=0\n",
    "    imgs = []\n",
    "    for col in ratings_cols[:cnt]:  \n",
    "        i+=1\n",
    "        cols_filter = cols+[col]    \n",
    "        dfx = df[df[col]>0].sort_values(col)['Рубрика'].values\n",
    "        img_file_name = 'pic_rating' if filter_str == '' else 'pic_antirating'\n",
    "        img_file_name_final = f'pics/{img_file_name}_{i:02}.png'.replace('ten_city/','')\n",
    "        df_cols_filter = df[cols_filter]\n",
    "        new_cols = [\n",
    "        'Рубрика' \n",
    "        ,'Пользователи,\\nитого'\n",
    "        ,'Пользователи, %'\n",
    "        ,'Запросы, итого'\n",
    "        ,'Запросы, %'\n",
    "        ,'Запросов\\nна пользователя,\\nитого'\n",
    "        ] +[col.replace('Рейтинг ', 'Рейтинг\\n').replace('Антирейтинг ', 'Антирейтинг\\n').replace('пользователям ', 'пользователям,\\n')]  \n",
    "        df_cols_filter.columns = new_cols\n",
    "            \n",
    "        make_ratings_image(df_cols_filter, output_file_name=img_file_name_final, cols_without_color=[0], header_color=header_color, row_colors=[row_color, 'w'], size_x=size_x, size_y=size_y, font_size=font_size)\n",
    "        txt =  col + '\\n' + ', '.join([word[::-1].replace('/', 'и', 1)[::-1].replace('/', ',').replace(' ,', ',').lower() for word in df[df[col]>0].sort_values(col)['Рубрика'].values]) + \":\"\n",
    "        #add_image(word_file, img_file_name_final, word=txt, img_w=img_w, img_h=img_h, blank=blank, word_sample=word_sample)\n",
    "        imgs.append(img_file_name_final)\n",
    "    return imgs\n",
    "\n",
    "\n",
    "def delete_recta():\n",
    "    prs = pptx.Presentation('pics/Презентация_Мамедов_Рамиль_230527_2145.pptx')\n",
    "    slides = prs.slides\n",
    "    slides_elements = {j:{i.name[:5]:i for i in slides[j].shapes} for j in range(len(slides))}\n",
    "\n",
    "    shapes = [[i for i in s.shapes if i.name[:5] == 'Recta'] for s in slides]\n",
    "    shapes = [i for i in shapes if i]\n",
    "\n",
    "    for shape in shapes:\n",
    "        shape_element = shape[0].element\n",
    "        shape_element.getparent().remove(shape_element)\n",
    "\n",
    "    prs.save('pics/Презентация_Мамедов_Рамиль_230527_2145.pptx')\n",
    "    \n",
    "    \n",
    "def save_pptx():\n",
    "    while True:\n",
    "        try:\n",
    "            prs.save('pics/test_new.pptx')\n",
    "            break\n",
    "        except:\n",
    "            pass\n",
    "\n",
    "    _ = subprocess.Popen([r\"C:\\Program Files\\Microsoft Office\\root\\Office16\\POWERPNT.EXE\",\n",
    "                         r\"C:\\Users\\Mamed\\_Notebooks\\2GIS_2023\\pics\\test_new.pptx\"])\n",
    "    print(str(datetime.datetime.now())[:-7], 'test_new.pptx')"
   ]
  },
  {
   "cell_type": "code",
   "execution_count": null,
   "id": "86f0d822-2e8e-4b70-a209-dd4f55d992b8",
   "metadata": {
    "execution": {
     "iopub.execute_input": "2023-05-28T21:46:38.199258Z",
     "iopub.status.busy": "2023-05-28T21:46:38.198248Z",
     "iopub.status.idle": "2023-05-28T21:47:47.190376Z",
     "shell.execute_reply": "2023-05-28T21:47:47.189464Z",
     "shell.execute_reply.started": "2023-05-28T21:46:38.199258Z"
    },
    "tags": []
   },
   "outputs": [],
   "source": [
    "now = str(datetime.datetime.now())[:-9].replace('-','').replace(' ','_').replace(':','')\n",
    "dfn = pd.read_excel(r\"C:\\Users\\Mamed\\YandexDisk\\_Documents\\Проекты\\ВШЭ\\_Backups\\Таблица_Население_230425_0030.xlsx\")\n",
    "pic1 = f'pics/table_{now}.png'\n",
    "make_hse_image2(dfn, pic1, show=True, font_size=38)\n",
    "\n",
    "now = str(datetime.datetime.now())[:-9].replace('-','').replace(' ','_').replace(':','')\n",
    "pic2= f'pics/users_{now}.png'\n",
    "make_hse_image(df_users, pic2, show=True, font_size=38)\n",
    "\n",
    "now = str(datetime.datetime.now())[:-9].replace('-','').replace(' ','_').replace(':','')\n",
    "pic3 = f'pics/requests_{now}.png'\n",
    "make_hse_image(df_requests, pic3, show=True, font_size=38)\n",
    "\n",
    "pic4, pic5 = make_ratings_word(\"files/ten_city/Мастер_таблица_2ГИС_10_городов_230428_1845.xlsx\", header_color='#249FD8', row_color='#D2DDF1', size_x=size_x, size_y=size_y, cnt=1, font_size=38, img_w=16.5, img_h=10, blank=False, word_sample='files/report_ten_city.docx')\n",
    "\n",
    "pic6, = make_plt_requsts('files/ten_city/requests_text_ten_city_230504_0256.xlsx', \"\", '#249FD8', '#D2DDF1', \n",
    "                   size_x=size_x, size_y=size_y, cnt=1, font_size=38, img_w=16.5, img_h=10, blank=True, word_sample='files/report_ten_city.docx')\n",
    "\n",
    "ratings_pics = make_ratings_12(\"files/ten_city/Мастер_таблица_2ГИС_10_городов_230428_1845.xlsx\", cnt=12,\n",
    "                              font_size=font_size/4, size_x = size_x/4, size_y=size_y/3)\n",
    "\n",
    "antiratings_pics = make_ratings_12(\"files/ten_city/Мастер_таблица_2ГИС_10_городов_230428_1845.xlsx\", cnt=12,\n",
    "                              font_size=font_size/4, size_x = size_x/4, size_y=size_y/3, filter_str='анти')"
   ]
  },
  {
   "cell_type": "code",
   "execution_count": null,
   "id": "908e1421-b4e3-4283-aa47-fff8f3ffb239",
   "metadata": {
    "execution": {
     "iopub.execute_input": "2023-05-28T22:00:36.492282Z",
     "iopub.status.busy": "2023-05-28T22:00:36.492282Z",
     "iopub.status.idle": "2023-05-28T22:00:50.719942Z",
     "shell.execute_reply": "2023-05-28T22:00:50.719942Z",
     "shell.execute_reply.started": "2023-05-28T22:00:36.492282Z"
    },
    "tags": []
   },
   "outputs": [],
   "source": [
    "requsts_pics = make_plt_requsts('files/ten_city/requests_text_ten_city_230504_0256.xlsx', \"\", '#249FD8', '#D2DDF1', \n",
    "                   size_x=size_x/4, size_y=size_y/3, cnt=12, font_size=font_size/4, img_w=16.5, img_h=10, blank=True, word_sample='files/report_ten_city.docx')"
   ]
  },
  {
   "cell_type": "code",
   "execution_count": 43,
   "id": "2d76d5b6-17f5-43c0-99db-90d44a26a146",
   "metadata": {
    "execution": {
     "iopub.execute_input": "2023-05-28T21:47:47.191377Z",
     "iopub.status.busy": "2023-05-28T21:47:47.191377Z",
     "iopub.status.idle": "2023-05-28T21:47:47.460535Z",
     "shell.execute_reply": "2023-05-28T21:47:47.459619Z",
     "shell.execute_reply.started": "2023-05-28T21:47:47.191377Z"
    },
    "tags": []
   },
   "outputs": [],
   "source": [
    "import pptx\n",
    "from pptx.util import Cm, Pt\n",
    "prs = pptx.Presentation('pics/test.pptx')\n",
    "slides = prs.slides\n",
    "slides_elements = {j:{i.name[:5]:i for i in slides[j].shapes} for j in range(len(slides))}\n",
    "pics_to_add = [pic1, pic2, pic3, pic4, pic5, pic6]\n",
    "now = str(datetime.datetime.now())[:-9].replace('-','').replace(' ','_').replace(':','')[2:]\n",
    "\n",
    "for n, i in enumerate([2, 3, 4, 5, 7, 9]):\n",
    "    slides[i].shapes.add_picture(pics_to_add[n], Cm(0.7), Cm(2.4), Cm(30.7), Cm(16))\n",
    "    shape_i = slides_elements[i]['Капля']\n",
    "    p = shape_i.text_frame.add_paragraph()\n",
    "    p.text = now\n",
    "    p.font.size = Pt(12)\n",
    "\n",
    "#prs.save('pics/test_new.pptx')\n",
    "#prs.save(r\"C:\\Users\\Mamed\\_Notebooks\\2GIS_2023\\pics\\Презентация_Мамедов Рамиль.pptx\")"
   ]
  },
  {
   "cell_type": "code",
   "execution_count": 56,
   "id": "4638f928-224f-4a54-b76f-345c7b6d07fe",
   "metadata": {
    "execution": {
     "iopub.execute_input": "2023-05-28T22:04:33.662364Z",
     "iopub.status.busy": "2023-05-28T22:04:33.662364Z",
     "iopub.status.idle": "2023-05-28T22:04:33.737083Z",
     "shell.execute_reply": "2023-05-28T22:04:33.737083Z",
     "shell.execute_reply.started": "2023-05-28T22:04:33.662364Z"
    },
    "tags": []
   },
   "outputs": [],
   "source": [
    "def add_pictures(slide, pics_list, x=7.7, y=5.4):\n",
    "    slide.shapes.add_picture(pics_list[0], Cm(0.7), Cm(2.4), Cm(x), Cm(y))\n",
    "    slide.shapes.add_picture(pics_list[1], Cm(0.7+x), Cm(2.4), Cm(x), Cm(y))\n",
    "    slide.shapes.add_picture(pics_list[2], Cm(0.7+x*2), Cm(2.4), Cm(x), Cm(y))\n",
    "    slide.shapes.add_picture(pics_list[3], Cm(0.7+x*3), Cm(2.4), Cm(x), Cm(y))\n",
    "    slide.shapes.add_picture(pics_list[4], Cm(0.7), Cm(2.4+y), Cm(x), Cm(y))\n",
    "    slide.shapes.add_picture(pics_list[5], Cm(0.7+x), Cm(2.4+y), Cm(x), Cm(y))\n",
    "    slide.shapes.add_picture(pics_list[6], Cm(0.7+x*2), Cm(2.4+y), Cm(x), Cm(y))\n",
    "    slide.shapes.add_picture(pics_list[7], Cm(0.7+x*3), Cm(2.4+y), Cm(x), Cm(y))\n",
    "    slide.shapes.add_picture(pics_list[8], Cm(0.7), Cm(2.4+y*2), Cm(x), Cm(y))\n",
    "    slide.shapes.add_picture(pics_list[9], Cm(0.7+x), Cm(2.4+y*2), Cm(x), Cm(y))\n",
    "    slide.shapes.add_picture(pics_list[10], Cm(0.7+x*2), Cm(2.4+y*2), Cm(x), Cm(y))\n",
    "    slide.shapes.add_picture(pics_list[11], Cm(0.7+x*3), Cm(2.4+y*2), Cm(x), Cm(y))\n",
    "\n",
    "    \n",
    "antiratings_pics.insert(6, antiratings_pics[10])\n",
    "add_pictures(slides[6], ratings_pics)\n",
    "add_pictures(slides[8], antiratings_pics)\n",
    "add_pictures(slides[10], requsts_pics)"
   ]
  },
  {
   "cell_type": "code",
   "execution_count": 111,
   "id": "c73ad361-769d-49ad-94e5-7fa79f600410",
   "metadata": {
    "execution": {
     "iopub.execute_input": "2023-05-29T19:24:57.158666Z",
     "iopub.status.busy": "2023-05-29T19:24:57.157667Z",
     "iopub.status.idle": "2023-05-29T19:24:57.177672Z",
     "shell.execute_reply": "2023-05-29T19:24:57.176675Z",
     "shell.execute_reply.started": "2023-05-29T19:24:57.158666Z"
    },
    "tags": []
   },
   "outputs": [],
   "source": [
    "def make_linear_plots(input_filename, rubrics_df, cnt=9999, size_x=size_x, size_y=size_y, font_size=font_size):\n",
    "    def zero(x,y):\n",
    "        if x < 0:\n",
    "            return str(0) +'%'\n",
    "        return str(round(x,1)) +'%'\n",
    "    \n",
    "    dt_now = str(datetime.datetime.now())[2:-9].replace('-','').replace(':','').replace(' ','_')\n",
    "\n",
    "    cols1 = ['Рубрика','Час','Количество запросов Астана','Количество запросов Бишкек','Количество запросов Москва','Количество запросов ОАЭ','Количество запросов Ташкент']\n",
    "    cols2 = ['Рубрика','Дата','Количество запросов Астана','Количество запросов Бишкек','Количество запросов Москва','Количество запросов ОАЭ','Количество запросов Ташкент']\n",
    "    cols3 = ['Рубрика','Неделя','Количество запросов Астана','Количество запросов Бишкек','Количество запросов Москва','Количество запросов ОАЭ','Количество запросов Ташкент']\n",
    "    cols4 = ['Рубрика','День недели','Количество запросов Астана','Количество запросов Бишкек','Количество запросов Москва','Количество запросов ОАЭ','Количество запросов Ташкент']\n",
    "    dff1 = pd.read_excel(input_filename, sheet_name='Часы')[cols1]\n",
    "    dff2 = pd.read_excel(input_filename, sheet_name='Даты')[cols2]\n",
    "    dff3 = pd.read_excel(input_filename, sheet_name='Недели')[cols3]\n",
    "    dff4 = pd.read_excel(input_filename, sheet_name='Дни недели')[cols4]\n",
    "    \n",
    "    i = 0\n",
    "    imgs = []\n",
    "    for rubric in tqdm(rubrics_df[:].iloc[:,0].values[0:cnt]):\n",
    "        dff1_test = dff1[dff1['Рубрика'] == rubric].set_index(dff1.columns[1])\n",
    "        dff2_test = dff2[dff2['Рубрика'] == rubric].set_index(dff2.columns[1])\n",
    "        dff3_test = dff3[dff3['Рубрика'] == rubric].set_index(dff3.columns[1])\n",
    "        dff4_test = dff4[dff4['Рубрика'] == rubric].set_index(dff4.columns[1])\n",
    "        dff4_test.index = (['пн','вт','ср','чт','пт','сб','вс'])\n",
    "        dff1_test.index = dff1_test.index.astype(str)\n",
    "        i+=1\n",
    "        j=0\n",
    "        for d in [dff1_test, dff2_test, dff3_test, dff4_test]: \n",
    "            j+=1\n",
    "            fig, ax = plt.subplots()\n",
    "            ax = sns.lineplot(data = d, linewidth=3, palette=['#4F81BD', '#F79646', '#C0504D', '#9BBB59', '#264478'])\n",
    "            plt.rcParams['figure.figsize']=size_x,size_y\n",
    "            plt.rcParams['font.size'] = font_size\n",
    "            plt.rcParams['figure.dpi'] = 2**8\n",
    "            plt.rcParams['figure.facecolor'] = 'white'\n",
    "            fpath = Path(mpl.get_data_path(), r\"C:\\Users\\Mamed\\YandexDisk\\_Documents\\Проекты\\2ГИС 2023\\Лого\\arialnarrow.ttf\")\n",
    "            \n",
    "            \n",
    "            plt.legend(['Астана', 'Бишкек', 'Москва', 'ОАЭ', 'Ташкент'], prop=fpath)\n",
    "            plt.xticks(font=fpath)\n",
    "            plt.yticks(font=fpath)\n",
    "            plt.grid(visible=True, linewidth=0.3)\n",
    "            ax.set_xlabel('')\n",
    "            ax.yaxis.set_major_formatter(FuncFormatter(zero))\n",
    "            ax.xaxis.set_major_locator(ticker.MultipleLocator(1)) \n",
    "            ax.yaxis.set_major_locator(ticker.LinearLocator(numticks=6))  \n",
    "            title_text = f'{i:02}/{j}. {rubric}. '\n",
    "            img_file_name = input_filename.replace('files/','')[:-5]\n",
    "            img_file_name_final = f'pictures/{img_file_name}_{i:02}_{j}.png'\n",
    "            imgs.append(img_file_name_final)\n",
    "            if 'Час' == d.index.name:\n",
    "                ax.set_title(f'{title_text}Запросы по часам, шт.', font=fpath)\n",
    "            elif 'Дата' == d.index.name:\n",
    "                ax.xaxis.set_major_locator(ticker.MultipleLocator(4)) \n",
    "                ax.set_title(f'{title_text}Запросы по датам, шт.', font=fpath)\n",
    "            elif 'Неделя' == d.index.name:\n",
    "                ax.set_title(f'{title_text}Запросы по неделям, шт.', font=fpath)\n",
    "            else:\n",
    "                ax.set_title(f'{title_text}Запросы по дням недели, шт.', font=fpath) \n",
    "            \n",
    "            ax.figure.savefig(img_file_name_final, bbox_inches='tight')\n",
    "            #plt.show()\n",
    "            plt.close()\n",
    "    return imgs"
   ]
  },
  {
   "cell_type": "code",
   "execution_count": 82,
   "id": "1ba959ba-6f97-471c-b1e0-53c552dd8c45",
   "metadata": {
    "execution": {
     "iopub.execute_input": "2023-05-28T22:30:17.743149Z",
     "iopub.status.busy": "2023-05-28T22:30:17.743149Z",
     "iopub.status.idle": "2023-05-28T22:30:50.607176Z",
     "shell.execute_reply": "2023-05-28T22:30:50.607176Z",
     "shell.execute_reply.started": "2023-05-28T22:30:17.743149Z"
    },
    "tags": []
   },
   "outputs": [
    {
     "data": {
      "application/vnd.jupyter.widget-view+json": {
       "model_id": "54eba4d33a8c4f2585745b0fd8c2b537",
       "version_major": 2,
       "version_minor": 0
      },
      "text/plain": [
       "  0%|          | 0/4 [00:00<?, ?it/s]"
      ]
     },
     "metadata": {},
     "output_type": "display_data"
    }
   ],
   "source": [
    "rubrics = pd.DataFrame(pd.read_parquet(f\"files/ten_city/df_tx_grouped_filtered_ten_city\", columns=['rubricName'])['rubricName'].unique())\n",
    "rubrics['Рейтинг рубрики'] = rubrics.index + 1\n",
    "grapics_pics = make_linear_plots(f'files/ten_city/df_dates.xlsx', rubrics, 4, size_x=size_x/2, size_y=size_y/2, font_size=font_size/2)"
   ]
  },
  {
   "cell_type": "code",
   "execution_count": 150,
   "id": "6e134cac-184d-4b18-b152-bbf04d78b7bd",
   "metadata": {
    "execution": {
     "iopub.execute_input": "2023-05-29T19:51:39.600177Z",
     "iopub.status.busy": "2023-05-29T19:51:39.599177Z",
     "iopub.status.idle": "2023-05-29T19:51:40.071633Z",
     "shell.execute_reply": "2023-05-29T19:51:40.070568Z",
     "shell.execute_reply.started": "2023-05-29T19:51:39.600177Z"
    },
    "tags": []
   },
   "outputs": [],
   "source": [
    "prs = pptx.Presentation('pics/test_new.pptx')\n",
    "slides = prs.slides\n",
    "slides_elements = {j:{i.name[:5]:i for i in slides[j].shapes} for j in range(len(slides))}"
   ]
  },
  {
   "cell_type": "code",
   "execution_count": 89,
   "id": "fdaf104d-019b-4c6d-80c9-1002294480c1",
   "metadata": {
    "execution": {
     "iopub.execute_input": "2023-05-28T22:34:21.890453Z",
     "iopub.status.busy": "2023-05-28T22:34:21.890453Z",
     "iopub.status.idle": "2023-05-28T22:34:21.951010Z",
     "shell.execute_reply": "2023-05-28T22:34:21.950056Z",
     "shell.execute_reply.started": "2023-05-28T22:34:21.890453Z"
    },
    "tags": []
   },
   "outputs": [
    {
     "data": {
      "text/plain": [
       "<pptx.shapes.picture.Picture at 0x2b68e20ffd0>"
      ]
     },
     "execution_count": 89,
     "metadata": {},
     "output_type": "execute_result"
    }
   ],
   "source": [
    "x = 15.3 \n",
    "y = 8\n",
    "slides[11].shapes.add_picture(grapics_pics[0], Cm(0.7), Cm(2.4), Cm(x), Cm(y))\n",
    "slides[11].shapes.add_picture(grapics_pics[1], Cm(0.7+x), Cm(2.4), Cm(x), Cm(y))\n",
    "slides[11].shapes.add_picture(grapics_pics[2], Cm(0.7), Cm(2.4+y), Cm(x), Cm(y))\n",
    "slides[11].shapes.add_picture(grapics_pics[3], Cm(0.7+x), Cm(2.4+y), Cm(x), Cm(y))"
   ]
  },
  {
   "cell_type": "code",
   "execution_count": 90,
   "id": "b6fb082f-c53d-4cbe-bdaf-0692aad4d5cd",
   "metadata": {
    "execution": {
     "iopub.execute_input": "2023-05-28T22:34:23.125946Z",
     "iopub.status.busy": "2023-05-28T22:34:23.125946Z",
     "iopub.status.idle": "2023-05-28T22:34:24.057882Z",
     "shell.execute_reply": "2023-05-28T22:34:24.057882Z",
     "shell.execute_reply.started": "2023-05-28T22:34:23.125946Z"
    },
    "tags": []
   },
   "outputs": [],
   "source": [
    "save_pptx()"
   ]
  },
  {
   "cell_type": "code",
   "execution_count": 140,
   "id": "901d7862-6721-4c70-a615-59c3c89a1ee3",
   "metadata": {
    "execution": {
     "iopub.execute_input": "2023-05-29T19:42:13.182775Z",
     "iopub.status.busy": "2023-05-29T19:42:13.182775Z",
     "iopub.status.idle": "2023-05-29T19:43:06.629509Z",
     "shell.execute_reply": "2023-05-29T19:43:06.628634Z",
     "shell.execute_reply.started": "2023-05-29T19:42:13.182775Z"
    },
    "tags": []
   },
   "outputs": [
    {
     "data": {
      "application/vnd.jupyter.widget-view+json": {
       "model_id": "f07cd43fcd6f43d5b2222ca6ab0ee743",
       "version_major": 2,
       "version_minor": 0
      },
      "text/plain": [
       "  0%|          | 0/24 [00:00<?, ?it/s]"
      ]
     },
     "metadata": {},
     "output_type": "display_data"
    }
   ],
   "source": [
    "rubrics = pd.DataFrame(pd.read_parquet(f\"files/ten_city/df_tx_grouped_filtered_ten_city\", columns=['rubricName'])['rubricName'].unique())\n",
    "rubrics['Рейтинг рубрики'] = rubrics.index + 1\n",
    "rubrics_sample_index = [56,  9, 98,  7, 13,  5, 74, 60, 79, 73, 90, 34, 54, 58, 47, 89,  6, 46, 29, 65, 62, 39, 18, 26, 41, 81, 87, 83, 25, 16]\n",
    "rubrics_sample = rubrics.iloc[rubrics_sample_index]\n",
    "grapics_pics_24 = make_linear_plots(f'files/ten_city/df_dates.xlsx', rubrics_sample, 24, size_x=size_x/6, size_y=size_y/4, font_size=font_size/4)"
   ]
  },
  {
   "cell_type": "code",
   "execution_count": 142,
   "id": "1271df02-5894-465f-968e-ac1f4b77131e",
   "metadata": {
    "execution": {
     "iopub.execute_input": "2023-05-29T19:43:21.829735Z",
     "iopub.status.busy": "2023-05-29T19:43:21.829735Z",
     "iopub.status.idle": "2023-05-29T19:43:22.067650Z",
     "shell.execute_reply": "2023-05-29T19:43:22.066655Z",
     "shell.execute_reply.started": "2023-05-29T19:43:21.829735Z"
    },
    "tags": []
   },
   "outputs": [
    {
     "data": {
      "text/plain": [
       "<pptx.shapes.picture.Picture at 0x2b76ce57160>"
      ]
     },
     "execution_count": 142,
     "metadata": {},
     "output_type": "execute_result"
    }
   ],
   "source": [
    "x = 5\n",
    "y = 4\n",
    "slides[12].shapes.add_picture(grapics_pics_24[0], Cm(0.7), Cm(2.4), Cm(x), Cm(y))\n",
    "slides[12].shapes.add_picture(grapics_pics_24[1], Cm(0.7+x), Cm(2.4), Cm(x), Cm(y))\n",
    "slides[12].shapes.add_picture(grapics_pics_24[2], Cm(0.7+x*2), Cm(2.4), Cm(x), Cm(y))\n",
    "slides[12].shapes.add_picture(grapics_pics_24[3], Cm(0.7+x*3), Cm(2.4), Cm(x), Cm(y))\n",
    "slides[12].shapes.add_picture(grapics_pics_24[4], Cm(0.7+x*4), Cm(2.4), Cm(x), Cm(y))\n",
    "slides[12].shapes.add_picture(grapics_pics_24[5], Cm(0.7+x*5), Cm(2.4), Cm(x), Cm(y))\n",
    "\n",
    "slides[12].shapes.add_picture(grapics_pics_24[6], Cm(0.7)    , Cm(2.4+y), Cm(x), Cm(y))\n",
    "slides[12].shapes.add_picture(grapics_pics_24[7], Cm(0.7+x)  , Cm(2.4+y), Cm(x), Cm(y))\n",
    "slides[12].shapes.add_picture(grapics_pics_24[8], Cm(0.7+x*2), Cm(2.4+y), Cm(x), Cm(y))\n",
    "slides[12].shapes.add_picture(grapics_pics_24[9], Cm(0.7+x*3), Cm(2.4+y), Cm(x), Cm(y))\n",
    "slides[12].shapes.add_picture(grapics_pics_24[10], Cm(0.7+x*4), Cm(2.4+y), Cm(x), Cm(y))\n",
    "slides[12].shapes.add_picture(grapics_pics_24[11], Cm(0.7+x*5), Cm(2.4+y), Cm(x), Cm(y))\n",
    "\n",
    "slides[12].shapes.add_picture(grapics_pics_24[12], Cm(0.7)    , Cm(2.4+y*2), Cm(x), Cm(y))\n",
    "slides[12].shapes.add_picture(grapics_pics_24[13], Cm(0.7+x)  , Cm(2.4+y*2), Cm(x), Cm(y))\n",
    "slides[12].shapes.add_picture(grapics_pics_24[14], Cm(0.7+x*2), Cm(2.4+y*2), Cm(x), Cm(y))\n",
    "slides[12].shapes.add_picture(grapics_pics_24[15], Cm(0.7+x*3), Cm(2.4+y*2), Cm(x), Cm(y))\n",
    "slides[12].shapes.add_picture(grapics_pics_24[16], Cm(0.7+x*4), Cm(2.4+y*2), Cm(x), Cm(y))\n",
    "slides[12].shapes.add_picture(grapics_pics_24[17], Cm(0.7+x*5), Cm(2.4+y*2), Cm(x), Cm(y))\n",
    "\n",
    "slides[12].shapes.add_picture(grapics_pics_24[18], Cm(0.7)    , Cm(2.4+y*3), Cm(x), Cm(y))\n",
    "slides[12].shapes.add_picture(grapics_pics_24[19], Cm(0.7+x)  , Cm(2.4+y*3), Cm(x), Cm(y))\n",
    "slides[12].shapes.add_picture(grapics_pics_24[20], Cm(0.7+x*2), Cm(2.4+y*3), Cm(x), Cm(y))\n",
    "slides[12].shapes.add_picture(grapics_pics_24[21], Cm(0.7+x*3), Cm(2.4+y*3), Cm(x), Cm(y))\n",
    "slides[12].shapes.add_picture(grapics_pics_24[22], Cm(0.7+x*4), Cm(2.4+y*3), Cm(x), Cm(y))\n",
    "slides[12].shapes.add_picture(grapics_pics_24[23], Cm(0.7+x*5), Cm(2.4+y*3), Cm(x), Cm(y))"
   ]
  },
  {
   "cell_type": "code",
   "execution_count": 187,
   "id": "41f5cb2c-22c7-4971-b6cc-e77f25ee89c5",
   "metadata": {
    "execution": {
     "iopub.execute_input": "2023-05-29T21:07:01.060140Z",
     "iopub.status.busy": "2023-05-29T21:07:01.060140Z",
     "iopub.status.idle": "2023-05-29T21:07:02.399167Z",
     "shell.execute_reply": "2023-05-29T21:07:02.398241Z",
     "shell.execute_reply.started": "2023-05-29T21:07:01.060140Z"
    },
    "tags": []
   },
   "outputs": [
    {
     "name": "stdout",
     "output_type": "stream",
     "text": [
      "2023-05-30 00:07:02 test_new.pptx\n"
     ]
    }
   ],
   "source": [
    "save_pptx()"
   ]
  },
  {
   "cell_type": "code",
   "execution_count": 216,
   "id": "2e2e1401-a223-4e8f-9367-c078e29f54b0",
   "metadata": {
    "execution": {
     "iopub.execute_input": "2023-05-29T21:42:47.276365Z",
     "iopub.status.busy": "2023-05-29T21:42:47.275363Z",
     "iopub.status.idle": "2023-05-29T21:42:54.160182Z",
     "shell.execute_reply": "2023-05-29T21:42:54.159298Z",
     "shell.execute_reply.started": "2023-05-29T21:42:47.276365Z"
    },
    "tags": []
   },
   "outputs": [],
   "source": [
    "from matplotlib.font_manager import fontManager, FontProperties\n",
    "def rounder(x,y):\n",
    "    return str(round(x))\n",
    "\n",
    "def prcnter(x,y):\n",
    "    if x == 0 or x > 1:\n",
    "        return ''\n",
    "    return str(round(x*100)) + '%'\n",
    "\n",
    "i = 0\n",
    "dates = [r\"C:\\Users\\Mamed\\_Notebooks\\2GIS_2023\\files\\ten_city\\df_dates_city.xlsx\",\n",
    "r\"C:\\Users\\Mamed\\_Notebooks\\2GIS_2023\\files\\ten_city\\df_dates_rubrics.xlsx\",\n",
    "r\"C:\\Users\\Mamed\\_Notebooks\\2GIS_2023\\files\\ten_city\\df_dates_rubrics_city.xlsx\"]\n",
    "\n",
    "pics = []\n",
    "for file in dates:\n",
    "    for col_r in ['hour_r', 'date_r', 'week_r', 'week_day_r']:\n",
    "        xr = pd.read_excel(file, sheet_name=col_r)\n",
    "        xr['diff'] = xr['diff'].apply(lambda x: 1 if x > 1 else x)\n",
    "        file_name = file.split('\\\\')[-1].replace('.xlsx','').replace('df_dates_','')\n",
    "        sns_plot = sns.displot(data=xr, x=\"diff\", kde=True)\n",
    "        sns.set(rc={'figure.figsize':(size_y/2, size_x/6), \"figure.dpi\": 2**8})\n",
    "        sns.set(rc={'axes.facecolor':'white', 'figure.facecolor':'white'})\n",
    "        fpath = r\"C:\\Users\\Mamed\\YandexDisk\\_Documents\\Проекты\\2ГИС 2023\\Лого\\arialnarrow.ttf\"\n",
    "        fontManager.addfont(fpath)\n",
    "        prop = FontProperties(fname=fpath)\n",
    "        fig = sns_plot.figure\n",
    "        ax = sns_plot.ax\n",
    "        ax.yaxis.set_major_formatter(FuncFormatter(rounder))\n",
    "        ax.xaxis.set_major_formatter(FuncFormatter(prcnter))\n",
    "        ax.yaxis.set_major_locator(ticker.LinearLocator(numticks=5))\n",
    "        ax.set_xlabel('')\n",
    "        ax.set_ylabel('')\n",
    "        one_dict = {'city':'городов','rubrics': 'бизнесов','rubrics_city':'бизнесов в городах'}\n",
    "        file_name = one_dict[file_name]\n",
    "        two_dict = {'hour_r': 'часам', 'date_r':'датам', 'week_r':'неделям', 'week_day_r':'дням недели'}\n",
    "        col_r = two_dict[col_r]\n",
    "        ax.set_title(f'Схожесть {file_name} по {col_r}'.replace('_r',''), y=0.98, font=prop.get_name())\n",
    "        i+=1\n",
    "        fig.savefig(f\"pictures/ten_city/displot_{i:02}.png\")\n",
    "        pics.append(f\"pictures/ten_city/displot_{i:02}.png\")\n",
    "        plt.close()"
   ]
  },
  {
   "cell_type": "code",
   "execution_count": 226,
   "id": "8869b530-ddd1-41bb-9d63-bb7d1d06052c",
   "metadata": {
    "execution": {
     "iopub.execute_input": "2023-05-29T21:50:23.508378Z",
     "iopub.status.busy": "2023-05-29T21:50:23.507390Z",
     "iopub.status.idle": "2023-05-29T21:50:23.666506Z",
     "shell.execute_reply": "2023-05-29T21:50:23.665626Z",
     "shell.execute_reply.started": "2023-05-29T21:50:23.508378Z"
    },
    "tags": []
   },
   "outputs": [],
   "source": [
    "prs = pptx.Presentation('pics/test_new.pptx')\n",
    "slides = prs.slides\n",
    "slides_elements = {j:{i.name[:5]:i for i in slides[j].shapes} for j in range(len(slides))}"
   ]
  },
  {
   "cell_type": "code",
   "execution_count": 227,
   "id": "dafa18be-09e5-4c13-b91b-8381725e368f",
   "metadata": {
    "execution": {
     "iopub.execute_input": "2023-05-29T21:50:24.138701Z",
     "iopub.status.busy": "2023-05-29T21:50:24.137696Z",
     "iopub.status.idle": "2023-05-29T21:50:24.283227Z",
     "shell.execute_reply": "2023-05-29T21:50:24.282362Z",
     "shell.execute_reply.started": "2023-05-29T21:50:24.138701Z"
    },
    "tags": []
   },
   "outputs": [
    {
     "data": {
      "text/plain": [
       "<pptx.shapes.picture.Picture at 0x2b68324b790>"
      ]
     },
     "execution_count": 227,
     "metadata": {},
     "output_type": "execute_result"
    }
   ],
   "source": [
    "y = 16.1 / 2\n",
    "x = 10.2 / 2\n",
    "slides[13].shapes.add_picture(pics[0], Cm(0.7), Cm(2.4), Cm(x), Cm(y))\n",
    "slides[13].shapes.add_picture(pics[1], Cm(0.7+x), Cm(2.4), Cm(x), Cm(y))\n",
    "slides[13].shapes.add_picture(pics[2], Cm(0.7), Cm(2.4+y), Cm(x), Cm(y))\n",
    "slides[13].shapes.add_picture(pics[3], Cm(0.7+x), Cm(2.4+y), Cm(x), Cm(y))\n",
    "\n",
    "slides[13].shapes.add_picture(pics[4], Cm(0.7+x*2), Cm(2.4), Cm(x), Cm(y))\n",
    "slides[13].shapes.add_picture(pics[5], Cm(0.7+x+x*2), Cm(2.4), Cm(x), Cm(y))\n",
    "slides[13].shapes.add_picture(pics[6], Cm(0.7+x*2), Cm(2.4+y), Cm(x), Cm(y))\n",
    "slides[13].shapes.add_picture(pics[7], Cm(0.7+x+x*2), Cm(2.4+y), Cm(x), Cm(y))\n",
    "\n",
    "slides[13].shapes.add_picture(pics[8], Cm(0.7+x*4), Cm(2.4), Cm(x), Cm(y))\n",
    "slides[13].shapes.add_picture(pics[9], Cm(0.7+x+x*4), Cm(2.4), Cm(x), Cm(y))\n",
    "slides[13].shapes.add_picture(pics[10], Cm(0.7+x*4), Cm(2.4+y), Cm(x), Cm(y))\n",
    "slides[13].shapes.add_picture(pics[11], Cm(0.7+x+x*4), Cm(2.4+y), Cm(x), Cm(y))"
   ]
  },
  {
   "cell_type": "code",
   "execution_count": 228,
   "id": "89f3d044-bc2c-4ca8-9df1-9688e2c44e82",
   "metadata": {
    "execution": {
     "iopub.execute_input": "2023-05-29T21:50:25.668324Z",
     "iopub.status.busy": "2023-05-29T21:50:25.667324Z",
     "iopub.status.idle": "2023-05-29T21:50:26.740128Z",
     "shell.execute_reply": "2023-05-29T21:50:26.739128Z",
     "shell.execute_reply.started": "2023-05-29T21:50:25.668324Z"
    },
    "tags": []
   },
   "outputs": [
    {
     "name": "stdout",
     "output_type": "stream",
     "text": [
      "2023-05-30 00:50:26 test_new.pptx\n"
     ]
    }
   ],
   "source": [
    "save_pptx()"
   ]
  },
  {
   "cell_type": "code",
   "execution_count": 254,
   "id": "746886f0-4ce8-410a-8c1f-5954b27ce670",
   "metadata": {
    "execution": {
     "iopub.execute_input": "2023-05-29T22:33:53.379205Z",
     "iopub.status.busy": "2023-05-29T22:33:53.378206Z",
     "iopub.status.idle": "2023-05-29T22:33:53.402205Z",
     "shell.execute_reply": "2023-05-29T22:33:53.401311Z",
     "shell.execute_reply.started": "2023-05-29T22:33:53.379205Z"
    },
    "tags": []
   },
   "outputs": [],
   "source": [
    "def plot_matrix(file, city, cnt_graphics=50, cnt_shars=12, step=1, size_x=size_x, size_y=size_y, font_size=font_size, size_coef=1):\n",
    "    shar_nums = list(range(1,16))*500\n",
    "    start_range = 1\n",
    "    stop_range = cnt_shars*step+1\n",
    "    time = str(datetime.datetime.now())[2:16].replace('-','').replace(' ','_').replace(':','')\n",
    "    print(f'files/{city}/{city}_shars_{time}.docx')\n",
    "    df_list = []\n",
    "    pics=[]\n",
    "    for graphic_num in tqdm(range(cnt_graphics)):\n",
    "        shar_num = shar_nums.pop()\n",
    "\n",
    "        df = pd.read_excel(file)[['Рубрика','Запросы 2022', 'Запросы 2023', 'Запросы, итого']].iloc[range(start_range, stop_range, step)].set_index('Рубрика').fillna(0)\n",
    "        start_range = stop_range\n",
    "        stop_range = (graphic_num+2)*cnt_shars*step+1\n",
    "\n",
    "        df['Запросы, итого'] = (df['Запросы, итого'] - min(df['Запросы, итого'])) / (max(df['Запросы, итого']) - min(df['Запросы, итого']))*300\n",
    "        requests_total = pd.read_excel(file)['Запросы 2023'].sum()\n",
    "        df['Рост/Падение, %'] = df['Запросы 2023'] / df['Запросы 2022']\n",
    "        df['Доля рынка, %'] = df['Запросы 2023'] / requests_total\n",
    "        x = (df['Доля рынка, %'])\n",
    "        y = (df['Рост/Падение, %'])\n",
    "        sizes = (df['Запросы, итого']/1000)\n",
    "        x_avg = (x.min()+x.max())/2\n",
    "        y_avg = (y.min()+y.max())/2\n",
    "        xi, yi = df['Доля рынка, %'], df['Рост/Падение, %']\n",
    "        df.loc[(xi > x_avg) & (yi > y_avg), 'group'] = 'Звёзды:'\n",
    "        df.loc[(xi > x_avg)  & (yi <= y_avg), 'group'] = 'Коровы:'\n",
    "        df.loc[(xi <= x_avg)  & (yi > y_avg), 'group'] = 'Дети:'\n",
    "        df.loc[(xi <= x_avg)  & (yi <= y_avg), 'group'] = 'Собаки:'\n",
    "        df = df.sort_values(['Доля рынка, %', 'Рост/Падение, %'], ascending=[False, False])\n",
    "\n",
    "        plt.rcParams['figure.figsize'] = size_x, size_y\n",
    "        plt.rcParams['figure.dpi'] = 2**8\n",
    "        plt.rcParams['font.size'] = font_size\n",
    "        fpath = Path(mpl.get_data_path(), r\"C:\\Users\\Mamed\\YandexDisk\\_Documents\\Проекты\\2ГИС 2023\\Лого\\arialnarrow.ttf\")\n",
    "        fig, ax = plt.subplots()\n",
    "        ax.scatter(x, y, sizes, c='#C0504D', alpha=0.7)\n",
    "\n",
    "        n = 0.02\n",
    "        m = 0.02\n",
    "        ax.set_ylim(ax.get_ylim()[0] * (1 - n), ax.get_ylim()[1] * (1 + n))\n",
    "        ax.set_xlim(ax.get_xlim()[0] * (1 - m), ax.get_xlim()[1] * (1 + m))\n",
    "        ax.spines['top'].set_visible(False)\n",
    "        ax.spines['bottom'].set_visible(False)\n",
    "        ax.spines['left'].set_visible(False)\n",
    "        ax.spines['right'].set_visible(False)\n",
    "        ax.set_xticklabels('')\n",
    "        ax.set_yticklabels('')\n",
    "        plt.tick_params(bottom = False, left=False)\n",
    "\n",
    "        for xi, yi, rubric, size in zip(x, y, x.index, sizes):\n",
    "            rs = rubric.split(' ')\n",
    "            if len(rs) > 1:\n",
    "                rsl = len(rs) // 2\n",
    "                rubric = ' '.join(rs[:rsl] + ['\\n'] + rs[rsl:])\n",
    "\n",
    "            shar_path = [r\"C:\\Users\\Mamed\\YandexDisk\\_Documents\\Проекты\\2ГИС 2023\\Лого\\Шар_{:02}.png\".format(shar_num)]\n",
    "            shar_img = OffsetImage(plt.imread(shar_path[0], format=\"png\"), zoom=size/size_coef)\n",
    "            ab = AnnotationBbox(shar_img, (xi, yi), frameon=False)\n",
    "            ax.add_artist(ab)\n",
    "            plt.annotate(rubric, (xi, yi), ha='center', va='center', font=fpath, color='#404040')\n",
    "\n",
    "        ax.hlines((y.min()+y.max())/2, x.min(), x.max(), colors='gray', linewidth=1)\n",
    "        ax.vlines((x.min()+x.max())/2, y.min(), y.max(), colors='gray', linewidth=1)\n",
    "        \n",
    "        fig.savefig(f'pictures/{city}_shar_{shar_num}.png', bbox_inches='tight', transparent=False)\n",
    "        pics.append(f'pictures/{city}_shar_{shar_num}.png')\n",
    "        txt = ''\n",
    "        for cat in ['Звёзды:','Коровы:','Дети:','Собаки:']:\n",
    "            txt +=  cat + ' ' + ', '.join([word[::-1].replace('/', 'и', 1)[::-1].replace('/', ',').replace(' ,', ',').lower() for word in df[df['group'] == cat].index]) + \"\\n\"\n",
    "        txt = txt[::-1].replace('\\n',':', 1)[::-1]\n",
    "        #plt.show()\n",
    "        plt.close()\n",
    "        df_list.append(df)\n",
    "    return pics"
   ]
  },
  {
   "cell_type": "code",
   "execution_count": 247,
   "id": "1966003f-f992-4bb4-8b1e-f8388db2af05",
   "metadata": {
    "execution": {
     "iopub.execute_input": "2023-05-29T22:21:47.240139Z",
     "iopub.status.busy": "2023-05-29T22:21:47.239230Z",
     "iopub.status.idle": "2023-05-29T22:21:47.254136Z",
     "shell.execute_reply": "2023-05-29T22:21:47.253135Z",
     "shell.execute_reply.started": "2023-05-29T22:21:47.240139Z"
    },
    "tags": []
   },
   "outputs": [],
   "source": [
    "file = r\"C:\\Users\\Mamed\\YandexDisk\\_Documents\\Проекты\\2ГИС 2023\\10 городов\\Мастер_таблица_2ГИС_10_городов_230419_1700_ext.xlsx\"\n",
    "city = 'ten_city'"
   ]
  },
  {
   "cell_type": "code",
   "execution_count": null,
   "id": "006cf8d9-c178-40e4-90e9-07f43e5e3c46",
   "metadata": {
    "execution": {
     "iopub.execute_input": "2023-05-29T22:21:48.748785Z",
     "iopub.status.busy": "2023-05-29T22:21:48.748785Z",
     "iopub.status.idle": "2023-05-29T22:21:57.032795Z",
     "shell.execute_reply": "2023-05-29T22:21:57.031794Z",
     "shell.execute_reply.started": "2023-05-29T22:21:48.748785Z"
    },
    "tags": []
   },
   "outputs": [],
   "source": [
    "matrix_pics = plot_matrix(file, city, cnt_graphics=1, cnt_shars=12, step=1, size_x=size_x, size_y=size_y, font_size=font_size)"
   ]
  },
  {
   "cell_type": "code",
   "execution_count": 259,
   "id": "68d5bd86-bb87-48be-aab2-01ac5b7b9163",
   "metadata": {
    "execution": {
     "iopub.execute_input": "2023-05-29T22:39:16.637986Z",
     "iopub.status.busy": "2023-05-29T22:39:16.637986Z",
     "iopub.status.idle": "2023-05-29T22:39:16.767704Z",
     "shell.execute_reply": "2023-05-29T22:39:16.766823Z",
     "shell.execute_reply.started": "2023-05-29T22:39:16.637986Z"
    },
    "tags": []
   },
   "outputs": [],
   "source": [
    "prs = pptx.Presentation('pics/test_new.pptx')\n",
    "slides = prs.slides\n",
    "x, y = 30.7, 16\n",
    "#slides[14].shapes.add_picture(matrix_pics[0], Cm(0.7), Cm(2.4), Cm(x), Cm(y))"
   ]
  },
  {
   "cell_type": "code",
   "execution_count": null,
   "id": "7e4f0ebf-c091-4ba4-a89e-0cee89f083d4",
   "metadata": {
    "execution": {
     "iopub.execute_input": "2023-05-29T22:33:55.337650Z",
     "iopub.status.busy": "2023-05-29T22:33:55.337650Z",
     "iopub.status.idle": "2023-05-29T22:34:41.702707Z",
     "shell.execute_reply": "2023-05-29T22:34:41.701713Z",
     "shell.execute_reply.started": "2023-05-29T22:33:55.337650Z"
    },
    "tags": []
   },
   "outputs": [],
   "source": [
    "matrix_pics_12 = plot_matrix(file, city, cnt_graphics=12, cnt_shars=12, step=1, size_x=size_x/4, size_y=size_y/3, font_size=font_size/3, size_coef=3)"
   ]
  },
  {
   "cell_type": "code",
   "execution_count": 260,
   "id": "9508b44b-6f66-4932-a88e-c724f3aefded",
   "metadata": {
    "execution": {
     "iopub.execute_input": "2023-05-29T22:39:21.522039Z",
     "iopub.status.busy": "2023-05-29T22:39:21.522039Z",
     "iopub.status.idle": "2023-05-29T22:39:21.623580Z",
     "shell.execute_reply": "2023-05-29T22:39:21.623580Z",
     "shell.execute_reply.started": "2023-05-29T22:39:21.522039Z"
    },
    "tags": []
   },
   "outputs": [
    {
     "data": {
      "text/plain": [
       "<pptx.shapes.picture.Picture at 0x2b68bdc0af0>"
      ]
     },
     "execution_count": 260,
     "metadata": {},
     "output_type": "execute_result"
    }
   ],
   "source": [
    "x = 7.7\n",
    "y = 5.3\n",
    "slides[15].shapes.add_picture(matrix_pics_12[0], Cm(0.7),     Cm(2.4), Cm(x), Cm(y))\n",
    "slides[15].shapes.add_picture(matrix_pics_12[1], Cm(0.7+x),   Cm(2.4), Cm(x), Cm(y))\n",
    "slides[15].shapes.add_picture(matrix_pics_12[2], Cm(0.7+x*2), Cm(2.4), Cm(x), Cm(y))\n",
    "slides[15].shapes.add_picture(matrix_pics_12[3], Cm(0.7+x*3), Cm(2.4), Cm(x), Cm(y))\n",
    "\n",
    "slides[15].shapes.add_picture(matrix_pics_12[4], Cm(0.7),     Cm(2.4+y), Cm(x), Cm(y))\n",
    "slides[15].shapes.add_picture(matrix_pics_12[5], Cm(0.7+x),   Cm(2.4+y), Cm(x), Cm(y))\n",
    "slides[15].shapes.add_picture(matrix_pics_12[6], Cm(0.7+x*2), Cm(2.4+y), Cm(x), Cm(y))\n",
    "slides[15].shapes.add_picture(matrix_pics_12[7], Cm(0.7+x*3), Cm(2.4+y), Cm(x), Cm(y))\n",
    "\n",
    "slides[15].shapes.add_picture(matrix_pics_12[8],  Cm(0.7),     Cm(2.4+y*2), Cm(x), Cm(y))\n",
    "slides[15].shapes.add_picture(matrix_pics_12[9],  Cm(0.7+x),   Cm(2.4+y*2), Cm(x), Cm(y))\n",
    "slides[15].shapes.add_picture(matrix_pics_12[10], Cm(0.7+x*2), Cm(2.4+y*2), Cm(x), Cm(y))\n",
    "slides[15].shapes.add_picture(matrix_pics_12[11], Cm(0.7+x*3), Cm(2.4+y*2), Cm(x), Cm(y))"
   ]
  },
  {
   "cell_type": "code",
   "execution_count": 261,
   "id": "7103aa45-0301-4057-9b59-d8c481c89648",
   "metadata": {
    "execution": {
     "iopub.execute_input": "2023-05-29T22:39:23.275304Z",
     "iopub.status.busy": "2023-05-29T22:39:23.275304Z",
     "iopub.status.idle": "2023-05-29T22:39:24.564039Z",
     "shell.execute_reply": "2023-05-29T22:39:24.564039Z",
     "shell.execute_reply.started": "2023-05-29T22:39:23.275304Z"
    },
    "tags": []
   },
   "outputs": [
    {
     "name": "stdout",
     "output_type": "stream",
     "text": [
      "2023-05-30 01:39:24 test_new.pptx\n"
     ]
    }
   ],
   "source": [
    "save_pptx()"
   ]
  },
  {
   "cell_type": "code",
   "execution_count": null,
   "id": "2f5c2e1f-976f-4aa7-9b0e-1c009ca0b85f",
   "metadata": {},
   "outputs": [],
   "source": []
  },
  {
   "cell_type": "markdown",
   "id": "f143510e-100e-4ffa-b21b-55f47a8d2619",
   "metadata": {
    "tags": []
   },
   "source": [
    "### 1.10.\tАнализ Матриц BCG по городам"
   ]
  },
  {
   "cell_type": "code",
   "execution_count": 36,
   "id": "a9c45e29-b482-4ff3-a4d1-868f59a73f23",
   "metadata": {
    "execution": {
     "iopub.execute_input": "2023-06-08T10:51:33.337494Z",
     "iopub.status.busy": "2023-06-08T10:51:33.336512Z",
     "iopub.status.idle": "2023-06-08T10:51:33.369079Z",
     "shell.execute_reply": "2023-06-08T10:51:33.368094Z",
     "shell.execute_reply.started": "2023-06-08T10:51:33.337494Z"
    },
    "tags": []
   },
   "outputs": [],
   "source": [
    "def plot_matrix_cities(cnt_graphics=100, show=False, size_x=size_x, size_y=size_y, font_size=font_size, size_coef=1):\n",
    "    folder='ten_city'\n",
    "    shar_nums = list(range(1,16))*500\n",
    "    time = str(datetime.datetime.now())[2:16].replace('-','').replace(' ','_').replace(':','')\n",
    "    df_src = pd.read_parquet(f'files/ten_city/requests_for_shars')\n",
    "    df_new = df_src[['rubricName','city']].drop_duplicates().set_index(['rubricName','city'])\n",
    "    df_new['Запросы 2020'] = df_src[df_src['year_r'] == 2020].groupby(['rubricName', 'city']).sum('cnt_requests')[['cnt_requests']]\n",
    "    df_new['Запросы 2021'] = df_src[df_src['year_r'] == 2021].groupby(['rubricName', 'city']).sum('cnt_requests')[['cnt_requests']]\n",
    "    df_new['Запросы 2022'] = df_src[df_src['year_r'] == 2022].groupby(['rubricName', 'city']).sum('cnt_requests')[['cnt_requests']]\n",
    "    df_new['Запросы 2023'] = df_src[df_src['year_r'] == 2023].groupby(['rubricName', 'city']).sum('cnt_requests')[['cnt_requests']]\n",
    "    df_new = df_new.fillna(0).astype(int)\n",
    "    df_new['Запросы, итого'] =  df_new['Запросы 2020'] + df_new['Запросы 2021'] + df_new['Запросы 2022'] + df_new['Запросы 2023']\n",
    "    df_new = df_new.reset_index().set_index('city')\n",
    "\n",
    "    rubrics = dd.read_parquet(f\"files/ten_city/df_tx_grouped_filtered_ten_city\")['rubricName'].unique().compute()\n",
    "    rubrics = [i for i in rubrics.to_dict().values()]\n",
    "    df_list = []\n",
    "    pics = []\n",
    "    for rubric in tqdm(rubrics[:cnt_graphics]):\n",
    "        shar_num = shar_nums.pop()\n",
    "        df = df_new.loc[df_new['rubricName']==rubric]\n",
    "        df['Запросы, итого'] = (df['Запросы, итого'] - min(df['Запросы, итого'])) / (max(df['Запросы, итого']) - min(df['Запросы, итого']))*300\n",
    "        requests_total = df_new['Запросы 2023'].sum()\n",
    "        df['Рост/Падение, %'] = df['Запросы 2023'] / df['Запросы 2022']\n",
    "        df['Доля рынка, %'] = df['Запросы 2023'] / requests_total\n",
    "        x = (df['Доля рынка, %'])\n",
    "        y = (df['Рост/Падение, %'])\n",
    "        sizes = (df['Запросы, итого']/1000)\n",
    "        x_avg = (x.min()+x.max())/2\n",
    "        y_avg = (y.min()+y.max())/2\n",
    "        xi, yi = df['Доля рынка, %'], df['Рост/Падение, %']\n",
    "        df.loc[(xi > x_avg) & (yi > y_avg), 'group'] = 'Звёзды:'\n",
    "        df.loc[(xi > x_avg)  & (yi <= y_avg), 'group'] = 'Коровы:'\n",
    "        df.loc[(xi <= x_avg)  & (yi > y_avg), 'group'] = 'Дети:'\n",
    "        df.loc[(xi <= x_avg)  & (yi <= y_avg), 'group'] = 'Собаки:'\n",
    "        df = df.sort_values(['Доля рынка, %', 'Рост/Падение, %'], ascending=[False, False])\n",
    "\n",
    "        plt.rcParams['figure.figsize'] = size_x, size_y\n",
    "        plt.rcParams['figure.dpi'] = 2**8\n",
    "        plt.rcParams['font.size'] = font_size\n",
    "        fpath = Path(mpl.get_data_path(), r\"C:\\Users\\Mamed\\YandexDisk\\_Documents\\Проекты\\2ГИС 2023\\Лого\\arialnarrow.ttf\")\n",
    "        fig, ax = plt.subplots()\n",
    "        ax.scatter(x, y, sizes, c='#C0504D', alpha=0.7)\n",
    "\n",
    "        n = 0.02\n",
    "        m = 0.02\n",
    "        ax.set_ylim(ax.get_ylim()[0] * (1 - n), ax.get_ylim()[1] * (1 + n))\n",
    "        ax.set_xlim(ax.get_xlim()[0] * (1 - m), ax.get_xlim()[1] * (1 + m))\n",
    "        ax.spines['top'].set_visible(False)\n",
    "        ax.spines['bottom'].set_visible(False)\n",
    "        ax.spines['left'].set_visible(False)\n",
    "        ax.spines['right'].set_visible(False)\n",
    "        ax.set_xticklabels('')\n",
    "        ax.set_yticklabels('')\n",
    "        plt.tick_params(bottom = False, left=False)\n",
    "        plt.title(rubric, font=fpath, fontsize=40/size_coef, fontweight=1000)\n",
    "\n",
    "        for xi, yi, city, size in zip(x, y, x.index, sizes):\n",
    "            rs = city.split(' ')\n",
    "            if len(rs) > 1:\n",
    "                rsl = len(rs) // 2\n",
    "                city = ' '.join(rs[:rsl] + ['\\n'] + rs[rsl:])\n",
    "\n",
    "            shar_path = [r\"C:\\Users\\Mamed\\YandexDisk\\_Documents\\Проекты\\2ГИС 2023\\Лого\\Шар_{:02}.png\".format(shar_num)]\n",
    "            shar_img = OffsetImage(plt.imread(shar_path[0], format=\"png\"), zoom=size/size_coef)\n",
    "            ab = AnnotationBbox(shar_img, (xi, yi), frameon=False)\n",
    "            ax.add_artist(ab)\n",
    "            plt.annotate(city, (xi, yi), ha='center', va='center', font=fpath, color='#404040')\n",
    "\n",
    "        ax.hlines((y.min()+y.max())/2, x.min(), x.max(), colors='gray', linewidth=1)\n",
    "        ax.vlines((x.min()+x.max())/2, y.min(), y.max(), colors='gray', linewidth=1)\n",
    "        \n",
    "        fig.savefig(f'pictures/{folder}_shar_{shar_num}.png', bbox_inches='tight', transparent=False)\n",
    "        pics.append(f'pictures/{folder}_shar_{shar_num}.png')\n",
    "        #plt.show()\n",
    "        plt.close()\n",
    "    return pics"
   ]
  },
  {
   "cell_type": "code",
   "execution_count": 276,
   "id": "29ef79db-b7b6-4440-9cc4-848d79bdab2c",
   "metadata": {
    "execution": {
     "iopub.execute_input": "2023-05-29T22:52:09.494750Z",
     "iopub.status.busy": "2023-05-29T22:52:09.494750Z",
     "iopub.status.idle": "2023-05-29T22:56:15.889605Z",
     "shell.execute_reply": "2023-05-29T22:56:15.888641Z",
     "shell.execute_reply.started": "2023-05-29T22:52:09.494750Z"
    },
    "tags": []
   },
   "outputs": [
    {
     "name": "stdout",
     "output_type": "stream",
     "text": [
      "[########################################] | 100% Completed | 2.20 sms\n",
      "[########################################] | 100% Completed | 2.31 s\n"
     ]
    },
    {
     "data": {
      "application/vnd.jupyter.widget-view+json": {
       "model_id": "f032b7119bc14025bda386b8cffe121c",
       "version_major": 2,
       "version_minor": 0
      },
      "text/plain": [
       "  0%|          | 0/50 [00:00<?, ?it/s]"
      ]
     },
     "metadata": {},
     "output_type": "display_data"
    }
   ],
   "source": [
    "matrix_cities_pics = plot_matrix_cities(cnt_graphics=50, size_x=size_x, size_y=size_y, font_size=font_size)"
   ]
  },
  {
   "cell_type": "code",
   "execution_count": 278,
   "id": "910de91d-def1-4d41-b9f6-765cc2b78ac8",
   "metadata": {
    "execution": {
     "iopub.execute_input": "2023-05-29T22:59:56.328782Z",
     "iopub.status.busy": "2023-05-29T22:59:56.328782Z",
     "iopub.status.idle": "2023-05-29T22:59:56.599345Z",
     "shell.execute_reply": "2023-05-29T22:59:56.598345Z",
     "shell.execute_reply.started": "2023-05-29T22:59:56.328782Z"
    },
    "tags": []
   },
   "outputs": [
    {
     "data": {
      "text/plain": [
       "<pptx.shapes.picture.Picture at 0x2b71d63a2e0>"
      ]
     },
     "execution_count": 278,
     "metadata": {},
     "output_type": "execute_result"
    }
   ],
   "source": [
    "prs = pptx.Presentation('pics/test_new.pptx')\n",
    "slides = prs.slides\n",
    "x, y = 30.7, 16\n",
    "slides[16].shapes.add_picture('pictures/ten_city_shar_2 — копия.png', Cm(0.7), Cm(2.4), Cm(x), Cm(y))"
   ]
  },
  {
   "cell_type": "code",
   "execution_count": 279,
   "id": "70aada6c-d282-4477-aa9b-9c9367b07341",
   "metadata": {
    "execution": {
     "iopub.execute_input": "2023-05-29T22:59:57.144040Z",
     "iopub.status.busy": "2023-05-29T22:59:57.144040Z",
     "iopub.status.idle": "2023-05-29T23:00:14.270758Z",
     "shell.execute_reply": "2023-05-29T23:00:14.269757Z",
     "shell.execute_reply.started": "2023-05-29T22:59:57.144040Z"
    },
    "tags": []
   },
   "outputs": [
    {
     "name": "stdout",
     "output_type": "stream",
     "text": [
      "2023-05-30 02:00:14 test_new.pptx\n"
     ]
    }
   ],
   "source": [
    "save_pptx()"
   ]
  },
  {
   "cell_type": "code",
   "execution_count": 12,
   "id": "b1c44a94-e4dc-4522-9c04-f68bd538bd51",
   "metadata": {
    "execution": {
     "iopub.execute_input": "2023-06-08T10:25:14.764077Z",
     "iopub.status.busy": "2023-06-08T10:25:14.764077Z",
     "iopub.status.idle": "2023-06-08T10:25:14.792077Z",
     "shell.execute_reply": "2023-06-08T10:25:14.791073Z",
     "shell.execute_reply.started": "2023-06-08T10:25:14.764077Z"
    },
    "tags": []
   },
   "outputs": [
    {
     "ename": "TypeError",
     "evalue": "plot_matrix_cities() got an unexpected keyword argument 'size_coef'",
     "output_type": "error",
     "traceback": [
      "\u001b[1;31m---------------------------------------------------------------------------\u001b[0m",
      "\u001b[1;31mTypeError\u001b[0m                                 Traceback (most recent call last)",
      "Input \u001b[1;32mIn [12]\u001b[0m, in \u001b[0;36m<cell line: 1>\u001b[1;34m()\u001b[0m\n\u001b[1;32m----> 1\u001b[0m matrix_cities_pics_12 \u001b[38;5;241m=\u001b[39m \u001b[43mplot_matrix_cities\u001b[49m\u001b[43m(\u001b[49m\u001b[43mcnt_graphics\u001b[49m\u001b[38;5;241;43m=\u001b[39;49m\u001b[38;5;241;43m12\u001b[39;49m\u001b[43m,\u001b[49m\u001b[43m \u001b[49m\u001b[43msize_x\u001b[49m\u001b[38;5;241;43m=\u001b[39;49m\u001b[43msize_x\u001b[49m\u001b[38;5;241;43m/\u001b[39;49m\u001b[38;5;241;43m4\u001b[39;49m\u001b[43m,\u001b[49m\u001b[43m \u001b[49m\u001b[43msize_y\u001b[49m\u001b[38;5;241;43m=\u001b[39;49m\u001b[43msize_y\u001b[49m\u001b[38;5;241;43m/\u001b[39;49m\u001b[38;5;241;43m3\u001b[39;49m\u001b[43m,\u001b[49m\u001b[43m \u001b[49m\u001b[43mfont_size\u001b[49m\u001b[38;5;241;43m=\u001b[39;49m\u001b[43mfont_size\u001b[49m\u001b[38;5;241;43m/\u001b[39;49m\u001b[38;5;241;43m3\u001b[39;49m\u001b[43m,\u001b[49m\u001b[43m \u001b[49m\u001b[43msize_coef\u001b[49m\u001b[38;5;241;43m=\u001b[39;49m\u001b[38;5;241;43m3\u001b[39;49m\u001b[43m)\u001b[49m\n",
      "\u001b[1;31mTypeError\u001b[0m: plot_matrix_cities() got an unexpected keyword argument 'size_coef'"
     ]
    }
   ],
   "source": [
    "matrix_cities_pics_12 = plot_matrix_cities(cnt_graphics=12, size_x=size_x/4, size_y=size_y/3, font_size=font_size/3, size_coef=3)"
   ]
  },
  {
   "cell_type": "code",
   "execution_count": null,
   "id": "2d03201b-1195-4255-853e-8b68e18bca1a",
   "metadata": {},
   "outputs": [],
   "source": []
  },
  {
   "cell_type": "code",
   "execution_count": 289,
   "id": "2a4cf768-c075-43cf-ace5-2c755c686590",
   "metadata": {
    "execution": {
     "iopub.execute_input": "2023-05-29T23:07:47.580447Z",
     "iopub.status.busy": "2023-05-29T23:07:47.580447Z",
     "iopub.status.idle": "2023-05-29T23:07:47.813468Z",
     "shell.execute_reply": "2023-05-29T23:07:47.812462Z",
     "shell.execute_reply.started": "2023-05-29T23:07:47.580447Z"
    },
    "tags": []
   },
   "outputs": [
    {
     "data": {
      "text/plain": [
       "<pptx.shapes.picture.Picture at 0x2b68bd5aa90>"
      ]
     },
     "execution_count": 289,
     "metadata": {},
     "output_type": "execute_result"
    }
   ],
   "source": [
    "prs = pptx.Presentation('pics/test_new.pptx')\n",
    "slides = prs.slides\n",
    "x = 7.7\n",
    "y = 5.3\n",
    "slides[17].shapes.add_picture(matrix_pics_12[0], Cm(0.7),     Cm(2.4), Cm(x), Cm(y))\n",
    "slides[17].shapes.add_picture(matrix_pics_12[1], Cm(0.7+x),   Cm(2.4), Cm(x), Cm(y))\n",
    "slides[17].shapes.add_picture(matrix_pics_12[2], Cm(0.7+x*2), Cm(2.4), Cm(x), Cm(y))\n",
    "slides[17].shapes.add_picture(matrix_pics_12[3], Cm(0.7+x*3), Cm(2.4), Cm(x), Cm(y))\n",
    "\n",
    "slides[17].shapes.add_picture(matrix_pics_12[4], Cm(0.7),     Cm(2.4+y), Cm(x), Cm(y))\n",
    "slides[17].shapes.add_picture(matrix_pics_12[5], Cm(0.7+x),   Cm(2.4+y), Cm(x), Cm(y))\n",
    "slides[17].shapes.add_picture(matrix_pics_12[6], Cm(0.7+x*2), Cm(2.4+y), Cm(x), Cm(y))\n",
    "slides[17].shapes.add_picture(matrix_pics_12[7], Cm(0.7+x*3), Cm(2.4+y), Cm(x), Cm(y))\n",
    "\n",
    "slides[17].shapes.add_picture(matrix_pics_12[8],  Cm(0.7),     Cm(2.4+y*2), Cm(x), Cm(y))\n",
    "slides[17].shapes.add_picture(matrix_pics_12[9],  Cm(0.7+x),   Cm(2.4+y*2), Cm(x), Cm(y))\n",
    "slides[17].shapes.add_picture(matrix_pics_12[10], Cm(0.7+x*2), Cm(2.4+y*2), Cm(x), Cm(y))\n",
    "slides[17].shapes.add_picture(matrix_pics_12[11], Cm(0.7+x*3), Cm(2.4+y*2), Cm(x), Cm(y))"
   ]
  },
  {
   "cell_type": "code",
   "execution_count": 290,
   "id": "da4baa91-e7e7-4f5e-b8d0-15c6f539c71e",
   "metadata": {
    "execution": {
     "iopub.execute_input": "2023-05-29T23:07:48.613896Z",
     "iopub.status.busy": "2023-05-29T23:07:48.612895Z",
     "iopub.status.idle": "2023-05-29T23:07:50.092796Z",
     "shell.execute_reply": "2023-05-29T23:07:50.091798Z",
     "shell.execute_reply.started": "2023-05-29T23:07:48.613896Z"
    },
    "tags": []
   },
   "outputs": [
    {
     "name": "stdout",
     "output_type": "stream",
     "text": [
      "2023-05-30 02:07:50 test_new.pptx\n"
     ]
    }
   ],
   "source": [
    "save_pptx()"
   ]
  },
  {
   "cell_type": "code",
   "execution_count": null,
   "id": "087b716d-e7c8-4c2a-904d-0cfda8f11622",
   "metadata": {},
   "outputs": [],
   "source": []
  },
  {
   "cell_type": "markdown",
   "id": "b5403c3d-8e9d-4323-855a-a3640ca03a81",
   "metadata": {
    "tags": []
   },
   "source": [
    "### 1.11.\tАнализ Матриц BCG по городам и бизнесам"
   ]
  },
  {
   "cell_type": "code",
   "execution_count": 40,
   "id": "e8d2f687-ca58-45d2-9fb7-9c3459fabd1f",
   "metadata": {
    "execution": {
     "iopub.execute_input": "2023-06-08T11:00:47.012612Z",
     "iopub.status.busy": "2023-06-08T11:00:47.011611Z",
     "iopub.status.idle": "2023-06-08T11:00:47.043548Z",
     "shell.execute_reply": "2023-06-08T11:00:47.041226Z",
     "shell.execute_reply.started": "2023-06-08T11:00:47.012612Z"
    },
    "tags": []
   },
   "outputs": [],
   "source": [
    "def plot_matrix_rubric_cities(cnt_graphics=100, show=False, size_x=size_x, size_y=size_y, font_size=font_size, size_coef=1):\n",
    "    folder='ten_city'\n",
    "    shar_nums = list(range(1,16))*500\n",
    "    time = str(datetime.datetime.now())[2:16].replace('-','').replace(' ','_').replace(':','')\n",
    "    df_src = pd.read_parquet(f'files/ten_city/requests_for_shars')\n",
    "    df_new = df_src[['rubricName','city']].drop_duplicates().set_index(['rubricName','city'])\n",
    "    df_new['Запросы 2020'] = df_src[df_src['year_r'] == 2020].groupby(['rubricName', 'city']).sum('cnt_requests')[['cnt_requests']]\n",
    "    df_new['Запросы 2021'] = df_src[df_src['year_r'] == 2021].groupby(['rubricName', 'city']).sum('cnt_requests')[['cnt_requests']]\n",
    "    df_new['Запросы 2022'] = df_src[df_src['year_r'] == 2022].groupby(['rubricName', 'city']).sum('cnt_requests')[['cnt_requests']]\n",
    "    df_new['Запросы 2023'] = df_src[df_src['year_r'] == 2023].groupby(['rubricName', 'city']).sum('cnt_requests')[['cnt_requests']]\n",
    "    df_new = df_new.fillna(0).astype(int)\n",
    "    df_new['Запросы, итого'] =  df_new['Запросы 2020'] + df_new['Запросы 2021'] + df_new['Запросы 2022'] + df_new['Запросы 2023']\n",
    "    df_new = df_new.reset_index()\n",
    "    df_new['city_rubric'] = df_new['city'] + '.' + df_new['rubricName']\n",
    "    df_new = df_new.set_index('city_rubric').sort_values('Запросы, итого', ascending=False)\n",
    "    cnt_shars = 12\n",
    "    step = 1\n",
    "    rubrics = dd.read_parquet(f\"files/ten_city/df_tx_grouped_filtered_ten_city\")['rubricName'].unique().compute()\n",
    "    rubrics = [i for i in rubrics.to_dict().values()]\n",
    "    df_list = []\n",
    "    start_range = 1\n",
    "    stop_range = cnt_shars*step+1\n",
    "    pics=[]\n",
    "    for graphic_num in tqdm(range(cnt_graphics)):\n",
    "        shar_num = shar_nums.pop()\n",
    "        \n",
    "        df = df_new.iloc[range(start_range, stop_range, step)]\n",
    "        start_range = stop_range\n",
    "        stop_range = (graphic_num+2)*cnt_shars*step+1\n",
    "        \n",
    "        df['Запросы, итого'] = (df['Запросы, итого'] - min(df['Запросы, итого'])) / (max(df['Запросы, итого']) - min(df['Запросы, итого']))*300\n",
    "        requests_total = df_new['Запросы 2023'].sum()\n",
    "        df['Рост/Падение, %'] = df['Запросы 2023'] / df['Запросы 2022']\n",
    "        df['Доля рынка, %'] = df['Запросы 2023'] / requests_total\n",
    "        x = (df['Доля рынка, %'])\n",
    "        y = (df['Рост/Падение, %'])\n",
    "        sizes = (df['Запросы, итого']/1000)\n",
    "        x_avg = (x.min()+x.max())/2\n",
    "        y_avg = (y.min()+y.max())/2\n",
    "        xi, yi = df['Доля рынка, %'], df['Рост/Падение, %']\n",
    "        df.loc[(xi > x_avg) & (yi > y_avg), 'group'] = 'Звёзды:'\n",
    "        df.loc[(xi > x_avg)  & (yi <= y_avg), 'group'] = 'Коровы:'\n",
    "        df.loc[(xi <= x_avg)  & (yi > y_avg), 'group'] = 'Дети:'\n",
    "        df.loc[(xi <= x_avg)  & (yi <= y_avg), 'group'] = 'Собаки:'\n",
    "        df = df.sort_values(['Доля рынка, %', 'Рост/Падение, %'], ascending=[False, False])\n",
    "\n",
    "        plt.rcParams['figure.figsize'] = size_x, size_y\n",
    "        plt.rcParams['figure.dpi'] = 2**8\n",
    "        plt.rcParams['font.size'] = font_size\n",
    "        fpath = Path(mpl.get_data_path(), r\"C:\\Users\\Mamed\\YandexDisk\\_Documents\\Проекты\\2ГИС 2023\\Лого\\arialnarrow.ttf\")\n",
    "        fig, ax = plt.subplots()\n",
    "        ax.scatter(x, y, sizes, c='#C0504D', alpha=0.7)\n",
    "\n",
    "        n = 0.02\n",
    "        m = 0.02\n",
    "        ax.set_ylim(ax.get_ylim()[0] * (1 - n), ax.get_ylim()[1] * (1 + n))\n",
    "        ax.set_xlim(ax.get_xlim()[0] * (1 - m), ax.get_xlim()[1] * (1 + m))\n",
    "        ax.spines['top'].set_visible(False)\n",
    "        ax.spines['bottom'].set_visible(False)\n",
    "        ax.spines['left'].set_visible(False)\n",
    "        ax.spines['right'].set_visible(False)\n",
    "        ax.set_xticklabels('')\n",
    "        ax.set_yticklabels('')\n",
    "        plt.tick_params(bottom = False, left=False)\n",
    "        #plt.title(rubric, font=fpath, fontsize=40, fontweight=1000)\n",
    "\n",
    "        for xi, yi, city, size in zip(x, y, x.index, sizes):\n",
    "            rs = city.split(' ')\n",
    "            if len(rs) > 1:\n",
    "                rsl = len(rs) // 2\n",
    "                city = ' '.join(rs[:rsl] + ['\\n'] + rs[rsl:])\n",
    "\n",
    "            shar_path = [r\"C:\\Users\\Mamed\\YandexDisk\\_Documents\\Проекты\\2ГИС 2023\\Лого\\Шар_{:02}.png\".format(shar_num)]\n",
    "            shar_img = OffsetImage(plt.imread(shar_path[0], format=\"png\"), zoom=size/size_coef)\n",
    "            ab = AnnotationBbox(shar_img, (xi, yi), frameon=False)\n",
    "            ax.add_artist(ab)\n",
    "            plt.annotate(city, (xi, yi), ha='center', va='center', font=fpath, color='#404040')\n",
    "\n",
    "        ax.hlines((y.min()+y.max())/2, x.min(), x.max(), colors='gray', linewidth=1)\n",
    "        ax.vlines((x.min()+x.max())/2, y.min(), y.max(), colors='gray', linewidth=1)\n",
    "        \n",
    "        fig.savefig(f'pictures/{folder}_shar_{shar_num}.png', bbox_inches='tight', transparent=False, facecolor='white')\n",
    "        pics.append(f'pictures/{folder}_shar_{shar_num}.png')\n",
    "        #plt.show()\n",
    "        plt.close()\n",
    "    return pics"
   ]
  },
  {
   "cell_type": "code",
   "execution_count": null,
   "id": "96eeae32-bae8-4f7c-a7b7-0183f49e78dc",
   "metadata": {
    "execution": {
     "iopub.execute_input": "2023-05-29T23:21:04.649916Z",
     "iopub.status.busy": "2023-05-29T23:21:04.649916Z",
     "iopub.status.idle": "2023-05-29T23:21:17.504245Z",
     "shell.execute_reply": "2023-05-29T23:21:17.503331Z",
     "shell.execute_reply.started": "2023-05-29T23:21:04.649916Z"
    },
    "tags": []
   },
   "outputs": [],
   "source": [
    "cnt_matrix_rubric_cities = plot_matrix_rubric_cities(cnt_graphics=1, size_x=size_x, size_y=size_y, font_size=font_size)"
   ]
  },
  {
   "cell_type": "code",
   "execution_count": 308,
   "id": "e63b7604-79de-4eb9-9f82-7b5c0ca4ee10",
   "metadata": {
    "execution": {
     "iopub.execute_input": "2023-05-29T23:29:41.863414Z",
     "iopub.status.busy": "2023-05-29T23:29:41.863414Z",
     "iopub.status.idle": "2023-05-29T23:29:42.021944Z",
     "shell.execute_reply": "2023-05-29T23:29:42.020960Z",
     "shell.execute_reply.started": "2023-05-29T23:29:41.863414Z"
    },
    "tags": []
   },
   "outputs": [
    {
     "data": {
      "text/plain": [
       "<pptx.shapes.picture.Picture at 0x2b6e655ff10>"
      ]
     },
     "execution_count": 308,
     "metadata": {},
     "output_type": "execute_result"
    }
   ],
   "source": [
    "prs = pptx.Presentation('pics/test_new.pptx')\n",
    "slides = prs.slides\n",
    "x, y = 30.7, 16\n",
    "slides[18].shapes.add_picture('pictures/ten_city_shar_15.png', Cm(0.7), Cm(2.4), Cm(x), Cm(y))"
   ]
  },
  {
   "cell_type": "code",
   "execution_count": 309,
   "id": "e5ec6121-631e-449e-8e41-1b53992fec92",
   "metadata": {
    "execution": {
     "iopub.execute_input": "2023-05-29T23:29:44.986215Z",
     "iopub.status.busy": "2023-05-29T23:29:44.986215Z",
     "iopub.status.idle": "2023-05-29T23:29:46.409226Z",
     "shell.execute_reply": "2023-05-29T23:29:46.408228Z",
     "shell.execute_reply.started": "2023-05-29T23:29:44.986215Z"
    },
    "tags": []
   },
   "outputs": [
    {
     "name": "stdout",
     "output_type": "stream",
     "text": [
      "2023-05-30 02:29:46 test_new.pptx\n"
     ]
    }
   ],
   "source": [
    "save_pptx()"
   ]
  },
  {
   "cell_type": "code",
   "execution_count": 41,
   "id": "8ca8dcdc-cd61-4a96-8f18-a0995817452e",
   "metadata": {
    "execution": {
     "iopub.execute_input": "2023-06-08T11:00:53.919044Z",
     "iopub.status.busy": "2023-06-08T11:00:53.919044Z",
     "iopub.status.idle": "2023-06-08T11:01:52.935302Z",
     "shell.execute_reply": "2023-06-08T11:01:52.933937Z",
     "shell.execute_reply.started": "2023-06-08T11:00:53.919044Z"
    },
    "tags": []
   },
   "outputs": [
    {
     "name": "stdout",
     "output_type": "stream",
     "text": [
      "[########################################] | 100% Completed | 5.56 sms\n"
     ]
    },
    {
     "data": {
      "application/vnd.jupyter.widget-view+json": {
       "model_id": "376aa1184eef484a8a82129f52ef99e2",
       "version_major": 2,
       "version_minor": 0
      },
      "text/plain": [
       "  0%|          | 0/30 [00:00<?, ?it/s]"
      ]
     },
     "metadata": {},
     "output_type": "display_data"
    }
   ],
   "source": [
    "matrix_cities_pics_12 = plot_matrix_rubric_cities(cnt_graphics=30, size_x=size_x/4, size_y=size_y/3, font_size=font_size/3, size_coef=3)"
   ]
  },
  {
   "cell_type": "code",
   "execution_count": 42,
   "id": "8613ceac-fe4c-4da9-837d-a35d66977e8f",
   "metadata": {
    "execution": {
     "iopub.execute_input": "2023-06-08T11:01:52.941432Z",
     "iopub.status.busy": "2023-06-08T11:01:52.940347Z",
     "iopub.status.idle": "2023-06-08T11:01:54.644431Z",
     "shell.execute_reply": "2023-06-08T11:01:54.643060Z",
     "shell.execute_reply.started": "2023-06-08T11:01:52.941432Z"
    },
    "tags": []
   },
   "outputs": [
    {
     "data": {
      "text/plain": [
       "<pptx.shapes.picture.Picture at 0x24c12bbee50>"
      ]
     },
     "execution_count": 42,
     "metadata": {},
     "output_type": "execute_result"
    }
   ],
   "source": [
    "prs = pptx.Presentation('pics/test_new.pptx')\n",
    "slides = prs.slides\n",
    "x = 7.7\n",
    "y = 5.3\n",
    "slides[19].shapes.add_picture(matrix_cities_pics_12[0], Cm(0.7),     Cm(2.4), Cm(x), Cm(y))\n",
    "slides[19].shapes.add_picture(matrix_cities_pics_12[1], Cm(0.7+x),   Cm(2.4), Cm(x), Cm(y))\n",
    "slides[19].shapes.add_picture(matrix_cities_pics_12[2], Cm(0.7+x*2), Cm(2.4), Cm(x), Cm(y))\n",
    "slides[19].shapes.add_picture(matrix_cities_pics_12[3], Cm(0.7+x*3), Cm(2.4), Cm(x), Cm(y))\n",
    "\n",
    "slides[19].shapes.add_picture(matrix_cities_pics_12[4], Cm(0.7),     Cm(2.4+y), Cm(x), Cm(y))\n",
    "slides[19].shapes.add_picture(matrix_cities_pics_12[5], Cm(0.7+x),   Cm(2.4+y), Cm(x), Cm(y))\n",
    "slides[19].shapes.add_picture(matrix_cities_pics_12[6], Cm(0.7+x*2), Cm(2.4+y), Cm(x), Cm(y))\n",
    "slides[19].shapes.add_picture(matrix_cities_pics_12[7], Cm(0.7+x*3), Cm(2.4+y), Cm(x), Cm(y))\n",
    "\n",
    "slides[19].shapes.add_picture(matrix_cities_pics_12[8],  Cm(0.7),     Cm(2.4+y*2), Cm(x), Cm(y))\n",
    "slides[19].shapes.add_picture(matrix_cities_pics_12[9],  Cm(0.7+x),   Cm(2.4+y*2), Cm(x), Cm(y))\n",
    "slides[19].shapes.add_picture(matrix_cities_pics_12[10], Cm(0.7+x*2), Cm(2.4+y*2), Cm(x), Cm(y))\n",
    "slides[19].shapes.add_picture(matrix_cities_pics_12[11], Cm(0.7+x*3), Cm(2.4+y*2), Cm(x), Cm(y))"
   ]
  },
  {
   "cell_type": "code",
   "execution_count": 43,
   "id": "5cb5e7da-ba5a-489a-bd57-fdaf4dcf18e5",
   "metadata": {
    "execution": {
     "iopub.execute_input": "2023-06-08T11:01:54.648447Z",
     "iopub.status.busy": "2023-06-08T11:01:54.647447Z",
     "iopub.status.idle": "2023-06-08T11:02:16.712685Z",
     "shell.execute_reply": "2023-06-08T11:02:16.711391Z",
     "shell.execute_reply.started": "2023-06-08T11:01:54.648447Z"
    },
    "tags": []
   },
   "outputs": [
    {
     "name": "stdout",
     "output_type": "stream",
     "text": [
      "2023-06-08 14:02:16 test_new.pptx\n"
     ]
    }
   ],
   "source": [
    "save_pptx()"
   ]
  },
  {
   "cell_type": "code",
   "execution_count": null,
   "id": "5a468066-ab57-436d-a090-456204e39fe8",
   "metadata": {},
   "outputs": [],
   "source": []
  },
  {
   "cell_type": "code",
   "execution_count": 29,
   "id": "6c350ef1-0060-4638-9b47-5f67e33c22e3",
   "metadata": {
    "execution": {
     "iopub.execute_input": "2023-06-08T10:49:11.741075Z",
     "iopub.status.busy": "2023-06-08T10:49:11.741075Z",
     "iopub.status.idle": "2023-06-08T10:49:11.748077Z",
     "shell.execute_reply": "2023-06-08T10:49:11.747077Z",
     "shell.execute_reply.started": "2023-06-08T10:49:11.741075Z"
    },
    "tags": []
   },
   "outputs": [],
   "source": [
    "size_x = 30.7 / 2.54 * 4\n",
    "size_y = 16   / 2.54 * 4\n",
    "fontsize = 38"
   ]
  },
  {
   "cell_type": "markdown",
   "id": "275fb5cf-989b-4781-9c70-f918894661c0",
   "metadata": {
    "tags": []
   },
   "source": [
    "# Москва матрицы"
   ]
  },
  {
   "cell_type": "markdown",
   "id": "9340ccb0-92c2-4ae3-a1db-3457f8ed8c05",
   "metadata": {
    "tags": []
   },
   "source": [
    "## Бизнес"
   ]
  },
  {
   "cell_type": "code",
   "execution_count": 4,
   "id": "9024f78c-a456-48fc-93ef-fc6e8f7eb623",
   "metadata": {
    "execution": {
     "iopub.execute_input": "2023-05-31T22:00:37.556851Z",
     "iopub.status.busy": "2023-05-31T22:00:37.555846Z",
     "iopub.status.idle": "2023-05-31T22:00:39.357191Z",
     "shell.execute_reply": "2023-05-31T22:00:39.357191Z",
     "shell.execute_reply.started": "2023-05-31T22:00:37.556851Z"
    },
    "tags": []
   },
   "outputs": [],
   "source": [
    "city = 'Москва'\n",
    "df1 = pd.read_parquet(f'files/ten_city/df_dates_users_city_agg2')\n",
    "df1 = df1[df1['city'] == city]\n",
    "df1['city_rubric_param'] = df1['city'] + '. ' + df1['rubric'] + '. ' + 'Пользователи'\n",
    "df1 = df1[['date_r', 'cnt_users', 'city_rubric_param']].rename({'cnt_users':'cnt'}, axis=1)\n",
    "\n",
    "df2 = pd.read_parquet(f'files/ten_city/df_dates_users_city_agg2')\n",
    "df2 = df2[df2['city'] == city]\n",
    "df2['city_rubric_param'] = df2['city'] + '. ' + df2['rubric'] + '. ' + 'Запросы'\n",
    "df2 = df2[['date_r', 'cnt_requests', 'city_rubric_param']].rename({'cnt_requests':'cnt'}, axis=1)\n",
    "df_dates_users = pd.concat([df1, df2])\n",
    "df_dates_users['cnt_all'] = df_dates_users.groupby('city_rubric_param')['cnt'].transform(np.sum)\n",
    "df_dates_users['city_rubric_param_cnt'] = df_dates_users['cnt_all'].astype(str) + '_' + df_dates_users['city_rubric_param']\n",
    "\n",
    "dfx = pd.pivot_table(df_dates_users, values='cnt', aggfunc='sum', index=['date_r'], columns=['city_rubric_param_cnt'])\n",
    "t = dfx.corr().fillna(0).astype(np.float16)"
   ]
  },
  {
   "cell_type": "code",
   "execution_count": 5,
   "id": "53ca35ed-290b-4179-99be-9a44d74d10d4",
   "metadata": {
    "execution": {
     "iopub.execute_input": "2023-05-31T22:00:40.724034Z",
     "iopub.status.busy": "2023-05-31T22:00:40.724034Z",
     "iopub.status.idle": "2023-05-31T22:00:45.166570Z",
     "shell.execute_reply": "2023-05-31T22:00:45.166570Z",
     "shell.execute_reply.started": "2023-05-31T22:00:40.724034Z"
    },
    "tags": []
   },
   "outputs": [],
   "source": [
    "df_all = pd.read_parquet(f'files/ten_city/df_dates_users_city_agg2')\n",
    "df_all = df_all[df_all['city'] == city]\n",
    "df_all['city_rubric'] = df_all['city'] + '. ' + df_all['rubric']\n",
    "df_all = df_all[~df_all.rubric.apply(lambda x: (x is None or x.isnumeric()))]\n",
    "df_all['cnt_all'] = df_all.groupby('city_rubric')['cnt_requests'].transform(np.sum)\n",
    "df_all = df_all.drop(['date_r', 'cnt_requests', 'cnt_users'], axis=1).drop_duplicates()\n",
    "df_all = df_all.sort_values(['cnt_all'], ascending=False).reset_index().reset_index().set_index('level_0').drop('index', axis=1)\n",
    "df_all['cnt_city_rubric'] = df_all['cnt_all'].astype(str) + '_' + df_all['city_rubric'] + '. ' + 'Запросы'\n",
    "df_requests = df_all.copy()\n",
    "\n",
    "df_all = pd.read_parquet(f'files/ten_city/df_dates_users_city_agg2')\n",
    "df_all = df_all[df_all['city'] == city]\n",
    "df_all['city_rubric'] = df_all['city'] + '. ' + df_all['rubric']\n",
    "df_all = df_all[~df_all.rubric.apply(lambda x: (x is None or x.isnumeric()))]\n",
    "df_all['cnt_all'] = df_all.groupby('city_rubric')['cnt_users'].transform(np.sum)\n",
    "df_all = df_all.drop(['date_r', 'cnt_requests', 'cnt_users'], axis=1).drop_duplicates()\n",
    "df_all = df_all.sort_values(['cnt_all'], ascending=False).reset_index().reset_index().set_index('level_0').drop('index', axis=1)\n",
    "df_all['cnt_city_rubric'] = df_all['cnt_all'].astype(str) + '_' + df_all['city_rubric'] + '. ' + 'Пользователи'\n",
    "df_users = df_all.copy()\n",
    "\n",
    "df_100 = pd.concat([df_requests, df_users]).iloc[:30]\n",
    "\n",
    "df1 = pd.read_parquet(f'files/ten_city/df_dates_users_city_agg2')\n",
    "df1 = df1[df1['city'] == city]\n",
    "df1['city_rubric_param'] = df1['city'] + '. ' + df1['rubric'] + '. ' + 'Пользователи'\n",
    "df1 = df1[['date_r', 'cnt_users', 'city_rubric_param']].rename({'cnt_users':'cnt'}, axis=1)\n",
    "\n",
    "df2 = pd.read_parquet(f'files/ten_city/df_dates_users_city_agg2')\n",
    "df2 = df2[df2['city'] == city]\n",
    "df2['city_rubric_param'] = df2['city'] + '. ' + df2['rubric'] + '. ' + 'Запросы'\n",
    "df2 = df2[['date_r', 'cnt_requests', 'city_rubric_param']].rename({'cnt_requests':'cnt'}, axis=1)\n",
    "df_dates_users = pd.concat([df1, df2])\n",
    "\n",
    "df_dates_users['cnt_all'] = df_dates_users.groupby('city_rubric_param')['cnt'].transform(np.sum)\n",
    "df_dates_users['city_rubric_param_cnt'] = df_dates_users['cnt_all'].astype(str) + '_' + df_dates_users['city_rubric_param']\n",
    "\n",
    "dfx = pd.pivot_table(df_dates_users, values='cnt', aggfunc='sum', index=['date_r'], columns=['city_rubric_param_cnt'])\n",
    "t_h = dfx.corr().fillna(0).astype(np.float16)\n",
    "\n",
    "t_h = t_h.rename_axis([None]).rename_axis([None], axis=1)\n",
    "t1 = t_h.stack()\n",
    "t1 = t1.reset_index()\n",
    "t1.columns = ['r1', 'r2', 'corr']\n",
    "t1 = t1[t1.r1 != t1.r2]\n",
    "\n",
    "t1_100 = df_100.merge(t1, left_on='cnt_city_rubric', right_on='r1')\n",
    "\n",
    "t1_100['r1_cnt'] = t1_100.r1.apply(lambda x: x.split('_')[0])\n",
    "t1_100['r2_cnt'] = t1_100.r2.apply(lambda x: x.split('_')[0])\n",
    "\n",
    "t1_100.r1 = t1_100.r1.apply(lambda x: x.split('_')[1])\n",
    "t1_100.r2 = t1_100.r2.apply(lambda x: x.split('_')[1])\n",
    "t1_100['r1_city'] = t1_100.r1.apply(lambda x: x.split('. ')[0])\n",
    "t1_100['r2_city'] = t1_100.r2.apply(lambda x: x.split('. ')[0])\n",
    "t1_100['r1_rubric'] = t1_100.r1.apply(lambda x: x.split('. ')[1])\n",
    "t1_100['r2_rubric'] = t1_100.r2.apply(lambda x: x.split('. ')[1])\n",
    "t1_100['r1_param'] = t1_100.r1.apply(lambda x: x.split('. ')[2])\n",
    "t1_100['r2_param'] = t1_100.r2.apply(lambda x: x.split('. ')[2])\n",
    "\n",
    "t1_100.r1_cnt = t1_100.r1_cnt.astype(int)\n",
    "t1_100.r2_cnt = t1_100.r2_cnt.astype(int)\n",
    "\n",
    "t1_100 = t1_100[t1_100.r2_cnt > 1000]\n",
    "\n",
    "t1_100 = t1_100[['r1', 'r2', 'r1_city', 'r1_rubric', 'r1_param', 'r2_city', 'r2_rubric', 'r2_param', 'corr', 'r1_cnt', 'r2_cnt']]\n",
    "\n",
    "df_100.shape, t1_100.shape\n",
    "\n",
    "t2 = t1_100[(t1_100.r1_cnt > 10000) & (t1_100.r2_cnt > 10000)]\n",
    "t2['cnt_diff'] = abs(t2.r1_cnt - t2.r2_cnt)\n",
    "t1_m = t2[t2['corr'] < 0].sort_values(['cnt_diff', 'r1_cnt'], ascending=[True, False])\n",
    "fpath = Path(mpl.get_data_path(), r\"C:\\Users\\Mamed\\YandexDisk\\_Documents\\Проекты\\2ГИС 2023\\Лого\\arialnarrow.ttf\")"
   ]
  },
  {
   "cell_type": "code",
   "execution_count": null,
   "id": "e43527c9-48b6-4ad0-a4ec-ecd2dd535380",
   "metadata": {
    "execution": {
     "iopub.execute_input": "2023-06-01T04:26:22.787369Z",
     "iopub.status.busy": "2023-06-01T04:26:22.786373Z",
     "iopub.status.idle": "2023-06-01T04:26:36.344940Z",
     "shell.execute_reply": "2023-06-01T04:26:36.344940Z",
     "shell.execute_reply.started": "2023-06-01T04:26:22.786373Z"
    },
    "tags": []
   },
   "outputs": [],
   "source": [
    "negative_corr = t1_m.iloc[:1000]\n",
    "negative_corr_rubrics = pd.concat([negative_corr.r1, negative_corr.r2]).drop_duplicates().values\n",
    "negative_corr_rubrics = [i.split('. ')[1] for i in negative_corr_rubrics]\n",
    "#negative_corr_rubrics = [i.replace('Москва. ', '') for i in negative_corr_rubrics]\n",
    "\n",
    "df_dates_negative = df_dates_users[df_dates_users['city_rubric_param'].apply(lambda x: ((x.split('. ')[1] in negative_corr_rubrics) and (len(x) < 35)))]\n",
    "df_dates_negative['rubric'] = df_dates_negative['city_rubric_param'].apply(lambda x: x.split('.')[1])\n",
    "dfx = pd.pivot_table(df_dates_negative, values='cnt', aggfunc='sum', index=['date_r'], columns=['rubric']).iloc[:,:80]\n",
    "t_h = dfx.corr().fillna(0)\n",
    "\n",
    "fig, ax = plt.subplots()\n",
    "ax = sns.heatmap(t_h, annot=False, cbar=False)\n",
    "plt.xticks(font=fpath, fontsize=fontsize*0.5)\n",
    "plt.yticks(font=fpath, fontsize=fontsize*0.5)\n",
    "plt.rcParams['figure.dpi'] = 2**8\n",
    "plt.rcParams['figure.figsize']=size_x,size_y\n",
    "ax.set_xlabel('')\n",
    "ax.set_ylabel('')\n",
    "\n",
    "fig.savefig(f'pics/corr_matrix.png', bbox_inches='tight', transparent=False)\n",
    "plt.show()"
   ]
  },
  {
   "cell_type": "code",
   "execution_count": null,
   "id": "cd2e4571-0f34-4066-8dc6-4b976caa8198",
   "metadata": {
    "execution": {
     "iopub.execute_input": "2023-06-01T04:19:04.480877Z",
     "iopub.status.busy": "2023-06-01T04:19:04.480877Z",
     "iopub.status.idle": "2023-06-01T04:19:32.927754Z",
     "shell.execute_reply": "2023-06-01T04:19:32.927754Z",
     "shell.execute_reply.started": "2023-06-01T04:19:04.480877Z"
    },
    "tags": []
   },
   "outputs": [],
   "source": [
    "df_dates_all = df_dates_users\n",
    "df_dates_all['city_rubric'] = df_dates_all['city_rubric_param']\n",
    "df_dates_all['rubric'] = df_dates_all['city_rubric_param'].apply(lambda x: x.split('. ')[1])\n",
    "\n",
    "positive_corr = t2[t2['corr'] >= 0.99]\n",
    "positive_corr_rubrics = pd.concat([positive_corr.r1, positive_corr.r2]).drop_duplicates().values\n",
    "positive_corr_rubrics = [i.split('. ')[1] for i in positive_corr_rubrics]\n",
    "\n",
    "df_dates_positive = df_dates_all[df_dates_all['rubric'].apply(lambda x: ((x in positive_corr_rubrics[:500]) and (len(x) < 25)))]\n",
    "\n",
    "dfx = pd.pivot_table(df_dates_positive, values='cnt', aggfunc='sum', index=['date_r'], columns=['rubric']).iloc[:,:30]\n",
    "t_h = dfx.corr().fillna(0)\n",
    "\n",
    "fig, ax = plt.subplots()\n",
    "ax = sns.heatmap(t_h, annot=True, cbar=False, annot_kws={'size':round(fontsize * 0.6)})\n",
    "plt.xticks(font=fpath, fontsize=fontsize)\n",
    "plt.yticks(font=fpath, fontsize=fontsize)\n",
    "plt.rcParams['figure.dpi'] = 2**8\n",
    "plt.rcParams['figure.figsize']=size_x,size_y\n",
    "ax.set_xlabel('')\n",
    "ax.set_ylabel('')\n",
    "\n",
    "fig.savefig(f'pics/corr_matrix_1.png', bbox_inches='tight', transparent=False)\n",
    "plt.show()"
   ]
  },
  {
   "cell_type": "code",
   "execution_count": null,
   "id": "3c211ba2-df29-45de-b653-0a2daef5486c",
   "metadata": {
    "execution": {
     "iopub.execute_input": "2023-06-01T04:19:58.802367Z",
     "iopub.status.busy": "2023-06-01T04:19:58.802367Z",
     "iopub.status.idle": "2023-06-01T04:20:17.916926Z",
     "shell.execute_reply": "2023-06-01T04:20:17.916018Z",
     "shell.execute_reply.started": "2023-06-01T04:19:58.802367Z"
    },
    "tags": []
   },
   "outputs": [],
   "source": [
    "negative_corr = t1_m.iloc[:500]\n",
    "negative_corr_rubrics = pd.concat([negative_corr.r1, negative_corr.r2]).drop_duplicates().values\n",
    "negative_corr_rubrics = [i.split('. ')[1] for i in negative_corr_rubrics]\n",
    "\n",
    "df_dates_negative = df_dates_all[df_dates_all['rubric'].apply(lambda x: (x in negative_corr_rubrics[:500]) and (len(x) < 25))]\n",
    "\n",
    "dfx = pd.pivot_table(df_dates_negative, values='cnt', aggfunc='sum', index=['date_r'], columns=['rubric']).iloc[:,:30]\n",
    "t_h = dfx.corr().fillna(0)\n",
    "\n",
    "fig, ax = plt.subplots()\n",
    "ax = sns.heatmap(t_h, annot=True, cbar=False, annot_kws={'size':round(fontsize * 0.6)})\n",
    "plt.xticks(font=fpath, fontsize=fontsize)\n",
    "plt.yticks(font=fpath, fontsize=fontsize)\n",
    "plt.rcParams['figure.dpi'] = 2**8\n",
    "plt.rcParams['figure.figsize']=size_x,size_y\n",
    "ax.set_xlabel('')\n",
    "ax.set_ylabel('')\n",
    "\n",
    "fig.savefig(f'pics/corr_matrix_2.png', bbox_inches='tight', transparent=False)\n",
    "plt.show()"
   ]
  },
  {
   "cell_type": "code",
   "execution_count": null,
   "id": "88a0520f-6fa6-4472-a0c0-187e8e880815",
   "metadata": {
    "execution": {
     "iopub.execute_input": "2023-06-01T04:20:17.918924Z",
     "iopub.status.busy": "2023-06-01T04:20:17.918924Z",
     "iopub.status.idle": "2023-06-01T04:22:14.928423Z",
     "shell.execute_reply": "2023-06-01T04:22:14.928423Z",
     "shell.execute_reply.started": "2023-06-01T04:20:17.918924Z"
    },
    "tags": []
   },
   "outputs": [],
   "source": [
    "zero_corr = t1[t1['corr'] < abs(0.41)]\n",
    "zero_corr_rubrics = pd.concat([zero_corr.r1, zero_corr.r2]).drop_duplicates().values\n",
    "zero_corr_rubrics = [i.split('. ')[1] for i in zero_corr_rubrics]\n",
    "\n",
    "df_dates_zero = df_dates_all[df_dates_all['rubric'].apply(lambda x: (x in zero_corr_rubrics[:500]) and (len(x) < 25) )]\n",
    "\n",
    "dfx = pd.pivot_table(df_dates_zero, values='cnt', aggfunc='sum', index=['date_r'], columns=['rubric']).iloc[:,:30]\n",
    "t_h = dfx.corr().fillna(0)\n",
    "\n",
    "fig, ax = plt.subplots()\n",
    "ax = sns.heatmap(t_h, annot=True, cbar=False, annot_kws={'size':round(fontsize * 0.6)})\n",
    "plt.xticks(font=fpath, fontsize=fontsize)\n",
    "plt.yticks(font=fpath, fontsize=fontsize)\n",
    "plt.rcParams['figure.dpi'] = 2**8\n",
    "plt.rcParams['figure.figsize']=size_x,size_y\n",
    "ax.set_xlabel('')\n",
    "ax.set_ylabel('')\n",
    "\n",
    "fig.savefig(f'pics/corr_matrix_3.png', bbox_inches='tight', transparent=False)\n",
    "plt.show()"
   ]
  },
  {
   "cell_type": "code",
   "execution_count": 73,
   "id": "f05fae31-d772-42e3-97f1-e3d9c365ad11",
   "metadata": {
    "execution": {
     "iopub.execute_input": "2023-06-01T04:27:12.721632Z",
     "iopub.status.busy": "2023-06-01T04:27:12.721632Z",
     "iopub.status.idle": "2023-06-01T04:27:17.792113Z",
     "shell.execute_reply": "2023-06-01T04:27:17.791113Z",
     "shell.execute_reply.started": "2023-06-01T04:27:12.721632Z"
    },
    "tags": []
   },
   "outputs": [
    {
     "name": "stdout",
     "output_type": "stream",
     "text": [
      "2023-06-01 07:27:17 test_new.pptx\n"
     ]
    }
   ],
   "source": [
    "prs = pptx.Presentation('pics/test_new.pptx')\n",
    "slides = prs.slides\n",
    "x, y = 30.7, 16\n",
    "slides[35].shapes.add_picture('pics/corr_matrix.png', Cm(0.7), Cm(2.4), Cm(x), Cm(y))\n",
    "slides[36].shapes.add_picture('pics/corr_matrix_1.png', Cm(0.7), Cm(2.4), Cm(x), Cm(y))\n",
    "slides[37].shapes.add_picture('pics/corr_matrix_2.png', Cm(0.7), Cm(2.4), Cm(x), Cm(y))\n",
    "slides[38].shapes.add_picture('pics/corr_matrix_3.png', Cm(0.7), Cm(2.4), Cm(x), Cm(y))\n",
    "save_pptx()"
   ]
  },
  {
   "cell_type": "markdown",
   "id": "f7559abb-da72-4a8f-8421-33bb44084571",
   "metadata": {},
   "source": [
    "## Бизнес - город"
   ]
  },
  {
   "cell_type": "code",
   "execution_count": 21,
   "id": "abb7ba5f-47c3-450a-a31b-23940b9c3a37",
   "metadata": {
    "execution": {
     "iopub.execute_input": "2023-06-01T03:49:12.313021Z",
     "iopub.status.busy": "2023-06-01T03:49:12.313021Z",
     "iopub.status.idle": "2023-06-01T03:49:13.724747Z",
     "shell.execute_reply": "2023-06-01T03:49:13.724747Z",
     "shell.execute_reply.started": "2023-06-01T03:49:12.313021Z"
    },
    "tags": []
   },
   "outputs": [],
   "source": [
    "df_all = pd.concat([pd.read_parquet(f'files/ten_city/df_dates_{col_r}').rename({col_r: 'date_r'}, axis=1)[['rubricName', 'date_r', 'cnt', 'city', 'year_r']] for col_r in ['hour_r', 'date_r', 'week_r', 'week_day_r']])\n",
    "rs = \"('\" + \"','\".join(list(df_all.rubricName.dropna().unique())) + \"')\"\n",
    "\n",
    "df_schema = StructType([StructField('user', StringType(), True), StructField('proj', StringType(), True), StructField('rubricName', StringType(), True), StructField('rubricID', IntegerType(), True), StructField('time', StringType(), True), StructField('date', StringType(), True), StructField('org', StringType(), True), StructField('branch', StringType(), True), StructField('prod', StringType(), True), StructField('tx', StringType(), True), StructField('fl', StringType(), True), StructField('devmod', StringType(), True), StructField('lat', StringType(), True), StructField('lon', StringType(), True)])\n",
    "df_list = [i for i in files_list_chain]"
   ]
  },
  {
   "cell_type": "code",
   "execution_count": null,
   "id": "7f48b679-bff8-4ede-8476-74606406a66a",
   "metadata": {
    "execution": {
     "iopub.execute_input": "2023-05-25T03:54:07.328136Z",
     "iopub.status.busy": "2023-05-25T03:54:07.328136Z"
    },
    "tags": []
   },
   "outputs": [
    {
     "data": {
      "application/vnd.jupyter.widget-view+json": {
       "model_id": "912ff55004a9413b96cde913c08472b6",
       "version_major": 2,
       "version_minor": 0
      },
      "text/plain": [
       "  0%|          | 0/4 [00:00<?, ?it/s]"
      ]
     },
     "metadata": {},
     "output_type": "display_data"
    }
   ],
   "source": [
    "for file in tqdm(df_list[:4]):\n",
    "    df = spark.read.option(\"header\",\"true\").csv(file, schema=df_schema)\n",
    "    df.createOrReplaceTempView('df')\n",
    "    city = file.split('\\\\')[2]\n",
    "    df_new = spark.sql(f'''\n",
    "    select \n",
    "        rubricName as rubric\n",
    "        , \"{city}\" city\n",
    "        , user\n",
    "        , SUBSTR(time, 6, 5) date_r\n",
    "        from df\n",
    "    ''').where(f'rubric in {rs}')\n",
    "\n",
    "    df_new.write.partitionBy('rubric').mode('append').parquet(f'files/ten_city/df_dates_users_city2')"
   ]
  },
  {
   "cell_type": "code",
   "execution_count": 2,
   "id": "273c6555-8c37-4d98-8ac3-10697ffacdc4",
   "metadata": {
    "execution": {
     "iopub.execute_input": "2023-05-25T18:10:52.485602Z",
     "iopub.status.busy": "2023-05-25T18:10:52.485602Z",
     "iopub.status.idle": "2023-05-25T20:34:51.377901Z",
     "shell.execute_reply": "2023-05-25T20:34:51.372842Z",
     "shell.execute_reply.started": "2023-05-25T18:10:52.485602Z"
    },
    "tags": []
   },
   "outputs": [
    {
     "data": {
      "application/vnd.jupyter.widget-view+json": {
       "model_id": "8c91dd3886ed4c8785fdc73e196b1e2d",
       "version_major": 2,
       "version_minor": 0
      },
      "text/plain": [
       "  0%|          | 0/731 [00:00<?, ?it/s]"
      ]
     },
     "metadata": {},
     "output_type": "display_data"
    }
   ],
   "source": [
    "df_all = pd.concat([pd.read_parquet(f'files/ten_city/df_dates_{col_r}').rename({col_r: 'date_r'}, axis=1)[['rubricName', 'date_r', 'cnt', 'city', 'year_r']] for col_r in ['hour_r', 'date_r', 'week_r', 'week_day_r']])\n",
    "df_all['city_rubric'] = df_all['city'] + '. ' + df_all['rubricName']\n",
    "df_all = df_all[~df_all.rubricName.apply(lambda x: (x is None or x.isnumeric()))]\n",
    "rubrics = df_all.rubricName.unique()\n",
    "\n",
    "for rubric in tqdm(rubrics[910:]):\n",
    "    try:\n",
    "        df = spark.read.parquet(fr\"C:\\Users\\Mamed\\_Notebooks\\2GIS_2023\\files\\ten_city\\df_dates_users_city2\\rubric={rubric.replace(' ', '%20').replace('/','%2F')}\")\n",
    "        df.createOrReplaceTempView('df')\n",
    "        df_new = spark.sql(f'''\n",
    "        select \n",
    "            \"{rubric}\" rubric\n",
    "            ,city\n",
    "            , date_r\n",
    "            ,count(distinct user) cnt_users\n",
    "            ,count(*) cnt_requests\n",
    "        from df\n",
    "            group by \n",
    "                    \"{rubric}\"\n",
    "                    ,city\n",
    "                    ,date_r\n",
    "\n",
    "        ''')\n",
    "        df_new.write.mode('append').parquet(f'files/ten_city/df_dates_users_city_agg2')\n",
    "    except:\n",
    "        pass"
   ]
  },
  {
   "cell_type": "code",
   "execution_count": 22,
   "id": "442d06ac-8194-4458-b3eb-c832f84ff669",
   "metadata": {
    "execution": {
     "iopub.execute_input": "2023-06-01T03:49:31.497717Z",
     "iopub.status.busy": "2023-06-01T03:49:31.497717Z",
     "iopub.status.idle": "2023-06-01T03:49:37.215024Z",
     "shell.execute_reply": "2023-06-01T03:49:37.215024Z",
     "shell.execute_reply.started": "2023-06-01T03:49:31.497717Z"
    },
    "tags": []
   },
   "outputs": [],
   "source": [
    "city = 'Москва'\n",
    "df_all = pd.read_parquet(f'files/ten_city/df_dates_users_city_agg2')\n",
    "#df_all = df_all[df_all['city'] == city]\n",
    "df_all['city_rubric'] = df_all['city'] + '. ' + df_all['rubric']\n",
    "df_all = df_all[~df_all.rubric.apply(lambda x: (x is None or x.isnumeric()))]\n",
    "df_all['cnt_all'] = df_all.groupby('city_rubric')['cnt_requests'].transform(np.sum)\n",
    "df_all = df_all.drop(['date_r', 'cnt_requests', 'cnt_users'], axis=1).drop_duplicates()\n",
    "df_all = df_all.sort_values(['cnt_all'], ascending=False).reset_index().reset_index().set_index('level_0').drop('index', axis=1)\n",
    "df_all['cnt_city_rubric'] = df_all['cnt_all'].astype(str) + '_' + df_all['city_rubric'] + '. ' + 'Запросы'\n",
    "df_requests = df_all.copy()\n",
    "\n",
    "df_all = pd.read_parquet(f'files/ten_city/df_dates_users_city_agg2')\n",
    "#df_all = df_all[df_all['city'] == city]\n",
    "df_all['city_rubric'] = df_all['city'] + '. ' + df_all['rubric']\n",
    "df_all = df_all[~df_all.rubric.apply(lambda x: (x is None or x.isnumeric()))]\n",
    "df_all['cnt_all'] = df_all.groupby('city_rubric')['cnt_users'].transform(np.sum)\n",
    "df_all = df_all.drop(['date_r', 'cnt_requests', 'cnt_users'], axis=1).drop_duplicates()\n",
    "df_all = df_all.sort_values(['cnt_all'], ascending=False).reset_index().reset_index().set_index('level_0').drop('index', axis=1)\n",
    "df_all['cnt_city_rubric'] = df_all['cnt_all'].astype(str) + '_' + df_all['city_rubric'] + '. ' + 'Пользователи'\n",
    "df_users = df_all.copy()\n",
    "\n",
    "df_100 = pd.concat([df_requests, df_users]).iloc[:30]\n",
    "\n",
    "df1 = pd.read_parquet(f'files/ten_city/df_dates_users_city_agg2')\n",
    "#df1 = df1[df1['city'] == city]\n",
    "\n",
    "df1['city_rubric_param'] = df1['city'] + '. ' + df1['rubric'] + '. ' + 'Пользователи'\n",
    "df1 = df1[['date_r', 'cnt_users', 'city_rubric_param']].rename({'cnt_users':'cnt'}, axis=1)\n",
    "\n",
    "df2 = pd.read_parquet(f'files/ten_city/df_dates_users_city_agg2')\n",
    "#df2 = df2[df2['city'] == city]\n",
    "\n",
    "df2['city_rubric_param'] = df2['city'] + '. ' + df2['rubric'] + '. ' + 'Запросы'\n",
    "df2 = df2[['date_r', 'cnt_requests', 'city_rubric_param']].rename({'cnt_requests':'cnt'}, axis=1)\n",
    "df_dates_users = pd.concat([df1, df2])\n",
    "\n",
    "df_dates_users['cnt_all'] = df_dates_users.groupby('city_rubric_param')['cnt'].transform(np.sum)\n",
    "df_dates_users['city_rubric_param_cnt'] = df_dates_users['cnt_all'].astype(str) + '_' + df_dates_users['city_rubric_param']\n",
    "df_dates_users['city_rubric'] = df_dates_users['city_rubric_param'].apply(lambda x: x.split('. ')[0] + '. ' + x.split('. ')[1])\n",
    "\n",
    "dfx = pd.pivot_table(df_dates_users, values='cnt', aggfunc='sum', index=['date_r'], columns=['city_rubric_param_cnt'])"
   ]
  },
  {
   "cell_type": "code",
   "execution_count": 23,
   "id": "2a79e9ad-1b5e-4479-a005-f22e84d093ae",
   "metadata": {
    "execution": {
     "iopub.execute_input": "2023-06-01T03:49:37.215024Z",
     "iopub.status.busy": "2023-06-01T03:49:37.215024Z",
     "iopub.status.idle": "2023-06-01T03:53:24.584817Z",
     "shell.execute_reply": "2023-06-01T03:53:24.583820Z",
     "shell.execute_reply.started": "2023-06-01T03:49:37.215024Z"
    },
    "tags": []
   },
   "outputs": [
    {
     "name": "stdout",
     "output_type": "stream",
     "text": [
      "CPU times: total: 2min 55s\n",
      "Wall time: 3min 47s\n"
     ]
    }
   ],
   "source": [
    "%%time\n",
    "t_h = dfx.corr().fillna(0).astype(np.float16)"
   ]
  },
  {
   "cell_type": "code",
   "execution_count": 43,
   "id": "96d09336-b04c-4d27-9aa6-1f9f4deb3cae",
   "metadata": {
    "execution": {
     "iopub.execute_input": "2023-06-01T03:59:13.097695Z",
     "iopub.status.busy": "2023-06-01T03:59:13.097695Z",
     "iopub.status.idle": "2023-06-01T04:01:53.506746Z",
     "shell.execute_reply": "2023-06-01T04:01:53.505713Z",
     "shell.execute_reply.started": "2023-06-01T03:59:13.097695Z"
    },
    "tags": []
   },
   "outputs": [
    {
     "name": "stdout",
     "output_type": "stream",
     "text": [
      "CPU times: total: 2min 17s\n",
      "Wall time: 2min 40s\n"
     ]
    }
   ],
   "source": [
    "%%time\n",
    "t_h = t_h.rename_axis([None]).rename_axis([None], axis=1)\n",
    "t1 = t_h.stack()\n",
    "t1 = t1.reset_index()\n",
    "t1.columns = ['r1', 'r2', 'corr']\n",
    "t1 = t1[t1.r1 != t1.r2]"
   ]
  },
  {
   "cell_type": "code",
   "execution_count": 44,
   "id": "bfe57465-27de-4475-a253-77e4c6eb4a6f",
   "metadata": {
    "execution": {
     "iopub.execute_input": "2023-06-01T04:01:53.507714Z",
     "iopub.status.busy": "2023-06-01T04:01:53.507714Z",
     "iopub.status.idle": "2023-06-01T04:02:37.864695Z",
     "shell.execute_reply": "2023-06-01T04:02:37.863778Z",
     "shell.execute_reply.started": "2023-06-01T04:01:53.507714Z"
    },
    "tags": []
   },
   "outputs": [
    {
     "name": "stdout",
     "output_type": "stream",
     "text": [
      "CPU times: total: 37.5 s\n",
      "Wall time: 44.3 s\n"
     ]
    }
   ],
   "source": [
    "%%time\n",
    "t1_100 = df_100.merge(t1, left_on='cnt_city_rubric', right_on='r1')"
   ]
  },
  {
   "cell_type": "code",
   "execution_count": 45,
   "id": "560a7cca-91ce-4844-9f11-d16a4fd7e25d",
   "metadata": {
    "execution": {
     "iopub.execute_input": "2023-06-01T04:02:37.866786Z",
     "iopub.status.busy": "2023-06-01T04:02:37.865697Z",
     "iopub.status.idle": "2023-06-01T04:02:42.330925Z",
     "shell.execute_reply": "2023-06-01T04:02:42.330006Z",
     "shell.execute_reply.started": "2023-06-01T04:02:37.866786Z"
    },
    "tags": []
   },
   "outputs": [
    {
     "data": {
      "text/plain": [
       "((30, 5), (379020, 11))"
      ]
     },
     "execution_count": 45,
     "metadata": {},
     "output_type": "execute_result"
    }
   ],
   "source": [
    "t1_100['r1_cnt'] = t1_100.r1.apply(lambda x: x.split('_')[0])\n",
    "t1_100['r2_cnt'] = t1_100.r2.apply(lambda x: x.split('_')[0])\n",
    "\n",
    "t1_100.r1 = t1_100.r1.apply(lambda x: x.split('_')[1])\n",
    "t1_100.r2 = t1_100.r2.apply(lambda x: x.split('_')[1])\n",
    "t1_100['r1_city'] = t1_100.r1.apply(lambda x: x.split('. ')[0])\n",
    "t1_100['r2_city'] = t1_100.r2.apply(lambda x: x.split('. ')[0])\n",
    "t1_100['r1_rubric'] = t1_100.r1.apply(lambda x: x.split('. ')[1])\n",
    "t1_100['r2_rubric'] = t1_100.r2.apply(lambda x: x.split('. ')[1])\n",
    "t1_100['r1_param'] = t1_100.r1.apply(lambda x: x.split('. ')[2])\n",
    "t1_100['r2_param'] = t1_100.r2.apply(lambda x: x.split('. ')[2])\n",
    "\n",
    "t1_100.r1_cnt = t1_100.r1_cnt.astype(int)\n",
    "t1_100.r2_cnt = t1_100.r2_cnt.astype(int)\n",
    "\n",
    "t1_100 = t1_100[t1_100.r2_cnt > 1000]\n",
    "\n",
    "t1_100 = t1_100[['r1', 'r2', 'r1_city', 'r1_rubric', 'r1_param', 'r2_city', 'r2_rubric', 'r2_param', 'corr', 'r1_cnt', 'r2_cnt']]\n",
    "\n",
    "df_100.shape, t1_100.shape"
   ]
  },
  {
   "cell_type": "code",
   "execution_count": 46,
   "id": "f7da5ac9-5f7f-4793-9fd6-dcb591e610ed",
   "metadata": {
    "execution": {
     "iopub.execute_input": "2023-06-01T04:02:42.332931Z",
     "iopub.status.busy": "2023-06-01T04:02:42.332931Z",
     "iopub.status.idle": "2023-06-01T04:02:43.074856Z",
     "shell.execute_reply": "2023-06-01T04:02:43.074856Z",
     "shell.execute_reply.started": "2023-06-01T04:02:42.332931Z"
    },
    "tags": []
   },
   "outputs": [],
   "source": [
    "df_dates_users['city'] = df_dates_users.city_rubric.apply(lambda x: x.split('. ')[0])"
   ]
  },
  {
   "cell_type": "code",
   "execution_count": null,
   "id": "d08c32dc-0a17-4723-9443-d601cf685b56",
   "metadata": {
    "execution": {
     "iopub.execute_input": "2023-06-01T04:32:55.334091Z",
     "iopub.status.busy": "2023-06-01T04:32:55.334091Z",
     "iopub.status.idle": "2023-06-01T04:33:23.642525Z",
     "shell.execute_reply": "2023-06-01T04:33:23.642525Z",
     "shell.execute_reply.started": "2023-06-01T04:32:55.334091Z"
    },
    "tags": []
   },
   "outputs": [],
   "source": [
    "t2 = t1_100[(t1_100.r1_cnt > 10000) & (t1_100.r2_cnt > 10000)]\n",
    "t2['cnt_diff'] = abs(t2.r1_cnt - t2.r2_cnt)\n",
    "t1_m = t2[t2['corr'] < 0].sort_values(['cnt_diff', 'r1_cnt'], ascending=[True, False])\n",
    "fpath = Path(mpl.get_data_path(), r\"C:\\Users\\Mamed\\YandexDisk\\_Documents\\Проекты\\2ГИС 2023\\Лого\\arialnarrow.ttf\")\n",
    "\n",
    "negative_corr = t1_m.iloc[:1000]\n",
    "negative_corr_rubrics = pd.concat([negative_corr.r1, negative_corr.r2]).drop_duplicates().values\n",
    "#negative_corr_rubrics = [i.replace('Москва. ', '') for i in negative_corr_rubrics]\n",
    "\n",
    "df_dates_negative = df_dates_users[df_dates_users['city_rubric_param'].apply(lambda x: ((x in negative_corr_rubrics) and (len(x.replace('. Запросы','')) < 35)))]\n",
    "df_dates_negative['city_rubric_param'] = df_dates_negative['city_rubric_param']\n",
    "dfx_pred = pd.pivot_table(df_dates_negative, values='cnt', aggfunc='sum', index=['date_r'], columns=['city_rubric_param'])\n",
    "dfx_1 = dfx_pred[[ i for i in dfx_pred.columns if 'Запросы' in i and 'Алматы' in i]].iloc[:,:15]\n",
    "dfx_2 = dfx_pred[[ i for i in dfx_pred.columns if 'Запросы' in i and 'Астана' in i]].iloc[:,:15]\n",
    "dfx_3 = dfx_pred[[ i for i in dfx_pred.columns if 'Запросы' in i and 'Москва' in i]].iloc[:,:15]\n",
    "dfx_4 = dfx_pred[[ i for i in dfx_pred.columns if 'Запросы' in i and 'Калининград' in i]].iloc[:,:15]\n",
    "dfx_5 = dfx_pred[[ i for i in dfx_pred.columns if 'Запросы' in i and 'СПБ' in i]].iloc[:,:15]\n",
    "dfx_6 = dfx_pred[[ i for i in dfx_pred.columns if 'Запросы' in i and 'Ташкент' in i]].iloc[:,:15]\n",
    "dfx_7 = dfx_pred[[ i for i in dfx_pred.columns if 'Запросы' in i and 'Новосибирск' in i]].iloc[:,:15]\n",
    "dfx_8 = dfx_pred[[ i for i in dfx_pred.columns if 'Запросы' in i and 'ОАЭ' in i]].iloc[:,:15]\n",
    "dfx_9 = dfx_pred[[ i for i in dfx_pred.columns if 'Запросы' in i and 'Бишкек' in i]].iloc[:,:15]\n",
    "dfx_10 = dfx_pred[[i for i in dfx_pred.columns if 'Запросы' in i and 'Владивосток' in i]].iloc[:,:15]\n",
    "dfx = (dfx_1\n",
    ".merge(dfx_2, left_index=True, right_index=True)\n",
    ".merge(dfx_3, left_index=True, right_index=True)\n",
    ".merge(dfx_4, left_index=True, right_index=True)\n",
    ".merge(dfx_5, left_index=True, right_index=True)\n",
    ".merge(dfx_6, left_index=True, right_index=True)\n",
    ".merge(dfx_7, left_index=True, right_index=True)\n",
    ".merge(dfx_8, left_index=True, right_index=True)\n",
    ".merge(dfx_9, left_index=True, right_index=True)\n",
    ".merge(dfx_10, left_index=True, right_index=True)\n",
    ")\n",
    "dfx.columns = [i.replace('. Запросы','') for i in dfx.columns]\n",
    "\n",
    "t_h = dfx.corr().fillna(0)\n",
    "\n",
    "fig, ax = plt.subplots()\n",
    "ax = sns.heatmap(t_h, annot=False, cbar=False)\n",
    "plt.xticks(font=fpath, fontsize=fontsize*0.5)\n",
    "plt.yticks(font=fpath, fontsize=fontsize*0.5)\n",
    "plt.rcParams['figure.dpi'] = 2**8\n",
    "plt.rcParams['figure.figsize']=size_x,size_y\n",
    "ax.set_xlabel('')\n",
    "ax.set_ylabel('')\n",
    "\n",
    "fig.savefig(f'pics/corr_matrix_other.png', bbox_inches='tight', transparent=False)\n",
    "plt.show()"
   ]
  },
  {
   "cell_type": "code",
   "execution_count": null,
   "id": "d58aabaf-04d6-456c-a917-17e928bd776b",
   "metadata": {
    "execution": {
     "iopub.execute_input": "2023-06-01T04:33:23.642525Z",
     "iopub.status.busy": "2023-06-01T04:33:23.642525Z",
     "iopub.status.idle": "2023-06-01T04:34:03.470037Z",
     "shell.execute_reply": "2023-06-01T04:34:03.470037Z",
     "shell.execute_reply.started": "2023-06-01T04:33:23.642525Z"
    },
    "tags": []
   },
   "outputs": [],
   "source": [
    "df_dates_all = df_dates_users\n",
    "df_dates_all['city_rubric'] = df_dates_all['city_rubric_param']\n",
    "\n",
    "positive_corr = t2[t2['corr'] >= 0.95]\n",
    "positive_corr_rubrics = pd.concat([positive_corr.r1, positive_corr.r2]).drop_duplicates().values\n",
    "#positive_corr_rubrics = [i.split('_')[1] for i in positive_corr_rubrics]\n",
    "\n",
    "df_dates_positive = df_dates_all[df_dates_all['city_rubric'].apply(lambda x: ((x in positive_corr_rubrics[:500]) and (len(x.replace('. Запросы','')) < 35)))]\n",
    "\n",
    "dfx_pred = pd.pivot_table(df_dates_positive, values='cnt', aggfunc='sum', index=['date_r'], columns=['city_rubric'])\n",
    "dfx_1 = dfx_pred[[ i for i in dfx_pred.columns if 'Запросы' in i and 'Алматы' in i]].iloc[:,:3]\n",
    "dfx_2 = dfx_pred[[ i for i in dfx_pred.columns if 'Запросы' in i and 'Астана' in i]].iloc[:,:3]\n",
    "dfx_3 = dfx_pred[[ i for i in dfx_pred.columns if 'Запросы' in i and 'Москва' in i]].iloc[:,:3]\n",
    "dfx_4 = dfx_pred[[ i for i in dfx_pred.columns if 'Запросы' in i and 'Калининград' in i]].iloc[:,:3]\n",
    "dfx_5 = dfx_pred[[ i for i in dfx_pred.columns if 'Запросы' in i and 'СПБ' in i]].iloc[:,:3]\n",
    "dfx_6 = dfx_pred[[ i for i in dfx_pred.columns if 'Запросы' in i and 'Ташкент' in i]].iloc[:,:3]\n",
    "dfx_7 = dfx_pred[[ i for i in dfx_pred.columns if 'Запросы' in i and 'Новосибирск' in i]].iloc[:,:3]\n",
    "dfx_8 = dfx_pred[[ i for i in dfx_pred.columns if 'Запросы' in i and 'ОАЭ' in i]].iloc[:,:3]\n",
    "dfx_9 = dfx_pred[[ i for i in dfx_pred.columns if 'Запросы' in i and 'Бишкек' in i]].iloc[:,:3]\n",
    "dfx_10 = dfx_pred[[i for i in dfx_pred.columns if 'Запросы' in i and 'Владивосток' in i]].iloc[:,:3]\n",
    "\n",
    "dfx = (dfx_1\n",
    ".merge(dfx_2, left_index=True, right_index=True)\n",
    ".merge(dfx_3, left_index=True, right_index=True)\n",
    ".merge(dfx_4, left_index=True, right_index=True)\n",
    ".merge(dfx_5, left_index=True, right_index=True)\n",
    ".merge(dfx_6, left_index=True, right_index=True)\n",
    ".merge(dfx_7, left_index=True, right_index=True)\n",
    ".merge(dfx_8, left_index=True, right_index=True)\n",
    ".merge(dfx_9, left_index=True, right_index=True)\n",
    ".merge(dfx_10, left_index=True, right_index=True)\n",
    ")\n",
    "dfx.columns = [i.replace('. Запросы','') for i in dfx.columns]\n",
    "t_h = dfx.corr().fillna(0)\n",
    "\n",
    "fig, ax = plt.subplots()\n",
    "ax = sns.heatmap(t_h, annot=True, cbar=False, annot_kws={'size':round(fontsize * 0.6)})\n",
    "plt.xticks(font=fpath, fontsize=fontsize)\n",
    "plt.yticks(font=fpath, fontsize=fontsize)\n",
    "plt.rcParams['figure.dpi'] = 2**8\n",
    "plt.rcParams['figure.figsize']=size_x,size_y\n",
    "ax.set_xlabel('')\n",
    "ax.set_ylabel('')\n",
    "\n",
    "fig.savefig(f'pics/corr_matrix_1_other.png', bbox_inches='tight', transparent=False)\n",
    "plt.show()"
   ]
  },
  {
   "cell_type": "code",
   "execution_count": null,
   "id": "2006876a-cb61-4912-985b-bc3ffa03aaaa",
   "metadata": {
    "execution": {
     "iopub.execute_input": "2023-06-01T04:34:03.470037Z",
     "iopub.status.busy": "2023-06-01T04:34:03.470037Z",
     "iopub.status.idle": "2023-06-01T04:34:31.340321Z",
     "shell.execute_reply": "2023-06-01T04:34:31.340321Z",
     "shell.execute_reply.started": "2023-06-01T04:34:03.470037Z"
    },
    "tags": []
   },
   "outputs": [],
   "source": [
    "negative_corr = t1_m.iloc[:500]\n",
    "negative_corr_rubrics = pd.concat([negative_corr.r1, negative_corr.r2]).drop_duplicates().values\n",
    "#negative_corr_rubrics = [i.split('_')[1] for i in negative_corr_rubrics]\n",
    "\n",
    "df_dates_negative = df_dates_all[df_dates_all['city_rubric'].apply(lambda x: (x in negative_corr_rubrics[:500]) and (len(x.replace('. Запросы','')) < 35))]\n",
    "\n",
    "dfx_pred = pd.pivot_table(df_dates_negative, values='cnt', aggfunc='sum', index=['date_r'], columns=['city_rubric'])\n",
    "dfx_1 = dfx_pred[[ i for i in dfx_pred.columns if 'Запросы' in i and 'Алматы' in i]].iloc[:,:3]\n",
    "dfx_2 = dfx_pred[[ i for i in dfx_pred.columns if 'Запросы' in i and 'Астана' in i]].iloc[:,:3]\n",
    "dfx_3 = dfx_pred[[ i for i in dfx_pred.columns if 'Запросы' in i and 'Москва' in i]].iloc[:,:3]\n",
    "dfx_4 = dfx_pred[[ i for i in dfx_pred.columns if 'Запросы' in i and 'Калининград' in i]].iloc[:,:3]\n",
    "dfx_5 = dfx_pred[[ i for i in dfx_pred.columns if 'Запросы' in i and 'СПБ' in i]].iloc[:,:3]\n",
    "dfx_6 = dfx_pred[[ i for i in dfx_pred.columns if 'Запросы' in i and 'Ташкент' in i]].iloc[:,:3]\n",
    "dfx_7 = dfx_pred[[ i for i in dfx_pred.columns if 'Запросы' in i and 'Новосибирск' in i]].iloc[:,:3]\n",
    "dfx_8 = dfx_pred[[ i for i in dfx_pred.columns if 'Запросы' in i and 'ОАЭ' in i]].iloc[:,:3]\n",
    "dfx_9 = dfx_pred[[ i for i in dfx_pred.columns if 'Запросы' in i and 'Бишкек' in i]].iloc[:,:3]\n",
    "dfx_10 = dfx_pred[[i for i in dfx_pred.columns if 'Запросы' in i and 'Владивосток' in i]].iloc[:,:3]\n",
    "\n",
    "dfx = (dfx_1\n",
    ".merge(dfx_2, left_index=True, right_index=True)\n",
    ".merge(dfx_3, left_index=True, right_index=True)\n",
    ".merge(dfx_4, left_index=True, right_index=True)\n",
    ".merge(dfx_5, left_index=True, right_index=True)\n",
    ".merge(dfx_6, left_index=True, right_index=True)\n",
    ".merge(dfx_7, left_index=True, right_index=True)\n",
    ".merge(dfx_8, left_index=True, right_index=True)\n",
    ".merge(dfx_9, left_index=True, right_index=True)\n",
    ".merge(dfx_10, left_index=True, right_index=True)\n",
    ")\n",
    "dfx.columns = [i.replace('. Запросы','') for i in dfx.columns]\n",
    "t_h = dfx.corr().fillna(0)\n",
    "\n",
    "fig, ax = plt.subplots()\n",
    "ax = sns.heatmap(t_h, annot=True, cbar=False, annot_kws={'size':round(fontsize * 0.6)})\n",
    "plt.xticks(font=fpath, fontsize=fontsize)\n",
    "plt.yticks(font=fpath, fontsize=fontsize)\n",
    "plt.rcParams['figure.dpi'] = 2**8\n",
    "plt.rcParams['figure.figsize']=size_x,size_y\n",
    "ax.set_xlabel('')\n",
    "ax.set_ylabel('')\n",
    "\n",
    "fig.savefig(f'pics/corr_matrix_2_other.png', bbox_inches='tight', transparent=False)\n",
    "plt.show()"
   ]
  },
  {
   "cell_type": "code",
   "execution_count": null,
   "id": "5a107c14-6ae1-4104-8508-b4b24da7329f",
   "metadata": {
    "execution": {
     "iopub.execute_input": "2023-06-01T04:34:31.340321Z",
     "iopub.status.busy": "2023-06-01T04:34:31.340321Z",
     "iopub.status.idle": "2023-06-01T04:36:16.966437Z",
     "shell.execute_reply": "2023-06-01T04:36:16.966437Z",
     "shell.execute_reply.started": "2023-06-01T04:34:31.340321Z"
    },
    "tags": []
   },
   "outputs": [],
   "source": [
    "zero_corr = t1[t1['corr'] < abs(0.41)]\n",
    "zero_corr_rubrics = pd.concat([zero_corr.r1, zero_corr.r2]).drop_duplicates().values\n",
    "zero_corr_rubrics = [i.split('_')[1] for i in zero_corr_rubrics]\n",
    "\n",
    "df_dates_zero = df_dates_all[df_dates_all['city_rubric'].apply(lambda x: (x in zero_corr_rubrics[:500]) and (len(x.replace('. Запросы','')) < 35) )]\n",
    "\n",
    "dfx_pred = pd.pivot_table(df_dates_zero, values='cnt', aggfunc='sum', index=['date_r'], columns=['city_rubric'])\n",
    "dfx_1 = dfx_pred[[ i for i in dfx_pred.columns if 'Запросы' in i and 'Алматы' in i]].iloc[:,:3]\n",
    "dfx_2 = dfx_pred[[ i for i in dfx_pred.columns if 'Запросы' in i and 'Астана' in i]].iloc[:,:3]\n",
    "dfx_3 = dfx_pred[[ i for i in dfx_pred.columns if 'Запросы' in i and 'Москва' in i]].iloc[:,:3]\n",
    "dfx_4 = dfx_pred[[ i for i in dfx_pred.columns if 'Запросы' in i and 'Калининград' in i]].iloc[:,:3]\n",
    "dfx_5 = dfx_pred[[ i for i in dfx_pred.columns if 'Запросы' in i and 'СПБ' in i]].iloc[:,:3]\n",
    "dfx_6 = dfx_pred[[ i for i in dfx_pred.columns if 'Запросы' in i and 'Ташкент' in i]].iloc[:,:3]\n",
    "dfx_7 = dfx_pred[[ i for i in dfx_pred.columns if 'Запросы' in i and 'Новосибирск' in i]].iloc[:,:3]\n",
    "dfx_8 = dfx_pred[[ i for i in dfx_pred.columns if 'Запросы' in i and 'ОАЭ' in i]].iloc[:,:3]\n",
    "dfx_9 = dfx_pred[[ i for i in dfx_pred.columns if 'Запросы' in i and 'Бишкек' in i]].iloc[:,:3]\n",
    "dfx_10 = dfx_pred[[i for i in dfx_pred.columns if 'Запросы' in i and 'Владивосток' in i]].iloc[:,:3]\n",
    "\n",
    "dfx = (dfx_1\n",
    ".merge(dfx_2, left_index=True, right_index=True)\n",
    ".merge(dfx_3, left_index=True, right_index=True)\n",
    ".merge(dfx_4, left_index=True, right_index=True)\n",
    ".merge(dfx_5, left_index=True, right_index=True)\n",
    ".merge(dfx_6, left_index=True, right_index=True)\n",
    ".merge(dfx_7, left_index=True, right_index=True)\n",
    ".merge(dfx_8, left_index=True, right_index=True)\n",
    ".merge(dfx_9, left_index=True, right_index=True)\n",
    ".merge(dfx_10, left_index=True, right_index=True)\n",
    ")\n",
    "dfx.columns = [i.replace('. Запросы','') for i in dfx.columns]\n",
    "t_h = dfx.corr().fillna(0)\n",
    "\n",
    "fig, ax = plt.subplots()\n",
    "ax = sns.heatmap(t_h, annot=True, cbar=False, annot_kws={'size':round(fontsize * 0.6)})\n",
    "plt.xticks(font=fpath, fontsize=fontsize)\n",
    "plt.yticks(font=fpath, fontsize=fontsize)\n",
    "plt.rcParams['figure.dpi'] = 2**8\n",
    "plt.rcParams['figure.figsize']=size_x,size_y\n",
    "ax.set_xlabel('')\n",
    "ax.set_ylabel('')\n",
    "\n",
    "fig.savefig(f'pics/corr_matrix_3_other.png', bbox_inches='tight', transparent=False)\n",
    "plt.show()"
   ]
  },
  {
   "cell_type": "code",
   "execution_count": 82,
   "id": "b217ea86-c635-4479-9796-81f4ba57683d",
   "metadata": {
    "execution": {
     "iopub.execute_input": "2023-06-01T04:38:01.266718Z",
     "iopub.status.busy": "2023-06-01T04:38:01.266718Z",
     "iopub.status.idle": "2023-06-01T04:38:03.781800Z",
     "shell.execute_reply": "2023-06-01T04:38:03.781203Z",
     "shell.execute_reply.started": "2023-06-01T04:38:01.266718Z"
    },
    "tags": []
   },
   "outputs": [
    {
     "name": "stdout",
     "output_type": "stream",
     "text": [
      "2023-06-01 07:38:03 test_new.pptx\n"
     ]
    }
   ],
   "source": [
    "prs = pptx.Presentation('pics/test_new.pptx')\n",
    "slides = prs.slides\n",
    "x, y = 30.7, 16\n",
    "slides[39].shapes.add_picture('pics/corr_matrix_other.png', Cm(0.7), Cm(2.4), Cm(x), Cm(y))\n",
    "slides[40].shapes.add_picture('pics/corr_matrix_1_other.png', Cm(0.7), Cm(2.4), Cm(x), Cm(y))\n",
    "slides[41].shapes.add_picture('pics/corr_matrix_2_other.png', Cm(0.7), Cm(2.4), Cm(x), Cm(y))\n",
    "slides[42].shapes.add_picture('pics/corr_matrix_3_other.png', Cm(0.7), Cm(2.4), Cm(x), Cm(y))\n",
    "save_pptx()"
   ]
  },
  {
   "cell_type": "markdown",
   "id": "93db5a51-e380-4aa7-a927-e65642f09868",
   "metadata": {},
   "source": [
    "## Бизнес город показатель"
   ]
  },
  {
   "cell_type": "code",
   "execution_count": null,
   "id": "40df01eb-23e6-411b-a24f-a9fec3d0a284",
   "metadata": {
    "execution": {
     "iopub.execute_input": "2023-06-01T04:40:49.498155Z",
     "iopub.status.busy": "2023-06-01T04:40:49.498155Z",
     "iopub.status.idle": "2023-06-01T04:41:33.257740Z",
     "shell.execute_reply": "2023-06-01T04:41:33.256709Z",
     "shell.execute_reply.started": "2023-06-01T04:40:49.498155Z"
    },
    "tags": []
   },
   "outputs": [],
   "source": [
    "negative_corr = t1_100.sample(1000)\n",
    "negative_corr_rubrics = pd.concat([negative_corr.r1, negative_corr.r2]).drop_duplicates().values\n",
    "#negative_corr_rubrics = [i.replace('Москва. ', '') for i in negative_corr_rubrics]\n",
    "\n",
    "df_dates_negative = df_dates_users[df_dates_users['city_rubric_param'].apply(lambda x: ((x in negative_corr_rubrics) and (len(x) < 35)))]\n",
    "df_dates_negative['city_rubric_param'] = df_dates_negative['city_rubric_param']\n",
    "dfx_pred = pd.pivot_table(df_dates_negative, values='cnt', aggfunc='sum', index=['date_r'], columns=['city_rubric_param'])\n",
    "dfx_1 = dfx_pred[[ i for i in dfx_pred.columns if  'Алматы' in i]].iloc[:,:8]\n",
    "dfx_2 = dfx_pred[[ i for i in dfx_pred.columns if  'Астана' in i]].iloc[:,:8]\n",
    "dfx_3 = dfx_pred[[ i for i in dfx_pred.columns if  'Москва' in i]].iloc[:,:8]\n",
    "dfx_4 = dfx_pred[[ i for i in dfx_pred.columns if  'Калининград' in i]].iloc[:,:8]\n",
    "dfx_5 = dfx_pred[[ i for i in dfx_pred.columns if  'СПБ' in i]].iloc[:,:8]\n",
    "dfx_6 = dfx_pred[[ i for i in dfx_pred.columns if  'Ташкент' in i]].iloc[:,:8]\n",
    "dfx_7 = dfx_pred[[ i for i in dfx_pred.columns if  'Новосибирск' in i]].iloc[:,:8]\n",
    "dfx_8 = dfx_pred[[ i for i in dfx_pred.columns if  'ОАЭ' in i]].iloc[:,:8]\n",
    "dfx_9 = dfx_pred[[ i for i in dfx_pred.columns if  'Бишкек' in i]].iloc[:,:8]\n",
    "dfx_10 = dfx_pred[[i for i in dfx_pred.columns if  'Владивосток' in i]].iloc[:,:8]\n",
    "dfx = (dfx_1\n",
    ".merge(dfx_2, left_index=True, right_index=True)\n",
    ".merge(dfx_3, left_index=True, right_index=True)\n",
    ".merge(dfx_4, left_index=True, right_index=True)\n",
    ".merge(dfx_5, left_index=True, right_index=True)\n",
    ".merge(dfx_6, left_index=True, right_index=True)\n",
    ".merge(dfx_7, left_index=True, right_index=True)\n",
    ".merge(dfx_8, left_index=True, right_index=True)\n",
    ".merge(dfx_9, left_index=True, right_index=True)\n",
    ".merge(dfx_10, left_index=True, right_index=True)\n",
    ")\n",
    "\n",
    "t_h = dfx.corr().fillna(0)\n",
    "\n",
    "fig, ax = plt.subplots()\n",
    "ax = sns.heatmap(t_h, annot=False, cbar=False)\n",
    "plt.xticks(font=fpath, fontsize=fontsize*0.5)\n",
    "plt.yticks(font=fpath, fontsize=fontsize*0.5)\n",
    "plt.rcParams['figure.dpi'] = 2**8\n",
    "plt.rcParams['figure.figsize']=size_x,size_y\n",
    "ax.set_xlabel('')\n",
    "ax.set_ylabel('')\n",
    "\n",
    "fig.savefig(f'pics/corr_matrix_other2.png', bbox_inches='tight', transparent=False)\n",
    "plt.show()"
   ]
  },
  {
   "cell_type": "code",
   "execution_count": null,
   "id": "97816615-0339-4007-aad0-939dc707683c",
   "metadata": {
    "execution": {
     "iopub.execute_input": "2023-06-01T04:45:13.113828Z",
     "iopub.status.busy": "2023-06-01T04:45:13.113828Z",
     "iopub.status.idle": "2023-06-01T04:45:44.764205Z",
     "shell.execute_reply": "2023-06-01T04:45:44.764205Z",
     "shell.execute_reply.started": "2023-06-01T04:45:13.113828Z"
    },
    "tags": []
   },
   "outputs": [],
   "source": [
    "df_dates_all = df_dates_users\n",
    "df_dates_all['city_rubric'] = df_dates_all['city_rubric_param']\n",
    "\n",
    "positive_corr = t2[t2['corr'] >= 0.95]\n",
    "positive_corr_rubrics = pd.concat([positive_corr.r1, positive_corr.r2]).drop_duplicates().values\n",
    "#positive_corr_rubrics = [i.split('_')[1] for i in positive_corr_rubrics]\n",
    "\n",
    "df_dates_positive = df_dates_all[df_dates_all['city_rubric'].apply(lambda x: ((x in positive_corr_rubrics[:500]) and (len(x) < 35)))]\n",
    "\n",
    "dfx_pred = pd.pivot_table(df_dates_positive, values='cnt', aggfunc='sum', index=['date_r'], columns=['city_rubric'])\n",
    "dfx_1 = dfx_pred[[ i for i in dfx_pred.columns if  'Алматы' in i]].iloc[:,:3]\n",
    "dfx_2 = dfx_pred[[ i for i in dfx_pred.columns if  'Астана' in i]].iloc[:,:3]\n",
    "dfx_3 = dfx_pred[[ i for i in dfx_pred.columns if  'Москва' in i]].iloc[:,:3]\n",
    "dfx_4 = dfx_pred[[ i for i in dfx_pred.columns if  'Калининград' in i]].iloc[:,:3]\n",
    "dfx_5 = dfx_pred[[ i for i in dfx_pred.columns if  'СПБ' in i]].iloc[:,:3]\n",
    "dfx_6 = dfx_pred[[ i for i in dfx_pred.columns if  'Ташкент' in i]].iloc[:,:3]\n",
    "dfx_7 = dfx_pred[[ i for i in dfx_pred.columns if  'Новосибирск' in i]].iloc[:,:3]\n",
    "dfx_8 = dfx_pred[[ i for i in dfx_pred.columns if  'ОАЭ' in i]].iloc[:,:3]\n",
    "dfx_9 = dfx_pred[[ i for i in dfx_pred.columns if  'Бишкек' in i]].iloc[:,:3]\n",
    "dfx_10 = dfx_pred[[i for i in dfx_pred.columns if  'Владивосток' in i]].iloc[:,:3]\n",
    "dfx = (dfx_1\n",
    ".merge(dfx_2, left_index=True, right_index=True)\n",
    ".merge(dfx_3, left_index=True, right_index=True)\n",
    ".merge(dfx_4, left_index=True, right_index=True)\n",
    ".merge(dfx_5, left_index=True, right_index=True)\n",
    ".merge(dfx_6, left_index=True, right_index=True)\n",
    ".merge(dfx_7, left_index=True, right_index=True)\n",
    ".merge(dfx_8, left_index=True, right_index=True)\n",
    ".merge(dfx_9, left_index=True, right_index=True)\n",
    ".merge(dfx_10, left_index=True, right_index=True)\n",
    ")\n",
    "\n",
    "t_h = dfx.corr().fillna(0)\n",
    "\n",
    "fig, ax = plt.subplots()\n",
    "ax = sns.heatmap(t_h, annot=True, cbar=False, annot_kws={'size':round(fontsize * 0.6)})\n",
    "plt.xticks(font=fpath, fontsize=fontsize)\n",
    "plt.yticks(font=fpath, fontsize=fontsize)\n",
    "plt.rcParams['figure.dpi'] = 2**8\n",
    "plt.rcParams['figure.figsize']=size_x,size_y\n",
    "ax.set_xlabel('')\n",
    "ax.set_ylabel('')\n",
    "\n",
    "fig.savefig(f'pics/corr_matrix_1_other2.png', bbox_inches='tight', transparent=False)\n",
    "plt.show()"
   ]
  },
  {
   "cell_type": "code",
   "execution_count": null,
   "id": "180951c6-b82e-454b-9e71-e6f04c26a291",
   "metadata": {
    "execution": {
     "iopub.execute_input": "2023-06-01T04:46:01.304800Z",
     "iopub.status.busy": "2023-06-01T04:46:01.304800Z",
     "iopub.status.idle": "2023-06-01T04:46:47.127562Z",
     "shell.execute_reply": "2023-06-01T04:46:47.127562Z",
     "shell.execute_reply.started": "2023-06-01T04:46:01.304800Z"
    },
    "tags": []
   },
   "outputs": [],
   "source": [
    "negative_corr = t1_100.sample(1000)\n",
    "negative_corr_rubrics = pd.concat([negative_corr.r1, negative_corr.r2]).drop_duplicates().values\n",
    "#negative_corr_rubrics = [i.replace('Москва. ', '') for i in negative_corr_rubrics]\n",
    "\n",
    "df_dates_negative = df_dates_users[df_dates_users['city_rubric_param'].apply(lambda x: ((x in negative_corr_rubrics) and (len(x) < 35)))]\n",
    "df_dates_negative['city_rubric_param'] = df_dates_negative['city_rubric_param']\n",
    "dfx_pred = pd.pivot_table(df_dates_negative, values='cnt', aggfunc='sum', index=['date_r'], columns=['city_rubric_param'])\n",
    "dfx_1 = dfx_pred[[ i for i in dfx_pred.columns if  'Алматы' in i]].iloc[:,:3]\n",
    "dfx_2 = dfx_pred[[ i for i in dfx_pred.columns if  'Астана' in i]].iloc[:,:3]\n",
    "dfx_3 = dfx_pred[[ i for i in dfx_pred.columns if  'Москва' in i]].iloc[:,:3]\n",
    "dfx_4 = dfx_pred[[ i for i in dfx_pred.columns if  'Калининград' in i]].iloc[:,:3]\n",
    "dfx_5 = dfx_pred[[ i for i in dfx_pred.columns if  'СПБ' in i]].iloc[:,:3]\n",
    "dfx_6 = dfx_pred[[ i for i in dfx_pred.columns if  'Ташкент' in i]].iloc[:,:3]\n",
    "dfx_7 = dfx_pred[[ i for i in dfx_pred.columns if  'Новосибирск' in i]].iloc[:,:3]\n",
    "dfx_8 = dfx_pred[[ i for i in dfx_pred.columns if  'ОАЭ' in i]].iloc[:,:3]\n",
    "dfx_9 = dfx_pred[[ i for i in dfx_pred.columns if  'Бишкек' in i]].iloc[:,:3]\n",
    "dfx_10 = dfx_pred[[i for i in dfx_pred.columns if  'Владивосток' in i]].iloc[:,:3]\n",
    "dfx = (dfx_1\n",
    ".merge(dfx_2, left_index=True, right_index=True)\n",
    ".merge(dfx_3, left_index=True, right_index=True)\n",
    ".merge(dfx_4, left_index=True, right_index=True)\n",
    ".merge(dfx_5, left_index=True, right_index=True)\n",
    ".merge(dfx_6, left_index=True, right_index=True)\n",
    ".merge(dfx_7, left_index=True, right_index=True)\n",
    ".merge(dfx_8, left_index=True, right_index=True)\n",
    ".merge(dfx_9, left_index=True, right_index=True)\n",
    ".merge(dfx_10, left_index=True, right_index=True)\n",
    ")\n",
    "\n",
    "t_h = dfx.corr().fillna(0)\n",
    "\n",
    "fig, ax = plt.subplots()\n",
    "ax = sns.heatmap(t_h, annot=True, cbar=False, annot_kws={'size':round(fontsize * 0.6)})\n",
    "plt.xticks(font=fpath, fontsize=fontsize)\n",
    "plt.yticks(font=fpath, fontsize=fontsize)\n",
    "plt.rcParams['figure.dpi'] = 2**8\n",
    "plt.rcParams['figure.figsize']=size_x,size_y\n",
    "ax.set_xlabel('')\n",
    "ax.set_ylabel('')\n",
    "\n",
    "fig.savefig(f'pics/corr_matrix_2_other2.png', bbox_inches='tight', transparent=False)\n",
    "plt.show()"
   ]
  },
  {
   "cell_type": "code",
   "execution_count": null,
   "id": "d960535e-88ca-4174-8f3d-200184dea968",
   "metadata": {
    "execution": {
     "iopub.execute_input": "2023-06-01T04:46:47.127562Z",
     "iopub.status.busy": "2023-06-01T04:46:47.127562Z",
     "iopub.status.idle": "2023-06-01T04:50:29.022572Z",
     "shell.execute_reply": "2023-06-01T04:50:29.022572Z",
     "shell.execute_reply.started": "2023-06-01T04:46:47.127562Z"
    },
    "tags": []
   },
   "outputs": [],
   "source": [
    "zero_corr = t1[t1['corr'] < abs(0.41)]\n",
    "zero_corr_rubrics = pd.concat([zero_corr.r1, zero_corr.r2]).drop_duplicates().values\n",
    "zero_corr_rubrics = [i.split('_')[1] for i in zero_corr_rubrics]\n",
    "\n",
    "df_dates_zero = df_dates_all[df_dates_all['city_rubric'].apply(lambda x: (x in zero_corr_rubrics[:500]) and (len(x) < 35) )]\n",
    "\n",
    "dfx_pred = pd.pivot_table(df_dates_zero, values='cnt', aggfunc='sum', index=['date_r'], columns=['city_rubric'])\n",
    "dfx_1 = dfx_pred[[ i for i in dfx_pred.columns if  'Алматы' in i]].iloc[:,:3]\n",
    "dfx_2 = dfx_pred[[ i for i in dfx_pred.columns if  'Астана' in i]].iloc[:,:3]\n",
    "dfx_3 = dfx_pred[[ i for i in dfx_pred.columns if  'Москва' in i]].iloc[:,:3]\n",
    "dfx_4 = dfx_pred[[ i for i in dfx_pred.columns if  'Калининград' in i]].iloc[:,:3]\n",
    "dfx_5 = dfx_pred[[ i for i in dfx_pred.columns if  'СПБ' in i]].iloc[:,:3]\n",
    "dfx_6 = dfx_pred[[ i for i in dfx_pred.columns if  'Ташкент' in i]].iloc[:,:3]\n",
    "dfx_7 = dfx_pred[[ i for i in dfx_pred.columns if  'Новосибирск' in i]].iloc[:,:3]\n",
    "dfx_8 = dfx_pred[[ i for i in dfx_pred.columns if  'ОАЭ' in i]].iloc[:,:3]\n",
    "dfx_9 = dfx_pred[[ i for i in dfx_pred.columns if  'Бишкек' in i]].iloc[:,:3]\n",
    "dfx_10 = dfx_pred[[i for i in dfx_pred.columns if  'Владивосток' in i]].iloc[:,:3]\n",
    "dfx = (dfx_1\n",
    ".merge(dfx_2, left_index=True, right_index=True)\n",
    ".merge(dfx_3, left_index=True, right_index=True)\n",
    ".merge(dfx_4, left_index=True, right_index=True)\n",
    ".merge(dfx_5, left_index=True, right_index=True)\n",
    ".merge(dfx_6, left_index=True, right_index=True)\n",
    ".merge(dfx_7, left_index=True, right_index=True)\n",
    ".merge(dfx_8, left_index=True, right_index=True)\n",
    ".merge(dfx_9, left_index=True, right_index=True)\n",
    ".merge(dfx_10, left_index=True, right_index=True)\n",
    ")\n",
    "\n",
    "t_h = dfx.corr().fillna(0)\n",
    "\n",
    "fig, ax = plt.subplots()\n",
    "ax = sns.heatmap(t_h, annot=True, cbar=False, annot_kws={'size':round(fontsize * 0.6)})\n",
    "plt.xticks(font=fpath, fontsize=fontsize)\n",
    "plt.yticks(font=fpath, fontsize=fontsize)\n",
    "plt.rcParams['figure.dpi'] = 2**8\n",
    "plt.rcParams['figure.figsize']=size_x,size_y\n",
    "ax.set_xlabel('')\n",
    "ax.set_ylabel('')\n",
    "\n",
    "fig.savefig(f'pics/corr_matrix_3_other2.png', bbox_inches='tight', transparent=False)\n",
    "plt.show()"
   ]
  },
  {
   "cell_type": "code",
   "execution_count": 91,
   "id": "ff72a473-8f9b-4973-ae0a-d17b4cda13db",
   "metadata": {
    "execution": {
     "iopub.execute_input": "2023-06-01T04:50:29.022572Z",
     "iopub.status.busy": "2023-06-01T04:50:29.022572Z",
     "iopub.status.idle": "2023-06-01T04:50:35.250464Z",
     "shell.execute_reply": "2023-06-01T04:50:35.242851Z",
     "shell.execute_reply.started": "2023-06-01T04:50:29.022572Z"
    },
    "tags": []
   },
   "outputs": [
    {
     "name": "stdout",
     "output_type": "stream",
     "text": [
      "2023-06-01 07:50:35 test_new.pptx\n"
     ]
    }
   ],
   "source": [
    "prs = pptx.Presentation('pics/test_new.pptx')\n",
    "slides = prs.slides\n",
    "x, y = 30.7, 16\n",
    "slides[43].shapes.add_picture('pics/corr_matrix_other2.png', Cm(0.7), Cm(2.4), Cm(x), Cm(y))\n",
    "slides[44].shapes.add_picture('pics/corr_matrix_1_other2.png', Cm(0.7), Cm(2.4), Cm(x), Cm(y))\n",
    "slides[45].shapes.add_picture('pics/corr_matrix_2_other2.png', Cm(0.7), Cm(2.4), Cm(x), Cm(y))\n",
    "slides[46].shapes.add_picture('pics/corr_matrix_3_other2.png', Cm(0.7), Cm(2.4), Cm(x), Cm(y))\n",
    "save_pptx()"
   ]
  },
  {
   "cell_type": "markdown",
   "id": "2512cb92-a803-4551-a52f-d3ded9a6123b",
   "metadata": {},
   "source": [
    "# Формулы корелляций"
   ]
  },
  {
   "cell_type": "code",
   "execution_count": 3,
   "id": "1972e5cb-4bd3-4faa-acfd-7aabebbb0a7d",
   "metadata": {
    "execution": {
     "iopub.execute_input": "2023-06-07T19:31:01.228029Z",
     "iopub.status.busy": "2023-06-07T19:31:01.227030Z",
     "iopub.status.idle": "2023-06-07T19:31:06.999389Z",
     "shell.execute_reply": "2023-06-07T19:31:06.998389Z",
     "shell.execute_reply.started": "2023-06-07T19:31:01.228029Z"
    },
    "tags": []
   },
   "outputs": [
    {
     "name": "stdout",
     "output_type": "stream",
     "text": [
      "Ready: 2023-06-07 22:31:06\n"
     ]
    }
   ],
   "source": [
    "%run functions.ipynb"
   ]
  },
  {
   "cell_type": "code",
   "execution_count": 50,
   "id": "beb31f0c-4341-4522-b122-c3ab5552256e",
   "metadata": {
    "execution": {
     "iopub.execute_input": "2023-06-07T19:36:51.329450Z",
     "iopub.status.busy": "2023-06-07T19:36:51.329450Z",
     "iopub.status.idle": "2023-06-07T19:37:06.964487Z",
     "shell.execute_reply": "2023-06-07T19:37:06.963490Z",
     "shell.execute_reply.started": "2023-06-07T19:36:51.329450Z"
    },
    "tags": []
   },
   "outputs": [
    {
     "name": "stdout",
     "output_type": "stream",
     "text": [
      "CPU times: total: 11.2 s\n",
      "Wall time: 15.6 s\n"
     ]
    }
   ],
   "source": [
    "%%time\n",
    "exclude_rubrics = ['Общая рубрика ЗМК','Заказ такси','Спектакли','Детские дома и Приюты','Кладбища','Крематории','Памятники / Ритуальные принадлежности','Помощь в организации похорон','Прощальные залы','Воскресные школы','Дацаны','Духовные учебные заведения','Иконописные мастерские','Медресе','Мечети','Молитвенные комнаты','Монастыри','Паломнические поездки','Приходы','Религиозные организации','Религиозные товары','Синагога','Храмы / Соборы / Церкви','Часовни','Радиостанции','Телеканалы','Телекомпании / Радиокомпании','Герои с нашего двора','Отлов бездомных животных','Приюты для животных','Ритуальные услуги для животных','Выгодные покупки с 2ГИС','Ликвидация нефтеразливов / газонефтеводопроявлений','Библиотеки','Библиотечные коллекторы','Городские оркестры','Кинопрокатные компании','Киностудии','Мавзолей','Музеи','Планетарий','Реставрация памятников истории и культуры','Театры','Филармония','Хоровые капеллы','Художественные выставки / Галереи','Аварийные службы','Пожарная охрана','Скорая медицинская помощь','Службы аварийных комиссаров','Службы спасения / экстренного вызова','Справочно-информационные услуги','Телефоны доверия','Управление ГО и ЧС','Штрафстоянки','Эвакуация автомобилей','Администрации поселений','Администрации районов / округов городской власти','Администрации районов / округов региональной власти','Администрация города / городского округа','Администрация области / края','Правительство','Пенсионные фонды','Фонд обязательного медицинского страхования','Фонды социального страхования','Законодательная власть','Представительная власть','Военная комендатура','Военные комиссариаты','Благотворительные фонды','Венчурные фонды','Гарантийные фонды','ГОРПО / РАЙПО','Гранты','Залоговые фонды','Избирательные комиссии','Избирательные участки','Нотариальные палаты','Общественные группы','Общественные организации','Политические партии','Приёмные депутатов','Приёмные Президента','Приёмные Уполномоченных по правам человека','Территориальные общественные самоуправления','Гидрометеослужба','Организации природоохраны','Инспекции','Налоговые инспекции','Оператор системы взимания платы','Органы государственного надзора','Отделы ветеринарно-санитарного контроля','Службы мелиорации земель','Федеральные казначейства','Федеральные службы','Посольства / Консульства','Представительства субъектов РФ','ГИБДД','Главное управление по вопросам миграции МВД РФ','Изоляторы временного содержания / Спецприёмники','Исправительные учреждения','Медвытрезвители','Народные дружины','Общественные пункты охраны порядка','ОМВД / УМВД / ГУМВД / МВД','Отделения полиции','Прокуратура','Следственный комитет','Службы судебных приставов','Судебная / внесудебная экспертиза','Суды','Таможня','Участковые пункты полиции','Государственные архивы','ЗАГСы','Бэби-боксы','Детские дома / Приюты','Дома престарелых','Дома ребёнка','Молочные кухни','МФЦ','Ночлежные дома','Отделы доставки пенсий и пособий','Службы занятости населения','Социальные службы','Центры квотирования рабочих мест','Антиквариат','Багетные мастерские','Подвеска / Подсветка для картин','Филателия / Нумизматика','Художественные мастерские','Художественные товары','Общая рубрика ЗМК','Заказ такси','Спектакли','Детские дома и Приюты','Автовокзалы и Автостанции','Аэропорты','Контрольные браслеты','Онлайн-заправки 2ГИС','Спички','Лицеи-интернаты','Экспертиза авиационных происшествий','Саморегулируемые организации (СРО)','Аренда жид тупика','Ритуальные принадлежности','Железнодорожные вокзалы','Ликвидация нефтеразливов и газонефтеводопроявлений','Больницы','Дома и дворцы культуры','Санатории и Профилактории','Телекомпании и Радиокомпании','Организация театральных и концертных мероприятий','Акиматы районов города','Управление ГО и ЧС', 'ЦОН','ОМВД / УМВД / ГУМВД и МВД ','CD / DVD и BD','Лучшие достопримечательности города','Изоляторы временного содержания и Спецприёмники','Администрации районов и округов городской власти','Администрация города и городского округа','Полицейские академии','Акимат города','Почтовые отделения', 'Взрослые поликлиники', 'Кладбища','Крематории','Памятники / Ритуальные принадлежности','Помощь в организации похорон','Прощальные залы','Воскресные школы','Дацаны','Духовные учебные заведения','Иконописные мастерские','Медресе','Мечети','Молитвенные комнаты','Монастыри','Паломнические поездки','Приходы','Религиозные организации','Религиозные товары','Синагога','Храмы / Соборы / Церкви','Часовни','Радиостанции','Телеканалы','Телекомпании / Радиокомпании','Герои с нашего двора','Отлов бездомных животных','Приюты для животных','Ритуальные услуги для животных','Выгодные покупки с 2ГИС','Ликвидация нефтеразливов / газонефтеводопроявлений','Библиотеки','Библиотечные коллекторы','Городские оркестры','Кинопрокатные компании','Киностудии','Мавзолей','Музеи','Планетарий','Реставрация памятников истории и культуры','Театры','Филармония','Хоровые капеллы','Художественные выставки / Галереи','Аварийные службы','Пожарная охрана','Скорая медицинская помощь','Службы аварийных комиссаров','Службы спасения / экстренного вызова','Справочно-информационные услуги','Телефоны доверия','Управление ГО и ЧС','Штрафстоянки','Эвакуация автомобилей','Администрации поселений','Администрации районов / округов городской власти','Администрации районов / округов региональной власти','Администрация города / городского округа','Администрация области / края','Правительство','Пенсионные фонды','Фонд обязательного медицинского страхования','Фонды социального страхования','Законодательная власть','Представительная власть','Военная комендатура','Военные комиссариаты','Благотворительные фонды','Венчурные фонды','Гарантийные фонды','ГОРПО / РАЙПО','Гранты','Залоговые фонды','Избирательные комиссии','Избирательные участки','Нотариальные палаты','Общественные группы','Общественные организации','Политические партии','Приёмные депутатов','Приёмные Президента','Приёмные Уполномоченных по правам человека','Территориальные общественные самоуправления','Гидрометеослужба','Организации природоохраны','Инспекции','Налоговые инспекции','Оператор системы взимания платы','Органы государственного надзора','Отделы ветеринарно-санитарного контроля','Службы мелиорации земель','Федеральные казначейства','Федеральные службы','Посольства / Консульства','Представительства субъектов РФ','ГИБДД','Главное управление по вопросам миграции МВД РФ','Изоляторы временного содержания / Спецприёмники','Исправительные учреждения','Медвытрезвители','Народные дружины','Общественные пункты охраны порядка','ОМВД / УМВД / ГУМВД / МВД','Отделения полиции','Прокуратура','Следственный комитет','Службы судебных приставов','Судебная / внесудебная экспертиза','Суды','Таможня','Участковые пункты полиции','Государственные архивы','ЗАГСы','Бэби-боксы','Детские дома / Приюты','Дома престарелых','Дома ребёнка','Молочные кухни','МФЦ','Ночлежные дома','Отделы доставки пенсий и пособий','Службы занятости населения','Социальные службы','Центры квотирования рабочих мест','Воскресные школы','Дацаны','Духовные учебные заведения','Иконописные мастерские','Медресе','Мечети','Молитвенные комнаты','Монастыри','Паломнические поездки','Приходы','Религиозные организации','Религиозные товары','Синагога','Храмы / Соборы / Церкви','Часовни','Антиквариат','Багетные мастерские','Подвеска / Подсветка для картин','Филателия / Нумизматика','Художественные мастерские','Художественные товары','Банкоматы', 'Железнодорожные вокзалы', 'Музеи','Центры паровых коктейлей', 'Школы', 'Университеты', 'Больницы','Табачные изделия / Товары для курения','Художественные выставки / Галереи','Научно-исследовательские институты', 'Храмы / Соборы / Церкви', 'Студенческие общежития'\n",
    "]\n",
    "city = 'Москва'\n",
    "df_all = pd.read_parquet(f'files/ten_city/df_dates_users_city_agg2')\n",
    "#df_all = df_all[df_all['city'] == city]\n",
    "df_all['city_rubric'] = df_all['city'] + '. ' + df_all['rubric']\n",
    "df_all = df_all[~df_all.rubric.apply(lambda x: (x is None or x.isnumeric()))]\n",
    "df_all['cnt_all'] = df_all.groupby('city_rubric')['cnt_requests'].transform(np.sum)\n",
    "df_all = df_all.drop(['date_r', 'cnt_requests', 'cnt_users'], axis=1).drop_duplicates()\n",
    "df_all = df_all.sort_values(['cnt_all'], ascending=False).reset_index().reset_index().set_index('level_0').drop('index', axis=1)\n",
    "df_all['cnt_city_rubric'] = df_all['cnt_all'].astype(str) + '_' + df_all['city_rubric'] + '. ' + 'Запросы'\n",
    "df_requests = df_all.copy()\n",
    "\n",
    "df_all = pd.read_parquet(f'files/ten_city/df_dates_users_city_agg2')\n",
    "#df_all = df_all[df_all['city'] == city]\n",
    "df_all['city_rubric'] = df_all['city'] + '. ' + df_all['rubric']\n",
    "df_all = df_all[~df_all.rubric.apply(lambda x: (x is None or x.isnumeric()))]\n",
    "df_all['cnt_all'] = df_all.groupby('city_rubric')['cnt_users'].transform(np.sum)\n",
    "df_all = df_all.drop(['date_r', 'cnt_requests', 'cnt_users'], axis=1).drop_duplicates()\n",
    "df_all = df_all.sort_values(['cnt_all'], ascending=False).reset_index().reset_index().set_index('level_0').drop('index', axis=1)\n",
    "df_all['cnt_city_rubric'] = df_all['cnt_all'].astype(str) + '_' + df_all['city_rubric'] + '. ' + 'Пользователи'\n",
    "df_users = df_all.copy()\n",
    "\n",
    "df_1000 = pd.concat([df_requests, df_users])\n",
    "df_1000 = df_1000[df_1000.rubric.apply(lambda x: x not in exclude_rubrics)]\n",
    "df_1000['param'] = df_1000.cnt_city_rubric.apply(lambda x: x.split('. ')[2])\n",
    "\n",
    "df_1000['r_cnt'] = df_1000.groupby('rubric')['cnt_all'].transform(np.sum)\n",
    "df_1000_1 = df_1000.sort_values(['r_cnt', 'city'], ascending=[False, True]).rename({'cnt_city_rubric':'cnt_city_rubric_param'}, axis=1)\n",
    "df_1000_1['city_rubric_param'] = df_1000_1['city_rubric'] + '. ' + df_1000_1['param']\n",
    "\n",
    "rubrics = [*df_1000_1.rubric.drop_duplicates().values]\n",
    "cities = [*df_1000_1.city.unique()] * 139\n",
    "params = [*df_1000_1.param.values]\n",
    "\n",
    "iter_set = list(zip(rubrics, cities, params))\n",
    "iter_df = pd.DataFrame(iter_set, columns=['rubric', 'city', 'param'])\n",
    "iter_df['city_rubric_param'] = iter_df['city'] + '. ' + iter_df['rubric'] + '. ' + iter_df['param']\n",
    "iter_df = df_1000_1[['city_rubric_param', 'cnt_city_rubric_param']].merge(iter_df, left_on='city_rubric_param', right_on='city_rubric_param')\n",
    "\n",
    "## Переменные формулы\n",
    "df1 = pd.read_parquet(f'files/ten_city/df_dates_users_city_agg2')\n",
    "#df1 = df1[df1['city'] == city]\n",
    "df1['city_rubric_param'] = df1['city'] + '. ' + df1['rubric'] + '. ' + 'Пользователи'\n",
    "df1 = df1[['date_r', 'cnt_users', 'city_rubric_param']].rename({'cnt_users':'cnt'}, axis=1)\n",
    "\n",
    "df2 = pd.read_parquet(f'files/ten_city/df_dates_users_city_agg2')\n",
    "#df2 = df2[df2['city'] == city]\n",
    "df2['city_rubric_param'] = df2['city'] + '. ' + df2['rubric'] + '. ' + 'Запросы'\n",
    "df2 = df2[['date_r', 'cnt_requests', 'city_rubric_param']].rename({'cnt_requests':'cnt'}, axis=1)\n",
    "df_dates_users = pd.concat([df1, df2])\n",
    "df_dates_users['cnt_all'] = df_dates_users.groupby('city_rubric_param')['cnt'].transform(np.sum)\n",
    "df_dates_users['city_rubric_param_cnt'] = df_dates_users['cnt_all'].astype(str) + '_' + df_dates_users['city_rubric_param']\n",
    "\n",
    "dfx = pd.pivot_table(df_dates_users, values='cnt', aggfunc='sum', index=['date_r'], columns=['city_rubric_param_cnt'])\n",
    "dfx = dfx.loc[:,iter_df.cnt_city_rubric_param]\n",
    "t = dfx.corr().fillna(0).astype(np.float16)\n",
    "\n",
    "t = t.rename_axis([None]).rename_axis([None], axis=1)\n",
    "t1 = t.stack()\n",
    "t1 = t1.reset_index()\n",
    "t1.columns = ['r1', 'r2', 'corr']\n",
    "t1 = t1[t1.r1 != t1.r2]\n",
    "\n",
    "t1_100 = t1 #df_100.merge(t1, left_on='cnt_city_rubric', right_on='r1')\n",
    "\n",
    "t1_100['r1_cnt'] = t1_100.r1.apply(lambda x: x.split('_')[0])\n",
    "t1_100['r2_cnt'] = t1_100.r2.apply(lambda x: x.split('_')[0])\n",
    "\n",
    "t1_100.r1 = t1_100.r1.apply(lambda x: x.split('_')[1])\n",
    "t1_100.r2 = t1_100.r2.apply(lambda x: x.split('_')[1])\n",
    "t1_100['r1_city'] = t1_100.r1.apply(lambda x: x.split('. ')[0])\n",
    "t1_100['r2_city'] = t1_100.r2.apply(lambda x: x.split('. ')[0])\n",
    "t1_100['r1_rubric'] = t1_100.r1.apply(lambda x: x.split('. ')[1])\n",
    "t1_100['r2_rubric'] = t1_100.r2.apply(lambda x: x.split('. ')[1])\n",
    "t1_100['r1_param'] = t1_100.r1.apply(lambda x: x.split('. ')[2])\n",
    "t1_100['r2_param'] = t1_100.r2.apply(lambda x: x.split('. ')[2])\n",
    "\n",
    "t1_100.r1_cnt = t1_100.r1_cnt.astype(int)\n",
    "t1_100.r2_cnt = t1_100.r2_cnt.astype(int)\n",
    "\n",
    "#t1_100 = t1_100[t1_100.r2_cnt > 1000]\n",
    "\n",
    "t1_100 = t1_100[['r1_city', 'r1_rubric', 'r1_param', 'r2_city', 'r2_rubric', 'r2_param', 'corr', 'r1_cnt', 'r2_cnt']]\n",
    "\n",
    "iter_set = list(zip(rubrics, cities, params))\n",
    "\n",
    "new_set = list(set(zip(list(t1_100['r1_rubric'].values), list(t1_100['r1_city'].values))))\n",
    "\n",
    "iter_set = [i for i in iter_set if i[:2] in new_set]"
   ]
  },
  {
   "cell_type": "code",
   "execution_count": 54,
   "id": "3dc64d69-3717-4067-9602-4b88525b8e02",
   "metadata": {
    "execution": {
     "iopub.execute_input": "2023-06-07T19:38:04.998504Z",
     "iopub.status.busy": "2023-06-07T19:38:04.998504Z",
     "iopub.status.idle": "2023-06-07T19:38:37.622751Z",
     "shell.execute_reply": "2023-06-07T19:38:37.621755Z",
     "shell.execute_reply.started": "2023-06-07T19:38:04.998504Z"
    },
    "tags": []
   },
   "outputs": [
    {
     "data": {
      "application/vnd.jupyter.widget-view+json": {
       "model_id": "",
       "version_major": 2,
       "version_minor": 0
      },
      "text/plain": [
       "  0%|          | 0/3 [00:00<?, ?it/s]"
      ]
     },
     "metadata": {},
     "output_type": "display_data"
    },
    {
     "name": "stdout",
     "output_type": "stream",
     "text": [
      "Алкогольные напитки Новосибирск\n",
      "Бытовая техника СПБ\n",
      "Услуги косметолога Ташкент\n"
     ]
    },
    {
     "data": {
      "application/vnd.jupyter.widget-view+json": {
       "model_id": "",
       "version_major": 2,
       "version_minor": 0
      },
      "text/plain": [
       "  0%|          | 0/3 [00:00<?, ?it/s]"
      ]
     },
     "metadata": {},
     "output_type": "display_data"
    },
    {
     "name": "stdout",
     "output_type": "stream",
     "text": [
      "Зоотовары Алматы\n",
      "Продажа легковых автомобилей Астана\n",
      "Канцелярские товары / Учебные принадлежности Бишкек\n"
     ]
    },
    {
     "data": {
      "application/vnd.jupyter.widget-view+json": {
       "model_id": "",
       "version_major": 2,
       "version_minor": 0
      },
      "text/plain": [
       "  0%|          | 0/3 [00:00<?, ?it/s]"
      ]
     },
     "metadata": {},
     "output_type": "display_data"
    },
    {
     "name": "stdout",
     "output_type": "stream",
     "text": [
      "Хостелы Новосибирск\n",
      "Колледжи ОАЭ\n",
      "Автозапчасти для иномарок СПБ\n"
     ]
    }
   ],
   "source": [
    "dfo = pd.read_excel(r\"C:\\Users\\Mamed\\Downloads\\Рубрикатор_230605_0030_отметки красным.xlsx\")[['Отрасль', 'Рубрика']].dropna(subset='Отрасль')\n",
    "t1_100_all = t1_100\n",
    "t1_100_city = t1_100#[(t1_100.r1_city == result_city) & (t1_100.r2_city == variables_city) & (t1_100.r1_param == result_param) & (t1_100.r2_param == variables_param)]\n",
    "r_list = [iter_df.iloc[:55]]\n",
    "\n",
    "### f13\n",
    "df_list = []\n",
    "for rubric, city, param  in tqdm(iter_set[46:49]):\n",
    "    print(rubric, city)\n",
    "    f1_i = t1_100_all[(t1_100_all.r1_city == city) & (t1_100_all.r1_rubric == rubric)]\n",
    "    f1_i.sort_values(['corr', 'r2_cnt'], ascending=[False,False], inplace=True)\n",
    "    f1_i = f1_i.merge(dfo, left_on='r1_rubric', right_on='Рубрика').drop('Рубрика',axis=1).rename({'Отрасль':'r1_otrasl'}, axis=1)\n",
    "    f1_i = f1_i.merge(dfo, left_on='r2_rubric', right_on='Рубрика').drop('Рубрика',axis=1).rename({'Отрасль':'r2_otrasl'}, axis=1)\n",
    "    f1_i = f1_i[f1_i['r1_otrasl'] == f1_i['r2_otrasl']]\n",
    "    f1_i = f1_i[f1_i.r2_rubric.apply(lambda x: (x not in pd.concat(r_list).values) & (len(x) <= 50) & (x not in f1_i.r1_rubric.values))].drop_duplicates(subset='r2_rubric', keep=\"first\")\n",
    "    f1_i = f1_i.iloc[:20]\n",
    "    f1_i['avg_corr'] = f1_i['corr'].mean()\n",
    "    r_list.append(f1_i.r1_rubric.drop_duplicates())\n",
    "    r_list.append(f1_i.r2_rubric.drop_duplicates())\n",
    "    df_list.append(f1_i)\n",
    "f13 = pd.concat(df_list)\n",
    "f13['group'] = 'f13'\n",
    "\n",
    "\n",
    "### f14\n",
    "df_list = []\n",
    "for rubric, city, param  in tqdm(iter_set[49:52]):\n",
    "    print(rubric, city)\n",
    "    f1_i = t1_100_all[(t1_100_all.r1_city == city) & (t1_100_all.r1_rubric == rubric)]\n",
    "    f1_i.sort_values(['corr', 'r2_cnt'], ascending=[False,False], inplace=True)\n",
    "    f1_i = f1_i.merge(dfo, left_on='r1_rubric', right_on='Рубрика').drop('Рубрика',axis=1).rename({'Отрасль':'r1_otrasl'}, axis=1)\n",
    "    f1_i = f1_i.merge(dfo, left_on='r2_rubric', right_on='Рубрика').drop('Рубрика',axis=1).rename({'Отрасль':'r2_otrasl'}, axis=1)\n",
    "    f1_i = f1_i[f1_i['r1_otrasl'] != f1_i['r2_otrasl']]\n",
    "    f1_i = f1_i[f1_i.r2_rubric.apply(lambda x: (x not in pd.concat(r_list).values) & (len(x) <= 50) & (x not in f1_i.r1_rubric.values))].drop_duplicates(subset='r2_rubric', keep=\"first\")\n",
    "    f1_i = f1_i.iloc[:20]\n",
    "    f1_i['avg_corr'] = f1_i['corr'].mean()\n",
    "    r_list.append(f1_i.r1_rubric.drop_duplicates())\n",
    "    r_list.append(f1_i.r2_rubric.drop_duplicates())\n",
    "    df_list.append(f1_i)\n",
    "f14 = pd.concat(df_list)\n",
    "f14['group'] = 'f14'\n",
    "\n",
    "\n",
    "### f15\n",
    "df_list = []\n",
    "for rubric, city, param  in tqdm(iter_set[55:58]):\n",
    "    print(rubric, city)\n",
    "    f1_i = t1_100_all[(t1_100_all.r1_city == city) & (t1_100_all.r1_rubric == rubric)]\n",
    "    f1_i.sort_values(['corr', 'r2_cnt'], ascending=[False,False], inplace=True)\n",
    "    f1_i = f1_i.merge(dfo, left_on='r1_rubric', right_on='Рубрика').drop('Рубрика',axis=1).rename({'Отрасль':'r1_otrasl'}, axis=1)\n",
    "    f1_i = f1_i.merge(dfo, left_on='r2_rubric', right_on='Рубрика').drop('Рубрика',axis=1).rename({'Отрасль':'r2_otrasl'}, axis=1)\n",
    "    f1_i = f1_i[f1_i.r2_rubric.apply(lambda x: (x not in pd.concat(r_list).values) & (len(x) <= 50) & (x not in f1_i.r1_rubric.values))].drop_duplicates(subset='r2_rubric', keep=\"first\")\n",
    "    f1_i_1 = f1_i[f1_i['r1_otrasl'] != f1_i['r2_otrasl']].iloc[:10]\n",
    "    f1_i_2 = f1_i[f1_i['r1_otrasl'] == f1_i['r2_otrasl']].iloc[:10]\n",
    "    f1_i = pd.concat([f1_i_1, f1_i_2])\n",
    "    f1_i['avg_corr'] = f1_i['corr'].mean()\n",
    "    r_list.append(f1_i.r1_rubric.drop_duplicates())\n",
    "    r_list.append(f1_i.r2_rubric.drop_duplicates())\n",
    "    df_list.append(f1_i)\n",
    "f15 = pd.concat(df_list)\n",
    "f15['group'] = 'f15'"
   ]
  },
  {
   "cell_type": "code",
   "execution_count": 55,
   "id": "31b91476-6903-4f19-9257-f6e303679e5c",
   "metadata": {
    "execution": {
     "iopub.execute_input": "2023-06-07T19:38:49.072009Z",
     "iopub.status.busy": "2023-06-07T19:38:49.072009Z",
     "iopub.status.idle": "2023-06-07T20:06:12.992887Z",
     "shell.execute_reply": "2023-06-07T20:06:12.991880Z",
     "shell.execute_reply.started": "2023-06-07T19:38:49.072009Z"
    },
    "tags": []
   },
   "outputs": [
    {
     "data": {
      "application/vnd.jupyter.widget-view+json": {
       "model_id": "",
       "version_major": 2,
       "version_minor": 0
      },
      "text/plain": [
       "  0%|          | 0/3 [00:00<?, ?it/s]"
      ]
     },
     "metadata": {},
     "output_type": "display_data"
    },
    {
     "data": {
      "application/vnd.jupyter.widget-view+json": {
       "model_id": "",
       "version_major": 2,
       "version_minor": 0
      },
      "text/plain": [
       "  0%|          | 0/3 [00:00<?, ?it/s]"
      ]
     },
     "metadata": {},
     "output_type": "display_data"
    },
    {
     "data": {
      "application/vnd.jupyter.widget-view+json": {
       "model_id": "",
       "version_major": 2,
       "version_minor": 0
      },
      "text/plain": [
       "  0%|          | 0/3 [00:00<?, ?it/s]"
      ]
     },
     "metadata": {},
     "output_type": "display_data"
    },
    {
     "data": {
      "application/vnd.jupyter.widget-view+json": {
       "model_id": "",
       "version_major": 2,
       "version_minor": 0
      },
      "text/plain": [
       "  0%|          | 0/3 [00:00<?, ?it/s]"
      ]
     },
     "metadata": {},
     "output_type": "display_data"
    },
    {
     "data": {
      "application/vnd.jupyter.widget-view+json": {
       "model_id": "",
       "version_major": 2,
       "version_minor": 0
      },
      "text/plain": [
       "  0%|          | 0/3 [00:00<?, ?it/s]"
      ]
     },
     "metadata": {},
     "output_type": "display_data"
    },
    {
     "data": {
      "application/vnd.jupyter.widget-view+json": {
       "model_id": "",
       "version_major": 2,
       "version_minor": 0
      },
      "text/plain": [
       "  0%|          | 0/3 [00:00<?, ?it/s]"
      ]
     },
     "metadata": {},
     "output_type": "display_data"
    },
    {
     "data": {
      "application/vnd.jupyter.widget-view+json": {
       "model_id": "",
       "version_major": 2,
       "version_minor": 0
      },
      "text/plain": [
       "  0%|          | 0/3 [00:00<?, ?it/s]"
      ]
     },
     "metadata": {},
     "output_type": "display_data"
    },
    {
     "data": {
      "application/vnd.jupyter.widget-view+json": {
       "model_id": "",
       "version_major": 2,
       "version_minor": 0
      },
      "text/plain": [
       "  0%|          | 0/3 [00:00<?, ?it/s]"
      ]
     },
     "metadata": {},
     "output_type": "display_data"
    },
    {
     "data": {
      "application/vnd.jupyter.widget-view+json": {
       "model_id": "",
       "version_major": 2,
       "version_minor": 0
      },
      "text/plain": [
       "  0%|          | 0/3 [00:00<?, ?it/s]"
      ]
     },
     "metadata": {},
     "output_type": "display_data"
    },
    {
     "data": {
      "application/vnd.jupyter.widget-view+json": {
       "model_id": "",
       "version_major": 2,
       "version_minor": 0
      },
      "text/plain": [
       "  0%|          | 0/3 [00:00<?, ?it/s]"
      ]
     },
     "metadata": {},
     "output_type": "display_data"
    },
    {
     "data": {
      "application/vnd.jupyter.widget-view+json": {
       "model_id": "",
       "version_major": 2,
       "version_minor": 0
      },
      "text/plain": [
       "  0%|          | 0/3 [00:00<?, ?it/s]"
      ]
     },
     "metadata": {},
     "output_type": "display_data"
    },
    {
     "data": {
      "application/vnd.jupyter.widget-view+json": {
       "model_id": "",
       "version_major": 2,
       "version_minor": 0
      },
      "text/plain": [
       "  0%|          | 0/3 [00:00<?, ?it/s]"
      ]
     },
     "metadata": {},
     "output_type": "display_data"
    },
    {
     "name": "stdout",
     "output_type": "stream",
     "text": [
      "CPU times: total: 11min 27s\n",
      "Wall time: 27min 23s\n"
     ]
    },
    {
     "data": {
      "text/html": [
       "<div>\n",
       "<style scoped>\n",
       "    .dataframe tbody tr th:only-of-type {\n",
       "        vertical-align: middle;\n",
       "    }\n",
       "\n",
       "    .dataframe tbody tr th {\n",
       "        vertical-align: top;\n",
       "    }\n",
       "\n",
       "    .dataframe thead th {\n",
       "        text-align: right;\n",
       "    }\n",
       "</style>\n",
       "<table border=\"1\" class=\"dataframe\">\n",
       "  <thead>\n",
       "    <tr style=\"text-align: right;\">\n",
       "      <th></th>\n",
       "      <th>r1_city</th>\n",
       "      <th>r1_rubric</th>\n",
       "      <th>r1_param</th>\n",
       "      <th>r2_city</th>\n",
       "      <th>r2_rubric</th>\n",
       "      <th>r2_param</th>\n",
       "      <th>corr</th>\n",
       "      <th>r1_cnt</th>\n",
       "      <th>r2_cnt</th>\n",
       "      <th>avg_corr</th>\n",
       "      <th>r1_rubric_city</th>\n",
       "      <th>r2_rubric_city</th>\n",
       "    </tr>\n",
       "    <tr>\n",
       "      <th>group</th>\n",
       "      <th></th>\n",
       "      <th></th>\n",
       "      <th></th>\n",
       "      <th></th>\n",
       "      <th></th>\n",
       "      <th></th>\n",
       "      <th></th>\n",
       "      <th></th>\n",
       "      <th></th>\n",
       "      <th></th>\n",
       "      <th></th>\n",
       "      <th></th>\n",
       "    </tr>\n",
       "  </thead>\n",
       "  <tbody>\n",
       "    <tr>\n",
       "      <th>f1</th>\n",
       "      <td>60</td>\n",
       "      <td>60</td>\n",
       "      <td>60</td>\n",
       "      <td>60</td>\n",
       "      <td>60</td>\n",
       "      <td>60</td>\n",
       "      <td>60</td>\n",
       "      <td>60</td>\n",
       "      <td>60</td>\n",
       "      <td>60</td>\n",
       "      <td>60</td>\n",
       "      <td>60</td>\n",
       "    </tr>\n",
       "    <tr>\n",
       "      <th>f10</th>\n",
       "      <td>60</td>\n",
       "      <td>60</td>\n",
       "      <td>60</td>\n",
       "      <td>60</td>\n",
       "      <td>60</td>\n",
       "      <td>60</td>\n",
       "      <td>60</td>\n",
       "      <td>60</td>\n",
       "      <td>60</td>\n",
       "      <td>60</td>\n",
       "      <td>60</td>\n",
       "      <td>60</td>\n",
       "    </tr>\n",
       "    <tr>\n",
       "      <th>f11</th>\n",
       "      <td>60</td>\n",
       "      <td>60</td>\n",
       "      <td>60</td>\n",
       "      <td>60</td>\n",
       "      <td>60</td>\n",
       "      <td>60</td>\n",
       "      <td>60</td>\n",
       "      <td>60</td>\n",
       "      <td>60</td>\n",
       "      <td>60</td>\n",
       "      <td>60</td>\n",
       "      <td>60</td>\n",
       "    </tr>\n",
       "    <tr>\n",
       "      <th>f12</th>\n",
       "      <td>60</td>\n",
       "      <td>60</td>\n",
       "      <td>60</td>\n",
       "      <td>60</td>\n",
       "      <td>60</td>\n",
       "      <td>60</td>\n",
       "      <td>60</td>\n",
       "      <td>60</td>\n",
       "      <td>60</td>\n",
       "      <td>60</td>\n",
       "      <td>60</td>\n",
       "      <td>60</td>\n",
       "    </tr>\n",
       "    <tr>\n",
       "      <th>f2</th>\n",
       "      <td>60</td>\n",
       "      <td>60</td>\n",
       "      <td>60</td>\n",
       "      <td>60</td>\n",
       "      <td>60</td>\n",
       "      <td>60</td>\n",
       "      <td>60</td>\n",
       "      <td>60</td>\n",
       "      <td>60</td>\n",
       "      <td>60</td>\n",
       "      <td>60</td>\n",
       "      <td>60</td>\n",
       "    </tr>\n",
       "    <tr>\n",
       "      <th>f3</th>\n",
       "      <td>60</td>\n",
       "      <td>60</td>\n",
       "      <td>60</td>\n",
       "      <td>60</td>\n",
       "      <td>60</td>\n",
       "      <td>60</td>\n",
       "      <td>60</td>\n",
       "      <td>60</td>\n",
       "      <td>60</td>\n",
       "      <td>60</td>\n",
       "      <td>60</td>\n",
       "      <td>60</td>\n",
       "    </tr>\n",
       "    <tr>\n",
       "      <th>f4</th>\n",
       "      <td>60</td>\n",
       "      <td>60</td>\n",
       "      <td>60</td>\n",
       "      <td>60</td>\n",
       "      <td>60</td>\n",
       "      <td>60</td>\n",
       "      <td>60</td>\n",
       "      <td>60</td>\n",
       "      <td>60</td>\n",
       "      <td>60</td>\n",
       "      <td>60</td>\n",
       "      <td>60</td>\n",
       "    </tr>\n",
       "    <tr>\n",
       "      <th>f5</th>\n",
       "      <td>60</td>\n",
       "      <td>60</td>\n",
       "      <td>60</td>\n",
       "      <td>60</td>\n",
       "      <td>60</td>\n",
       "      <td>60</td>\n",
       "      <td>60</td>\n",
       "      <td>60</td>\n",
       "      <td>60</td>\n",
       "      <td>60</td>\n",
       "      <td>60</td>\n",
       "      <td>60</td>\n",
       "    </tr>\n",
       "    <tr>\n",
       "      <th>f6</th>\n",
       "      <td>60</td>\n",
       "      <td>60</td>\n",
       "      <td>60</td>\n",
       "      <td>60</td>\n",
       "      <td>60</td>\n",
       "      <td>60</td>\n",
       "      <td>60</td>\n",
       "      <td>60</td>\n",
       "      <td>60</td>\n",
       "      <td>60</td>\n",
       "      <td>60</td>\n",
       "      <td>60</td>\n",
       "    </tr>\n",
       "    <tr>\n",
       "      <th>f7</th>\n",
       "      <td>60</td>\n",
       "      <td>60</td>\n",
       "      <td>60</td>\n",
       "      <td>60</td>\n",
       "      <td>60</td>\n",
       "      <td>60</td>\n",
       "      <td>60</td>\n",
       "      <td>60</td>\n",
       "      <td>60</td>\n",
       "      <td>60</td>\n",
       "      <td>60</td>\n",
       "      <td>60</td>\n",
       "    </tr>\n",
       "    <tr>\n",
       "      <th>f8</th>\n",
       "      <td>60</td>\n",
       "      <td>60</td>\n",
       "      <td>60</td>\n",
       "      <td>60</td>\n",
       "      <td>60</td>\n",
       "      <td>60</td>\n",
       "      <td>60</td>\n",
       "      <td>60</td>\n",
       "      <td>60</td>\n",
       "      <td>60</td>\n",
       "      <td>60</td>\n",
       "      <td>60</td>\n",
       "    </tr>\n",
       "    <tr>\n",
       "      <th>f9</th>\n",
       "      <td>60</td>\n",
       "      <td>60</td>\n",
       "      <td>60</td>\n",
       "      <td>60</td>\n",
       "      <td>60</td>\n",
       "      <td>60</td>\n",
       "      <td>60</td>\n",
       "      <td>60</td>\n",
       "      <td>60</td>\n",
       "      <td>60</td>\n",
       "      <td>60</td>\n",
       "      <td>60</td>\n",
       "    </tr>\n",
       "  </tbody>\n",
       "</table>\n",
       "</div>"
      ],
      "text/plain": [
       "       r1_city  r1_rubric  r1_param  r2_city  r2_rubric  r2_param  corr  \\\n",
       "group                                                                     \n",
       "f1          60         60        60       60         60        60    60   \n",
       "f10         60         60        60       60         60        60    60   \n",
       "f11         60         60        60       60         60        60    60   \n",
       "f12         60         60        60       60         60        60    60   \n",
       "f2          60         60        60       60         60        60    60   \n",
       "f3          60         60        60       60         60        60    60   \n",
       "f4          60         60        60       60         60        60    60   \n",
       "f5          60         60        60       60         60        60    60   \n",
       "f6          60         60        60       60         60        60    60   \n",
       "f7          60         60        60       60         60        60    60   \n",
       "f8          60         60        60       60         60        60    60   \n",
       "f9          60         60        60       60         60        60    60   \n",
       "\n",
       "       r1_cnt  r2_cnt  avg_corr  r1_rubric_city  r2_rubric_city  \n",
       "group                                                            \n",
       "f1         60      60        60              60              60  \n",
       "f10        60      60        60              60              60  \n",
       "f11        60      60        60              60              60  \n",
       "f12        60      60        60              60              60  \n",
       "f2         60      60        60              60              60  \n",
       "f3         60      60        60              60              60  \n",
       "f4         60      60        60              60              60  \n",
       "f5         60      60        60              60              60  \n",
       "f6         60      60        60              60              60  \n",
       "f7         60      60        60              60              60  \n",
       "f8         60      60        60              60              60  \n",
       "f9         60      60        60              60              60  "
      ]
     },
     "execution_count": 55,
     "metadata": {},
     "output_type": "execute_result"
    }
   ],
   "source": [
    "%%time\n",
    "### f1\n",
    "\n",
    "\n",
    "\n",
    "df_list = []\n",
    "for rubric, city, param  in tqdm(iter_set[:3]):\n",
    "    f1_i = t1_100_city[(t1_100_city.r1_city == city) & (t1_100_city.r1_rubric == rubric)].sort_values(['corr', 'r2_cnt'], ascending=[False,False])\n",
    "    f1_i = f1_i[f1_i.r2_rubric.apply(lambda x: (x not in pd.concat(r_list).values) & (len(x) <= 50) & (x not in f1_i.r1_rubric.values))].drop_duplicates(subset='r2_rubric', keep=\"first\")\n",
    "    f1_i = f1_i.iloc[:20]\n",
    "    f1_i['avg_corr'] = f1_i['corr'].mean()\n",
    "    r_list.append(f1_i.r1_rubric.drop_duplicates())\n",
    "    r_list.append(f1_i.r2_rubric.drop_duplicates())\n",
    "    df_list.append(f1_i)\n",
    "f1 = pd.concat(df_list)\n",
    "f1['group'] = 'f1'\n",
    "\n",
    "### f2\n",
    "df_list = []\n",
    "for rubric, city, param  in tqdm(iter_set[3:6]):\n",
    "    f1_i = t1_100_city[(t1_100_city.r1_city == city) & (t1_100_city.r1_rubric == rubric)].sort_values(['corr', 'r2_cnt'], ascending=[True,False])\n",
    "    f1_i = f1_i[f1_i.r2_rubric.apply(lambda x: (x not in pd.concat(r_list).values) & (len(x) <= 50) & (x not in f1_i.r1_rubric.values))].drop_duplicates(subset='r2_rubric', keep=\"first\")\n",
    "    f1_i = f1_i.iloc[:20]\n",
    "    f1_i['avg_corr'] = f1_i['corr'].mean()\n",
    "    r_list.append(f1_i.r1_rubric.drop_duplicates())\n",
    "    r_list.append(f1_i.r2_rubric.drop_duplicates())\n",
    "    df_list.append(f1_i)\n",
    "f2 = pd.concat(df_list)\n",
    "f2['group'] = 'f2'\n",
    "\n",
    "### f3\n",
    "df_list = []\n",
    "for rubric, city, param  in tqdm(iter_set[6:9]):\n",
    "    t1_c1 = t1_100_city[(t1_100_city.r1_city == city) & (t1_100_city.r1_rubric == rubric)]\n",
    "    t1_c1['corr_abs'] = t1_c1['corr'].abs()\n",
    "    t1_c1.sort_values(['corr_abs', 'r2_cnt'], ascending=[False,False], inplace=True)\n",
    "    f1_i = t1_c1.iloc[:]\n",
    "    f1_i = f1_i[f1_i.r2_rubric.apply(lambda x: (x not in pd.concat(r_list).values) & (len(x) <= 50) & (x not in f1_i.r1_rubric.values))].drop_duplicates(subset='r2_rubric', keep=\"first\")\n",
    "    f1_i = f1_i.iloc[:20].drop('corr_abs', axis=1)\n",
    "    f1_i['avg_corr'] = f1_i['corr'].mean()\n",
    "    r_list.append(f1_i.r1_rubric.drop_duplicates())\n",
    "    r_list.append(f1_i.r2_rubric.drop_duplicates())\n",
    "    df_list.append(f1_i)\n",
    "f3 = pd.concat(df_list)\n",
    "f3['group'] = 'f3'\n",
    "\n",
    "### f4\n",
    "#### органическая – для построения тренда используются смысловые ряды переменных: запросы базируются на запросах, пользователи на пользователях, динамика на динамике, схожесть на схожести\n",
    "df_list = []\n",
    "for rubric, city, param  in tqdm(iter_set[12:15]):\n",
    "    f1_i = t1_100_city[(t1_100_city.r1_city == city) & (t1_100_city.r1_rubric == rubric) & ((t1_100_city.r1_param == t1_100_city.r2_param) & (t1_100_city.r2_param == param))].sort_values(['corr', 'r2_cnt'], ascending=[False,False])\n",
    "    f1_i = f1_i[f1_i.r2_rubric.apply(lambda x: (x not in pd.concat(r_list).values) & (len(x) <= 50) & (x not in f1_i.r1_rubric.values))].drop_duplicates(subset='r2_rubric', keep=\"first\")\n",
    "    f1_i = f1_i.iloc[:20]\n",
    "    f1_i['avg_corr'] = f1_i['corr'].mean()\n",
    "    r_list.append(f1_i.r1_rubric.drop_duplicates())\n",
    "    r_list.append(f1_i.r2_rubric.drop_duplicates())\n",
    "    df_list.append(f1_i)\n",
    "f4 = pd.concat(df_list).sort_values(['r1_city','r1_rubric','r1_param'])\n",
    "f4['group'] = 'f4'\n",
    "\n",
    "### f5\n",
    "\n",
    "#### синтетическая – в формулу замешиваются показатели наибольшей предсказательной силы, без учёта их физической природы\n",
    "df_list = []\n",
    "for rubric, city, param  in tqdm(iter_set[15:18]):\n",
    "    t1_c1 = t1_100_city[(t1_100_city.r1_city == city) & (t1_100_city.r1_rubric == rubric)].sort_values(['corr', 'r2_cnt'], ascending=[False,False])\n",
    "    f1_i = t1_c1.iloc[:]\n",
    "    f1_i = f1_i[f1_i.r2_rubric.apply(lambda x: (x not in pd.concat(r_list).values) & (len(x) <= 50) & (x not in f1_i.r1_rubric.values))].drop_duplicates(subset='r2_rubric', keep=\"first\")\n",
    "    f1_i = f1_i.iloc[:20]\n",
    "    f1_i['avg_corr'] = f1_i['corr'].mean()\n",
    "    r_list.append(f1_i.r1_rubric.drop_duplicates())\n",
    "    r_list.append(f1_i.r2_rubric.drop_duplicates())\n",
    "    df_list.append(f1_i)\n",
    "f5 = pd.concat(df_list).sort_values(['r1_city','r1_rubric','r1_param'])\n",
    "f5['group'] = 'f5'\n",
    "\n",
    "### f6\n",
    "\n",
    "#### адаптационная – задействуется оптимизационный алгоритм вариативности, чередующий переменные, не допуская преобладания единственного типа.\n",
    "df_list = []\n",
    "for rubric, city, param  in tqdm(iter_set[18:21]):\n",
    "    f1_1 = t1_100_city[(t1_100_city.r1_city == city) & (t1_100_city.r1_rubric == rubric) & (t1_100_city.r2_param == 'Пользователи')].sort_values(['corr', 'r2_cnt'], ascending=[False,False])\n",
    "    f1_1 = f1_1[f1_1.r2_rubric.apply(lambda x: (x not in pd.concat(r_list).values) & (len(x) <= 50) & (x not in f1_i.r1_rubric.values))].drop_duplicates(subset='r2_rubric', keep=\"first\")\n",
    "    f1_1 = f1_1.iloc[:10]\n",
    "    r_list.append(f1_1.r1_rubric.drop_duplicates())\n",
    "    r_list.append(f1_1.r2_rubric.drop_duplicates())\n",
    "    \n",
    "    f1_2 = t1_100_city[(t1_100_city.r1_city == city) & (t1_100_city.r1_rubric == rubric) & (t1_100_city.r2_param == 'Запросы')].sort_values(['corr', 'r2_cnt'], ascending=[False,False])\n",
    "    f1_2 = f1_2[f1_2.r2_rubric.apply(lambda x: (x not in pd.concat(r_list).values) & (len(x) <= 50) & (x not in f1_i.r1_rubric.values))].drop_duplicates(subset='r2_rubric', keep=\"first\")\n",
    "    f1_2 = f1_2.iloc[:10]\n",
    "    \n",
    "    f1_i = pd.concat([f1_1, f1_2])\n",
    "    f1_i['avg_corr'] = f1_i['corr'].mean()\n",
    "    r_list.append(f1_i.r1_rubric.drop_duplicates())\n",
    "    r_list.append(f1_i.r2_rubric.drop_duplicates())\n",
    "    df_list.append(f1_i)\n",
    "f6 = pd.concat(df_list)\n",
    "f6['group'] = 'f6'\n",
    "\n",
    "#### f7\n",
    "df_list = []\n",
    "t1_100_all = t1_100\n",
    "for rubric, city, param  in tqdm(iter_set[21:24]):\n",
    "    f1_i = t1_100_all[(t1_100_all.r1_city == city) & (t1_100_all.r1_rubric == rubric) & (t1_100_all.r2_city == city) & (t1_100_all.r2_rubric != rubric)].sort_values(['corr', 'r2_cnt'], ascending=[False,False])\n",
    "    f1_i.sort_values(['corr', 'r2_cnt'], ascending=[False,False], inplace=True)\n",
    "    f1_i = f1_i[f1_i.r2_rubric.apply(lambda x: (x not in pd.concat(r_list).values) & (len(x) <= 50) & (x not in f1_i.r1_rubric.values))].drop_duplicates(subset='r2_rubric', keep=\"first\")\n",
    "    f1_i = f1_i.iloc[:20]\n",
    "    f1_i['avg_corr'] = f1_i['corr'].mean()\n",
    "    r_list.append(f1_i.r1_rubric.drop_duplicates())\n",
    "    r_list.append(f1_i.r2_rubric.drop_duplicates())\n",
    "    df_list.append(f1_i)\n",
    "f7 = pd.concat(df_list)\n",
    "f7['group'] = 'f7'\n",
    "\n",
    "### f8\n",
    "\n",
    "df_list = []\n",
    "for rubric, city, param  in tqdm(iter_set[24:27]):\n",
    "    f1_i = t1_100_all[(t1_100_all.r1_city == city) & (t1_100_all.r1_rubric == rubric) & (t1_100_all.r2_city != city) & (t1_100_all.r2_rubric != rubric)]\n",
    "    f1_i.sort_values(['corr', 'r2_cnt'], ascending=[False,False], inplace=True)\n",
    "    f1_i = f1_i[f1_i.r2_rubric.apply(lambda x: (x not in pd.concat(r_list).values) & (len(x) <= 50) & (x not in f1_i.r1_rubric.values))].drop_duplicates(subset='r2_rubric', keep=\"first\")\n",
    "    f1_i = f1_i.iloc[:20]\n",
    "    f1_i['avg_corr'] = f1_i['corr'].mean()\n",
    "    r_list.append(f1_i.r1_rubric.drop_duplicates())\n",
    "    r_list.append(f1_i.r2_rubric.drop_duplicates())\n",
    "    df_list.append(f1_i)\n",
    "f8 = pd.concat(df_list)\n",
    "f8['group'] = 'f8'\n",
    "\n",
    "\n",
    "### f9\n",
    "df_list = []\n",
    "for rubric, city, param  in tqdm(iter_set[9:12]):\n",
    "    f1_i = t1_100_all[(t1_100_all.r1_city == city) & (t1_100_all.r1_rubric == rubric)]\n",
    "    f1_i.sort_values(['corr', 'r2_cnt'], ascending=[False,False], inplace=True)\n",
    "    f1_i = f1_i[f1_i.r2_rubric.apply(lambda x: (x not in pd.concat(r_list).values) & (len(x) <= 50) & (x not in f1_i.r1_rubric.values))].drop_duplicates(subset='r2_rubric', keep=\"first\")\n",
    "    f1_i = f1_i.iloc[:20]\n",
    "    f1_i['avg_corr'] = f1_i['corr'].mean()\n",
    "    r_list.append(f1_i.r1_rubric.drop_duplicates())\n",
    "    r_list.append(f1_i.r2_rubric.drop_duplicates())\n",
    "    df_list.append(f1_i)\n",
    "f9 = pd.concat(df_list)\n",
    "f9['group'] = 'f9'\n",
    "\n",
    "### f10\n",
    "df_list = []\n",
    "for rubric, city, param  in tqdm(iter_set[27:30]):\n",
    "    f1_i = t1_100_all[(t1_100_all.r1_city == city) & (t1_100_all.r1_rubric == rubric)]\n",
    "    f1_i.sort_values(['corr', 'r2_cnt'], ascending=[False,False], inplace=True)\n",
    "    f1_i = f1_i[f1_i.r2_rubric.apply(lambda x: (x not in pd.concat(r_list).values) & (len(x) <= 50) & (x not in f1_i.r1_rubric.values))].drop_duplicates(subset='r2_rubric', keep=\"first\")\n",
    "    f1_i = f1_i.iloc[:20]\n",
    "    f1_i['avg_corr'] = f1_i['corr'].mean()\n",
    "    r_list.append(f1_i.r1_rubric.drop_duplicates())\n",
    "    r_list.append(f1_i.r2_rubric.drop_duplicates())\n",
    "    df_list.append(f1_i)\n",
    "f10 = pd.concat(df_list)\n",
    "f10['group'] = 'f10'\n",
    "\n",
    "### f11\n",
    "df_list = []\n",
    "for rubric, city, param  in tqdm(iter_set[30:33]):\n",
    "    f1_i = t1_100_all[(t1_100_all.r1_city == city) & (t1_100_all.r1_rubric == rubric)]\n",
    "    f1_i.sort_values(['corr', 'r2_cnt'], ascending=[False,False], inplace=True)\n",
    "    f1_i = f1_i[f1_i.r2_rubric.apply(lambda x: (x not in pd.concat(r_list).values) & (len(x) <= 50) & (x not in f1_i.r1_rubric.values))].drop_duplicates(subset='r2_rubric', keep=\"first\")\n",
    "    f1_i = f1_i.iloc[:20]\n",
    "    f1_i['avg_corr'] = f1_i['corr'].mean()\n",
    "    r_list.append(f1_i.r1_rubric.drop_duplicates())\n",
    "    r_list.append(f1_i.r2_rubric.drop_duplicates())\n",
    "    df_list.append(f1_i)\n",
    "f11 = pd.concat(df_list)\n",
    "f11['group'] = 'f11'\n",
    "\n",
    "### f12\n",
    "df_list = []\n",
    "for rubric, city, param  in tqdm(iter_set[33:36]):\n",
    "    f1_i = t1_100_all[(t1_100_all.r1_city == city) & (t1_100_all.r1_rubric == rubric)]\n",
    "    f1_i.sort_values(['corr', 'r2_cnt'], ascending=[False,False], inplace=True)\n",
    "    f1_i = f1_i[f1_i.r2_rubric.apply(lambda x: (x not in pd.concat(r_list).values) & (len(x) <= 50) & (x not in f1_i.r1_rubric.values))].drop_duplicates(subset='r2_rubric', keep=\"first\")\n",
    "    f1_i = f1_i.iloc[:20]\n",
    "    f1_i['avg_corr'] = f1_i['corr'].mean()\n",
    "    r_list.append(f1_i.r1_rubric.drop_duplicates())\n",
    "    r_list.append(f1_i.r2_rubric.drop_duplicates())\n",
    "    df_list.append(f1_i)\n",
    "f12 = pd.concat(df_list)\n",
    "f12['group'] = 'f12'\n",
    "\n",
    "f_all = pd.concat([f1,f2,f3,f4,f5,f6,f7,f8,f9,f10,f11,f12])\n",
    "f_all['r1_rubric_city'] = f_all['r1_city'] + '. ' + f_all['r1_rubric']\n",
    "f_all['r2_rubric_city'] = f_all['r2_city'] + '. ' + f_all['r2_rubric']\n",
    "\n",
    "f_all = f_all[f_all.r2_rubric.apply(lambda x: (x not in f1_i.r1_rubric.values))].drop_duplicates(subset='r2_rubric', keep=\"first\")\n",
    "f_all.groupby('group').count()"
   ]
  },
  {
   "cell_type": "code",
   "execution_count": 56,
   "id": "b7f20ca7-cb09-4404-b8b6-de2ed9d371a7",
   "metadata": {
    "execution": {
     "iopub.execute_input": "2023-06-07T20:09:15.531247Z",
     "iopub.status.busy": "2023-06-07T20:09:15.531247Z",
     "iopub.status.idle": "2023-06-07T20:09:15.903879Z",
     "shell.execute_reply": "2023-06-07T20:09:15.902896Z",
     "shell.execute_reply.started": "2023-06-07T20:09:15.531247Z"
    },
    "tags": []
   },
   "outputs": [],
   "source": [
    "f_new = pd.concat([f13, f14, f15])\n",
    "\n",
    "f_new['r1_rubric_city'] = f_new['r1_city'] + '. ' + f_new['r1_rubric']\n",
    "f_new['r2_rubric_city'] = f_new['r2_city'] + '. ' + f_new['r2_rubric']\n",
    "f_new['r1_rubric_city_param'] = f_new['r1_rubric_city'] + '. ' + f_new['r1_param']\n",
    "f_new['r2_rubric_city_param'] = f_new['r2_rubric_city'] + '. ' + f_new['r2_param']\n",
    "\n",
    "f_all['r1_otrasl'] = ''\n",
    "f_all['r2_otrasl'] = ''\n",
    "f_all['r1_rubric_city_param'] = f_all['r1_rubric_city'] + '. ' + f_all['r1_param']\n",
    "f_all['r2_rubric_city_param'] = f_all['r2_rubric_city'] + '. ' + f_all['r2_param']\n",
    "\n",
    "f_new = f_new[f_all.columns]\n",
    "f_all_new = pd.concat([f_all, f_new])\n",
    "f_all_new.to_excel('f_all_new2.xlsx')"
   ]
  },
  {
   "cell_type": "code",
   "execution_count": 65,
   "id": "d02d3778-36c6-4ca4-9f60-e2a7b6ddb801",
   "metadata": {
    "execution": {
     "iopub.execute_input": "2023-06-07T20:29:19.462161Z",
     "iopub.status.busy": "2023-06-07T20:29:19.462161Z",
     "iopub.status.idle": "2023-06-07T20:29:19.811568Z",
     "shell.execute_reply": "2023-06-07T20:29:19.810589Z",
     "shell.execute_reply.started": "2023-06-07T20:29:19.462161Z"
    },
    "tags": []
   },
   "outputs": [],
   "source": [
    "f_cr = f_all_new[['r1_city','r1_rubric']].drop_duplicates()\n",
    "cr = list(zip(f_cr['r1_city'].values, f_cr['r1_rubric'].values))\n",
    "\n",
    "def replace_slash(s):\n",
    "    return s[::-1].replace('/', 'и', 1)[::-1].replace('СПБ', 'Санкт-Петербург')\n",
    "\n",
    "docx_name = 'Формулы_корреляции_Москва_230607_2000.docx'\n",
    "doc = docx.Document('files/report.docx')\n",
    "doc.save(docx_name)\n",
    "p = doc.add_paragraph()\n",
    "n1, n2, n3 = 0,0,0\n",
    "for city, rubric in cr:\n",
    "    f_i = f_all_new[(f_all_new.r1_city == city) & (f_all_new.r1_rubric == rubric)]\n",
    "    \n",
    "    if f_i['group'].iloc[0] in ('f1', 'f2', 'f3'): # 1-3 Бизнес\n",
    "        col1 = 'r1_rubric'\n",
    "        col2 = 'r2_rubric'   \n",
    "        col3 = col2\n",
    "        col4 = col2\n",
    "    elif f_i['group'].iloc[0] in ('f4', 'f5', 'f6'): # 4-6 Город-бизнес-показатель\n",
    "        col1 = 'r1_rubric_city_param'\n",
    "        col2 = 'r2_rubric_city_param'\n",
    "        col3 = col2\n",
    "        col4 = col2\n",
    "    elif f_i['group'].iloc[0] in ('f7', 'f8', 'f9'): # 7-9 Город-бизнес\n",
    "        col1 = 'r1_rubric_city'\n",
    "        col2 = 'r2_rubric_city'\n",
    "        col3 = col2\n",
    "        col4 = col2\n",
    "    elif f_i['group'].iloc[0] =='f10': # 10-12 Комбо\n",
    "        n1 += 1\n",
    "        if n1 == 1:\n",
    "            col1 = 'r1_rubric'\n",
    "            col2 = 'r2_rubric'\n",
    "            col3 = 'r2_rubric_city'\n",
    "            col4 = col3\n",
    "        if n1 == 2:\n",
    "            col1 = 'r1_rubric_city'\n",
    "            col2 = 'r2_rubric'\n",
    "            col3 = 'r2_rubric_city'\n",
    "            col4 = col3\n",
    "        if n1 == 3:\n",
    "            col1 = 'r1_rubric_city_param'\n",
    "            col2 = 'r2_rubric'\n",
    "            col3 = 'r2_rubric_city'\n",
    "            col4 = col3\n",
    "    elif f_i['group'].iloc[0] =='f11': # 10-12 Комбо\n",
    "        n2 += 1\n",
    "        if n2 == 1:\n",
    "            col1 = 'r1_rubric'\n",
    "            col2 = 'r2_rubric_city'\n",
    "            col3 = 'r2_rubric_city_param'\n",
    "            col4 = col3\n",
    "        if n2 == 2:\n",
    "            col1 = 'r1_rubric_city'\n",
    "            col2 = 'r2_rubric_city'\n",
    "            col3 = 'r2_rubric_city_param'\n",
    "            col4 = col3\n",
    "        if n2 == 3:\n",
    "            col1 = 'r1_rubric_city_param'\n",
    "            col2 = 'r2_rubric_city'\n",
    "            col3 = 'r2_rubric_city_param'\n",
    "            col4 = col3\n",
    "    elif f_i['group'].iloc[0] =='f12': # 10-12 Комбо\n",
    "        n3 += 1\n",
    "        if n3 == 1:\n",
    "            col1 = 'r1_rubric'\n",
    "            col2 = 'r2_rubric'\n",
    "            col3 = 'r2_rubric_city'\n",
    "            col4 = 'r2_rubric_city_param' \n",
    "        if n3 == 2:\n",
    "            col1 = 'r1_rubric_city'\n",
    "            col2 = 'r2_rubric'\n",
    "            col3 = 'r2_rubric_city'\n",
    "            col4 = 'r2_rubric_city_param' \n",
    "        if n3 == 3:\n",
    "            col1 = 'r1_rubric_city_param'\n",
    "            col2 = 'r2_rubric'\n",
    "            col3 = 'r2_rubric_city' \n",
    "            col4 = 'r2_rubric_city_param'       \n",
    "            \n",
    "    head = f_i['group'].iloc[0] +': '+ f_i[col1].iloc[0] + ' = '\n",
    "    left_sq = 'f{'\n",
    "    body = '\\n\\t,'.join([f'{i:.4f} x {replace_slash(j)}' for i, j in list(zip(f_i['corr'].values, [*f_i[col2].values[:6], *f_i[col3].values[6:13], *f_i[col4].values[13:]]))])\n",
    "    right_sq = '}\\n'\n",
    "    \n",
    "    if f_i['group'].iloc[0] in ('f13', 'f14', 'f15'):\n",
    "        head = f_i['group'].iloc[0] +': '+ f_i['r1_otrasl'].iloc[0] + '. ' + f_i['r1_rubric'].iloc[0] + ' = '\n",
    "        left_sq = 'f{'\n",
    "        body = '\\n\\t,'.join([f'{i:.4f} x {replace_slash(j)}' for i, j in list(zip(f_i['corr'].values, [*f_i['r2_rubric'].values[:6], *f_i['r2_rubric'].values[6:13], *f_i['r2_rubric'].values[13:]]))])\n",
    "        right_sq = '}\\n'        \n",
    "        \n",
    "    #print(head, left_sq, body, right_sq)\n",
    "    runner = p.add_run(head)\n",
    "    runner.font.highlight_color = WD_COLOR_INDEX.YELLOW\n",
    "    runner2 = p.add_run(left_sq)\n",
    "    runner2.italic = True\n",
    "    p.add_run(body)\n",
    "    runner3 = p.add_run(right_sq)\n",
    "    runner3.italic = True\n",
    "    doc.save(docx_name)"
   ]
  },
  {
   "cell_type": "code",
   "execution_count": null,
   "id": "801415b4-0da2-461d-8bed-e5781ddf650f",
   "metadata": {},
   "outputs": [],
   "source": []
  },
  {
   "attachments": {
    "e6fc99ed-6622-4695-93de-c8ac1a25e3d8.png": {
     "image/png": "[encoded data removed]"
    }
   },
   "cell_type": "markdown",
   "id": "9a78ab22-7f94-4d90-86a2-d3aafef70ab1",
   "metadata": {},
   "source": [
    "![image.png](attachment:e6fc99ed-6622-4695-93de-c8ac1a25e3d8.png)"
   ]
  },
  {
   "cell_type": "code",
   "execution_count": null,
   "id": "e43621af-fb33-4df8-8e5b-ab96f7425578",
   "metadata": {},
   "outputs": [],
   "source": []
  },
  {
   "cell_type": "markdown",
   "id": "1f41a371-d3e5-4939-8195-c7a75639a0a5",
   "metadata": {},
   "source": [
    "# Вставка ракеты в презентацию"
   ]
  },
  {
   "cell_type": "code",
   "execution_count": 1,
   "id": "c36aa513-3f0e-48eb-b535-6c2a4f77144a",
   "metadata": {
    "execution": {
     "iopub.execute_input": "2023-06-14T23:24:38.334203Z",
     "iopub.status.busy": "2023-06-14T23:24:38.334203Z",
     "iopub.status.idle": "2023-06-14T23:24:51.080082Z",
     "shell.execute_reply": "2023-06-14T23:24:51.079087Z",
     "shell.execute_reply.started": "2023-06-14T23:24:38.334203Z"
    }
   },
   "outputs": [
    {
     "name": "stdout",
     "output_type": "stream",
     "text": [
      "Ready: 2023-06-15 02:24:51\n"
     ]
    }
   ],
   "source": [
    "%run functions.ipynb"
   ]
  },
  {
   "cell_type": "code",
   "execution_count": 3,
   "id": "f0107e9d-a319-4545-baf9-7fd1d1201203",
   "metadata": {
    "execution": {
     "iopub.execute_input": "2023-06-14T23:25:39.000237Z",
     "iopub.status.busy": "2023-06-14T23:25:39.000237Z",
     "iopub.status.idle": "2023-06-14T23:25:39.015012Z",
     "shell.execute_reply": "2023-06-14T23:25:39.015012Z",
     "shell.execute_reply.started": "2023-06-14T23:25:39.000237Z"
    },
    "tags": []
   },
   "outputs": [],
   "source": []
  },
  {
   "cell_type": "code",
   "execution_count": 2,
   "id": "19c18e2f-9fd5-404c-9a3b-5b3ed9d59c1a",
   "metadata": {
    "execution": {
     "iopub.execute_input": "2023-07-09T06:01:56.248412Z",
     "iopub.status.busy": "2023-07-09T06:01:56.232935Z",
     "iopub.status.idle": "2023-07-09T06:01:56.826385Z",
     "shell.execute_reply": "2023-07-09T06:01:56.826385Z",
     "shell.execute_reply.started": "2023-07-09T06:01:56.248412Z"
    },
    "tags": []
   },
   "outputs": [],
   "source": [
    "import pptx\n",
    "import numpy as np\n",
    "from pptx.util import Cm\n",
    "\n",
    "# задайте положение ракеты по горизонтали в см\n",
    "left  = 23.6 \n",
    "# начальное и конечное положение верхушки ракеты в см\n",
    "first_top, last_top = 16.66, 1.3\n",
    "# номер слайда на котором с\n",
    "first_slide_num, last_slide_num = 3, 136\n",
    "presentation_path = r\"C:\\Users\\Mamed\\YandexDisk\\_Documents\\Проекты\\Python ШТ\\Презентация_ШТ_162_Эффективный Python_230709_0730.pptx\"\n",
    "\n",
    "prs = pptx.Presentation(presentation_path)\n",
    "slides = prs.slides\n",
    "top_coordinates = np.linspace(first_top, last_top, last_slide_num-first_slide_num)\n",
    "p1 = r\"C:\\Users\\Mamed\\YandexDisk\\_Documents\\Проекты\\2ГИС 2023\\Лого\\Ракета1.png\"\n",
    "\n",
    "n = 0\n",
    "for i, top_i in zip(range(first_slide_num-1, last_slide_num-1), top_coordinates):\n",
    "    if n < 4:\n",
    "        n += 1\n",
    "    p_i = p1.replace('Ракета1', f'Ракета{n}')\n",
    "    slides[i].shapes.add_picture(p_i, Cm(left), Cm(top_i))\n",
    "\n",
    "prs.save(presentation_path.replace('.pptx', '_new.pptx'))"
   ]
  },
  {
   "cell_type": "code",
   "execution_count": null,
   "id": "e510b091-cdc7-4af8-b5db-53db4cd05340",
   "metadata": {},
   "outputs": [],
   "source": []
  }
 ],
 "metadata": {
  "kernelspec": {
   "display_name": "Python 3 (ipykernel)",
   "language": "python",
   "name": "python3"
  },
  "language_info": {
   "codemirror_mode": {
    "name": "ipython",
    "version": 3
   },
   "file_extension": ".py",
   "mimetype": "text/x-python",
   "name": "python",
   "nbconvert_exporter": "python",
   "pygments_lexer": "ipython3",
   "version": "3.9.12"
  }
 },
 "nbformat": 4,
 "nbformat_minor": 5
}
