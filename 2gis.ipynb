{
 "cells": [
  {
   "cell_type": "code",
   "execution_count": 74,
   "id": "ee073307-e8d0-4d24-abc2-d2c2eda9cf4c",
   "metadata": {},
   "outputs": [],
   "source": [
    "import random\n",
    "import plotly.graph_objects as go\n",
    "#random.seed(99)\n",
    "import pandas as pd\n",
    "import numpy as np\n",
    "import scipy\n",
    "from scipy.stats.stats import pearsonr\n",
    "import dask.dataframe as dd\n",
    "import seaborn as sns\n",
    "import dask.datasets\n",
    "from dask_sql import Context\n",
    "import datetime\n",
    "import time\n",
    "pd.set_option('display.max_rows', None)\n",
    "pd.set_option('display.max_columns', None)\n",
    "pd.set_option('display.max_colwidth', None)\n",
    "pd.options.mode.chained_assignment = None\n",
    "\n",
    "\n",
    "def count_users_requests(name, df20_raw,df21_raw,df22_raw,df23_raw):\n",
    "    df_all = dd.concat([df20_raw,df21_raw,df22_raw,df23_raw])\n",
    "    users_itogo = df_all.groupby('rubricName').user.nunique().compute()\n",
    "    users_itogo_result = df_all.user.nunique().compute()\n",
    "\n",
    "    df20_result_cnt = df20_raw.user.nunique().compute()\n",
    "    df21_result_cnt = df21_raw.user.nunique().compute()\n",
    "    df22_result_cnt = df22_raw.user.nunique().compute()\n",
    "    df23_result_cnt = df23_raw.user.nunique().compute()\n",
    "\n",
    "    print(users_itogo_result, \n",
    "    df20_result_cnt,\n",
    "    df21_result_cnt,\n",
    "    df22_result_cnt,\n",
    "    df23_result_cnt,)\n",
    "\n",
    "    users_itogo.to_excel('{}users_itogo.xlsx'.format(name))\n",
    "\n",
    "def agg_df(df, year):\n",
    "    start_dt = datetime.datetime.now()\n",
    "    print('Start:', start_dt)\n",
    "    df1 = df[['user', 'rubricName', 'date']]\n",
    "    \n",
    "    try:\n",
    "        pd_df1_req_cnt = pd.read_excel(f'df1_req_cnt_{year}.xlsx')\n",
    "        pd_df1_user_cnt = pd.read_excel(f'df1_user_cnt_{year}.xlsx')\n",
    "        df1_agg = pd_df1_req_cnt.merge(pd_df1_user_cnt, left_index=True, right_index=True)\n",
    "    except:\n",
    "        df1_user_cnt = df1.groupby('rubricName').user.nunique().compute()\n",
    "        df1_req_cnt = df1.groupby('rubricName').date.count().compute()\n",
    "        df1_req_cnt.to_excel(f'df1_req_cnt_{year}.xlsx')\n",
    "        df1_user_cnt.to_excel(f'df1_user_cnt_{year}.xlsx')\n",
    "        pd_df1_req_cnt = pd.DataFrame(df1_req_cnt)\n",
    "        pd_df1_user_cnt = pd.DataFrame(df1_user_cnt)\n",
    "        df1_agg = pd_df1_req_cnt.merge(pd_df1_user_cnt, left_on='rubricName', right_on='rubricName')\n",
    "    \n",
    "    df1_agg = df1_agg.sort_values('date', ascending=False)\n",
    "    df1_agg['rubricName'] = df1_agg['rubricName_x']\n",
    "    df1_agg = df1_agg.set_index('rubricName')[['date', 'user']].fillna(0).astype(int)\n",
    "    df1_agg.to_excel(f'df1_agg_{year}.xlsx', index=False)\n",
    "    end_dt = datetime.datetime.now()\n",
    "    print('End:', end_dt)\n",
    "    print('Duration:', end_dt-start_dt)\n",
    "    return df1_agg\n",
    "\n",
    "def row_number(df, col, sort_col, desc=True, filter_df=True, index=45, filter_zero=False):\n",
    "    if col not in df.columns:\n",
    "        df[col] = ''\n",
    "    if filter_df:\n",
    "        rows_to_count = df[df[col]].sort_values(sort_col,ascending=not desc).loc[:,[col]].index[:index]\n",
    "    elif filter_zero:\n",
    "        rows_to_count = df[df[col]!=0].sort_values(sort_col,ascending=not desc).loc[:,[col]].index[:index]\n",
    "    else:\n",
    "        rows_to_count = df.sort_values(sort_col,ascending=not desc).loc[:,[col]].index[:index]\n",
    "        df_shape = df.shape\n",
    "    rows_to_zero = [i for i in df.index if i not in rows_to_count] \n",
    "    n = 0\n",
    "    for r0 in rows_to_zero:\n",
    "        df.loc[r0, col] = 0\n",
    "    for r in rows_to_count:\n",
    "        n += 1\n",
    "        df.loc[r, col] = n\n",
    "    \n",
    "    return df\n",
    "\n",
    "def count_ratings(df):\n",
    "    df_user_max = df.loc[:,['Пользователи 2020','Пользователи 2021','Пользователи 2022','Пользователи 2023']].max(axis=1)\n",
    "    df_user_min = df.loc[:,['Пользователи 2020','Пользователи 2021','Пользователи 2022','Пользователи 2023']].min(axis=1)\n",
    "\n",
    "    df['Рейтинг по пользователям 2020'] = df_user_max == df.loc[:,['Пользователи 2020']].iloc[:,0]\n",
    "    df['Рейтинг по пользователям 2021'] = df_user_max == df.loc[:,['Пользователи 2021']].iloc[:,0]\n",
    "    df['Рейтинг по пользователям 2022'] = df_user_max == df.loc[:,['Пользователи 2022']].iloc[:,0]\n",
    "    df['Рейтинг по пользователям 2023'] = df_user_max == df.loc[:,['Пользователи 2023']].iloc[:,0]\n",
    "\n",
    "    df = row_number(df, 'Рейтинг по пользователям 2020', 'Пользователи 2020')\n",
    "    df = row_number(df, 'Рейтинг по пользователям 2021', 'Пользователи 2021')\n",
    "    df = row_number(df, 'Рейтинг по пользователям 2022', 'Пользователи 2022')\n",
    "    df = row_number(df, 'Рейтинг по пользователям 2023', 'Пользователи 2023')\n",
    "    df = row_number(df, 'Рейтинг по пользователям, итого', 'Пользователи, итого', filter_df=False)\n",
    "    \n",
    "    \n",
    "    df['Антирейтинг по пользователям 2020'] = df_user_min == df.loc[:,['Пользователи 2020']].iloc[:,0]\n",
    "    df['Антирейтинг по пользователям 2021'] = df_user_min == df.loc[:,['Пользователи 2021']].iloc[:,0]\n",
    "    df['Антирейтинг по пользователям 2022'] = df_user_min == df.loc[:,['Пользователи 2022']].iloc[:,0]\n",
    "    df['Антирейтинг по пользователям 2023'] = df_user_min == df.loc[:,['Пользователи 2023']].iloc[:,0]\n",
    "\n",
    "    df = row_number(df, 'Антирейтинг по пользователям 2020', 'Пользователи 2020', desc=False)\n",
    "    df = row_number(df, 'Антирейтинг по пользователям 2021', 'Пользователи 2021', desc=False)\n",
    "    df = row_number(df, 'Антирейтинг по пользователям 2022', 'Пользователи 2022', desc=False)\n",
    "    df = row_number(df, 'Антирейтинг по пользователям 2023', 'Пользователи 2023', desc=False)\n",
    "    df = row_number(df, 'Антирейтинг по пользователям, итого', 'Пользователи, итого', desc=False, filter_df=False)\n",
    "    \n",
    "    \n",
    "    df['Рейтинг постоянного роста\\nпользователей 2020-2023'] = (df['Пользователи 2020'] < df['Пользователи 2021'] & (df['Пользователи 2021'] < df['Пользователи 2022']) & (df['Пользователи 2022'] < df['Пользователи 2023']))\n",
    "    df['Рейтинг постоянного роста\\nпользователей 2021-2023'] = ((df['Пользователи 2021'] < df['Пользователи 2022']) & (df['Пользователи 2022'] < df['Пользователи 2023']))\n",
    "    df['Рейтинг постоянного роста\\nпользователей 2022-2023'] = ((df['Пользователи 2022'] < df['Пользователи 2023']))\n",
    "    \n",
    "    df = row_number(df, 'Рейтинг постоянного роста\\nпользователей 2020-2023', 'Пользователи, итого')\n",
    "    df = row_number(df, 'Рейтинг постоянного роста\\nпользователей 2021-2023', 'Пользователи, итого')\n",
    "    df = row_number(df, 'Рейтинг постоянного роста\\nпользователей 2022-2023', 'Пользователи, итого')\n",
    "    \n",
    "    \n",
    "    df['Рейтинг постоянного падения\\nпользователей 2020-2023'] = ((df['Пользователи 2020'] > df['Пользователи 2021'])  & (df['Пользователи 2021'] > df['Пользователи 2022']) & (df['Пользователи 2022'] > df['Пользователи 2023']))\n",
    "    df['Рейтинг постоянного падения\\nпользователей 2021-2023'] = ((df['Пользователи 2021'] > df['Пользователи 2022']) & (df['Пользователи 2022'] > df['Пользователи 2023']))\n",
    "    df['Рейтинг постоянного падения\\nпользователей 2022-2023'] = ((df['Пользователи 2022'] > df['Пользователи 2023']))\n",
    "    \n",
    "    df = row_number(df, 'Рейтинг постоянного падения\\nпользователей 2020-2023', 'Пользователи, итого')\n",
    "    df = row_number(df, 'Рейтинг постоянного падения\\nпользователей 2021-2023', 'Пользователи, итого')\n",
    "    df = row_number(df, 'Рейтинг постоянного падения\\nпользователей 2022-2023', 'Пользователи, итого')\n",
    "\n",
    "    \n",
    "    df['Рейтинг по пользователям ВНВН'] = ((df['Пользователи 2020'] > df['Пользователи 2021'])  & (df['Пользователи 2021'] < df['Пользователи 2022']) & (df['Пользователи 2022'] > df['Пользователи 2023']))\n",
    "    df['Рейтинг по пользователям НВНВ'] = ((df['Пользователи 2020'] < df['Пользователи 2021'])  & (df['Пользователи 2021'] > df['Пользователи 2022']) & (df['Пользователи 2022'] < df['Пользователи 2023']))\n",
    "    df['Рейтинг стабильности\\nчисла пользователей'] = abs(df_user_min / df_user_max - 1)\n",
    "\n",
    "    df = row_number(df, 'Рейтинг по пользователям ВНВН', 'Пользователи 2023')\n",
    "    df = row_number(df, 'Рейтинг по пользователям НВНВ', 'Пользователи 2023')\n",
    "    df = row_number(df, 'Рейтинг стабильности\\nчисла пользователей', 'Пользователи, итого', filter_df=False)\n",
    "    \n",
    "    \n",
    "    df_req_max = df.loc[:,['Запросы 2020','Запросы 2021','Запросы 2022','Запросы 2023']].max(axis=1)\n",
    "    df_req_min = df.loc[:,['Запросы 2020','Запросы 2021','Запросы 2022','Запросы 2023']].min(axis=1)\n",
    "    df['Рейтинг по запросам 2020'] = df_req_max == df.loc[:,['Запросы 2020']].iloc[:,0]\n",
    "    df['Рейтинг по запросам 2021'] = df_req_max == df.loc[:,['Запросы 2021']].iloc[:,0]\n",
    "    df['Рейтинг по запросам 2022'] = df_req_max == df.loc[:,['Запросы 2022']].iloc[:,0]\n",
    "    df['Рейтинг по запросам 2023'] = df_req_max == df.loc[:,['Запросы 2023']].iloc[:,0]\n",
    "    \n",
    "    df = row_number(df, 'Рейтинг по запросам 2020', 'Запросы 2020')\n",
    "    df = row_number(df, 'Рейтинг по запросам 2021', 'Запросы 2021')\n",
    "    df = row_number(df, 'Рейтинг по запросам 2022', 'Запросы 2022')\n",
    "    df = row_number(df, 'Рейтинг по запросам 2023', 'Запросы 2023')\n",
    "    df = row_number(df, 'Рейтинг по запросам, итого', 'Запросы, итого', filter_df=False)\n",
    "\n",
    "    \n",
    "    df['Антирейтинг по запросам 2020'] = df_req_min == df.loc[:,['Запросы 2020']].iloc[:,0]\n",
    "    df['Антирейтинг по запросам 2021'] = df_req_min == df.loc[:,['Запросы 2021']].iloc[:,0]\n",
    "    df['Антирейтинг по запросам 2022'] = df_req_min == df.loc[:,['Запросы 2022']].iloc[:,0]\n",
    "    df['Антирейтинг по запросам 2023'] = df_req_min == df.loc[:,['Запросы 2023']].iloc[:,0]\n",
    "    \n",
    "    df = row_number(df, 'Антирейтинг по запросам 2020', 'Запросы 2020', desc=False)\n",
    "    df = row_number(df, 'Антирейтинг по запросам 2021', 'Запросы 2021', desc=False)\n",
    "    df = row_number(df, 'Антирейтинг по запросам 2022', 'Запросы 2022', desc=False)\n",
    "    df = row_number(df, 'Антирейтинг по запросам 2023', 'Запросы 2023', desc=False)\n",
    "    df = row_number(df, 'Антирейтинг по запросам, итого', 'Запросы, итого', desc=False, filter_df=False)\n",
    "\n",
    "    \n",
    "    df['Рейтинг постоянного роста\\nзапросов 2020-2023'] = (df['Запросы 2020'] < df['Запросы 2021'] & (df['Запросы 2021'] < df['Запросы 2022']) & (df['Запросы 2022'] < df['Запросы 2023']))\n",
    "    df['Рейтинг постоянного роста\\nзапросов 2021-2023'] = ((df['Запросы 2021'] < df['Запросы 2022']) & (df['Запросы 2022'] < df['Запросы 2023']))\n",
    "    df['Рейтинг постоянного роста\\nзапросов 2022-2023'] = ((df['Запросы 2022'] < df['Запросы 2023']))\n",
    "    \n",
    "    df = row_number(df, 'Рейтинг постоянного роста\\nзапросов 2020-2023', 'Запросы, итого')\n",
    "    df = row_number(df, 'Рейтинг постоянного роста\\nзапросов 2021-2023', 'Запросы, итого')\n",
    "    df = row_number(df, 'Рейтинг постоянного роста\\nзапросов 2022-2023', 'Запросы, итого')\n",
    "    \n",
    "    \n",
    "    df['Рейтинг постоянного падения\\nзапросов 2020-2023'] = ((df['Запросы 2020'] > df['Запросы 2021'])  & (df['Запросы 2021'] > df['Запросы 2022']) & (df['Запросы 2022'] > df['Запросы 2023']))\n",
    "    df['Рейтинг постоянного падения\\nзапросов 2021-2023'] = ((df['Запросы 2021'] > df['Запросы 2022']) & (df['Запросы 2022'] > df['Запросы 2023']))\n",
    "    df['Рейтинг постоянного падения\\nзапросов 2022-2023'] = ((df['Запросы 2022'] > df['Запросы 2023']))\n",
    "    \n",
    "    df = row_number(df, 'Рейтинг постоянного падения\\nзапросов 2020-2023', 'Запросы, итого')\n",
    "    df = row_number(df, 'Рейтинг постоянного падения\\nзапросов 2021-2023', 'Запросы, итого')\n",
    "    df = row_number(df, 'Рейтинг постоянного падения\\nзапросов 2022-2023', 'Запросы, итого')\n",
    "    \n",
    "    \n",
    "    df['Рейтинг по запросам ВНВН'] = ((df['Запросы 2020'] > df['Запросы 2021']) & (df['Запросы 2021'] < df['Запросы 2022'])& (df['Запросы 2022'] > df['Запросы 2023']))\n",
    "    df['Рейтинг по запросам НВНВ'] = ((df['Запросы 2020'] < df['Запросы 2021'])  & (df['Запросы 2021'] > df['Запросы 2022']) & (df['Запросы 2022'] < df['Запросы 2023']))\n",
    "    df['Рейтинг стабильности\\nчисла запросов'] = abs(df_req_min / df_req_max - 1)\n",
    "    \n",
    "    df = row_number(df, 'Рейтинг по запросам ВНВН', 'Запросы 2023')\n",
    "    df = row_number(df, 'Рейтинг по запросам НВНВ', 'Запросы 2023')\n",
    "    df = row_number(df, 'Рейтинг стабильности\\nчисла запросов', 'Запросы, итого', filter_df=False)\n",
    "\n",
    "    \n",
    "    x = df[['Пользователи 2020','Пользователи 2021','Пользователи 2022','Пользователи 2023']]\n",
    "    y = df[['Запросы 2020','Запросы 2021','Запросы 2022','Запросы 2023']]\n",
    "    df = df.fillna(0)\n",
    "    for row in df.index:\n",
    "        df.loc[row, 'Антирейтинг схожести динамики\\nпользователей и запросов'] = scipy.stats.pearsonr(x.loc[row], y.loc[row])[0]\n",
    "    df['Рейтинг схожести динамики\\nпользователей и запросов'] = df['Антирейтинг схожести динамики\\nпользователей и запросов']\n",
    "    df = row_number(df, 'Рейтинг схожести динамики\\nпользователей и запросов', 'Запросы, итого', filter_df=False)\n",
    "    df = row_number(df, 'Антирейтинг схожести динамики\\nпользователей и запросов', 'Запросы, итого', desc=False, filter_df=False)\n",
    "    \n",
    "    print('Рейтинги построены')\n",
    "    return df\n",
    "\n",
    "def horizontal_optimization(table_to_optimize, index=45):\n",
    "    new_svod = table_to_optimize\n",
    "    test_svod = new_svod.copy()\n",
    "    index_set = set(new_svod.index)\n",
    "    cnt = 0\n",
    "    total_sum = 9999\n",
    "    while cnt < 10000 and len(index_set)> 0:\n",
    "        j = index_set.pop()\n",
    "        cnt += 1\n",
    "        cols = [i for i in test_svod.loc[j][test_svod.loc[j] > 0].sort_values(ascending=False).index]\n",
    "        for i in cols:   \n",
    "            cnt_horizontal = test_svod.loc[j].drop('cnt_horizontal').replace(range(1, index+1), 1).sum()\n",
    "            cnt_vertical = test_svod[i].replace(range(1, index+1), 1).sum()\n",
    "            if cnt_vertical > 15 and cnt_horizontal > 1:\n",
    "                test_svod[i][j] = 0\n",
    "        \n",
    "        cols_set = set(cols)\n",
    "        cnt2 = 0\n",
    "        while cols_set:\n",
    "            i = cols_set.pop()\n",
    "            cnt_horizontal = test_svod.loc[j].drop('cnt_horizontal').replace(range(1, index+1), 1).sum()\n",
    "            cnt_vertical = test_svod[i].replace(range(1, index+1), 1).sum()\n",
    "            if cnt_vertical > 15 and cnt_horizontal > 1:\n",
    "                test_svod[i][j] = 0\n",
    "        total_sum = test_svod.sum(axis=1).sum()\n",
    "        \n",
    "        #print(total_sum)\n",
    "    test_svod['cnt_horizontal'] = test_svod.drop('cnt_horizontal', axis=1).replace(range(1, index+1), 1).sum(axis=1)\n",
    "    test_svod = test_svod.sort_values('cnt_horizontal', ascending=False)\n",
    "    return test_svod\n",
    "\n",
    "def vertical_optimization(table_to_optimize, original_table, optimization_level, index=45):\n",
    "    df = table_to_optimize.copy()\n",
    "    new_svod = original_table.copy()\n",
    "    for i in range(optimization_level):\n",
    "        print('Вертикальная оптимизация шаг {} из {}'.format(i+1, optimization_level))\n",
    "        for cat_to_optimize in df.index:\n",
    "            # сейчас есть значение, превращаем в ноль\n",
    "            col = df.drop('cnt_horizontal', axis=1).loc[cat_to_optimize].sort_values(ascending=False).index[0]\n",
    "\n",
    "            # сейчас 0 возвращаем значение из бэкапа\n",
    "            try:\n",
    "                cat_to_reset = (\n",
    "                     df\n",
    "                     .loc[df.index != cat_to_optimize]\n",
    "                     .loc[(new_svod.sort_index().loc[:, col] != df.sort_index().loc[:, col]) & (df[col] == 0)]\n",
    "                     .loc[:,[col, 'cnt_horizontal']]\n",
    "                     .sort_values([col, 'cnt_horizontal'], ascending=[False, True])\n",
    "                     .index[0]\n",
    "                )\n",
    "                if df.loc[cat_to_reset, 'cnt_horizontal'] + 1 < df.loc[cat_to_optimize, 'cnt_horizontal']:\n",
    "                    df.loc[cat_to_optimize, col] = 0\n",
    "                    df.loc[cat_to_reset, col] = new_svod.loc[cat_to_reset, col]\n",
    "                    df['cnt_horizontal'] = df.drop('cnt_horizontal', axis=1).replace(range(1, index+1), 1).sum(axis=1)\n",
    "            except:\n",
    "                pass\n",
    "    return df\n",
    "\n",
    "def optimize_df(df_to_optimize, show_all=False, index=45, cut_level=450, calc_cut_level=False, optimization_level=10):\n",
    "    original_svod = df_to_optimize.copy().iloc[:cut_level]\n",
    "    print(original_svod.shape)\n",
    "    original_svod_sorted = (\n",
    "        original_svod\n",
    "        .fillna(0)\n",
    "        .set_index('Рубрика')\n",
    "    ).sort_values('Рубрика')\n",
    "    original_svod_sorted = original_svod.loc[[not i.isnumeric() for i in original_svod['Рубрика']]]\n",
    "    \n",
    "    original_svod_counted = count_ratings(original_svod_sorted).set_index('Рубрика')\n",
    "\n",
    "    new_svod = original_svod_counted[[\n",
    "       'Рейтинг по пользователям, итого',\n",
    "       'Антирейтинг по пользователям, итого', 'Рейтинг по пользователям 2020',\n",
    "       'Рейтинг по пользователям 2021', 'Рейтинг по пользователям 2022',\n",
    "       'Рейтинг по пользователям 2023', 'Антирейтинг по пользователям 2020',\n",
    "       'Антирейтинг по пользователям 2021',\n",
    "       'Антирейтинг по пользователям 2022',\n",
    "       'Антирейтинг по пользователям 2023',\n",
    "       'Рейтинг постоянного роста\\nпользователей 2020-2023',\n",
    "       'Рейтинг постоянного роста\\nпользователей 2021-2023',\n",
    "       'Рейтинг постоянного роста\\nпользователей 2022-2023',\n",
    "       'Рейтинг постоянного падения\\nпользователей 2020-2023',\n",
    "       'Рейтинг постоянного падения\\nпользователей 2021-2023',\n",
    "       'Рейтинг постоянного падения\\nпользователей 2022-2023',\n",
    "       'Рейтинг по пользователям ВНВН', 'Рейтинг по пользователям НВНВ',\n",
    "       'Рейтинг стабильности\\nчисла пользователей',\n",
    "       'Рейтинг схожести динамики\\nпользователей и запросов',\n",
    "       'Рейтинг по запросам, итого', 'Антирейтинг по запросам, итого',\n",
    "       'Рейтинг по запросам 2020', 'Рейтинг по запросам 2021',\n",
    "       'Рейтинг по запросам 2022', 'Рейтинг по запросам 2023',\n",
    "       'Антирейтинг по запросам 2020', 'Антирейтинг по запросам 2021',\n",
    "       'Антирейтинг по запросам 2022', 'Антирейтинг по запросам 2023',\n",
    "       'Рейтинг постоянного роста\\nзапросов 2020-2023',\n",
    "       'Рейтинг постоянного роста\\nзапросов 2021-2023',\n",
    "       'Рейтинг постоянного роста\\nзапросов 2022-2023',\n",
    "       'Рейтинг постоянного падения\\nзапросов 2020-2023',\n",
    "       'Рейтинг постоянного падения\\nзапросов 2021-2023',\n",
    "       'Рейтинг постоянного падения\\nзапросов 2022-2023',\n",
    "       'Рейтинг по запросам ВНВН', 'Рейтинг по запросам НВНВ',\n",
    "       'Рейтинг стабильности\\nчисла запросов',\n",
    "       'Антирейтинг схожести динамики\\nпользователей и запросов',]]\n",
    "\n",
    "    new_svod['cnt_horizontal'] = new_svod.replace(range(1, index+1), 1).sum(axis=1)\n",
    "    new_svod = new_svod.sort_values('cnt_horizontal', ascending=False)\n",
    "\n",
    "    hor_optimized_svod = horizontal_optimization(new_svod)\n",
    "    vert_optimized_svod = vertical_optimization(hor_optimized_svod, new_svod, optimization_level)\n",
    "    \n",
    "    optimized_svod = vert_optimized_svod.reset_index()\n",
    "    optimized_svod['В рейтингах, раз'] = optimized_svod['cnt_horizontal']\n",
    "    optimized_svod = optimized_svod.drop('cnt_horizontal', axis=1).sort_index()\n",
    "\n",
    "    df = (pd.DataFrame(new_svod.value_counts('cnt_horizontal').rename('Оригинальный файл'))\n",
    "     .merge(pd.DataFrame(hor_optimized_svod.value_counts('cnt_horizontal').rename('Горизонтальная оптимизация')), left_index=True, right_index=True, how='outer')\n",
    "     .merge(pd.DataFrame(vert_optimized_svod.value_counts('cnt_horizontal').rename('Вертикальная оптимизация')), left_index=True, right_index=True, how='outer')\n",
    "     .fillna(0).astype(int))\n",
    "\n",
    "    display(df)\n",
    "    \n",
    "    if calc_cut_level:\n",
    "        return optimized_svod, df\n",
    "    return optimized_svod\n",
    "\n",
    "def make_final(original_svod, optimized_svod):\n",
    "    original_svod_sorted = (\n",
    "        original_svod\n",
    "        .fillna(0)\n",
    "        .set_index('Рубрика')\n",
    "    ).sort_values('Рубрика')\n",
    "    original_svod_sorted = original_svod.loc[[not i.isnumeric() for i in original_svod['Рубрика']]]\n",
    "    \n",
    "    final_svod = original_svod_sorted.copy().reset_index()\n",
    "\n",
    "    final_svod = final_svod[['№', 'Рубрика', 'Пользователи 2020', 'Пользователи 2021',\n",
    "           'Пользователи 2022', 'Пользователи 2023', 'Пользователи, итого',\n",
    "           'Пользователи, %', 'Запросы 2020', 'Запросы 2021', 'Запросы 2022',\n",
    "           'Запросы 2023', 'Запросы, итого', 'Запросы, %',\n",
    "           'Запросов на пользователя 2020', 'Запросов на пользователя 2021',\n",
    "           'Запросов на пользователя 2022', 'Запросов на пользователя 2023',\n",
    "           'Запросов на пользователя, итого']].sort_values('№')\n",
    "\n",
    "    final_svod = final_svod.merge(optimized_svod, left_on='Рубрика', right_on='Рубрика')\n",
    "    final_svod['Рейтинг суммарный'] = final_svod[optimized_svod.columns].sum(axis=1)\n",
    "    final_svod['Рейтинг средний'] = final_svod[optimized_svod.columns].mean(axis=1)\n",
    "    final_svod['Вне рейтингов'] = final_svod['В рейтингах, раз'] > 0\n",
    "    final_svod = row_number(final_svod, 'Вне рейтингов', 'Запросы, итого', desc=False, filter_df=False, index=15, filter_zero=True)\n",
    "    \n",
    "    final_svod = final_svod.sort_index().sort_values('№')\n",
    "\n",
    "    for i in optimized_svod.drop(['Рубрика', 'В рейтингах, раз'], axis=1).columns:\n",
    "        final_svod = row_number(final_svod, i, i, desc=False, filter_df=False, index=15, filter_zero=True)\n",
    "\n",
    "    final_svod = final_svod[['№', 'Рубрика', 'Пользователи 2020', 'Пользователи 2021',\n",
    "       'Пользователи 2022', 'Пользователи 2023', 'Пользователи, итого',\n",
    "       'Пользователи, %', 'Запросы 2020', 'Запросы 2021', 'Запросы 2022',\n",
    "       'Запросы 2023', 'Запросы, итого', 'Запросы, %',\n",
    "       'Запросов на пользователя 2020', 'Запросов на пользователя 2021',\n",
    "       'Запросов на пользователя 2022', 'Запросов на пользователя 2023',\n",
    "       'Запросов на пользователя, итого', 'Рейтинг по пользователям, итого',\n",
    "       'Антирейтинг по пользователям, итого', 'Рейтинг по пользователям 2020',\n",
    "       'Рейтинг по пользователям 2021', 'Рейтинг по пользователям 2022',\n",
    "       'Рейтинг по пользователям 2023', 'Антирейтинг по пользователям 2020',\n",
    "       'Антирейтинг по пользователям 2021',\n",
    "       'Антирейтинг по пользователям 2022',\n",
    "       'Антирейтинг по пользователям 2023',\n",
    "       'Рейтинг постоянного роста\\nпользователей 2020-2023',\n",
    "       'Рейтинг постоянного роста\\nпользователей 2021-2023',\n",
    "       'Рейтинг постоянного роста\\nпользователей 2022-2023',\n",
    "       'Рейтинг постоянного падения\\nпользователей 2020-2023',\n",
    "       'Рейтинг постоянного падения\\nпользователей 2021-2023',\n",
    "       'Рейтинг постоянного падения\\nпользователей 2022-2023',\n",
    "       'Рейтинг по пользователям ВНВН', 'Рейтинг по пользователям НВНВ',\n",
    "       'Рейтинг стабильности\\nчисла пользователей',\n",
    "       'Рейтинг схожести динамики\\nпользователей и запросов',\n",
    "       'Рейтинг по запросам, итого', 'Антирейтинг по запросам, итого',\n",
    "       'Рейтинг по запросам 2020', 'Рейтинг по запросам 2021',\n",
    "       'Рейтинг по запросам 2022', 'Рейтинг по запросам 2023',\n",
    "       'Антирейтинг по запросам 2020', 'Антирейтинг по запросам 2021',\n",
    "       'Антирейтинг по запросам 2022', 'Антирейтинг по запросам 2023',\n",
    "       'Рейтинг постоянного роста\\nзапросов 2020-2023',\n",
    "       'Рейтинг постоянного роста\\nзапросов 2021-2023',\n",
    "       'Рейтинг постоянного роста\\nзапросов 2022-2023',\n",
    "       'Рейтинг постоянного падения\\nзапросов 2020-2023',\n",
    "       'Рейтинг постоянного падения\\nзапросов 2021-2023',\n",
    "       'Рейтинг постоянного падения\\nзапросов 2022-2023',\n",
    "       'Рейтинг по запросам ВНВН', 'Рейтинг по запросам НВНВ',\n",
    "       'Рейтинг стабильности\\nчисла запросов',\n",
    "       'Антирейтинг схожести динамики\\nпользователей и запросов',\n",
    "       'Вне рейтингов', 'В рейтингах, раз', 'Рейтинг суммарный',\n",
    "       'Рейтинг средний']]\n",
    "    return final_svod\n",
    "    \n",
    "def rename(df1_req_cnt, df1_user_cnt):\n",
    "    pd_df1_req_cnt = pd.DataFrame(df1_req_cnt)\n",
    "    pd_df1_user_cnt = pd.DataFrame(df1_user_cnt)\n",
    "    df1_agg = pd_df1_req_cnt.merge(pd_df1_user_cnt, left_on='rubricName', right_on='rubricName')\n",
    "    df1_agg = df1_agg.sort_values('date', ascending=False)\n",
    "    #df1_agg['rubricName'] = df1_agg['rubricName_x']\n",
    "    df1_agg = df1_agg.set_index('rubricName')[['date', 'user']].fillna(0).astype(int)\n",
    "    return df1_agg"
   ]
  },
  {
   "cell_type": "code",
   "execution_count": 34,
   "id": "fbf6788d-6161-4e36-b85b-16a7b6c07405",
   "metadata": {},
   "outputs": [],
   "source": [
    "master_columns = pd.read_excel(r\"C:\\Users\\Mamed\\YandexDisk\\_Documents\\Проекты\\2ГИС 2023\\Backups\\Мастер_таблица_2ГИС_Москва_230318_1130_extended.xlsx\").columns"
   ]
  },
  {
   "cell_type": "markdown",
   "id": "7370d69d",
   "metadata": {},
   "source": [
    "# Москва"
   ]
  },
  {
   "cell_type": "code",
   "execution_count": null,
   "id": "a41d0932",
   "metadata": {},
   "outputs": [],
   "source": [
    "df20_raw = dd.read_csv(r\"C:/Users/Mamed/Downloads/Москва_2020_969792.csv\", dtype={'fl': 'object'})\n",
    "df20_agg = agg_df(df20_raw, 2020)\n",
    "df21_raw = dd.read_csv(r\"C:/Users/Mamed/Downloads/Москва_2021_970748.csv\", dtype={'fl': 'object'})\n",
    "df21_agg = agg_df(df21_raw, 2021)\n",
    "df22_raw = dd.read_csv(r\"C:/Users/Mamed/Downloads/Москва_2022_970753.csv\", dtype={'fl': 'object'})\n",
    "df22_agg = agg_df(df22_raw, 2022)\n",
    "df23_raw = dd.read_csv(r\"C:/Users/Mamed/Downloads/Москва_2023_970754.csv\", dtype={'fl': 'object'})\n",
    "df23_agg = agg_df(df23_raw, 2023)"
   ]
  },
  {
   "cell_type": "code",
   "execution_count": 43,
   "id": "91613e76",
   "metadata": {},
   "outputs": [],
   "source": [
    "moscow_svod = pd.read_excel(r\"C:\\Users\\Mamed\\YandexDisk\\_Documents\\Проекты\\2ГИС 2023\\Backups\\Мастер_таблица_2ГИС_Москва_230315_1930.xlsx\")"
   ]
  },
  {
   "cell_type": "code",
   "execution_count": null,
   "id": "ae24daa4-9067-4b4f-b60c-3750a4f657f8",
   "metadata": {},
   "outputs": [],
   "source": [
    "#Стартуем с 450 до 750 по 50 пока кол-во 5 не станет = 0\n",
    "#От найденного значения идем вниз по 10, пока кол-во 5 не станет > 0\n",
    "\n",
    "for cut_level_num in range(400, 900, 50):\n",
    "    original_svod_filtered_optimized, df = optimize_df(original_svod, cut_level=cut_level_num, calc_cut_level=True) \n",
    "    if df.iloc[5, 2] >= 0:\n",
    "        break\n",
    "\n",
    "for cut_level_num2 in range(cut_level_num, 400, -10):\n",
    "    original_svod_filtered_optimized, df = optimize_df(original_svod, cut_level=cut_level_num2, calc_cut_level=True) \n",
    "    if df.iloc[5, 2] > 0:\n",
    "        break"
   ]
  },
  {
   "cell_type": "code",
   "execution_count": 76,
   "id": "83c410c6",
   "metadata": {
    "tags": []
   },
   "outputs": [
    {
     "name": "stdout",
     "output_type": "stream",
     "text": [
      "(410, 52)\n",
      "Рейтинги построены\n",
      "Вертикальная оптимизация шаг 1 из 10\n",
      "Вертикальная оптимизация шаг 2 из 10\n",
      "Вертикальная оптимизация шаг 3 из 10\n",
      "Вертикальная оптимизация шаг 4 из 10\n",
      "Вертикальная оптимизация шаг 5 из 10\n",
      "Вертикальная оптимизация шаг 6 из 10\n",
      "Вертикальная оптимизация шаг 7 из 10\n",
      "Вертикальная оптимизация шаг 8 из 10\n",
      "Вертикальная оптимизация шаг 9 из 10\n",
      "Вертикальная оптимизация шаг 10 из 10\n"
     ]
    },
    {
     "data": {
      "text/html": [
       "<div>\n",
       "<style scoped>\n",
       "    .dataframe tbody tr th:only-of-type {\n",
       "        vertical-align: middle;\n",
       "    }\n",
       "\n",
       "    .dataframe tbody tr th {\n",
       "        vertical-align: top;\n",
       "    }\n",
       "\n",
       "    .dataframe thead th {\n",
       "        text-align: right;\n",
       "    }\n",
       "</style>\n",
       "<table border=\"1\" class=\"dataframe\">\n",
       "  <thead>\n",
       "    <tr style=\"text-align: right;\">\n",
       "      <th></th>\n",
       "      <th>Оригинальный файл</th>\n",
       "      <th>Горизонтальная оптимизация</th>\n",
       "      <th>Вертикальная оптимизация</th>\n",
       "    </tr>\n",
       "    <tr>\n",
       "      <th>cnt_horizontal</th>\n",
       "      <th></th>\n",
       "      <th></th>\n",
       "      <th></th>\n",
       "    </tr>\n",
       "  </thead>\n",
       "  <tbody>\n",
       "    <tr>\n",
       "      <th>0.0</th>\n",
       "      <td>78</td>\n",
       "      <td>78</td>\n",
       "      <td>78</td>\n",
       "    </tr>\n",
       "    <tr>\n",
       "      <th>1.0</th>\n",
       "      <td>30</td>\n",
       "      <td>260</td>\n",
       "      <td>169</td>\n",
       "    </tr>\n",
       "    <tr>\n",
       "      <th>2.0</th>\n",
       "      <td>66</td>\n",
       "      <td>27</td>\n",
       "      <td>101</td>\n",
       "    </tr>\n",
       "    <tr>\n",
       "      <th>3.0</th>\n",
       "      <td>37</td>\n",
       "      <td>13</td>\n",
       "      <td>53</td>\n",
       "    </tr>\n",
       "    <tr>\n",
       "      <th>4.0</th>\n",
       "      <td>79</td>\n",
       "      <td>10</td>\n",
       "      <td>8</td>\n",
       "    </tr>\n",
       "    <tr>\n",
       "      <th>5.0</th>\n",
       "      <td>36</td>\n",
       "      <td>4</td>\n",
       "      <td>0</td>\n",
       "    </tr>\n",
       "    <tr>\n",
       "      <th>6.0</th>\n",
       "      <td>26</td>\n",
       "      <td>3</td>\n",
       "      <td>0</td>\n",
       "    </tr>\n",
       "    <tr>\n",
       "      <th>7.0</th>\n",
       "      <td>6</td>\n",
       "      <td>4</td>\n",
       "      <td>0</td>\n",
       "    </tr>\n",
       "    <tr>\n",
       "      <th>8.0</th>\n",
       "      <td>6</td>\n",
       "      <td>0</td>\n",
       "      <td>0</td>\n",
       "    </tr>\n",
       "    <tr>\n",
       "      <th>9.0</th>\n",
       "      <td>2</td>\n",
       "      <td>2</td>\n",
       "      <td>0</td>\n",
       "    </tr>\n",
       "    <tr>\n",
       "      <th>10.0</th>\n",
       "      <td>5</td>\n",
       "      <td>3</td>\n",
       "      <td>0</td>\n",
       "    </tr>\n",
       "    <tr>\n",
       "      <th>11.0</th>\n",
       "      <td>37</td>\n",
       "      <td>5</td>\n",
       "      <td>0</td>\n",
       "    </tr>\n",
       "    <tr>\n",
       "      <th>13.0</th>\n",
       "      <td>1</td>\n",
       "      <td>0</td>\n",
       "      <td>0</td>\n",
       "    </tr>\n",
       "  </tbody>\n",
       "</table>\n",
       "</div>"
      ],
      "text/plain": [
       "                Оригинальный файл  Горизонтальная оптимизация  \\\n",
       "cnt_horizontal                                                  \n",
       "0.0                            78                          78   \n",
       "1.0                            30                         260   \n",
       "2.0                            66                          27   \n",
       "3.0                            37                          13   \n",
       "4.0                            79                          10   \n",
       "5.0                            36                           4   \n",
       "6.0                            26                           3   \n",
       "7.0                             6                           4   \n",
       "8.0                             6                           0   \n",
       "9.0                             2                           2   \n",
       "10.0                            5                           3   \n",
       "11.0                           37                           5   \n",
       "13.0                            1                           0   \n",
       "\n",
       "                Вертикальная оптимизация  \n",
       "cnt_horizontal                            \n",
       "0.0                                   78  \n",
       "1.0                                  169  \n",
       "2.0                                  101  \n",
       "3.0                                   53  \n",
       "4.0                                    8  \n",
       "5.0                                    0  \n",
       "6.0                                    0  \n",
       "7.0                                    0  \n",
       "8.0                                    0  \n",
       "9.0                                    0  \n",
       "10.0                                   0  \n",
       "11.0                                   0  \n",
       "13.0                                   0  "
      ]
     },
     "metadata": {},
     "output_type": "display_data"
    }
   ],
   "source": [
    "moscow_svod_optimized = optimize_df(moscow_svod, cut_level=410) "
   ]
  },
  {
   "cell_type": "code",
   "execution_count": null,
   "id": "848d961d-2deb-48cf-b7dc-00c22b8ca9ba",
   "metadata": {},
   "outputs": [
    {
     "name": "stdout",
     "output_type": "stream",
     "text": [
      "(410, 52)\n",
      "Рейтинги построены\n",
      "Горизонтальная оптимизация завершена\n",
      "Вертикальная оптимизация шаг 1 из 5\n",
      "Вертикальная оптимизация шаг 2 из 5\n",
      "Вертикальная оптимизация шаг 3 из 5\n",
      "Вертикальная оптимизация шаг 4 из 5\n",
      "Вертикальная оптимизация шаг 5 из 5\n"
     ]
    },
    {
     "data": {
      "text/html": [
       "<div>\n",
       "<style scoped>\n",
       "    .dataframe tbody tr th:only-of-type {\n",
       "        vertical-align: middle;\n",
       "    }\n",
       "\n",
       "    .dataframe tbody tr th {\n",
       "        vertical-align: top;\n",
       "    }\n",
       "\n",
       "    .dataframe thead th {\n",
       "        text-align: right;\n",
       "    }\n",
       "</style>\n",
       "<table border=\"1\" class=\"dataframe\">\n",
       "  <thead>\n",
       "    <tr style=\"text-align: right;\">\n",
       "      <th></th>\n",
       "      <th>Оригинальный файл</th>\n",
       "      <th>Горизонтальная оптимизация</th>\n",
       "      <th>Вертикальная оптимизация</th>\n",
       "    </tr>\n",
       "    <tr>\n",
       "      <th>cnt_horizontal</th>\n",
       "      <th></th>\n",
       "      <th></th>\n",
       "      <th></th>\n",
       "    </tr>\n",
       "  </thead>\n",
       "  <tbody>\n",
       "    <tr>\n",
       "      <th>0.0</th>\n",
       "      <td>90</td>\n",
       "      <td>90</td>\n",
       "      <td>90</td>\n",
       "    </tr>\n",
       "    <tr>\n",
       "      <th>1.0</th>\n",
       "      <td>61</td>\n",
       "      <td>221</td>\n",
       "      <td>221</td>\n",
       "    </tr>\n",
       "    <tr>\n",
       "      <th>2.0</th>\n",
       "      <td>99</td>\n",
       "      <td>75</td>\n",
       "      <td>75</td>\n",
       "    </tr>\n",
       "    <tr>\n",
       "      <th>3.0</th>\n",
       "      <td>63</td>\n",
       "      <td>16</td>\n",
       "      <td>16</td>\n",
       "    </tr>\n",
       "    <tr>\n",
       "      <th>4.0</th>\n",
       "      <td>26</td>\n",
       "      <td>7</td>\n",
       "      <td>7</td>\n",
       "    </tr>\n",
       "    <tr>\n",
       "      <th>5.0</th>\n",
       "      <td>18</td>\n",
       "      <td>0</td>\n",
       "      <td>0</td>\n",
       "    </tr>\n",
       "    <tr>\n",
       "      <th>6.0</th>\n",
       "      <td>8</td>\n",
       "      <td>0</td>\n",
       "      <td>0</td>\n",
       "    </tr>\n",
       "    <tr>\n",
       "      <th>7.0</th>\n",
       "      <td>7</td>\n",
       "      <td>0</td>\n",
       "      <td>0</td>\n",
       "    </tr>\n",
       "    <tr>\n",
       "      <th>8.0</th>\n",
       "      <td>3</td>\n",
       "      <td>0</td>\n",
       "      <td>0</td>\n",
       "    </tr>\n",
       "    <tr>\n",
       "      <th>9.0</th>\n",
       "      <td>34</td>\n",
       "      <td>0</td>\n",
       "      <td>0</td>\n",
       "    </tr>\n",
       "  </tbody>\n",
       "</table>\n",
       "</div>"
      ],
      "text/plain": [
       "                Оригинальный файл  Горизонтальная оптимизация  \\\n",
       "cnt_horizontal                                                  \n",
       "0.0                            90                          90   \n",
       "1.0                            61                         221   \n",
       "2.0                            99                          75   \n",
       "3.0                            63                          16   \n",
       "4.0                            26                           7   \n",
       "5.0                            18                           0   \n",
       "6.0                             8                           0   \n",
       "7.0                             7                           0   \n",
       "8.0                             3                           0   \n",
       "9.0                            34                           0   \n",
       "\n",
       "                Вертикальная оптимизация  \n",
       "cnt_horizontal                            \n",
       "0.0                                   90  \n",
       "1.0                                  221  \n",
       "2.0                                   75  \n",
       "3.0                                   16  \n",
       "4.0                                    7  \n",
       "5.0                                    0  \n",
       "6.0                                    0  \n",
       "7.0                                    0  \n",
       "8.0                                    0  \n",
       "9.0                                    0  "
      ]
     },
     "metadata": {},
     "output_type": "display_data"
    }
   ],
   "source": [
    "original_svod_filtered_optimized = optimize_df(moscow_svod, cut_level=410) "
   ]
  },
  {
   "cell_type": "code",
   "execution_count": 95,
   "id": "dde28210",
   "metadata": {},
   "outputs": [
    {
     "name": "stderr",
     "output_type": "stream",
     "text": [
      "C:\\Users\\Mamed\\AppData\\Local\\Temp\\ipykernel_15040\\1065154296.py:332: FutureWarning: Dropping of nuisance columns in DataFrame reductions (with 'numeric_only=None') is deprecated; in a future version this will raise TypeError.  Select only valid columns before calling the reduction.\n",
      "  final_svod['Рейтинг суммарный'] = final_svod[optimized_svod.columns].sum(axis=1)\n",
      "C:\\Users\\Mamed\\AppData\\Local\\Temp\\ipykernel_15040\\1065154296.py:333: FutureWarning: Dropping of nuisance columns in DataFrame reductions (with 'numeric_only=None') is deprecated; in a future version this will raise TypeError.  Select only valid columns before calling the reduction.\n",
      "  final_svod['Рейтинг средний'] = final_svod[optimized_svod.columns].mean(axis=1)\n"
     ]
    }
   ],
   "source": [
    "final_svod = make_final(original_svod, original_svod_filtered_optimized)"
   ]
  },
  {
   "cell_type": "code",
   "execution_count": 96,
   "id": "a7c721f6",
   "metadata": {},
   "outputs": [],
   "source": [
    "final_svod.to_excel('final_svod_master.xlsx', index=False)"
   ]
  },
  {
   "cell_type": "markdown",
   "id": "788f41b0",
   "metadata": {},
   "source": [
    "# Москва запросы и телефоны"
   ]
  },
  {
   "cell_type": "code",
   "execution_count": null,
   "id": "89afff2c",
   "metadata": {},
   "outputs": [],
   "source": [
    "rubrics = pd.read_excel('final_svod_master.xlsx')[['Рубрика']].iloc[:15]\n",
    "\n",
    "#df_all = dd.read_parquet('df_all')\n",
    "#df_filtered = df_all.merge(rubrics, left_on='rubricName', right_on='Рубрика')\n",
    "\n",
    "#df_filtered.to_parquet('df_filtered')\n",
    "\n",
    "df_filtered = dd.read_parquet('df_filtered')"
   ]
  },
  {
   "cell_type": "code",
   "execution_count": 1,
   "id": "b7d850e3",
   "metadata": {},
   "outputs": [],
   "source": [
    "findspark.init()\n",
    "from pyspark.sql import SparkSession\n",
    "try:\n",
    "    spark.stop()\n",
    "except:\n",
    "    pass\n",
    "spark = SparkSession.builder\\\n",
    "        .master(\"local[*]\")\\\n",
    "        .appName('PySpark_Tutorial')\\\n",
    "        .getOrCreate()"
   ]
  },
  {
   "cell_type": "code",
   "execution_count": 5,
   "id": "5d4ce336",
   "metadata": {},
   "outputs": [
    {
     "data": {
      "text/html": [
       "\n",
       "            <div>\n",
       "                <p><b>SparkSession - in-memory</b></p>\n",
       "                \n",
       "        <div>\n",
       "            <p><b>SparkContext</b></p>\n",
       "\n",
       "            <p><a href=\"http://host.docker.internal:4040\">Spark UI</a></p>\n",
       "\n",
       "            <dl>\n",
       "              <dt>Version</dt>\n",
       "                <dd><code>v3.3.1</code></dd>\n",
       "              <dt>Master</dt>\n",
       "                <dd><code>local[*]</code></dd>\n",
       "              <dt>AppName</dt>\n",
       "                <dd><code>PySpark_Tutorial</code></dd>\n",
       "            </dl>\n",
       "        </div>\n",
       "        \n",
       "            </div>\n",
       "        "
      ],
      "text/plain": [
       "<pyspark.sql.session.SparkSession at 0x1ab921a6e20>"
      ]
     },
     "execution_count": 5,
     "metadata": {},
     "output_type": "execute_result"
    }
   ],
   "source": [
    "spark"
   ]
  },
  {
   "cell_type": "code",
   "execution_count": null,
   "id": "d06e93ca",
   "metadata": {},
   "outputs": [],
   "source": [
    "from pyspark.sql.functions import col, udf, coalesce, lit, pandas_udf\n",
    "from pyspark.sql.types import StringType\n",
    "\n",
    "import pymorphy2\n",
    "morph = pymorphy2.MorphAnalyzer()\n",
    "\n",
    "@udf(StringType()) \n",
    "def normalize_word(word):\n",
    "    return ' '.join(sorted([morph.normal_forms(i)[0] for i in word.split(' ')]))"
   ]
  },
  {
   "cell_type": "code",
   "execution_count": null,
   "id": "d3053000",
   "metadata": {},
   "outputs": [],
   "source": [
    "df = spark.read.parquet(r\"C:\\Users\\Mamed\\_Notebooks\\ST\\df_filtered\")#.withColumn('new_tx',normalize_word(coalesce(col('tx'), lit(''))))\n",
    "\n",
    "df.createOrReplaceTempView('df')\n",
    "\n",
    "grouped_df = spark.sql('''\n",
    "\n",
    "select\n",
    "    rubricName\n",
    "    ,year\n",
    "    ,tx\n",
    "    ,cnt\n",
    "    ,row_number() over(partition by rubricName ,year order by cnt desc) rn\n",
    "from (\n",
    "    select\n",
    "        rubricName\n",
    "        ,year(date) year\n",
    "        ,lower(tx) tx\n",
    "        ,count(*) cnt\n",
    "    from df\n",
    "    group by \n",
    "        rubricName\n",
    "        ,year(date)\n",
    "        ,lower(tx)\n",
    "        ) t\n",
    "''')#.where('rn < 16')"
   ]
  },
  {
   "cell_type": "code",
   "execution_count": 192,
   "id": "9c5721ae",
   "metadata": {},
   "outputs": [],
   "source": [
    "grouped_df.write.mode('overwrite').parquet('df_tx_grouped')"
   ]
  },
  {
   "cell_type": "code",
   "execution_count": 193,
   "id": "0651ea84",
   "metadata": {},
   "outputs": [],
   "source": [
    "df_tx_grouped_normalize = spark.read.parquet(\"df_tx_grouped\").withColumn('new_tx',normalize_word(coalesce(col('tx'), lit(''))))"
   ]
  },
  {
   "cell_type": "code",
   "execution_count": 194,
   "id": "ca34b7c2",
   "metadata": {},
   "outputs": [],
   "source": [
    "df_tx_grouped_normalize.write.mode('overwrite').parquet('df_tx_grouped_normalize')"
   ]
  },
  {
   "cell_type": "code",
   "execution_count": 168,
   "id": "180ba834",
   "metadata": {},
   "outputs": [
    {
     "data": {
      "text/plain": [
       "1480320"
      ]
     },
     "execution_count": 168,
     "metadata": {},
     "output_type": "execute_result"
    }
   ],
   "source": [
    "spark.read.parquet(r\"df_tx_grouped\").count()"
   ]
  },
  {
   "cell_type": "code",
   "execution_count": 200,
   "id": "12811abf",
   "metadata": {},
   "outputs": [
    {
     "name": "stdout",
     "output_type": "stream",
     "text": [
      "+----------+----+--------------------+-----+---+--------------------+\n",
      "|rubricName|year|                  tx|  cnt| rn|              new_tx|\n",
      "+----------+----+--------------------+-----+---+--------------------+\n",
      "|     Банки|2022|            сбербанк|75356|  1|            сбербанк|\n",
      "|     Банки|2022|                null|40327|  2|                    |\n",
      "|     Банки|2022|  сбербанк отделения|33827|  3|  отделение сбербанк|\n",
      "|     Банки|2022|                 втб|32847|  4|                 втб|\n",
      "|     Банки|2022|альфа банк отделения|30460|  5|альфа банк отделение|\n",
      "|     Банки|2022|          совкомбанк|12579|  6|          совкомбанк|\n",
      "|     Банки|2022|            банк втб|12356|  7|            банк втб|\n",
      "|     Банки|2022|               банки|11585|  8|                банк|\n",
      "|     Банки|2022|газпромбанк отдел...| 9986|  9|газпромбанк отдел...|\n",
      "|     Банки|2022|райффайзенбанк от...| 8162| 10|отделение райффай...|\n",
      "|     Банки|2022|          почта банк| 8058| 11|          банк почта|\n",
      "|     Банки|2022|       втб отделения| 7325| 12|       втб отделение|\n",
      "|     Банки|2022|      россельхозбанк| 6194| 13|      россельхозбанк|\n",
      "|     Банки|2022|                банк| 6091| 14|                банк|\n",
      "|     Банки|2022|  сбербанк, банкомат| 5319| 15|  банкомат сбербанк,|\n",
      "|     Банки|2022|          альфа-банк| 4620| 16|          альфа-банк|\n",
      "|     Банки|2022|            открытие| 4528| 17|            открытие|\n",
      "|     Банки|2022|   росбанк отделения| 4198| 18|   отделение росбанк|\n",
      "|     Банки|2022|  ближайший сбербанк| 3593| 19|    близкий сбербанк|\n",
      "|     Банки|2022|            мтс-банк| 3221| 20|            мтс-банк|\n",
      "+----------+----+--------------------+-----+---+--------------------+\n",
      "only showing top 20 rows\n",
      "\n"
     ]
    }
   ],
   "source": [
    "spark.read.parquet(r\"df_tx_grouped_normalize\").show()"
   ]
  },
  {
   "cell_type": "code",
   "execution_count": 197,
   "id": "3d98d5c6",
   "metadata": {},
   "outputs": [],
   "source": [
    "df_tx = spark.read.parquet(r\"df_tx_grouped_normalize\")"
   ]
  },
  {
   "cell_type": "code",
   "execution_count": 198,
   "id": "f57516ba",
   "metadata": {},
   "outputs": [],
   "source": [
    "df_tx.createOrReplaceTempView('df_tx')"
   ]
  },
  {
   "cell_type": "code",
   "execution_count": 201,
   "id": "33ece8a5",
   "metadata": {},
   "outputs": [],
   "source": [
    "df_tx_grouped_normalize_final = spark.sql('''\n",
    "\n",
    "select\n",
    "    rubricName\n",
    "    ,year\n",
    "    ,new_tx\n",
    "    ,cnt\n",
    "    ,row_number() over(partition by rubricName ,year order by cnt desc) rn\n",
    "from (\n",
    "    select\n",
    "        rubricName\n",
    "        ,year\n",
    "        ,new_tx\n",
    "        ,sum(cnt) cnt\n",
    "    from df_tx\n",
    "    group by \n",
    "        rubricName\n",
    "        ,year\n",
    "        ,new_tx\n",
    "        ) t\n",
    "''').where('rn < 16')"
   ]
  },
  {
   "cell_type": "code",
   "execution_count": 202,
   "id": "af3f1aa2",
   "metadata": {},
   "outputs": [],
   "source": [
    "df_tx_grouped_normalize_final.write.mode('overwrite').parquet('df_tx_grouped_normalize_final')"
   ]
  },
  {
   "cell_type": "code",
   "execution_count": 204,
   "id": "ffe4582d",
   "metadata": {},
   "outputs": [
    {
     "data": {
      "text/plain": [
       "1135"
      ]
     },
     "execution_count": 204,
     "metadata": {},
     "output_type": "execute_result"
    }
   ],
   "source": [
    "spark.read.parquet('df_tx_grouped_normalize_final').count()"
   ]
  },
  {
   "cell_type": "code",
   "execution_count": 205,
   "id": "3623751e",
   "metadata": {},
   "outputs": [],
   "source": [
    "pdf = spark.read.parquet('df_tx_grouped_normalize_final').toPandas()"
   ]
  },
  {
   "cell_type": "code",
   "execution_count": 208,
   "id": "2e935bd7",
   "metadata": {},
   "outputs": [],
   "source": [
    "pdf.to_excel('pdf.xlsx')"
   ]
  },
  {
   "cell_type": "code",
   "execution_count": null,
   "id": "d9fcd4fd",
   "metadata": {},
   "outputs": [],
   "source": []
  },
  {
   "cell_type": "code",
   "execution_count": 212,
   "id": "ffc03da3",
   "metadata": {},
   "outputs": [],
   "source": [
    "grouped_df_devmod = spark.sql('''\n",
    "\n",
    "select\n",
    "    rubricName\n",
    "    ,year\n",
    "    ,devmod\n",
    "    ,cnt\n",
    "    ,row_number() over(partition by rubricName ,year order by cnt desc) rn\n",
    "from (\n",
    "    select\n",
    "        rubricName\n",
    "        ,year(date) year\n",
    "        ,lower(devmod) devmod\n",
    "        ,count(*) cnt\n",
    "    from df\n",
    "    group by \n",
    "        rubricName\n",
    "        ,year(date)\n",
    "        ,lower(devmod)\n",
    "        ) t\n",
    "''').where('rn < 16')"
   ]
  },
  {
   "cell_type": "code",
   "execution_count": 214,
   "id": "1e9b1d4e",
   "metadata": {},
   "outputs": [],
   "source": [
    "grouped_df_devmod.write.mode('overwrite').parquet('df_devmod_grouped')"
   ]
  },
  {
   "cell_type": "code",
   "execution_count": 215,
   "id": "e0f3d57b",
   "metadata": {},
   "outputs": [],
   "source": [
    "pdf2 = spark.read.parquet('df_devmod_grouped').toPandas()"
   ]
  },
  {
   "cell_type": "code",
   "execution_count": 216,
   "id": "4703893a",
   "metadata": {},
   "outputs": [],
   "source": [
    "pdf2.to_excel('pdf2.xlsx')"
   ]
  },
  {
   "cell_type": "code",
   "execution_count": null,
   "id": "e6ccd57b",
   "metadata": {},
   "outputs": [],
   "source": []
  },
  {
   "cell_type": "code",
   "execution_count": null,
   "id": "460eb22b",
   "metadata": {},
   "outputs": [],
   "source": []
  },
  {
   "cell_type": "markdown",
   "id": "e3676e6c",
   "metadata": {},
   "source": [
    "# СПБ"
   ]
  },
  {
   "cell_type": "code",
   "execution_count": null,
   "id": "4e3cc174",
   "metadata": {},
   "outputs": [],
   "source": [
    "spb20_raw = dd.read_csv(r\"C:\\Users\\Mamed\\Downloads\\СПБ_2020_974783.csv\")\n",
    "spb20_agg = agg_df(spb20_raw, 'spb_2020')"
   ]
  },
  {
   "cell_type": "code",
   "execution_count": null,
   "id": "6f6b62a2",
   "metadata": {},
   "outputs": [],
   "source": [
    "spb21_raw = dd.read_csv(r\"C:\\Users\\Mamed\\Downloads\\СПБ_2021_974784.csv\")\n",
    "spb21_agg = agg_df(spb21_raw, 'spb_2021')"
   ]
  },
  {
   "cell_type": "markdown",
   "id": "a0536a7d",
   "metadata": {},
   "source": [
    "# Алматы"
   ]
  },
  {
   "cell_type": "code",
   "execution_count": null,
   "id": "97330ef5",
   "metadata": {},
   "outputs": [],
   "source": [
    "df23_raw = dd.read_csv(r\"C:\\Users\\Mamed\\Desktop\\файлы_2гис_2023\\Алмата_2023_974800.csv\", dtype={'fl': 'object'})\n",
    "df23_agg = agg_df(df23_raw, 'алмата_2023')"
   ]
  },
  {
   "cell_type": "code",
   "execution_count": null,
   "id": "cd689439",
   "metadata": {},
   "outputs": [],
   "source": [
    "df22_raw = dd.read_csv(r\"C:\\Users\\Mamed\\Desktop\\файлы_2гис_2023\\Алмата_2022_974799.csv\", dtype={'fl': 'object'})\n",
    "df22_agg = agg_df(df22_raw, 'алмата_2022')"
   ]
  },
  {
   "cell_type": "code",
   "execution_count": null,
   "id": "2bc5ea6d",
   "metadata": {},
   "outputs": [],
   "source": [
    "df21_raw = dd.read_csv(r\"C:\\Users\\Mamed\\Desktop\\файлы_2гис_2023\\Алмата_2021_974798.csv\", dtype={'fl': 'object'})\n",
    "df21_agg = agg_df(df21_raw, 'алмата_2021')"
   ]
  },
  {
   "cell_type": "code",
   "execution_count": 7,
   "id": "314c052a",
   "metadata": {},
   "outputs": [
    {
     "name": "stdout",
     "output_type": "stream",
     "text": [
      "Start: 2023-03-17 03:34:44.235204\n",
      "End: 2023-03-17 03:59:45.969968\n",
      "Duration: 0:25:01.734764\n"
     ]
    }
   ],
   "source": [
    "df20_raw = dd.read_csv(r\"C:\\Users\\Mamed\\Desktop\\файлы_2гис_2023\\Алмата_2020_974797.csv\", dtype={'fl': 'object'})\n",
    "df20_agg = agg_df(df20_raw, 'алмата_2020')"
   ]
  },
  {
   "cell_type": "code",
   "execution_count": 7,
   "id": "cfaddbfd",
   "metadata": {},
   "outputs": [],
   "source": [
    "df1_req_cnt_алмата_2020 = pd.read_excel('df1_req_cnt_алмата_2020.xlsx')\n",
    "df1_req_cnt_алмата_2021 = pd.read_excel('df1_req_cnt_алмата_2021.xlsx')\n",
    "df1_req_cnt_алмата_2022 = pd.read_excel('df1_req_cnt_алмата_2022.xlsx')\n",
    "df1_req_cnt_алмата_2023 = pd.read_excel('df1_req_cnt_алмата_2023.xlsx')\n",
    "\n",
    "df1_user_cnt_алмата_2020 = pd.read_excel('df1_user_cnt_алмата_2020.xlsx')\n",
    "df1_user_cnt_алмата_2021 = pd.read_excel('df1_user_cnt_алмата_2021.xlsx')\n",
    "df1_user_cnt_алмата_2022 = pd.read_excel('df1_user_cnt_алмата_2022.xlsx')\n",
    "df1_user_cnt_алмата_2023 = pd.read_excel('df1_user_cnt_алмата_2023.xlsx')\n",
    "\n",
    "df1_cnt_алмата_2020 = rename(df1_req_cnt_алмата_2020, df1_user_cnt_алмата_2020)\n",
    "df1_cnt_алмата_2021 = rename(df1_req_cnt_алмата_2021, df1_user_cnt_алмата_2021)\n",
    "df1_cnt_алмата_2022 = rename(df1_req_cnt_алмата_2022, df1_user_cnt_алмата_2022)\n",
    "df1_cnt_алмата_2023 = rename(df1_req_cnt_алмата_2023, df1_user_cnt_алмата_2023)\n",
    "\n",
    "df1_cnt_алмата_2020_2021 = df1_cnt_алмата_2020.merge(df1_cnt_алмата_2021, how='outer', left_index=True, right_index=True)\n",
    "\n",
    "df1_cnt_алмата_2022_2023 = df1_cnt_алмата_2022.merge(df1_cnt_алмата_2023, how='outer', left_index=True, right_index=True)\n",
    "\n",
    "columns1 = ['Запросы 2020','Пользователи 2020','Запросы 2021','Пользователи 2021']\n",
    "\n",
    "columns2 = ['Запросы 2022','Пользователи 2022','Запросы 2023','Пользователи 2023']\n",
    "\n",
    "df1_cnt_алмата_2020_2021.columns = columns1\n",
    "\n",
    "df1_cnt_алмата_2022_2023.columns = columns2\n",
    "\n",
    "df1_cnt_алмата = df1_cnt_алмата_2020_2021.merge(df1_cnt_алмата_2022_2023, how='outer', left_index=True, right_index=True).reset_index()\n",
    "\n",
    "df1_cnt_алмата['Рубрика'] = df1_cnt_алмата['rubricName']\n",
    "\n",
    "df1_cnt_алмата = df1_cnt_алмата.drop('rubricName', axis=1)"
   ]
  },
  {
   "cell_type": "code",
   "execution_count": 61,
   "id": "5d687ef5",
   "metadata": {},
   "outputs": [
    {
     "name": "stdout",
     "output_type": "stream",
     "text": [
      "4781734 1420348 1516714 1801050 2297946\n"
     ]
    }
   ],
   "source": [
    "count_users_requests('almata', df20_raw, df21_raw, df22_raw, df23_raw)"
   ]
  },
  {
   "cell_type": "code",
   "execution_count": 8,
   "id": "9d7fd30a",
   "metadata": {},
   "outputs": [],
   "source": [
    "almata_users_itogo = pd.read_excel('almatausers_itogo.xlsx')\n",
    "\n",
    "almata_svod = df1_cnt_алмата.merge(almata_users_itogo, right_on='rubricName', left_on='Рубрика')\n",
    "\n",
    "columns = ['№', 'Рубрика', 'Пользователи 2020', 'Пользователи 2021',\n",
    "       'Пользователи 2022', 'Пользователи 2023', 'Пользователи, итого',\n",
    "       'Пользователи, %', 'Запросы 2020', 'Запросы 2021', 'Запросы 2022',\n",
    "       'Запросы 2023', 'Запросы, итого', 'Запросы, %',\n",
    "       'Запросов на пользователя 2020', 'Запросов на пользователя 2021',\n",
    "       'Запросов на пользователя 2022', 'Запросов на пользователя 2023',\n",
    "       'Запросов на пользователя, итого']\n",
    "\n",
    "almata_svod['Пользователи, итого'] = almata_svod['user']\n",
    "\n",
    "for i in columns:\n",
    "    if i not in almata_svod.columns:\n",
    "        almata_svod[i] = ''\n",
    "\n",
    "almata_svod = almata_svod[['№', 'Рубрика', 'Пользователи 2020', 'Пользователи 2021',\n",
    "       'Пользователи 2022', 'Пользователи 2023', 'Пользователи, итого',\n",
    "       'Пользователи, %', 'Запросы 2020', 'Запросы 2021', 'Запросы 2022',\n",
    "       'Запросы 2023', 'Запросы, итого', 'Запросы, %',\n",
    "       'Запросов на пользователя 2020', 'Запросов на пользователя 2021',\n",
    "       'Запросов на пользователя 2022', 'Запросов на пользователя 2023',\n",
    "       'Запросов на пользователя, итого']]"
   ]
  },
  {
   "cell_type": "code",
   "execution_count": 9,
   "id": "807b8212",
   "metadata": {},
   "outputs": [],
   "source": [
    "#almata_svod.to_excel('almata_svod.xlsx')"
   ]
  },
  {
   "cell_type": "code",
   "execution_count": 86,
   "id": "d9cef1bb",
   "metadata": {},
   "outputs": [],
   "source": [
    "almata_svod_itogo = pd.read_excel(r\"C:\\Users\\Mamed\\YandexDisk\\_Documents\\Проекты\\2ГИС 2023\\Алматы\\Таблица_2ГИС_Алматы_Итого_230317_1245.xlsx\")"
   ]
  },
  {
   "cell_type": "code",
   "execution_count": 87,
   "id": "7a23cfb0",
   "metadata": {},
   "outputs": [],
   "source": [
    "almata_svod_itogo = almata_svod_itogo[almata_svod_itogo['№'] != 'Итог'].fillna(0)"
   ]
  },
  {
   "cell_type": "code",
   "execution_count": 89,
   "id": "98fc7535",
   "metadata": {},
   "outputs": [
    {
     "name": "stdout",
     "output_type": "stream",
     "text": [
      "(400, 19)\n",
      "Рейтинги построены\n",
      "Горизонтальная оптимизация завершена\n",
      "Вертикальная оптимизация шаг 1 из 5\n",
      "Вертикальная оптимизация шаг 2 из 5\n",
      "Вертикальная оптимизация шаг 3 из 5\n",
      "Вертикальная оптимизация шаг 4 из 5\n",
      "Вертикальная оптимизация шаг 5 из 5\n"
     ]
    },
    {
     "data": {
      "text/html": [
       "<div>\n",
       "<style scoped>\n",
       "    .dataframe tbody tr th:only-of-type {\n",
       "        vertical-align: middle;\n",
       "    }\n",
       "\n",
       "    .dataframe tbody tr th {\n",
       "        vertical-align: top;\n",
       "    }\n",
       "\n",
       "    .dataframe thead th {\n",
       "        text-align: right;\n",
       "    }\n",
       "</style>\n",
       "<table border=\"1\" class=\"dataframe\">\n",
       "  <thead>\n",
       "    <tr style=\"text-align: right;\">\n",
       "      <th></th>\n",
       "      <th>Оригинальный файл</th>\n",
       "      <th>Горизонтальная оптимизация</th>\n",
       "      <th>Вертикальная оптимизация</th>\n",
       "    </tr>\n",
       "    <tr>\n",
       "      <th>cnt_horizontal</th>\n",
       "      <th></th>\n",
       "      <th></th>\n",
       "      <th></th>\n",
       "    </tr>\n",
       "  </thead>\n",
       "  <tbody>\n",
       "    <tr>\n",
       "      <th>0.0</th>\n",
       "      <td>127</td>\n",
       "      <td>127</td>\n",
       "      <td>127</td>\n",
       "    </tr>\n",
       "    <tr>\n",
       "      <th>1.0</th>\n",
       "      <td>69</td>\n",
       "      <td>191</td>\n",
       "      <td>191</td>\n",
       "    </tr>\n",
       "    <tr>\n",
       "      <th>2.0</th>\n",
       "      <td>69</td>\n",
       "      <td>46</td>\n",
       "      <td>46</td>\n",
       "    </tr>\n",
       "    <tr>\n",
       "      <th>3.0</th>\n",
       "      <td>48</td>\n",
       "      <td>25</td>\n",
       "      <td>25</td>\n",
       "    </tr>\n",
       "    <tr>\n",
       "      <th>4.0</th>\n",
       "      <td>20</td>\n",
       "      <td>10</td>\n",
       "      <td>10</td>\n",
       "    </tr>\n",
       "    <tr>\n",
       "      <th>5.0</th>\n",
       "      <td>17</td>\n",
       "      <td>0</td>\n",
       "      <td>0</td>\n",
       "    </tr>\n",
       "    <tr>\n",
       "      <th>6.0</th>\n",
       "      <td>10</td>\n",
       "      <td>0</td>\n",
       "      <td>0</td>\n",
       "    </tr>\n",
       "    <tr>\n",
       "      <th>7.0</th>\n",
       "      <td>20</td>\n",
       "      <td>0</td>\n",
       "      <td>0</td>\n",
       "    </tr>\n",
       "    <tr>\n",
       "      <th>8.0</th>\n",
       "      <td>16</td>\n",
       "      <td>0</td>\n",
       "      <td>0</td>\n",
       "    </tr>\n",
       "    <tr>\n",
       "      <th>9.0</th>\n",
       "      <td>2</td>\n",
       "      <td>0</td>\n",
       "      <td>0</td>\n",
       "    </tr>\n",
       "    <tr>\n",
       "      <th>11.0</th>\n",
       "      <td>1</td>\n",
       "      <td>0</td>\n",
       "      <td>0</td>\n",
       "    </tr>\n",
       "  </tbody>\n",
       "</table>\n",
       "</div>"
      ],
      "text/plain": [
       "                Оригинальный файл  Горизонтальная оптимизация  \\\n",
       "cnt_horizontal                                                  \n",
       "0.0                           127                         127   \n",
       "1.0                            69                         191   \n",
       "2.0                            69                          46   \n",
       "3.0                            48                          25   \n",
       "4.0                            20                          10   \n",
       "5.0                            17                           0   \n",
       "6.0                            10                           0   \n",
       "7.0                            20                           0   \n",
       "8.0                            16                           0   \n",
       "9.0                             2                           0   \n",
       "11.0                            1                           0   \n",
       "\n",
       "                Вертикальная оптимизация  \n",
       "cnt_horizontal                            \n",
       "0.0                                  127  \n",
       "1.0                                  191  \n",
       "2.0                                   46  \n",
       "3.0                                   25  \n",
       "4.0                                   10  \n",
       "5.0                                    0  \n",
       "6.0                                    0  \n",
       "7.0                                    0  \n",
       "8.0                                    0  \n",
       "9.0                                    0  \n",
       "11.0                                   0  "
      ]
     },
     "metadata": {},
     "output_type": "display_data"
    }
   ],
   "source": [
    "almata_optimized = optimize_df(almata_svod_itogo, cut_level=400)"
   ]
  },
  {
   "cell_type": "code",
   "execution_count": 93,
   "id": "91535f81",
   "metadata": {},
   "outputs": [
    {
     "name": "stderr",
     "output_type": "stream",
     "text": [
      "C:\\Users\\Mamed\\AppData\\Local\\Temp\\ipykernel_15040\\1065154296.py:332: FutureWarning: Dropping of nuisance columns in DataFrame reductions (with 'numeric_only=None') is deprecated; in a future version this will raise TypeError.  Select only valid columns before calling the reduction.\n",
      "  final_svod['Рейтинг суммарный'] = final_svod[optimized_svod.columns].sum(axis=1)\n",
      "C:\\Users\\Mamed\\AppData\\Local\\Temp\\ipykernel_15040\\1065154296.py:333: FutureWarning: Dropping of nuisance columns in DataFrame reductions (with 'numeric_only=None') is deprecated; in a future version this will raise TypeError.  Select only valid columns before calling the reduction.\n",
      "  final_svod['Рейтинг средний'] = final_svod[optimized_svod.columns].mean(axis=1)\n"
     ]
    }
   ],
   "source": [
    "almata_final = make_final(almata_svod_itogo, almata_optimized)"
   ]
  },
  {
   "cell_type": "code",
   "execution_count": 94,
   "id": "fd0b5d3b",
   "metadata": {},
   "outputs": [],
   "source": [
    "almata_final.to_excel('almata_final.xlsx')"
   ]
  },
  {
   "cell_type": "markdown",
   "id": "e0e474ca",
   "metadata": {},
   "source": [
    "# Новосибирск"
   ]
  },
  {
   "cell_type": "code",
   "execution_count": 141,
   "id": "059e9dd4",
   "metadata": {},
   "outputs": [
    {
     "name": "stdout",
     "output_type": "stream",
     "text": [
      "Start: 2023-03-17 04:18:04.432750\n",
      "End: 2023-03-17 04:18:04.772263\n",
      "Duration: 0:00:00.339513\n"
     ]
    }
   ],
   "source": [
    "#2023\n",
    "nov_df20_raw = dd.read_csv(r\"C:\\Users\\Mamed\\Desktop\\файлы_2гис_2023\\Новосибирск_2020_974796.csv\", dtype={'fl': 'object'})\n",
    "nov_df20_agg = agg_df(nov_df20_raw, 'новосиб_2020')"
   ]
  },
  {
   "cell_type": "code",
   "execution_count": 142,
   "id": "6fb40e58",
   "metadata": {},
   "outputs": [
    {
     "name": "stdout",
     "output_type": "stream",
     "text": [
      "Start: 2023-03-17 04:18:07.367428\n",
      "End: 2023-03-17 04:18:07.543124\n",
      "Duration: 0:00:00.175696\n"
     ]
    }
   ],
   "source": [
    "#2021\n",
    "nov_df21_raw = dd.read_csv(r\"C:\\Users\\Mamed\\Desktop\\файлы_2гис_2023\\Новосибирск_2021_974792.csv\", dtype={'fl': 'object'})\n",
    "nov_df21_agg = agg_df(nov_df21_raw, 'новосиб_2021')"
   ]
  },
  {
   "cell_type": "code",
   "execution_count": 143,
   "id": "491c5f13",
   "metadata": {},
   "outputs": [
    {
     "name": "stdout",
     "output_type": "stream",
     "text": [
      "Start: 2023-03-17 04:18:07.859904\n",
      "End: 2023-03-17 04:18:08.033286\n",
      "Duration: 0:00:00.173382\n"
     ]
    }
   ],
   "source": [
    "#2022\n",
    "nov_df22_raw = dd.read_csv(r\"C:\\Users\\Mamed\\Desktop\\файлы_2гис_2023\\Новосибирск_2022_974795.csv\", dtype={'fl': 'object'})\n",
    "nov_df22_agg = agg_df(nov_df22_raw, 'новосиб_2022')"
   ]
  },
  {
   "cell_type": "code",
   "execution_count": 144,
   "id": "ecd16ac0",
   "metadata": {},
   "outputs": [
    {
     "name": "stdout",
     "output_type": "stream",
     "text": [
      "Start: 2023-03-17 04:18:08.684168\n",
      "End: 2023-03-17 04:18:08.855440\n",
      "Duration: 0:00:00.171272\n"
     ]
    }
   ],
   "source": [
    "#2020\n",
    "nov_df23_raw = dd.read_csv(r\"C:\\Users\\Mamed\\Desktop\\файлы_2гис_2023\\Новосибирск_2023_974791.csv\", dtype={'fl': 'object'})\n",
    "nov_df23_agg = agg_df(nov_df23_raw, 'новосиб_2023')"
   ]
  },
  {
   "cell_type": "code",
   "execution_count": 132,
   "id": "b1b409e7",
   "metadata": {},
   "outputs": [],
   "source": [
    "df1_req_cnt_новосиб_2020 = pd.read_excel('df1_req_cnt_новосиб_2020.xlsx')\n",
    "df1_req_cnt_новосиб_2021 = pd.read_excel('df1_req_cnt_новосиб_2021.xlsx')\n",
    "df1_req_cnt_новосиб_2022 = pd.read_excel('df1_req_cnt_новосиб_2022.xlsx')\n",
    "df1_req_cnt_новосиб_2023 = pd.read_excel('df1_req_cnt_новосиб_2023.xlsx')\n",
    "\n",
    "df1_user_cnt_новосиб_2020 = pd.read_excel('df1_user_cnt_новосиб_2020.xlsx')\n",
    "df1_user_cnt_новосиб_2021 = pd.read_excel('df1_user_cnt_новосиб_2021.xlsx')\n",
    "df1_user_cnt_новосиб_2022 = pd.read_excel('df1_user_cnt_новосиб_2022.xlsx')\n",
    "df1_user_cnt_новосиб_2023 = pd.read_excel('df1_user_cnt_новосиб_2023.xlsx')\n",
    "\n",
    "df1_cnt_новосиб_2020 = rename(df1_req_cnt_новосиб_2020, df1_user_cnt_новосиб_2020)\n",
    "df1_cnt_новосиб_2021 = rename(df1_req_cnt_новосиб_2021, df1_user_cnt_новосиб_2021)\n",
    "df1_cnt_новосиб_2022 = rename(df1_req_cnt_новосиб_2022, df1_user_cnt_новосиб_2022)\n",
    "df1_cnt_новосиб_2023 = rename(df1_req_cnt_новосиб_2023, df1_user_cnt_новосиб_2023)\n",
    "\n",
    "df1_cnt_новосиб_2020_2021 = df1_cnt_новосиб_2020.merge(df1_cnt_новосиб_2021, how='outer', left_index=True, right_index=True)\n",
    "\n",
    "df1_cnt_новосиб_2022_2023 = df1_cnt_новосиб_2022.merge(df1_cnt_новосиб_2023, how='outer', left_index=True, right_index=True)\n",
    "\n",
    "columns1 = ['Запросы 2020','Пользователи 2020','Запросы 2021','Пользователи 2021']\n",
    "\n",
    "columns2 = ['Запросы 2022','Пользователи 2022','Запросы 2023','Пользователи 2023']\n",
    "\n",
    "df1_cnt_новосиб_2020_2021.columns = columns1\n",
    "\n",
    "df1_cnt_новосиб_2022_2023.columns = columns2\n",
    "\n",
    "df1_cnt_новосиб = df1_cnt_новосиб_2020_2021.merge(df1_cnt_новосиб_2022_2023, how='outer', left_index=True, right_index=True).reset_index()\n",
    "\n",
    "df1_cnt_новосиб['Рубрика'] = df1_cnt_новосиб['rubricName']\n",
    "\n",
    "df1_cnt_новосиб = df1_cnt_новосиб.drop('rubricName', axis=1)"
   ]
  },
  {
   "cell_type": "code",
   "execution_count": 145,
   "id": "4b377158",
   "metadata": {
    "scrolled": true
   },
   "outputs": [
    {
     "name": "stdout",
     "output_type": "stream",
     "text": [
      "2785152 1212936 1067135 1158251 1084689\n"
     ]
    }
   ],
   "source": [
    "count_users_requests('nov', nov_df20_raw, nov_df21_raw, nov_df22_raw, nov_df23_raw)"
   ]
  },
  {
   "cell_type": "markdown",
   "id": "0eb31c4b",
   "metadata": {},
   "source": [
    "##### исправление ошибки с перепутанными датами\n",
    "df1_cnt_новосиб['Запросы 2020'], df1_cnt_новосиб['Запросы 2023'] = df1_cnt_новосиб['Запросы 2023'], df1_cnt_новосиб['Запросы 2020']\n",
    "\n",
    "df1_cnt_новосиб['Пользователи 2020'], df1_cnt_новосиб['Пользователи 2023'] = df1_cnt_новосиб['Пользователи 2023'], df1_cnt_новосиб['Пользователи 2020']"
   ]
  },
  {
   "cell_type": "code",
   "execution_count": 155,
   "id": "03638ca0",
   "metadata": {},
   "outputs": [],
   "source": [
    "nov_users_itogo = pd.read_excel('novusers_itogo.xlsx')"
   ]
  },
  {
   "cell_type": "code",
   "execution_count": 165,
   "id": "f638ead9",
   "metadata": {},
   "outputs": [],
   "source": [
    "novosib_svod = df1_cnt_новосиб.merge(nov_users_itogo, right_on='rubricName', left_on='Рубрика')"
   ]
  },
  {
   "cell_type": "code",
   "execution_count": 169,
   "id": "bc2c2de2",
   "metadata": {},
   "outputs": [],
   "source": [
    "columns = ['№', 'Рубрика', 'Пользователи 2020', 'Пользователи 2021',\n",
    "       'Пользователи 2022', 'Пользователи 2023', 'Пользователи, итого',\n",
    "       'Пользователи, %', 'Запросы 2020', 'Запросы 2021', 'Запросы 2022',\n",
    "       'Запросы 2023', 'Запросы, итого', 'Запросы, %',\n",
    "       'Запросов на пользователя 2020', 'Запросов на пользователя 2021',\n",
    "       'Запросов на пользователя 2022', 'Запросов на пользователя 2023',\n",
    "       'Запросов на пользователя, итого']"
   ]
  },
  {
   "cell_type": "code",
   "execution_count": 170,
   "id": "acf91215",
   "metadata": {},
   "outputs": [],
   "source": [
    "novosib_svod['Пользователи, итого'] = novosib_svod['user']"
   ]
  },
  {
   "cell_type": "code",
   "execution_count": 177,
   "id": "c9f878c9",
   "metadata": {},
   "outputs": [],
   "source": [
    "for i in columns:\n",
    "    if i not in novosib_svod.columns:\n",
    "        novosib_svod[i] = ''"
   ]
  },
  {
   "cell_type": "code",
   "execution_count": 179,
   "id": "3656d4f6",
   "metadata": {},
   "outputs": [],
   "source": [
    "novosib_svod = novosib_svod[['№', 'Рубрика', 'Пользователи 2020', 'Пользователи 2021',\n",
    "       'Пользователи 2022', 'Пользователи 2023', 'Пользователи, итого',\n",
    "       'Пользователи, %', 'Запросы 2020', 'Запросы 2021', 'Запросы 2022',\n",
    "       'Запросы 2023', 'Запросы, итого', 'Запросы, %',\n",
    "       'Запросов на пользователя 2020', 'Запросов на пользователя 2021',\n",
    "       'Запросов на пользователя 2022', 'Запросов на пользователя 2023',\n",
    "       'Запросов на пользователя, итого']]"
   ]
  },
  {
   "cell_type": "code",
   "execution_count": 182,
   "id": "e99b5fd6",
   "metadata": {},
   "outputs": [],
   "source": [
    "#novosib_svod.to_excel('novosib_svod.xlsx')"
   ]
  },
  {
   "cell_type": "code",
   "execution_count": 80,
   "id": "66d1c915",
   "metadata": {},
   "outputs": [],
   "source": [
    "novosib_svod_itogo = pd.read_excel(r\"C:\\Users\\Mamed\\YandexDisk\\_Documents\\Проекты\\2ГИС 2023\\Новосибирск\\Таблица_2ГИС_Новосибирск_Итого_230317_1245.xlsx\")"
   ]
  },
  {
   "cell_type": "code",
   "execution_count": 81,
   "id": "12d0917d",
   "metadata": {},
   "outputs": [],
   "source": [
    "novosib_svod_itogo = novosib_svod_itogo[novosib_svod_itogo['№'] != 'Итог'].fillna(0)"
   ]
  },
  {
   "cell_type": "code",
   "execution_count": 83,
   "id": "daca191c",
   "metadata": {},
   "outputs": [
    {
     "name": "stdout",
     "output_type": "stream",
     "text": [
      "(400, 19)\n",
      "Рейтинги построены\n",
      "Горизонтальная оптимизация завершена\n",
      "Вертикальная оптимизация шаг 1 из 5\n",
      "Вертикальная оптимизация шаг 2 из 5\n",
      "Вертикальная оптимизация шаг 3 из 5\n",
      "Вертикальная оптимизация шаг 4 из 5\n",
      "Вертикальная оптимизация шаг 5 из 5\n"
     ]
    },
    {
     "data": {
      "text/html": [
       "<div>\n",
       "<style scoped>\n",
       "    .dataframe tbody tr th:only-of-type {\n",
       "        vertical-align: middle;\n",
       "    }\n",
       "\n",
       "    .dataframe tbody tr th {\n",
       "        vertical-align: top;\n",
       "    }\n",
       "\n",
       "    .dataframe thead th {\n",
       "        text-align: right;\n",
       "    }\n",
       "</style>\n",
       "<table border=\"1\" class=\"dataframe\">\n",
       "  <thead>\n",
       "    <tr style=\"text-align: right;\">\n",
       "      <th></th>\n",
       "      <th>Оригинальный файл</th>\n",
       "      <th>Горизонтальная оптимизация</th>\n",
       "      <th>Вертикальная оптимизация</th>\n",
       "    </tr>\n",
       "    <tr>\n",
       "      <th>cnt_horizontal</th>\n",
       "      <th></th>\n",
       "      <th></th>\n",
       "      <th></th>\n",
       "    </tr>\n",
       "  </thead>\n",
       "  <tbody>\n",
       "    <tr>\n",
       "      <th>0.0</th>\n",
       "      <td>10</td>\n",
       "      <td>10</td>\n",
       "      <td>10</td>\n",
       "    </tr>\n",
       "    <tr>\n",
       "      <th>1.0</th>\n",
       "      <td>38</td>\n",
       "      <td>309</td>\n",
       "      <td>309</td>\n",
       "    </tr>\n",
       "    <tr>\n",
       "      <th>2.0</th>\n",
       "      <td>139</td>\n",
       "      <td>57</td>\n",
       "      <td>57</td>\n",
       "    </tr>\n",
       "    <tr>\n",
       "      <th>3.0</th>\n",
       "      <td>105</td>\n",
       "      <td>23</td>\n",
       "      <td>23</td>\n",
       "    </tr>\n",
       "    <tr>\n",
       "      <th>4.0</th>\n",
       "      <td>44</td>\n",
       "      <td>1</td>\n",
       "      <td>1</td>\n",
       "    </tr>\n",
       "    <tr>\n",
       "      <th>5.0</th>\n",
       "      <td>16</td>\n",
       "      <td>0</td>\n",
       "      <td>0</td>\n",
       "    </tr>\n",
       "    <tr>\n",
       "      <th>6.0</th>\n",
       "      <td>8</td>\n",
       "      <td>0</td>\n",
       "      <td>0</td>\n",
       "    </tr>\n",
       "    <tr>\n",
       "      <th>7.0</th>\n",
       "      <td>14</td>\n",
       "      <td>0</td>\n",
       "      <td>0</td>\n",
       "    </tr>\n",
       "    <tr>\n",
       "      <th>8.0</th>\n",
       "      <td>6</td>\n",
       "      <td>0</td>\n",
       "      <td>0</td>\n",
       "    </tr>\n",
       "    <tr>\n",
       "      <th>9.0</th>\n",
       "      <td>16</td>\n",
       "      <td>0</td>\n",
       "      <td>0</td>\n",
       "    </tr>\n",
       "    <tr>\n",
       "      <th>10.0</th>\n",
       "      <td>4</td>\n",
       "      <td>0</td>\n",
       "      <td>0</td>\n",
       "    </tr>\n",
       "  </tbody>\n",
       "</table>\n",
       "</div>"
      ],
      "text/plain": [
       "                Оригинальный файл  Горизонтальная оптимизация  \\\n",
       "cnt_horizontal                                                  \n",
       "0.0                            10                          10   \n",
       "1.0                            38                         309   \n",
       "2.0                           139                          57   \n",
       "3.0                           105                          23   \n",
       "4.0                            44                           1   \n",
       "5.0                            16                           0   \n",
       "6.0                             8                           0   \n",
       "7.0                            14                           0   \n",
       "8.0                             6                           0   \n",
       "9.0                            16                           0   \n",
       "10.0                            4                           0   \n",
       "\n",
       "                Вертикальная оптимизация  \n",
       "cnt_horizontal                            \n",
       "0.0                                   10  \n",
       "1.0                                  309  \n",
       "2.0                                   57  \n",
       "3.0                                   23  \n",
       "4.0                                    1  \n",
       "5.0                                    0  \n",
       "6.0                                    0  \n",
       "7.0                                    0  \n",
       "8.0                                    0  \n",
       "9.0                                    0  \n",
       "10.0                                   0  "
      ]
     },
     "metadata": {},
     "output_type": "display_data"
    }
   ],
   "source": [
    "novosib_filtered_optimized = optimize_df(novosib_svod_itogo_filtered, cut_level=400) "
   ]
  },
  {
   "cell_type": "code",
   "execution_count": 84,
   "id": "b43caae9",
   "metadata": {},
   "outputs": [
    {
     "name": "stderr",
     "output_type": "stream",
     "text": [
      "C:\\Users\\Mamed\\AppData\\Local\\Temp\\ipykernel_15040\\1065154296.py:332: FutureWarning: Dropping of nuisance columns in DataFrame reductions (with 'numeric_only=None') is deprecated; in a future version this will raise TypeError.  Select only valid columns before calling the reduction.\n",
      "  final_svod['Рейтинг суммарный'] = final_svod[optimized_svod.columns].sum(axis=1)\n",
      "C:\\Users\\Mamed\\AppData\\Local\\Temp\\ipykernel_15040\\1065154296.py:333: FutureWarning: Dropping of nuisance columns in DataFrame reductions (with 'numeric_only=None') is deprecated; in a future version this will raise TypeError.  Select only valid columns before calling the reduction.\n",
      "  final_svod['Рейтинг средний'] = final_svod[optimized_svod.columns].mean(axis=1)\n"
     ]
    }
   ],
   "source": [
    "novosib_filtered_optimized_final = make_final(novosib_svod_itogo, novosib_filtered_optimized)"
   ]
  },
  {
   "cell_type": "code",
   "execution_count": 91,
   "id": "601a72af",
   "metadata": {},
   "outputs": [],
   "source": [
    "novosib_filtered_optimized_final.to_excel('novosib_filtered_optimized_final.xlsx')"
   ]
  }
 ],
 "metadata": {
  "kernelspec": {
   "display_name": "Python 3 (ipykernel)",
   "language": "python",
   "name": "python3"
  },
  "language_info": {
   "codemirror_mode": {
    "name": "ipython",
    "version": 3
   },
   "file_extension": ".py",
   "mimetype": "text/x-python",
   "name": "python",
   "nbconvert_exporter": "python",
   "pygments_lexer": "ipython3",
   "version": "3.9.12"
  }
 },
 "nbformat": 4,
 "nbformat_minor": 5
}
