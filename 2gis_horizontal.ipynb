{
 "cells": [
  {
   "cell_type": "code",
   "execution_count": 50,
   "id": "afa0b1cd-d2ea-4a6e-bd9a-8aea4cfcbf2b",
   "metadata": {},
   "outputs": [
    {
     "name": "stdout",
     "output_type": "stream",
     "text": [
      "Ready: 2023-03-31 03:39:00\n"
     ]
    }
   ],
   "source": [
    "%run 2gis_functions.ipynb"
   ]
  },
  {
   "cell_type": "code",
   "execution_count": 60,
   "id": "897b8fdb-bab6-4983-b086-f240bb2612cd",
   "metadata": {},
   "outputs": [
    {
     "data": {
      "text/html": [
       "\n",
       "            <div>\n",
       "                <p><b>SparkSession - in-memory</b></p>\n",
       "                \n",
       "        <div>\n",
       "            <p><b>SparkContext</b></p>\n",
       "\n",
       "            <p><a href=\"http://host.docker.internal:4040\">Spark UI</a></p>\n",
       "\n",
       "            <dl>\n",
       "              <dt>Version</dt>\n",
       "                <dd><code>v3.3.1</code></dd>\n",
       "              <dt>Master</dt>\n",
       "                <dd><code>local[*]</code></dd>\n",
       "              <dt>AppName</dt>\n",
       "                <dd><code>PySpark_Tutorial</code></dd>\n",
       "            </dl>\n",
       "        </div>\n",
       "        \n",
       "            </div>\n",
       "        "
      ],
      "text/plain": [
       "<pyspark.sql.session.SparkSession at 0x2138b13bd30>"
      ]
     },
     "execution_count": 60,
     "metadata": {},
     "output_type": "execute_result"
    }
   ],
   "source": [
    "findspark.init()\n",
    "from pyspark.sql import SparkSession\n",
    "try:\n",
    "    spark.stop()\n",
    "except:\n",
    "    pass\n",
    "spark = SparkSession.builder\\\n",
    "        .master(\"local[*]\")\\\n",
    "        .appName('PySpark_Tutorial')\\\n",
    "        .getOrCreate()\n",
    "spark"
   ]
  },
  {
   "cell_type": "markdown",
   "id": "46221c84-dcc5-4485-935c-01100bf70207",
   "metadata": {
    "tags": []
   },
   "source": [
    "# Новосибирск"
   ]
  },
  {
   "cell_type": "code",
   "execution_count": 143,
   "id": "0a4f9d75-c7ec-433b-b1fa-94a64135f140",
   "metadata": {},
   "outputs": [],
   "source": [
    "name = 'novosib'\n",
    "rubrics = pd.read_excel(r\"C:\\Users\\Mamed\\YandexDisk\\_Documents\\Проекты\\2ГИС 2023\\Backups\\_Final\\Мастер_таблица_2ГИС_Новосибирск_230322_2345.xlsx\")[['Рубрика']].iloc[:70]\n",
    "\n",
    "df = spark.read.parquet(f'df_filtered_{name}')\n",
    "df.createOrReplaceTempView('df')"
   ]
  },
  {
   "cell_type": "code",
   "execution_count": 210,
   "id": "000fa377-27e2-4c5c-95cb-e71c0ff7e0de",
   "metadata": {
    "tags": []
   },
   "outputs": [],
   "source": [
    "df_new = spark.sql('''\n",
    "\n",
    "select \n",
    "rubricName\n",
    ", time\n",
    ", year(time) year_r\n",
    ", hour(time) hour_r\n",
    ", SUBSTR(time, 6, 5) date_r\n",
    ", case when weekofyear(time) > 9 then 1 else weekofyear(time) end week_r\n",
    ", case when extract(dayofweek from time) = 1 then 7\n",
    "    else extract(dayofweek from time)-1\n",
    "end week_day_r\n",
    "\n",
    "from df\n",
    "''')\n",
    "\n",
    "df_new.write.mode('overwrite').parquet(f'df_dates_{name}')"
   ]
  },
  {
   "cell_type": "code",
   "execution_count": 344,
   "id": "4b8cef07-deb6-4ebd-aace-755440aca1fe",
   "metadata": {
    "tags": []
   },
   "outputs": [],
   "source": [
    "df_new = spark.read.parquet(f'df_dates_{name}').where('year_r in (2020,2021,2022,2023) and month(time) < 3 ')\n",
    "df_new.createOrReplaceTempView('df_new')"
   ]
  },
  {
   "cell_type": "code",
   "execution_count": 345,
   "id": "a7465214-3644-4c3b-8f1d-c90526d9e069",
   "metadata": {},
   "outputs": [],
   "source": [
    "dff1 = count_dates('hour_r')\n",
    "dff2 = count_dates('date_r')\n",
    "dff3 = count_dates('week_r')\n",
    "dff4 = count_dates('week_day_r')"
   ]
  },
  {
   "cell_type": "code",
   "execution_count": 346,
   "id": "2f502422-af9f-422e-9852-d82446afd95f",
   "metadata": {},
   "outputs": [],
   "source": [
    "t = ['Рубрика','Час','Количество запросов 2020','Количество запросов 2021','Количество запросов 2022','Количество запросов 2023',\n",
    "    'max_2020','max_2021','max_2022','max_2023','min_2020','min_2021','min_2022','min_2023','up_2021','up_2022','up_2023','down_2021','down_2022','down_2023', 'delta_score']\n"
   ]
  },
  {
   "cell_type": "code",
   "execution_count": 347,
   "id": "b4bc7422-4ac2-432f-ab6d-1448334e927e",
   "metadata": {
    "tags": []
   },
   "outputs": [],
   "source": [
    "t[1] = 'Час'\n",
    "dff1.columns = t\n",
    "t[1] = 'Дата'\n",
    "dff2.columns = t\n",
    "t[1] = 'Неделя'\n",
    "dff3.columns = t\n",
    "t[1] = 'День недели'\n",
    "dff4.columns = t"
   ]
  },
  {
   "cell_type": "code",
   "execution_count": 348,
   "id": "977613c2-f128-4f41-bf48-b8a86fd92250",
   "metadata": {},
   "outputs": [],
   "source": [
    "with pd.ExcelWriter(f'df_dates_{name}.xlsx') as writer:\n",
    "    dff1.to_excel(writer, sheet_name='Часы', index=False)\n",
    "    dff2.to_excel(writer, sheet_name='Даты', index=False)\n",
    "    dff3.to_excel(writer, sheet_name='Недели', index=False)\n",
    "    dff4.to_excel(writer, sheet_name='Дни недели', index=False)"
   ]
  },
  {
   "cell_type": "markdown",
   "id": "b5a0526f-faea-4f72-883a-ee594c501d9d",
   "metadata": {
    "tags": []
   },
   "source": [
    "## Отрисовываем"
   ]
  },
  {
   "cell_type": "code",
   "execution_count": null,
   "id": "58e006b0-2138-406c-b003-4b1fd119e42c",
   "metadata": {
    "tags": []
   },
   "outputs": [],
   "source": [
    "rubrics = pd.read_excel(r\"C:\\Users\\Mamed\\YandexDisk\\_Documents\\Проекты\\2ГИС 2023\\Backups\\_Final\\Мастер_таблица_2ГИС_Новосибирск_230322_2345.xlsx\")[['Рубрика']].iloc[:70]\n",
    "\n",
    "make_linear_plots('files/novosib_dates.xlsx', rubrics, cnt=25)"
   ]
  },
  {
   "cell_type": "code",
   "execution_count": 25,
   "id": "e62fd54e-a209-4ef1-92ce-a4ea8f097123",
   "metadata": {},
   "outputs": [
    {
     "name": "stdout",
     "output_type": "stream",
     "text": [
      "files/novosib_dates_report_230402_2213.docx\n"
     ]
    },
    {
     "name": "stderr",
     "output_type": "stream",
     "text": [
      "100%|████████████████████████████████████████████████████████████████████████████████| 100/100 [00:33<00:00,  2.97it/s]\n"
     ]
    }
   ],
   "source": [
    "copy_images_texts('files/novosib_dates.xlsx', r\"C:\\Users\\Mamed\\YandexDisk\\_Documents\\Проекты\\2ГИС 2023\\Новосибирск\\Статья_Новосибирский распорядок_230401_1430.docx\", True)"
   ]
  }
 ],
 "metadata": {
  "kernelspec": {
   "display_name": "Python 3 (ipykernel)",
   "language": "python",
   "name": "python3"
  },
  "language_info": {
   "codemirror_mode": {
    "name": "ipython",
    "version": 3
   },
   "file_extension": ".py",
   "mimetype": "text/x-python",
   "name": "python",
   "nbconvert_exporter": "python",
   "pygments_lexer": "ipython3",
   "version": "3.9.12"
  }
 },
 "nbformat": 4,
 "nbformat_minor": 5
}
