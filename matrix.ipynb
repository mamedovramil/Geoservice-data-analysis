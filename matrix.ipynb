{
 "cells": [
  {
   "cell_type": "code",
   "execution_count": 5,
   "id": "696175c9-278e-4ec3-96ae-d819f44cf808",
   "metadata": {
    "execution": {
     "iopub.execute_input": "2023-04-15T17:42:50.536749Z",
     "iopub.status.busy": "2023-04-15T17:42:50.536749Z",
     "iopub.status.idle": "2023-04-15T17:42:50.913353Z",
     "shell.execute_reply": "2023-04-15T17:42:50.913353Z",
     "shell.execute_reply.started": "2023-04-15T17:42:50.536749Z"
    },
    "tags": []
   },
   "outputs": [
    {
     "name": "stdout",
     "output_type": "stream",
     "text": [
      "Ready: 2023-04-15 20:42:50\n"
     ]
    }
   ],
   "source": [
    "%run functions.ipynb"
   ]
  },
  {
   "cell_type": "markdown",
   "id": "50227101-ff4a-4726-bd01-6bf1da916bea",
   "metadata": {},
   "source": [
    "# Москва"
   ]
  },
  {
   "cell_type": "code",
   "execution_count": 6,
   "id": "2ff2e085-24cd-4dc1-bd89-cfaa08dfadcb",
   "metadata": {
    "execution": {
     "iopub.execute_input": "2023-04-15T17:42:51.728338Z",
     "iopub.status.busy": "2023-04-15T17:42:51.728338Z",
     "iopub.status.idle": "2023-04-15T17:42:51.733683Z",
     "shell.execute_reply": "2023-04-15T17:42:51.733683Z",
     "shell.execute_reply.started": "2023-04-15T17:42:51.728338Z"
    },
    "tags": []
   },
   "outputs": [],
   "source": [
    "file = r\"C:\\Users\\Mamed\\YandexDisk\\_Documents\\Проекты\\2ГИС 2023\\_Backups\\Мастер_таблица_2ГИС_Москва_230315_1745.xlsx\"\n",
    "city = 'moscow'"
   ]
  },
  {
   "cell_type": "code",
   "execution_count": 7,
   "id": "454469e0-6cb3-48fe-bda7-cb8843e8d956",
   "metadata": {
    "execution": {
     "iopub.execute_input": "2023-04-15T17:42:52.427061Z",
     "iopub.status.busy": "2023-04-15T17:42:52.427061Z",
     "iopub.status.idle": "2023-04-15T17:42:52.434307Z",
     "shell.execute_reply": "2023-04-15T17:42:52.434057Z",
     "shell.execute_reply.started": "2023-04-15T17:42:52.427061Z"
    },
    "tags": []
   },
   "outputs": [
    {
     "data": {
      "text/plain": [
       "<matplotlib.pyplot._IoffContext at 0x221a1e468b0>"
      ]
     },
     "execution_count": 7,
     "metadata": {},
     "output_type": "execute_result"
    }
   ],
   "source": [
    "plt.ioff()"
   ]
  },
  {
   "cell_type": "code",
   "execution_count": 10,
   "id": "93989c4f-f4d0-4059-a109-70d53e2b4cf9",
   "metadata": {
    "execution": {
     "iopub.execute_input": "2023-04-15T17:49:22.319964Z",
     "iopub.status.busy": "2023-04-15T17:49:22.319964Z",
     "iopub.status.idle": "2023-04-15T18:10:23.613794Z",
     "shell.execute_reply": "2023-04-15T18:10:23.613794Z",
     "shell.execute_reply.started": "2023-04-15T17:49:22.319964Z"
    },
    "tags": []
   },
   "outputs": [
    {
     "name": "stdout",
     "output_type": "stream",
     "text": [
      "files/moscow/moscow_shars_230415_2049.docx\n"
     ]
    },
    {
     "name": "stderr",
     "output_type": "stream",
     "text": [
      " 17%|█████████████▊                                                                   | 17/100 [02:07<11:41,  8.45s/it]C:\\Users\\Mamed\\Anaconda\\lib\\site-packages\\matplotlib\\axes\\_base.py:2475: UserWarning: Warning: converting a masked element to nan.\n",
      "  xys = np.asarray(xys)\n",
      " 28%|██████████████████████▋                                                          | 28/100 [03:50<11:32,  9.62s/it]C:\\Users\\Mamed\\Anaconda\\lib\\site-packages\\matplotlib\\axes\\_base.py:2475: UserWarning: Warning: converting a masked element to nan.\n",
      "  xys = np.asarray(xys)\n",
      " 38%|██████████████████████████████▊                                                  | 38/100 [05:37<10:27, 10.11s/it]C:\\Users\\Mamed\\Anaconda\\lib\\site-packages\\matplotlib\\axes\\_base.py:2475: UserWarning: Warning: converting a masked element to nan.\n",
      "  xys = np.asarray(xys)\n",
      " 40%|████████████████████████████████▍                                                | 40/100 [05:58<10:33, 10.55s/it]C:\\Users\\Mamed\\Anaconda\\lib\\site-packages\\matplotlib\\axes\\_base.py:2475: UserWarning: Warning: converting a masked element to nan.\n",
      "  xys = np.asarray(xys)\n",
      " 49%|███████████████████████████████████████▋                                         | 49/100 [07:47<10:06, 11.90s/it]C:\\Users\\Mamed\\Anaconda\\lib\\site-packages\\matplotlib\\axes\\_base.py:2475: UserWarning: Warning: converting a masked element to nan.\n",
      "  xys = np.asarray(xys)\n",
      " 53%|██████████████████████████████████████████▉                                      | 53/100 [08:37<09:43, 12.41s/it]C:\\Users\\Mamed\\Anaconda\\lib\\site-packages\\matplotlib\\axes\\_base.py:2475: UserWarning: Warning: converting a masked element to nan.\n",
      "  xys = np.asarray(xys)\n",
      " 59%|███████████████████████████████████████████████▊                                 | 59/100 [09:56<09:05, 13.31s/it]C:\\Users\\Mamed\\Anaconda\\lib\\site-packages\\matplotlib\\axes\\_base.py:2475: UserWarning: Warning: converting a masked element to nan.\n",
      "  xys = np.asarray(xys)\n",
      " 66%|█████████████████████████████████████████████████████▍                           | 66/100 [11:39<08:18, 14.66s/it]C:\\Users\\Mamed\\Anaconda\\lib\\site-packages\\matplotlib\\axes\\_base.py:2475: UserWarning: Warning: converting a masked element to nan.\n",
      "  xys = np.asarray(xys)\n",
      " 72%|██████████████████████████████████████████████████████████▎                      | 72/100 [13:11<06:59, 14.99s/it]C:\\Users\\Mamed\\Anaconda\\lib\\site-packages\\matplotlib\\axes\\_base.py:2475: UserWarning: Warning: converting a masked element to nan.\n",
      "  xys = np.asarray(xys)\n",
      " 79%|███████████████████████████████████████████████████████████████▉                 | 79/100 [14:50<04:59, 14.28s/it]C:\\Users\\Mamed\\Anaconda\\lib\\site-packages\\matplotlib\\axes\\_base.py:2475: UserWarning: Warning: converting a masked element to nan.\n",
      "  xys = np.asarray(xys)\n",
      " 91%|█████████████████████████████████████████████████████████████████████████▋       | 91/100 [18:37<03:27, 23.11s/it]C:\\Users\\Mamed\\Anaconda\\lib\\site-packages\\matplotlib\\axes\\_base.py:2475: UserWarning: Warning: converting a masked element to nan.\n",
      "  xys = np.asarray(xys)\n",
      "100%|████████████████████████████████████████████████████████████████████████████████| 100/100 [21:01<00:00, 12.61s/it]\n"
     ]
    }
   ],
   "source": [
    "plot_matrix(file, city, cnt_graphics=100, cnt_shars=12, step=1)"
   ]
  },
  {
   "cell_type": "markdown",
   "id": "487c51a3-fc2f-483c-8df9-6a3847305753",
   "metadata": {},
   "source": [
    "# Новосибирск"
   ]
  },
  {
   "cell_type": "code",
   "execution_count": 13,
   "id": "dd1a1fe2-6285-49ba-9294-0264236c1ee0",
   "metadata": {
    "execution": {
     "iopub.execute_input": "2023-04-15T20:47:08.795240Z",
     "iopub.status.busy": "2023-04-15T20:47:08.794243Z",
     "iopub.status.idle": "2023-04-15T20:47:08.814240Z",
     "shell.execute_reply": "2023-04-15T20:47:08.813238Z",
     "shell.execute_reply.started": "2023-04-15T20:47:08.795240Z"
    },
    "tags": []
   },
   "outputs": [],
   "source": [
    "file = r\"C:\\Users\\Mamed\\YandexDisk\\_Documents\\Проекты\\2ГИС 2023\\_Backups\\Таблица_2ГИС_Новосибирск_Рейтинги_230317_1245.xlsx\"\n",
    "city = 'novosibirsk'"
   ]
  },
  {
   "cell_type": "code",
   "execution_count": 22,
   "id": "fe48c637-efac-43be-822e-2dca3e190833",
   "metadata": {
    "execution": {
     "iopub.execute_input": "2023-04-15T21:49:03.763882Z",
     "iopub.status.busy": "2023-04-15T21:49:03.763882Z",
     "iopub.status.idle": "2023-04-15T21:49:03.772887Z",
     "shell.execute_reply": "2023-04-15T21:49:03.771937Z",
     "shell.execute_reply.started": "2023-04-15T21:49:03.763882Z"
    },
    "tags": []
   },
   "outputs": [
    {
     "data": {
      "text/plain": [
       "<matplotlib.pyplot._IoffContext at 0x221ac5bfd30>"
      ]
     },
     "execution_count": 22,
     "metadata": {},
     "output_type": "execute_result"
    }
   ],
   "source": [
    "plt.ioff()"
   ]
  },
  {
   "cell_type": "code",
   "execution_count": 15,
   "id": "ddabb745-0993-4259-a07f-6c3769a53591",
   "metadata": {
    "execution": {
     "iopub.execute_input": "2023-04-15T20:47:14.105450Z",
     "iopub.status.busy": "2023-04-15T20:47:14.105450Z",
     "iopub.status.idle": "2023-04-15T21:16:17.326278Z",
     "shell.execute_reply": "2023-04-15T21:16:17.325377Z",
     "shell.execute_reply.started": "2023-04-15T20:47:14.105450Z"
    },
    "tags": []
   },
   "outputs": [
    {
     "name": "stdout",
     "output_type": "stream",
     "text": [
      "files/novosibirsk/novosibirsk_shars_230415_2347.docx\n"
     ]
    },
    {
     "name": "stderr",
     "output_type": "stream",
     "text": [
      " 45%|████████████████████████████████████▍                                            | 45/100 [14:17<12:21, 13.49s/it]C:\\Users\\Mamed\\Anaconda\\lib\\site-packages\\matplotlib\\axes\\_base.py:2475: UserWarning: Warning: converting a masked element to nan.\n",
      "  xys = np.asarray(xys)\n",
      " 67%|██████████████████████████████████████████████████████▎                          | 67/100 [19:59<08:37, 15.67s/it]C:\\Users\\Mamed\\Anaconda\\lib\\site-packages\\matplotlib\\axes\\_base.py:2475: UserWarning: Warning: converting a masked element to nan.\n",
      "  xys = np.asarray(xys)\n",
      " 68%|███████████████████████████████████████████████████████                          | 68/100 [20:14<08:19, 15.61s/it]C:\\Users\\Mamed\\Anaconda\\lib\\site-packages\\matplotlib\\axes\\_base.py:2475: UserWarning: Warning: converting a masked element to nan.\n",
      "  xys = np.asarray(xys)\n",
      " 95%|████████████████████████████████████████████████████████████████████████████▉    | 95/100 [27:28<01:28, 17.63s/it]C:\\Users\\Mamed\\Anaconda\\lib\\site-packages\\matplotlib\\axes\\_base.py:2475: UserWarning: Warning: converting a masked element to nan.\n",
      "  xys = np.asarray(xys)\n",
      " 98%|███████████████████████████████████████████████████████████████████████████████▍ | 98/100 [28:25<00:37, 18.82s/it]C:\\Users\\Mamed\\Anaconda\\lib\\site-packages\\matplotlib\\axes\\_base.py:2475: UserWarning: Warning: converting a masked element to nan.\n",
      "  xys = np.asarray(xys)\n",
      "100%|████████████████████████████████████████████████████████████████████████████████| 100/100 [29:03<00:00, 17.43s/it]\n"
     ]
    }
   ],
   "source": [
    "plot_matrix(file, city, cnt_graphics=100, cnt_shars=12, step=1)"
   ]
  },
  {
   "cell_type": "markdown",
   "id": "e8514cc3-7b1c-402b-9b70-1b10b8cb388c",
   "metadata": {
    "tags": []
   },
   "source": [
    "# Алматы"
   ]
  },
  {
   "cell_type": "code",
   "execution_count": 25,
   "id": "2879ca25-34d0-4532-918c-56238bc5be6e",
   "metadata": {
    "execution": {
     "iopub.execute_input": "2023-04-15T21:49:36.132947Z",
     "iopub.status.busy": "2023-04-15T21:49:36.131915Z",
     "iopub.status.idle": "2023-04-15T21:49:36.150434Z",
     "shell.execute_reply": "2023-04-15T21:49:36.149437Z",
     "shell.execute_reply.started": "2023-04-15T21:49:36.132947Z"
    },
    "tags": []
   },
   "outputs": [],
   "source": [
    "file = r\"files/almati/almata_svod_230324_0030.xlsx\"\n",
    "city = 'almati'"
   ]
  },
  {
   "cell_type": "code",
   "execution_count": 26,
   "id": "10ee80cc-8216-413b-9320-e9d1efd04081",
   "metadata": {
    "collapsed": true,
    "execution": {
     "iopub.execute_input": "2023-04-15T21:49:36.829925Z",
     "iopub.status.busy": "2023-04-15T21:49:36.829925Z",
     "iopub.status.idle": "2023-04-15T22:01:14.246800Z",
     "shell.execute_reply": "2023-04-15T22:01:14.245879Z",
     "shell.execute_reply.started": "2023-04-15T21:49:36.829925Z"
    },
    "jupyter": {
     "outputs_hidden": true
    },
    "tags": []
   },
   "outputs": [
    {
     "name": "stdout",
     "output_type": "stream",
     "text": [
      "files/almati/almati_shars_230416_0049.docx\n"
     ]
    },
    {
     "name": "stderr",
     "output_type": "stream",
     "text": [
      "  0%|                                                                                          | 0/100 [00:00<?, ?it/s]C:\\Users\\Mamed\\Anaconda\\lib\\site-packages\\matplotlib\\axes\\_base.py:2475: UserWarning: Warning: converting a masked element to nan.\n",
      "  xys = np.asarray(xys)\n",
      "  1%|▊                                                                                 | 1/100 [00:01<02:44,  1.66s/it]C:\\Users\\Mamed\\Anaconda\\lib\\site-packages\\matplotlib\\axes\\_base.py:2475: UserWarning: Warning: converting a masked element to nan.\n",
      "  xys = np.asarray(xys)\n",
      "  2%|█▋                                                                                | 2/100 [00:04<03:32,  2.17s/it]C:\\Users\\Mamed\\Anaconda\\lib\\site-packages\\matplotlib\\axes\\_base.py:2475: UserWarning: Warning: converting a masked element to nan.\n",
      "  xys = np.asarray(xys)\n",
      "  7%|█████▋                                                                            | 7/100 [00:26<07:29,  4.83s/it]C:\\Users\\Mamed\\Anaconda\\lib\\site-packages\\matplotlib\\axes\\_base.py:2475: UserWarning: Warning: converting a masked element to nan.\n",
      "  xys = np.asarray(xys)\n",
      " 13%|██████████▌                                                                      | 13/100 [00:57<07:10,  4.94s/it]C:\\Users\\Mamed\\Anaconda\\lib\\site-packages\\matplotlib\\axes\\_base.py:2475: UserWarning: Warning: converting a masked element to nan.\n",
      "  xys = np.asarray(xys)\n",
      " 19%|███████████████▍                                                                 | 19/100 [01:26<06:29,  4.81s/it]C:\\Users\\Mamed\\Anaconda\\lib\\site-packages\\matplotlib\\axes\\_base.py:2475: UserWarning: Warning: converting a masked element to nan.\n",
      "  xys = np.asarray(xys)\n",
      " 20%|████████████████▏                                                                | 20/100 [01:31<06:23,  4.79s/it]C:\\Users\\Mamed\\Anaconda\\lib\\site-packages\\matplotlib\\axes\\_base.py:2475: UserWarning: Warning: converting a masked element to nan.\n",
      "  xys = np.asarray(xys)\n",
      " 28%|██████████████████████▋                                                          | 28/100 [02:11<06:03,  5.05s/it]C:\\Users\\Mamed\\Anaconda\\lib\\site-packages\\matplotlib\\axes\\_base.py:2475: UserWarning: Warning: converting a masked element to nan.\n",
      "  xys = np.asarray(xys)\n",
      " 31%|█████████████████████████                                                        | 31/100 [02:28<06:09,  5.35s/it]C:\\Users\\Mamed\\Anaconda\\lib\\site-packages\\matplotlib\\axes\\_base.py:2475: UserWarning: Warning: converting a masked element to nan.\n",
      "  xys = np.asarray(xys)\n",
      " 33%|██████████████████████████▋                                                      | 33/100 [02:40<06:25,  5.76s/it]C:\\Users\\Mamed\\Anaconda\\lib\\site-packages\\matplotlib\\axes\\_base.py:2475: UserWarning: Warning: converting a masked element to nan.\n",
      "  xys = np.asarray(xys)\n",
      " 38%|██████████████████████████████▊                                                  | 38/100 [03:11<06:11,  6.00s/it]C:\\Users\\Mamed\\Anaconda\\lib\\site-packages\\matplotlib\\axes\\_base.py:2475: UserWarning: Warning: converting a masked element to nan.\n",
      "  xys = np.asarray(xys)\n",
      " 39%|███████████████████████████████▌                                                 | 39/100 [03:18<06:20,  6.23s/it]C:\\Users\\Mamed\\Anaconda\\lib\\site-packages\\matplotlib\\axes\\_base.py:2475: UserWarning: Warning: converting a masked element to nan.\n",
      "  xys = np.asarray(xys)\n",
      " 40%|████████████████████████████████▍                                                | 40/100 [03:24<06:22,  6.37s/it]C:\\Users\\Mamed\\Anaconda\\lib\\site-packages\\matplotlib\\axes\\_base.py:2475: UserWarning: Warning: converting a masked element to nan.\n",
      "  xys = np.asarray(xys)\n",
      " 42%|██████████████████████████████████                                               | 42/100 [03:37<06:05,  6.30s/it]C:\\Users\\Mamed\\Anaconda\\lib\\site-packages\\matplotlib\\axes\\_base.py:2475: UserWarning: Warning: converting a masked element to nan.\n",
      "  xys = np.asarray(xys)\n",
      " 50%|████████████████████████████████████████▌                                        | 50/100 [04:40<06:30,  7.81s/it]C:\\Users\\Mamed\\Anaconda\\lib\\site-packages\\matplotlib\\axes\\_base.py:2475: UserWarning: Warning: converting a masked element to nan.\n",
      "  xys = np.asarray(xys)\n",
      " 51%|█████████████████████████████████████████▎                                       | 51/100 [04:47<06:15,  7.66s/it]C:\\Users\\Mamed\\Anaconda\\lib\\site-packages\\matplotlib\\axes\\_base.py:2475: UserWarning: Warning: converting a masked element to nan.\n",
      "  xys = np.asarray(xys)\n",
      " 52%|██████████████████████████████████████████                                       | 52/100 [04:56<06:18,  7.89s/it]C:\\Users\\Mamed\\Anaconda\\lib\\site-packages\\matplotlib\\axes\\_base.py:2475: UserWarning: Warning: converting a masked element to nan.\n",
      "  xys = np.asarray(xys)\n",
      " 54%|███████████████████████████████████████████▋                                     | 54/100 [05:11<05:53,  7.68s/it]C:\\Users\\Mamed\\Anaconda\\lib\\site-packages\\matplotlib\\axes\\_base.py:2475: UserWarning: Warning: converting a masked element to nan.\n",
      "  xys = np.asarray(xys)\n",
      " 59%|███████████████████████████████████████████████▊                                 | 59/100 [05:53<06:03,  8.85s/it]C:\\Users\\Mamed\\Anaconda\\lib\\site-packages\\matplotlib\\axes\\_base.py:2475: UserWarning: Warning: converting a masked element to nan.\n",
      "  xys = np.asarray(xys)\n",
      " 60%|████████████████████████████████████████████████▌                                | 60/100 [06:00<05:32,  8.32s/it]C:\\Users\\Mamed\\Anaconda\\lib\\site-packages\\matplotlib\\axes\\_base.py:2475: UserWarning: Warning: converting a masked element to nan.\n",
      "  xys = np.asarray(xys)\n",
      " 64%|███████████████████████████████████████████████████▊                             | 64/100 [06:30<04:38,  7.73s/it]C:\\Users\\Mamed\\Anaconda\\lib\\site-packages\\matplotlib\\axes\\_base.py:2475: UserWarning: Warning: converting a masked element to nan.\n",
      "  xys = np.asarray(xys)\n",
      " 65%|████████████████████████████████████████████████████▋                            | 65/100 [06:37<04:27,  7.65s/it]C:\\Users\\Mamed\\Anaconda\\lib\\site-packages\\matplotlib\\axes\\_base.py:2475: UserWarning: Warning: converting a masked element to nan.\n",
      "  xys = np.asarray(xys)\n",
      " 68%|███████████████████████████████████████████████████████                          | 68/100 [06:59<03:58,  7.44s/it]C:\\Users\\Mamed\\Anaconda\\lib\\site-packages\\matplotlib\\axes\\_base.py:2475: UserWarning: Warning: converting a masked element to nan.\n",
      "  xys = np.asarray(xys)\n",
      " 70%|████████████████████████████████████████████████████████▋                        | 70/100 [07:15<03:45,  7.51s/it]C:\\Users\\Mamed\\Anaconda\\lib\\site-packages\\matplotlib\\axes\\_base.py:2475: UserWarning: Warning: converting a masked element to nan.\n",
      "  xys = np.asarray(xys)\n",
      " 78%|███████████████████████████████████████████████████████████████▏                 | 78/100 [08:18<02:57,  8.05s/it]C:\\Users\\Mamed\\Anaconda\\lib\\site-packages\\matplotlib\\axes\\_base.py:2475: UserWarning: Warning: converting a masked element to nan.\n",
      "  xys = np.asarray(xys)\n",
      " 85%|████████████████████████████████████████████████████████████████████▊            | 85/100 [09:20<02:15,  9.02s/it]C:\\Users\\Mamed\\Anaconda\\lib\\site-packages\\matplotlib\\axes\\_base.py:2475: UserWarning: Warning: converting a masked element to nan.\n",
      "  xys = np.asarray(xys)\n",
      " 95%|████████████████████████████████████████████████████████████████████████████▉    | 95/100 [10:50<00:45,  9.06s/it]C:\\Users\\Mamed\\Anaconda\\lib\\site-packages\\matplotlib\\axes\\_base.py:2475: UserWarning: Warning: converting a masked element to nan.\n",
      "  xys = np.asarray(xys)\n",
      "100%|████████████████████████████████████████████████████████████████████████████████| 100/100 [11:37<00:00,  6.97s/it]\n"
     ]
    }
   ],
   "source": [
    "plot_matrix(file, city, cnt_graphics=100, cnt_shars=12, step=1)"
   ]
  },
  {
   "cell_type": "code",
   "execution_count": null,
   "id": "1a84450b-ef7a-4d80-b995-4ef454a44289",
   "metadata": {},
   "outputs": [],
   "source": [
    "files/almati/almati_shars_230416_0049.docx"
   ]
  },
  {
   "cell_type": "markdown",
   "id": "c50fc1f5-9fe3-41b8-9cb9-9c30273b42f5",
   "metadata": {},
   "source": [
    "# Астана"
   ]
  },
  {
   "cell_type": "code",
   "execution_count": 33,
   "id": "67552117-0237-45d9-9be4-b5b9c58dfe82",
   "metadata": {
    "execution": {
     "iopub.execute_input": "2023-04-15T22:03:00.164287Z",
     "iopub.status.busy": "2023-04-15T22:03:00.164287Z",
     "iopub.status.idle": "2023-04-15T22:03:00.177286Z",
     "shell.execute_reply": "2023-04-15T22:03:00.176287Z",
     "shell.execute_reply.started": "2023-04-15T22:03:00.164287Z"
    },
    "tags": []
   },
   "outputs": [],
   "source": [
    "file = r\"C:\\Users\\Mamed\\_Notebooks\\2GIS_2023\\files\\astana\\Мастер_таблица_2ГИС_Астана_230409_1645.xlsx\"\n",
    "city = 'astana'"
   ]
  },
  {
   "cell_type": "code",
   "execution_count": 34,
   "id": "aff014a1-ed3d-4afd-8d02-0082af1d3a77",
   "metadata": {
    "execution": {
     "iopub.execute_input": "2023-04-15T22:03:00.610094Z",
     "iopub.status.busy": "2023-04-15T22:03:00.609096Z",
     "iopub.status.idle": "2023-04-15T22:54:32.660014Z",
     "shell.execute_reply": "2023-04-15T22:54:32.660014Z",
     "shell.execute_reply.started": "2023-04-15T22:03:00.610094Z"
    },
    "tags": []
   },
   "outputs": [
    {
     "name": "stdout",
     "output_type": "stream",
     "text": [
      "files/astana/astana_shars_230416_0103.docx\n"
     ]
    },
    {
     "name": "stderr",
     "output_type": "stream",
     "text": [
      " 71%|█████████████████████████████████████████████████████████▌                       | 71/100 [11:41<05:38, 11.68s/it]C:\\Users\\Mamed\\Anaconda\\lib\\site-packages\\matplotlib\\axes\\_base.py:2475: UserWarning: Warning: converting a masked element to nan.\n",
      "  xys = np.asarray(xys)\n",
      " 87%|█████████████████████████████████████████████████████████████████████▌          | 87/100 [48:35<24:52, 114.79s/it]C:\\Users\\Mamed\\Anaconda\\lib\\site-packages\\matplotlib\\axes\\_base.py:2475: UserWarning: Warning: converting a masked element to nan.\n",
      "  xys = np.asarray(xys)\n",
      " 88%|███████████████████████████████████████████████████████████████████████▎         | 88/100 [48:47<16:47, 83.93s/it]C:\\Users\\Mamed\\Anaconda\\lib\\site-packages\\matplotlib\\axes\\_base.py:2475: UserWarning: Warning: converting a masked element to nan.\n",
      "  xys = np.asarray(xys)\n",
      " 91%|█████████████████████████████████████████████████████████████████████████▋       | 91/100 [49:28<05:40, 37.79s/it]C:\\Users\\Mamed\\Anaconda\\lib\\site-packages\\matplotlib\\axes\\_base.py:2475: UserWarning: Warning: converting a masked element to nan.\n",
      "  xys = np.asarray(xys)\n",
      " 99%|████████████████████████████████████████████████████████████████████████████████▏| 99/100 [51:17<00:15, 15.04s/it]C:\\Users\\Mamed\\Anaconda\\lib\\site-packages\\matplotlib\\axes\\_base.py:2475: UserWarning: Warning: converting a masked element to nan.\n",
      "  xys = np.asarray(xys)\n",
      "100%|████████████████████████████████████████████████████████████████████████████████| 100/100 [51:32<00:00, 30.92s/it]\n"
     ]
    }
   ],
   "source": [
    "plot_matrix(file, city, cnt_graphics=100, cnt_shars=12, step=1)"
   ]
  },
  {
   "cell_type": "code",
   "execution_count": null,
   "id": "59ae5575-ccde-4d1f-bfa1-cd38429aea62",
   "metadata": {},
   "outputs": [],
   "source": [
    "files/astana/astana_shars_230416_0103.docx"
   ]
  },
  {
   "cell_type": "markdown",
   "id": "64cb2302-9931-49e6-bafa-68a2b9f7d990",
   "metadata": {},
   "source": [
    "# Калининград"
   ]
  },
  {
   "cell_type": "code",
   "execution_count": 37,
   "id": "901653ec-836d-4360-8f1a-b74493993df7",
   "metadata": {
    "execution": {
     "iopub.execute_input": "2023-04-15T23:14:12.434715Z",
     "iopub.status.busy": "2023-04-15T23:14:12.433664Z",
     "iopub.status.idle": "2023-04-15T23:14:12.442155Z",
     "shell.execute_reply": "2023-04-15T23:14:12.442155Z",
     "shell.execute_reply.started": "2023-04-15T23:14:12.434715Z"
    },
    "tags": []
   },
   "outputs": [],
   "source": [
    "file = r\"C:\\Users\\Mamed\\YandexDisk\\_Documents\\Проекты\\2ГИС 2023\\Калининград\\Мастер_таблица_2ГИС_Калининград_230412_2345.xlsx\"\n",
    "city = 'kaliningrad'"
   ]
  },
  {
   "cell_type": "code",
   "execution_count": null,
   "id": "43a96db5-b7ec-4615-8305-c953321a2103",
   "metadata": {
    "execution": {
     "iopub.execute_input": "2023-04-15T22:54:32.692935Z",
     "iopub.status.busy": "2023-04-15T22:54:32.692935Z",
     "iopub.status.idle": "2023-04-15T23:13:26.067946Z"
    }
   },
   "outputs": [],
   "source": [
    "plot_matrix(file, city, cnt_graphics=100, cnt_shars=12, step=1)"
   ]
  },
  {
   "cell_type": "code",
   "execution_count": null,
   "id": "db1c6079-89ab-4efc-ba29-2f9a10bea5d5",
   "metadata": {},
   "outputs": [],
   "source": [
    "files/kaliningrad/kaliningrad_shars_230416_0154.docx"
   ]
  },
  {
   "cell_type": "code",
   "execution_count": null,
   "id": "b9f14c0b-2252-4f57-84d9-686136b0c9c7",
   "metadata": {},
   "outputs": [],
   "source": [
    "Заготовка_матрицы_2ГИС_ШТ_Калининград_230416_0230.docx"
   ]
  }
 ],
 "metadata": {
  "kernelspec": {
   "display_name": "Python 3 (ipykernel)",
   "language": "python",
   "name": "python3"
  },
  "language_info": {
   "codemirror_mode": {
    "name": "ipython",
    "version": 3
   },
   "file_extension": ".py",
   "mimetype": "text/x-python",
   "name": "python",
   "nbconvert_exporter": "python",
   "pygments_lexer": "ipython3",
   "version": "3.9.12"
  }
 },
 "nbformat": 4,
 "nbformat_minor": 5
}
