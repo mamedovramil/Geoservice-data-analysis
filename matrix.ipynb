{
 "cells": [
  {
   "cell_type": "code",
   "execution_count": 5,
   "id": "696175c9-278e-4ec3-96ae-d819f44cf808",
   "metadata": {
    "execution": {
     "iopub.execute_input": "2023-04-15T17:42:50.536749Z",
     "iopub.status.busy": "2023-04-15T17:42:50.536749Z",
     "iopub.status.idle": "2023-04-15T17:42:50.913353Z",
     "shell.execute_reply": "2023-04-15T17:42:50.913353Z",
     "shell.execute_reply.started": "2023-04-15T17:42:50.536749Z"
    },
    "tags": []
   },
   "outputs": [
    {
     "name": "stdout",
     "output_type": "stream",
     "text": [
      "Ready: 2023-04-15 20:42:50\n"
     ]
    }
   ],
   "source": [
    "%run functions.ipynb"
   ]
  },
  {
   "cell_type": "markdown",
   "id": "50227101-ff4a-4726-bd01-6bf1da916bea",
   "metadata": {},
   "source": [
    "# Москва"
   ]
  },
  {
   "cell_type": "code",
   "execution_count": 6,
   "id": "2ff2e085-24cd-4dc1-bd89-cfaa08dfadcb",
   "metadata": {
    "execution": {
     "iopub.execute_input": "2023-04-15T17:42:51.728338Z",
     "iopub.status.busy": "2023-04-15T17:42:51.728338Z",
     "iopub.status.idle": "2023-04-15T17:42:51.733683Z",
     "shell.execute_reply": "2023-04-15T17:42:51.733683Z",
     "shell.execute_reply.started": "2023-04-15T17:42:51.728338Z"
    },
    "tags": []
   },
   "outputs": [],
   "source": [
    "file = r\"C:\\Users\\Mamed\\YandexDisk\\_Documents\\Проекты\\2ГИС 2023\\_Backups\\Мастер_таблица_2ГИС_Москва_230315_1745.xlsx\"\n",
    "city = 'moscow'"
   ]
  },
  {
   "cell_type": "code",
   "execution_count": 7,
   "id": "454469e0-6cb3-48fe-bda7-cb8843e8d956",
   "metadata": {
    "execution": {
     "iopub.execute_input": "2023-04-15T17:42:52.427061Z",
     "iopub.status.busy": "2023-04-15T17:42:52.427061Z",
     "iopub.status.idle": "2023-04-15T17:42:52.434307Z",
     "shell.execute_reply": "2023-04-15T17:42:52.434057Z",
     "shell.execute_reply.started": "2023-04-15T17:42:52.427061Z"
    },
    "tags": []
   },
   "outputs": [
    {
     "data": {
      "text/plain": [
       "<matplotlib.pyplot._IoffContext at 0x221a1e468b0>"
      ]
     },
     "execution_count": 7,
     "metadata": {},
     "output_type": "execute_result"
    }
   ],
   "source": [
    "plt.ioff()"
   ]
  },
  {
   "cell_type": "code",
   "execution_count": 10,
   "id": "93989c4f-f4d0-4059-a109-70d53e2b4cf9",
   "metadata": {
    "execution": {
     "iopub.execute_input": "2023-04-15T17:49:22.319964Z",
     "iopub.status.busy": "2023-04-15T17:49:22.319964Z",
     "iopub.status.idle": "2023-04-15T18:10:23.613794Z",
     "shell.execute_reply": "2023-04-15T18:10:23.613794Z",
     "shell.execute_reply.started": "2023-04-15T17:49:22.319964Z"
    },
    "tags": []
   },
   "outputs": [
    {
     "name": "stdout",
     "output_type": "stream",
     "text": [
      "files/moscow/moscow_shars_230415_2049.docx\n"
     ]
    },
    {
     "name": "stderr",
     "output_type": "stream",
     "text": [
      " 17%|█████████████▊                                                                   | 17/100 [02:07<11:41,  8.45s/it]C:\\Users\\Mamed\\Anaconda\\lib\\site-packages\\matplotlib\\axes\\_base.py:2475: UserWarning: Warning: converting a masked element to nan.\n",
      "  xys = np.asarray(xys)\n",
      " 28%|██████████████████████▋                                                          | 28/100 [03:50<11:32,  9.62s/it]C:\\Users\\Mamed\\Anaconda\\lib\\site-packages\\matplotlib\\axes\\_base.py:2475: UserWarning: Warning: converting a masked element to nan.\n",
      "  xys = np.asarray(xys)\n",
      " 38%|██████████████████████████████▊                                                  | 38/100 [05:37<10:27, 10.11s/it]C:\\Users\\Mamed\\Anaconda\\lib\\site-packages\\matplotlib\\axes\\_base.py:2475: UserWarning: Warning: converting a masked element to nan.\n",
      "  xys = np.asarray(xys)\n",
      " 40%|████████████████████████████████▍                                                | 40/100 [05:58<10:33, 10.55s/it]C:\\Users\\Mamed\\Anaconda\\lib\\site-packages\\matplotlib\\axes\\_base.py:2475: UserWarning: Warning: converting a masked element to nan.\n",
      "  xys = np.asarray(xys)\n",
      " 49%|███████████████████████████████████████▋                                         | 49/100 [07:47<10:06, 11.90s/it]C:\\Users\\Mamed\\Anaconda\\lib\\site-packages\\matplotlib\\axes\\_base.py:2475: UserWarning: Warning: converting a masked element to nan.\n",
      "  xys = np.asarray(xys)\n",
      " 53%|██████████████████████████████████████████▉                                      | 53/100 [08:37<09:43, 12.41s/it]C:\\Users\\Mamed\\Anaconda\\lib\\site-packages\\matplotlib\\axes\\_base.py:2475: UserWarning: Warning: converting a masked element to nan.\n",
      "  xys = np.asarray(xys)\n",
      " 59%|███████████████████████████████████████████████▊                                 | 59/100 [09:56<09:05, 13.31s/it]C:\\Users\\Mamed\\Anaconda\\lib\\site-packages\\matplotlib\\axes\\_base.py:2475: UserWarning: Warning: converting a masked element to nan.\n",
      "  xys = np.asarray(xys)\n",
      " 66%|█████████████████████████████████████████████████████▍                           | 66/100 [11:39<08:18, 14.66s/it]C:\\Users\\Mamed\\Anaconda\\lib\\site-packages\\matplotlib\\axes\\_base.py:2475: UserWarning: Warning: converting a masked element to nan.\n",
      "  xys = np.asarray(xys)\n",
      " 72%|██████████████████████████████████████████████████████████▎                      | 72/100 [13:11<06:59, 14.99s/it]C:\\Users\\Mamed\\Anaconda\\lib\\site-packages\\matplotlib\\axes\\_base.py:2475: UserWarning: Warning: converting a masked element to nan.\n",
      "  xys = np.asarray(xys)\n",
      " 79%|███████████████████████████████████████████████████████████████▉                 | 79/100 [14:50<04:59, 14.28s/it]C:\\Users\\Mamed\\Anaconda\\lib\\site-packages\\matplotlib\\axes\\_base.py:2475: UserWarning: Warning: converting a masked element to nan.\n",
      "  xys = np.asarray(xys)\n",
      " 91%|█████████████████████████████████████████████████████████████████████████▋       | 91/100 [18:37<03:27, 23.11s/it]C:\\Users\\Mamed\\Anaconda\\lib\\site-packages\\matplotlib\\axes\\_base.py:2475: UserWarning: Warning: converting a masked element to nan.\n",
      "  xys = np.asarray(xys)\n",
      "100%|████████████████████████████████████████████████████████████████████████████████| 100/100 [21:01<00:00, 12.61s/it]\n"
     ]
    }
   ],
   "source": [
    "plot_matrix(file, city, cnt_graphics=100, cnt_shars=12, step=1)"
   ]
  },
  {
   "cell_type": "code",
   "execution_count": null,
   "id": "4962ed71-c8ce-458c-8b22-1f3426878164",
   "metadata": {},
   "outputs": [],
   "source": []
  },
  {
   "cell_type": "code",
   "execution_count": null,
   "id": "b660cb88-9656-4341-9415-d06851558061",
   "metadata": {},
   "outputs": [],
   "source": []
  },
  {
   "cell_type": "code",
   "execution_count": null,
   "id": "2879ca25-34d0-4532-918c-56238bc5be6e",
   "metadata": {},
   "outputs": [],
   "source": []
  }
 ],
 "metadata": {
  "kernelspec": {
   "display_name": "Python 3 (ipykernel)",
   "language": "python",
   "name": "python3"
  },
  "language_info": {
   "codemirror_mode": {
    "name": "ipython",
    "version": 3
   },
   "file_extension": ".py",
   "mimetype": "text/x-python",
   "name": "python",
   "nbconvert_exporter": "python",
   "pygments_lexer": "ipython3",
   "version": "3.9.12"
  }
 },
 "nbformat": 4,
 "nbformat_minor": 5
}
