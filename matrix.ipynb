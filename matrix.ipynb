{
 "cells": [
  {
   "cell_type": "code",
   "execution_count": 1,
   "id": "696175c9-278e-4ec3-96ae-d819f44cf808",
   "metadata": {
    "execution": {
     "iopub.execute_input": "2023-05-10T01:39:31.272130Z",
     "iopub.status.busy": "2023-05-10T01:39:31.272130Z",
     "iopub.status.idle": "2023-05-10T01:39:37.640274Z",
     "shell.execute_reply": "2023-05-10T01:39:37.639344Z",
     "shell.execute_reply.started": "2023-05-10T01:39:31.272130Z"
    },
    "tags": []
   },
   "outputs": [
    {
     "name": "stdout",
     "output_type": "stream",
     "text": [
      "Ready: 2023-05-10 04:39:37\n"
     ]
    }
   ],
   "source": [
    "%run functions.ipynb"
   ]
  },
  {
   "cell_type": "code",
   "execution_count": 2,
   "id": "c5b1c113-788d-4860-a7a6-d01284b26058",
   "metadata": {
    "execution": {
     "iopub.execute_input": "2023-05-10T01:39:37.642274Z",
     "iopub.status.busy": "2023-05-10T01:39:37.642274Z",
     "iopub.status.idle": "2023-05-10T01:39:47.196365Z",
     "shell.execute_reply": "2023-05-10T01:39:47.196365Z",
     "shell.execute_reply.started": "2023-05-10T01:39:37.642274Z"
    },
    "tags": []
   },
   "outputs": [
    {
     "data": {
      "text/html": [
       "\n",
       "            <div>\n",
       "                <p><b>SparkSession - in-memory</b></p>\n",
       "                \n",
       "        <div>\n",
       "            <p><b>SparkContext</b></p>\n",
       "\n",
       "            <p><a href=\"http://host.docker.internal:4040\">Spark UI</a></p>\n",
       "\n",
       "            <dl>\n",
       "              <dt>Version</dt>\n",
       "                <dd><code>v3.3.1</code></dd>\n",
       "              <dt>Master</dt>\n",
       "                <dd><code>local[*]</code></dd>\n",
       "              <dt>AppName</dt>\n",
       "                <dd><code>app</code></dd>\n",
       "            </dl>\n",
       "        </div>\n",
       "        \n",
       "            </div>\n",
       "        "
      ],
      "text/plain": [
       "<pyspark.sql.session.SparkSession at 0x2216426daf0>"
      ]
     },
     "execution_count": 2,
     "metadata": {},
     "output_type": "execute_result"
    }
   ],
   "source": [
    "findspark.init()\n",
    "from pyspark.sql import SparkSession\n",
    "try:\n",
    "    spark.stop()\n",
    "except:\n",
    "    pass\n",
    "spark = SparkSession.builder\\\n",
    "        .master(\"local[*]\")\\\n",
    "        .appName('app')\\\n",
    "        .getOrCreate()\n",
    "\n",
    "spark"
   ]
  },
  {
   "cell_type": "markdown",
   "id": "50227101-ff4a-4726-bd01-6bf1da916bea",
   "metadata": {},
   "source": [
    "# Москва"
   ]
  },
  {
   "cell_type": "code",
   "execution_count": 6,
   "id": "2ff2e085-24cd-4dc1-bd89-cfaa08dfadcb",
   "metadata": {
    "execution": {
     "iopub.execute_input": "2023-04-15T17:42:51.728338Z",
     "iopub.status.busy": "2023-04-15T17:42:51.728338Z",
     "iopub.status.idle": "2023-04-15T17:42:51.733683Z",
     "shell.execute_reply": "2023-04-15T17:42:51.733683Z",
     "shell.execute_reply.started": "2023-04-15T17:42:51.728338Z"
    },
    "tags": []
   },
   "outputs": [],
   "source": [
    "file = r\"C:\\Users\\Mamed\\YandexDisk\\_Documents\\Проекты\\2ГИС 2023\\_Backups\\Мастер_таблица_2ГИС_Москва_230315_1745.xlsx\"\n",
    "city = 'moscow'"
   ]
  },
  {
   "cell_type": "code",
   "execution_count": 7,
   "id": "454469e0-6cb3-48fe-bda7-cb8843e8d956",
   "metadata": {
    "execution": {
     "iopub.execute_input": "2023-04-15T17:42:52.427061Z",
     "iopub.status.busy": "2023-04-15T17:42:52.427061Z",
     "iopub.status.idle": "2023-04-15T17:42:52.434307Z",
     "shell.execute_reply": "2023-04-15T17:42:52.434057Z",
     "shell.execute_reply.started": "2023-04-15T17:42:52.427061Z"
    },
    "tags": []
   },
   "outputs": [
    {
     "data": {
      "text/plain": [
       "<matplotlib.pyplot._IoffContext at 0x221a1e468b0>"
      ]
     },
     "execution_count": 7,
     "metadata": {},
     "output_type": "execute_result"
    }
   ],
   "source": [
    "plt.ioff()"
   ]
  },
  {
   "cell_type": "code",
   "execution_count": 10,
   "id": "93989c4f-f4d0-4059-a109-70d53e2b4cf9",
   "metadata": {
    "collapsed": true,
    "execution": {
     "iopub.execute_input": "2023-04-15T17:49:22.319964Z",
     "iopub.status.busy": "2023-04-15T17:49:22.319964Z",
     "iopub.status.idle": "2023-04-15T18:10:23.613794Z",
     "shell.execute_reply": "2023-04-15T18:10:23.613794Z",
     "shell.execute_reply.started": "2023-04-15T17:49:22.319964Z"
    },
    "jupyter": {
     "outputs_hidden": true
    },
    "tags": []
   },
   "outputs": [
    {
     "name": "stdout",
     "output_type": "stream",
     "text": [
      "files/moscow/moscow_shars_230415_2049.docx\n"
     ]
    },
    {
     "name": "stderr",
     "output_type": "stream",
     "text": [
      " 17%|█████████████▊                                                                   | 17/100 [02:07<11:41,  8.45s/it]C:\\Users\\Mamed\\Anaconda\\lib\\site-packages\\matplotlib\\axes\\_base.py:2475: UserWarning: Warning: converting a masked element to nan.\n",
      "  xys = np.asarray(xys)\n",
      " 28%|██████████████████████▋                                                          | 28/100 [03:50<11:32,  9.62s/it]C:\\Users\\Mamed\\Anaconda\\lib\\site-packages\\matplotlib\\axes\\_base.py:2475: UserWarning: Warning: converting a masked element to nan.\n",
      "  xys = np.asarray(xys)\n",
      " 38%|██████████████████████████████▊                                                  | 38/100 [05:37<10:27, 10.11s/it]C:\\Users\\Mamed\\Anaconda\\lib\\site-packages\\matplotlib\\axes\\_base.py:2475: UserWarning: Warning: converting a masked element to nan.\n",
      "  xys = np.asarray(xys)\n",
      " 40%|████████████████████████████████▍                                                | 40/100 [05:58<10:33, 10.55s/it]C:\\Users\\Mamed\\Anaconda\\lib\\site-packages\\matplotlib\\axes\\_base.py:2475: UserWarning: Warning: converting a masked element to nan.\n",
      "  xys = np.asarray(xys)\n",
      " 49%|███████████████████████████████████████▋                                         | 49/100 [07:47<10:06, 11.90s/it]C:\\Users\\Mamed\\Anaconda\\lib\\site-packages\\matplotlib\\axes\\_base.py:2475: UserWarning: Warning: converting a masked element to nan.\n",
      "  xys = np.asarray(xys)\n",
      " 53%|██████████████████████████████████████████▉                                      | 53/100 [08:37<09:43, 12.41s/it]C:\\Users\\Mamed\\Anaconda\\lib\\site-packages\\matplotlib\\axes\\_base.py:2475: UserWarning: Warning: converting a masked element to nan.\n",
      "  xys = np.asarray(xys)\n",
      " 59%|███████████████████████████████████████████████▊                                 | 59/100 [09:56<09:05, 13.31s/it]C:\\Users\\Mamed\\Anaconda\\lib\\site-packages\\matplotlib\\axes\\_base.py:2475: UserWarning: Warning: converting a masked element to nan.\n",
      "  xys = np.asarray(xys)\n",
      " 66%|█████████████████████████████████████████████████████▍                           | 66/100 [11:39<08:18, 14.66s/it]C:\\Users\\Mamed\\Anaconda\\lib\\site-packages\\matplotlib\\axes\\_base.py:2475: UserWarning: Warning: converting a masked element to nan.\n",
      "  xys = np.asarray(xys)\n",
      " 72%|██████████████████████████████████████████████████████████▎                      | 72/100 [13:11<06:59, 14.99s/it]C:\\Users\\Mamed\\Anaconda\\lib\\site-packages\\matplotlib\\axes\\_base.py:2475: UserWarning: Warning: converting a masked element to nan.\n",
      "  xys = np.asarray(xys)\n",
      " 79%|███████████████████████████████████████████████████████████████▉                 | 79/100 [14:50<04:59, 14.28s/it]C:\\Users\\Mamed\\Anaconda\\lib\\site-packages\\matplotlib\\axes\\_base.py:2475: UserWarning: Warning: converting a masked element to nan.\n",
      "  xys = np.asarray(xys)\n",
      " 91%|█████████████████████████████████████████████████████████████████████████▋       | 91/100 [18:37<03:27, 23.11s/it]C:\\Users\\Mamed\\Anaconda\\lib\\site-packages\\matplotlib\\axes\\_base.py:2475: UserWarning: Warning: converting a masked element to nan.\n",
      "  xys = np.asarray(xys)\n",
      "100%|████████████████████████████████████████████████████████████████████████████████| 100/100 [21:01<00:00, 12.61s/it]\n"
     ]
    }
   ],
   "source": [
    "plot_matrix(file, city, cnt_graphics=100, cnt_shars=12, step=1)"
   ]
  },
  {
   "cell_type": "markdown",
   "id": "487c51a3-fc2f-483c-8df9-6a3847305753",
   "metadata": {},
   "source": [
    "# Новосибирск"
   ]
  },
  {
   "cell_type": "code",
   "execution_count": 13,
   "id": "dd1a1fe2-6285-49ba-9294-0264236c1ee0",
   "metadata": {
    "execution": {
     "iopub.execute_input": "2023-04-15T20:47:08.795240Z",
     "iopub.status.busy": "2023-04-15T20:47:08.794243Z",
     "iopub.status.idle": "2023-04-15T20:47:08.814240Z",
     "shell.execute_reply": "2023-04-15T20:47:08.813238Z",
     "shell.execute_reply.started": "2023-04-15T20:47:08.795240Z"
    },
    "tags": []
   },
   "outputs": [],
   "source": [
    "file = r\"C:\\Users\\Mamed\\YandexDisk\\_Documents\\Проекты\\2ГИС 2023\\_Backups\\Таблица_2ГИС_Новосибирск_Рейтинги_230317_1245.xlsx\"\n",
    "city = 'novosibirsk'"
   ]
  },
  {
   "cell_type": "code",
   "execution_count": 22,
   "id": "fe48c637-efac-43be-822e-2dca3e190833",
   "metadata": {
    "execution": {
     "iopub.execute_input": "2023-04-15T21:49:03.763882Z",
     "iopub.status.busy": "2023-04-15T21:49:03.763882Z",
     "iopub.status.idle": "2023-04-15T21:49:03.772887Z",
     "shell.execute_reply": "2023-04-15T21:49:03.771937Z",
     "shell.execute_reply.started": "2023-04-15T21:49:03.763882Z"
    },
    "tags": []
   },
   "outputs": [
    {
     "data": {
      "text/plain": [
       "<matplotlib.pyplot._IoffContext at 0x221ac5bfd30>"
      ]
     },
     "execution_count": 22,
     "metadata": {},
     "output_type": "execute_result"
    }
   ],
   "source": [
    "plt.ioff()"
   ]
  },
  {
   "cell_type": "code",
   "execution_count": 15,
   "id": "ddabb745-0993-4259-a07f-6c3769a53591",
   "metadata": {
    "collapsed": true,
    "execution": {
     "iopub.execute_input": "2023-04-15T20:47:14.105450Z",
     "iopub.status.busy": "2023-04-15T20:47:14.105450Z",
     "iopub.status.idle": "2023-04-15T21:16:17.326278Z",
     "shell.execute_reply": "2023-04-15T21:16:17.325377Z",
     "shell.execute_reply.started": "2023-04-15T20:47:14.105450Z"
    },
    "jupyter": {
     "outputs_hidden": true
    },
    "tags": []
   },
   "outputs": [
    {
     "name": "stdout",
     "output_type": "stream",
     "text": [
      "files/novosibirsk/novosibirsk_shars_230415_2347.docx\n"
     ]
    },
    {
     "name": "stderr",
     "output_type": "stream",
     "text": [
      " 45%|████████████████████████████████████▍                                            | 45/100 [14:17<12:21, 13.49s/it]C:\\Users\\Mamed\\Anaconda\\lib\\site-packages\\matplotlib\\axes\\_base.py:2475: UserWarning: Warning: converting a masked element to nan.\n",
      "  xys = np.asarray(xys)\n",
      " 67%|██████████████████████████████████████████████████████▎                          | 67/100 [19:59<08:37, 15.67s/it]C:\\Users\\Mamed\\Anaconda\\lib\\site-packages\\matplotlib\\axes\\_base.py:2475: UserWarning: Warning: converting a masked element to nan.\n",
      "  xys = np.asarray(xys)\n",
      " 68%|███████████████████████████████████████████████████████                          | 68/100 [20:14<08:19, 15.61s/it]C:\\Users\\Mamed\\Anaconda\\lib\\site-packages\\matplotlib\\axes\\_base.py:2475: UserWarning: Warning: converting a masked element to nan.\n",
      "  xys = np.asarray(xys)\n",
      " 95%|████████████████████████████████████████████████████████████████████████████▉    | 95/100 [27:28<01:28, 17.63s/it]C:\\Users\\Mamed\\Anaconda\\lib\\site-packages\\matplotlib\\axes\\_base.py:2475: UserWarning: Warning: converting a masked element to nan.\n",
      "  xys = np.asarray(xys)\n",
      " 98%|███████████████████████████████████████████████████████████████████████████████▍ | 98/100 [28:25<00:37, 18.82s/it]C:\\Users\\Mamed\\Anaconda\\lib\\site-packages\\matplotlib\\axes\\_base.py:2475: UserWarning: Warning: converting a masked element to nan.\n",
      "  xys = np.asarray(xys)\n",
      "100%|████████████████████████████████████████████████████████████████████████████████| 100/100 [29:03<00:00, 17.43s/it]\n"
     ]
    }
   ],
   "source": [
    "plot_matrix(file, city, cnt_graphics=100, cnt_shars=12, step=1)"
   ]
  },
  {
   "cell_type": "markdown",
   "id": "e8514cc3-7b1c-402b-9b70-1b10b8cb388c",
   "metadata": {
    "tags": []
   },
   "source": [
    "# Алматы"
   ]
  },
  {
   "cell_type": "code",
   "execution_count": 25,
   "id": "2879ca25-34d0-4532-918c-56238bc5be6e",
   "metadata": {
    "execution": {
     "iopub.execute_input": "2023-04-15T21:49:36.132947Z",
     "iopub.status.busy": "2023-04-15T21:49:36.131915Z",
     "iopub.status.idle": "2023-04-15T21:49:36.150434Z",
     "shell.execute_reply": "2023-04-15T21:49:36.149437Z",
     "shell.execute_reply.started": "2023-04-15T21:49:36.132947Z"
    },
    "tags": []
   },
   "outputs": [],
   "source": [
    "file = r\"files/almati/almata_svod_230324_0030.xlsx\"\n",
    "city = 'almati'"
   ]
  },
  {
   "cell_type": "code",
   "execution_count": 26,
   "id": "10ee80cc-8216-413b-9320-e9d1efd04081",
   "metadata": {
    "collapsed": true,
    "execution": {
     "iopub.execute_input": "2023-04-15T21:49:36.829925Z",
     "iopub.status.busy": "2023-04-15T21:49:36.829925Z",
     "iopub.status.idle": "2023-04-15T22:01:14.246800Z",
     "shell.execute_reply": "2023-04-15T22:01:14.245879Z",
     "shell.execute_reply.started": "2023-04-15T21:49:36.829925Z"
    },
    "jupyter": {
     "outputs_hidden": true
    },
    "tags": []
   },
   "outputs": [
    {
     "name": "stdout",
     "output_type": "stream",
     "text": [
      "files/almati/almati_shars_230416_0049.docx\n"
     ]
    },
    {
     "name": "stderr",
     "output_type": "stream",
     "text": [
      "  0%|                                                                                          | 0/100 [00:00<?, ?it/s]C:\\Users\\Mamed\\Anaconda\\lib\\site-packages\\matplotlib\\axes\\_base.py:2475: UserWarning: Warning: converting a masked element to nan.\n",
      "  xys = np.asarray(xys)\n",
      "  1%|▊                                                                                 | 1/100 [00:01<02:44,  1.66s/it]C:\\Users\\Mamed\\Anaconda\\lib\\site-packages\\matplotlib\\axes\\_base.py:2475: UserWarning: Warning: converting a masked element to nan.\n",
      "  xys = np.asarray(xys)\n",
      "  2%|█▋                                                                                | 2/100 [00:04<03:32,  2.17s/it]C:\\Users\\Mamed\\Anaconda\\lib\\site-packages\\matplotlib\\axes\\_base.py:2475: UserWarning: Warning: converting a masked element to nan.\n",
      "  xys = np.asarray(xys)\n",
      "  7%|█████▋                                                                            | 7/100 [00:26<07:29,  4.83s/it]C:\\Users\\Mamed\\Anaconda\\lib\\site-packages\\matplotlib\\axes\\_base.py:2475: UserWarning: Warning: converting a masked element to nan.\n",
      "  xys = np.asarray(xys)\n",
      " 13%|██████████▌                                                                      | 13/100 [00:57<07:10,  4.94s/it]C:\\Users\\Mamed\\Anaconda\\lib\\site-packages\\matplotlib\\axes\\_base.py:2475: UserWarning: Warning: converting a masked element to nan.\n",
      "  xys = np.asarray(xys)\n",
      " 19%|███████████████▍                                                                 | 19/100 [01:26<06:29,  4.81s/it]C:\\Users\\Mamed\\Anaconda\\lib\\site-packages\\matplotlib\\axes\\_base.py:2475: UserWarning: Warning: converting a masked element to nan.\n",
      "  xys = np.asarray(xys)\n",
      " 20%|████████████████▏                                                                | 20/100 [01:31<06:23,  4.79s/it]C:\\Users\\Mamed\\Anaconda\\lib\\site-packages\\matplotlib\\axes\\_base.py:2475: UserWarning: Warning: converting a masked element to nan.\n",
      "  xys = np.asarray(xys)\n",
      " 28%|██████████████████████▋                                                          | 28/100 [02:11<06:03,  5.05s/it]C:\\Users\\Mamed\\Anaconda\\lib\\site-packages\\matplotlib\\axes\\_base.py:2475: UserWarning: Warning: converting a masked element to nan.\n",
      "  xys = np.asarray(xys)\n",
      " 31%|█████████████████████████                                                        | 31/100 [02:28<06:09,  5.35s/it]C:\\Users\\Mamed\\Anaconda\\lib\\site-packages\\matplotlib\\axes\\_base.py:2475: UserWarning: Warning: converting a masked element to nan.\n",
      "  xys = np.asarray(xys)\n",
      " 33%|██████████████████████████▋                                                      | 33/100 [02:40<06:25,  5.76s/it]C:\\Users\\Mamed\\Anaconda\\lib\\site-packages\\matplotlib\\axes\\_base.py:2475: UserWarning: Warning: converting a masked element to nan.\n",
      "  xys = np.asarray(xys)\n",
      " 38%|██████████████████████████████▊                                                  | 38/100 [03:11<06:11,  6.00s/it]C:\\Users\\Mamed\\Anaconda\\lib\\site-packages\\matplotlib\\axes\\_base.py:2475: UserWarning: Warning: converting a masked element to nan.\n",
      "  xys = np.asarray(xys)\n",
      " 39%|███████████████████████████████▌                                                 | 39/100 [03:18<06:20,  6.23s/it]C:\\Users\\Mamed\\Anaconda\\lib\\site-packages\\matplotlib\\axes\\_base.py:2475: UserWarning: Warning: converting a masked element to nan.\n",
      "  xys = np.asarray(xys)\n",
      " 40%|████████████████████████████████▍                                                | 40/100 [03:24<06:22,  6.37s/it]C:\\Users\\Mamed\\Anaconda\\lib\\site-packages\\matplotlib\\axes\\_base.py:2475: UserWarning: Warning: converting a masked element to nan.\n",
      "  xys = np.asarray(xys)\n",
      " 42%|██████████████████████████████████                                               | 42/100 [03:37<06:05,  6.30s/it]C:\\Users\\Mamed\\Anaconda\\lib\\site-packages\\matplotlib\\axes\\_base.py:2475: UserWarning: Warning: converting a masked element to nan.\n",
      "  xys = np.asarray(xys)\n",
      " 50%|████████████████████████████████████████▌                                        | 50/100 [04:40<06:30,  7.81s/it]C:\\Users\\Mamed\\Anaconda\\lib\\site-packages\\matplotlib\\axes\\_base.py:2475: UserWarning: Warning: converting a masked element to nan.\n",
      "  xys = np.asarray(xys)\n",
      " 51%|█████████████████████████████████████████▎                                       | 51/100 [04:47<06:15,  7.66s/it]C:\\Users\\Mamed\\Anaconda\\lib\\site-packages\\matplotlib\\axes\\_base.py:2475: UserWarning: Warning: converting a masked element to nan.\n",
      "  xys = np.asarray(xys)\n",
      " 52%|██████████████████████████████████████████                                       | 52/100 [04:56<06:18,  7.89s/it]C:\\Users\\Mamed\\Anaconda\\lib\\site-packages\\matplotlib\\axes\\_base.py:2475: UserWarning: Warning: converting a masked element to nan.\n",
      "  xys = np.asarray(xys)\n",
      " 54%|███████████████████████████████████████████▋                                     | 54/100 [05:11<05:53,  7.68s/it]C:\\Users\\Mamed\\Anaconda\\lib\\site-packages\\matplotlib\\axes\\_base.py:2475: UserWarning: Warning: converting a masked element to nan.\n",
      "  xys = np.asarray(xys)\n",
      " 59%|███████████████████████████████████████████████▊                                 | 59/100 [05:53<06:03,  8.85s/it]C:\\Users\\Mamed\\Anaconda\\lib\\site-packages\\matplotlib\\axes\\_base.py:2475: UserWarning: Warning: converting a masked element to nan.\n",
      "  xys = np.asarray(xys)\n",
      " 60%|████████████████████████████████████████████████▌                                | 60/100 [06:00<05:32,  8.32s/it]C:\\Users\\Mamed\\Anaconda\\lib\\site-packages\\matplotlib\\axes\\_base.py:2475: UserWarning: Warning: converting a masked element to nan.\n",
      "  xys = np.asarray(xys)\n",
      " 64%|███████████████████████████████████████████████████▊                             | 64/100 [06:30<04:38,  7.73s/it]C:\\Users\\Mamed\\Anaconda\\lib\\site-packages\\matplotlib\\axes\\_base.py:2475: UserWarning: Warning: converting a masked element to nan.\n",
      "  xys = np.asarray(xys)\n",
      " 65%|████████████████████████████████████████████████████▋                            | 65/100 [06:37<04:27,  7.65s/it]C:\\Users\\Mamed\\Anaconda\\lib\\site-packages\\matplotlib\\axes\\_base.py:2475: UserWarning: Warning: converting a masked element to nan.\n",
      "  xys = np.asarray(xys)\n",
      " 68%|███████████████████████████████████████████████████████                          | 68/100 [06:59<03:58,  7.44s/it]C:\\Users\\Mamed\\Anaconda\\lib\\site-packages\\matplotlib\\axes\\_base.py:2475: UserWarning: Warning: converting a masked element to nan.\n",
      "  xys = np.asarray(xys)\n",
      " 70%|████████████████████████████████████████████████████████▋                        | 70/100 [07:15<03:45,  7.51s/it]C:\\Users\\Mamed\\Anaconda\\lib\\site-packages\\matplotlib\\axes\\_base.py:2475: UserWarning: Warning: converting a masked element to nan.\n",
      "  xys = np.asarray(xys)\n",
      " 78%|███████████████████████████████████████████████████████████████▏                 | 78/100 [08:18<02:57,  8.05s/it]C:\\Users\\Mamed\\Anaconda\\lib\\site-packages\\matplotlib\\axes\\_base.py:2475: UserWarning: Warning: converting a masked element to nan.\n",
      "  xys = np.asarray(xys)\n",
      " 85%|████████████████████████████████████████████████████████████████████▊            | 85/100 [09:20<02:15,  9.02s/it]C:\\Users\\Mamed\\Anaconda\\lib\\site-packages\\matplotlib\\axes\\_base.py:2475: UserWarning: Warning: converting a masked element to nan.\n",
      "  xys = np.asarray(xys)\n",
      " 95%|████████████████████████████████████████████████████████████████████████████▉    | 95/100 [10:50<00:45,  9.06s/it]C:\\Users\\Mamed\\Anaconda\\lib\\site-packages\\matplotlib\\axes\\_base.py:2475: UserWarning: Warning: converting a masked element to nan.\n",
      "  xys = np.asarray(xys)\n",
      "100%|████████████████████████████████████████████████████████████████████████████████| 100/100 [11:37<00:00,  6.97s/it]\n"
     ]
    }
   ],
   "source": [
    "plot_matrix(file, city, cnt_graphics=100, cnt_shars=12, step=1)"
   ]
  },
  {
   "cell_type": "code",
   "execution_count": null,
   "id": "1a84450b-ef7a-4d80-b995-4ef454a44289",
   "metadata": {},
   "outputs": [],
   "source": [
    "files/almati/almati_shars_230416_0049.docx"
   ]
  },
  {
   "cell_type": "markdown",
   "id": "c50fc1f5-9fe3-41b8-9cb9-9c30273b42f5",
   "metadata": {},
   "source": [
    "# Астана"
   ]
  },
  {
   "cell_type": "code",
   "execution_count": 33,
   "id": "67552117-0237-45d9-9be4-b5b9c58dfe82",
   "metadata": {
    "execution": {
     "iopub.execute_input": "2023-04-15T22:03:00.164287Z",
     "iopub.status.busy": "2023-04-15T22:03:00.164287Z",
     "iopub.status.idle": "2023-04-15T22:03:00.177286Z",
     "shell.execute_reply": "2023-04-15T22:03:00.176287Z",
     "shell.execute_reply.started": "2023-04-15T22:03:00.164287Z"
    },
    "tags": []
   },
   "outputs": [],
   "source": [
    "file = r\"C:\\Users\\Mamed\\_Notebooks\\2GIS_2023\\files\\astana\\Мастер_таблица_2ГИС_Астана_230409_1645.xlsx\"\n",
    "city = 'astana'"
   ]
  },
  {
   "cell_type": "code",
   "execution_count": 34,
   "id": "aff014a1-ed3d-4afd-8d02-0082af1d3a77",
   "metadata": {
    "execution": {
     "iopub.execute_input": "2023-04-15T22:03:00.610094Z",
     "iopub.status.busy": "2023-04-15T22:03:00.609096Z",
     "iopub.status.idle": "2023-04-15T22:54:32.660014Z",
     "shell.execute_reply": "2023-04-15T22:54:32.660014Z",
     "shell.execute_reply.started": "2023-04-15T22:03:00.610094Z"
    },
    "tags": []
   },
   "outputs": [
    {
     "name": "stdout",
     "output_type": "stream",
     "text": [
      "files/astana/astana_shars_230416_0103.docx\n"
     ]
    },
    {
     "name": "stderr",
     "output_type": "stream",
     "text": [
      " 71%|█████████████████████████████████████████████████████████▌                       | 71/100 [11:41<05:38, 11.68s/it]C:\\Users\\Mamed\\Anaconda\\lib\\site-packages\\matplotlib\\axes\\_base.py:2475: UserWarning: Warning: converting a masked element to nan.\n",
      "  xys = np.asarray(xys)\n",
      " 87%|█████████████████████████████████████████████████████████████████████▌          | 87/100 [48:35<24:52, 114.79s/it]C:\\Users\\Mamed\\Anaconda\\lib\\site-packages\\matplotlib\\axes\\_base.py:2475: UserWarning: Warning: converting a masked element to nan.\n",
      "  xys = np.asarray(xys)\n",
      " 88%|███████████████████████████████████████████████████████████████████████▎         | 88/100 [48:47<16:47, 83.93s/it]C:\\Users\\Mamed\\Anaconda\\lib\\site-packages\\matplotlib\\axes\\_base.py:2475: UserWarning: Warning: converting a masked element to nan.\n",
      "  xys = np.asarray(xys)\n",
      " 91%|█████████████████████████████████████████████████████████████████████████▋       | 91/100 [49:28<05:40, 37.79s/it]C:\\Users\\Mamed\\Anaconda\\lib\\site-packages\\matplotlib\\axes\\_base.py:2475: UserWarning: Warning: converting a masked element to nan.\n",
      "  xys = np.asarray(xys)\n",
      " 99%|████████████████████████████████████████████████████████████████████████████████▏| 99/100 [51:17<00:15, 15.04s/it]C:\\Users\\Mamed\\Anaconda\\lib\\site-packages\\matplotlib\\axes\\_base.py:2475: UserWarning: Warning: converting a masked element to nan.\n",
      "  xys = np.asarray(xys)\n",
      "100%|████████████████████████████████████████████████████████████████████████████████| 100/100 [51:32<00:00, 30.92s/it]\n"
     ]
    }
   ],
   "source": [
    "plot_matrix(file, city, cnt_graphics=100, cnt_shars=12, step=1)"
   ]
  },
  {
   "cell_type": "code",
   "execution_count": null,
   "id": "59ae5575-ccde-4d1f-bfa1-cd38429aea62",
   "metadata": {},
   "outputs": [],
   "source": [
    "files/astana/astana_shars_230416_0103.docx"
   ]
  },
  {
   "cell_type": "markdown",
   "id": "64cb2302-9931-49e6-bafa-68a2b9f7d990",
   "metadata": {},
   "source": [
    "# Калининград"
   ]
  },
  {
   "cell_type": "code",
   "execution_count": 37,
   "id": "901653ec-836d-4360-8f1a-b74493993df7",
   "metadata": {
    "execution": {
     "iopub.execute_input": "2023-04-15T23:14:12.434715Z",
     "iopub.status.busy": "2023-04-15T23:14:12.433664Z",
     "iopub.status.idle": "2023-04-15T23:14:12.442155Z",
     "shell.execute_reply": "2023-04-15T23:14:12.442155Z",
     "shell.execute_reply.started": "2023-04-15T23:14:12.434715Z"
    },
    "tags": []
   },
   "outputs": [],
   "source": [
    "file = r\"C:\\Users\\Mamed\\YandexDisk\\_Documents\\Проекты\\2ГИС 2023\\Калининград\\Мастер_таблица_2ГИС_Калининград_230412_2345.xlsx\"\n",
    "city = 'kaliningrad'"
   ]
  },
  {
   "cell_type": "code",
   "execution_count": null,
   "id": "43a96db5-b7ec-4615-8305-c953321a2103",
   "metadata": {
    "execution": {
     "iopub.execute_input": "2023-04-15T22:54:32.692935Z",
     "iopub.status.busy": "2023-04-15T22:54:32.692935Z",
     "iopub.status.idle": "2023-04-15T23:13:26.067946Z"
    }
   },
   "outputs": [],
   "source": [
    "plot_matrix(file, city, cnt_graphics=100, cnt_shars=12, step=1)"
   ]
  },
  {
   "cell_type": "code",
   "execution_count": null,
   "id": "db1c6079-89ab-4efc-ba29-2f9a10bea5d5",
   "metadata": {},
   "outputs": [],
   "source": [
    "files/kaliningrad/kaliningrad_shars_230416_0154.docx"
   ]
  },
  {
   "cell_type": "code",
   "execution_count": null,
   "id": "b9f14c0b-2252-4f57-84d9-686136b0c9c7",
   "metadata": {},
   "outputs": [],
   "source": [
    "Заготовка_матрицы_2ГИС_ШТ_Калининград_230416_0230.docx"
   ]
  },
  {
   "cell_type": "code",
   "execution_count": null,
   "id": "a1305628-0cb0-4ee8-9619-e6eb91c98abf",
   "metadata": {},
   "outputs": [],
   "source": []
  },
  {
   "cell_type": "markdown",
   "id": "6833aa67-cf3e-4d25-a417-da74fe1ffaf2",
   "metadata": {},
   "source": [
    "# 10 городов"
   ]
  },
  {
   "cell_type": "code",
   "execution_count": null,
   "id": "317ec3a7-cdd0-44bd-a240-56606c88a9f6",
   "metadata": {
    "execution": {
     "iopub.execute_input": "2023-04-22T14:11:40.598789Z",
     "iopub.status.busy": "2023-04-22T14:11:40.598789Z",
     "iopub.status.idle": "2023-04-22T14:11:41.873220Z",
     "shell.execute_reply": "2023-04-22T14:11:41.872215Z",
     "shell.execute_reply.started": "2023-04-22T14:11:40.598789Z"
    },
    "tags": []
   },
   "outputs": [],
   "source": [
    "df_tx_grouped_filtered = spark.read.parquet(f\"files/ten_city/df_tx_grouped_filtered_ten_city\")\n",
    "df_tx_grouped_filtered.createOrReplaceTempView('df_tx_grouped_filtered')\n",
    "rubrics = spark.sql('''select distinct rubricName from df_tx_grouped_filtered''').collect()\n",
    "rubrics = [i.asDict()['rubricName'] for i in rubrics]\n",
    "rubrics = '(\"' + '\",\"'.join(rubrics) + '\")'"
   ]
  },
  {
   "cell_type": "code",
   "execution_count": null,
   "id": "78fd6a4e-3f6b-4e81-bc0e-25d3fee1b9bc",
   "metadata": {
    "execution": {
     "iopub.execute_input": "2023-04-22T05:35:39.831554Z",
     "iopub.status.busy": "2023-04-22T05:35:39.831554Z",
     "iopub.status.idle": "2023-04-22T07:12:16.275203Z",
     "shell.execute_reply": "2023-04-22T07:12:16.275203Z",
     "shell.execute_reply.started": "2023-04-22T05:35:39.831554Z"
    },
    "tags": []
   },
   "outputs": [
    {
     "name": "stderr",
     "output_type": "stream",
     "text": [
      "100%|███████████████████████████████████████████████████████████████████████████████| 40/40 [1:36:36<00:00, 144.90s/it]\n"
     ]
    }
   ],
   "source": [
    "df_schema = StructType([StructField('user', StringType(), True), StructField('proj', StringType(), True), StructField('rubricName', StringType(), True), StructField('rubricID', IntegerType(), True), StructField('time', StringType(), True), StructField('date', StringType(), True), StructField('org', StringType(), True), StructField('branch', StringType(), True), StructField('prod', StringType(), True), StructField('tx', StringType(), True), StructField('fl', StringType(), True), StructField('devmod', StringType(), True), StructField('lat', StringType(), True), StructField('lon', StringType(), True)])\n",
    "spark.read.option(\"header\",\"true\").csv(files_list_chain[0], schema=df_schema).where('1=0').write.mode('overwrite').parquet(f'files/ten_city/requests_for_shars')\n",
    "\n",
    "for file in tqdm(files_list_chain):\n",
    "    city = file.split('\\\\')[2]\n",
    "    final_df = spark.read.option(\"header\",\"true\").csv(file, schema=df_schema)\n",
    "    final_df.createOrReplaceTempView('df')\n",
    "    final_df = spark.sql(f'''\n",
    "        select rubricName, year(time) as year_r, \"{city}\" as city, count(*) cnt_requests\n",
    "        from df\n",
    "        where rubricName in {rubrics}\n",
    "        group by rubricName, year(time), \"{city}\"\n",
    "    ''')\n",
    "    \n",
    "    final_df.write.mode('append').parquet(f'files/ten_city/requests_for_shars')"
   ]
  },
  {
   "cell_type": "code",
   "execution_count": null,
   "id": "03b71823-faab-4281-a30f-4ad991540553",
   "metadata": {
    "execution": {
     "iopub.execute_input": "2023-04-22T17:58:23.974995Z",
     "iopub.status.busy": "2023-04-22T17:58:23.974995Z",
     "iopub.status.idle": "2023-04-22T18:14:33.809693Z",
     "shell.execute_reply": "2023-04-22T18:14:33.806853Z",
     "shell.execute_reply.started": "2023-04-22T17:58:23.974995Z"
    },
    "tags": []
   },
   "outputs": [
    {
     "name": "stdout",
     "output_type": "stream",
     "text": [
      "files/ten_city/ten_city_shars_230422_2058.docx\n"
     ]
    },
    {
     "name": "stderr",
     "output_type": "stream",
     "text": [
      "100%|████████████████████████████████████████████████████████████████████████████████| 100/100 [16:07<00:00,  9.68s/it]\n"
     ]
    }
   ],
   "source": [
    "mt = plot_matrix_cities()"
   ]
  },
  {
   "cell_type": "code",
   "execution_count": null,
   "id": "6e02bf8f-1975-4b72-bc98-c19d6988acb9",
   "metadata": {
    "execution": {
     "iopub.execute_input": "2023-04-22T18:14:33.820797Z",
     "iopub.status.busy": "2023-04-22T18:14:33.819694Z",
     "iopub.status.idle": "2023-04-22T18:14:34.199928Z",
     "shell.execute_reply": "2023-04-22T18:14:34.199051Z",
     "shell.execute_reply.started": "2023-04-22T18:14:33.820797Z"
    },
    "tags": []
   },
   "outputs": [],
   "source": [
    "mt.to_excel('files/ten_city/Таблица_матрицы_города_2ГИС_230422_2100.xlsx')"
   ]
  },
  {
   "cell_type": "code",
   "execution_count": null,
   "id": "129c83a5-20ae-4deb-aec5-30045f42ef11",
   "metadata": {
    "execution": {
     "iopub.execute_input": "2023-04-22T18:48:52.082144Z",
     "iopub.status.busy": "2023-04-22T18:48:52.082144Z",
     "iopub.status.idle": "2023-04-22T19:09:01.712839Z",
     "shell.execute_reply": "2023-04-22T19:09:01.712839Z",
     "shell.execute_reply.started": "2023-04-22T18:48:52.082144Z"
    },
    "tags": []
   },
   "outputs": [
    {
     "name": "stdout",
     "output_type": "stream",
     "text": [
      "files/ten_city/ten_city_shars_230422_2148.docx\n"
     ]
    },
    {
     "name": "stderr",
     "output_type": "stream",
     "text": [
      "100%|████████████████████████████████████████████████████████████████████████████████| 100/100 [20:09<00:00, 12.10s/it]\n"
     ]
    }
   ],
   "source": [
    "file = r\"C:\\Users\\Mamed\\YandexDisk\\_Documents\\Проекты\\2ГИС 2023\\10 городов\\Мастер_таблица_2ГИС_10_городов_230419_1700_ext.xlsx\"\n",
    "city = 'ten_city'\n",
    "\n",
    "mm = plot_matrix(file, city, cnt_graphics=100, cnt_shars=12, step=1)"
   ]
  },
  {
   "cell_type": "code",
   "execution_count": null,
   "id": "5c9f625c-ba5e-4bf8-9748-cc665d980666",
   "metadata": {
    "execution": {
     "iopub.execute_input": "2023-04-22T19:09:01.728481Z",
     "iopub.status.busy": "2023-04-22T19:09:01.727481Z",
     "iopub.status.idle": "2023-04-22T19:09:02.173154Z",
     "shell.execute_reply": "2023-04-22T19:09:02.173154Z",
     "shell.execute_reply.started": "2023-04-22T19:09:01.728481Z"
    },
    "tags": []
   },
   "outputs": [],
   "source": [
    "mm.to_excel('files/ten_city/Таблица_матрицы_рубрики_2ГИС_230422_2100.xlsx')"
   ]
  },
  {
   "cell_type": "markdown",
   "id": "646eecb9-1c51-4bfa-bc9c-f6780a97c530",
   "metadata": {},
   "source": [
    "# СПБ"
   ]
  },
  {
   "cell_type": "code",
   "execution_count": 3,
   "id": "910cc5c1-411a-4829-bb3f-99801bc407ef",
   "metadata": {
    "execution": {
     "iopub.execute_input": "2023-05-10T01:39:47.199717Z",
     "iopub.status.busy": "2023-05-10T01:39:47.199717Z",
     "iopub.status.idle": "2023-05-10T01:39:47.213711Z",
     "shell.execute_reply": "2023-05-10T01:39:47.211713Z",
     "shell.execute_reply.started": "2023-05-10T01:39:47.199717Z"
    },
    "tags": []
   },
   "outputs": [],
   "source": [
    "file = r\"C:\\Users\\Mamed\\_Notebooks\\2GIS_2023\\files\\spb\\Мастер_таблица_2ГИС_СПБ_230322_1245.xlsx\"\n",
    "city = 'spb'"
   ]
  },
  {
   "cell_type": "code",
   "execution_count": 4,
   "id": "b329bf4a-b907-42ff-a68f-b540f02dfa2b",
   "metadata": {
    "execution": {
     "iopub.execute_input": "2023-05-10T01:39:47.216719Z",
     "iopub.status.busy": "2023-05-10T01:39:47.215713Z",
     "iopub.status.idle": "2023-05-10T01:58:09.280457Z",
     "shell.execute_reply": "2023-05-10T01:58:09.280457Z",
     "shell.execute_reply.started": "2023-05-10T01:39:47.216719Z"
    },
    "tags": []
   },
   "outputs": [
    {
     "name": "stdout",
     "output_type": "stream",
     "text": [
      "files/spb/spb_shars_230510_0439.docx\n"
     ]
    },
    {
     "data": {
      "application/vnd.jupyter.widget-view+json": {
       "model_id": "05ed16ddbc5d48ffb3eee867513214ee",
       "version_major": 2,
       "version_minor": 0
      },
      "text/plain": [
       "  0%|          | 0/100 [00:00<?, ?it/s]"
      ]
     },
     "metadata": {},
     "output_type": "display_data"
    }
   ],
   "source": [
    "plot_matrix(file, city, cnt_graphics=100, cnt_shars=12, step=1)"
   ]
  },
  {
   "cell_type": "markdown",
   "id": "5dbcc280-90c5-415d-8548-e4d540ea1c17",
   "metadata": {},
   "source": [
    "# Владивосток"
   ]
  },
  {
   "cell_type": "code",
   "execution_count": 5,
   "id": "ee83cf9d-6240-4b7d-9565-14035a66981d",
   "metadata": {
    "execution": {
     "iopub.execute_input": "2023-05-10T01:58:09.280457Z",
     "iopub.status.busy": "2023-05-10T01:58:09.280457Z",
     "iopub.status.idle": "2023-05-10T01:58:09.312109Z",
     "shell.execute_reply": "2023-05-10T01:58:09.312109Z",
     "shell.execute_reply.started": "2023-05-10T01:58:09.280457Z"
    },
    "tags": []
   },
   "outputs": [],
   "source": [
    "file = r\"C:\\Users\\Mamed\\_Notebooks\\2GIS_2023\\files\\vladivostok\\master_file_vladivostok.xlsx\"\n",
    "city = 'vladivostok'"
   ]
  },
  {
   "cell_type": "code",
   "execution_count": 6,
   "id": "e4e94741-d118-4c5e-a696-48c877affe98",
   "metadata": {
    "execution": {
     "iopub.execute_input": "2023-05-10T01:58:09.312109Z",
     "iopub.status.busy": "2023-05-10T01:58:09.312109Z",
     "iopub.status.idle": "2023-05-10T02:19:19.386827Z",
     "shell.execute_reply": "2023-05-10T02:19:19.386827Z",
     "shell.execute_reply.started": "2023-05-10T01:58:09.312109Z"
    },
    "tags": []
   },
   "outputs": [
    {
     "name": "stdout",
     "output_type": "stream",
     "text": [
      "files/vladivostok/vladivostok_shars_230510_0458.docx\n"
     ]
    },
    {
     "data": {
      "application/vnd.jupyter.widget-view+json": {
       "model_id": "65ead497dc994db7994752d766379742",
       "version_major": 2,
       "version_minor": 0
      },
      "text/plain": [
       "  0%|          | 0/100 [00:00<?, ?it/s]"
      ]
     },
     "metadata": {},
     "output_type": "display_data"
    }
   ],
   "source": [
    "plot_matrix(file, city, cnt_graphics=100, cnt_shars=12, step=1)"
   ]
  },
  {
   "cell_type": "code",
   "execution_count": null,
   "id": "17e20d2d-9924-4f14-ac20-e31ad36ce80f",
   "metadata": {},
   "outputs": [],
   "source": []
  }
 ],
 "metadata": {
  "kernelspec": {
   "display_name": "Python 3 (ipykernel)",
   "language": "python",
   "name": "python3"
  },
  "language_info": {
   "codemirror_mode": {
    "name": "ipython",
    "version": 3
   },
   "file_extension": ".py",
   "mimetype": "text/x-python",
   "name": "python",
   "nbconvert_exporter": "python",
   "pygments_lexer": "ipython3",
   "version": "3.9.12"
  }
 },
 "nbformat": 4,
 "nbformat_minor": 5
}
